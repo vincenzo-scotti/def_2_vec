{
 "cells": [
  {
   "cell_type": "markdown",
   "id": "7ee5ea9f-7715-4e08-b572-fa8116eb67f4",
   "metadata": {
    "id": "7ee5ea9f-7715-4e08-b572-fa8116eb67f4"
   },
   "source": [
    "# Def2Vec\n",
    "\n",
    "This notebook shows usage examples of the [Def2Vec](https://aclanthology.org/2023.icnlsp-1.21) word embedding model"
   ]
  },
  {
   "cell_type": "markdown",
   "id": "bf357018-5db6-4509-8ae8-dd3784f9023e",
   "metadata": {
    "id": "bf357018-5db6-4509-8ae8-dd3784f9023e"
   },
   "source": [
    "## Environment preparation\n",
    "\n",
    "In the following we are going to do some preliminary steps:\n",
    "- Mounting drive (optional)\n",
    "- Installing dependancies\n",
    "- Importing packages"
   ]
  },
  {
   "cell_type": "markdown",
   "source": [
    "### Mount drive\n",
    "\n",
    "> **NOTE**\n",
    ">\n",
    "> This step is required only if you are running the notebook in Google Colab.\n",
    "\n",
    "Mount the Google Drive storage with the embedding model to load"
   ],
   "metadata": {
    "id": "oAlqJPNc_zjz"
   },
   "id": "oAlqJPNc_zjz"
  },
  {
   "cell_type": "code",
   "execution_count": null,
   "metadata": {
    "id": "IKB0LWYCWiku"
   },
   "outputs": [],
   "source": [
    "from google.colab import drive\n",
    "drive.mount('/content/drive')"
   ],
   "id": "IKB0LWYCWiku"
  },
  {
   "cell_type": "markdown",
   "source": [
    "Set the current working directory to the one with the embedding model to load"
   ],
   "metadata": {
    "id": "Y28IHKD2AXh7"
   },
   "id": "Y28IHKD2AXh7"
  },
  {
   "cell_type": "code",
   "execution_count": null,
   "metadata": {
    "id": "80PFRRJ5XsLD"
   },
   "outputs": [],
   "source": [
    "import os\n",
    "os.chdir('/content/drive/MyDrive/Def2Vec')  # Here should go the path to the directory with the embeddings\n",
    "os.getcwd()"
   ],
   "id": "80PFRRJ5XsLD"
  },
  {
   "cell_type": "markdown",
   "id": "809d9c7d-7c90-4144-b463-db21b2e21248",
   "metadata": {
    "id": "809d9c7d-7c90-4144-b463-db21b2e21248"
   },
   "source": [
    "### Install dependancies\n",
    "\n",
    "Install all the Python packages necessary to run this notebook"
   ]
  },
  {
   "cell_type": "code",
   "execution_count": null,
   "id": "65db5f1d-1eb1-4f52-8c90-1e819bd311d8",
   "metadata": {
    "id": "65db5f1d-1eb1-4f52-8c90-1e819bd311d8",
    "tags": []
   },
   "outputs": [],
   "source": [
    "!pip -q install numpy\n",
    "!pip -q install nltk\n",
    "!pip -q install POT\n",
    "!pip -q install gensim"
   ]
  },
  {
   "cell_type": "markdown",
   "id": "6cc87bcb-d94c-4060-8c2f-b13ab75fd3f4",
   "metadata": {
    "id": "6cc87bcb-d94c-4060-8c2f-b13ab75fd3f4"
   },
   "source": [
    "### Import packages\n",
    "\n",
    "Import all the Python packages necessary to run this example"
   ]
  },
  {
   "cell_type": "code",
   "execution_count": null,
   "id": "b582af4f-05fb-4085-aaa8-2d83ea0d9212",
   "metadata": {
    "id": "b582af4f-05fb-4085-aaa8-2d83ea0d9212",
    "tags": []
   },
   "outputs": [],
   "source": [
    "from gensim.models import KeyedVectors"
   ]
  },
  {
   "cell_type": "markdown",
   "source": [
    "## Load model\n",
    "\n",
    "Load the embedding model"
   ],
   "metadata": {
    "id": "28Epdcub_kbF"
   },
   "id": "28Epdcub_kbF"
  },
  {
   "cell_type": "code",
   "source": [
    "path = './def2vec_en_wikitionary_300.kv'"
   ],
   "metadata": {
    "id": "Jm8lthcB_nNq"
   },
   "id": "Jm8lthcB_nNq",
   "execution_count": null,
   "outputs": []
  },
  {
   "cell_type": "code",
   "source": [
    "def_2_vec = def2vec = KeyedVectors.load(path)"
   ],
   "metadata": {
    "id": "XXlgy237_nRV"
   },
   "id": "XXlgy237_nRV",
   "execution_count": null,
   "outputs": []
  },
  {
   "cell_type": "markdown",
   "source": [
    "## Examples\n",
    "\n",
    "These examples are based on the examples of the *KeyedVectors* in the [Gensim](https://radimrehurek.com/gensim/index.html) package.\n",
    "Source: [link](https://radimrehurek.com/gensim/models/keyedvectors.html#what-can-i-do-with-word-vectors)."
   ],
   "metadata": {
    "id": "HNEKXclt47Dr"
   },
   "id": "HNEKXclt47Dr"
  },
  {
   "cell_type": "markdown",
   "source": [
    "### Embeddings extraction"
   ],
   "metadata": {
    "id": "NaDT4CHo9K0Z"
   },
   "id": "NaDT4CHo9K0Z"
  },
  {
   "cell_type": "code",
   "source": [
    "vector = def_2_vec['computer']  # numpy vector of a word\n",
    "print(vector.shape)"
   ],
   "metadata": {
    "id": "W2C8M9Ae9LAV"
   },
   "id": "W2C8M9Ae9LAV",
   "execution_count": null,
   "outputs": []
  },
  {
   "cell_type": "markdown",
   "source": [
    "Apply normalisation"
   ],
   "metadata": {
    "id": "CiZOpo-O9Vdi"
   },
   "id": "CiZOpo-O9Vdi"
  },
  {
   "cell_type": "code",
   "source": [
    "vector = def_2_vec.get_vector('office', norm=True)\n",
    "print(sum(vector ** 2))"
   ],
   "metadata": {
    "id": "g1UFKnLX9VyJ"
   },
   "id": "g1UFKnLX9VyJ",
   "execution_count": null,
   "outputs": []
  },
  {
   "cell_type": "markdown",
   "source": [
    "### Analogies\n",
    "\n",
    "Find the word that could solve the analogy."
   ],
   "metadata": {
    "id": "WGm32rms5z4O"
   },
   "id": "WGm32rms5z4O"
  },
  {
   "cell_type": "markdown",
   "source": [
    "Using the default *cosine similarity* measure."
   ],
   "metadata": {
    "id": "5lIXJIbx6Tmg"
   },
   "id": "5lIXJIbx6Tmg"
  },
  {
   "cell_type": "code",
   "source": [
    "result = def_2_vec.most_similar(positive=['woman', 'king'], negative=['man'])\n",
    "most_similar_key, similarity = result[0]  # look at the first match\n",
    "print(f\"{most_similar_key}: {similarity:.4f}\")"
   ],
   "metadata": {
    "id": "hZrHrvPg_nWc"
   },
   "id": "hZrHrvPg_nWc",
   "execution_count": null,
   "outputs": []
  },
  {
   "cell_type": "markdown",
   "source": [
    "Using a different similarity measure: *cosmul* and a ."
   ],
   "metadata": {
    "id": "oI49AzB-6GAR"
   },
   "id": "oI49AzB-6GAR"
  },
  {
   "cell_type": "code",
   "source": [
    "result = def_2_vec.most_similar_cosmul(positive=['woman', 'king'], negative=['man'])\n",
    "most_similar_key, similarity = result[0]  # look at the first match\n",
    "print(f\"{most_similar_key}: {similarity:.4f}\")"
   ],
   "metadata": {
    "id": "CawHlEvo_na5"
   },
   "id": "CawHlEvo_na5",
   "execution_count": null,
   "outputs": []
  },
  {
   "cell_type": "markdown",
   "source": [
    "### Outliers\n",
    "\n",
    "Identify outliers"
   ],
   "metadata": {
    "id": "n0E8WmaR6m18"
   },
   "id": "n0E8WmaR6m18"
  },
  {
   "cell_type": "code",
   "source": [
    "print(def_2_vec.doesnt_match(\"breakfast cereal dinner lunch\".split()))"
   ],
   "metadata": {
    "id": "0o6MAA-m_A4g"
   },
   "id": "0o6MAA-m_A4g",
   "execution_count": null,
   "outputs": []
  },
  {
   "cell_type": "markdown",
   "source": [
    "### Word similarity\n",
    "\n",
    "Compute word similarity"
   ],
   "metadata": {
    "id": "pEbLpqo56uCK"
   },
   "id": "pEbLpqo56uCK"
  },
  {
   "cell_type": "markdown",
   "source": [
    "Word pair"
   ],
   "metadata": {
    "id": "yQA00DEh85bH"
   },
   "id": "yQA00DEh85bH"
  },
  {
   "cell_type": "code",
   "source": [
    "similarity = def_2_vec.similarity('woman', 'man')\n",
    "print(similarity > 0.8)"
   ],
   "metadata": {
    "id": "IPbomV0n_BAq"
   },
   "id": "IPbomV0n_BAq",
   "execution_count": null,
   "outputs": []
  },
  {
   "cell_type": "markdown",
   "source": [
    "Multiple words"
   ],
   "metadata": {
    "id": "E9Opj3e584Pd"
   },
   "id": "E9Opj3e584Pd"
  },
  {
   "cell_type": "code",
   "source": [
    "similarity = def_2_vec.n_similarity(['sushi', 'shop'], ['japanese', 'restaurant'])\n",
    "print(f\"{similarity:.4f}\")"
   ],
   "metadata": {
    "id": "TYaRzugr84mZ"
   },
   "id": "TYaRzugr84mZ",
   "execution_count": null,
   "outputs": []
  },
  {
   "cell_type": "markdown",
   "source": [
    "### Search words\n",
    "\n",
    "Search for the most similar word(s)"
   ],
   "metadata": {
    "id": "arfOGU147gX1"
   },
   "id": "arfOGU147gX1"
  },
  {
   "cell_type": "code",
   "source": [
    "result = def_2_vec.similar_by_word(\"cat\")\n",
    "most_similar_key, similarity = result[0]  # look at the first match\n",
    "print(f\"{most_similar_key}: {similarity:.4f}\")"
   ],
   "metadata": {
    "id": "TLmklFCc7gsC"
   },
   "id": "TLmklFCc7gsC",
   "execution_count": null,
   "outputs": []
  },
  {
   "cell_type": "markdown",
   "source": [
    "### Words Mover's Distance\n",
    "\n",
    "Compute similarity between two sentences using the *Words Mover's Distance*"
   ],
   "metadata": {
    "id": "DiHKX_997hCV"
   },
   "id": "DiHKX_997hCV"
  },
  {
   "cell_type": "code",
   "source": [
    "sentence_1 = 'Obama speaks to the media in Illinois'.lower().split()\n",
    "sentence_2 = 'The president greets the press in Chicago'.lower().split()"
   ],
   "metadata": {
    "id": "XBFsO31h7hKC"
   },
   "id": "XBFsO31h7hKC",
   "execution_count": null,
   "outputs": []
  },
  {
   "cell_type": "code",
   "source": [
    "similarity = def_2_vec.wmdistance(sentence_1, sentence_2)\n",
    "print(f\"{similarity:.4f}\")"
   ],
   "metadata": {
    "id": "8P-U3cTP8Id6"
   },
   "id": "8P-U3cTP8Id6",
   "execution_count": null,
   "outputs": []
  },
  {
   "cell_type": "code",
   "source": [
    "distance = def_2_vec.distance(\"media\", \"media\")\n",
    "print(f\"{distance:.1f}\")"
   ],
   "metadata": {
    "id": "R88DTQWk8tsH"
   },
   "id": "R88DTQWk8tsH",
   "execution_count": null,
   "outputs": []
  },
  {
   "cell_type": "code",
   "source": [],
   "metadata": {
    "id": "KxaH_6S-_Hli"
   },
   "id": "KxaH_6S-_Hli",
   "execution_count": null,
   "outputs": []
  }
 ],
 "metadata": {
  "accelerator": "GPU",
  "colab": {
   "gpuType": "T4",
   "provenance": []
  },
  "gpuClass": "standard",
  "kernelspec": {
   "display_name": "Python 3 (ipykernel)",
   "language": "python",
   "name": "python3"
  },
  "language_info": {
   "codemirror_mode": {
    "name": "ipython",
    "version": 3
   },
   "file_extension": ".py",
   "mimetype": "text/x-python",
   "name": "python",
   "nbconvert_exporter": "python",
   "pygments_lexer": "ipython3",
   "version": "3.10.11"
  }
 },
 "nbformat": 4,
 "nbformat_minor": 5
}
