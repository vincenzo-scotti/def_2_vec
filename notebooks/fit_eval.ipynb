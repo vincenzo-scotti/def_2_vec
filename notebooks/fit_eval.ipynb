{
 "cells": [
  {
   "cell_type": "markdown",
   "metadata": {
    "collapsed": false,
    "jupyter": {
     "outputs_hidden": false
    }
   },
   "source": [
    "# Contextual models evaluation"
   ]
  },
  {
   "cell_type": "markdown",
   "metadata": {
    "collapsed": false,
    "jupyter": {
     "outputs_hidden": false
    }
   },
   "source": [
    "## Environment preparation"
   ]
  },
  {
   "cell_type": "markdown",
   "metadata": {
    "collapsed": false,
    "jupyter": {
     "outputs_hidden": false
    }
   },
   "source": [
    "### Imports"
   ]
  },
  {
   "cell_type": "code",
   "execution_count": 1,
   "metadata": {
    "collapsed": false,
    "jupyter": {
     "outputs_hidden": false
    }
   },
   "outputs": [],
   "source": [
    "import os\n",
    "from datetime import datetime"
   ]
  },
  {
   "cell_type": "code",
   "execution_count": 2,
   "metadata": {
    "collapsed": false,
    "jupyter": {
     "outputs_hidden": false
    }
   },
   "outputs": [],
   "source": [
    "from tqdm import tqdm"
   ]
  },
  {
   "cell_type": "code",
   "execution_count": 3,
   "metadata": {
    "collapsed": false,
    "jupyter": {
     "outputs_hidden": false
    }
   },
   "outputs": [],
   "source": [
    "from itertools import product"
   ]
  },
  {
   "cell_type": "code",
   "execution_count": 4,
   "metadata": {
    "collapsed": false,
    "jupyter": {
     "outputs_hidden": false
    }
   },
   "outputs": [],
   "source": [
    "from joblib import Parallel, delayed, parallel_backend"
   ]
  },
  {
   "cell_type": "code",
   "execution_count": 5,
   "metadata": {
    "collapsed": false,
    "jupyter": {
     "outputs_hidden": false
    }
   },
   "outputs": [],
   "source": [
    "import numpy as np"
   ]
  },
  {
   "cell_type": "code",
   "execution_count": 6,
   "metadata": {
    "collapsed": false,
    "jupyter": {
     "outputs_hidden": false
    }
   },
   "outputs": [],
   "source": [
    "from scipy.stats import pearsonr, spearmanr\n",
    "from scipy.special import softmax"
   ]
  },
  {
   "cell_type": "code",
   "execution_count": 7,
   "metadata": {
    "collapsed": false,
    "jupyter": {
     "outputs_hidden": false
    }
   },
   "outputs": [],
   "source": [
    "import pandas as pd"
   ]
  },
  {
   "cell_type": "code",
   "execution_count": 8,
   "metadata": {
    "collapsed": false,
    "jupyter": {
     "outputs_hidden": false
    }
   },
   "outputs": [],
   "source": [
    "import torch\n",
    "import torch.nn as nn\n",
    "import torch.nn.functional as F"
   ]
  },
  {
   "cell_type": "code",
   "execution_count": 9,
   "metadata": {
    "collapsed": false,
    "jupyter": {
     "outputs_hidden": false
    }
   },
   "outputs": [],
   "source": [
    "%matplotlib inline\n",
    "from matplotlib import pyplot as plt\n",
    "import seaborn as sns"
   ]
  },
  {
   "cell_type": "code",
   "execution_count": 10,
   "metadata": {
    "collapsed": false,
    "jupyter": {
     "outputs_hidden": false
    }
   },
   "outputs": [],
   "source": [
    "from sklearn.metrics import classification_report, accuracy_score, precision_recall_fscore_support, roc_auc_score"
   ]
  },
  {
   "cell_type": "code",
   "execution_count": 11,
   "metadata": {
    "collapsed": false,
    "jupyter": {
     "outputs_hidden": false
    }
   },
   "outputs": [
    {
     "name": "stderr",
     "output_type": "stream",
     "text": [
      "/home/vincenzo/anaconda3/envs/vstk/lib/python3.12/site-packages/tqdm/auto.py:21: TqdmWarning: IProgress not found. Please update jupyter and ipywidgets. See https://ipywidgets.readthedocs.io/en/stable/user_install.html\n",
      "  from .autonotebook import tqdm as notebook_tqdm\n"
     ]
    }
   ],
   "source": [
    "from vstk.models import Word2Vec, GloVe, FastText, Def2Vec, Def2VecLegacy"
   ]
  },
  {
   "cell_type": "code",
   "execution_count": 12,
   "metadata": {
    "collapsed": false,
    "jupyter": {
     "outputs_hidden": false
    }
   },
   "outputs": [],
   "source": [
    "from vstk.data import CoNLL2003, SST, STS, NewsGroups, WELFake"
   ]
  },
  {
   "cell_type": "markdown",
   "metadata": {
    "collapsed": false,
    "jupyter": {
     "outputs_hidden": false
    }
   },
   "source": [
    "### Constants"
   ]
  },
  {
   "cell_type": "code",
   "execution_count": 13,
   "metadata": {
    "collapsed": false,
    "jupyter": {
     "outputs_hidden": false
    }
   },
   "outputs": [],
   "source": [
    "W2V_MODEL_PATH = '../resources/models/pre_trained/word_2_vec/'\n",
    "GV_MODEL_PATH = '../resources/models/pre_trained/glove/'\n",
    "FT_MODEL_PATH = '../resources/models/pre_trained/fast_text/'\n",
    "D2V_LEGACY_MODEL_PATH = '../resources/models/pre_trained/def_2_vec_legacy/'\n",
    "# Sub-words\n",
    "# D2V_MODEL_PATH = '../resources/models/pre_trained/def_2_vec_084926b712881ac5c62a5c520898bc8a20d2df205cd3fafbfe8fb66060294291/'\n",
    "# Sub-words - Stop-words removed\n",
    "# D2V_MODEL_PATH = '../resources/models/pre_trained/def_2_vec_2528fc7769d477bed290bfa827d5b499b0849a7e1851cbfdc37e296e21373071/'  # Main model\n",
    "# D2V_MODEL_PATH = '../resources/models/pre_trained/def_2_vec_2528fc7769d477bed290bfa827d5b499b0849a7e1851cbfdc37e296e21373071_extended/'\n",
    "# D2V_MODEL_PATH = '../resources/models/pre_trained/def_2_vec_2528fc7769d477bed290bfa827d5b499b0849a7e1851cbfdc37e296e21373071_reduced/'\n",
    "# No sub-words\n",
    "# D2V_MODEL_PATH = '../resources/models/pre_trained/def_2_vec_6a9f23276b7f235c3ef6aa8facb0efee6f716bd7ce8387e01c8df27831f35b27/'\n",
    "# No sub-words - Stop-words removed\n",
    "# D2V_MODEL_PATH = '../resources/models/pre_trained/def_2_vec_85d911ac6e585a5f6d1abbdb40609fb024d8d67d24c5f14a9b8da1eca6d8f863/'"
   ]
  },
  {
   "cell_type": "code",
   "execution_count": 14,
   "metadata": {
    "collapsed": false,
    "jupyter": {
     "outputs_hidden": false
    }
   },
   "outputs": [],
   "source": [
    "CONLL2003_DATA_PATH = '../resources/data/raw/conll2003'\n",
    "SST_DATA_PATH = '../resources/data/raw/stanfordSentimentTreebank'\n",
    "STS_DATA_PATH = '../resources/data/raw/stsbenchmark'\n",
    "WELFAKE_DATA_PATH = '../resources/data/raw/WELFake'"
   ]
  },
  {
   "cell_type": "code",
   "execution_count": 15,
   "metadata": {
    "collapsed": false,
    "jupyter": {
     "outputs_hidden": false
    }
   },
   "outputs": [],
   "source": [
    "CLS_METRICS = [\n",
    "    'accuracy', \n",
    "    'precision (macro)', \n",
    "    'recall (macro)', \n",
    "    'fscore (macro)', \n",
    "    'auc (macro)', \n",
    "    'precision (weighted)', \n",
    "    'recall (weighted)', \n",
    "    'fscore (weighted)', \n",
    "    'auc (weighted)',\n",
    "    'accuracy (sample weight)', \n",
    "    'precision (sample weight)', \n",
    "    'recall (sample weight)', \n",
    "    'fscore (sample weight)', \n",
    "    'auc (sample weight)', \n",
    "]\n",
    "REG_METRICS = [\n",
    "    'pearson corr.',\n",
    "    'pearson corr. p',\n",
    "    'spearman corr.',\n",
    "    'spearman corr. p'\n",
    "]"
   ]
  },
  {
   "cell_type": "code",
   "execution_count": 16,
   "metadata": {
    "collapsed": false,
    "jupyter": {
     "outputs_hidden": false
    }
   },
   "outputs": [],
   "source": [
    "if not os.path.exists('../experiments/'):\n",
    "    os.mkdir('../experiments/')\n",
    "if not os.path.exists('../experiments/contextual'):\n",
    "    os.mkdir('../experiments/contextual')\n",
    "RESULTS_FILE_PATH = f'../experiments/contextual/results.csv'  # 'results_{datetime.now().strftime('%Y_%m_%d_%H_%M_%S')}.csv'"
   ]
  },
  {
   "cell_type": "markdown",
   "metadata": {
    "collapsed": false,
    "jupyter": {
     "outputs_hidden": false
    }
   },
   "source": [
    "### Global"
   ]
  },
  {
   "cell_type": "code",
   "execution_count": 17,
   "metadata": {
    "collapsed": false,
    "jupyter": {
     "outputs_hidden": false
    }
   },
   "outputs": [],
   "source": [
    "timestamp = datetime.now().strftime('%Y_%m_%d_%H_%M_%S')"
   ]
  },
  {
   "cell_type": "code",
   "execution_count": 18,
   "metadata": {
    "collapsed": false,
    "jupyter": {
     "outputs_hidden": false
    }
   },
   "outputs": [],
   "source": [
    "embeddings_model_dtype = GloVe\n",
    "embeddings_model_path = GV_MODEL_PATH"
   ]
  },
  {
   "cell_type": "code",
   "execution_count": 19,
   "metadata": {},
   "outputs": [
    {
     "data": {
      "text/plain": [
       "'glove'"
      ]
     },
     "execution_count": 19,
     "metadata": {},
     "output_type": "execute_result"
    }
   ],
   "source": [
    "model_id = os.path.basename(os.path.split(embeddings_model_path)[0])\n",
    "model_id"
   ]
  },
  {
   "cell_type": "code",
   "execution_count": 20,
   "metadata": {
    "collapsed": false,
    "jupyter": {
     "outputs_hidden": false
    }
   },
   "outputs": [],
   "source": [
    "embeddings_model = embeddings_model_dtype.load(embeddings_model_path)"
   ]
  },
  {
   "cell_type": "code",
   "execution_count": 21,
   "metadata": {
    "collapsed": false,
    "jupyter": {
     "outputs_hidden": false
    }
   },
   "outputs": [
    {
     "data": {
      "text/plain": [
       "device(type='cuda')"
      ]
     },
     "execution_count": 21,
     "metadata": {},
     "output_type": "execute_result"
    }
   ],
   "source": [
    "device = torch.device('cuda' if torch.cuda.is_available() else 'cpu')\n",
    "device"
   ]
  },
  {
   "cell_type": "code",
   "execution_count": 22,
   "metadata": {
    "collapsed": false,
    "jupyter": {
     "outputs_hidden": false
    }
   },
   "outputs": [],
   "source": [
    "conll = {split: CoNLL2003(CONLL2003_DATA_PATH, split=split) for split in ['train', 'validation', 'test']}\n",
    "sst = {split: SST(SST_DATA_PATH, split=split, binary=True) for split in ['train', 'validation', 'test']}\n",
    "sts = {split: STS(STS_DATA_PATH, split=split) for split in ['train', 'validation', 'test']}\n",
    "ng = {split: NewsGroups(split=split) for split in ['train', 'validation', 'test']}\n",
    "welfake = {split: WELFake(WELFAKE_DATA_PATH, split=split) for split in ['train', 'validation', 'test']}"
   ]
  },
  {
   "cell_type": "code",
   "execution_count": 23,
   "metadata": {
    "collapsed": false,
    "jupyter": {
     "outputs_hidden": false
    }
   },
   "outputs": [],
   "source": [
    "results = list()"
   ]
  },
  {
   "cell_type": "markdown",
   "metadata": {
    "collapsed": false,
    "jupyter": {
     "outputs_hidden": false
    }
   },
   "source": [
    "## Experiments"
   ]
  },
  {
   "cell_type": "markdown",
   "metadata": {
    "collapsed": false,
    "jp-MarkdownHeadingCollapsed": true,
    "jupyter": {
     "outputs_hidden": false
    }
   },
   "source": [
    "### CoNLL 2003\n",
    "\n",
    "Evaluate on token classification"
   ]
  },
  {
   "cell_type": "code",
   "execution_count": 24,
   "metadata": {
    "collapsed": false,
    "jupyter": {
     "outputs_hidden": false
    }
   },
   "outputs": [],
   "source": [
    "corpus = 'CoNLL-2003'"
   ]
  },
  {
   "cell_type": "code",
   "execution_count": null,
   "metadata": {
    "collapsed": false,
    "jupyter": {
     "outputs_hidden": false
    }
   },
   "outputs": [],
   "source": [
    "conll['train']._data[:3]"
   ]
  },
  {
   "cell_type": "code",
   "execution_count": null,
   "metadata": {
    "collapsed": false,
    "jupyter": {
     "outputs_hidden": false
    }
   },
   "outputs": [],
   "source": [
    "class TokenClassification(nn.Module):\n",
    "    def __init__(self, input_size, output_size, hidden_size: int = 512, kernel_size: int = 5):\n",
    "        super().__init__()\n",
    "        self.norm = nn.LayerNorm(input_size)\n",
    "        self.conv1d = nn.Conv1d(input_size, hidden_size, kernel_size, padding='same', bias=False)\n",
    "        self.dropout = nn.Dropout(0.1)\n",
    "        self.cls_head = nn.Linear(hidden_size, output_size)\n",
    "        \n",
    "    def forward(self, x):\n",
    "        # \n",
    "        x = self.dropout(x)\n",
    "        #\n",
    "        h = self.conv1d(x.transpose(-1, -2))  # self.norm(x).transpose(-1, -2)\n",
    "        # Non-linear activation\n",
    "        h = F.gelu(h)\n",
    "        # Dropout\n",
    "        h = self.dropout(h)\n",
    "        # Apply last linear projection\n",
    "        y = self.cls_head(h.transpose(-1, -2))\n",
    "\n",
    "        return y\n"
   ]
  },
  {
   "cell_type": "code",
   "execution_count": null,
   "metadata": {
    "collapsed": false,
    "jupyter": {
     "outputs_hidden": false
    }
   },
   "outputs": [],
   "source": [
    "le = conll['train'].get_label_transformer()\n",
    "for label, le_ in le.items():\n",
    "    print(label, le_.classes_)"
   ]
  },
  {
   "cell_type": "code",
   "execution_count": null,
   "metadata": {},
   "outputs": [],
   "source": [
    "lw = {label: lw_.to(device) for label, lw_ in conll['train'].get_label_weights().items()}\n",
    "for label, lw_ in lw.items():\n",
    "    print(label, lw_)"
   ]
  },
  {
   "cell_type": "markdown",
   "metadata": {
    "collapsed": false,
    "jupyter": {
     "outputs_hidden": false
    }
   },
   "source": [
    "#### POS tagging"
   ]
  },
  {
   "cell_type": "code",
   "execution_count": null,
   "metadata": {
    "collapsed": false,
    "jupyter": {
     "outputs_hidden": false
    }
   },
   "outputs": [],
   "source": [
    "task = 'pos'"
   ]
  },
  {
   "cell_type": "code",
   "execution_count": null,
   "metadata": {
    "collapsed": false,
    "jupyter": {
     "outputs_hidden": false
    }
   },
   "outputs": [],
   "source": [
    "model = TokenClassification(300, len(le[task].classes_))  # 300, 300, *, 3\n",
    "model = model.to(device)\n",
    "model"
   ]
  },
  {
   "cell_type": "code",
   "execution_count": null,
   "metadata": {
    "collapsed": false,
    "jupyter": {
     "outputs_hidden": false
    }
   },
   "outputs": [],
   "source": [
    "lr = 0.001  # 0.0005\n",
    "batch_size = 512  # 128\n",
    "n_epochs = 64  # 10\n",
    "optimizer = torch.optim.AdamW(params=model.parameters(), lr=lr)"
   ]
  },
  {
   "cell_type": "code",
   "execution_count": null,
   "metadata": {
    "collapsed": false,
    "jupyter": {
     "outputs_hidden": false
    }
   },
   "outputs": [],
   "source": [
    "def collate(mini_batch):\n",
    "    # Get the length of the longest sentence\n",
    "    max_sequence_len = max(len(sample) for sample in mini_batch)\n",
    "    # Create an input tensor with all zero values\n",
    "    input_embeds = np.zeros((len(mini_batch), max_sequence_len, 300))\n",
    "    #\n",
    "    valid_mask = np.zeros((len(mini_batch), max_sequence_len))\n",
    "    # Create a target output matrix with all -100 (PyTorch ignores this value by default)\n",
    "    output_lbl = np.full((len(mini_batch), max_sequence_len), -100)\n",
    "    # Fill the tensor and the matrix\n",
    "    for i, sample in enumerate(mini_batch):\n",
    "        for j, token in enumerate(sample):\n",
    "            # Manage missing tokens in vocabulary\n",
    "            input_embeds[i, j] = embeddings_model[token['token'].lower()]\n",
    "            output_lbl[i, j] = le[task].transform([token[task]])[0]\n",
    "        valid_mask[i, :len(sample)] = 1.0\n",
    "    # Convert to PyTorch tensor\n",
    "    input_embeds = torch.tensor(input_embeds, dtype=torch.float, device=device)\n",
    "    valid_mask = torch.tensor(valid_mask, dtype=torch.float, device=device)\n",
    "    output_lbl = torch.tensor(output_lbl, device=device)\n",
    "\n",
    "    return input_embeds, output_lbl\n",
    "    # return input_embeds, valid_mask, output_lbl"
   ]
  },
  {
   "cell_type": "code",
   "execution_count": null,
   "metadata": {
    "collapsed": false,
    "jupyter": {
     "outputs_hidden": false
    }
   },
   "outputs": [],
   "source": [
    "data_loader = {\n",
    "    split: torch.utils.data.DataLoader(\n",
    "        data, batch_size=batch_size, collate_fn=collate, shuffle=split == 'train'\n",
    "    )\n",
    "    for split, data in conll.items()\n",
    "}"
   ]
  },
  {
   "cell_type": "markdown",
   "metadata": {
    "collapsed": false,
    "jupyter": {
     "outputs_hidden": false
    }
   },
   "source": [
    "##### Training"
   ]
  },
  {
   "cell_type": "code",
   "execution_count": null,
   "metadata": {
    "scrolled": true
   },
   "outputs": [],
   "source": [
    "path = os.path.join('../experiments/contextual/', f'{model_id}_{corpus}_{task}_{datetime.now()}.ckpt')\n",
    "\n",
    "# Set model in training mode\n",
    "model.train()\n",
    "\n",
    "# Accumulator of loss\n",
    "history = []\n",
    "validation_history = []\n",
    "best_validation_loss = torch.tensor(float('inf'), device=device)\n",
    "\n",
    "# scheduler = torch.optim.lr_scheduler.OneCycleLR(optimizer, lr, steps_per_epoch=len(data_loader['train']), epochs=n_epochs, anneal_strategy='linear', pct_start=0.05)\n",
    "\n",
    "estop_counter = 0\n",
    "\n",
    "# Iterate over epochs\n",
    "for i in range(n_epochs):\n",
    "    print(f\"Starting epoch {i + 1}/{n_epochs}\")\n",
    "    # Iterate over training batches\n",
    "    # for embeds, lbl in tqdm(data_loader['train']):\n",
    "    for embeds, lbl in tqdm(data_loader['train']):\n",
    "        # Zero your gradients for every batch!\n",
    "        optimizer.zero_grad()\n",
    "        # Move input and output to target device\n",
    "        embeds = embeds.to(device)\n",
    "        lbl = lbl.to(device)\n",
    "        # Compute logits (i.e., softmax values before exponential normalisation)\n",
    "        logits = model(embeds)\n",
    "        # Flatten logits to a shape (batch_size * max_sentence_len, n_classes)\n",
    "        logits = logits.reshape(-1, len(le[task].classes_))\n",
    "        # Flatten targets to a shape (batch_size * max_sentence_len)\n",
    "        lbl = lbl.reshape(-1)\n",
    "        # Compute loss\n",
    "        loss = F.cross_entropy(logits, lbl)\n",
    "        # Compute gradients\n",
    "        loss.backward()\n",
    "        # Update weights\n",
    "        torch.nn.utils.clip_grad_norm_(model.parameters(), 1.0)\n",
    "        optimizer.step()\n",
    "        # scheduler.step()\n",
    "        # Save loss\n",
    "        history.append(loss.detach())\n",
    "    # Disable gradients\n",
    "    with torch.no_grad():\n",
    "        print(f\"Starting validation epoch {i + 1}/{n_epochs}\")\n",
    "        # Set in evaluation mode\n",
    "        model.eval()\n",
    "        # Init validation loss accumulator\n",
    "        loss = []\n",
    "        # Iterate over validation batches\n",
    "        for embeds, lbl in tqdm(data_loader['validation']):\n",
    "            # Move input and output to target device\n",
    "            embeds = embeds.to(device)\n",
    "            lbl = lbl.to(device)\n",
    "            # Compute logits (i.e., softmax values before exponential normalisation)\n",
    "            logits = model(embeds)\n",
    "            # Flatten logits to a shape (batch_size * max_sentence_len, n_classes)\n",
    "            logits = logits.reshape(-1, len(le[task].classes_))\n",
    "            # Flatten targets to a shape (batch_size * max_sentence_len)\n",
    "            lbl = lbl.reshape(-1)\n",
    "            # Compute loss\n",
    "            loss.append(F.cross_entropy(logits, lbl))\n",
    "        # Aggregate validation loss\n",
    "        validation_history.append(torch.tensor(loss, device=device).mean())\n",
    "        # Check if validation loss has improved\n",
    "        if validation_history[-1] <= best_validation_loss:\n",
    "            torch.save(model.state_dict(), path)\n",
    "            best_validation_loss = validation_history[-1]\n",
    "            estop_counter = 0\n",
    "        else:\n",
    "            estop_counter += 1\n",
    "        # Restore training mode\n",
    "        model.train()\n",
    "    if estop_counter >= 5:\n",
    "        break\n",
    "        \n",
    "# Restore best weights\n",
    "if os.path.exists(path):\n",
    "    model.load_state_dict(torch.load(path))\n",
    "\n",
    "history = [loss.cpu().item() for loss in history]\n",
    "validation_history = [loss.cpu().item() for loss in validation_history]"
   ]
  },
  {
   "cell_type": "code",
   "execution_count": null,
   "metadata": {
    "collapsed": false,
    "jupyter": {
     "outputs_hidden": false
    }
   },
   "outputs": [],
   "source": [
    "plt.figure()\n",
    "plt.plot(range(len(history)), history, label='Training loss')\n",
    "plt.plot(range(len(data_loader['train']) - 1, len(history), len(data_loader['train'])), validation_history, label='Validation loss')\n",
    "plt.legend(loc='best')\n",
    "plt.xlabel('Update step')\n",
    "plt.ylabel('Loss')\n",
    "plt.xlim([0.0, len(history)])\n",
    "plt.ylim([0.0, 4.0])\n",
    "plt.grid()"
   ]
  },
  {
   "cell_type": "markdown",
   "metadata": {
    "collapsed": false,
    "jupyter": {
     "outputs_hidden": false
    }
   },
   "source": [
    "##### Evaluation"
   ]
  },
  {
   "cell_type": "code",
   "execution_count": null,
   "metadata": {
    "collapsed": false,
    "jupyter": {
     "outputs_hidden": false
    }
   },
   "outputs": [],
   "source": [
    "# Set model in evaluation mode\n",
    "model.eval()"
   ]
  },
  {
   "cell_type": "markdown",
   "metadata": {
    "collapsed": false,
    "jupyter": {
     "outputs_hidden": false
    }
   },
   "source": [
    "Validation set"
   ]
  },
  {
   "cell_type": "code",
   "execution_count": null,
   "metadata": {},
   "outputs": [],
   "source": [
    "#\n",
    "split = 'validation'\n",
    "\n",
    "# Accumulators for target labels and predictions\n",
    "y_true = []\n",
    "y_pred = []\n",
    "y_proba = []\n",
    "\n",
    "# Disable gradients\n",
    "with torch.no_grad():\n",
    "    # Iterate over validation batches\n",
    "    for embeds, lbl in tqdm(data_loader[split]):\n",
    "        # Move input and output to target device\n",
    "        embeds = embeds.to(device)\n",
    "        # Compute logits (i.e., softmax values before exponential normalisation)\n",
    "        logits = model(embeds)\n",
    "        # Get predictions as the index corresponding to the highest logit score\n",
    "        pred_lbl = torch.argmax(logits, dim=-1)\n",
    "        # Append predicted proba\n",
    "        y_proba.append(logits.view(-1, len(le[task].classes_)).cpu().numpy())\n",
    "        # Append predicted labels\n",
    "        y_pred.append(pred_lbl.view(-1).cpu().numpy())\n",
    "        # Append target labels\n",
    "        y_true.append(lbl.view(-1).cpu().numpy())\n",
    "\n",
    "# Concatenate all the vectors of target labels and predicted labels\n",
    "y_true = np.concatenate(y_true)\n",
    "y_pred = np.concatenate(y_pred)\n",
    "y_proba = np.concatenate(y_proba, axis=0)\n",
    "# Remove elements to ignore (the -100 labels)\n",
    "mask = y_true == -100\n",
    "y_true = y_true[~mask]\n",
    "y_pred = y_pred[~mask]\n",
    "y_proba = y_proba[~mask]\n",
    "\n",
    "labels = np.unique(y_true)\n",
    "mapping = np.zeros(len(le[task].classes_), dtype=int)\n",
    "mapping[labels] = np.arange(len(labels))\n",
    "\n",
    "y_true = mapping[y_true]\n",
    "y_pred = mapping[y_pred]\n",
    "y_proba = softmax(y_proba[:, labels], axis=1)\n",
    "\n",
    "ids, counts = np.unique(y_true, return_counts=True)\n",
    "weights = counts / np.sum(counts)\n",
    "\n",
    "# \n",
    "accuracy = accuracy_score(y_true, y_pred)\n",
    "precision_m, recall_m, fscore_m, support_m = precision_recall_fscore_support(y_true, y_pred, average='macro')\n",
    "auc_m = roc_auc_score(y_true, y_proba, multi_class='ovr', average='macro')\n",
    "precision_w, recall_w, fscore_w, support_w = precision_recall_fscore_support(y_true, y_pred, average='weighted')\n",
    "auc_w = roc_auc_score(y_true, y_proba, multi_class='ovr', average='weighted')\n",
    "accuracy_sw = accuracy_score(y_true, y_pred, sample_weight=weights[y_true])\n",
    "precision_sw, recall_sw, fscore_sw, support_sw = precision_recall_fscore_support(y_true, y_pred, average='weighted', sample_weight=weights[y_true])\n",
    "auc_sw = roc_auc_score(y_true, y_proba, multi_class='ovr', average='weighted', sample_weight=weights[y_true])\n",
    "results.extend([\n",
    "    {\n",
    "        'corpus': corpus,\n",
    "        'task': task,\n",
    "        'embeddings': model_id,\n",
    "        'split': split,\n",
    "        'timestamp': timestamp,\n",
    "        'metric': metric,\n",
    "        'value': value\n",
    "    }\n",
    "    for metric, value in zip(\n",
    "        CLS_METRICS, [\n",
    "            accuracy, precision_m, recall_m, fscore_m, auc_m, \n",
    "            precision_w, recall_w, fscore_w, auc_w,\n",
    "            accuracy_sw, precision_sw, recall_sw, fscore_sw, auc_sw\n",
    "        ]\n",
    "    )\n",
    "])\n",
    "# Finally compute classification report\n",
    "print()\n",
    "print(classification_report(y_true, y_pred, target_names=le[task].classes_[labels]))"
   ]
  },
  {
   "cell_type": "markdown",
   "metadata": {
    "collapsed": false,
    "jupyter": {
     "outputs_hidden": false
    }
   },
   "source": [
    "Test set"
   ]
  },
  {
   "cell_type": "code",
   "execution_count": null,
   "metadata": {},
   "outputs": [],
   "source": [
    "#\n",
    "split = 'test'\n",
    "\n",
    "# Accumulators for target labels and predictions\n",
    "y_true = []\n",
    "y_pred = []\n",
    "y_proba = []\n",
    "\n",
    "# Disable gradients\n",
    "with torch.no_grad():\n",
    "    # Iterate over validation batches\n",
    "    for embeds, lbl in tqdm(data_loader[split]):\n",
    "        # Move input and output to target device\n",
    "        embeds = embeds.to(device)\n",
    "        # Compute logits (i.e., softmax values before exponential normalisation)\n",
    "        logits = model(embeds)\n",
    "        # Get predictions as the index corresponding to the highest logit score\n",
    "        pred_lbl = torch.argmax(logits, dim=-1)\n",
    "        # Append predicted proba\n",
    "        y_proba.append(logits.view(-1, len(le[task].classes_)).cpu().numpy())\n",
    "        # Append predicted labels\n",
    "        y_pred.append(pred_lbl.view(-1).cpu().numpy())\n",
    "        # Append target labels\n",
    "        y_true.append(lbl.view(-1).cpu().numpy())\n",
    "\n",
    "# Concatenate all the vectors of target labels and predicted labels\n",
    "y_true = np.concatenate(y_true)\n",
    "y_pred = np.concatenate(y_pred)\n",
    "y_proba = np.concatenate(y_proba, axis=0)\n",
    "# Remove elements to ignore (the -100 labels)\n",
    "mask = y_true == -100\n",
    "y_true = y_true[~mask]\n",
    "y_pred = y_pred[~mask]\n",
    "y_proba = y_proba[~mask]\n",
    "\n",
    "labels = np.unique(y_true)\n",
    "mapping = np.zeros(len(le[task].classes_), dtype=int)\n",
    "mapping[labels] = np.arange(len(labels))\n",
    "\n",
    "y_true = mapping[y_true]\n",
    "y_pred = mapping[y_pred]\n",
    "y_proba = softmax(y_proba[:, labels], axis=1)\n",
    "\n",
    "ids, counts = np.unique(y_true, return_counts=True)\n",
    "weights = counts / np.sum(counts)\n",
    "\n",
    "# \n",
    "accuracy = accuracy_score(y_true, y_pred)\n",
    "precision_m, recall_m, fscore_m, support_m = precision_recall_fscore_support(y_true, y_pred, average='macro')\n",
    "auc_m = roc_auc_score(y_true, y_proba, multi_class='ovr', average='macro')\n",
    "precision_w, recall_w, fscore_w, support_w = precision_recall_fscore_support(y_true, y_pred, average='weighted')\n",
    "auc_w = roc_auc_score(y_true, y_proba, multi_class='ovr', average='weighted')\n",
    "accuracy_sw = accuracy_score(y_true, y_pred, sample_weight=weights[y_true])\n",
    "precision_sw, recall_sw, fscore_sw, support_sw = precision_recall_fscore_support(y_true, y_pred, average='weighted', sample_weight=weights[y_true])\n",
    "auc_sw = roc_auc_score(y_true, y_proba, multi_class='ovr', average='weighted', sample_weight=weights[y_true])\n",
    "results.extend([\n",
    "    {\n",
    "        'corpus': corpus,\n",
    "        'task': task,\n",
    "        'embeddings': model_id,\n",
    "        'split': split,\n",
    "        'timestamp': timestamp,\n",
    "        'metric': metric,\n",
    "        'value': value\n",
    "    }\n",
    "    for metric, value in zip(\n",
    "        CLS_METRICS, [\n",
    "            accuracy, precision_m, recall_m, fscore_m, auc_m, \n",
    "            precision_w, recall_w, fscore_w, auc_w,\n",
    "            accuracy_sw, precision_sw, recall_sw, fscore_sw, auc_sw\n",
    "        ]\n",
    "    )\n",
    "])\n",
    "# Finally compute classification report\n",
    "print()\n",
    "print(classification_report(y_true, y_pred, target_names=le[task].classes_[labels]))"
   ]
  },
  {
   "cell_type": "markdown",
   "metadata": {
    "collapsed": false,
    "jupyter": {
     "outputs_hidden": false
    }
   },
   "source": [
    "#### Chunking"
   ]
  },
  {
   "cell_type": "code",
   "execution_count": null,
   "metadata": {
    "collapsed": false,
    "jupyter": {
     "outputs_hidden": false
    }
   },
   "outputs": [],
   "source": [
    "task = 'chunk'"
   ]
  },
  {
   "cell_type": "code",
   "execution_count": null,
   "metadata": {
    "collapsed": false,
    "jupyter": {
     "outputs_hidden": false
    }
   },
   "outputs": [],
   "source": [
    "model = TokenClassification(300, len(le[task].classes_))  # 300, 300, *, 3\n",
    "model = model.to(device)\n",
    "model"
   ]
  },
  {
   "cell_type": "code",
   "execution_count": null,
   "metadata": {
    "collapsed": false,
    "jupyter": {
     "outputs_hidden": false
    }
   },
   "outputs": [],
   "source": [
    "lr = 0.001  # 0.0005\n",
    "batch_size = 512  # 128\n",
    "n_epochs = 64  # 10\n",
    "optimizer = torch.optim.AdamW(params=model.parameters(), lr=lr)\n",
    "# optimizer = torch.optim.RMSprop(params=model.parameters(), lr=lr)"
   ]
  },
  {
   "cell_type": "code",
   "execution_count": null,
   "metadata": {
    "collapsed": false,
    "jupyter": {
     "outputs_hidden": false
    }
   },
   "outputs": [],
   "source": [
    "def collate(mini_batch):\n",
    "    # Get the length of the longest sentence\n",
    "    max_sequence_len = max(len(sample) for sample in mini_batch)\n",
    "    # Create an input tensor with all zero values\n",
    "    input_embeds = np.zeros((len(mini_batch), max_sequence_len, 300))\n",
    "    #\n",
    "    valid_mask = np.zeros((len(mini_batch), max_sequence_len))\n",
    "    # Create a target output matrix with all -100 (PyTorch ignores this value by default)\n",
    "    output_lbl = np.full((len(mini_batch), max_sequence_len), -100)\n",
    "    # Fill the tensor and the matrix\n",
    "    for i, sample in enumerate(mini_batch):\n",
    "        for j, token in enumerate(sample):\n",
    "            # Manage missing tokens in vocabulary\n",
    "            input_embeds[i, j] = embeddings_model[token['token'].lower()]\n",
    "            try:\n",
    "                output_lbl[i, j] = le[task].transform([token[task]])[0]\n",
    "            except ValueError:\n",
    "                pass\n",
    "        valid_mask[i, :len(sample)] = 1.0\n",
    "    # Convert to PyTorch tensor\n",
    "    input_embeds = torch.tensor(input_embeds, dtype=torch.float, device=device)\n",
    "    valid_mask = torch.tensor(valid_mask, dtype=torch.float, device=device)\n",
    "    output_lbl = torch.tensor(output_lbl, device=device)\n",
    "\n",
    "    return input_embeds, output_lbl\n",
    "    # return input_embeds, valid_mask, output_lbl"
   ]
  },
  {
   "cell_type": "code",
   "execution_count": null,
   "metadata": {
    "collapsed": false,
    "jupyter": {
     "outputs_hidden": false
    }
   },
   "outputs": [],
   "source": [
    "data_loader = {\n",
    "    split: torch.utils.data.DataLoader(\n",
    "        data, batch_size=batch_size, collate_fn=collate, shuffle=split == 'train'\n",
    "    )\n",
    "    for split, data in conll.items()\n",
    "}"
   ]
  },
  {
   "cell_type": "markdown",
   "metadata": {
    "collapsed": false,
    "jupyter": {
     "outputs_hidden": false
    }
   },
   "source": [
    "##### Training"
   ]
  },
  {
   "cell_type": "code",
   "execution_count": null,
   "metadata": {
    "scrolled": true
   },
   "outputs": [],
   "source": [
    "path = os.path.join('../experiments/contextual/', f'{model_id}_{corpus}_{task}_{datetime.now()}.ckpt')\n",
    "\n",
    "# Set model in training mode\n",
    "model.train()\n",
    "\n",
    "# Accumulator of loss\n",
    "history = []\n",
    "validation_history = []\n",
    "best_validation_loss = torch.tensor(float('inf'), device=device)\n",
    "\n",
    "# scheduler = torch.optim.lr_scheduler.OneCycleLR(optimizer, lr, steps_per_epoch=len(data_loader['train']), epochs=n_epochs, anneal_strategy='linear', pct_start=0.05)\n",
    "\n",
    "estop_counter = 0\n",
    "\n",
    "# Iterate over epochs\n",
    "for i in range(n_epochs):\n",
    "    print(f\"Starting epoch {i + 1}/{n_epochs}\")\n",
    "    # Iterate over training batches\n",
    "    for embeds, lbl in tqdm(data_loader['train']):\n",
    "        # Zero your gradients for every batch!\n",
    "        optimizer.zero_grad()\n",
    "        # Move input and output to target device\n",
    "        embeds = embeds.to(device)\n",
    "        lbl = lbl.to(device)\n",
    "        # Compute logits (i.e., softmax values before exponential normalisation)\n",
    "        logits = model(embeds)\n",
    "        # Flatten logits to a shape (batch_size * max_sentence_len, n_classes)\n",
    "        logits = logits.reshape(-1, len(le[task].classes_))\n",
    "        # Flatten targets to a shape (batch_size * max_sentence_len)\n",
    "        lbl = lbl.reshape(-1)\n",
    "        # Compute loss\n",
    "        loss = F.cross_entropy(logits, lbl)\n",
    "        # Compute gradients\n",
    "        loss.backward()\n",
    "        # Update weights\n",
    "        torch.nn.utils.clip_grad_norm_(model.parameters(), 1.0)\n",
    "        optimizer.step()\n",
    "        # scheduler.step()\n",
    "        # Save loss\n",
    "        history.append(loss.detach())\n",
    "    # Disable gradients\n",
    "    with torch.no_grad():\n",
    "        print(f\"Starting validation epoch {i + 1}/{n_epochs}\")\n",
    "        # Set in evaluation mode\n",
    "        model.eval()\n",
    "        # Init validation loss accumulator\n",
    "        loss = []\n",
    "        # Iterate over validation batches\n",
    "        for embeds, lbl in tqdm(data_loader['validation']):\n",
    "            # Move input and output to target device\n",
    "            embeds = embeds.to(device)\n",
    "            lbl = lbl.to(device)\n",
    "            # Compute logits (i.e., softmax values before exponential normalisation)\n",
    "            logits = model(embeds)\n",
    "            # Flatten logits to a shape (batch_size * max_sentence_len, n_classes)\n",
    "            logits = logits.reshape(-1, len(le[task].classes_))\n",
    "            # Flatten targets to a shape (batch_size * max_sentence_len)\n",
    "            lbl = lbl.reshape(-1)\n",
    "            # Compute loss\n",
    "            loss.append(F.cross_entropy(logits, lbl))\n",
    "        # Aggregate validation loss\n",
    "        validation_history.append(torch.tensor(loss, device=device).mean())\n",
    "        # Check if validation loss has improved\n",
    "        if validation_history[-1] <= best_validation_loss:\n",
    "            torch.save(model.state_dict(), path)\n",
    "            best_validation_loss = validation_history[-1]\n",
    "            estop_counter = 0\n",
    "        else:\n",
    "            estop_counter += 1\n",
    "        # Restore training mode\n",
    "        model.train()\n",
    "    if estop_counter >= 5:\n",
    "        break\n",
    "        \n",
    "# Restore best weights\n",
    "if os.path.exists(path):\n",
    "    model.load_state_dict(torch.load(path))\n",
    "\n",
    "history = [loss.cpu().item() for loss in history]\n",
    "validation_history = [loss.cpu().item() for loss in validation_history]"
   ]
  },
  {
   "cell_type": "code",
   "execution_count": null,
   "metadata": {
    "collapsed": false,
    "jupyter": {
     "outputs_hidden": false
    }
   },
   "outputs": [],
   "source": [
    "plt.figure()\n",
    "plt.plot(range(len(history)), history, label='Training loss')\n",
    "plt.plot(range(len(data_loader['train']) - 1, len(history), len(data_loader['train'])), validation_history, label='Validation loss')\n",
    "plt.legend(loc='best')\n",
    "plt.xlabel('Update step')\n",
    "plt.ylabel('Loss')\n",
    "plt.xlim([0.0, len(history)])\n",
    "plt.ylim([0.0, 4.0])\n",
    "plt.grid()"
   ]
  },
  {
   "cell_type": "markdown",
   "metadata": {
    "collapsed": false,
    "jupyter": {
     "outputs_hidden": false
    }
   },
   "source": [
    "##### Evaluation"
   ]
  },
  {
   "cell_type": "code",
   "execution_count": null,
   "metadata": {
    "collapsed": false,
    "jupyter": {
     "outputs_hidden": false
    }
   },
   "outputs": [],
   "source": [
    "# Set model in evaluation mode\n",
    "model.eval()"
   ]
  },
  {
   "cell_type": "markdown",
   "metadata": {
    "collapsed": false,
    "jupyter": {
     "outputs_hidden": false
    }
   },
   "source": [
    "Validation set"
   ]
  },
  {
   "cell_type": "code",
   "execution_count": null,
   "metadata": {
    "collapsed": false,
    "jupyter": {
     "outputs_hidden": false
    }
   },
   "outputs": [],
   "source": [
    "#\n",
    "split = 'validation'\n",
    "\n",
    "# Accumulators for target labels and predictions\n",
    "y_true = []\n",
    "y_pred = []\n",
    "y_proba = []\n",
    "\n",
    "# Disable gradients\n",
    "with torch.no_grad():\n",
    "    # Iterate over validation batches\n",
    "    for embeds, lbl in tqdm(data_loader[split]):\n",
    "        # Move input and output to target device\n",
    "        embeds = embeds.to(device)\n",
    "        # Compute logits (i.e., softmax values before exponential normalisation)\n",
    "        logits = model(embeds)\n",
    "        # Get predictions as the index corresponding to the highest logit score\n",
    "        pred_lbl = torch.argmax(logits, dim=-1)\n",
    "        # Append predicted proba\n",
    "        y_proba.append(logits.view(-1, len(le[task].classes_)).cpu().numpy())\n",
    "        # Append predicted labels\n",
    "        y_pred.append(pred_lbl.view(-1).cpu().numpy())\n",
    "        # Append target labels\n",
    "        y_true.append(lbl.view(-1).cpu().numpy())\n",
    "\n",
    "# Concatenate all the vectors of target labels and predicted labels\n",
    "y_true = np.concatenate(y_true)\n",
    "y_pred = np.concatenate(y_pred)\n",
    "y_proba = np.concatenate(y_proba, axis=0)\n",
    "# Remove elements to ignore (the -100 labels)\n",
    "mask = y_true == -100\n",
    "y_true = y_true[~mask]\n",
    "y_pred = y_pred[~mask]\n",
    "y_proba = y_proba[~mask]\n",
    "\n",
    "labels = np.unique(y_true)\n",
    "mapping = np.zeros(len(le[task].classes_), dtype=int)\n",
    "mapping[labels] = np.arange(len(labels))\n",
    "\n",
    "y_true = mapping[y_true]\n",
    "y_pred = mapping[y_pred]\n",
    "y_proba = softmax(y_proba[:, labels], axis=1)\n",
    "\n",
    "ids, counts = np.unique(y_true, return_counts=True)\n",
    "weights = counts / np.sum(counts)\n",
    "\n",
    "# \n",
    "accuracy = accuracy_score(y_true, y_pred)\n",
    "precision_m, recall_m, fscore_m, support_m = precision_recall_fscore_support(y_true, y_pred, average='macro')\n",
    "auc_m = roc_auc_score(y_true, y_proba, multi_class='ovr', average='macro')\n",
    "precision_w, recall_w, fscore_w, support_w = precision_recall_fscore_support(y_true, y_pred, average='weighted')\n",
    "auc_w = roc_auc_score(y_true, y_proba, multi_class='ovr', average='weighted')\n",
    "accuracy_sw = accuracy_score(y_true, y_pred, sample_weight=weights[y_true])\n",
    "precision_sw, recall_sw, fscore_sw, support_sw = precision_recall_fscore_support(y_true, y_pred, average='weighted', sample_weight=weights[y_true])\n",
    "auc_sw = roc_auc_score(y_true, y_proba, multi_class='ovr', average='weighted', sample_weight=weights[y_true])\n",
    "results.extend([\n",
    "    {\n",
    "        'corpus': corpus,\n",
    "        'task': task,\n",
    "        'embeddings': model_id,\n",
    "        'split': split,\n",
    "        'timestamp': timestamp,\n",
    "        'metric': metric,\n",
    "        'value': value\n",
    "    }\n",
    "    for metric, value in zip(\n",
    "        CLS_METRICS, [\n",
    "            accuracy, precision_m, recall_m, fscore_m, auc_m, \n",
    "            precision_w, recall_w, fscore_w, auc_w,\n",
    "            accuracy_sw, precision_sw, recall_sw, fscore_sw, auc_sw\n",
    "        ]\n",
    "    )\n",
    "])\n",
    "# Finally compute classification report\n",
    "print()\n",
    "print(classification_report(y_true, y_pred, target_names=le[task].classes_[labels]))"
   ]
  },
  {
   "cell_type": "markdown",
   "metadata": {
    "collapsed": false,
    "jupyter": {
     "outputs_hidden": false
    }
   },
   "source": [
    "Test set"
   ]
  },
  {
   "cell_type": "code",
   "execution_count": null,
   "metadata": {
    "collapsed": false,
    "jupyter": {
     "outputs_hidden": false
    }
   },
   "outputs": [],
   "source": [
    "#\n",
    "split = 'test'\n",
    "\n",
    "# Accumulators for target labels and predictions\n",
    "y_true = []\n",
    "y_pred = []\n",
    "y_proba = []\n",
    "\n",
    "# Disable gradients\n",
    "with torch.no_grad():\n",
    "    # Iterate over validation batches\n",
    "    for embeds, lbl in tqdm(data_loader[split]):\n",
    "        # Move input and output to target device\n",
    "        embeds = embeds.to(device)\n",
    "        # Compute logits (i.e., softmax values before exponential normalisation)\n",
    "        logits = model(embeds)\n",
    "        # Get predictions as the index corresponding to the highest logit score\n",
    "        pred_lbl = torch.argmax(logits, dim=-1)\n",
    "        # Append predicted proba\n",
    "        y_proba.append(logits.view(-1, len(le[task].classes_)).cpu().numpy())\n",
    "        # Append predicted labels\n",
    "        y_pred.append(pred_lbl.view(-1).cpu().numpy())\n",
    "        # Append target labels\n",
    "        y_true.append(lbl.view(-1).cpu().numpy())\n",
    "\n",
    "# Concatenate all the vectors of target labels and predicted labels\n",
    "y_true = np.concatenate(y_true)\n",
    "y_pred = np.concatenate(y_pred)\n",
    "y_proba = np.concatenate(y_proba, axis=0)\n",
    "# Remove elements to ignore (the -100 labels)\n",
    "mask = y_true == -100\n",
    "y_true = y_true[~mask]\n",
    "y_pred = y_pred[~mask]\n",
    "y_proba = y_proba[~mask]\n",
    "\n",
    "labels = np.unique(y_true)\n",
    "mapping = np.zeros(len(le[task].classes_), dtype=int)\n",
    "mapping[labels] = np.arange(len(labels))\n",
    "\n",
    "y_true = mapping[y_true]\n",
    "y_pred = mapping[y_pred]\n",
    "y_proba = softmax(y_proba[:, labels], axis=1)\n",
    "\n",
    "ids, counts = np.unique(y_true, return_counts=True)\n",
    "weights = counts / np.sum(counts)\n",
    "\n",
    "# \n",
    "accuracy = accuracy_score(y_true, y_pred)\n",
    "precision_m, recall_m, fscore_m, support_m = precision_recall_fscore_support(y_true, y_pred, average='macro')\n",
    "auc_m = roc_auc_score(y_true, y_proba, multi_class='ovr', average='macro')\n",
    "precision_w, recall_w, fscore_w, support_w = precision_recall_fscore_support(y_true, y_pred, average='weighted')\n",
    "auc_w = roc_auc_score(y_true, y_proba, multi_class='ovr', average='weighted')\n",
    "accuracy_sw = accuracy_score(y_true, y_pred, sample_weight=weights[y_true])\n",
    "precision_sw, recall_sw, fscore_sw, support_sw = precision_recall_fscore_support(y_true, y_pred, average='weighted', sample_weight=weights[y_true])\n",
    "auc_sw = roc_auc_score(y_true, y_proba, multi_class='ovr', average='weighted', sample_weight=weights[y_true])\n",
    "results.extend([\n",
    "    {\n",
    "        'corpus': corpus,\n",
    "        'task': task,\n",
    "        'embeddings': model_id,\n",
    "        'split': split,\n",
    "        'timestamp': timestamp,\n",
    "        'metric': metric,\n",
    "        'value': value\n",
    "    }\n",
    "    for metric, value in zip(\n",
    "        CLS_METRICS, [\n",
    "            accuracy, precision_m, recall_m, fscore_m, auc_m, \n",
    "            precision_w, recall_w, fscore_w, auc_w,\n",
    "            accuracy_sw, precision_sw, recall_sw, fscore_sw, auc_sw\n",
    "        ]\n",
    "    )\n",
    "])\n",
    "# Finally compute classification report\n",
    "print()\n",
    "print(classification_report(y_true, y_pred, target_names=le[task].classes_[labels]))"
   ]
  },
  {
   "cell_type": "markdown",
   "metadata": {
    "collapsed": false,
    "jupyter": {
     "outputs_hidden": false
    }
   },
   "source": [
    "#### NER"
   ]
  },
  {
   "cell_type": "code",
   "execution_count": null,
   "metadata": {
    "collapsed": false,
    "jupyter": {
     "outputs_hidden": false
    }
   },
   "outputs": [],
   "source": [
    "task = 'ner'"
   ]
  },
  {
   "cell_type": "code",
   "execution_count": null,
   "metadata": {
    "collapsed": false,
    "jupyter": {
     "outputs_hidden": false
    }
   },
   "outputs": [],
   "source": [
    "model = TokenClassification(300, len(le[task].classes_))  # 300, 300, *, 3\n",
    "model = model.to(device)\n",
    "model"
   ]
  },
  {
   "cell_type": "code",
   "execution_count": null,
   "metadata": {
    "collapsed": false,
    "jupyter": {
     "outputs_hidden": false
    }
   },
   "outputs": [],
   "source": [
    "lr = 0.001  # 0.0005\n",
    "batch_size = 512  # 128\n",
    "n_epochs = 64  # 10\n",
    "optimizer = torch.optim.AdamW(params=model.parameters(), lr=lr)\n",
    "# optimizer = torch.optim.RMSprop(params=model.parameters(), lr=lr)"
   ]
  },
  {
   "cell_type": "code",
   "execution_count": null,
   "metadata": {
    "collapsed": false,
    "jupyter": {
     "outputs_hidden": false
    }
   },
   "outputs": [],
   "source": [
    "def collate(mini_batch):\n",
    "    # Get the length of the longest sentence\n",
    "    max_sequence_len = max(len(sample) for sample in mini_batch)\n",
    "    # Create an input tensor with all zero values\n",
    "    input_embeds = np.zeros((len(mini_batch), max_sequence_len, 300))\n",
    "    #\n",
    "    valid_mask = np.zeros((len(mini_batch), max_sequence_len))\n",
    "    # Create a target output matrix with all -100 (PyTorch ignores this value by default)\n",
    "    output_lbl = np.full((len(mini_batch), max_sequence_len), -100)\n",
    "    # Fill the tensor and the matrix\n",
    "    for i, sample in enumerate(mini_batch):\n",
    "        for j, token in enumerate(sample):\n",
    "            # Manage missing tokens in vocabulary\n",
    "            input_embeds[i, j] = embeddings_model[token['token'].lower()]\n",
    "            output_lbl[i, j] = le[task].transform([token[task]])[0]\n",
    "        valid_mask[i, :len(sample)] = 1.0\n",
    "    # Convert to PyTorch tensor\n",
    "    input_embeds = torch.tensor(input_embeds, dtype=torch.float, device=device)\n",
    "    valid_mask = torch.tensor(valid_mask, dtype=torch.float, device=device)\n",
    "    output_lbl = torch.tensor(output_lbl, device=device)\n",
    "\n",
    "    return input_embeds, output_lbl\n",
    "    # return input_embeds, valid_mask, output_lbl"
   ]
  },
  {
   "cell_type": "code",
   "execution_count": null,
   "metadata": {
    "collapsed": false,
    "jupyter": {
     "outputs_hidden": false
    }
   },
   "outputs": [],
   "source": [
    "data_loader = {\n",
    "    split: torch.utils.data.DataLoader(\n",
    "        data, batch_size=batch_size, collate_fn=collate, shuffle=split == 'train'\n",
    "    )\n",
    "    for split, data in conll.items()\n",
    "}"
   ]
  },
  {
   "cell_type": "markdown",
   "metadata": {
    "collapsed": false,
    "jupyter": {
     "outputs_hidden": false
    }
   },
   "source": [
    "##### Training"
   ]
  },
  {
   "cell_type": "code",
   "execution_count": null,
   "metadata": {
    "scrolled": true
   },
   "outputs": [],
   "source": [
    "path = os.path.join('../experiments/contextual/', f'{model_id}_{corpus}_{task}_{datetime.now()}.ckpt')\n",
    "\n",
    "# Set model in training mode\n",
    "model.train()\n",
    "\n",
    "# Accumulator of loss\n",
    "history = []\n",
    "validation_history = []\n",
    "best_validation_loss = torch.tensor(float('inf'), device=device)\n",
    "\n",
    "# scheduler = torch.optim.lr_scheduler.OneCycleLR(optimizer, lr, steps_per_epoch=len(data_loader['train']), epochs=n_epochs, anneal_strategy='linear', pct_start=0.05)\n",
    "\n",
    "estop_counter = 0\n",
    "\n",
    "# Iterate over epochs\n",
    "for i in range(n_epochs):\n",
    "    print(f\"Starting epoch {i + 1}/{n_epochs}\")\n",
    "    # Iterate over training batches\n",
    "    for embeds, lbl in tqdm(data_loader['train']):\n",
    "        # Zero your gradients for every batch!\n",
    "        optimizer.zero_grad()\n",
    "        # Move input and output to target device\n",
    "        embeds = embeds.to(device)\n",
    "        lbl = lbl.to(device)\n",
    "        # Compute logits (i.e., softmax values before exponential normalisation)\n",
    "        logits = model(embeds)\n",
    "        # Flatten logits to a shape (batch_size * max_sentence_len, n_classes)\n",
    "        logits = logits.reshape(-1, len(le[task].classes_))\n",
    "        # Flatten targets to a shape (batch_size * max_sentence_len)\n",
    "        lbl = lbl.reshape(-1)\n",
    "        # Compute loss\n",
    "        loss = F.cross_entropy(logits, lbl)\n",
    "        # Compute gradients\n",
    "        loss.backward()\n",
    "        # Update weights\n",
    "        torch.nn.utils.clip_grad_norm_(model.parameters(), 1.0)\n",
    "        optimizer.step()\n",
    "        # scheduler.step()\n",
    "        # Save loss\n",
    "        history.append(loss.detach())\n",
    "    # Disable gradients\n",
    "    with torch.no_grad():\n",
    "        print(f\"Starting validation epoch {i + 1}/{n_epochs}\")\n",
    "        # Set in evaluation mode\n",
    "        model.eval()\n",
    "        # Init validation loss accumulator\n",
    "        loss = []\n",
    "        # Iterate over validation batches\n",
    "        for embeds, lbl in tqdm(data_loader['validation']):\n",
    "            # Move input and output to target device\n",
    "            embeds = embeds.to(device)\n",
    "            lbl = lbl.to(device)\n",
    "            # Compute logits (i.e., softmax values before exponential normalisation)\n",
    "            logits = model(embeds)\n",
    "            # Flatten logits to a shape (batch_size * max_sentence_len, n_classes)\n",
    "            logits = logits.reshape(-1, len(le[task].classes_))\n",
    "            # Flatten targets to a shape (batch_size * max_sentence_len)\n",
    "            lbl = lbl.reshape(-1)\n",
    "            # Compute loss\n",
    "            loss.append(F.cross_entropy(logits, lbl))\n",
    "        # Aggregate validation loss\n",
    "        validation_history.append(torch.tensor(loss, device=device).mean())\n",
    "        # Check if validation loss has improved\n",
    "        if validation_history[-1] <= best_validation_loss:\n",
    "            torch.save(model.state_dict(), path)\n",
    "            best_validation_loss = validation_history[-1]\n",
    "            estop_counter = 0\n",
    "        else:\n",
    "            estop_counter += 1\n",
    "        # Restore training mode\n",
    "        model.train()\n",
    "    if estop_counter >= 5:\n",
    "        break\n",
    "        \n",
    "# Restore best weights\n",
    "if os.path.exists(path):\n",
    "    model.load_state_dict(torch.load(path))\n",
    "\n",
    "history = [loss.cpu().item() for loss in history]\n",
    "validation_history = [loss.cpu().item() for loss in validation_history]"
   ]
  },
  {
   "cell_type": "code",
   "execution_count": null,
   "metadata": {
    "collapsed": false,
    "jupyter": {
     "outputs_hidden": false
    }
   },
   "outputs": [],
   "source": [
    "plt.figure()\n",
    "plt.plot(range(len(history)), history, label='Training loss')\n",
    "plt.plot(range(len(data_loader['train']) - 1, len(history), len(data_loader['train'])), validation_history, label='Validation loss')\n",
    "plt.legend(loc='best')\n",
    "plt.xlabel('Update step')\n",
    "plt.ylabel('Loss')\n",
    "plt.xlim([0.0, len(history)])\n",
    "plt.ylim([0.0, 4.0])\n",
    "plt.grid()"
   ]
  },
  {
   "cell_type": "markdown",
   "metadata": {
    "collapsed": false,
    "jupyter": {
     "outputs_hidden": false
    }
   },
   "source": [
    "##### Evaluation"
   ]
  },
  {
   "cell_type": "code",
   "execution_count": null,
   "metadata": {
    "collapsed": false,
    "jupyter": {
     "outputs_hidden": false
    }
   },
   "outputs": [],
   "source": [
    "# Set model in evaluation mode\n",
    "model.eval()"
   ]
  },
  {
   "cell_type": "markdown",
   "metadata": {
    "collapsed": false,
    "jupyter": {
     "outputs_hidden": false
    }
   },
   "source": [
    "Validation set"
   ]
  },
  {
   "cell_type": "code",
   "execution_count": null,
   "metadata": {
    "collapsed": false,
    "jupyter": {
     "outputs_hidden": false
    }
   },
   "outputs": [],
   "source": [
    "#\n",
    "split = 'validation'\n",
    "\n",
    "# Accumulators for target labels and predictions\n",
    "y_true = []\n",
    "y_pred = []\n",
    "y_proba = []\n",
    "\n",
    "# Disable gradients\n",
    "with torch.no_grad():\n",
    "    # Iterate over validation batches\n",
    "    for embeds, lbl in tqdm(data_loader[split]):\n",
    "        # Move input and output to target device\n",
    "        embeds = embeds.to(device)\n",
    "        # Compute logits (i.e., softmax values before exponential normalisation)\n",
    "        logits = model(embeds)\n",
    "        # Get predictions as the index corresponding to the highest logit score\n",
    "        pred_lbl = torch.argmax(logits, dim=-1)\n",
    "        # Append predicted proba\n",
    "        y_proba.append(logits.view(-1, len(le[task].classes_)).cpu().numpy())\n",
    "        # Append predicted labels\n",
    "        y_pred.append(pred_lbl.view(-1).cpu().numpy())\n",
    "        # Append target labels\n",
    "        y_true.append(lbl.view(-1).cpu().numpy())\n",
    "\n",
    "# Concatenate all the vectors of target labels and predicted labels\n",
    "y_true = np.concatenate(y_true)\n",
    "y_pred = np.concatenate(y_pred)\n",
    "y_proba = np.concatenate(y_proba, axis=0)\n",
    "# Remove elements to ignore (the -100 labels)\n",
    "mask = y_true == -100\n",
    "y_true = y_true[~mask]\n",
    "y_pred = y_pred[~mask]\n",
    "y_proba = y_proba[~mask]\n",
    "\n",
    "labels = np.unique(y_true)\n",
    "mapping = np.zeros(len(le[task].classes_), dtype=int)\n",
    "mapping[labels] = np.arange(len(labels))\n",
    "\n",
    "y_true = mapping[y_true]\n",
    "y_pred = mapping[y_pred]\n",
    "y_proba = softmax(y_proba[:, labels], axis=1)\n",
    "\n",
    "ids, counts = np.unique(y_true, return_counts=True)\n",
    "weights = counts / np.sum(counts)\n",
    "\n",
    "# \n",
    "accuracy = accuracy_score(y_true, y_pred)\n",
    "precision_m, recall_m, fscore_m, support_m = precision_recall_fscore_support(y_true, y_pred, average='macro')\n",
    "auc_m = roc_auc_score(y_true, y_proba, multi_class='ovr', average='macro')\n",
    "precision_w, recall_w, fscore_w, support_w = precision_recall_fscore_support(y_true, y_pred, average='weighted')\n",
    "auc_w = roc_auc_score(y_true, y_proba, multi_class='ovr', average='weighted')\n",
    "accuracy_sw = accuracy_score(y_true, y_pred, sample_weight=weights[y_true])\n",
    "precision_sw, recall_sw, fscore_sw, support_sw = precision_recall_fscore_support(y_true, y_pred, average='weighted', sample_weight=weights[y_true])\n",
    "auc_sw = roc_auc_score(y_true, y_proba, multi_class='ovr', average='weighted', sample_weight=weights[y_true])\n",
    "results.extend([\n",
    "    {\n",
    "        'corpus': corpus,\n",
    "        'task': task,\n",
    "        'embeddings': model_id,\n",
    "        'split': split,\n",
    "        'timestamp': timestamp,\n",
    "        'metric': metric,\n",
    "        'value': value\n",
    "    }\n",
    "    for metric, value in zip(\n",
    "        CLS_METRICS, [\n",
    "            accuracy, precision_m, recall_m, fscore_m, auc_m, \n",
    "            precision_w, recall_w, fscore_w, auc_w,\n",
    "            accuracy_sw, precision_sw, recall_sw, fscore_sw, auc_sw\n",
    "        ]\n",
    "    )\n",
    "])\n",
    "# Finally compute classification report\n",
    "print()\n",
    "print(classification_report(y_true, y_pred, target_names=le[task].classes_[labels]))"
   ]
  },
  {
   "cell_type": "markdown",
   "metadata": {
    "collapsed": false,
    "jupyter": {
     "outputs_hidden": false
    }
   },
   "source": [
    "Test set"
   ]
  },
  {
   "cell_type": "code",
   "execution_count": null,
   "metadata": {
    "collapsed": false,
    "jupyter": {
     "outputs_hidden": false
    }
   },
   "outputs": [],
   "source": [
    "#\n",
    "split = 'test'\n",
    "\n",
    "# Accumulators for target labels and predictions\n",
    "y_true = []\n",
    "y_pred = []\n",
    "y_proba = []\n",
    "\n",
    "# Accumulators for target labels and predictions\n",
    "y_true = []\n",
    "y_pred = []\n",
    "y_proba = []\n",
    "\n",
    "# Disable gradients\n",
    "with torch.no_grad():\n",
    "    # Iterate over validation batches\n",
    "    for embeds, lbl in tqdm(data_loader[split]):\n",
    "        # Move input and output to target device\n",
    "        embeds = embeds.to(device)\n",
    "        # Compute logits (i.e., softmax values before exponential normalisation)\n",
    "        logits = model(embeds)\n",
    "        # Get predictions as the index corresponding to the highest logit score\n",
    "        pred_lbl = torch.argmax(logits, dim=-1)\n",
    "        # Append predicted proba\n",
    "        y_proba.append(logits.view(-1, len(le[task].classes_)).cpu().numpy())\n",
    "        # Append predicted labels\n",
    "        y_pred.append(pred_lbl.view(-1).cpu().numpy())\n",
    "        # Append target labels\n",
    "        y_true.append(lbl.view(-1).cpu().numpy())\n",
    "\n",
    "# Concatenate all the vectors of target labels and predicted labels\n",
    "y_true = np.concatenate(y_true)\n",
    "y_pred = np.concatenate(y_pred)\n",
    "y_proba = np.concatenate(y_proba, axis=0)\n",
    "# Remove elements to ignore (the -100 labels)\n",
    "mask = y_true == -100\n",
    "y_true = y_true[~mask]\n",
    "y_pred = y_pred[~mask]\n",
    "y_proba = y_proba[~mask]\n",
    "\n",
    "labels = np.unique(y_true)\n",
    "mapping = np.zeros(len(le[task].classes_), dtype=int)\n",
    "mapping[labels] = np.arange(len(labels))\n",
    "\n",
    "y_true = mapping[y_true]\n",
    "y_pred = mapping[y_pred]\n",
    "y_proba = softmax(y_proba[:, labels], axis=1)\n",
    "\n",
    "ids, counts = np.unique(y_true, return_counts=True)\n",
    "weights = counts / np.sum(counts)\n",
    "\n",
    "# \n",
    "accuracy = accuracy_score(y_true, y_pred)\n",
    "precision_m, recall_m, fscore_m, support_m = precision_recall_fscore_support(y_true, y_pred, average='macro')\n",
    "auc_m = roc_auc_score(y_true, y_proba, multi_class='ovr', average='macro')\n",
    "precision_w, recall_w, fscore_w, support_w = precision_recall_fscore_support(y_true, y_pred, average='weighted')\n",
    "auc_w = roc_auc_score(y_true, y_proba, multi_class='ovr', average='weighted')\n",
    "accuracy_sw = accuracy_score(y_true, y_pred, sample_weight=weights[y_true])\n",
    "precision_sw, recall_sw, fscore_sw, support_sw = precision_recall_fscore_support(y_true, y_pred, average='weighted', sample_weight=weights[y_true])\n",
    "auc_sw = roc_auc_score(y_true, y_proba, multi_class='ovr', average='weighted', sample_weight=weights[y_true])\n",
    "results.extend([\n",
    "    {\n",
    "        'corpus': corpus,\n",
    "        'task': task,\n",
    "        'embeddings': model_id,\n",
    "        'split': split,\n",
    "        'timestamp': timestamp,\n",
    "        'metric': metric,\n",
    "        'value': value\n",
    "    }\n",
    "    for metric, value in zip(\n",
    "        CLS_METRICS, [\n",
    "            accuracy, precision_m, recall_m, fscore_m, auc_m, \n",
    "            precision_w, recall_w, fscore_w, auc_w,\n",
    "            accuracy_sw, precision_sw, recall_sw, fscore_sw, auc_sw\n",
    "        ]\n",
    "    )\n",
    "])\n",
    "# Finally compute classification report\n",
    "print()\n",
    "print(classification_report(y_true, y_pred, target_names=le[task].classes_[labels]))"
   ]
  },
  {
   "cell_type": "markdown",
   "metadata": {
    "collapsed": false,
    "jupyter": {
     "outputs_hidden": false
    }
   },
   "source": [
    "### SST"
   ]
  },
  {
   "cell_type": "code",
   "execution_count": 25,
   "metadata": {
    "collapsed": false,
    "jupyter": {
     "outputs_hidden": false
    }
   },
   "outputs": [],
   "source": [
    "corpus = 'SST'"
   ]
  },
  {
   "cell_type": "code",
   "execution_count": 26,
   "metadata": {
    "collapsed": false,
    "jupyter": {
     "outputs_hidden": false
    }
   },
   "outputs": [
    {
     "data": {
      "text/plain": [
       "[{'sequence': \"The Rock is destined to be the 21st Century 's new `` Conan '' and that he 's going to make a splash even greater than Arnold Schwarzenegger , Jean-Claud Van Damme or Steven Segal .\",\n",
       "  'sentiment': 'positive'},\n",
       " {'sequence': \"The gorgeously elaborate continuation of `` The Lord of the Rings '' trilogy is so huge that a column of words can not adequately describe co-writer\\\\/director Peter Jackson 's expanded vision of J.R.R. Tolkien 's Middle-earth .\",\n",
       "  'sentiment': 'positive'},\n",
       " {'sequence': 'Singer\\\\/composer Bryan Adams contributes a slew of songs -- a few potential hits , a few more simply intrusive to the story -- but the whole package certainly captures the intended , er , spirit of the piece .',\n",
       "  'sentiment': 'positive'}]"
      ]
     },
     "execution_count": 26,
     "metadata": {},
     "output_type": "execute_result"
    }
   ],
   "source": [
    "sst['train']._data[:3]"
   ]
  },
  {
   "cell_type": "code",
   "execution_count": 27,
   "metadata": {
    "collapsed": false,
    "jupyter": {
     "outputs_hidden": false
    }
   },
   "outputs": [],
   "source": [
    "embeddings_model.fit_sif_embedding([sample['sequence'] for sample in sst['train']])"
   ]
  },
  {
   "cell_type": "code",
   "execution_count": 28,
   "metadata": {
    "collapsed": false,
    "jupyter": {
     "outputs_hidden": false
    }
   },
   "outputs": [
    {
     "data": {
      "text/plain": [
       "\"\\nclass SequenceClassification(nn.Module):\\n    def __init__(self, input_size, output_size, hidden_size: int = 512, kernel_size: int = 5):\\n        super().__init__()\\n        self.norm = nn.LayerNorm(input_size)\\n        self.conv1d = nn.Conv1d(input_size, hidden_size, kernel_size, padding='same')\\n        self.dropout = nn.Dropout(0.1)\\n        self.cls_head = nn.Linear(hidden_size, output_size)\\n        \\n    def forward(self, x, w):\\n        # \\n        x = self.dropout(x)\\n        #\\n        h = self.conv1d(self.norm(x).transpose(-1, -2))\\n        # Non-linear activation\\n        h = F.gelu(h)\\n        # Dropout\\n        h = self.dropout(h)\\n        # Weighted sum\\n        h = torch.einsum('btd,bt->bd', h.transpose(-1, -2), w)\\n        # Apply last linear projection\\n        y = self.cls_head(h)\\n\\n        return y\\n\""
      ]
     },
     "execution_count": 28,
     "metadata": {},
     "output_type": "execute_result"
    }
   ],
   "source": [
    "from typing import Tuple, List, Set\n",
    "\n",
    "class Conv1D(nn.Module):\n",
    "    \"\"\"\n",
    "    1D-convolutional layer as defined by Radford et al. for OpenAI GPT (and also used in GPT-2).\n",
    "    Basically works like a linear layer but the weights are transposed.\n",
    "    Args:\n",
    "        nf (:obj:`int`): The number of output features.\n",
    "        nx (:obj:`int`): The number of input features.\n",
    "\n",
    "    Thanks to Hugging Face for the implementation\n",
    "    \"\"\"\n",
    "\n",
    "    def __init__(self, nf, nx):\n",
    "        super().__init__()\n",
    "        self.nf = nf\n",
    "        w = torch.empty(nx, nf)\n",
    "        nn.init.normal_(w, std=0.02)\n",
    "        self.weight = nn.Parameter(w)\n",
    "        self.bias = nn.Parameter(torch.zeros(nf))\n",
    "\n",
    "    def forward(self, x):\n",
    "        size_out = x.size()[:-1] + (self.nf,)\n",
    "        x = torch.addmm(self.bias, x.view(-1, x.size(-1)), self.weight)\n",
    "        x = x.view(*size_out)\n",
    "        return x\n",
    "\n",
    "\n",
    "def find_pruneable_heads_and_indices(heads: List[int],\n",
    "                                     n_heads: int,\n",
    "                                     head_size: int,\n",
    "                                     already_pruned_heads: Set[int]) -> Tuple[Set[int], torch.LongTensor]:\n",
    "    \"\"\"\n",
    "    Finds the heads and their indices taking :obj:`already_pruned_heads` into account.\n",
    "    Args:\n",
    "        heads (:obj:`List[int]`): List of the indices of heads to prune.\n",
    "        n_heads (:obj:`int`): The number of heads in the model.\n",
    "        head_size (:obj:`int`): The size of each head.\n",
    "        already_pruned_heads (:obj:`Set[int]`): A set of already pruned heads.\n",
    "    Returns:\n",
    "        :obj:`Tuple[Set[int], torch.LongTensor]`: A tuple with the remaining heads and their corresponding indices.\n",
    "\n",
    "\n",
    "    Thanks to Hugging Face for the implementation\n",
    "    \"\"\"\n",
    "    mask = torch.ones(n_heads, head_size)\n",
    "    heads = set(heads) - already_pruned_heads  # Convert to set and remove already pruned heads\n",
    "    for head in heads:\n",
    "        # Compute how many pruned heads are before the head and move the index accordingly\n",
    "        head = head - sum(1 if h < head else 0 for h in already_pruned_heads)\n",
    "        mask[head] = 0\n",
    "    mask = mask.view(-1).contiguous().eq(1)\n",
    "    index: torch.LongTensor = torch.arange(len(mask))[mask].long()\n",
    "    return heads, index\n",
    "\n",
    "\n",
    "def prune_conv1d_layer(layer: Conv1D, index: torch.LongTensor, dim: int = 1) -> Conv1D:\n",
    "    \"\"\"\n",
    "    Prune a Conv1D layer to keep only entries in index. A Conv1D work as a Linear layer (see e.g. BERT) but the weights\n",
    "    are transposed.\n",
    "    Used to remove heads.\n",
    "    Args:\n",
    "        layer (:class:`~transformers.modeling_utils.Conv1D`): The layer to prune.\n",
    "        index (:obj:`torch.LongTensor`): The indices to keep in the layer.\n",
    "        dim (:obj:`int`, `optional`, defaults to 1): The dimension on which to keep the indices.\n",
    "    Returns:\n",
    "        :class:`~transformers.modeling_utils.Conv1D`: The pruned layer as a new layer with :obj:`requires_grad=True`.\n",
    "\n",
    "    Thanks to Hugging Face for the implementation\n",
    "    \"\"\"\n",
    "    index = index.to(layer.weight.device)\n",
    "    W = layer.weight.index_select(dim, index).clone().detach()\n",
    "    if dim == 0:\n",
    "        b = layer.bias.clone().detach()\n",
    "    else:\n",
    "        b = layer.bias[index].clone().detach()\n",
    "    new_size = list(layer.weight.size())\n",
    "    new_size[dim] = len(index)\n",
    "    new_layer = Conv1D(new_size[1], new_size[0]).to(layer.weight.device)\n",
    "    new_layer.weight.requires_grad = False\n",
    "    new_layer.weight.copy_(W.contiguous())\n",
    "    new_layer.weight.requires_grad = True\n",
    "    new_layer.bias.requires_grad = False\n",
    "    new_layer.bias.copy_(b.contiguous())\n",
    "    new_layer.bias.requires_grad = True\n",
    "    return new_layer\n",
    "\n",
    "\n",
    "class AttentionAvgPooling(nn.Module):\n",
    "    def __init__(self,\n",
    "                 n_hidden: int = 512,\n",
    "                 n_heads: int = 8,\n",
    "                 max_positions: int = 1024,\n",
    "                 p_dropout: float = 0.1,\n",
    "                 scale_attn_weights: bool = True):\n",
    "        super().__init__()\n",
    "\n",
    "        self.embed_dim = n_hidden\n",
    "        self.num_heads = n_heads\n",
    "        self.head_dim = self.embed_dim // self.num_heads\n",
    "        self.split_size = self.embed_dim\n",
    "        assert self.head_dim * self.num_heads == self.embed_dim, f\"`embed_dim` must be divisible by num_heads \" \\\n",
    "                                                                 f\"(got `embed_dim`: {self.embed_dim} and \" \\\n",
    "                                                                 f\"`num_heads`: {self.num_heads}).\"\n",
    "\n",
    "        self.scale_attn_weights = scale_attn_weights\n",
    "\n",
    "        self.qkv_attn = Conv1D(3 * self.embed_dim, self.embed_dim)\n",
    "\n",
    "        self.dropout = nn.Dropout(p_dropout)\n",
    "\n",
    "        self.pruned_heads = set()\n",
    "\n",
    "    def prune_heads(self, heads):\n",
    "        if len(heads) == 0:\n",
    "            return\n",
    "        heads, index = find_pruneable_heads_and_indices(heads, self.num_heads, self.head_dim, self.pruned_heads)\n",
    "        index_attn = torch.cat([index, index + self.split_size, index + (2 * self.split_size)])\n",
    "\n",
    "        # Prune conv1d layers\n",
    "        self.qkv_attn = prune_conv1d_layer(self.qkv_attn, index_attn, dim=1)\n",
    "\n",
    "        # Update hyper params\n",
    "        self.split_size = (self.split_size // self.num_heads) * (self.num_heads - len(heads))\n",
    "        self.num_heads = self.num_heads - len(heads)\n",
    "        self.pruned_heads = self.pruned_heads.union(heads)\n",
    "\n",
    "    def _attn(self, query, key, value, attention_mask=None):\n",
    "        attn_weights = torch.matmul(query, key.transpose(-1, -2))\n",
    "        attn_weights = attn_weights / (float(value.size(-1)) ** 0.5)\n",
    "\n",
    "        if attention_mask is not None:\n",
    "            # Apply the attention mask\n",
    "            attn_weights = attn_weights + attention_mask\n",
    "\n",
    "        attn_weights = nn.Softmax(dim=-1)(attn_weights)\n",
    "        attn_weights = self.dropout(attn_weights)\n",
    "\n",
    "        attn_output = torch.matmul(attn_weights, value)\n",
    "\n",
    "        return attn_output, attn_weights\n",
    "\n",
    "    @staticmethod\n",
    "    def _split_heads(tensor, num_heads, attn_head_size):\n",
    "        new_shape = tensor.size()[:-1] + (num_heads, attn_head_size)\n",
    "        tensor = tensor.view(*new_shape)\n",
    "        return tensor.permute(0, 2, 1, 3)  # (batch, head, seq_length, head_features)\n",
    "\n",
    "    @staticmethod\n",
    "    def _merge_heads(tensor, num_heads, attn_head_size):\n",
    "        tensor = tensor.permute(0, 2, 1, 3).contiguous()\n",
    "        new_shape = tensor.size()[:-2] + (num_heads * attn_head_size,)\n",
    "        return tensor.view(new_shape)\n",
    "\n",
    "    def forward(self,\n",
    "                hidden_states,\n",
    "                attention_mask=None,\n",
    "                return_attention_weights=False):\n",
    "\n",
    "        query, key, value = self.qkv_attn(hidden_states).split(self.split_size, dim=2)\n",
    "\n",
    "        # Query is averaged to obtain pooling\n",
    "        query = self._split_heads(query, self.num_heads, self.head_dim).mean(-2, keepdims=True)\n",
    "        key = self._split_heads(key, self.num_heads, self.head_dim)\n",
    "        value = self._split_heads(value, self.num_heads, self.head_dim)\n",
    "\n",
    "        if attention_mask is not None:\n",
    "            attention_mask = (1.0 - attention_mask) * -1e+6\n",
    "            attention_mask = attention_mask[:, None, None, :]\n",
    "\n",
    "        attn_output, attn_weights = self._attn(query, key, value, attention_mask)\n",
    "\n",
    "        attn_output = self._merge_heads(attn_output, self.num_heads, self.head_dim)\n",
    "\n",
    "        if not return_attention_weights:\n",
    "            return attn_output  # attention\n",
    "        else:\n",
    "            attn_weights = self._merge_heads(attn_weights, self.num_heads, self.head_dim)\n",
    "            return attn_output, attn_weights\n",
    "\n",
    "\n",
    "# class GPT2Attention(nn.Module):\n",
    "# https://github.com/huggingface/transformers/blob/master/src/transformers/models/gpt2/modeling_gpt2.py\n",
    "\n",
    "\n",
    "class SequenceClassification(nn.Module):\n",
    "    def __init__(self, input_size, output_size, hidden_size: int = 512, kernel_size: int = 5):\n",
    "        super().__init__()\n",
    "        self.norm = nn.LayerNorm(input_size)\n",
    "        self.conv1d = nn.Conv1d(input_size, hidden_size, kernel_size, padding='same')\n",
    "        self.dropout = nn.Dropout(0.1)\n",
    "        self.out_head = nn.Linear(hidden_size, output_size)\n",
    "        ##\n",
    "        self.norm = nn.LayerNorm(hidden_size)\n",
    "        self.out_norm = nn.LayerNorm(hidden_size)\n",
    "        self.pool = AttentionAvgPooling()\n",
    "        \n",
    "    def forward(self, x, w):\n",
    "        # \n",
    "        x = self.dropout(x)\n",
    "        #\n",
    "        h = self.conv1d(x.transpose(-1, -2)).transpose(-1, -2)  # self.norm(x).transpose(-1, -2)\n",
    "        ##\n",
    "        h = self.norm(h)\n",
    "        # Non-linear activation\n",
    "        h = F.gelu(h)\n",
    "        \n",
    "        # Dropout\n",
    "        h = self.dropout(h)\n",
    "        # Weighted sum\n",
    "        # h = torch.einsum('btd,bt->bd', h, w)\n",
    "        # Apply last linear projection\n",
    "        # h = self.out_head(h)\n",
    "        ##\n",
    "        h = self.pool(h, w)\n",
    "        h = self.out_norm(h)\n",
    "        y = self.out_head(h)\n",
    "\n",
    "        return y\n",
    "\n",
    "'''\n",
    "class SequenceClassification(nn.Module):\n",
    "    def __init__(self, input_size, output_size, hidden_size: int = 512, kernel_size: int = 5):\n",
    "        super().__init__()\n",
    "        self.norm = nn.LayerNorm(input_size)\n",
    "        self.conv1d = nn.Conv1d(input_size, hidden_size, kernel_size, padding='same')\n",
    "        self.dropout = nn.Dropout(0.1)\n",
    "        self.cls_head = nn.Linear(hidden_size, output_size)\n",
    "        \n",
    "    def forward(self, x, w):\n",
    "        # \n",
    "        x = self.dropout(x)\n",
    "        #\n",
    "        h = self.conv1d(self.norm(x).transpose(-1, -2))\n",
    "        # Non-linear activation\n",
    "        h = F.gelu(h)\n",
    "        # Dropout\n",
    "        h = self.dropout(h)\n",
    "        # Weighted sum\n",
    "        h = torch.einsum('btd,bt->bd', h.transpose(-1, -2), w)\n",
    "        # Apply last linear projection\n",
    "        y = self.cls_head(h)\n",
    "\n",
    "        return y\n",
    "'''"
   ]
  },
  {
   "cell_type": "code",
   "execution_count": 29,
   "metadata": {
    "collapsed": false,
    "jupyter": {
     "outputs_hidden": false
    }
   },
   "outputs": [
    {
     "name": "stdout",
     "output_type": "stream",
     "text": [
      "sentiment ['negative' 'positive']\n"
     ]
    }
   ],
   "source": [
    "le = sst['train'].get_label_transformer()\n",
    "for label, le_ in le.items():\n",
    "    print(label, le_.classes_)"
   ]
  },
  {
   "cell_type": "code",
   "execution_count": 30,
   "metadata": {},
   "outputs": [
    {
     "name": "stdout",
     "output_type": "stream",
     "text": [
      "sentiment tensor([1.1226, 1.0000], device='cuda:0')\n"
     ]
    }
   ],
   "source": [
    "lw = {label: lw_.to(device) for label, lw_ in sst['train'].get_label_weights().items()}\n",
    "for label, lw_ in lw.items():\n",
    "    print(label, lw_)"
   ]
  },
  {
   "cell_type": "code",
   "execution_count": 31,
   "metadata": {
    "collapsed": false,
    "jupyter": {
     "outputs_hidden": false
    }
   },
   "outputs": [],
   "source": [
    "task = 'sentiment'"
   ]
  },
  {
   "cell_type": "code",
   "execution_count": 32,
   "metadata": {
    "collapsed": false,
    "jupyter": {
     "outputs_hidden": false
    }
   },
   "outputs": [
    {
     "data": {
      "text/plain": [
       "SequenceClassification(\n",
       "  (norm): LayerNorm((512,), eps=1e-05, elementwise_affine=True)\n",
       "  (conv1d): Conv1d(300, 512, kernel_size=(5,), stride=(1,), padding=same)\n",
       "  (dropout): Dropout(p=0.1, inplace=False)\n",
       "  (out_head): Linear(in_features=512, out_features=2, bias=True)\n",
       "  (out_norm): LayerNorm((512,), eps=1e-05, elementwise_affine=True)\n",
       "  (pool): AttentionAvgPooling(\n",
       "    (qkv_attn): Conv1D()\n",
       "    (dropout): Dropout(p=0.1, inplace=False)\n",
       "  )\n",
       ")"
      ]
     },
     "execution_count": 32,
     "metadata": {},
     "output_type": "execute_result"
    }
   ],
   "source": [
    "model = SequenceClassification(300, len(le[task].classes_))    \n",
    "model = model.to(device)\n",
    "model"
   ]
  },
  {
   "cell_type": "code",
   "execution_count": 33,
   "metadata": {
    "collapsed": false,
    "jupyter": {
     "outputs_hidden": false
    }
   },
   "outputs": [],
   "source": [
    "lr = 0.001\n",
    "batch_size = 512\n",
    "n_epochs = 64\n",
    "optimizer = torch.optim.AdamW(params=model.parameters(), lr=lr, weight_decay=0.2)\n",
    "# optimizer = torch.optim.RMSprop(params=model.parameters(), lr=lr)"
   ]
  },
  {
   "cell_type": "code",
   "execution_count": 34,
   "metadata": {
    "collapsed": false,
    "jupyter": {
     "outputs_hidden": false
    }
   },
   "outputs": [],
   "source": [
    "def collate(mini_batch):\n",
    "    # Tokenise sequences \n",
    "    sequences = embeddings_model.tokenise([sample['sequence'] for sample in mini_batch])\n",
    "    # Get the length of the longest sentence\n",
    "    max_sequence_len = max(len(sample) for sample in sequences)\n",
    "    # Create an input tensor with all zero values\n",
    "    input_embeds = np.zeros((len(mini_batch), max_sequence_len, 300))\n",
    "    # Create weights tensor with all zero values\n",
    "    token_weights = np.zeros((len(mini_batch), max_sequence_len))\n",
    "    valid_mask = np.zeros((len(mini_batch), max_sequence_len))\n",
    "    # Create a target output matrix with all -100 (PyTorch ignores this value by default)\n",
    "    output_lbl = np.full((len(mini_batch), 1), -100)\n",
    "    # Fill the tensor and the matrix\n",
    "    for i, sample in enumerate(sequences):\n",
    "        for j, token in enumerate(sample):\n",
    "            # Manage missing tokens in vocabulary\n",
    "            input_embeds[i, j] = embeddings_model[token.lower()]\n",
    "        token_weights[i, :len(sample)] = embeddings_model.sif_embedding_model.word_weights[embeddings_model.encode(sample, backend='numpy')]\n",
    "        valid_mask[i, :len(sample)] = 1.0\n",
    "        output_lbl[i] = le[task].transform([mini_batch[i][task]])[0]\n",
    "    # Convert to PyTorch tensor\n",
    "    input_embeds = torch.tensor(input_embeds, dtype=torch.float, device=device)\n",
    "    token_weights = torch.tensor(token_weights, dtype=torch.float, device=device)\n",
    "    valid_mask = torch.tensor(valid_mask, dtype=torch.float, device=device)\n",
    "    output_lbl = torch.tensor(output_lbl, device=device)\n",
    "\n",
    "    # return input_embeds, token_weights, output_lbl\n",
    "    return input_embeds, valid_mask, output_lbl"
   ]
  },
  {
   "cell_type": "code",
   "execution_count": 35,
   "metadata": {
    "collapsed": false,
    "jupyter": {
     "outputs_hidden": false
    }
   },
   "outputs": [],
   "source": [
    "data_loader = {\n",
    "    split: torch.utils.data.DataLoader(\n",
    "        data, batch_size=batch_size, collate_fn=collate, shuffle=split == 'train'\n",
    "    )\n",
    "    for split, data in sst.items()\n",
    "}"
   ]
  },
  {
   "cell_type": "markdown",
   "metadata": {
    "collapsed": false,
    "jupyter": {
     "outputs_hidden": false
    }
   },
   "source": [
    "##### Training"
   ]
  },
  {
   "cell_type": "code",
   "execution_count": 36,
   "metadata": {
    "collapsed": false,
    "jupyter": {
     "outputs_hidden": false
    },
    "scrolled": true
   },
   "outputs": [
    {
     "name": "stdout",
     "output_type": "stream",
     "text": [
      "Starting epoch 1/64\n"
     ]
    },
    {
     "name": "stderr",
     "output_type": "stream",
     "text": [
      "100%|████████████████████████████████████████████████████████████████████████████████████████████████████████████████████████████████████████████████████████████████████████████| 16/16 [00:02<00:00,  7.85it/s]\n"
     ]
    },
    {
     "name": "stdout",
     "output_type": "stream",
     "text": [
      "Starting validation epoch 1/64\n"
     ]
    },
    {
     "name": "stderr",
     "output_type": "stream",
     "text": [
      "100%|██████████████████████████████████████████████████████████████████████████████████████████████████████████████████████████████████████████████████████████████████████████████| 5/5 [00:00<00:00, 10.85it/s]\n"
     ]
    },
    {
     "name": "stdout",
     "output_type": "stream",
     "text": [
      "Starting epoch 2/64\n"
     ]
    },
    {
     "name": "stderr",
     "output_type": "stream",
     "text": [
      "100%|████████████████████████████████████████████████████████████████████████████████████████████████████████████████████████████████████████████████████████████████████████████| 16/16 [00:01<00:00,  8.90it/s]\n"
     ]
    },
    {
     "name": "stdout",
     "output_type": "stream",
     "text": [
      "Starting validation epoch 2/64\n"
     ]
    },
    {
     "name": "stderr",
     "output_type": "stream",
     "text": [
      "100%|██████████████████████████████████████████████████████████████████████████████████████████████████████████████████████████████████████████████████████████████████████████████| 5/5 [00:00<00:00, 10.83it/s]\n"
     ]
    },
    {
     "name": "stdout",
     "output_type": "stream",
     "text": [
      "Starting epoch 3/64\n"
     ]
    },
    {
     "name": "stderr",
     "output_type": "stream",
     "text": [
      "100%|████████████████████████████████████████████████████████████████████████████████████████████████████████████████████████████████████████████████████████████████████████████| 16/16 [00:01<00:00,  8.81it/s]\n"
     ]
    },
    {
     "name": "stdout",
     "output_type": "stream",
     "text": [
      "Starting validation epoch 3/64\n"
     ]
    },
    {
     "name": "stderr",
     "output_type": "stream",
     "text": [
      "100%|██████████████████████████████████████████████████████████████████████████████████████████████████████████████████████████████████████████████████████████████████████████████| 5/5 [00:00<00:00, 10.63it/s]\n"
     ]
    },
    {
     "name": "stdout",
     "output_type": "stream",
     "text": [
      "Starting epoch 4/64\n"
     ]
    },
    {
     "name": "stderr",
     "output_type": "stream",
     "text": [
      "100%|████████████████████████████████████████████████████████████████████████████████████████████████████████████████████████████████████████████████████████████████████████████| 16/16 [00:01<00:00,  8.61it/s]\n"
     ]
    },
    {
     "name": "stdout",
     "output_type": "stream",
     "text": [
      "Starting validation epoch 4/64\n"
     ]
    },
    {
     "name": "stderr",
     "output_type": "stream",
     "text": [
      "100%|██████████████████████████████████████████████████████████████████████████████████████████████████████████████████████████████████████████████████████████████████████████████| 5/5 [00:00<00:00, 10.53it/s]\n"
     ]
    },
    {
     "name": "stdout",
     "output_type": "stream",
     "text": [
      "Starting epoch 5/64\n"
     ]
    },
    {
     "name": "stderr",
     "output_type": "stream",
     "text": [
      "100%|████████████████████████████████████████████████████████████████████████████████████████████████████████████████████████████████████████████████████████████████████████████| 16/16 [00:01<00:00,  8.57it/s]\n"
     ]
    },
    {
     "name": "stdout",
     "output_type": "stream",
     "text": [
      "Starting validation epoch 5/64\n"
     ]
    },
    {
     "name": "stderr",
     "output_type": "stream",
     "text": [
      "100%|██████████████████████████████████████████████████████████████████████████████████████████████████████████████████████████████████████████████████████████████████████████████| 5/5 [00:00<00:00, 10.55it/s]\n"
     ]
    },
    {
     "name": "stdout",
     "output_type": "stream",
     "text": [
      "Starting epoch 6/64\n"
     ]
    },
    {
     "name": "stderr",
     "output_type": "stream",
     "text": [
      "100%|████████████████████████████████████████████████████████████████████████████████████████████████████████████████████████████████████████████████████████████████████████████| 16/16 [00:02<00:00,  7.75it/s]\n"
     ]
    },
    {
     "name": "stdout",
     "output_type": "stream",
     "text": [
      "Starting validation epoch 6/64\n"
     ]
    },
    {
     "name": "stderr",
     "output_type": "stream",
     "text": [
      "100%|██████████████████████████████████████████████████████████████████████████████████████████████████████████████████████████████████████████████████████████████████████████████| 5/5 [00:00<00:00, 10.53it/s]\n"
     ]
    },
    {
     "name": "stdout",
     "output_type": "stream",
     "text": [
      "Starting epoch 7/64\n"
     ]
    },
    {
     "name": "stderr",
     "output_type": "stream",
     "text": [
      "100%|████████████████████████████████████████████████████████████████████████████████████████████████████████████████████████████████████████████████████████████████████████████| 16/16 [00:01<00:00,  8.62it/s]\n"
     ]
    },
    {
     "name": "stdout",
     "output_type": "stream",
     "text": [
      "Starting validation epoch 7/64\n"
     ]
    },
    {
     "name": "stderr",
     "output_type": "stream",
     "text": [
      "100%|██████████████████████████████████████████████████████████████████████████████████████████████████████████████████████████████████████████████████████████████████████████████| 5/5 [00:00<00:00, 10.63it/s]\n"
     ]
    },
    {
     "name": "stdout",
     "output_type": "stream",
     "text": [
      "Starting epoch 8/64\n"
     ]
    },
    {
     "name": "stderr",
     "output_type": "stream",
     "text": [
      "100%|████████████████████████████████████████████████████████████████████████████████████████████████████████████████████████████████████████████████████████████████████████████| 16/16 [00:01<00:00,  8.67it/s]\n"
     ]
    },
    {
     "name": "stdout",
     "output_type": "stream",
     "text": [
      "Starting validation epoch 8/64\n"
     ]
    },
    {
     "name": "stderr",
     "output_type": "stream",
     "text": [
      "100%|██████████████████████████████████████████████████████████████████████████████████████████████████████████████████████████████████████████████████████████████████████████████| 5/5 [00:00<00:00, 10.59it/s]\n"
     ]
    }
   ],
   "source": [
    "path = os.path.join('../experiments/contextual/', f'{model_id}_{corpus}_{task}_{datetime.now()}.ckpt')\n",
    "\n",
    "# Set model in training mode\n",
    "model.train()\n",
    "\n",
    "# Accumulator of loss\n",
    "history = []\n",
    "validation_history = []\n",
    "best_validation_loss = torch.tensor(float('inf'), device=device)\n",
    "\n",
    "# scheduler = torch.optim.lr_scheduler.OneCycleLR(optimizer, lr, steps_per_epoch=len(data_loader['train']), epochs=n_epochs, anneal_strategy='linear', pct_start=0.05)\n",
    "\n",
    "estop_counter = 0\n",
    "\n",
    "# Iterate over epochs\n",
    "for i in range(n_epochs):\n",
    "    print(f\"Starting epoch {i + 1}/{n_epochs}\")\n",
    "    # Iterate over training batches\n",
    "    for embeds, weights, lbl in tqdm(data_loader['train']):\n",
    "        # Zero your gradients for every batch!\n",
    "        optimizer.zero_grad()\n",
    "        # Move input and output to target device\n",
    "        embeds = embeds.to(device)\n",
    "        weights = weights.to(device)\n",
    "        lbl = lbl.to(device)\n",
    "        # Compute logits (i.e., softmax values before exponential normalisation)\n",
    "        logits = model(embeds, weights)\n",
    "        # Flatten logits to a shape (batch_size * max_sentence_len, n_classes)\n",
    "        logits = logits.reshape(-1, len(le[task].classes_))\n",
    "        # Flatten targets to a shape (batch_size * max_sentence_len)\n",
    "        lbl = lbl.reshape(-1)\n",
    "        # Compute loss\n",
    "        loss = F.cross_entropy(logits, lbl)\n",
    "        # Compute gradients\n",
    "        loss.backward()\n",
    "        # Update weights\n",
    "        torch.nn.utils.clip_grad_norm_(model.parameters(), 1.0)\n",
    "        optimizer.step()\n",
    "        # scheduler.step()\n",
    "        # Save loss\n",
    "        history.append(loss)\n",
    "    # Disable gradients\n",
    "    with torch.no_grad():\n",
    "        print(f\"Starting validation epoch {i + 1}/{n_epochs}\")\n",
    "        # Set in evaluation mode\n",
    "        model.eval()\n",
    "        # Init validation loss accumulator\n",
    "        loss = []\n",
    "        # Iterate over validation batches\n",
    "        for embeds, weights, lbl in tqdm(data_loader['validation']):\n",
    "            # Move input and output to target device\n",
    "            embeds = embeds.to(device)\n",
    "            weights = weights.to(device)\n",
    "            lbl = lbl.to(device)\n",
    "            # Compute logits (i.e., softmax values before exponential normalisation)\n",
    "            logits = model(embeds, weights)\n",
    "            # Flatten logits to a shape (batch_size * max_sentence_len, n_classes)\n",
    "            logits = logits.reshape(-1, len(le[task].classes_))\n",
    "            # Flatten targets to a shape (batch_size * max_sentence_len)\n",
    "            lbl = lbl.reshape(-1)\n",
    "            # Compute loss\n",
    "            loss.append(F.cross_entropy(logits, lbl))\n",
    "        # Aggregate validation loss\n",
    "        validation_history.append(torch.tensor(loss, device=device).mean())\n",
    "        # Check if validation loss has improved\n",
    "        if validation_history[-1] <= best_validation_loss:\n",
    "            torch.save(model.state_dict(), path)\n",
    "            best_validation_loss = validation_history[-1]\n",
    "            estop_counter = 0\n",
    "        else:\n",
    "            estop_counter += 1\n",
    "        # Restore training mode\n",
    "        model.train()\n",
    "    if estop_counter >= 5:\n",
    "        break\n",
    "        \n",
    "# Restore best weights\n",
    "if os.path.exists(path):\n",
    "    model.load_state_dict(torch.load(path))\n",
    "\n",
    "history = [loss.cpu().item() for loss in history]\n",
    "validation_history = [loss.cpu().item() for loss in validation_history]"
   ]
  },
  {
   "cell_type": "code",
   "execution_count": 37,
   "metadata": {
    "collapsed": false,
    "jupyter": {
     "outputs_hidden": false
    }
   },
   "outputs": [
    {
     "data": {
      "image/png": "[encoded data removed]",
      "text/plain": [
       "<Figure size 640x480 with 1 Axes>"
      ]
     },
     "metadata": {},
     "output_type": "display_data"
    }
   ],
   "source": [
    "plt.figure()\n",
    "plt.plot(range(len(history)), history, label='Training loss')\n",
    "plt.plot(range(len(data_loader['train']) - 1, len(history), len(data_loader['train'])), validation_history, label='Validation loss')\n",
    "plt.legend(loc='best')\n",
    "plt.xlabel('Update step')\n",
    "plt.ylabel('Loss')\n",
    "plt.xlim([0.0, len(history)])\n",
    "plt.ylim([0.0, 4.0])\n",
    "plt.grid()"
   ]
  },
  {
   "cell_type": "markdown",
   "metadata": {
    "collapsed": false,
    "jupyter": {
     "outputs_hidden": false
    }
   },
   "source": [
    "##### Evaluation"
   ]
  },
  {
   "cell_type": "code",
   "execution_count": 38,
   "metadata": {
    "collapsed": false,
    "jupyter": {
     "outputs_hidden": false
    }
   },
   "outputs": [
    {
     "data": {
      "text/plain": [
       "SequenceClassification(\n",
       "  (norm): LayerNorm((512,), eps=1e-05, elementwise_affine=True)\n",
       "  (conv1d): Conv1d(300, 512, kernel_size=(5,), stride=(1,), padding=same)\n",
       "  (dropout): Dropout(p=0.1, inplace=False)\n",
       "  (out_head): Linear(in_features=512, out_features=2, bias=True)\n",
       "  (out_norm): LayerNorm((512,), eps=1e-05, elementwise_affine=True)\n",
       "  (pool): AttentionAvgPooling(\n",
       "    (qkv_attn): Conv1D()\n",
       "    (dropout): Dropout(p=0.1, inplace=False)\n",
       "  )\n",
       ")"
      ]
     },
     "execution_count": 38,
     "metadata": {},
     "output_type": "execute_result"
    }
   ],
   "source": [
    "# Set model in evaluation mode\n",
    "model.eval()"
   ]
  },
  {
   "cell_type": "markdown",
   "metadata": {
    "collapsed": false,
    "jupyter": {
     "outputs_hidden": false
    }
   },
   "source": [
    "Validation set"
   ]
  },
  {
   "cell_type": "code",
   "execution_count": 39,
   "metadata": {
    "collapsed": false,
    "is_executing": true,
    "jupyter": {
     "outputs_hidden": false
    }
   },
   "outputs": [
    {
     "name": "stderr",
     "output_type": "stream",
     "text": [
      "100%|██████████████████████████████████████████████████████████████████████████████████████████████████████████████████████████████████████████████████████████████████████████████| 5/5 [00:00<00:00, 10.27it/s]"
     ]
    },
    {
     "name": "stdout",
     "output_type": "stream",
     "text": [
      "\n",
      "              precision    recall  f1-score   support\n",
      "\n",
      "    negative       0.74      0.45      0.56      1049\n",
      "    positive       0.61      0.84      0.71      1076\n",
      "\n",
      "    accuracy                           0.65      2125\n",
      "   macro avg       0.68      0.65      0.64      2125\n",
      "weighted avg       0.68      0.65      0.64      2125\n",
      "\n"
     ]
    },
    {
     "name": "stderr",
     "output_type": "stream",
     "text": [
      "\n"
     ]
    }
   ],
   "source": [
    "#\n",
    "split = 'validation'\n",
    "\n",
    "# Accumulators for target labels and predictions\n",
    "y_true = []\n",
    "y_pred = []\n",
    "y_proba = []\n",
    "\n",
    "# Disable gradients\n",
    "with torch.no_grad():\n",
    "    # Iterate over validation batches\n",
    "    for embeds, weights, lbl in tqdm(data_loader[split]):\n",
    "        # Move input and output to target device\n",
    "        embeds = embeds.to(device)\n",
    "        weights = weights.to(device)\n",
    "        # Compute logits (i.e., softmax values before exponential normalisation)\n",
    "        logits = model(embeds, weights)\n",
    "        # Get predictions as the index corresponding to the highest logit score\n",
    "        pred_lbl = torch.argmax(logits, dim=-1)\n",
    "        # Append predicted proba\n",
    "        y_proba.append(logits.view(-1, len(le[task].classes_)).cpu().numpy())\n",
    "        # Append predicted labels\n",
    "        y_pred.append(pred_lbl.view(-1).cpu().numpy())\n",
    "        # Append target labels\n",
    "        y_true.append(lbl.view(-1).cpu().numpy())\n",
    "\n",
    "# Concatenate all the vectors of target labels and predicted labels\n",
    "y_true = np.concatenate(y_true)\n",
    "y_pred = np.concatenate(y_pred)\n",
    "y_proba = np.concatenate(y_proba, axis=0)\n",
    "# Remove elements to ignore (the -100 labels)\n",
    "mask = y_true == -100\n",
    "y_true = y_true[~mask]\n",
    "y_pred = y_pred[~mask]\n",
    "y_proba = y_proba[~mask]\n",
    "\n",
    "labels = np.unique(y_true)\n",
    "mapping = np.zeros(len(le[task].classes_), dtype=int)\n",
    "mapping[labels] = np.arange(len(labels))\n",
    "\n",
    "y_true = mapping[y_true]\n",
    "y_pred = mapping[y_pred]\n",
    "y_proba = softmax(y_proba[:, labels], axis=1)[:, 1]\n",
    "\n",
    "ids, counts = np.unique(y_true, return_counts=True)\n",
    "weights = counts / np.sum(counts)\n",
    "\n",
    "# \n",
    "accuracy = accuracy_score(y_true, y_pred)\n",
    "precision_m, recall_m, fscore_m, support_m = precision_recall_fscore_support(y_true, y_pred, average='macro')\n",
    "auc_m = roc_auc_score(y_true, y_proba, multi_class='ovr', average='macro')\n",
    "precision_w, recall_w, fscore_w, support_w = precision_recall_fscore_support(y_true, y_pred, average='weighted')\n",
    "auc_w = roc_auc_score(y_true, y_proba, multi_class='ovr', average='weighted')\n",
    "accuracy_sw = accuracy_score(y_true, y_pred, sample_weight=weights[y_true])\n",
    "precision_sw, recall_sw, fscore_sw, support_sw = precision_recall_fscore_support(y_true, y_pred, average='weighted', sample_weight=weights[y_true])\n",
    "auc_sw = roc_auc_score(y_true, y_proba, multi_class='ovr', average='weighted', sample_weight=weights[y_true])\n",
    "results.extend([\n",
    "    {\n",
    "        'corpus': corpus,\n",
    "        'task': task,\n",
    "        'embeddings': model_id,\n",
    "        'split': split,\n",
    "        'timestamp': timestamp,\n",
    "        'metric': metric,\n",
    "        'value': value\n",
    "    }\n",
    "    for metric, value in zip(\n",
    "        CLS_METRICS, [\n",
    "            accuracy, precision_m, recall_m, fscore_m, auc_m, \n",
    "            precision_w, recall_w, fscore_w, auc_w,\n",
    "            accuracy_sw, precision_sw, recall_sw, fscore_sw, auc_sw\n",
    "        ]\n",
    "    )\n",
    "])\n",
    "# Finally compute classification report\n",
    "print()\n",
    "print(classification_report(y_true, y_pred, target_names=le[task].classes_[labels]))"
   ]
  },
  {
   "cell_type": "markdown",
   "metadata": {
    "collapsed": false,
    "jupyter": {
     "outputs_hidden": false
    }
   },
   "source": [
    "Test set"
   ]
  },
  {
   "cell_type": "code",
   "execution_count": 40,
   "metadata": {
    "collapsed": false,
    "jupyter": {
     "outputs_hidden": false
    },
    "scrolled": true
   },
   "outputs": [
    {
     "name": "stderr",
     "output_type": "stream",
     "text": [
      "100%|██████████████████████████████████████████████████████████████████████████████████████████████████████████████████████████████████████████████████████████████████████████████| 3/3 [00:00<00:00, 12.37it/s]"
     ]
    },
    {
     "name": "stdout",
     "output_type": "stream",
     "text": [
      "\n",
      "              precision    recall  f1-score   support\n",
      "\n",
      "    negative       0.72      0.46      0.56       512\n",
      "    positive       0.61      0.82      0.70       532\n",
      "\n",
      "    accuracy                           0.65      1044\n",
      "   macro avg       0.66      0.64      0.63      1044\n",
      "weighted avg       0.66      0.65      0.63      1044\n",
      "\n"
     ]
    },
    {
     "name": "stderr",
     "output_type": "stream",
     "text": [
      "\n"
     ]
    }
   ],
   "source": [
    "#\n",
    "split = 'test'\n",
    "\n",
    "# Accumulators for target labels and predictions\n",
    "y_true = []\n",
    "y_pred = []\n",
    "y_proba = []\n",
    "\n",
    "# Disable gradients\n",
    "with torch.no_grad():\n",
    "    # Iterate over validation batches\n",
    "    for embeds, weights, lbl in tqdm(data_loader[split]):\n",
    "        # Move input and output to target device\n",
    "        embeds = embeds.to(device)\n",
    "        weights = weights.to(device)\n",
    "        # Compute logits (i.e., softmax values before exponential normalisation)\n",
    "        logits = model(embeds, weights)\n",
    "        # Get predictions as the index corresponding to the highest logit score\n",
    "        pred_lbl = torch.argmax(logits, dim=-1)\n",
    "        # Append predicted proba\n",
    "        y_proba.append(logits.view(-1, len(le[task].classes_)).cpu().numpy())\n",
    "        # Append predicted labels\n",
    "        y_pred.append(pred_lbl.view(-1).cpu().numpy())\n",
    "        # Append target labels\n",
    "        y_true.append(lbl.view(-1).cpu().numpy())\n",
    "\n",
    "# Concatenate all the vectors of target labels and predicted labels\n",
    "y_true = np.concatenate(y_true)\n",
    "y_pred = np.concatenate(y_pred)\n",
    "y_proba = np.concatenate(y_proba, axis=0)\n",
    "# Remove elements to ignore (the -100 labels)\n",
    "mask = y_true == -100\n",
    "y_true = y_true[~mask]\n",
    "y_pred = y_pred[~mask]\n",
    "y_proba = y_proba[~mask]\n",
    "\n",
    "labels = np.unique(y_true)\n",
    "mapping = np.zeros(len(le[task].classes_), dtype=int)\n",
    "mapping[labels] = np.arange(len(labels))\n",
    "\n",
    "y_true = mapping[y_true]\n",
    "y_pred = mapping[y_pred]\n",
    "y_proba = softmax(y_proba[:, labels], axis=1)[:, 1]\n",
    "\n",
    "ids, counts = np.unique(y_true, return_counts=True)\n",
    "weights = counts / np.sum(counts)\n",
    "\n",
    "# \n",
    "accuracy = accuracy_score(y_true, y_pred)\n",
    "precision_m, recall_m, fscore_m, support_m = precision_recall_fscore_support(y_true, y_pred, average='macro')\n",
    "auc_m = roc_auc_score(y_true, y_proba, multi_class='ovr', average='macro')\n",
    "precision_w, recall_w, fscore_w, support_w = precision_recall_fscore_support(y_true, y_pred, average='weighted')\n",
    "auc_w = roc_auc_score(y_true, y_proba, multi_class='ovr', average='weighted')\n",
    "accuracy_sw = accuracy_score(y_true, y_pred, sample_weight=weights[y_true])\n",
    "precision_sw, recall_sw, fscore_sw, support_sw = precision_recall_fscore_support(y_true, y_pred, average='weighted', sample_weight=weights[y_true])\n",
    "auc_sw = roc_auc_score(y_true, y_proba, multi_class='ovr', average='weighted', sample_weight=weights[y_true])\n",
    "results.extend([\n",
    "    {\n",
    "        'corpus': corpus,\n",
    "        'task': task,\n",
    "        'embeddings': model_id,\n",
    "        'split': split,\n",
    "        'timestamp': timestamp,\n",
    "        'metric': metric,\n",
    "        'value': value\n",
    "    }\n",
    "    for metric, value in zip(\n",
    "        CLS_METRICS, [\n",
    "            accuracy, precision_m, recall_m, fscore_m, auc_m, \n",
    "            precision_w, recall_w, fscore_w, auc_w,\n",
    "            accuracy_sw, precision_sw, recall_sw, fscore_sw, auc_sw\n",
    "        ]\n",
    "    )\n",
    "])\n",
    "# Finally compute classification report\n",
    "print()\n",
    "print(classification_report(y_true, y_pred, target_names=le[task].classes_[labels]))"
   ]
  },
  {
   "cell_type": "markdown",
   "metadata": {
    "collapsed": false,
    "jp-MarkdownHeadingCollapsed": true,
    "jupyter": {
     "outputs_hidden": false
    }
   },
   "source": [
    "### STS"
   ]
  },
  {
   "cell_type": "code",
   "execution_count": null,
   "metadata": {
    "collapsed": false,
    "jupyter": {
     "outputs_hidden": false
    }
   },
   "outputs": [],
   "source": [
    "corpus = 'STS'"
   ]
  },
  {
   "cell_type": "code",
   "execution_count": null,
   "metadata": {
    "collapsed": false,
    "jupyter": {
     "outputs_hidden": false
    }
   },
   "outputs": [],
   "source": [
    "sts['train']._data[:3]"
   ]
  },
  {
   "cell_type": "code",
   "execution_count": null,
   "metadata": {
    "collapsed": false,
    "jupyter": {
     "outputs_hidden": false
    }
   },
   "outputs": [],
   "source": [
    "embeddings_model.fit_sif_embedding([sample[key] for sample in sts['train'] for key in ['sequence_a', 'sequence_b']])"
   ]
  },
  {
   "cell_type": "code",
   "execution_count": null,
   "metadata": {
    "collapsed": false,
    "jupyter": {
     "outputs_hidden": false
    }
   },
   "outputs": [],
   "source": [
    "from typing import Tuple, List, Set\n",
    "\n",
    "class Conv1D(nn.Module):\n",
    "    \"\"\"\n",
    "    1D-convolutional layer as defined by Radford et al. for OpenAI GPT (and also used in GPT-2).\n",
    "    Basically works like a linear layer but the weights are transposed.\n",
    "    Args:\n",
    "        nf (:obj:`int`): The number of output features.\n",
    "        nx (:obj:`int`): The number of input features.\n",
    "\n",
    "    Thanks to Hugging Face for the implementation\n",
    "    \"\"\"\n",
    "\n",
    "    def __init__(self, nf, nx):\n",
    "        super().__init__()\n",
    "        self.nf = nf\n",
    "        w = torch.empty(nx, nf)\n",
    "        nn.init.normal_(w, std=0.02)\n",
    "        self.weight = nn.Parameter(w)\n",
    "        self.bias = nn.Parameter(torch.zeros(nf))\n",
    "\n",
    "    def forward(self, x):\n",
    "        size_out = x.size()[:-1] + (self.nf,)\n",
    "        x = torch.addmm(self.bias, x.view(-1, x.size(-1)), self.weight)\n",
    "        x = x.view(*size_out)\n",
    "        return x\n",
    "\n",
    "\n",
    "def find_pruneable_heads_and_indices(heads: List[int],\n",
    "                                     n_heads: int,\n",
    "                                     head_size: int,\n",
    "                                     already_pruned_heads: Set[int]) -> Tuple[Set[int], torch.LongTensor]:\n",
    "    \"\"\"\n",
    "    Finds the heads and their indices taking :obj:`already_pruned_heads` into account.\n",
    "    Args:\n",
    "        heads (:obj:`List[int]`): List of the indices of heads to prune.\n",
    "        n_heads (:obj:`int`): The number of heads in the model.\n",
    "        head_size (:obj:`int`): The size of each head.\n",
    "        already_pruned_heads (:obj:`Set[int]`): A set of already pruned heads.\n",
    "    Returns:\n",
    "        :obj:`Tuple[Set[int], torch.LongTensor]`: A tuple with the remaining heads and their corresponding indices.\n",
    "\n",
    "\n",
    "    Thanks to Hugging Face for the implementation\n",
    "    \"\"\"\n",
    "    mask = torch.ones(n_heads, head_size)\n",
    "    heads = set(heads) - already_pruned_heads  # Convert to set and remove already pruned heads\n",
    "    for head in heads:\n",
    "        # Compute how many pruned heads are before the head and move the index accordingly\n",
    "        head = head - sum(1 if h < head else 0 for h in already_pruned_heads)\n",
    "        mask[head] = 0\n",
    "    mask = mask.view(-1).contiguous().eq(1)\n",
    "    index: torch.LongTensor = torch.arange(len(mask))[mask].long()\n",
    "    return heads, index\n",
    "\n",
    "\n",
    "def prune_conv1d_layer(layer: Conv1D, index: torch.LongTensor, dim: int = 1) -> Conv1D:\n",
    "    \"\"\"\n",
    "    Prune a Conv1D layer to keep only entries in index. A Conv1D work as a Linear layer (see e.g. BERT) but the weights\n",
    "    are transposed.\n",
    "    Used to remove heads.\n",
    "    Args:\n",
    "        layer (:class:`~transformers.modeling_utils.Conv1D`): The layer to prune.\n",
    "        index (:obj:`torch.LongTensor`): The indices to keep in the layer.\n",
    "        dim (:obj:`int`, `optional`, defaults to 1): The dimension on which to keep the indices.\n",
    "    Returns:\n",
    "        :class:`~transformers.modeling_utils.Conv1D`: The pruned layer as a new layer with :obj:`requires_grad=True`.\n",
    "\n",
    "    Thanks to Hugging Face for the implementation\n",
    "    \"\"\"\n",
    "    index = index.to(layer.weight.device)\n",
    "    W = layer.weight.index_select(dim, index).clone().detach()\n",
    "    if dim == 0:\n",
    "        b = layer.bias.clone().detach()\n",
    "    else:\n",
    "        b = layer.bias[index].clone().detach()\n",
    "    new_size = list(layer.weight.size())\n",
    "    new_size[dim] = len(index)\n",
    "    new_layer = Conv1D(new_size[1], new_size[0]).to(layer.weight.device)\n",
    "    new_layer.weight.requires_grad = False\n",
    "    new_layer.weight.copy_(W.contiguous())\n",
    "    new_layer.weight.requires_grad = True\n",
    "    new_layer.bias.requires_grad = False\n",
    "    new_layer.bias.copy_(b.contiguous())\n",
    "    new_layer.bias.requires_grad = True\n",
    "    return new_layer\n",
    "\n",
    "\n",
    "class AttentionAvgPooling(nn.Module):\n",
    "    def __init__(self,\n",
    "                 n_hidden: int = 512,\n",
    "                 n_heads: int = 8,\n",
    "                 max_positions: int = 1024,\n",
    "                 p_dropout: float = 0.1,\n",
    "                 scale_attn_weights: bool = True):\n",
    "        super().__init__()\n",
    "\n",
    "        self.embed_dim = n_hidden\n",
    "        self.num_heads = n_heads\n",
    "        self.head_dim = self.embed_dim // self.num_heads\n",
    "        self.split_size = self.embed_dim\n",
    "        assert self.head_dim * self.num_heads == self.embed_dim, f\"`embed_dim` must be divisible by num_heads \" \\\n",
    "                                                                 f\"(got `embed_dim`: {self.embed_dim} and \" \\\n",
    "                                                                 f\"`num_heads`: {self.num_heads}).\"\n",
    "\n",
    "        self.scale_attn_weights = scale_attn_weights\n",
    "\n",
    "        self.qkv_attn = Conv1D(3 * self.embed_dim, self.embed_dim)\n",
    "\n",
    "        self.dropout = nn.Dropout(p_dropout)\n",
    "\n",
    "        self.pruned_heads = set()\n",
    "\n",
    "    def prune_heads(self, heads):\n",
    "        if len(heads) == 0:\n",
    "            return\n",
    "        heads, index = find_pruneable_heads_and_indices(heads, self.num_heads, self.head_dim, self.pruned_heads)\n",
    "        index_attn = torch.cat([index, index + self.split_size, index + (2 * self.split_size)])\n",
    "\n",
    "        # Prune conv1d layers\n",
    "        self.qkv_attn = prune_conv1d_layer(self.qkv_attn, index_attn, dim=1)\n",
    "\n",
    "        # Update hyper params\n",
    "        self.split_size = (self.split_size // self.num_heads) * (self.num_heads - len(heads))\n",
    "        self.num_heads = self.num_heads - len(heads)\n",
    "        self.pruned_heads = self.pruned_heads.union(heads)\n",
    "\n",
    "    def _attn(self, query, key, value, attention_mask=None):\n",
    "        attn_weights = torch.matmul(query, key.transpose(-1, -2))\n",
    "        attn_weights = attn_weights / (float(value.size(-1)) ** 0.5)\n",
    "\n",
    "        if attention_mask is not None:\n",
    "            # Apply the attention mask\n",
    "            attn_weights = attn_weights + attention_mask\n",
    "\n",
    "        attn_weights = nn.Softmax(dim=-1)(attn_weights)\n",
    "        attn_weights = self.dropout(attn_weights)\n",
    "\n",
    "        attn_output = torch.matmul(attn_weights, value)\n",
    "\n",
    "        return attn_output, attn_weights\n",
    "\n",
    "    @staticmethod\n",
    "    def _split_heads(tensor, num_heads, attn_head_size):\n",
    "        new_shape = tensor.size()[:-1] + (num_heads, attn_head_size)\n",
    "        tensor = tensor.view(*new_shape)\n",
    "        return tensor.permute(0, 2, 1, 3)  # (batch, head, seq_length, head_features)\n",
    "\n",
    "    @staticmethod\n",
    "    def _merge_heads(tensor, num_heads, attn_head_size):\n",
    "        tensor = tensor.permute(0, 2, 1, 3).contiguous()\n",
    "        new_shape = tensor.size()[:-2] + (num_heads * attn_head_size,)\n",
    "        return tensor.view(new_shape)\n",
    "\n",
    "    def forward(self,\n",
    "                hidden_states,\n",
    "                attention_mask=None,\n",
    "                return_attention_weights=False):\n",
    "\n",
    "        query, key, value = self.qkv_attn(hidden_states).split(self.split_size, dim=2)\n",
    "\n",
    "        # Query is averaged to obtain pooling\n",
    "        query = self._split_heads(query, self.num_heads, self.head_dim).mean(-2, keepdims=True)\n",
    "        key = self._split_heads(key, self.num_heads, self.head_dim)\n",
    "        value = self._split_heads(value, self.num_heads, self.head_dim)\n",
    "\n",
    "        if attention_mask is not None:\n",
    "            attention_mask = (1.0 - attention_mask) * -1e+6\n",
    "            attention_mask = attention_mask[:, None, None, :]\n",
    "\n",
    "        attn_output, attn_weights = self._attn(query, key, value, attention_mask)\n",
    "\n",
    "        attn_output = self._merge_heads(attn_output, self.num_heads, self.head_dim)\n",
    "\n",
    "        if not return_attention_weights:\n",
    "            return attn_output  # attention\n",
    "        else:\n",
    "            attn_weights = self._merge_heads(attn_weights, self.num_heads, self.head_dim)\n",
    "            return attn_output, attn_weights\n",
    "\n",
    "\n",
    "# class GPT2Attention(nn.Module):\n",
    "# https://github.com/huggingface/transformers/blob/master/src/transformers/models/gpt2/modeling_gpt2.py\n",
    "\n",
    "\n",
    "class SequenceEmbedding(nn.Module):\n",
    "    def __init__(self, input_size, hidden_size: int = 512, kernel_size: int = 5):\n",
    "        super().__init__()\n",
    "        self.norm = nn.LayerNorm(input_size)\n",
    "        self.conv1d = nn.Conv1d(input_size, hidden_size, kernel_size, padding='same')\n",
    "        self.dropout = nn.Dropout(0.1)\n",
    "        self.out_head = nn.Linear(hidden_size, hidden_size)\n",
    "        ##\n",
    "        self.norm = nn.LayerNorm(hidden_size)\n",
    "        self.out_norm = nn.LayerNorm(hidden_size)\n",
    "        self.pool = AttentionAvgPooling()\n",
    "        \n",
    "    def forward(self, x, w):\n",
    "        # \n",
    "        x = self.dropout(x)\n",
    "        #\n",
    "        h = self.conv1d(x.transpose(-1, -2)).transpose(-1, -2)  # self.norm(x).transpose(-1, -2)\n",
    "        ##\n",
    "        h = self.norm(h)\n",
    "        # Non-linear activation\n",
    "        h = F.gelu(h)\n",
    "        \n",
    "        # Dropout\n",
    "        h = self.dropout(h)\n",
    "        # Weighted sum\n",
    "        # h = torch.einsum('btd,bt->bd', h, w)\n",
    "        # Apply last linear projection\n",
    "        # h = self.out_head(h)\n",
    "        ##\n",
    "        h = self.pool(h, w)\n",
    "        h = self.out_norm(h)\n",
    "\n",
    "        return h"
   ]
  },
  {
   "cell_type": "code",
   "execution_count": null,
   "metadata": {
    "collapsed": false,
    "jupyter": {
     "outputs_hidden": false
    }
   },
   "outputs": [],
   "source": [
    "mms = sts['train'].get_label_transformer()\n",
    "mms"
   ]
  },
  {
   "cell_type": "code",
   "execution_count": null,
   "metadata": {
    "collapsed": false,
    "jupyter": {
     "outputs_hidden": false
    }
   },
   "outputs": [],
   "source": [
    "task = 'similarity_score'"
   ]
  },
  {
   "cell_type": "code",
   "execution_count": null,
   "metadata": {
    "collapsed": false,
    "jupyter": {
     "outputs_hidden": false
    }
   },
   "outputs": [],
   "source": [
    "model = SequenceEmbedding(300)    \n",
    "model = model.to(device)\n",
    "model"
   ]
  },
  {
   "cell_type": "code",
   "execution_count": null,
   "metadata": {
    "collapsed": false,
    "jupyter": {
     "outputs_hidden": false
    }
   },
   "outputs": [],
   "source": [
    "lr = 0.001\n",
    "batch_size = 512\n",
    "n_epochs = 64\n",
    "optimizer = torch.optim.AdamW(params=model.parameters(), lr=lr, weight_decay=0.2)"
   ]
  },
  {
   "cell_type": "code",
   "execution_count": null,
   "metadata": {
    "collapsed": false,
    "jupyter": {
     "outputs_hidden": false
    }
   },
   "outputs": [],
   "source": [
    "def collate(mini_batch):\n",
    "    # Tokenise sequences \n",
    "    sequences_a = embeddings_model.tokenise([sample['sequence_a'] for sample in mini_batch])\n",
    "    sequences_b = embeddings_model.tokenise([sample['sequence_b'] for sample in mini_batch])\n",
    "    # Get the length of the longest sentence\n",
    "    max_sequence_len_a = max(len(sample) for sample in sequences_a)\n",
    "    max_sequence_len_b = max(len(sample) for sample in sequences_b)\n",
    "    # Create an input tensor with all zero values\n",
    "    input_embeds_a = np.zeros((len(mini_batch), max_sequence_len_a, 300))\n",
    "    input_embeds_b = np.zeros((len(mini_batch), max_sequence_len_b, 300))\n",
    "    # Create weights tensor with all zero values\n",
    "    token_weights_a = np.zeros((len(mini_batch), max_sequence_len_a))\n",
    "    valid_mask_a = np.zeros((len(mini_batch), max_sequence_len_a))\n",
    "    token_weights_b = np.zeros((len(mini_batch), max_sequence_len_b))\n",
    "    valid_mask_b = np.zeros((len(mini_batch), max_sequence_len_b))\n",
    "    # Create a target output matrix with all -100 (PyTorch ignores this value by default)\n",
    "    output_score = np.zeros((len(mini_batch), 1))\n",
    "    # Fill the tensor and the matrix\n",
    "    for i, _ in enumerate(mini_batch):\n",
    "        for j, token in enumerate(sequences_a[i]):\n",
    "            # Manage missing tokens in vocabulary\n",
    "            input_embeds_a[i, j] = embeddings_model[token.lower()]\n",
    "        token_weights_a[i, :len(sequences_a[i])] = embeddings_model.sif_embedding_model.word_weights[embeddings_model.encode(sequences_a[i], backend='numpy')]\n",
    "        valid_mask_a[i, :len(sequences_a[i])] = 1.0\n",
    "        for j, token in enumerate(sequences_b[i]):\n",
    "            # Manage missing tokens in vocabulary\n",
    "            input_embeds_b[i, j] = embeddings_model[token.lower()]\n",
    "        token_weights_b[i, :len(sequences_b[i])] = embeddings_model.sif_embedding_model.word_weights[embeddings_model.encode(sequences_b[i], backend='numpy')]\n",
    "        valid_mask_b[i, :len(sequences_b[i])] = 1.0\n",
    "        output_score[i] = mms[task].transform([[mini_batch[i][task]]])[0]\n",
    "    # Convert to PyTorch tensor\n",
    "    input_embeds_a = torch.tensor(input_embeds_a, dtype=torch.float, device=device)\n",
    "    token_weights_a = torch.tensor(token_weights_a, dtype=torch.float, device=device)\n",
    "    valid_mask_a = torch.tensor(valid_mask_a, dtype=torch.float, device=device)\n",
    "    input_embeds_b = torch.tensor(input_embeds_b, dtype=torch.float, device=device)\n",
    "    token_weights_b = torch.tensor(token_weights_b, dtype=torch.float, device=device)\n",
    "    valid_mask_b = torch.tensor(valid_mask_b, dtype=torch.float, device=device)\n",
    "    output_score = torch.tensor(output_score, dtype=torch.float, device=device)\n",
    "\n",
    "    # return input_embeds_a, token_weights_a, input_embeds_b, token_weights_b, output_score\n",
    "    return input_embeds_a, valid_mask_a, input_embeds_b, valid_mask_b, output_score"
   ]
  },
  {
   "cell_type": "code",
   "execution_count": null,
   "metadata": {
    "collapsed": false,
    "jupyter": {
     "outputs_hidden": false
    }
   },
   "outputs": [],
   "source": [
    "data_loader = {\n",
    "    split: torch.utils.data.DataLoader(\n",
    "        data, batch_size=batch_size, collate_fn=collate, shuffle=split == 'train'\n",
    "    )\n",
    "    for split, data in sts.items()\n",
    "}"
   ]
  },
  {
   "cell_type": "markdown",
   "metadata": {
    "collapsed": false,
    "jupyter": {
     "outputs_hidden": false
    }
   },
   "source": [
    "##### Training"
   ]
  },
  {
   "cell_type": "code",
   "execution_count": null,
   "metadata": {},
   "outputs": [],
   "source": [
    "path = os.path.join('../experiments/contextual/', f'{model_id}_{corpus}_{task}_{datetime.now()}.ckpt')\n",
    "\n",
    "# Set model in training mode\n",
    "model.train()\n",
    "\n",
    "# Accumulator of loss\n",
    "history = []\n",
    "validation_history = []\n",
    "best_validation_loss = torch.tensor(float('inf'), device=device)\n",
    "\n",
    "# scheduler = torch.optim.lr_scheduler.OneCycleLR(optimizer, lr, steps_per_epoch=len(data_loader['train']), epochs=n_epochs, anneal_strategy='linear', pct_start=0.05)\n",
    "\n",
    "estop_counter = 0\n",
    "\n",
    "# Iterate over epochs\n",
    "for i in range(n_epochs):\n",
    "    print(f\"Starting epoch {i + 1}/{n_epochs}\")\n",
    "    # Iterate over training batches\n",
    "    for embeds_a, weights_a, embeds_b, weights_b, score in tqdm(data_loader['train']):\n",
    "        # Zero your gradients for every batch!\n",
    "        optimizer.zero_grad()\n",
    "        # Move input and output to target device\n",
    "        embeds_a = embeds_a.to(device)\n",
    "        weights_a = weights_a.to(device)\n",
    "        embeds_b = embeds_b.to(device)\n",
    "        weights_b = weights_b.to(device)\n",
    "        score = score.to(device)\n",
    "        # Compute logits \n",
    "        embeds_a = model(embeds_a, weights_a)\n",
    "        embeds_b = model(embeds_b, weights_b)\n",
    "        logits = torch.sum(embeds_a.squeeze() * embeds_b.squeeze(), dim=1, keepdims=True)\n",
    "        # Compute loss\n",
    "        ## loss = F.binary_cross_entropy_with_logits(logits, score)\n",
    "        loss = F.mse_loss(F.cosine_similarity(embeds_a, embeds_b, dim=-1), score)\n",
    "        # Compute gradients\n",
    "        loss.backward()\n",
    "        # Update weights\n",
    "        torch.nn.utils.clip_grad_norm_(model.parameters(), 1.0)\n",
    "        optimizer.step()\n",
    "        # scheduler.step()\n",
    "        # Save loss\n",
    "        history.append(loss.detach())\n",
    "    # Disable gradients\n",
    "    with torch.no_grad():\n",
    "        print(f\"Starting validation epoch {i + 1}/{n_epochs}\")\n",
    "        # Set in evaluation mode\n",
    "        model.eval()\n",
    "        # Init validation loss accumulator\n",
    "        loss = []\n",
    "        # Iterate over validation batches\n",
    "        for embeds_a, weights_a, embeds_b, weights_b, score in tqdm(data_loader['train']):\n",
    "            # Zero your gradients for every batch!\n",
    "            optimizer.zero_grad()\n",
    "            # Move input and output to target device\n",
    "            embeds_a = embeds_a.to(device)\n",
    "            weights_a = weights_a.to(device)\n",
    "            embeds_b = embeds_b.to(device)\n",
    "            weights_b = weights_b.to(device)\n",
    "            score = score.to(device)\n",
    "            # Compute logits \n",
    "            embeds_a = model(embeds_a, weights_a)\n",
    "            embeds_b = model(embeds_b, weights_b)\n",
    "            logits = torch.sum(embeds_a.squeeze() * embeds_b.squeeze(), dim=1, keepdims=True)\n",
    "            # Compute loss\n",
    "            ## loss.append(F.binary_cross_entropy_with_logits(logits, score))\n",
    "            loss.append(F.mse_loss(F.cosine_similarity(embeds_a, embeds_b, dim=-1), score))\n",
    "        # Aggregate validation loss\n",
    "        validation_history.append(torch.tensor(loss, device=device).mean())\n",
    "        # Check if validation loss has improved\n",
    "        if validation_history[-1] <= best_validation_loss:\n",
    "            torch.save(model.state_dict(), path)\n",
    "            best_validation_loss = validation_history[-1]\n",
    "            estop_counter = 0\n",
    "        else:\n",
    "            estop_counter += 1\n",
    "        # Restore training mode\n",
    "        model.train()\n",
    "    if estop_counter >= 5:\n",
    "        break\n",
    "\n",
    "# Restore best weights\n",
    "if os.path.exists(path):\n",
    "    model.load_state_dict(torch.load(path))\n",
    "\n",
    "history = [loss.cpu().item() for loss in history]\n",
    "validation_history = [loss.cpu().item() for loss in validation_history]"
   ]
  },
  {
   "cell_type": "code",
   "execution_count": null,
   "metadata": {
    "collapsed": false,
    "jupyter": {
     "outputs_hidden": false
    }
   },
   "outputs": [],
   "source": [
    "plt.figure()\n",
    "plt.plot(range(len(history)), history, label='Training loss')\n",
    "plt.plot(range(len(data_loader['train']) - 1, len(history), len(data_loader['train'])), validation_history, label='Validation loss')\n",
    "plt.legend(loc='best')\n",
    "plt.xlabel('Update step')\n",
    "plt.ylabel('Loss')\n",
    "plt.xlim([0.0, len(history)])\n",
    "plt.ylim([0.0, 1.0])\n",
    "plt.grid()"
   ]
  },
  {
   "cell_type": "markdown",
   "metadata": {
    "collapsed": false,
    "jupyter": {
     "outputs_hidden": false
    }
   },
   "source": [
    "##### Evaluation"
   ]
  },
  {
   "cell_type": "code",
   "execution_count": null,
   "metadata": {
    "collapsed": false,
    "jupyter": {
     "outputs_hidden": false
    }
   },
   "outputs": [],
   "source": [
    "# Set model in evaluation mode\n",
    "model.eval()"
   ]
  },
  {
   "cell_type": "markdown",
   "metadata": {
    "collapsed": false,
    "jupyter": {
     "outputs_hidden": false
    }
   },
   "source": [
    "Validation set"
   ]
  },
  {
   "cell_type": "code",
   "execution_count": null,
   "metadata": {
    "collapsed": false,
    "jupyter": {
     "outputs_hidden": false
    }
   },
   "outputs": [],
   "source": [
    "#\n",
    "split = 'validation'\n",
    "\n",
    "# Accumulators for target labels and predictions\n",
    "y_true = []\n",
    "y_pred = []\n",
    "\n",
    "# Disable gradients\n",
    "with torch.no_grad():\n",
    "    # Iterate over validation batches\n",
    "    for embeds_a, weights_a, embeds_b, weights_b, score in tqdm(data_loader[split]):\n",
    "        # Move input and output to target device\n",
    "        embeds_a = embeds_a.to(device)\n",
    "        weights_a = weights_a.to(device)\n",
    "        embeds_b = embeds_b.to(device)\n",
    "        weights_b = weights_b.to(device)\n",
    "        score = score.to(device)\n",
    "        # Compute logits \n",
    "        embeds_a = model(embeds_a, weights_a)\n",
    "        embeds_b = model(embeds_b, weights_b)\n",
    "        logits = torch.sum(embeds_a.squeeze() * embeds_b.squeeze(), dim=1, keepdims=True)\n",
    "        # Append predicted labels\n",
    "        ## y_pred.append(F.sigmoid(logits).view(-1).cpu().numpy())\n",
    "        y_pred.append(F.cosine_similarity(embeds_a, embeds_b, dim=-1).view(-1).cpu().numpy())\n",
    "        # Append target labels\n",
    "        y_true.append(score.view(-1).cpu().numpy())\n",
    "\n",
    "# Concatenate all the vectors of target labels and predicted labels\n",
    "y_true = np.concatenate(y_true)\n",
    "y_pred = np.concatenate(y_pred)\n",
    "\n",
    "# \n",
    "spearman_corr = spearmanr(y_true, y_pred)\n",
    "pearson_corr = pearsonr(y_true, y_pred)\n",
    "\n",
    "results.extend([\n",
    "    {\n",
    "        'corpus': corpus,\n",
    "        'task': task,\n",
    "        'embeddings': model_id,\n",
    "        'split': split,\n",
    "        'timestamp': timestamp,\n",
    "        'metric': metric,\n",
    "        'value': value\n",
    "    }\n",
    "    for metric, value in zip(\n",
    "        REG_METRICS, [pearson_corr.correlation, pearson_corr.pvalue, spearman_corr.correlation, spearman_corr.pvalue]\n",
    "    )\n",
    "])\n",
    "\n",
    "print(pearson_corr)\n",
    "print(spearman_corr)"
   ]
  },
  {
   "cell_type": "markdown",
   "metadata": {
    "collapsed": false,
    "jupyter": {
     "outputs_hidden": false
    }
   },
   "source": [
    "Test set"
   ]
  },
  {
   "cell_type": "code",
   "execution_count": null,
   "metadata": {
    "collapsed": false,
    "jupyter": {
     "outputs_hidden": false
    },
    "scrolled": true
   },
   "outputs": [],
   "source": [
    "#\n",
    "split = 'test'\n",
    "\n",
    "# Accumulators for target labels and predictions\n",
    "y_true = []\n",
    "y_pred = []\n",
    "\n",
    "# Disable gradients\n",
    "with torch.no_grad():\n",
    "    # Iterate over validation batches\n",
    "    for embeds_a, weights_a, embeds_b, weights_b, score in tqdm(data_loader[split]):\n",
    "        # Move input and output to target device\n",
    "        embeds_a = embeds_a.to(device)\n",
    "        weights_a = weights_a.to(device)\n",
    "        embeds_b = embeds_b.to(device)\n",
    "        weights_b = weights_b.to(device)\n",
    "        score = score.to(device)\n",
    "        # Compute logits \n",
    "        embeds_a = model(embeds_a, weights_a)\n",
    "        embeds_b = model(embeds_b, weights_b)\n",
    "        logits = torch.sum(embeds_a.squeeze() * embeds_b.squeeze(), dim=1, keepdims=True)\n",
    "        # Append predicted labels\n",
    "        ## y_pred.append(F.sigmoid(logits).view(-1).cpu().numpy())\n",
    "        y_pred.append(F.cosine_similarity(embeds_a, embeds_b, dim=-1).view(-1).cpu().numpy())\n",
    "        # Append target labels\n",
    "        y_true.append(score.view(-1).cpu().numpy())\n",
    "\n",
    "# Concatenate all the vectors of target labels and predicted labels\n",
    "y_true = np.concatenate(y_true)\n",
    "y_pred = np.concatenate(y_pred)\n",
    "\n",
    "# \n",
    "spearman_corr = spearmanr(y_true, y_pred)\n",
    "pearson_corr = pearsonr(y_true, y_pred)\n",
    "\n",
    "results.extend([\n",
    "    {\n",
    "        'corpus': corpus,\n",
    "        'task': task,\n",
    "        'embeddings': model_id,\n",
    "        'split': split,\n",
    "        'timestamp': timestamp,\n",
    "        'metric': metric,\n",
    "        'value': value\n",
    "    }\n",
    "    for metric, value in zip(\n",
    "        REG_METRICS, [pearson_corr.correlation, pearson_corr.pvalue, spearman_corr.correlation, spearman_corr.pvalue]\n",
    "    )\n",
    "])\n",
    "\n",
    "print(pearson_corr)\n",
    "print(spearman_corr)"
   ]
  },
  {
   "cell_type": "markdown",
   "metadata": {},
   "source": [
    "### 20NG"
   ]
  },
  {
   "cell_type": "code",
   "execution_count": 41,
   "metadata": {
    "collapsed": false,
    "jupyter": {
     "outputs_hidden": false
    }
   },
   "outputs": [],
   "source": [
    "corpus = '20NG'"
   ]
  },
  {
   "cell_type": "code",
   "execution_count": 42,
   "metadata": {
    "collapsed": false,
    "jupyter": {
     "outputs_hidden": false
    }
   },
   "outputs": [
    {
     "data": {
      "text/plain": [
       "[{'sequence': 'From: backon@vms.huji.ac.il\\nSubject: Re: Go Hezbollah!!\\nDistribution: world\\nOrganization: The Hebrew University of Jerusalem\\nLines: 23\\n\\nIn article <1993Apr14.125813.21737@ncsu.edu>, hernlem@chess.ncsu.edu (Brad Hernlem) writes:\\n>\\n> Lebanese resistance forces detonated a bomb under an Israeli occupation\\n> patrol in Lebanese territory two days ago. Three soldiers were killed and\\n> two wounded. In \"retaliation\", Israeli and Israeli-backed forces wounded\\n> 8 civilians by bombarding several Lebanese villages. Ironically, the Israeli\\n> government justifies its occupation in Lebanon by claiming that it is\\n> necessary to prevent such bombardments of Israeli villages!!\\n>\\n> Congratulations to the brave men of the Lebanese resistance! With every\\n> Israeli son that you place in the grave you are underlining the moral\\n> bankruptcy of Israel\\'s occupation and drawing attention to the Israeli\\n> government\\'s policy of reckless disregard for civilian life.\\n>\\n> Brad Hernlem (hernlem@chess.ncsu.EDU)\\n\\n\\nI\\'m sure the Federal Bureau of Investigation (fbi.gov on the Internet) is going\\nto *love* reading your incitement to murder.\\n\\n\\nJosh\\nbackon@VMS.HUJI.AC.IL\\n',\n",
       "  'newsgroup': 'talk.politics.mideast'},\n",
       " {'sequence': \"From: ak296@yfn.ysu.edu (John R. Daker)\\nSubject: Re: Dumbest automotive concepts of all time\\nOrganization: St. Elizabeth Hospital, Youngstown, OH\\nLines: 13\\nReply-To: ak296@yfn.ysu.edu (John R. Daker)\\nNNTP-Posting-Host: yfn.ysu.edu\\n\\n\\nCup holders (driving is an importantant enough undertaking)\\nCellular phones and mobile fax machines (see above)\\nVanity mirrors on the driver's side.\\nAshtrays (smokers seem to think it's just fine to use the road)\\nFake convertible roofs and vinyl roofs.\\nAny gold trim.\\n\\n-- \\nDoD #650<----------------------------------------------------------->DarkMan\\n   The significant problems we face cannot be solved at the same level of\\n      thinking we were at when we created them.   - Albert Einstein\\n         ___________________The Eternal Champion_________________\\n\",\n",
       "  'newsgroup': 'rec.autos'},\n",
       " {'sequence': 'From: claborne@npg-sd.SanDiegoCA.NCR.COM (Chris Claborne)\\nSubject: Anyone use Number 9 GXE video card?\\nSummary: Anyone use Number 9 GXE video card?\\nKeywords: Video adaptor hardware graphics\\nDistribution: world\\nOrganization: NCR Corp., Network Products - San Diego\\nLines: 5\\n\\nHas anyone used the Number Nine (# 9) Video Graphics adaptor with Windows\\nor Windows NT?  What do you think???\\n\\n    2\\n-- C  --\\n',\n",
       "  'newsgroup': 'comp.os.ms-windows.misc'}]"
      ]
     },
     "execution_count": 42,
     "metadata": {},
     "output_type": "execute_result"
    }
   ],
   "source": [
    "ng['train']._data[:3]"
   ]
  },
  {
   "cell_type": "code",
   "execution_count": 43,
   "metadata": {
    "collapsed": false,
    "jupyter": {
     "outputs_hidden": false
    }
   },
   "outputs": [],
   "source": [
    "# embeddings_model.fit_sif_embedding([sample['sequence'] for sample in ng['train']])"
   ]
  },
  {
   "cell_type": "code",
   "execution_count": 44,
   "metadata": {
    "collapsed": false,
    "jupyter": {
     "outputs_hidden": false
    }
   },
   "outputs": [
    {
     "data": {
      "text/plain": [
       "\"\\nclass SequenceClassification(nn.Module):\\n    def __init__(self, input_size, output_size, hidden_size: int = 512, kernel_size: int = 5):\\n        super().__init__()\\n        self.norm = nn.LayerNorm(input_size)\\n        self.conv1d = nn.Conv1d(input_size, hidden_size, kernel_size, padding='same')\\n        self.dropout = nn.Dropout(0.1)\\n        self.cls_head = nn.Linear(hidden_size, output_size)\\n        \\n    def forward(self, x, w):\\n        # \\n        x = self.dropout(x)\\n        #\\n        h = self.conv1d(self.norm(x).transpose(-1, -2))\\n        # Non-linear activation\\n        h = F.gelu(h)\\n        # Dropout\\n        h = self.dropout(h)\\n        # Weighted sum\\n        h = torch.einsum('btd,bt->bd', h.transpose(-1, -2), w)\\n        # Apply last linear projection\\n        y = self.cls_head(h)\\n\\n        return y\\n\""
      ]
     },
     "execution_count": 44,
     "metadata": {},
     "output_type": "execute_result"
    }
   ],
   "source": [
    "from typing import Tuple, List, Set\n",
    "\n",
    "class Conv1D(nn.Module):\n",
    "    \"\"\"\n",
    "    1D-convolutional layer as defined by Radford et al. for OpenAI GPT (and also used in GPT-2).\n",
    "    Basically works like a linear layer but the weights are transposed.\n",
    "    Args:\n",
    "        nf (:obj:`int`): The number of output features.\n",
    "        nx (:obj:`int`): The number of input features.\n",
    "\n",
    "    Thanks to Hugging Face for the implementation\n",
    "    \"\"\"\n",
    "\n",
    "    def __init__(self, nf, nx):\n",
    "        super().__init__()\n",
    "        self.nf = nf\n",
    "        w = torch.empty(nx, nf)\n",
    "        nn.init.normal_(w, std=0.02)\n",
    "        self.weight = nn.Parameter(w)\n",
    "        self.bias = nn.Parameter(torch.zeros(nf))\n",
    "\n",
    "    def forward(self, x):\n",
    "        size_out = x.size()[:-1] + (self.nf,)\n",
    "        x = torch.addmm(self.bias, x.view(-1, x.size(-1)), self.weight)\n",
    "        x = x.view(*size_out)\n",
    "        return x\n",
    "\n",
    "\n",
    "def find_pruneable_heads_and_indices(heads: List[int],\n",
    "                                     n_heads: int,\n",
    "                                     head_size: int,\n",
    "                                     already_pruned_heads: Set[int]) -> Tuple[Set[int], torch.LongTensor]:\n",
    "    \"\"\"\n",
    "    Finds the heads and their indices taking :obj:`already_pruned_heads` into account.\n",
    "    Args:\n",
    "        heads (:obj:`List[int]`): List of the indices of heads to prune.\n",
    "        n_heads (:obj:`int`): The number of heads in the model.\n",
    "        head_size (:obj:`int`): The size of each head.\n",
    "        already_pruned_heads (:obj:`Set[int]`): A set of already pruned heads.\n",
    "    Returns:\n",
    "        :obj:`Tuple[Set[int], torch.LongTensor]`: A tuple with the remaining heads and their corresponding indices.\n",
    "\n",
    "\n",
    "    Thanks to Hugging Face for the implementation\n",
    "    \"\"\"\n",
    "    mask = torch.ones(n_heads, head_size)\n",
    "    heads = set(heads) - already_pruned_heads  # Convert to set and remove already pruned heads\n",
    "    for head in heads:\n",
    "        # Compute how many pruned heads are before the head and move the index accordingly\n",
    "        head = head - sum(1 if h < head else 0 for h in already_pruned_heads)\n",
    "        mask[head] = 0\n",
    "    mask = mask.view(-1).contiguous().eq(1)\n",
    "    index: torch.LongTensor = torch.arange(len(mask))[mask].long()\n",
    "    return heads, index\n",
    "\n",
    "\n",
    "def prune_conv1d_layer(layer: Conv1D, index: torch.LongTensor, dim: int = 1) -> Conv1D:\n",
    "    \"\"\"\n",
    "    Prune a Conv1D layer to keep only entries in index. A Conv1D work as a Linear layer (see e.g. BERT) but the weights\n",
    "    are transposed.\n",
    "    Used to remove heads.\n",
    "    Args:\n",
    "        layer (:class:`~transformers.modeling_utils.Conv1D`): The layer to prune.\n",
    "        index (:obj:`torch.LongTensor`): The indices to keep in the layer.\n",
    "        dim (:obj:`int`, `optional`, defaults to 1): The dimension on which to keep the indices.\n",
    "    Returns:\n",
    "        :class:`~transformers.modeling_utils.Conv1D`: The pruned layer as a new layer with :obj:`requires_grad=True`.\n",
    "\n",
    "    Thanks to Hugging Face for the implementation\n",
    "    \"\"\"\n",
    "    index = index.to(layer.weight.device)\n",
    "    W = layer.weight.index_select(dim, index).clone().detach()\n",
    "    if dim == 0:\n",
    "        b = layer.bias.clone().detach()\n",
    "    else:\n",
    "        b = layer.bias[index].clone().detach()\n",
    "    new_size = list(layer.weight.size())\n",
    "    new_size[dim] = len(index)\n",
    "    new_layer = Conv1D(new_size[1], new_size[0]).to(layer.weight.device)\n",
    "    new_layer.weight.requires_grad = False\n",
    "    new_layer.weight.copy_(W.contiguous())\n",
    "    new_layer.weight.requires_grad = True\n",
    "    new_layer.bias.requires_grad = False\n",
    "    new_layer.bias.copy_(b.contiguous())\n",
    "    new_layer.bias.requires_grad = True\n",
    "    return new_layer\n",
    "\n",
    "\n",
    "class AttentionAvgPooling(nn.Module):\n",
    "    def __init__(self,\n",
    "                 n_hidden: int = 512,\n",
    "                 n_heads: int = 8,\n",
    "                 max_positions: int = 1024,\n",
    "                 p_dropout: float = 0.1,\n",
    "                 scale_attn_weights: bool = True):\n",
    "        super().__init__()\n",
    "\n",
    "        self.embed_dim = n_hidden\n",
    "        self.num_heads = n_heads\n",
    "        self.head_dim = self.embed_dim // self.num_heads\n",
    "        self.split_size = self.embed_dim\n",
    "        assert self.head_dim * self.num_heads == self.embed_dim, f\"`embed_dim` must be divisible by num_heads \" \\\n",
    "                                                                 f\"(got `embed_dim`: {self.embed_dim} and \" \\\n",
    "                                                                 f\"`num_heads`: {self.num_heads}).\"\n",
    "\n",
    "        self.scale_attn_weights = scale_attn_weights\n",
    "\n",
    "        self.qkv_attn = Conv1D(3 * self.embed_dim, self.embed_dim)\n",
    "\n",
    "        self.dropout = nn.Dropout(p_dropout)\n",
    "\n",
    "        self.pruned_heads = set()\n",
    "\n",
    "    def prune_heads(self, heads):\n",
    "        if len(heads) == 0:\n",
    "            return\n",
    "        heads, index = find_pruneable_heads_and_indices(heads, self.num_heads, self.head_dim, self.pruned_heads)\n",
    "        index_attn = torch.cat([index, index + self.split_size, index + (2 * self.split_size)])\n",
    "\n",
    "        # Prune conv1d layers\n",
    "        self.qkv_attn = prune_conv1d_layer(self.qkv_attn, index_attn, dim=1)\n",
    "\n",
    "        # Update hyper params\n",
    "        self.split_size = (self.split_size // self.num_heads) * (self.num_heads - len(heads))\n",
    "        self.num_heads = self.num_heads - len(heads)\n",
    "        self.pruned_heads = self.pruned_heads.union(heads)\n",
    "\n",
    "    def _attn(self, query, key, value, attention_mask=None):\n",
    "        attn_weights = torch.matmul(query, key.transpose(-1, -2))\n",
    "        attn_weights = attn_weights / (float(value.size(-1)) ** 0.5)\n",
    "\n",
    "        if attention_mask is not None:\n",
    "            # Apply the attention mask\n",
    "            attn_weights = attn_weights + attention_mask\n",
    "\n",
    "        attn_weights = nn.Softmax(dim=-1)(attn_weights)\n",
    "        attn_weights = self.dropout(attn_weights)\n",
    "\n",
    "        attn_output = torch.matmul(attn_weights, value)\n",
    "\n",
    "        return attn_output, attn_weights\n",
    "\n",
    "    @staticmethod\n",
    "    def _split_heads(tensor, num_heads, attn_head_size):\n",
    "        new_shape = tensor.size()[:-1] + (num_heads, attn_head_size)\n",
    "        tensor = tensor.view(*new_shape)\n",
    "        return tensor.permute(0, 2, 1, 3)  # (batch, head, seq_length, head_features)\n",
    "\n",
    "    @staticmethod\n",
    "    def _merge_heads(tensor, num_heads, attn_head_size):\n",
    "        tensor = tensor.permute(0, 2, 1, 3).contiguous()\n",
    "        new_shape = tensor.size()[:-2] + (num_heads * attn_head_size,)\n",
    "        return tensor.view(new_shape)\n",
    "\n",
    "    def forward(self,\n",
    "                hidden_states,\n",
    "                attention_mask=None,\n",
    "                return_attention_weights=False):\n",
    "\n",
    "        query, key, value = self.qkv_attn(hidden_states).split(self.split_size, dim=2)\n",
    "\n",
    "        # Query is averaged to obtain pooling\n",
    "        query = self._split_heads(query, self.num_heads, self.head_dim).mean(-2, keepdims=True)\n",
    "        key = self._split_heads(key, self.num_heads, self.head_dim)\n",
    "        value = self._split_heads(value, self.num_heads, self.head_dim)\n",
    "\n",
    "        if attention_mask is not None:\n",
    "            attention_mask = (1.0 - attention_mask) * -1e+6\n",
    "            attention_mask = attention_mask[:, None, None, :]\n",
    "\n",
    "        attn_output, attn_weights = self._attn(query, key, value, attention_mask)\n",
    "\n",
    "        attn_output = self._merge_heads(attn_output, self.num_heads, self.head_dim)\n",
    "\n",
    "        if not return_attention_weights:\n",
    "            return attn_output  # attention\n",
    "        else:\n",
    "            attn_weights = self._merge_heads(attn_weights, self.num_heads, self.head_dim)\n",
    "            return attn_output, attn_weights\n",
    "\n",
    "\n",
    "# class GPT2Attention(nn.Module):\n",
    "# https://github.com/huggingface/transformers/blob/master/src/transformers/models/gpt2/modeling_gpt2.py\n",
    "\n",
    "\n",
    "class SequenceClassification(nn.Module):\n",
    "    def __init__(self, input_size, output_size, hidden_size: int = 512, kernel_size: int = 5):\n",
    "        super().__init__()\n",
    "        self.norm = nn.LayerNorm(input_size)\n",
    "        self.conv1d = nn.Conv1d(input_size, hidden_size, kernel_size, padding='same')\n",
    "        self.dropout = nn.Dropout(0.1)\n",
    "        self.out_head = nn.Linear(hidden_size, output_size)\n",
    "        ##\n",
    "        self.norm = nn.LayerNorm(hidden_size)\n",
    "        self.out_norm = nn.LayerNorm(hidden_size)\n",
    "        self.pool = AttentionAvgPooling()\n",
    "        \n",
    "    def forward(self, x, w):\n",
    "        # \n",
    "        x = self.dropout(x)\n",
    "        #\n",
    "        h = self.conv1d(x.transpose(-1, -2)).transpose(-1, -2)  # self.norm(x).transpose(-1, -2)\n",
    "        ##\n",
    "        h = self.norm(h)\n",
    "        # Non-linear activation\n",
    "        h = F.gelu(h)\n",
    "        \n",
    "        # Dropout\n",
    "        h = self.dropout(h)\n",
    "        # Weighted sum\n",
    "        # h = torch.einsum('btd,bt->bd', h, w)\n",
    "        # Apply last linear projection\n",
    "        # h = self.out_head(h)\n",
    "        ##\n",
    "        h = self.pool(h, w)\n",
    "        h = self.out_norm(h)\n",
    "        y = self.out_head(h)\n",
    "\n",
    "        return y\n",
    "\n",
    "'''\n",
    "class SequenceClassification(nn.Module):\n",
    "    def __init__(self, input_size, output_size, hidden_size: int = 512, kernel_size: int = 5):\n",
    "        super().__init__()\n",
    "        self.norm = nn.LayerNorm(input_size)\n",
    "        self.conv1d = nn.Conv1d(input_size, hidden_size, kernel_size, padding='same')\n",
    "        self.dropout = nn.Dropout(0.1)\n",
    "        self.cls_head = nn.Linear(hidden_size, output_size)\n",
    "        \n",
    "    def forward(self, x, w):\n",
    "        # \n",
    "        x = self.dropout(x)\n",
    "        #\n",
    "        h = self.conv1d(self.norm(x).transpose(-1, -2))\n",
    "        # Non-linear activation\n",
    "        h = F.gelu(h)\n",
    "        # Dropout\n",
    "        h = self.dropout(h)\n",
    "        # Weighted sum\n",
    "        h = torch.einsum('btd,bt->bd', h.transpose(-1, -2), w)\n",
    "        # Apply last linear projection\n",
    "        y = self.cls_head(h)\n",
    "\n",
    "        return y\n",
    "'''"
   ]
  },
  {
   "cell_type": "code",
   "execution_count": 45,
   "metadata": {
    "collapsed": false,
    "jupyter": {
     "outputs_hidden": false
    }
   },
   "outputs": [
    {
     "name": "stdout",
     "output_type": "stream",
     "text": [
      "newsgroup ['alt.atheism' 'comp.graphics' 'comp.os.ms-windows.misc'\n",
      " 'comp.sys.ibm.pc.hardware' 'comp.sys.mac.hardware' 'comp.windows.x'\n",
      " 'misc.forsale' 'rec.autos' 'rec.motorcycles' 'rec.sport.baseball'\n",
      " 'rec.sport.hockey' 'sci.crypt' 'sci.electronics' 'sci.med' 'sci.space'\n",
      " 'soc.religion.christian' 'talk.politics.guns' 'talk.politics.mideast'\n",
      " 'talk.politics.misc' 'talk.religion.misc']\n"
     ]
    }
   ],
   "source": [
    "le = ng['train'].get_label_transformer()\n",
    "for label, le_ in le.items():\n",
    "    print(label, le_.classes_)"
   ]
  },
  {
   "cell_type": "code",
   "execution_count": 46,
   "metadata": {},
   "outputs": [
    {
     "name": "stdout",
     "output_type": "stream",
     "text": [
      "newsgroup tensor([1.2582, 1.0595, 1.0266, 1.0475, 1.0793, 1.0668, 1.0198, 1.0619, 1.0619,\n",
      "        1.0312, 1.0289, 1.0523, 1.0428, 1.0000, 1.0547, 1.0428, 1.1517, 1.1024,\n",
      "        1.2969, 1.5966], device='cuda:0')\n"
     ]
    }
   ],
   "source": [
    "lw = {label: lw_.to(device) for label, lw_ in ng['train'].get_label_weights().items()}\n",
    "for label, lw_ in lw.items():\n",
    "    print(label, lw_)"
   ]
  },
  {
   "cell_type": "code",
   "execution_count": 47,
   "metadata": {
    "collapsed": false,
    "jupyter": {
     "outputs_hidden": false
    }
   },
   "outputs": [],
   "source": [
    "task = 'newsgroup'"
   ]
  },
  {
   "cell_type": "code",
   "execution_count": 48,
   "metadata": {
    "collapsed": false,
    "jupyter": {
     "outputs_hidden": false
    }
   },
   "outputs": [
    {
     "data": {
      "text/plain": [
       "SequenceClassification(\n",
       "  (norm): LayerNorm((512,), eps=1e-05, elementwise_affine=True)\n",
       "  (conv1d): Conv1d(300, 512, kernel_size=(5,), stride=(1,), padding=same)\n",
       "  (dropout): Dropout(p=0.1, inplace=False)\n",
       "  (out_head): Linear(in_features=512, out_features=20, bias=True)\n",
       "  (out_norm): LayerNorm((512,), eps=1e-05, elementwise_affine=True)\n",
       "  (pool): AttentionAvgPooling(\n",
       "    (qkv_attn): Conv1D()\n",
       "    (dropout): Dropout(p=0.1, inplace=False)\n",
       "  )\n",
       ")"
      ]
     },
     "execution_count": 48,
     "metadata": {},
     "output_type": "execute_result"
    }
   ],
   "source": [
    "model = SequenceClassification(300, len(le[task].classes_))    \n",
    "model = model.to(device)\n",
    "model"
   ]
  },
  {
   "cell_type": "code",
   "execution_count": 49,
   "metadata": {
    "collapsed": false,
    "jupyter": {
     "outputs_hidden": false
    }
   },
   "outputs": [],
   "source": [
    "lr = 0.001\n",
    "batch_size = 8\n",
    "n_epochs = 64\n",
    "accumulation_steps = 64\n",
    "optimizer = torch.optim.AdamW(params=model.parameters(), lr=lr, weight_decay=0.2)\n",
    "# optimizer = torch.optim.RMSprop(params=model.parameters(), lr=lr)"
   ]
  },
  {
   "cell_type": "code",
   "execution_count": 50,
   "metadata": {
    "collapsed": false,
    "jupyter": {
     "outputs_hidden": false
    }
   },
   "outputs": [],
   "source": [
    "def collate(mini_batch):\n",
    "    # Tokenise sequences \n",
    "    sequences = embeddings_model.tokenise([sample['sequence'] for sample in mini_batch])\n",
    "    # Get the length of the longest sentence\n",
    "    max_sequence_len = max(len(sample) for sample in sequences)\n",
    "    # Create an input tensor with all zero values\n",
    "    input_embeds = np.zeros((len(mini_batch), max_sequence_len, 300))\n",
    "    # Create weights tensor with all zero values\n",
    "    token_weights = np.zeros((len(mini_batch), max_sequence_len))\n",
    "    valid_mask = np.zeros((len(mini_batch), max_sequence_len))\n",
    "    # Create a target output matrix with all -100 (PyTorch ignores this value by default)\n",
    "    output_lbl = np.full((len(mini_batch), 1), -100)\n",
    "    # Fill the tensor and the matrix\n",
    "    for i, sample in enumerate(sequences):\n",
    "        for j, token in enumerate(sample):\n",
    "            # Manage missing tokens in vocabulary\n",
    "            input_embeds[i, j] = embeddings_model[token.lower()]\n",
    "        token_weights[i, :len(sample)] = embeddings_model.sif_embedding_model.word_weights[embeddings_model.encode(sample, backend='numpy')]\n",
    "        valid_mask[i, :len(sample)] = 1.0\n",
    "        output_lbl[i] = le[task].transform([mini_batch[i][task]])[0]\n",
    "    # Convert to PyTorch tensor\n",
    "    input_embeds = torch.tensor(input_embeds, dtype=torch.float, device=device)\n",
    "    token_weights = torch.tensor(token_weights, dtype=torch.float, device=device)\n",
    "    valid_mask = torch.tensor(valid_mask, dtype=torch.float, device=device)\n",
    "    output_lbl = torch.tensor(output_lbl, device=device)\n",
    "\n",
    "    # return input_embeds, token_weights, output_lbl\n",
    "    return input_embeds, valid_mask, output_lbl"
   ]
  },
  {
   "cell_type": "code",
   "execution_count": 51,
   "metadata": {
    "collapsed": false,
    "jupyter": {
     "outputs_hidden": false
    }
   },
   "outputs": [],
   "source": [
    "data_loader = {\n",
    "    split: torch.utils.data.DataLoader(\n",
    "        data, batch_size=batch_size, collate_fn=collate, shuffle=split == 'train'\n",
    "    )\n",
    "    for split, data in ng.items()\n",
    "}"
   ]
  },
  {
   "cell_type": "markdown",
   "metadata": {
    "collapsed": false,
    "jupyter": {
     "outputs_hidden": false
    }
   },
   "source": [
    "##### Training"
   ]
  },
  {
   "cell_type": "code",
   "execution_count": null,
   "metadata": {
    "collapsed": false,
    "jupyter": {
     "outputs_hidden": false
    },
    "scrolled": true
   },
   "outputs": [
    {
     "name": "stdout",
     "output_type": "stream",
     "text": [
      "Starting epoch 1/64\n"
     ]
    },
    {
     "name": "stderr",
     "output_type": "stream",
     "text": [
      "3it [00:00, 26.28it/s]/home/vincenzo/anaconda3/envs/vstk/lib/python3.12/site-packages/torch/nn/modules/conv.py:306: UserWarning: Plan failed with a cudnnException: CUDNN_BACKEND_EXECUTION_PLAN_DESCRIPTOR: cudnnFinalize Descriptor Failed cudnn_status: CUDNN_STATUS_NOT_SUPPORTED (Triggered internally at ../aten/src/ATen/native/cudnn/Conv_v8.cpp:919.)\n",
      "  return F.conv1d(input, weight, bias, self.stride,\n",
      "/home/vincenzo/anaconda3/envs/vstk/lib/python3.12/site-packages/torch/nn/modules/conv.py:306: UserWarning: Plan failed with a cudnnException: CUDNN_BACKEND_EXECUTION_PLAN_DESCRIPTOR: cudnnFinalize Descriptor Failed cudnn_status: CUDNN_STATUS_NOT_SUPPORTED (Triggered internally at ../aten/src/ATen/native/cudnn/Conv_v8.cpp:919.)\n",
      "  return F.conv1d(input, weight, bias, self.stride,\n",
      "/home/vincenzo/anaconda3/envs/vstk/lib/python3.12/site-packages/torch/nn/modules/conv.py:306: UserWarning: Plan failed with a cudnnException: CUDNN_BACKEND_EXECUTION_PLAN_DESCRIPTOR: cudnnFinalize Descriptor Failed cudnn_status: CUDNN_STATUS_NOT_SUPPORTED (Triggered internally at ../aten/src/ATen/native/cudnn/Conv_v8.cpp:919.)\n",
      "  return F.conv1d(input, weight, bias, self.stride,\n",
      "8it [00:00, 34.22it/s]/home/vincenzo/anaconda3/envs/vstk/lib/python3.12/site-packages/torch/nn/modules/conv.py:306: UserWarning: Plan failed with a cudnnException: CUDNN_BACKEND_EXECUTION_PLAN_DESCRIPTOR: cudnnFinalize Descriptor Failed cudnn_status: CUDNN_STATUS_NOT_SUPPORTED (Triggered internally at ../aten/src/ATen/native/cudnn/Conv_v8.cpp:919.)\n",
      "  return F.conv1d(input, weight, bias, self.stride,\n",
      "/home/vincenzo/anaconda3/envs/vstk/lib/python3.12/site-packages/torch/nn/modules/conv.py:306: UserWarning: Plan failed with a cudnnException: CUDNN_BACKEND_EXECUTION_PLAN_DESCRIPTOR: cudnnFinalize Descriptor Failed cudnn_status: CUDNN_STATUS_NOT_SUPPORTED (Triggered internally at ../aten/src/ATen/native/cudnn/Conv_v8.cpp:919.)\n",
      "  return F.conv1d(input, weight, bias, self.stride,\n",
      "/home/vincenzo/anaconda3/envs/vstk/lib/python3.12/site-packages/torch/nn/modules/conv.py:306: UserWarning: Plan failed with a cudnnException: CUDNN_BACKEND_EXECUTION_PLAN_DESCRIPTOR: cudnnFinalize Descriptor Failed cudnn_status: CUDNN_STATUS_NOT_SUPPORTED (Triggered internally at ../aten/src/ATen/native/cudnn/Conv_v8.cpp:919.)\n",
      "  return F.conv1d(input, weight, bias, self.stride,\n",
      "12it [00:00, 32.74it/s]/home/vincenzo/anaconda3/envs/vstk/lib/python3.12/site-packages/torch/nn/modules/conv.py:306: UserWarning: Plan failed with a cudnnException: CUDNN_BACKEND_EXECUTION_PLAN_DESCRIPTOR: cudnnFinalize Descriptor Failed cudnn_status: CUDNN_STATUS_NOT_SUPPORTED (Triggered internally at ../aten/src/ATen/native/cudnn/Conv_v8.cpp:919.)\n",
      "  return F.conv1d(input, weight, bias, self.stride,\n",
      "/home/vincenzo/anaconda3/envs/vstk/lib/python3.12/site-packages/torch/nn/modules/conv.py:306: UserWarning: Plan failed with a cudnnException: CUDNN_BACKEND_EXECUTION_PLAN_DESCRIPTOR: cudnnFinalize Descriptor Failed cudnn_status: CUDNN_STATUS_NOT_SUPPORTED (Triggered internally at ../aten/src/ATen/native/cudnn/Conv_v8.cpp:919.)\n",
      "  return F.conv1d(input, weight, bias, self.stride,\n",
      "22it [00:00, 41.06it/s]/home/vincenzo/anaconda3/envs/vstk/lib/python3.12/site-packages/torch/nn/modules/conv.py:306: UserWarning: Plan failed with a cudnnException: CUDNN_BACKEND_EXECUTION_PLAN_DESCRIPTOR: cudnnFinalize Descriptor Failed cudnn_status: CUDNN_STATUS_NOT_SUPPORTED (Triggered internally at ../aten/src/ATen/native/cudnn/Conv_v8.cpp:919.)\n",
      "  return F.conv1d(input, weight, bias, self.stride,\n",
      "/home/vincenzo/anaconda3/envs/vstk/lib/python3.12/site-packages/torch/nn/modules/conv.py:306: UserWarning: Plan failed with a cudnnException: CUDNN_BACKEND_EXECUTION_PLAN_DESCRIPTOR: cudnnFinalize Descriptor Failed cudnn_status: CUDNN_STATUS_NOT_SUPPORTED (Triggered internally at ../aten/src/ATen/native/cudnn/Conv_v8.cpp:919.)\n",
      "  return F.conv1d(input, weight, bias, self.stride,\n",
      "27it [00:00, 42.72it/s]/home/vincenzo/anaconda3/envs/vstk/lib/python3.12/site-packages/torch/nn/modules/conv.py:306: UserWarning: Plan failed with a cudnnException: CUDNN_BACKEND_EXECUTION_PLAN_DESCRIPTOR: cudnnFinalize Descriptor Failed cudnn_status: CUDNN_STATUS_NOT_SUPPORTED (Triggered internally at ../aten/src/ATen/native/cudnn/Conv_v8.cpp:919.)\n",
      "  return F.conv1d(input, weight, bias, self.stride,\n",
      "/home/vincenzo/anaconda3/envs/vstk/lib/python3.12/site-packages/torch/nn/modules/conv.py:306: UserWarning: Plan failed with a cudnnException: CUDNN_BACKEND_EXECUTION_PLAN_DESCRIPTOR: cudnnFinalize Descriptor Failed cudnn_status: CUDNN_STATUS_NOT_SUPPORTED (Triggered internally at ../aten/src/ATen/native/cudnn/Conv_v8.cpp:919.)\n",
      "  return F.conv1d(input, weight, bias, self.stride,\n",
      "32it [00:00, 37.83it/s]/home/vincenzo/anaconda3/envs/vstk/lib/python3.12/site-packages/torch/nn/modules/conv.py:306: UserWarning: Plan failed with a cudnnException: CUDNN_BACKEND_EXECUTION_PLAN_DESCRIPTOR: cudnnFinalize Descriptor Failed cudnn_status: CUDNN_STATUS_NOT_SUPPORTED (Triggered internally at ../aten/src/ATen/native/cudnn/Conv_v8.cpp:919.)\n",
      "  return F.conv1d(input, weight, bias, self.stride,\n",
      "/home/vincenzo/anaconda3/envs/vstk/lib/python3.12/site-packages/torch/nn/modules/conv.py:306: UserWarning: Plan failed with a cudnnException: CUDNN_BACKEND_EXECUTION_PLAN_DESCRIPTOR: cudnnFinalize Descriptor Failed cudnn_status: CUDNN_STATUS_NOT_SUPPORTED (Triggered internally at ../aten/src/ATen/native/cudnn/Conv_v8.cpp:919.)\n",
      "  return F.conv1d(input, weight, bias, self.stride,\n",
      "36it [00:00, 37.67it/s]/home/vincenzo/anaconda3/envs/vstk/lib/python3.12/site-packages/torch/nn/modules/conv.py:306: UserWarning: Plan failed with a cudnnException: CUDNN_BACKEND_EXECUTION_PLAN_DESCRIPTOR: cudnnFinalize Descriptor Failed cudnn_status: CUDNN_STATUS_NOT_SUPPORTED (Triggered internally at ../aten/src/ATen/native/cudnn/Conv_v8.cpp:919.)\n",
      "  return F.conv1d(input, weight, bias, self.stride,\n",
      "41it [00:01, 38.91it/s]/home/vincenzo/anaconda3/envs/vstk/lib/python3.12/site-packages/torch/nn/modules/conv.py:306: UserWarning: Plan failed with a cudnnException: CUDNN_BACKEND_EXECUTION_PLAN_DESCRIPTOR: cudnnFinalize Descriptor Failed cudnn_status: CUDNN_STATUS_NOT_SUPPORTED (Triggered internally at ../aten/src/ATen/native/cudnn/Conv_v8.cpp:919.)\n",
      "  return F.conv1d(input, weight, bias, self.stride,\n",
      "/home/vincenzo/anaconda3/envs/vstk/lib/python3.12/site-packages/torch/nn/modules/conv.py:306: UserWarning: Plan failed with a cudnnException: CUDNN_BACKEND_EXECUTION_PLAN_DESCRIPTOR: cudnnFinalize Descriptor Failed cudnn_status: CUDNN_STATUS_NOT_SUPPORTED (Triggered internally at ../aten/src/ATen/native/cudnn/Conv_v8.cpp:919.)\n",
      "  return F.conv1d(input, weight, bias, self.stride,\n",
      "45it [00:01, 38.53it/s]/home/vincenzo/anaconda3/envs/vstk/lib/python3.12/site-packages/torch/nn/modules/conv.py:306: UserWarning: Plan failed with a cudnnException: CUDNN_BACKEND_EXECUTION_PLAN_DESCRIPTOR: cudnnFinalize Descriptor Failed cudnn_status: CUDNN_STATUS_NOT_SUPPORTED (Triggered internally at ../aten/src/ATen/native/cudnn/Conv_v8.cpp:919.)\n",
      "  return F.conv1d(input, weight, bias, self.stride,\n",
      "55it [00:01, 40.77it/s]/home/vincenzo/anaconda3/envs/vstk/lib/python3.12/site-packages/torch/nn/modules/conv.py:306: UserWarning: Plan failed with a cudnnException: CUDNN_BACKEND_EXECUTION_PLAN_DESCRIPTOR: cudnnFinalize Descriptor Failed cudnn_status: CUDNN_STATUS_NOT_SUPPORTED (Triggered internally at ../aten/src/ATen/native/cudnn/Conv_v8.cpp:919.)\n",
      "  return F.conv1d(input, weight, bias, self.stride,\n",
      "60it [00:01, 42.74it/s]/home/vincenzo/anaconda3/envs/vstk/lib/python3.12/site-packages/torch/nn/modules/conv.py:306: UserWarning: Plan failed with a cudnnException: CUDNN_BACKEND_EXECUTION_PLAN_DESCRIPTOR: cudnnFinalize Descriptor Failed cudnn_status: CUDNN_STATUS_NOT_SUPPORTED (Triggered internally at ../aten/src/ATen/native/cudnn/Conv_v8.cpp:919.)\n",
      "  return F.conv1d(input, weight, bias, self.stride,\n",
      "/home/vincenzo/anaconda3/envs/vstk/lib/python3.12/site-packages/torch/nn/modules/conv.py:306: UserWarning: Plan failed with a cudnnException: CUDNN_BACKEND_EXECUTION_PLAN_DESCRIPTOR: cudnnFinalize Descriptor Failed cudnn_status: CUDNN_STATUS_NOT_SUPPORTED (Triggered internally at ../aten/src/ATen/native/cudnn/Conv_v8.cpp:919.)\n",
      "  return F.conv1d(input, weight, bias, self.stride,\n",
      "/home/vincenzo/anaconda3/envs/vstk/lib/python3.12/site-packages/torch/nn/modules/conv.py:306: UserWarning: Plan failed with a cudnnException: CUDNN_BACKEND_EXECUTION_PLAN_DESCRIPTOR: cudnnFinalize Descriptor Failed cudnn_status: CUDNN_STATUS_NOT_SUPPORTED (Triggered internally at ../aten/src/ATen/native/cudnn/Conv_v8.cpp:919.)\n",
      "  return F.conv1d(input, weight, bias, self.stride,\n",
      "65it [00:01, 40.81it/s]/home/vincenzo/anaconda3/envs/vstk/lib/python3.12/site-packages/torch/nn/modules/conv.py:306: UserWarning: Plan failed with a cudnnException: CUDNN_BACKEND_EXECUTION_PLAN_DESCRIPTOR: cudnnFinalize Descriptor Failed cudnn_status: CUDNN_STATUS_NOT_SUPPORTED (Triggered internally at ../aten/src/ATen/native/cudnn/Conv_v8.cpp:919.)\n",
      "  return F.conv1d(input, weight, bias, self.stride,\n",
      "75it [00:01, 37.16it/s]/home/vincenzo/anaconda3/envs/vstk/lib/python3.12/site-packages/torch/nn/modules/conv.py:306: UserWarning: Plan failed with a cudnnException: CUDNN_BACKEND_EXECUTION_PLAN_DESCRIPTOR: cudnnFinalize Descriptor Failed cudnn_status: CUDNN_STATUS_NOT_SUPPORTED (Triggered internally at ../aten/src/ATen/native/cudnn/Conv_v8.cpp:919.)\n",
      "  return F.conv1d(input, weight, bias, self.stride,\n",
      "/home/vincenzo/anaconda3/envs/vstk/lib/python3.12/site-packages/torch/nn/modules/conv.py:306: UserWarning: Plan failed with a cudnnException: CUDNN_BACKEND_EXECUTION_PLAN_DESCRIPTOR: cudnnFinalize Descriptor Failed cudnn_status: CUDNN_STATUS_NOT_SUPPORTED (Triggered internally at ../aten/src/ATen/native/cudnn/Conv_v8.cpp:919.)\n",
      "  return F.conv1d(input, weight, bias, self.stride,\n",
      "/home/vincenzo/anaconda3/envs/vstk/lib/python3.12/site-packages/torch/nn/modules/conv.py:306: UserWarning: Plan failed with a cudnnException: CUDNN_BACKEND_EXECUTION_PLAN_DESCRIPTOR: cudnnFinalize Descriptor Failed cudnn_status: CUDNN_STATUS_NOT_SUPPORTED (Triggered internally at ../aten/src/ATen/native/cudnn/Conv_v8.cpp:919.)\n",
      "  return F.conv1d(input, weight, bias, self.stride,\n",
      "80it [00:02, 39.37it/s]/home/vincenzo/anaconda3/envs/vstk/lib/python3.12/site-packages/torch/nn/modules/conv.py:306: UserWarning: Plan failed with a cudnnException: CUDNN_BACKEND_EXECUTION_PLAN_DESCRIPTOR: cudnnFinalize Descriptor Failed cudnn_status: CUDNN_STATUS_NOT_SUPPORTED (Triggered internally at ../aten/src/ATen/native/cudnn/Conv_v8.cpp:919.)\n",
      "  return F.conv1d(input, weight, bias, self.stride,\n",
      "/home/vincenzo/anaconda3/envs/vstk/lib/python3.12/site-packages/torch/nn/modules/conv.py:306: UserWarning: Plan failed with a cudnnException: CUDNN_BACKEND_EXECUTION_PLAN_DESCRIPTOR: cudnnFinalize Descriptor Failed cudnn_status: CUDNN_STATUS_NOT_SUPPORTED (Triggered internally at ../aten/src/ATen/native/cudnn/Conv_v8.cpp:919.)\n",
      "  return F.conv1d(input, weight, bias, self.stride,\n",
      "85it [00:02, 33.14it/s]/home/vincenzo/anaconda3/envs/vstk/lib/python3.12/site-packages/torch/nn/modules/conv.py:306: UserWarning: Plan failed with a cudnnException: CUDNN_BACKEND_EXECUTION_PLAN_DESCRIPTOR: cudnnFinalize Descriptor Failed cudnn_status: CUDNN_STATUS_NOT_SUPPORTED (Triggered internally at ../aten/src/ATen/native/cudnn/Conv_v8.cpp:919.)\n",
      "  return F.conv1d(input, weight, bias, self.stride,\n",
      "/home/vincenzo/anaconda3/envs/vstk/lib/python3.12/site-packages/torch/nn/modules/conv.py:306: UserWarning: Plan failed with a cudnnException: CUDNN_BACKEND_EXECUTION_PLAN_DESCRIPTOR: cudnnFinalize Descriptor Failed cudnn_status: CUDNN_STATUS_NOT_SUPPORTED (Triggered internally at ../aten/src/ATen/native/cudnn/Conv_v8.cpp:919.)\n",
      "  return F.conv1d(input, weight, bias, self.stride,\n",
      "90it [00:02, 36.55it/s]/home/vincenzo/anaconda3/envs/vstk/lib/python3.12/site-packages/torch/nn/modules/conv.py:306: UserWarning: Plan failed with a cudnnException: CUDNN_BACKEND_EXECUTION_PLAN_DESCRIPTOR: cudnnFinalize Descriptor Failed cudnn_status: CUDNN_STATUS_NOT_SUPPORTED (Triggered internally at ../aten/src/ATen/native/cudnn/Conv_v8.cpp:919.)\n",
      "  return F.conv1d(input, weight, bias, self.stride,\n",
      "/home/vincenzo/anaconda3/envs/vstk/lib/python3.12/site-packages/torch/nn/modules/conv.py:306: UserWarning: Plan failed with a cudnnException: CUDNN_BACKEND_EXECUTION_PLAN_DESCRIPTOR: cudnnFinalize Descriptor Failed cudnn_status: CUDNN_STATUS_NOT_SUPPORTED (Triggered internally at ../aten/src/ATen/native/cudnn/Conv_v8.cpp:919.)\n",
      "  return F.conv1d(input, weight, bias, self.stride,\n",
      "95it [00:02, 36.39it/s]/home/vincenzo/anaconda3/envs/vstk/lib/python3.12/site-packages/torch/nn/modules/conv.py:306: UserWarning: Plan failed with a cudnnException: CUDNN_BACKEND_EXECUTION_PLAN_DESCRIPTOR: cudnnFinalize Descriptor Failed cudnn_status: CUDNN_STATUS_NOT_SUPPORTED (Triggered internally at ../aten/src/ATen/native/cudnn/Conv_v8.cpp:919.)\n",
      "  return F.conv1d(input, weight, bias, self.stride,\n",
      "/home/vincenzo/anaconda3/envs/vstk/lib/python3.12/site-packages/torch/nn/modules/conv.py:306: UserWarning: Plan failed with a cudnnException: CUDNN_BACKEND_EXECUTION_PLAN_DESCRIPTOR: cudnnFinalize Descriptor Failed cudnn_status: CUDNN_STATUS_NOT_SUPPORTED (Triggered internally at ../aten/src/ATen/native/cudnn/Conv_v8.cpp:919.)\n",
      "  return F.conv1d(input, weight, bias, self.stride,\n",
      "101it [00:02, 41.02it/s]/home/vincenzo/anaconda3/envs/vstk/lib/python3.12/site-packages/torch/nn/modules/conv.py:306: UserWarning: Plan failed with a cudnnException: CUDNN_BACKEND_EXECUTION_PLAN_DESCRIPTOR: cudnnFinalize Descriptor Failed cudnn_status: CUDNN_STATUS_NOT_SUPPORTED (Triggered internally at ../aten/src/ATen/native/cudnn/Conv_v8.cpp:919.)\n",
      "  return F.conv1d(input, weight, bias, self.stride,\n",
      "/home/vincenzo/anaconda3/envs/vstk/lib/python3.12/site-packages/torch/nn/modules/conv.py:306: UserWarning: Plan failed with a cudnnException: CUDNN_BACKEND_EXECUTION_PLAN_DESCRIPTOR: cudnnFinalize Descriptor Failed cudnn_status: CUDNN_STATUS_NOT_SUPPORTED (Triggered internally at ../aten/src/ATen/native/cudnn/Conv_v8.cpp:919.)\n",
      "  return F.conv1d(input, weight, bias, self.stride,\n",
      "106it [00:02, 41.58it/s]/home/vincenzo/anaconda3/envs/vstk/lib/python3.12/site-packages/torch/nn/modules/conv.py:306: UserWarning: Plan failed with a cudnnException: CUDNN_BACKEND_EXECUTION_PLAN_DESCRIPTOR: cudnnFinalize Descriptor Failed cudnn_status: CUDNN_STATUS_NOT_SUPPORTED (Triggered internally at ../aten/src/ATen/native/cudnn/Conv_v8.cpp:919.)\n",
      "  return F.conv1d(input, weight, bias, self.stride,\n",
      "/home/vincenzo/anaconda3/envs/vstk/lib/python3.12/site-packages/torch/nn/modules/conv.py:306: UserWarning: Plan failed with a cudnnException: CUDNN_BACKEND_EXECUTION_PLAN_DESCRIPTOR: cudnnFinalize Descriptor Failed cudnn_status: CUDNN_STATUS_NOT_SUPPORTED (Triggered internally at ../aten/src/ATen/native/cudnn/Conv_v8.cpp:919.)\n",
      "  return F.conv1d(input, weight, bias, self.stride,\n",
      "/home/vincenzo/anaconda3/envs/vstk/lib/python3.12/site-packages/torch/nn/modules/conv.py:306: UserWarning: Plan failed with a cudnnException: CUDNN_BACKEND_EXECUTION_PLAN_DESCRIPTOR: cudnnFinalize Descriptor Failed cudnn_status: CUDNN_STATUS_NOT_SUPPORTED (Triggered internally at ../aten/src/ATen/native/cudnn/Conv_v8.cpp:919.)\n",
      "  return F.conv1d(input, weight, bias, self.stride,\n",
      "111it [00:02, 42.80it/s]/home/vincenzo/anaconda3/envs/vstk/lib/python3.12/site-packages/torch/nn/modules/conv.py:306: UserWarning: Plan failed with a cudnnException: CUDNN_BACKEND_EXECUTION_PLAN_DESCRIPTOR: cudnnFinalize Descriptor Failed cudnn_status: CUDNN_STATUS_NOT_SUPPORTED (Triggered internally at ../aten/src/ATen/native/cudnn/Conv_v8.cpp:919.)\n",
      "  return F.conv1d(input, weight, bias, self.stride,\n",
      "/home/vincenzo/anaconda3/envs/vstk/lib/python3.12/site-packages/torch/nn/modules/conv.py:306: UserWarning: Plan failed with a cudnnException: CUDNN_BACKEND_EXECUTION_PLAN_DESCRIPTOR: cudnnFinalize Descriptor Failed cudnn_status: CUDNN_STATUS_NOT_SUPPORTED (Triggered internally at ../aten/src/ATen/native/cudnn/Conv_v8.cpp:919.)\n",
      "  return F.conv1d(input, weight, bias, self.stride,\n",
      "116it [00:02, 41.41it/s]/home/vincenzo/anaconda3/envs/vstk/lib/python3.12/site-packages/torch/nn/modules/conv.py:306: UserWarning: Plan failed with a cudnnException: CUDNN_BACKEND_EXECUTION_PLAN_DESCRIPTOR: cudnnFinalize Descriptor Failed cudnn_status: CUDNN_STATUS_NOT_SUPPORTED (Triggered internally at ../aten/src/ATen/native/cudnn/Conv_v8.cpp:919.)\n",
      "  return F.conv1d(input, weight, bias, self.stride,\n",
      "/home/vincenzo/anaconda3/envs/vstk/lib/python3.12/site-packages/torch/nn/modules/conv.py:306: UserWarning: Plan failed with a cudnnException: CUDNN_BACKEND_EXECUTION_PLAN_DESCRIPTOR: cudnnFinalize Descriptor Failed cudnn_status: CUDNN_STATUS_NOT_SUPPORTED (Triggered internally at ../aten/src/ATen/native/cudnn/Conv_v8.cpp:919.)\n",
      "  return F.conv1d(input, weight, bias, self.stride,\n",
      "121it [00:03, 42.02it/s]/home/vincenzo/anaconda3/envs/vstk/lib/python3.12/site-packages/torch/nn/modules/conv.py:306: UserWarning: Plan failed with a cudnnException: CUDNN_BACKEND_EXECUTION_PLAN_DESCRIPTOR: cudnnFinalize Descriptor Failed cudnn_status: CUDNN_STATUS_NOT_SUPPORTED (Triggered internally at ../aten/src/ATen/native/cudnn/Conv_v8.cpp:919.)\n",
      "  return F.conv1d(input, weight, bias, self.stride,\n",
      "/home/vincenzo/anaconda3/envs/vstk/lib/python3.12/site-packages/torch/nn/modules/conv.py:306: UserWarning: Plan failed with a cudnnException: CUDNN_BACKEND_EXECUTION_PLAN_DESCRIPTOR: cudnnFinalize Descriptor Failed cudnn_status: CUDNN_STATUS_NOT_SUPPORTED (Triggered internally at ../aten/src/ATen/native/cudnn/Conv_v8.cpp:919.)\n",
      "  return F.conv1d(input, weight, bias, self.stride,\n",
      "/home/vincenzo/anaconda3/envs/vstk/lib/python3.12/site-packages/torch/nn/modules/conv.py:306: UserWarning: Plan failed with a cudnnException: CUDNN_BACKEND_EXECUTION_PLAN_DESCRIPTOR: cudnnFinalize Descriptor Failed cudnn_status: CUDNN_STATUS_NOT_SUPPORTED (Triggered internally at ../aten/src/ATen/native/cudnn/Conv_v8.cpp:919.)\n",
      "  return F.conv1d(input, weight, bias, self.stride,\n",
      "/home/vincenzo/anaconda3/envs/vstk/lib/python3.12/site-packages/torch/nn/modules/conv.py:306: UserWarning: Plan failed with a cudnnException: CUDNN_BACKEND_EXECUTION_PLAN_DESCRIPTOR: cudnnFinalize Descriptor Failed cudnn_status: CUDNN_STATUS_NOT_SUPPORTED (Triggered internally at ../aten/src/ATen/native/cudnn/Conv_v8.cpp:919.)\n",
      "  return F.conv1d(input, weight, bias, self.stride,\n",
      "126it [00:03, 38.84it/s]/home/vincenzo/anaconda3/envs/vstk/lib/python3.12/site-packages/torch/nn/modules/conv.py:306: UserWarning: Plan failed with a cudnnException: CUDNN_BACKEND_EXECUTION_PLAN_DESCRIPTOR: cudnnFinalize Descriptor Failed cudnn_status: CUDNN_STATUS_NOT_SUPPORTED (Triggered internally at ../aten/src/ATen/native/cudnn/Conv_v8.cpp:919.)\n",
      "  return F.conv1d(input, weight, bias, self.stride,\n",
      "/home/vincenzo/anaconda3/envs/vstk/lib/python3.12/site-packages/torch/nn/modules/conv.py:306: UserWarning: Plan failed with a cudnnException: CUDNN_BACKEND_EXECUTION_PLAN_DESCRIPTOR: cudnnFinalize Descriptor Failed cudnn_status: CUDNN_STATUS_NOT_SUPPORTED (Triggered internally at ../aten/src/ATen/native/cudnn/Conv_v8.cpp:919.)\n",
      "  return F.conv1d(input, weight, bias, self.stride,\n",
      "131it [00:03, 40.91it/s]/home/vincenzo/anaconda3/envs/vstk/lib/python3.12/site-packages/torch/nn/modules/conv.py:306: UserWarning: Plan failed with a cudnnException: CUDNN_BACKEND_EXECUTION_PLAN_DESCRIPTOR: cudnnFinalize Descriptor Failed cudnn_status: CUDNN_STATUS_NOT_SUPPORTED (Triggered internally at ../aten/src/ATen/native/cudnn/Conv_v8.cpp:919.)\n",
      "  return F.conv1d(input, weight, bias, self.stride,\n",
      "136it [00:03, 30.93it/s]/home/vincenzo/anaconda3/envs/vstk/lib/python3.12/site-packages/torch/nn/modules/conv.py:306: UserWarning: Plan failed with a cudnnException: CUDNN_BACKEND_EXECUTION_PLAN_DESCRIPTOR: cudnnFinalize Descriptor Failed cudnn_status: CUDNN_STATUS_NOT_SUPPORTED (Triggered internally at ../aten/src/ATen/native/cudnn/Conv_v8.cpp:919.)\n",
      "  return F.conv1d(input, weight, bias, self.stride,\n",
      "140it [00:03, 32.59it/s]/home/vincenzo/anaconda3/envs/vstk/lib/python3.12/site-packages/torch/nn/modules/conv.py:306: UserWarning: Plan failed with a cudnnException: CUDNN_BACKEND_EXECUTION_PLAN_DESCRIPTOR: cudnnFinalize Descriptor Failed cudnn_status: CUDNN_STATUS_NOT_SUPPORTED (Triggered internally at ../aten/src/ATen/native/cudnn/Conv_v8.cpp:919.)\n",
      "  return F.conv1d(input, weight, bias, self.stride,\n",
      "145it [00:03, 36.55it/s]/home/vincenzo/anaconda3/envs/vstk/lib/python3.12/site-packages/torch/nn/modules/conv.py:306: UserWarning: Plan failed with a cudnnException: CUDNN_BACKEND_EXECUTION_PLAN_DESCRIPTOR: cudnnFinalize Descriptor Failed cudnn_status: CUDNN_STATUS_NOT_SUPPORTED (Triggered internally at ../aten/src/ATen/native/cudnn/Conv_v8.cpp:919.)\n",
      "  return F.conv1d(input, weight, bias, self.stride,\n",
      "/home/vincenzo/anaconda3/envs/vstk/lib/python3.12/site-packages/torch/nn/modules/conv.py:306: UserWarning: Plan failed with a cudnnException: CUDNN_BACKEND_EXECUTION_PLAN_DESCRIPTOR: cudnnFinalize Descriptor Failed cudnn_status: CUDNN_STATUS_NOT_SUPPORTED (Triggered internally at ../aten/src/ATen/native/cudnn/Conv_v8.cpp:919.)\n",
      "  return F.conv1d(input, weight, bias, self.stride,\n",
      "/home/vincenzo/anaconda3/envs/vstk/lib/python3.12/site-packages/torch/nn/modules/conv.py:306: UserWarning: Plan failed with a cudnnException: CUDNN_BACKEND_EXECUTION_PLAN_DESCRIPTOR: cudnnFinalize Descriptor Failed cudnn_status: CUDNN_STATUS_NOT_SUPPORTED (Triggered internally at ../aten/src/ATen/native/cudnn/Conv_v8.cpp:919.)\n",
      "  return F.conv1d(input, weight, bias, self.stride,\n",
      "150it [00:03, 36.87it/s]/home/vincenzo/anaconda3/envs/vstk/lib/python3.12/site-packages/torch/nn/modules/conv.py:306: UserWarning: Plan failed with a cudnnException: CUDNN_BACKEND_EXECUTION_PLAN_DESCRIPTOR: cudnnFinalize Descriptor Failed cudnn_status: CUDNN_STATUS_NOT_SUPPORTED (Triggered internally at ../aten/src/ATen/native/cudnn/Conv_v8.cpp:919.)\n",
      "  return F.conv1d(input, weight, bias, self.stride,\n",
      "156it [00:04, 41.29it/s]/home/vincenzo/anaconda3/envs/vstk/lib/python3.12/site-packages/torch/nn/modules/conv.py:306: UserWarning: Plan failed with a cudnnException: CUDNN_BACKEND_EXECUTION_PLAN_DESCRIPTOR: cudnnFinalize Descriptor Failed cudnn_status: CUDNN_STATUS_NOT_SUPPORTED (Triggered internally at ../aten/src/ATen/native/cudnn/Conv_v8.cpp:919.)\n",
      "  return F.conv1d(input, weight, bias, self.stride,\n",
      "/home/vincenzo/anaconda3/envs/vstk/lib/python3.12/site-packages/torch/nn/modules/conv.py:306: UserWarning: Plan failed with a cudnnException: CUDNN_BACKEND_EXECUTION_PLAN_DESCRIPTOR: cudnnFinalize Descriptor Failed cudnn_status: CUDNN_STATUS_NOT_SUPPORTED (Triggered internally at ../aten/src/ATen/native/cudnn/Conv_v8.cpp:919.)\n",
      "  return F.conv1d(input, weight, bias, self.stride,\n",
      "/home/vincenzo/anaconda3/envs/vstk/lib/python3.12/site-packages/torch/nn/modules/conv.py:306: UserWarning: Plan failed with a cudnnException: CUDNN_BACKEND_EXECUTION_PLAN_DESCRIPTOR: cudnnFinalize Descriptor Failed cudnn_status: CUDNN_STATUS_NOT_SUPPORTED (Triggered internally at ../aten/src/ATen/native/cudnn/Conv_v8.cpp:919.)\n",
      "  return F.conv1d(input, weight, bias, self.stride,\n",
      "161it [00:04, 33.96it/s]/home/vincenzo/anaconda3/envs/vstk/lib/python3.12/site-packages/torch/nn/modules/conv.py:306: UserWarning: Plan failed with a cudnnException: CUDNN_BACKEND_EXECUTION_PLAN_DESCRIPTOR: cudnnFinalize Descriptor Failed cudnn_status: CUDNN_STATUS_NOT_SUPPORTED (Triggered internally at ../aten/src/ATen/native/cudnn/Conv_v8.cpp:919.)\n",
      "  return F.conv1d(input, weight, bias, self.stride,\n",
      "167it [00:04, 36.43it/s]/home/vincenzo/anaconda3/envs/vstk/lib/python3.12/site-packages/torch/nn/modules/conv.py:306: UserWarning: Plan failed with a cudnnException: CUDNN_BACKEND_EXECUTION_PLAN_DESCRIPTOR: cudnnFinalize Descriptor Failed cudnn_status: CUDNN_STATUS_NOT_SUPPORTED (Triggered internally at ../aten/src/ATen/native/cudnn/Conv_v8.cpp:919.)\n",
      "  return F.conv1d(input, weight, bias, self.stride,\n",
      "171it [00:04, 36.88it/s]/home/vincenzo/anaconda3/envs/vstk/lib/python3.12/site-packages/torch/nn/modules/conv.py:306: UserWarning: Plan failed with a cudnnException: CUDNN_BACKEND_EXECUTION_PLAN_DESCRIPTOR: cudnnFinalize Descriptor Failed cudnn_status: CUDNN_STATUS_NOT_SUPPORTED (Triggered internally at ../aten/src/ATen/native/cudnn/Conv_v8.cpp:919.)\n",
      "  return F.conv1d(input, weight, bias, self.stride,\n",
      "/home/vincenzo/anaconda3/envs/vstk/lib/python3.12/site-packages/torch/nn/modules/conv.py:306: UserWarning: Plan failed with a cudnnException: CUDNN_BACKEND_EXECUTION_PLAN_DESCRIPTOR: cudnnFinalize Descriptor Failed cudnn_status: CUDNN_STATUS_NOT_SUPPORTED (Triggered internally at ../aten/src/ATen/native/cudnn/Conv_v8.cpp:919.)\n",
      "  return F.conv1d(input, weight, bias, self.stride,\n",
      "176it [00:04, 39.37it/s]/home/vincenzo/anaconda3/envs/vstk/lib/python3.12/site-packages/torch/nn/modules/conv.py:306: UserWarning: Plan failed with a cudnnException: CUDNN_BACKEND_EXECUTION_PLAN_DESCRIPTOR: cudnnFinalize Descriptor Failed cudnn_status: CUDNN_STATUS_NOT_SUPPORTED (Triggered internally at ../aten/src/ATen/native/cudnn/Conv_v8.cpp:919.)\n",
      "  return F.conv1d(input, weight, bias, self.stride,\n",
      "/home/vincenzo/anaconda3/envs/vstk/lib/python3.12/site-packages/torch/nn/modules/conv.py:306: UserWarning: Plan failed with a cudnnException: CUDNN_BACKEND_EXECUTION_PLAN_DESCRIPTOR: cudnnFinalize Descriptor Failed cudnn_status: CUDNN_STATUS_NOT_SUPPORTED (Triggered internally at ../aten/src/ATen/native/cudnn/Conv_v8.cpp:919.)\n",
      "  return F.conv1d(input, weight, bias, self.stride,\n",
      "/home/vincenzo/anaconda3/envs/vstk/lib/python3.12/site-packages/torch/nn/modules/conv.py:306: UserWarning: Plan failed with a cudnnException: CUDNN_BACKEND_EXECUTION_PLAN_DESCRIPTOR: cudnnFinalize Descriptor Failed cudnn_status: CUDNN_STATUS_NOT_SUPPORTED (Triggered internally at ../aten/src/ATen/native/cudnn/Conv_v8.cpp:919.)\n",
      "  return F.conv1d(input, weight, bias, self.stride,\n",
      "188it [00:04, 46.00it/s]/home/vincenzo/anaconda3/envs/vstk/lib/python3.12/site-packages/torch/nn/modules/conv.py:306: UserWarning: Plan failed with a cudnnException: CUDNN_BACKEND_EXECUTION_PLAN_DESCRIPTOR: cudnnFinalize Descriptor Failed cudnn_status: CUDNN_STATUS_NOT_SUPPORTED (Triggered internally at ../aten/src/ATen/native/cudnn/Conv_v8.cpp:919.)\n",
      "  return F.conv1d(input, weight, bias, self.stride,\n",
      "193it [00:04, 46.45it/s]/home/vincenzo/anaconda3/envs/vstk/lib/python3.12/site-packages/torch/nn/modules/conv.py:306: UserWarning: Plan failed with a cudnnException: CUDNN_BACKEND_EXECUTION_PLAN_DESCRIPTOR: cudnnFinalize Descriptor Failed cudnn_status: CUDNN_STATUS_NOT_SUPPORTED (Triggered internally at ../aten/src/ATen/native/cudnn/Conv_v8.cpp:919.)\n",
      "  return F.conv1d(input, weight, bias, self.stride,\n",
      "/home/vincenzo/anaconda3/envs/vstk/lib/python3.12/site-packages/torch/nn/modules/conv.py:306: UserWarning: Plan failed with a cudnnException: CUDNN_BACKEND_EXECUTION_PLAN_DESCRIPTOR: cudnnFinalize Descriptor Failed cudnn_status: CUDNN_STATUS_NOT_SUPPORTED (Triggered internally at ../aten/src/ATen/native/cudnn/Conv_v8.cpp:919.)\n",
      "  return F.conv1d(input, weight, bias, self.stride,\n",
      "/home/vincenzo/anaconda3/envs/vstk/lib/python3.12/site-packages/torch/nn/modules/conv.py:306: UserWarning: Plan failed with a cudnnException: CUDNN_BACKEND_EXECUTION_PLAN_DESCRIPTOR: cudnnFinalize Descriptor Failed cudnn_status: CUDNN_STATUS_NOT_SUPPORTED (Triggered internally at ../aten/src/ATen/native/cudnn/Conv_v8.cpp:919.)\n",
      "  return F.conv1d(input, weight, bias, self.stride,\n",
      "198it [00:05, 44.35it/s]/home/vincenzo/anaconda3/envs/vstk/lib/python3.12/site-packages/torch/nn/modules/conv.py:306: UserWarning: Plan failed with a cudnnException: CUDNN_BACKEND_EXECUTION_PLAN_DESCRIPTOR: cudnnFinalize Descriptor Failed cudnn_status: CUDNN_STATUS_NOT_SUPPORTED (Triggered internally at ../aten/src/ATen/native/cudnn/Conv_v8.cpp:919.)\n",
      "  return F.conv1d(input, weight, bias, self.stride,\n",
      "/home/vincenzo/anaconda3/envs/vstk/lib/python3.12/site-packages/torch/nn/modules/conv.py:306: UserWarning: Plan failed with a cudnnException: CUDNN_BACKEND_EXECUTION_PLAN_DESCRIPTOR: cudnnFinalize Descriptor Failed cudnn_status: CUDNN_STATUS_NOT_SUPPORTED (Triggered internally at ../aten/src/ATen/native/cudnn/Conv_v8.cpp:919.)\n",
      "  return F.conv1d(input, weight, bias, self.stride,\n",
      "/home/vincenzo/anaconda3/envs/vstk/lib/python3.12/site-packages/torch/nn/modules/conv.py:306: UserWarning: Plan failed with a cudnnException: CUDNN_BACKEND_EXECUTION_PLAN_DESCRIPTOR: cudnnFinalize Descriptor Failed cudnn_status: CUDNN_STATUS_NOT_SUPPORTED (Triggered internally at ../aten/src/ATen/native/cudnn/Conv_v8.cpp:919.)\n",
      "  return F.conv1d(input, weight, bias, self.stride,\n",
      "203it [00:05, 31.87it/s]/home/vincenzo/anaconda3/envs/vstk/lib/python3.12/site-packages/torch/nn/modules/conv.py:306: UserWarning: Plan failed with a cudnnException: CUDNN_BACKEND_EXECUTION_PLAN_DESCRIPTOR: cudnnFinalize Descriptor Failed cudnn_status: CUDNN_STATUS_NOT_SUPPORTED (Triggered internally at ../aten/src/ATen/native/cudnn/Conv_v8.cpp:919.)\n",
      "  return F.conv1d(input, weight, bias, self.stride,\n",
      "/home/vincenzo/anaconda3/envs/vstk/lib/python3.12/site-packages/torch/nn/modules/conv.py:306: UserWarning: Plan failed with a cudnnException: CUDNN_BACKEND_EXECUTION_PLAN_DESCRIPTOR: cudnnFinalize Descriptor Failed cudnn_status: CUDNN_STATUS_NOT_SUPPORTED (Triggered internally at ../aten/src/ATen/native/cudnn/Conv_v8.cpp:919.)\n",
      "  return F.conv1d(input, weight, bias, self.stride,\n",
      "/home/vincenzo/anaconda3/envs/vstk/lib/python3.12/site-packages/torch/nn/modules/conv.py:306: UserWarning: Plan failed with a cudnnException: CUDNN_BACKEND_EXECUTION_PLAN_DESCRIPTOR: cudnnFinalize Descriptor Failed cudnn_status: CUDNN_STATUS_NOT_SUPPORTED (Triggered internally at ../aten/src/ATen/native/cudnn/Conv_v8.cpp:919.)\n",
      "  return F.conv1d(input, weight, bias, self.stride,\n",
      "210it [00:05, 37.34it/s]/home/vincenzo/anaconda3/envs/vstk/lib/python3.12/site-packages/torch/nn/modules/conv.py:306: UserWarning: Plan failed with a cudnnException: CUDNN_BACKEND_EXECUTION_PLAN_DESCRIPTOR: cudnnFinalize Descriptor Failed cudnn_status: CUDNN_STATUS_NOT_SUPPORTED (Triggered internally at ../aten/src/ATen/native/cudnn/Conv_v8.cpp:919.)\n",
      "  return F.conv1d(input, weight, bias, self.stride,\n",
      "/home/vincenzo/anaconda3/envs/vstk/lib/python3.12/site-packages/torch/nn/modules/conv.py:306: UserWarning: Plan failed with a cudnnException: CUDNN_BACKEND_EXECUTION_PLAN_DESCRIPTOR: cudnnFinalize Descriptor Failed cudnn_status: CUDNN_STATUS_NOT_SUPPORTED (Triggered internally at ../aten/src/ATen/native/cudnn/Conv_v8.cpp:919.)\n",
      "  return F.conv1d(input, weight, bias, self.stride,\n",
      "/home/vincenzo/anaconda3/envs/vstk/lib/python3.12/site-packages/torch/nn/modules/conv.py:306: UserWarning: Plan failed with a cudnnException: CUDNN_BACKEND_EXECUTION_PLAN_DESCRIPTOR: cudnnFinalize Descriptor Failed cudnn_status: CUDNN_STATUS_NOT_SUPPORTED (Triggered internally at ../aten/src/ATen/native/cudnn/Conv_v8.cpp:919.)\n",
      "  return F.conv1d(input, weight, bias, self.stride,\n",
      "215it [00:05, 34.74it/s]/home/vincenzo/anaconda3/envs/vstk/lib/python3.12/site-packages/torch/nn/modules/conv.py:306: UserWarning: Plan failed with a cudnnException: CUDNN_BACKEND_EXECUTION_PLAN_DESCRIPTOR: cudnnFinalize Descriptor Failed cudnn_status: CUDNN_STATUS_NOT_SUPPORTED (Triggered internally at ../aten/src/ATen/native/cudnn/Conv_v8.cpp:919.)\n",
      "  return F.conv1d(input, weight, bias, self.stride,\n",
      "219it [00:05, 32.74it/s]/home/vincenzo/anaconda3/envs/vstk/lib/python3.12/site-packages/torch/nn/modules/conv.py:306: UserWarning: Plan failed with a cudnnException: CUDNN_BACKEND_EXECUTION_PLAN_DESCRIPTOR: cudnnFinalize Descriptor Failed cudnn_status: CUDNN_STATUS_NOT_SUPPORTED (Triggered internally at ../aten/src/ATen/native/cudnn/Conv_v8.cpp:919.)\n",
      "  return F.conv1d(input, weight, bias, self.stride,\n",
      "/home/vincenzo/anaconda3/envs/vstk/lib/python3.12/site-packages/torch/nn/modules/conv.py:306: UserWarning: Plan failed with a cudnnException: CUDNN_BACKEND_EXECUTION_PLAN_DESCRIPTOR: cudnnFinalize Descriptor Failed cudnn_status: CUDNN_STATUS_NOT_SUPPORTED (Triggered internally at ../aten/src/ATen/native/cudnn/Conv_v8.cpp:919.)\n",
      "  return F.conv1d(input, weight, bias, self.stride,\n",
      "/home/vincenzo/anaconda3/envs/vstk/lib/python3.12/site-packages/torch/nn/modules/conv.py:306: UserWarning: Plan failed with a cudnnException: CUDNN_BACKEND_EXECUTION_PLAN_DESCRIPTOR: cudnnFinalize Descriptor Failed cudnn_status: CUDNN_STATUS_NOT_SUPPORTED (Triggered internally at ../aten/src/ATen/native/cudnn/Conv_v8.cpp:919.)\n",
      "  return F.conv1d(input, weight, bias, self.stride,\n",
      "/home/vincenzo/anaconda3/envs/vstk/lib/python3.12/site-packages/torch/nn/modules/conv.py:306: UserWarning: Plan failed with a cudnnException: CUDNN_BACKEND_EXECUTION_PLAN_DESCRIPTOR: cudnnFinalize Descriptor Failed cudnn_status: CUDNN_STATUS_NOT_SUPPORTED (Triggered internally at ../aten/src/ATen/native/cudnn/Conv_v8.cpp:919.)\n",
      "  return F.conv1d(input, weight, bias, self.stride,\n",
      "224it [00:05, 35.24it/s]/home/vincenzo/anaconda3/envs/vstk/lib/python3.12/site-packages/torch/nn/modules/conv.py:306: UserWarning: Plan failed with a cudnnException: CUDNN_BACKEND_EXECUTION_PLAN_DESCRIPTOR: cudnnFinalize Descriptor Failed cudnn_status: CUDNN_STATUS_NOT_SUPPORTED (Triggered internally at ../aten/src/ATen/native/cudnn/Conv_v8.cpp:919.)\n",
      "  return F.conv1d(input, weight, bias, self.stride,\n",
      "229it [00:06, 38.44it/s]/home/vincenzo/anaconda3/envs/vstk/lib/python3.12/site-packages/torch/nn/modules/conv.py:306: UserWarning: Plan failed with a cudnnException: CUDNN_BACKEND_EXECUTION_PLAN_DESCRIPTOR: cudnnFinalize Descriptor Failed cudnn_status: CUDNN_STATUS_NOT_SUPPORTED (Triggered internally at ../aten/src/ATen/native/cudnn/Conv_v8.cpp:919.)\n",
      "  return F.conv1d(input, weight, bias, self.stride,\n",
      "/home/vincenzo/anaconda3/envs/vstk/lib/python3.12/site-packages/torch/nn/modules/conv.py:306: UserWarning: Plan failed with a cudnnException: CUDNN_BACKEND_EXECUTION_PLAN_DESCRIPTOR: cudnnFinalize Descriptor Failed cudnn_status: CUDNN_STATUS_NOT_SUPPORTED (Triggered internally at ../aten/src/ATen/native/cudnn/Conv_v8.cpp:919.)\n",
      "  return F.conv1d(input, weight, bias, self.stride,\n",
      "235it [00:06, 28.35it/s]/home/vincenzo/anaconda3/envs/vstk/lib/python3.12/site-packages/torch/nn/modules/conv.py:306: UserWarning: Plan failed with a cudnnException: CUDNN_BACKEND_EXECUTION_PLAN_DESCRIPTOR: cudnnFinalize Descriptor Failed cudnn_status: CUDNN_STATUS_NOT_SUPPORTED (Triggered internally at ../aten/src/ATen/native/cudnn/Conv_v8.cpp:919.)\n",
      "  return F.conv1d(input, weight, bias, self.stride,\n",
      "239it [00:06, 25.30it/s]/home/vincenzo/anaconda3/envs/vstk/lib/python3.12/site-packages/torch/nn/modules/conv.py:306: UserWarning: Plan failed with a cudnnException: CUDNN_BACKEND_EXECUTION_PLAN_DESCRIPTOR: cudnnFinalize Descriptor Failed cudnn_status: CUDNN_STATUS_NOT_SUPPORTED (Triggered internally at ../aten/src/ATen/native/cudnn/Conv_v8.cpp:919.)\n",
      "  return F.conv1d(input, weight, bias, self.stride,\n",
      "242it [00:06, 17.94it/s]/home/vincenzo/anaconda3/envs/vstk/lib/python3.12/site-packages/torch/nn/modules/conv.py:306: UserWarning: Plan failed with a cudnnException: CUDNN_BACKEND_EXECUTION_PLAN_DESCRIPTOR: cudnnFinalize Descriptor Failed cudnn_status: CUDNN_STATUS_NOT_SUPPORTED (Triggered internally at ../aten/src/ATen/native/cudnn/Conv_v8.cpp:919.)\n",
      "  return F.conv1d(input, weight, bias, self.stride,\n",
      "245it [00:07, 19.07it/s]/home/vincenzo/anaconda3/envs/vstk/lib/python3.12/site-packages/torch/nn/modules/conv.py:306: UserWarning: Plan failed with a cudnnException: CUDNN_BACKEND_EXECUTION_PLAN_DESCRIPTOR: cudnnFinalize Descriptor Failed cudnn_status: CUDNN_STATUS_NOT_SUPPORTED (Triggered internally at ../aten/src/ATen/native/cudnn/Conv_v8.cpp:919.)\n",
      "  return F.conv1d(input, weight, bias, self.stride,\n",
      "250it [00:07, 21.29it/s]/home/vincenzo/anaconda3/envs/vstk/lib/python3.12/site-packages/torch/nn/modules/conv.py:306: UserWarning: Plan failed with a cudnnException: CUDNN_BACKEND_EXECUTION_PLAN_DESCRIPTOR: cudnnFinalize Descriptor Failed cudnn_status: CUDNN_STATUS_NOT_SUPPORTED (Triggered internally at ../aten/src/ATen/native/cudnn/Conv_v8.cpp:919.)\n",
      "  return F.conv1d(input, weight, bias, self.stride,\n",
      "254it [00:07, 23.48it/s]/home/vincenzo/anaconda3/envs/vstk/lib/python3.12/site-packages/torch/nn/modules/conv.py:306: UserWarning: Plan failed with a cudnnException: CUDNN_BACKEND_EXECUTION_PLAN_DESCRIPTOR: cudnnFinalize Descriptor Failed cudnn_status: CUDNN_STATUS_NOT_SUPPORTED (Triggered internally at ../aten/src/ATen/native/cudnn/Conv_v8.cpp:919.)\n",
      "  return F.conv1d(input, weight, bias, self.stride,\n",
      "/home/vincenzo/anaconda3/envs/vstk/lib/python3.12/site-packages/torch/nn/modules/conv.py:306: UserWarning: Plan failed with a cudnnException: CUDNN_BACKEND_EXECUTION_PLAN_DESCRIPTOR: cudnnFinalize Descriptor Failed cudnn_status: CUDNN_STATUS_NOT_SUPPORTED (Triggered internally at ../aten/src/ATen/native/cudnn/Conv_v8.cpp:919.)\n",
      "  return F.conv1d(input, weight, bias, self.stride,\n",
      "259it [00:07, 27.97it/s]/home/vincenzo/anaconda3/envs/vstk/lib/python3.12/site-packages/torch/nn/modules/conv.py:306: UserWarning: Plan failed with a cudnnException: CUDNN_BACKEND_EXECUTION_PLAN_DESCRIPTOR: cudnnFinalize Descriptor Failed cudnn_status: CUDNN_STATUS_NOT_SUPPORTED (Triggered internally at ../aten/src/ATen/native/cudnn/Conv_v8.cpp:919.)\n",
      "  return F.conv1d(input, weight, bias, self.stride,\n",
      "/home/vincenzo/anaconda3/envs/vstk/lib/python3.12/site-packages/torch/nn/modules/conv.py:306: UserWarning: Plan failed with a cudnnException: CUDNN_BACKEND_EXECUTION_PLAN_DESCRIPTOR: cudnnFinalize Descriptor Failed cudnn_status: CUDNN_STATUS_NOT_SUPPORTED (Triggered internally at ../aten/src/ATen/native/cudnn/Conv_v8.cpp:919.)\n",
      "  return F.conv1d(input, weight, bias, self.stride,\n",
      "/home/vincenzo/anaconda3/envs/vstk/lib/python3.12/site-packages/torch/nn/modules/conv.py:306: UserWarning: Plan failed with a cudnnException: CUDNN_BACKEND_EXECUTION_PLAN_DESCRIPTOR: cudnnFinalize Descriptor Failed cudnn_status: CUDNN_STATUS_NOT_SUPPORTED (Triggered internally at ../aten/src/ATen/native/cudnn/Conv_v8.cpp:919.)\n",
      "  return F.conv1d(input, weight, bias, self.stride,\n",
      "264it [00:07, 31.67it/s]/home/vincenzo/anaconda3/envs/vstk/lib/python3.12/site-packages/torch/nn/modules/conv.py:306: UserWarning: Plan failed with a cudnnException: CUDNN_BACKEND_EXECUTION_PLAN_DESCRIPTOR: cudnnFinalize Descriptor Failed cudnn_status: CUDNN_STATUS_NOT_SUPPORTED (Triggered internally at ../aten/src/ATen/native/cudnn/Conv_v8.cpp:919.)\n",
      "  return F.conv1d(input, weight, bias, self.stride,\n",
      "274it [00:07, 36.96it/s]/home/vincenzo/anaconda3/envs/vstk/lib/python3.12/site-packages/torch/nn/modules/conv.py:306: UserWarning: Plan failed with a cudnnException: CUDNN_BACKEND_EXECUTION_PLAN_DESCRIPTOR: cudnnFinalize Descriptor Failed cudnn_status: CUDNN_STATUS_NOT_SUPPORTED (Triggered internally at ../aten/src/ATen/native/cudnn/Conv_v8.cpp:919.)\n",
      "  return F.conv1d(input, weight, bias, self.stride,\n",
      "/home/vincenzo/anaconda3/envs/vstk/lib/python3.12/site-packages/torch/nn/modules/conv.py:306: UserWarning: Plan failed with a cudnnException: CUDNN_BACKEND_EXECUTION_PLAN_DESCRIPTOR: cudnnFinalize Descriptor Failed cudnn_status: CUDNN_STATUS_NOT_SUPPORTED (Triggered internally at ../aten/src/ATen/native/cudnn/Conv_v8.cpp:919.)\n",
      "  return F.conv1d(input, weight, bias, self.stride,\n",
      "/home/vincenzo/anaconda3/envs/vstk/lib/python3.12/site-packages/torch/nn/modules/conv.py:306: UserWarning: Plan failed with a cudnnException: CUDNN_BACKEND_EXECUTION_PLAN_DESCRIPTOR: cudnnFinalize Descriptor Failed cudnn_status: CUDNN_STATUS_NOT_SUPPORTED (Triggered internally at ../aten/src/ATen/native/cudnn/Conv_v8.cpp:919.)\n",
      "  return F.conv1d(input, weight, bias, self.stride,\n",
      "279it [00:07, 35.94it/s]/home/vincenzo/anaconda3/envs/vstk/lib/python3.12/site-packages/torch/nn/modules/conv.py:306: UserWarning: Plan failed with a cudnnException: CUDNN_BACKEND_EXECUTION_PLAN_DESCRIPTOR: cudnnFinalize Descriptor Failed cudnn_status: CUDNN_STATUS_NOT_SUPPORTED (Triggered internally at ../aten/src/ATen/native/cudnn/Conv_v8.cpp:919.)\n",
      "  return F.conv1d(input, weight, bias, self.stride,\n",
      "/home/vincenzo/anaconda3/envs/vstk/lib/python3.12/site-packages/torch/nn/modules/conv.py:306: UserWarning: Plan failed with a cudnnException: CUDNN_BACKEND_EXECUTION_PLAN_DESCRIPTOR: cudnnFinalize Descriptor Failed cudnn_status: CUDNN_STATUS_NOT_SUPPORTED (Triggered internally at ../aten/src/ATen/native/cudnn/Conv_v8.cpp:919.)\n",
      "  return F.conv1d(input, weight, bias, self.stride,\n",
      "285it [00:08, 40.12it/s]/home/vincenzo/anaconda3/envs/vstk/lib/python3.12/site-packages/torch/nn/modules/conv.py:306: UserWarning: Plan failed with a cudnnException: CUDNN_BACKEND_EXECUTION_PLAN_DESCRIPTOR: cudnnFinalize Descriptor Failed cudnn_status: CUDNN_STATUS_NOT_SUPPORTED (Triggered internally at ../aten/src/ATen/native/cudnn/Conv_v8.cpp:919.)\n",
      "  return F.conv1d(input, weight, bias, self.stride,\n",
      "290it [00:08, 32.14it/s]/home/vincenzo/anaconda3/envs/vstk/lib/python3.12/site-packages/torch/nn/modules/conv.py:306: UserWarning: Plan failed with a cudnnException: CUDNN_BACKEND_EXECUTION_PLAN_DESCRIPTOR: cudnnFinalize Descriptor Failed cudnn_status: CUDNN_STATUS_NOT_SUPPORTED (Triggered internally at ../aten/src/ATen/native/cudnn/Conv_v8.cpp:919.)\n",
      "  return F.conv1d(input, weight, bias, self.stride,\n",
      "/home/vincenzo/anaconda3/envs/vstk/lib/python3.12/site-packages/torch/nn/modules/conv.py:306: UserWarning: Plan failed with a cudnnException: CUDNN_BACKEND_EXECUTION_PLAN_DESCRIPTOR: cudnnFinalize Descriptor Failed cudnn_status: CUDNN_STATUS_NOT_SUPPORTED (Triggered internally at ../aten/src/ATen/native/cudnn/Conv_v8.cpp:919.)\n",
      "  return F.conv1d(input, weight, bias, self.stride,\n",
      "/home/vincenzo/anaconda3/envs/vstk/lib/python3.12/site-packages/torch/nn/modules/conv.py:306: UserWarning: Plan failed with a cudnnException: CUDNN_BACKEND_EXECUTION_PLAN_DESCRIPTOR: cudnnFinalize Descriptor Failed cudnn_status: CUDNN_STATUS_NOT_SUPPORTED (Triggered internally at ../aten/src/ATen/native/cudnn/Conv_v8.cpp:919.)\n",
      "  return F.conv1d(input, weight, bias, self.stride,\n",
      "295it [00:08, 35.23it/s]/home/vincenzo/anaconda3/envs/vstk/lib/python3.12/site-packages/torch/nn/modules/conv.py:306: UserWarning: Plan failed with a cudnnException: CUDNN_BACKEND_EXECUTION_PLAN_DESCRIPTOR: cudnnFinalize Descriptor Failed cudnn_status: CUDNN_STATUS_NOT_SUPPORTED (Triggered internally at ../aten/src/ATen/native/cudnn/Conv_v8.cpp:919.)\n",
      "  return F.conv1d(input, weight, bias, self.stride,\n",
      "300it [00:08, 36.26it/s]/home/vincenzo/anaconda3/envs/vstk/lib/python3.12/site-packages/torch/nn/modules/conv.py:306: UserWarning: Plan failed with a cudnnException: CUDNN_BACKEND_EXECUTION_PLAN_DESCRIPTOR: cudnnFinalize Descriptor Failed cudnn_status: CUDNN_STATUS_NOT_SUPPORTED (Triggered internally at ../aten/src/ATen/native/cudnn/Conv_v8.cpp:919.)\n",
      "  return F.conv1d(input, weight, bias, self.stride,\n",
      "/home/vincenzo/anaconda3/envs/vstk/lib/python3.12/site-packages/torch/nn/modules/conv.py:306: UserWarning: Plan failed with a cudnnException: CUDNN_BACKEND_EXECUTION_PLAN_DESCRIPTOR: cudnnFinalize Descriptor Failed cudnn_status: CUDNN_STATUS_NOT_SUPPORTED (Triggered internally at ../aten/src/ATen/native/cudnn/Conv_v8.cpp:919.)\n",
      "  return F.conv1d(input, weight, bias, self.stride,\n",
      "/home/vincenzo/anaconda3/envs/vstk/lib/python3.12/site-packages/torch/nn/modules/conv.py:306: UserWarning: Plan failed with a cudnnException: CUDNN_BACKEND_EXECUTION_PLAN_DESCRIPTOR: cudnnFinalize Descriptor Failed cudnn_status: CUDNN_STATUS_NOT_SUPPORTED (Triggered internally at ../aten/src/ATen/native/cudnn/Conv_v8.cpp:919.)\n",
      "  return F.conv1d(input, weight, bias, self.stride,\n",
      "310it [00:08, 41.12it/s]/home/vincenzo/anaconda3/envs/vstk/lib/python3.12/site-packages/torch/nn/modules/conv.py:306: UserWarning: Plan failed with a cudnnException: CUDNN_BACKEND_EXECUTION_PLAN_DESCRIPTOR: cudnnFinalize Descriptor Failed cudnn_status: CUDNN_STATUS_NOT_SUPPORTED (Triggered internally at ../aten/src/ATen/native/cudnn/Conv_v8.cpp:919.)\n",
      "  return F.conv1d(input, weight, bias, self.stride,\n",
      "316it [00:08, 44.86it/s]/home/vincenzo/anaconda3/envs/vstk/lib/python3.12/site-packages/torch/nn/modules/conv.py:306: UserWarning: Plan failed with a cudnnException: CUDNN_BACKEND_EXECUTION_PLAN_DESCRIPTOR: cudnnFinalize Descriptor Failed cudnn_status: CUDNN_STATUS_NOT_SUPPORTED (Triggered internally at ../aten/src/ATen/native/cudnn/Conv_v8.cpp:919.)\n",
      "  return F.conv1d(input, weight, bias, self.stride,\n",
      "321it [00:08, 44.01it/s]/home/vincenzo/anaconda3/envs/vstk/lib/python3.12/site-packages/torch/nn/modules/conv.py:306: UserWarning: Plan failed with a cudnnException: CUDNN_BACKEND_EXECUTION_PLAN_DESCRIPTOR: cudnnFinalize Descriptor Failed cudnn_status: CUDNN_STATUS_NOT_SUPPORTED (Triggered internally at ../aten/src/ATen/native/cudnn/Conv_v8.cpp:919.)\n",
      "  return F.conv1d(input, weight, bias, self.stride,\n",
      "/home/vincenzo/anaconda3/envs/vstk/lib/python3.12/site-packages/torch/nn/modules/conv.py:306: UserWarning: Plan failed with a cudnnException: CUDNN_BACKEND_EXECUTION_PLAN_DESCRIPTOR: cudnnFinalize Descriptor Failed cudnn_status: CUDNN_STATUS_NOT_SUPPORTED (Triggered internally at ../aten/src/ATen/native/cudnn/Conv_v8.cpp:919.)\n",
      "  return F.conv1d(input, weight, bias, self.stride,\n",
      "/home/vincenzo/anaconda3/envs/vstk/lib/python3.12/site-packages/torch/nn/modules/conv.py:306: UserWarning: Plan failed with a cudnnException: CUDNN_BACKEND_EXECUTION_PLAN_DESCRIPTOR: cudnnFinalize Descriptor Failed cudnn_status: CUDNN_STATUS_NOT_SUPPORTED (Triggered internally at ../aten/src/ATen/native/cudnn/Conv_v8.cpp:919.)\n",
      "  return F.conv1d(input, weight, bias, self.stride,\n",
      "326it [00:09, 25.09it/s]/home/vincenzo/anaconda3/envs/vstk/lib/python3.12/site-packages/torch/nn/modules/conv.py:306: UserWarning: Plan failed with a cudnnException: CUDNN_BACKEND_EXECUTION_PLAN_DESCRIPTOR: cudnnFinalize Descriptor Failed cudnn_status: CUDNN_STATUS_NOT_SUPPORTED (Triggered internally at ../aten/src/ATen/native/cudnn/Conv_v8.cpp:919.)\n",
      "  return F.conv1d(input, weight, bias, self.stride,\n",
      "/home/vincenzo/anaconda3/envs/vstk/lib/python3.12/site-packages/torch/nn/modules/conv.py:306: UserWarning: Plan failed with a cudnnException: CUDNN_BACKEND_EXECUTION_PLAN_DESCRIPTOR: cudnnFinalize Descriptor Failed cudnn_status: CUDNN_STATUS_NOT_SUPPORTED (Triggered internally at ../aten/src/ATen/native/cudnn/Conv_v8.cpp:919.)\n",
      "  return F.conv1d(input, weight, bias, self.stride,\n",
      "/home/vincenzo/anaconda3/envs/vstk/lib/python3.12/site-packages/torch/nn/modules/conv.py:306: UserWarning: Plan failed with a cudnnException: CUDNN_BACKEND_EXECUTION_PLAN_DESCRIPTOR: cudnnFinalize Descriptor Failed cudnn_status: CUDNN_STATUS_NOT_SUPPORTED (Triggered internally at ../aten/src/ATen/native/cudnn/Conv_v8.cpp:919.)\n",
      "  return F.conv1d(input, weight, bias, self.stride,\n",
      "331it [00:09, 28.45it/s]/home/vincenzo/anaconda3/envs/vstk/lib/python3.12/site-packages/torch/nn/modules/conv.py:306: UserWarning: Plan failed with a cudnnException: CUDNN_BACKEND_EXECUTION_PLAN_DESCRIPTOR: cudnnFinalize Descriptor Failed cudnn_status: CUDNN_STATUS_NOT_SUPPORTED (Triggered internally at ../aten/src/ATen/native/cudnn/Conv_v8.cpp:919.)\n",
      "  return F.conv1d(input, weight, bias, self.stride,\n",
      "/home/vincenzo/anaconda3/envs/vstk/lib/python3.12/site-packages/torch/nn/modules/conv.py:306: UserWarning: Plan failed with a cudnnException: CUDNN_BACKEND_EXECUTION_PLAN_DESCRIPTOR: cudnnFinalize Descriptor Failed cudnn_status: CUDNN_STATUS_NOT_SUPPORTED (Triggered internally at ../aten/src/ATen/native/cudnn/Conv_v8.cpp:919.)\n",
      "  return F.conv1d(input, weight, bias, self.stride,\n",
      "/home/vincenzo/anaconda3/envs/vstk/lib/python3.12/site-packages/torch/nn/modules/conv.py:306: UserWarning: Plan failed with a cudnnException: CUDNN_BACKEND_EXECUTION_PLAN_DESCRIPTOR: cudnnFinalize Descriptor Failed cudnn_status: CUDNN_STATUS_NOT_SUPPORTED (Triggered internally at ../aten/src/ATen/native/cudnn/Conv_v8.cpp:919.)\n",
      "  return F.conv1d(input, weight, bias, self.stride,\n",
      "337it [00:09, 32.34it/s]/home/vincenzo/anaconda3/envs/vstk/lib/python3.12/site-packages/torch/nn/modules/conv.py:306: UserWarning: Plan failed with a cudnnException: CUDNN_BACKEND_EXECUTION_PLAN_DESCRIPTOR: cudnnFinalize Descriptor Failed cudnn_status: CUDNN_STATUS_NOT_SUPPORTED (Triggered internally at ../aten/src/ATen/native/cudnn/Conv_v8.cpp:919.)\n",
      "  return F.conv1d(input, weight, bias, self.stride,\n",
      "/home/vincenzo/anaconda3/envs/vstk/lib/python3.12/site-packages/torch/nn/modules/conv.py:306: UserWarning: Plan failed with a cudnnException: CUDNN_BACKEND_EXECUTION_PLAN_DESCRIPTOR: cudnnFinalize Descriptor Failed cudnn_status: CUDNN_STATUS_NOT_SUPPORTED (Triggered internally at ../aten/src/ATen/native/cudnn/Conv_v8.cpp:919.)\n",
      "  return F.conv1d(input, weight, bias, self.stride,\n",
      "341it [00:09, 23.66it/s]/home/vincenzo/anaconda3/envs/vstk/lib/python3.12/site-packages/torch/nn/modules/conv.py:306: UserWarning: Plan failed with a cudnnException: CUDNN_BACKEND_EXECUTION_PLAN_DESCRIPTOR: cudnnFinalize Descriptor Failed cudnn_status: CUDNN_STATUS_NOT_SUPPORTED (Triggered internally at ../aten/src/ATen/native/cudnn/Conv_v8.cpp:919.)\n",
      "  return F.conv1d(input, weight, bias, self.stride,\n",
      "350it [00:10, 25.58it/s]/home/vincenzo/anaconda3/envs/vstk/lib/python3.12/site-packages/torch/nn/modules/conv.py:306: UserWarning: Plan failed with a cudnnException: CUDNN_BACKEND_EXECUTION_PLAN_DESCRIPTOR: cudnnFinalize Descriptor Failed cudnn_status: CUDNN_STATUS_NOT_SUPPORTED (Triggered internally at ../aten/src/ATen/native/cudnn/Conv_v8.cpp:919.)\n",
      "  return F.conv1d(input, weight, bias, self.stride,\n",
      "355it [00:10, 29.81it/s]/home/vincenzo/anaconda3/envs/vstk/lib/python3.12/site-packages/torch/nn/modules/conv.py:306: UserWarning: Plan failed with a cudnnException: CUDNN_BACKEND_EXECUTION_PLAN_DESCRIPTOR: cudnnFinalize Descriptor Failed cudnn_status: CUDNN_STATUS_NOT_SUPPORTED (Triggered internally at ../aten/src/ATen/native/cudnn/Conv_v8.cpp:919.)\n",
      "  return F.conv1d(input, weight, bias, self.stride,\n",
      "/home/vincenzo/anaconda3/envs/vstk/lib/python3.12/site-packages/torch/nn/modules/conv.py:306: UserWarning: Plan failed with a cudnnException: CUDNN_BACKEND_EXECUTION_PLAN_DESCRIPTOR: cudnnFinalize Descriptor Failed cudnn_status: CUDNN_STATUS_NOT_SUPPORTED (Triggered internally at ../aten/src/ATen/native/cudnn/Conv_v8.cpp:919.)\n",
      "  return F.conv1d(input, weight, bias, self.stride,\n",
      "/home/vincenzo/anaconda3/envs/vstk/lib/python3.12/site-packages/torch/nn/modules/conv.py:306: UserWarning: Plan failed with a cudnnException: CUDNN_BACKEND_EXECUTION_PLAN_DESCRIPTOR: cudnnFinalize Descriptor Failed cudnn_status: CUDNN_STATUS_NOT_SUPPORTED (Triggered internally at ../aten/src/ATen/native/cudnn/Conv_v8.cpp:919.)\n",
      "  return F.conv1d(input, weight, bias, self.stride,\n",
      "359it [00:10, 31.25it/s]/home/vincenzo/anaconda3/envs/vstk/lib/python3.12/site-packages/torch/nn/modules/conv.py:306: UserWarning: Plan failed with a cudnnException: CUDNN_BACKEND_EXECUTION_PLAN_DESCRIPTOR: cudnnFinalize Descriptor Failed cudnn_status: CUDNN_STATUS_NOT_SUPPORTED (Triggered internally at ../aten/src/ATen/native/cudnn/Conv_v8.cpp:919.)\n",
      "  return F.conv1d(input, weight, bias, self.stride,\n",
      "363it [00:10, 31.11it/s]/home/vincenzo/anaconda3/envs/vstk/lib/python3.12/site-packages/torch/nn/modules/conv.py:306: UserWarning: Plan failed with a cudnnException: CUDNN_BACKEND_EXECUTION_PLAN_DESCRIPTOR: cudnnFinalize Descriptor Failed cudnn_status: CUDNN_STATUS_NOT_SUPPORTED (Triggered internally at ../aten/src/ATen/native/cudnn/Conv_v8.cpp:919.)\n",
      "  return F.conv1d(input, weight, bias, self.stride,\n",
      "/home/vincenzo/anaconda3/envs/vstk/lib/python3.12/site-packages/torch/nn/modules/conv.py:306: UserWarning: Plan failed with a cudnnException: CUDNN_BACKEND_EXECUTION_PLAN_DESCRIPTOR: cudnnFinalize Descriptor Failed cudnn_status: CUDNN_STATUS_NOT_SUPPORTED (Triggered internally at ../aten/src/ATen/native/cudnn/Conv_v8.cpp:919.)\n",
      "  return F.conv1d(input, weight, bias, self.stride,\n",
      "368it [00:10, 35.26it/s]/home/vincenzo/anaconda3/envs/vstk/lib/python3.12/site-packages/torch/nn/modules/conv.py:306: UserWarning: Plan failed with a cudnnException: CUDNN_BACKEND_EXECUTION_PLAN_DESCRIPTOR: cudnnFinalize Descriptor Failed cudnn_status: CUDNN_STATUS_NOT_SUPPORTED (Triggered internally at ../aten/src/ATen/native/cudnn/Conv_v8.cpp:919.)\n",
      "  return F.conv1d(input, weight, bias, self.stride,\n",
      "/home/vincenzo/anaconda3/envs/vstk/lib/python3.12/site-packages/torch/nn/modules/conv.py:306: UserWarning: Plan failed with a cudnnException: CUDNN_BACKEND_EXECUTION_PLAN_DESCRIPTOR: cudnnFinalize Descriptor Failed cudnn_status: CUDNN_STATUS_NOT_SUPPORTED (Triggered internally at ../aten/src/ATen/native/cudnn/Conv_v8.cpp:919.)\n",
      "  return F.conv1d(input, weight, bias, self.stride,\n",
      "374it [00:10, 40.84it/s]/home/vincenzo/anaconda3/envs/vstk/lib/python3.12/site-packages/torch/nn/modules/conv.py:306: UserWarning: Plan failed with a cudnnException: CUDNN_BACKEND_EXECUTION_PLAN_DESCRIPTOR: cudnnFinalize Descriptor Failed cudnn_status: CUDNN_STATUS_NOT_SUPPORTED (Triggered internally at ../aten/src/ATen/native/cudnn/Conv_v8.cpp:919.)\n",
      "  return F.conv1d(input, weight, bias, self.stride,\n",
      "/home/vincenzo/anaconda3/envs/vstk/lib/python3.12/site-packages/torch/nn/modules/conv.py:306: UserWarning: Plan failed with a cudnnException: CUDNN_BACKEND_EXECUTION_PLAN_DESCRIPTOR: cudnnFinalize Descriptor Failed cudnn_status: CUDNN_STATUS_NOT_SUPPORTED (Triggered internally at ../aten/src/ATen/native/cudnn/Conv_v8.cpp:919.)\n",
      "  return F.conv1d(input, weight, bias, self.stride,\n",
      "380it [00:10, 45.12it/s]/home/vincenzo/anaconda3/envs/vstk/lib/python3.12/site-packages/torch/nn/modules/conv.py:306: UserWarning: Plan failed with a cudnnException: CUDNN_BACKEND_EXECUTION_PLAN_DESCRIPTOR: cudnnFinalize Descriptor Failed cudnn_status: CUDNN_STATUS_NOT_SUPPORTED (Triggered internally at ../aten/src/ATen/native/cudnn/Conv_v8.cpp:919.)\n",
      "  return F.conv1d(input, weight, bias, self.stride,\n",
      "/home/vincenzo/anaconda3/envs/vstk/lib/python3.12/site-packages/torch/nn/modules/conv.py:306: UserWarning: Plan failed with a cudnnException: CUDNN_BACKEND_EXECUTION_PLAN_DESCRIPTOR: cudnnFinalize Descriptor Failed cudnn_status: CUDNN_STATUS_NOT_SUPPORTED (Triggered internally at ../aten/src/ATen/native/cudnn/Conv_v8.cpp:919.)\n",
      "  return F.conv1d(input, weight, bias, self.stride,\n",
      "/home/vincenzo/anaconda3/envs/vstk/lib/python3.12/site-packages/torch/nn/modules/conv.py:306: UserWarning: Plan failed with a cudnnException: CUDNN_BACKEND_EXECUTION_PLAN_DESCRIPTOR: cudnnFinalize Descriptor Failed cudnn_status: CUDNN_STATUS_NOT_SUPPORTED (Triggered internally at ../aten/src/ATen/native/cudnn/Conv_v8.cpp:919.)\n",
      "  return F.conv1d(input, weight, bias, self.stride,\n",
      "390it [00:11, 42.34it/s]/home/vincenzo/anaconda3/envs/vstk/lib/python3.12/site-packages/torch/nn/modules/conv.py:306: UserWarning: Plan failed with a cudnnException: CUDNN_BACKEND_EXECUTION_PLAN_DESCRIPTOR: cudnnFinalize Descriptor Failed cudnn_status: CUDNN_STATUS_NOT_SUPPORTED (Triggered internally at ../aten/src/ATen/native/cudnn/Conv_v8.cpp:919.)\n",
      "  return F.conv1d(input, weight, bias, self.stride,\n",
      "395it [00:11, 35.88it/s]/home/vincenzo/anaconda3/envs/vstk/lib/python3.12/site-packages/torch/nn/modules/conv.py:306: UserWarning: Plan failed with a cudnnException: CUDNN_BACKEND_EXECUTION_PLAN_DESCRIPTOR: cudnnFinalize Descriptor Failed cudnn_status: CUDNN_STATUS_NOT_SUPPORTED (Triggered internally at ../aten/src/ATen/native/cudnn/Conv_v8.cpp:919.)\n",
      "  return F.conv1d(input, weight, bias, self.stride,\n",
      "/home/vincenzo/anaconda3/envs/vstk/lib/python3.12/site-packages/torch/nn/modules/conv.py:306: UserWarning: Plan failed with a cudnnException: CUDNN_BACKEND_EXECUTION_PLAN_DESCRIPTOR: cudnnFinalize Descriptor Failed cudnn_status: CUDNN_STATUS_NOT_SUPPORTED (Triggered internally at ../aten/src/ATen/native/cudnn/Conv_v8.cpp:919.)\n",
      "  return F.conv1d(input, weight, bias, self.stride,\n",
      "400it [00:11, 37.73it/s]/home/vincenzo/anaconda3/envs/vstk/lib/python3.12/site-packages/torch/nn/modules/conv.py:306: UserWarning: Plan failed with a cudnnException: CUDNN_BACKEND_EXECUTION_PLAN_DESCRIPTOR: cudnnFinalize Descriptor Failed cudnn_status: CUDNN_STATUS_NOT_SUPPORTED (Triggered internally at ../aten/src/ATen/native/cudnn/Conv_v8.cpp:919.)\n",
      "  return F.conv1d(input, weight, bias, self.stride,\n",
      "/home/vincenzo/anaconda3/envs/vstk/lib/python3.12/site-packages/torch/nn/modules/conv.py:306: UserWarning: Plan failed with a cudnnException: CUDNN_BACKEND_EXECUTION_PLAN_DESCRIPTOR: cudnnFinalize Descriptor Failed cudnn_status: CUDNN_STATUS_NOT_SUPPORTED (Triggered internally at ../aten/src/ATen/native/cudnn/Conv_v8.cpp:919.)\n",
      "  return F.conv1d(input, weight, bias, self.stride,\n",
      "404it [00:11, 35.09it/s]/home/vincenzo/anaconda3/envs/vstk/lib/python3.12/site-packages/torch/nn/modules/conv.py:306: UserWarning: Plan failed with a cudnnException: CUDNN_BACKEND_EXECUTION_PLAN_DESCRIPTOR: cudnnFinalize Descriptor Failed cudnn_status: CUDNN_STATUS_NOT_SUPPORTED (Triggered internally at ../aten/src/ATen/native/cudnn/Conv_v8.cpp:919.)\n",
      "  return F.conv1d(input, weight, bias, self.stride,\n",
      "/home/vincenzo/anaconda3/envs/vstk/lib/python3.12/site-packages/torch/nn/modules/conv.py:306: UserWarning: Plan failed with a cudnnException: CUDNN_BACKEND_EXECUTION_PLAN_DESCRIPTOR: cudnnFinalize Descriptor Failed cudnn_status: CUDNN_STATUS_NOT_SUPPORTED (Triggered internally at ../aten/src/ATen/native/cudnn/Conv_v8.cpp:919.)\n",
      "  return F.conv1d(input, weight, bias, self.stride,\n",
      "409it [00:11, 36.64it/s]/home/vincenzo/anaconda3/envs/vstk/lib/python3.12/site-packages/torch/nn/modules/conv.py:306: UserWarning: Plan failed with a cudnnException: CUDNN_BACKEND_EXECUTION_PLAN_DESCRIPTOR: cudnnFinalize Descriptor Failed cudnn_status: CUDNN_STATUS_NOT_SUPPORTED (Triggered internally at ../aten/src/ATen/native/cudnn/Conv_v8.cpp:919.)\n",
      "  return F.conv1d(input, weight, bias, self.stride,\n",
      "413it [00:11, 37.33it/s]/home/vincenzo/anaconda3/envs/vstk/lib/python3.12/site-packages/torch/nn/modules/conv.py:306: UserWarning: Plan failed with a cudnnException: CUDNN_BACKEND_EXECUTION_PLAN_DESCRIPTOR: cudnnFinalize Descriptor Failed cudnn_status: CUDNN_STATUS_NOT_SUPPORTED (Triggered internally at ../aten/src/ATen/native/cudnn/Conv_v8.cpp:919.)\n",
      "  return F.conv1d(input, weight, bias, self.stride,\n",
      "/home/vincenzo/anaconda3/envs/vstk/lib/python3.12/site-packages/torch/nn/modules/conv.py:306: UserWarning: Plan failed with a cudnnException: CUDNN_BACKEND_EXECUTION_PLAN_DESCRIPTOR: cudnnFinalize Descriptor Failed cudnn_status: CUDNN_STATUS_NOT_SUPPORTED (Triggered internally at ../aten/src/ATen/native/cudnn/Conv_v8.cpp:919.)\n",
      "  return F.conv1d(input, weight, bias, self.stride,\n",
      "418it [00:11, 38.39it/s]/home/vincenzo/anaconda3/envs/vstk/lib/python3.12/site-packages/torch/nn/modules/conv.py:306: UserWarning: Plan failed with a cudnnException: CUDNN_BACKEND_EXECUTION_PLAN_DESCRIPTOR: cudnnFinalize Descriptor Failed cudnn_status: CUDNN_STATUS_NOT_SUPPORTED (Triggered internally at ../aten/src/ATen/native/cudnn/Conv_v8.cpp:919.)\n",
      "  return F.conv1d(input, weight, bias, self.stride,\n",
      "/home/vincenzo/anaconda3/envs/vstk/lib/python3.12/site-packages/torch/nn/modules/conv.py:306: UserWarning: Plan failed with a cudnnException: CUDNN_BACKEND_EXECUTION_PLAN_DESCRIPTOR: cudnnFinalize Descriptor Failed cudnn_status: CUDNN_STATUS_NOT_SUPPORTED (Triggered internally at ../aten/src/ATen/native/cudnn/Conv_v8.cpp:919.)\n",
      "  return F.conv1d(input, weight, bias, self.stride,\n",
      "423it [00:12, 40.34it/s]/home/vincenzo/anaconda3/envs/vstk/lib/python3.12/site-packages/torch/nn/modules/conv.py:306: UserWarning: Plan failed with a cudnnException: CUDNN_BACKEND_EXECUTION_PLAN_DESCRIPTOR: cudnnFinalize Descriptor Failed cudnn_status: CUDNN_STATUS_NOT_SUPPORTED (Triggered internally at ../aten/src/ATen/native/cudnn/Conv_v8.cpp:919.)\n",
      "  return F.conv1d(input, weight, bias, self.stride,\n",
      "/home/vincenzo/anaconda3/envs/vstk/lib/python3.12/site-packages/torch/nn/modules/conv.py:306: UserWarning: Plan failed with a cudnnException: CUDNN_BACKEND_EXECUTION_PLAN_DESCRIPTOR: cudnnFinalize Descriptor Failed cudnn_status: CUDNN_STATUS_NOT_SUPPORTED (Triggered internally at ../aten/src/ATen/native/cudnn/Conv_v8.cpp:919.)\n",
      "  return F.conv1d(input, weight, bias, self.stride,\n",
      "429it [00:12, 43.75it/s]/home/vincenzo/anaconda3/envs/vstk/lib/python3.12/site-packages/torch/nn/modules/conv.py:306: UserWarning: Plan failed with a cudnnException: CUDNN_BACKEND_EXECUTION_PLAN_DESCRIPTOR: cudnnFinalize Descriptor Failed cudnn_status: CUDNN_STATUS_NOT_SUPPORTED (Triggered internally at ../aten/src/ATen/native/cudnn/Conv_v8.cpp:919.)\n",
      "  return F.conv1d(input, weight, bias, self.stride,\n",
      "/home/vincenzo/anaconda3/envs/vstk/lib/python3.12/site-packages/torch/nn/modules/conv.py:306: UserWarning: Plan failed with a cudnnException: CUDNN_BACKEND_EXECUTION_PLAN_DESCRIPTOR: cudnnFinalize Descriptor Failed cudnn_status: CUDNN_STATUS_NOT_SUPPORTED (Triggered internally at ../aten/src/ATen/native/cudnn/Conv_v8.cpp:919.)\n",
      "  return F.conv1d(input, weight, bias, self.stride,\n",
      "/home/vincenzo/anaconda3/envs/vstk/lib/python3.12/site-packages/torch/nn/modules/conv.py:306: UserWarning: Plan failed with a cudnnException: CUDNN_BACKEND_EXECUTION_PLAN_DESCRIPTOR: cudnnFinalize Descriptor Failed cudnn_status: CUDNN_STATUS_NOT_SUPPORTED (Triggered internally at ../aten/src/ATen/native/cudnn/Conv_v8.cpp:919.)\n",
      "  return F.conv1d(input, weight, bias, self.stride,\n",
      "434it [00:12, 37.62it/s]/home/vincenzo/anaconda3/envs/vstk/lib/python3.12/site-packages/torch/nn/modules/conv.py:306: UserWarning: Plan failed with a cudnnException: CUDNN_BACKEND_EXECUTION_PLAN_DESCRIPTOR: cudnnFinalize Descriptor Failed cudnn_status: CUDNN_STATUS_NOT_SUPPORTED (Triggered internally at ../aten/src/ATen/native/cudnn/Conv_v8.cpp:919.)\n",
      "  return F.conv1d(input, weight, bias, self.stride,\n",
      "/home/vincenzo/anaconda3/envs/vstk/lib/python3.12/site-packages/torch/nn/modules/conv.py:306: UserWarning: Plan failed with a cudnnException: CUDNN_BACKEND_EXECUTION_PLAN_DESCRIPTOR: cudnnFinalize Descriptor Failed cudnn_status: CUDNN_STATUS_NOT_SUPPORTED (Triggered internally at ../aten/src/ATen/native/cudnn/Conv_v8.cpp:919.)\n",
      "  return F.conv1d(input, weight, bias, self.stride,\n",
      "440it [00:12, 41.24it/s]/home/vincenzo/anaconda3/envs/vstk/lib/python3.12/site-packages/torch/nn/modules/conv.py:306: UserWarning: Plan failed with a cudnnException: CUDNN_BACKEND_EXECUTION_PLAN_DESCRIPTOR: cudnnFinalize Descriptor Failed cudnn_status: CUDNN_STATUS_NOT_SUPPORTED (Triggered internally at ../aten/src/ATen/native/cudnn/Conv_v8.cpp:919.)\n",
      "  return F.conv1d(input, weight, bias, self.stride,\n",
      "445it [00:12, 37.52it/s]/home/vincenzo/anaconda3/envs/vstk/lib/python3.12/site-packages/torch/nn/modules/conv.py:306: UserWarning: Plan failed with a cudnnException: CUDNN_BACKEND_EXECUTION_PLAN_DESCRIPTOR: cudnnFinalize Descriptor Failed cudnn_status: CUDNN_STATUS_NOT_SUPPORTED (Triggered internally at ../aten/src/ATen/native/cudnn/Conv_v8.cpp:919.)\n",
      "  return F.conv1d(input, weight, bias, self.stride,\n",
      "/home/vincenzo/anaconda3/envs/vstk/lib/python3.12/site-packages/torch/nn/modules/conv.py:306: UserWarning: Plan failed with a cudnnException: CUDNN_BACKEND_EXECUTION_PLAN_DESCRIPTOR: cudnnFinalize Descriptor Failed cudnn_status: CUDNN_STATUS_NOT_SUPPORTED (Triggered internally at ../aten/src/ATen/native/cudnn/Conv_v8.cpp:919.)\n",
      "  return F.conv1d(input, weight, bias, self.stride,\n",
      "450it [00:12, 39.71it/s]/home/vincenzo/anaconda3/envs/vstk/lib/python3.12/site-packages/torch/nn/modules/conv.py:306: UserWarning: Plan failed with a cudnnException: CUDNN_BACKEND_EXECUTION_PLAN_DESCRIPTOR: cudnnFinalize Descriptor Failed cudnn_status: CUDNN_STATUS_NOT_SUPPORTED (Triggered internally at ../aten/src/ATen/native/cudnn/Conv_v8.cpp:919.)\n",
      "  return F.conv1d(input, weight, bias, self.stride,\n",
      "455it [00:12, 35.41it/s]/home/vincenzo/anaconda3/envs/vstk/lib/python3.12/site-packages/torch/nn/modules/conv.py:306: UserWarning: Plan failed with a cudnnException: CUDNN_BACKEND_EXECUTION_PLAN_DESCRIPTOR: cudnnFinalize Descriptor Failed cudnn_status: CUDNN_STATUS_NOT_SUPPORTED (Triggered internally at ../aten/src/ATen/native/cudnn/Conv_v8.cpp:919.)\n",
      "  return F.conv1d(input, weight, bias, self.stride,\n",
      "459it [00:13, 35.85it/s]/home/vincenzo/anaconda3/envs/vstk/lib/python3.12/site-packages/torch/nn/modules/conv.py:306: UserWarning: Plan failed with a cudnnException: CUDNN_BACKEND_EXECUTION_PLAN_DESCRIPTOR: cudnnFinalize Descriptor Failed cudnn_status: CUDNN_STATUS_NOT_SUPPORTED (Triggered internally at ../aten/src/ATen/native/cudnn/Conv_v8.cpp:919.)\n",
      "  return F.conv1d(input, weight, bias, self.stride,\n",
      "/home/vincenzo/anaconda3/envs/vstk/lib/python3.12/site-packages/torch/nn/modules/conv.py:306: UserWarning: Plan failed with a cudnnException: CUDNN_BACKEND_EXECUTION_PLAN_DESCRIPTOR: cudnnFinalize Descriptor Failed cudnn_status: CUDNN_STATUS_NOT_SUPPORTED (Triggered internally at ../aten/src/ATen/native/cudnn/Conv_v8.cpp:919.)\n",
      "  return F.conv1d(input, weight, bias, self.stride,\n",
      "/home/vincenzo/anaconda3/envs/vstk/lib/python3.12/site-packages/torch/nn/modules/conv.py:306: UserWarning: Plan failed with a cudnnException: CUDNN_BACKEND_EXECUTION_PLAN_DESCRIPTOR: cudnnFinalize Descriptor Failed cudnn_status: CUDNN_STATUS_NOT_SUPPORTED (Triggered internally at ../aten/src/ATen/native/cudnn/Conv_v8.cpp:919.)\n",
      "  return F.conv1d(input, weight, bias, self.stride,\n",
      "464it [00:13, 38.24it/s]/home/vincenzo/anaconda3/envs/vstk/lib/python3.12/site-packages/torch/nn/modules/conv.py:306: UserWarning: Plan failed with a cudnnException: CUDNN_BACKEND_EXECUTION_PLAN_DESCRIPTOR: cudnnFinalize Descriptor Failed cudnn_status: CUDNN_STATUS_NOT_SUPPORTED (Triggered internally at ../aten/src/ATen/native/cudnn/Conv_v8.cpp:919.)\n",
      "  return F.conv1d(input, weight, bias, self.stride,\n",
      "/home/vincenzo/anaconda3/envs/vstk/lib/python3.12/site-packages/torch/nn/modules/conv.py:306: UserWarning: Plan failed with a cudnnException: CUDNN_BACKEND_EXECUTION_PLAN_DESCRIPTOR: cudnnFinalize Descriptor Failed cudnn_status: CUDNN_STATUS_NOT_SUPPORTED (Triggered internally at ../aten/src/ATen/native/cudnn/Conv_v8.cpp:919.)\n",
      "  return F.conv1d(input, weight, bias, self.stride,\n",
      "468it [00:13, 36.59it/s]/home/vincenzo/anaconda3/envs/vstk/lib/python3.12/site-packages/torch/nn/modules/conv.py:306: UserWarning: Plan failed with a cudnnException: CUDNN_BACKEND_EXECUTION_PLAN_DESCRIPTOR: cudnnFinalize Descriptor Failed cudnn_status: CUDNN_STATUS_NOT_SUPPORTED (Triggered internally at ../aten/src/ATen/native/cudnn/Conv_v8.cpp:919.)\n",
      "  return F.conv1d(input, weight, bias, self.stride,\n",
      "/home/vincenzo/anaconda3/envs/vstk/lib/python3.12/site-packages/torch/nn/modules/conv.py:306: UserWarning: Plan failed with a cudnnException: CUDNN_BACKEND_EXECUTION_PLAN_DESCRIPTOR: cudnnFinalize Descriptor Failed cudnn_status: CUDNN_STATUS_NOT_SUPPORTED (Triggered internally at ../aten/src/ATen/native/cudnn/Conv_v8.cpp:919.)\n",
      "  return F.conv1d(input, weight, bias, self.stride,\n",
      "472it [00:13, 19.62it/s]/home/vincenzo/anaconda3/envs/vstk/lib/python3.12/site-packages/torch/nn/modules/conv.py:306: UserWarning: Plan failed with a cudnnException: CUDNN_BACKEND_EXECUTION_PLAN_DESCRIPTOR: cudnnFinalize Descriptor Failed cudnn_status: CUDNN_STATUS_NOT_SUPPORTED (Triggered internally at ../aten/src/ATen/native/cudnn/Conv_v8.cpp:919.)\n",
      "  return F.conv1d(input, weight, bias, self.stride,\n",
      "475it [00:13, 19.65it/s]/home/vincenzo/anaconda3/envs/vstk/lib/python3.12/site-packages/torch/nn/modules/conv.py:306: UserWarning: Plan failed with a cudnnException: CUDNN_BACKEND_EXECUTION_PLAN_DESCRIPTOR: cudnnFinalize Descriptor Failed cudnn_status: CUDNN_STATUS_NOT_SUPPORTED (Triggered internally at ../aten/src/ATen/native/cudnn/Conv_v8.cpp:919.)\n",
      "  return F.conv1d(input, weight, bias, self.stride,\n",
      "479it [00:14, 22.93it/s]/home/vincenzo/anaconda3/envs/vstk/lib/python3.12/site-packages/torch/nn/modules/conv.py:306: UserWarning: Plan failed with a cudnnException: CUDNN_BACKEND_EXECUTION_PLAN_DESCRIPTOR: cudnnFinalize Descriptor Failed cudnn_status: CUDNN_STATUS_NOT_SUPPORTED (Triggered internally at ../aten/src/ATen/native/cudnn/Conv_v8.cpp:919.)\n",
      "  return F.conv1d(input, weight, bias, self.stride,\n",
      "485it [00:14, 29.93it/s]/home/vincenzo/anaconda3/envs/vstk/lib/python3.12/site-packages/torch/nn/modules/conv.py:306: UserWarning: Plan failed with a cudnnException: CUDNN_BACKEND_EXECUTION_PLAN_DESCRIPTOR: cudnnFinalize Descriptor Failed cudnn_status: CUDNN_STATUS_NOT_SUPPORTED (Triggered internally at ../aten/src/ATen/native/cudnn/Conv_v8.cpp:919.)\n",
      "  return F.conv1d(input, weight, bias, self.stride,\n",
      "489it [00:14, 31.55it/s]/home/vincenzo/anaconda3/envs/vstk/lib/python3.12/site-packages/torch/nn/modules/conv.py:306: UserWarning: Plan failed with a cudnnException: CUDNN_BACKEND_EXECUTION_PLAN_DESCRIPTOR: cudnnFinalize Descriptor Failed cudnn_status: CUDNN_STATUS_NOT_SUPPORTED (Triggered internally at ../aten/src/ATen/native/cudnn/Conv_v8.cpp:919.)\n",
      "  return F.conv1d(input, weight, bias, self.stride,\n",
      "/home/vincenzo/anaconda3/envs/vstk/lib/python3.12/site-packages/torch/nn/modules/conv.py:306: UserWarning: Plan failed with a cudnnException: CUDNN_BACKEND_EXECUTION_PLAN_DESCRIPTOR: cudnnFinalize Descriptor Failed cudnn_status: CUDNN_STATUS_NOT_SUPPORTED (Triggered internally at ../aten/src/ATen/native/cudnn/Conv_v8.cpp:919.)\n",
      "  return F.conv1d(input, weight, bias, self.stride,\n",
      "494it [00:14, 34.81it/s]/home/vincenzo/anaconda3/envs/vstk/lib/python3.12/site-packages/torch/nn/modules/conv.py:306: UserWarning: Plan failed with a cudnnException: CUDNN_BACKEND_EXECUTION_PLAN_DESCRIPTOR: cudnnFinalize Descriptor Failed cudnn_status: CUDNN_STATUS_NOT_SUPPORTED (Triggered internally at ../aten/src/ATen/native/cudnn/Conv_v8.cpp:919.)\n",
      "  return F.conv1d(input, weight, bias, self.stride,\n",
      "/home/vincenzo/anaconda3/envs/vstk/lib/python3.12/site-packages/torch/nn/modules/conv.py:306: UserWarning: Plan failed with a cudnnException: CUDNN_BACKEND_EXECUTION_PLAN_DESCRIPTOR: cudnnFinalize Descriptor Failed cudnn_status: CUDNN_STATUS_NOT_SUPPORTED (Triggered internally at ../aten/src/ATen/native/cudnn/Conv_v8.cpp:919.)\n",
      "  return F.conv1d(input, weight, bias, self.stride,\n",
      "498it [00:14, 19.52it/s]/home/vincenzo/anaconda3/envs/vstk/lib/python3.12/site-packages/torch/nn/modules/conv.py:306: UserWarning: Plan failed with a cudnnException: CUDNN_BACKEND_EXECUTION_PLAN_DESCRIPTOR: cudnnFinalize Descriptor Failed cudnn_status: CUDNN_STATUS_NOT_SUPPORTED (Triggered internally at ../aten/src/ATen/native/cudnn/Conv_v8.cpp:919.)\n",
      "  return F.conv1d(input, weight, bias, self.stride,\n",
      "508it [00:15, 27.90it/s]/home/vincenzo/anaconda3/envs/vstk/lib/python3.12/site-packages/torch/nn/modules/conv.py:306: UserWarning: Plan failed with a cudnnException: CUDNN_BACKEND_EXECUTION_PLAN_DESCRIPTOR: cudnnFinalize Descriptor Failed cudnn_status: CUDNN_STATUS_NOT_SUPPORTED (Triggered internally at ../aten/src/ATen/native/cudnn/Conv_v8.cpp:919.)\n",
      "  return F.conv1d(input, weight, bias, self.stride,\n",
      "/home/vincenzo/anaconda3/envs/vstk/lib/python3.12/site-packages/torch/nn/modules/conv.py:306: UserWarning: Plan failed with a cudnnException: CUDNN_BACKEND_EXECUTION_PLAN_DESCRIPTOR: cudnnFinalize Descriptor Failed cudnn_status: CUDNN_STATUS_NOT_SUPPORTED (Triggered internally at ../aten/src/ATen/native/cudnn/Conv_v8.cpp:919.)\n",
      "  return F.conv1d(input, weight, bias, self.stride,\n",
      "/home/vincenzo/anaconda3/envs/vstk/lib/python3.12/site-packages/torch/nn/modules/conv.py:306: UserWarning: Plan failed with a cudnnException: CUDNN_BACKEND_EXECUTION_PLAN_DESCRIPTOR: cudnnFinalize Descriptor Failed cudnn_status: CUDNN_STATUS_NOT_SUPPORTED (Triggered internally at ../aten/src/ATen/native/cudnn/Conv_v8.cpp:919.)\n",
      "  return F.conv1d(input, weight, bias, self.stride,\n",
      "512it [00:15, 29.19it/s]/home/vincenzo/anaconda3/envs/vstk/lib/python3.12/site-packages/torch/nn/modules/conv.py:306: UserWarning: Plan failed with a cudnnException: CUDNN_BACKEND_EXECUTION_PLAN_DESCRIPTOR: cudnnFinalize Descriptor Failed cudnn_status: CUDNN_STATUS_NOT_SUPPORTED (Triggered internally at ../aten/src/ATen/native/cudnn/Conv_v8.cpp:919.)\n",
      "  return F.conv1d(input, weight, bias, self.stride,\n",
      "517it [00:15, 33.09it/s]/home/vincenzo/anaconda3/envs/vstk/lib/python3.12/site-packages/torch/nn/modules/conv.py:306: UserWarning: Plan failed with a cudnnException: CUDNN_BACKEND_EXECUTION_PLAN_DESCRIPTOR: cudnnFinalize Descriptor Failed cudnn_status: CUDNN_STATUS_NOT_SUPPORTED (Triggered internally at ../aten/src/ATen/native/cudnn/Conv_v8.cpp:919.)\n",
      "  return F.conv1d(input, weight, bias, self.stride,\n",
      "/home/vincenzo/anaconda3/envs/vstk/lib/python3.12/site-packages/torch/nn/modules/conv.py:306: UserWarning: Plan failed with a cudnnException: CUDNN_BACKEND_EXECUTION_PLAN_DESCRIPTOR: cudnnFinalize Descriptor Failed cudnn_status: CUDNN_STATUS_NOT_SUPPORTED (Triggered internally at ../aten/src/ATen/native/cudnn/Conv_v8.cpp:919.)\n",
      "  return F.conv1d(input, weight, bias, self.stride,\n",
      "523it [00:15, 37.73it/s]/home/vincenzo/anaconda3/envs/vstk/lib/python3.12/site-packages/torch/nn/modules/conv.py:306: UserWarning: Plan failed with a cudnnException: CUDNN_BACKEND_EXECUTION_PLAN_DESCRIPTOR: cudnnFinalize Descriptor Failed cudnn_status: CUDNN_STATUS_NOT_SUPPORTED (Triggered internally at ../aten/src/ATen/native/cudnn/Conv_v8.cpp:919.)\n",
      "  return F.conv1d(input, weight, bias, self.stride,\n",
      "/home/vincenzo/anaconda3/envs/vstk/lib/python3.12/site-packages/torch/nn/modules/conv.py:306: UserWarning: Plan failed with a cudnnException: CUDNN_BACKEND_EXECUTION_PLAN_DESCRIPTOR: cudnnFinalize Descriptor Failed cudnn_status: CUDNN_STATUS_NOT_SUPPORTED (Triggered internally at ../aten/src/ATen/native/cudnn/Conv_v8.cpp:919.)\n",
      "  return F.conv1d(input, weight, bias, self.stride,\n",
      "/home/vincenzo/anaconda3/envs/vstk/lib/python3.12/site-packages/torch/nn/modules/conv.py:306: UserWarning: Plan failed with a cudnnException: CUDNN_BACKEND_EXECUTION_PLAN_DESCRIPTOR: cudnnFinalize Descriptor Failed cudnn_status: CUDNN_STATUS_NOT_SUPPORTED (Triggered internally at ../aten/src/ATen/native/cudnn/Conv_v8.cpp:919.)\n",
      "  return F.conv1d(input, weight, bias, self.stride,\n",
      "528it [00:15, 39.90it/s]/home/vincenzo/anaconda3/envs/vstk/lib/python3.12/site-packages/torch/nn/modules/conv.py:306: UserWarning: Plan failed with a cudnnException: CUDNN_BACKEND_EXECUTION_PLAN_DESCRIPTOR: cudnnFinalize Descriptor Failed cudnn_status: CUDNN_STATUS_NOT_SUPPORTED (Triggered internally at ../aten/src/ATen/native/cudnn/Conv_v8.cpp:919.)\n",
      "  return F.conv1d(input, weight, bias, self.stride,\n",
      "533it [00:15, 41.73it/s]/home/vincenzo/anaconda3/envs/vstk/lib/python3.12/site-packages/torch/nn/modules/conv.py:306: UserWarning: Plan failed with a cudnnException: CUDNN_BACKEND_EXECUTION_PLAN_DESCRIPTOR: cudnnFinalize Descriptor Failed cudnn_status: CUDNN_STATUS_NOT_SUPPORTED (Triggered internally at ../aten/src/ATen/native/cudnn/Conv_v8.cpp:919.)\n",
      "  return F.conv1d(input, weight, bias, self.stride,\n",
      "538it [00:15, 40.87it/s]/home/vincenzo/anaconda3/envs/vstk/lib/python3.12/site-packages/torch/nn/modules/conv.py:306: UserWarning: Plan failed with a cudnnException: CUDNN_BACKEND_EXECUTION_PLAN_DESCRIPTOR: cudnnFinalize Descriptor Failed cudnn_status: CUDNN_STATUS_NOT_SUPPORTED (Triggered internally at ../aten/src/ATen/native/cudnn/Conv_v8.cpp:919.)\n",
      "  return F.conv1d(input, weight, bias, self.stride,\n",
      "/home/vincenzo/anaconda3/envs/vstk/lib/python3.12/site-packages/torch/nn/modules/conv.py:306: UserWarning: Plan failed with a cudnnException: CUDNN_BACKEND_EXECUTION_PLAN_DESCRIPTOR: cudnnFinalize Descriptor Failed cudnn_status: CUDNN_STATUS_NOT_SUPPORTED (Triggered internally at ../aten/src/ATen/native/cudnn/Conv_v8.cpp:919.)\n",
      "  return F.conv1d(input, weight, bias, self.stride,\n",
      "/home/vincenzo/anaconda3/envs/vstk/lib/python3.12/site-packages/torch/nn/modules/conv.py:306: UserWarning: Plan failed with a cudnnException: CUDNN_BACKEND_EXECUTION_PLAN_DESCRIPTOR: cudnnFinalize Descriptor Failed cudnn_status: CUDNN_STATUS_NOT_SUPPORTED (Triggered internally at ../aten/src/ATen/native/cudnn/Conv_v8.cpp:919.)\n",
      "  return F.conv1d(input, weight, bias, self.stride,\n",
      "543it [00:15, 40.59it/s]/home/vincenzo/anaconda3/envs/vstk/lib/python3.12/site-packages/torch/nn/modules/conv.py:306: UserWarning: Plan failed with a cudnnException: CUDNN_BACKEND_EXECUTION_PLAN_DESCRIPTOR: cudnnFinalize Descriptor Failed cudnn_status: CUDNN_STATUS_NOT_SUPPORTED (Triggered internally at ../aten/src/ATen/native/cudnn/Conv_v8.cpp:919.)\n",
      "  return F.conv1d(input, weight, bias, self.stride,\n",
      "549it [00:15, 45.30it/s]/home/vincenzo/anaconda3/envs/vstk/lib/python3.12/site-packages/torch/nn/modules/conv.py:306: UserWarning: Plan failed with a cudnnException: CUDNN_BACKEND_EXECUTION_PLAN_DESCRIPTOR: cudnnFinalize Descriptor Failed cudnn_status: CUDNN_STATUS_NOT_SUPPORTED (Triggered internally at ../aten/src/ATen/native/cudnn/Conv_v8.cpp:919.)\n",
      "  return F.conv1d(input, weight, bias, self.stride,\n",
      "/home/vincenzo/anaconda3/envs/vstk/lib/python3.12/site-packages/torch/nn/modules/conv.py:306: UserWarning: Plan failed with a cudnnException: CUDNN_BACKEND_EXECUTION_PLAN_DESCRIPTOR: cudnnFinalize Descriptor Failed cudnn_status: CUDNN_STATUS_NOT_SUPPORTED (Triggered internally at ../aten/src/ATen/native/cudnn/Conv_v8.cpp:919.)\n",
      "  return F.conv1d(input, weight, bias, self.stride,\n",
      "/home/vincenzo/anaconda3/envs/vstk/lib/python3.12/site-packages/torch/nn/modules/conv.py:306: UserWarning: Plan failed with a cudnnException: CUDNN_BACKEND_EXECUTION_PLAN_DESCRIPTOR: cudnnFinalize Descriptor Failed cudnn_status: CUDNN_STATUS_NOT_SUPPORTED (Triggered internally at ../aten/src/ATen/native/cudnn/Conv_v8.cpp:919.)\n",
      "  return F.conv1d(input, weight, bias, self.stride,\n",
      "/home/vincenzo/anaconda3/envs/vstk/lib/python3.12/site-packages/torch/nn/modules/conv.py:306: UserWarning: Plan failed with a cudnnException: CUDNN_BACKEND_EXECUTION_PLAN_DESCRIPTOR: cudnnFinalize Descriptor Failed cudnn_status: CUDNN_STATUS_NOT_SUPPORTED (Triggered internally at ../aten/src/ATen/native/cudnn/Conv_v8.cpp:919.)\n",
      "  return F.conv1d(input, weight, bias, self.stride,\n",
      "554it [00:16, 43.97it/s]/home/vincenzo/anaconda3/envs/vstk/lib/python3.12/site-packages/torch/nn/modules/conv.py:306: UserWarning: Plan failed with a cudnnException: CUDNN_BACKEND_EXECUTION_PLAN_DESCRIPTOR: cudnnFinalize Descriptor Failed cudnn_status: CUDNN_STATUS_NOT_SUPPORTED (Triggered internally at ../aten/src/ATen/native/cudnn/Conv_v8.cpp:919.)\n",
      "  return F.conv1d(input, weight, bias, self.stride,\n",
      "559it [00:16, 42.82it/s]/home/vincenzo/anaconda3/envs/vstk/lib/python3.12/site-packages/torch/nn/modules/conv.py:306: UserWarning: Plan failed with a cudnnException: CUDNN_BACKEND_EXECUTION_PLAN_DESCRIPTOR: cudnnFinalize Descriptor Failed cudnn_status: CUDNN_STATUS_NOT_SUPPORTED (Triggered internally at ../aten/src/ATen/native/cudnn/Conv_v8.cpp:919.)\n",
      "  return F.conv1d(input, weight, bias, self.stride,\n",
      "/home/vincenzo/anaconda3/envs/vstk/lib/python3.12/site-packages/torch/nn/modules/conv.py:306: UserWarning: Plan failed with a cudnnException: CUDNN_BACKEND_EXECUTION_PLAN_DESCRIPTOR: cudnnFinalize Descriptor Failed cudnn_status: CUDNN_STATUS_NOT_SUPPORTED (Triggered internally at ../aten/src/ATen/native/cudnn/Conv_v8.cpp:919.)\n",
      "  return F.conv1d(input, weight, bias, self.stride,\n",
      "/home/vincenzo/anaconda3/envs/vstk/lib/python3.12/site-packages/torch/nn/modules/conv.py:306: UserWarning: Plan failed with a cudnnException: CUDNN_BACKEND_EXECUTION_PLAN_DESCRIPTOR: cudnnFinalize Descriptor Failed cudnn_status: CUDNN_STATUS_NOT_SUPPORTED (Triggered internally at ../aten/src/ATen/native/cudnn/Conv_v8.cpp:919.)\n",
      "  return F.conv1d(input, weight, bias, self.stride,\n",
      "564it [00:16, 44.36it/s]/home/vincenzo/anaconda3/envs/vstk/lib/python3.12/site-packages/torch/nn/modules/conv.py:306: UserWarning: Plan failed with a cudnnException: CUDNN_BACKEND_EXECUTION_PLAN_DESCRIPTOR: cudnnFinalize Descriptor Failed cudnn_status: CUDNN_STATUS_NOT_SUPPORTED (Triggered internally at ../aten/src/ATen/native/cudnn/Conv_v8.cpp:919.)\n",
      "  return F.conv1d(input, weight, bias, self.stride,\n",
      "/home/vincenzo/anaconda3/envs/vstk/lib/python3.12/site-packages/torch/nn/modules/conv.py:306: UserWarning: Plan failed with a cudnnException: CUDNN_BACKEND_EXECUTION_PLAN_DESCRIPTOR: cudnnFinalize Descriptor Failed cudnn_status: CUDNN_STATUS_NOT_SUPPORTED (Triggered internally at ../aten/src/ATen/native/cudnn/Conv_v8.cpp:919.)\n",
      "  return F.conv1d(input, weight, bias, self.stride,\n",
      "574it [00:16, 41.28it/s]/home/vincenzo/anaconda3/envs/vstk/lib/python3.12/site-packages/torch/nn/modules/conv.py:306: UserWarning: Plan failed with a cudnnException: CUDNN_BACKEND_EXECUTION_PLAN_DESCRIPTOR: cudnnFinalize Descriptor Failed cudnn_status: CUDNN_STATUS_NOT_SUPPORTED (Triggered internally at ../aten/src/ATen/native/cudnn/Conv_v8.cpp:919.)\n",
      "  return F.conv1d(input, weight, bias, self.stride,\n",
      "580it [00:16, 40.12it/s]/home/vincenzo/anaconda3/envs/vstk/lib/python3.12/site-packages/torch/nn/modules/conv.py:306: UserWarning: Plan failed with a cudnnException: CUDNN_BACKEND_EXECUTION_PLAN_DESCRIPTOR: cudnnFinalize Descriptor Failed cudnn_status: CUDNN_STATUS_NOT_SUPPORTED (Triggered internally at ../aten/src/ATen/native/cudnn/Conv_v8.cpp:919.)\n",
      "  return F.conv1d(input, weight, bias, self.stride,\n",
      "585it [00:16, 38.51it/s]/home/vincenzo/anaconda3/envs/vstk/lib/python3.12/site-packages/torch/nn/modules/conv.py:306: UserWarning: Plan failed with a cudnnException: CUDNN_BACKEND_EXECUTION_PLAN_DESCRIPTOR: cudnnFinalize Descriptor Failed cudnn_status: CUDNN_STATUS_NOT_SUPPORTED (Triggered internally at ../aten/src/ATen/native/cudnn/Conv_v8.cpp:919.)\n",
      "  return F.conv1d(input, weight, bias, self.stride,\n",
      "590it [00:16, 40.28it/s]/home/vincenzo/anaconda3/envs/vstk/lib/python3.12/site-packages/torch/nn/modules/conv.py:306: UserWarning: Plan failed with a cudnnException: CUDNN_BACKEND_EXECUTION_PLAN_DESCRIPTOR: cudnnFinalize Descriptor Failed cudnn_status: CUDNN_STATUS_NOT_SUPPORTED (Triggered internally at ../aten/src/ATen/native/cudnn/Conv_v8.cpp:919.)\n",
      "  return F.conv1d(input, weight, bias, self.stride,\n",
      "/home/vincenzo/anaconda3/envs/vstk/lib/python3.12/site-packages/torch/nn/modules/conv.py:306: UserWarning: Plan failed with a cudnnException: CUDNN_BACKEND_EXECUTION_PLAN_DESCRIPTOR: cudnnFinalize Descriptor Failed cudnn_status: CUDNN_STATUS_NOT_SUPPORTED (Triggered internally at ../aten/src/ATen/native/cudnn/Conv_v8.cpp:919.)\n",
      "  return F.conv1d(input, weight, bias, self.stride,\n",
      "602it [00:17, 44.44it/s]/home/vincenzo/anaconda3/envs/vstk/lib/python3.12/site-packages/torch/nn/modules/conv.py:306: UserWarning: Plan failed with a cudnnException: CUDNN_BACKEND_EXECUTION_PLAN_DESCRIPTOR: cudnnFinalize Descriptor Failed cudnn_status: CUDNN_STATUS_NOT_SUPPORTED (Triggered internally at ../aten/src/ATen/native/cudnn/Conv_v8.cpp:919.)\n",
      "  return F.conv1d(input, weight, bias, self.stride,\n",
      "/home/vincenzo/anaconda3/envs/vstk/lib/python3.12/site-packages/torch/nn/modules/conv.py:306: UserWarning: Plan failed with a cudnnException: CUDNN_BACKEND_EXECUTION_PLAN_DESCRIPTOR: cudnnFinalize Descriptor Failed cudnn_status: CUDNN_STATUS_NOT_SUPPORTED (Triggered internally at ../aten/src/ATen/native/cudnn/Conv_v8.cpp:919.)\n",
      "  return F.conv1d(input, weight, bias, self.stride,\n",
      "607it [00:17, 25.16it/s]/home/vincenzo/anaconda3/envs/vstk/lib/python3.12/site-packages/torch/nn/modules/conv.py:306: UserWarning: Plan failed with a cudnnException: CUDNN_BACKEND_EXECUTION_PLAN_DESCRIPTOR: cudnnFinalize Descriptor Failed cudnn_status: CUDNN_STATUS_NOT_SUPPORTED (Triggered internally at ../aten/src/ATen/native/cudnn/Conv_v8.cpp:919.)\n",
      "  return F.conv1d(input, weight, bias, self.stride,\n",
      "611it [00:17, 23.60it/s]/home/vincenzo/anaconda3/envs/vstk/lib/python3.12/site-packages/torch/nn/modules/conv.py:306: UserWarning: Plan failed with a cudnnException: CUDNN_BACKEND_EXECUTION_PLAN_DESCRIPTOR: cudnnFinalize Descriptor Failed cudnn_status: CUDNN_STATUS_NOT_SUPPORTED (Triggered internally at ../aten/src/ATen/native/cudnn/Conv_v8.cpp:919.)\n",
      "  return F.conv1d(input, weight, bias, self.stride,\n",
      "/home/vincenzo/anaconda3/envs/vstk/lib/python3.12/site-packages/torch/nn/modules/conv.py:306: UserWarning: Plan failed with a cudnnException: CUDNN_BACKEND_EXECUTION_PLAN_DESCRIPTOR: cudnnFinalize Descriptor Failed cudnn_status: CUDNN_STATUS_NOT_SUPPORTED (Triggered internally at ../aten/src/ATen/native/cudnn/Conv_v8.cpp:919.)\n",
      "  return F.conv1d(input, weight, bias, self.stride,\n",
      "618it [00:17, 30.29it/s]/home/vincenzo/anaconda3/envs/vstk/lib/python3.12/site-packages/torch/nn/modules/conv.py:306: UserWarning: Plan failed with a cudnnException: CUDNN_BACKEND_EXECUTION_PLAN_DESCRIPTOR: cudnnFinalize Descriptor Failed cudnn_status: CUDNN_STATUS_NOT_SUPPORTED (Triggered internally at ../aten/src/ATen/native/cudnn/Conv_v8.cpp:919.)\n",
      "  return F.conv1d(input, weight, bias, self.stride,\n",
      "623it [00:18, 33.12it/s]/home/vincenzo/anaconda3/envs/vstk/lib/python3.12/site-packages/torch/nn/modules/conv.py:306: UserWarning: Plan failed with a cudnnException: CUDNN_BACKEND_EXECUTION_PLAN_DESCRIPTOR: cudnnFinalize Descriptor Failed cudnn_status: CUDNN_STATUS_NOT_SUPPORTED (Triggered internally at ../aten/src/ATen/native/cudnn/Conv_v8.cpp:919.)\n",
      "  return F.conv1d(input, weight, bias, self.stride,\n",
      "/home/vincenzo/anaconda3/envs/vstk/lib/python3.12/site-packages/torch/nn/modules/conv.py:306: UserWarning: Plan failed with a cudnnException: CUDNN_BACKEND_EXECUTION_PLAN_DESCRIPTOR: cudnnFinalize Descriptor Failed cudnn_status: CUDNN_STATUS_NOT_SUPPORTED (Triggered internally at ../aten/src/ATen/native/cudnn/Conv_v8.cpp:919.)\n",
      "  return F.conv1d(input, weight, bias, self.stride,\n",
      "628it [00:18, 36.37it/s]/home/vincenzo/anaconda3/envs/vstk/lib/python3.12/site-packages/torch/nn/modules/conv.py:306: UserWarning: Plan failed with a cudnnException: CUDNN_BACKEND_EXECUTION_PLAN_DESCRIPTOR: cudnnFinalize Descriptor Failed cudnn_status: CUDNN_STATUS_NOT_SUPPORTED (Triggered internally at ../aten/src/ATen/native/cudnn/Conv_v8.cpp:919.)\n",
      "  return F.conv1d(input, weight, bias, self.stride,\n",
      "/home/vincenzo/anaconda3/envs/vstk/lib/python3.12/site-packages/torch/nn/modules/conv.py:306: UserWarning: Plan failed with a cudnnException: CUDNN_BACKEND_EXECUTION_PLAN_DESCRIPTOR: cudnnFinalize Descriptor Failed cudnn_status: CUDNN_STATUS_NOT_SUPPORTED (Triggered internally at ../aten/src/ATen/native/cudnn/Conv_v8.cpp:919.)\n",
      "  return F.conv1d(input, weight, bias, self.stride,\n",
      "645it [00:18, 44.41it/s]/home/vincenzo/anaconda3/envs/vstk/lib/python3.12/site-packages/torch/nn/modules/conv.py:306: UserWarning: Plan failed with a cudnnException: CUDNN_BACKEND_EXECUTION_PLAN_DESCRIPTOR: cudnnFinalize Descriptor Failed cudnn_status: CUDNN_STATUS_NOT_SUPPORTED (Triggered internally at ../aten/src/ATen/native/cudnn/Conv_v8.cpp:919.)\n",
      "  return F.conv1d(input, weight, bias, self.stride,\n",
      "/home/vincenzo/anaconda3/envs/vstk/lib/python3.12/site-packages/torch/nn/modules/conv.py:306: UserWarning: Plan failed with a cudnnException: CUDNN_BACKEND_EXECUTION_PLAN_DESCRIPTOR: cudnnFinalize Descriptor Failed cudnn_status: CUDNN_STATUS_NOT_SUPPORTED (Triggered internally at ../aten/src/ATen/native/cudnn/Conv_v8.cpp:919.)\n",
      "  return F.conv1d(input, weight, bias, self.stride,\n",
      "651it [00:18, 45.51it/s]/home/vincenzo/anaconda3/envs/vstk/lib/python3.12/site-packages/torch/nn/modules/conv.py:306: UserWarning: Plan failed with a cudnnException: CUDNN_BACKEND_EXECUTION_PLAN_DESCRIPTOR: cudnnFinalize Descriptor Failed cudnn_status: CUDNN_STATUS_NOT_SUPPORTED (Triggered internally at ../aten/src/ATen/native/cudnn/Conv_v8.cpp:919.)\n",
      "  return F.conv1d(input, weight, bias, self.stride,\n",
      "/home/vincenzo/anaconda3/envs/vstk/lib/python3.12/site-packages/torch/nn/modules/conv.py:306: UserWarning: Plan failed with a cudnnException: CUDNN_BACKEND_EXECUTION_PLAN_DESCRIPTOR: cudnnFinalize Descriptor Failed cudnn_status: CUDNN_STATUS_NOT_SUPPORTED (Triggered internally at ../aten/src/ATen/native/cudnn/Conv_v8.cpp:919.)\n",
      "  return F.conv1d(input, weight, bias, self.stride,\n",
      "656it [00:18, 43.04it/s]/home/vincenzo/anaconda3/envs/vstk/lib/python3.12/site-packages/torch/nn/modules/conv.py:306: UserWarning: Plan failed with a cudnnException: CUDNN_BACKEND_EXECUTION_PLAN_DESCRIPTOR: cudnnFinalize Descriptor Failed cudnn_status: CUDNN_STATUS_NOT_SUPPORTED (Triggered internally at ../aten/src/ATen/native/cudnn/Conv_v8.cpp:919.)\n",
      "  return F.conv1d(input, weight, bias, self.stride,\n",
      "/home/vincenzo/anaconda3/envs/vstk/lib/python3.12/site-packages/torch/nn/modules/conv.py:306: UserWarning: Plan failed with a cudnnException: CUDNN_BACKEND_EXECUTION_PLAN_DESCRIPTOR: cudnnFinalize Descriptor Failed cudnn_status: CUDNN_STATUS_NOT_SUPPORTED (Triggered internally at ../aten/src/ATen/native/cudnn/Conv_v8.cpp:919.)\n",
      "  return F.conv1d(input, weight, bias, self.stride,\n",
      "662it [00:18, 45.35it/s]/home/vincenzo/anaconda3/envs/vstk/lib/python3.12/site-packages/torch/nn/modules/conv.py:306: UserWarning: Plan failed with a cudnnException: CUDNN_BACKEND_EXECUTION_PLAN_DESCRIPTOR: cudnnFinalize Descriptor Failed cudnn_status: CUDNN_STATUS_NOT_SUPPORTED (Triggered internally at ../aten/src/ATen/native/cudnn/Conv_v8.cpp:919.)\n",
      "  return F.conv1d(input, weight, bias, self.stride,\n",
      "667it [00:19, 41.62it/s]/home/vincenzo/anaconda3/envs/vstk/lib/python3.12/site-packages/torch/nn/modules/conv.py:306: UserWarning: Plan failed with a cudnnException: CUDNN_BACKEND_EXECUTION_PLAN_DESCRIPTOR: cudnnFinalize Descriptor Failed cudnn_status: CUDNN_STATUS_NOT_SUPPORTED (Triggered internally at ../aten/src/ATen/native/cudnn/Conv_v8.cpp:919.)\n",
      "  return F.conv1d(input, weight, bias, self.stride,\n",
      "/home/vincenzo/anaconda3/envs/vstk/lib/python3.12/site-packages/torch/nn/modules/conv.py:306: UserWarning: Plan failed with a cudnnException: CUDNN_BACKEND_EXECUTION_PLAN_DESCRIPTOR: cudnnFinalize Descriptor Failed cudnn_status: CUDNN_STATUS_NOT_SUPPORTED (Triggered internally at ../aten/src/ATen/native/cudnn/Conv_v8.cpp:919.)\n",
      "  return F.conv1d(input, weight, bias, self.stride,\n",
      "673it [00:19, 42.64it/s]/home/vincenzo/anaconda3/envs/vstk/lib/python3.12/site-packages/torch/nn/modules/conv.py:306: UserWarning: Plan failed with a cudnnException: CUDNN_BACKEND_EXECUTION_PLAN_DESCRIPTOR: cudnnFinalize Descriptor Failed cudnn_status: CUDNN_STATUS_NOT_SUPPORTED (Triggered internally at ../aten/src/ATen/native/cudnn/Conv_v8.cpp:919.)\n",
      "  return F.conv1d(input, weight, bias, self.stride,\n",
      "/home/vincenzo/anaconda3/envs/vstk/lib/python3.12/site-packages/torch/nn/modules/conv.py:306: UserWarning: Plan failed with a cudnnException: CUDNN_BACKEND_EXECUTION_PLAN_DESCRIPTOR: cudnnFinalize Descriptor Failed cudnn_status: CUDNN_STATUS_NOT_SUPPORTED (Triggered internally at ../aten/src/ATen/native/cudnn/Conv_v8.cpp:919.)\n",
      "  return F.conv1d(input, weight, bias, self.stride,\n",
      "678it [00:19, 22.77it/s]/home/vincenzo/anaconda3/envs/vstk/lib/python3.12/site-packages/torch/nn/modules/conv.py:306: UserWarning: Plan failed with a cudnnException: CUDNN_BACKEND_EXECUTION_PLAN_DESCRIPTOR: cudnnFinalize Descriptor Failed cudnn_status: CUDNN_STATUS_NOT_SUPPORTED (Triggered internally at ../aten/src/ATen/native/cudnn/Conv_v8.cpp:919.)\n",
      "  return F.conv1d(input, weight, bias, self.stride,\n",
      "682it [00:19, 24.35it/s]/home/vincenzo/anaconda3/envs/vstk/lib/python3.12/site-packages/torch/nn/modules/conv.py:306: UserWarning: Plan failed with a cudnnException: CUDNN_BACKEND_EXECUTION_PLAN_DESCRIPTOR: cudnnFinalize Descriptor Failed cudnn_status: CUDNN_STATUS_NOT_SUPPORTED (Triggered internally at ../aten/src/ATen/native/cudnn/Conv_v8.cpp:919.)\n",
      "  return F.conv1d(input, weight, bias, self.stride,\n",
      "686it [00:19, 23.93it/s]/home/vincenzo/anaconda3/envs/vstk/lib/python3.12/site-packages/torch/nn/modules/conv.py:306: UserWarning: Plan failed with a cudnnException: CUDNN_BACKEND_EXECUTION_PLAN_DESCRIPTOR: cudnnFinalize Descriptor Failed cudnn_status: CUDNN_STATUS_NOT_SUPPORTED (Triggered internally at ../aten/src/ATen/native/cudnn/Conv_v8.cpp:919.)\n",
      "  return F.conv1d(input, weight, bias, self.stride,\n",
      "/home/vincenzo/anaconda3/envs/vstk/lib/python3.12/site-packages/torch/nn/modules/conv.py:306: UserWarning: Plan failed with a cudnnException: CUDNN_BACKEND_EXECUTION_PLAN_DESCRIPTOR: cudnnFinalize Descriptor Failed cudnn_status: CUDNN_STATUS_NOT_SUPPORTED (Triggered internally at ../aten/src/ATen/native/cudnn/Conv_v8.cpp:919.)\n",
      "  return F.conv1d(input, weight, bias, self.stride,\n",
      "690it [00:20, 26.67it/s]/home/vincenzo/anaconda3/envs/vstk/lib/python3.12/site-packages/torch/nn/modules/conv.py:306: UserWarning: Plan failed with a cudnnException: CUDNN_BACKEND_EXECUTION_PLAN_DESCRIPTOR: cudnnFinalize Descriptor Failed cudnn_status: CUDNN_STATUS_NOT_SUPPORTED (Triggered internally at ../aten/src/ATen/native/cudnn/Conv_v8.cpp:919.)\n",
      "  return F.conv1d(input, weight, bias, self.stride,\n",
      "694it [00:20, 28.06it/s]/home/vincenzo/anaconda3/envs/vstk/lib/python3.12/site-packages/torch/nn/modules/conv.py:306: UserWarning: Plan failed with a cudnnException: CUDNN_BACKEND_EXECUTION_PLAN_DESCRIPTOR: cudnnFinalize Descriptor Failed cudnn_status: CUDNN_STATUS_NOT_SUPPORTED (Triggered internally at ../aten/src/ATen/native/cudnn/Conv_v8.cpp:919.)\n",
      "  return F.conv1d(input, weight, bias, self.stride,\n",
      "/home/vincenzo/anaconda3/envs/vstk/lib/python3.12/site-packages/torch/nn/modules/conv.py:306: UserWarning: Plan failed with a cudnnException: CUDNN_BACKEND_EXECUTION_PLAN_DESCRIPTOR: cudnnFinalize Descriptor Failed cudnn_status: CUDNN_STATUS_NOT_SUPPORTED (Triggered internally at ../aten/src/ATen/native/cudnn/Conv_v8.cpp:919.)\n",
      "  return F.conv1d(input, weight, bias, self.stride,\n",
      "705it [00:20, 36.31it/s]/home/vincenzo/anaconda3/envs/vstk/lib/python3.12/site-packages/torch/nn/modules/conv.py:306: UserWarning: Plan failed with a cudnnException: CUDNN_BACKEND_EXECUTION_PLAN_DESCRIPTOR: cudnnFinalize Descriptor Failed cudnn_status: CUDNN_STATUS_NOT_SUPPORTED (Triggered internally at ../aten/src/ATen/native/cudnn/Conv_v8.cpp:919.)\n",
      "  return F.conv1d(input, weight, bias, self.stride,\n",
      "714it [00:20, 39.47it/s]/home/vincenzo/anaconda3/envs/vstk/lib/python3.12/site-packages/torch/nn/modules/conv.py:306: UserWarning: Plan failed with a cudnnException: CUDNN_BACKEND_EXECUTION_PLAN_DESCRIPTOR: cudnnFinalize Descriptor Failed cudnn_status: CUDNN_STATUS_NOT_SUPPORTED (Triggered internally at ../aten/src/ATen/native/cudnn/Conv_v8.cpp:919.)\n",
      "  return F.conv1d(input, weight, bias, self.stride,\n",
      "719it [00:20, 41.51it/s]/home/vincenzo/anaconda3/envs/vstk/lib/python3.12/site-packages/torch/nn/modules/conv.py:306: UserWarning: Plan failed with a cudnnException: CUDNN_BACKEND_EXECUTION_PLAN_DESCRIPTOR: cudnnFinalize Descriptor Failed cudnn_status: CUDNN_STATUS_NOT_SUPPORTED (Triggered internally at ../aten/src/ATen/native/cudnn/Conv_v8.cpp:919.)\n",
      "  return F.conv1d(input, weight, bias, self.stride,\n",
      "724it [00:20, 43.68it/s]/home/vincenzo/anaconda3/envs/vstk/lib/python3.12/site-packages/torch/nn/modules/conv.py:306: UserWarning: Plan failed with a cudnnException: CUDNN_BACKEND_EXECUTION_PLAN_DESCRIPTOR: cudnnFinalize Descriptor Failed cudnn_status: CUDNN_STATUS_NOT_SUPPORTED (Triggered internally at ../aten/src/ATen/native/cudnn/Conv_v8.cpp:919.)\n",
      "  return F.conv1d(input, weight, bias, self.stride,\n",
      "/home/vincenzo/anaconda3/envs/vstk/lib/python3.12/site-packages/torch/nn/modules/conv.py:306: UserWarning: Plan failed with a cudnnException: CUDNN_BACKEND_EXECUTION_PLAN_DESCRIPTOR: cudnnFinalize Descriptor Failed cudnn_status: CUDNN_STATUS_NOT_SUPPORTED (Triggered internally at ../aten/src/ATen/native/cudnn/Conv_v8.cpp:919.)\n",
      "  return F.conv1d(input, weight, bias, self.stride,\n",
      "729it [00:21, 40.04it/s]/home/vincenzo/anaconda3/envs/vstk/lib/python3.12/site-packages/torch/nn/modules/conv.py:306: UserWarning: Plan failed with a cudnnException: CUDNN_BACKEND_EXECUTION_PLAN_DESCRIPTOR: cudnnFinalize Descriptor Failed cudnn_status: CUDNN_STATUS_NOT_SUPPORTED (Triggered internally at ../aten/src/ATen/native/cudnn/Conv_v8.cpp:919.)\n",
      "  return F.conv1d(input, weight, bias, self.stride,\n",
      "/home/vincenzo/anaconda3/envs/vstk/lib/python3.12/site-packages/torch/nn/modules/conv.py:306: UserWarning: Plan failed with a cudnnException: CUDNN_BACKEND_EXECUTION_PLAN_DESCRIPTOR: cudnnFinalize Descriptor Failed cudnn_status: CUDNN_STATUS_NOT_SUPPORTED (Triggered internally at ../aten/src/ATen/native/cudnn/Conv_v8.cpp:919.)\n",
      "  return F.conv1d(input, weight, bias, self.stride,\n",
      "734it [00:21, 40.57it/s]/home/vincenzo/anaconda3/envs/vstk/lib/python3.12/site-packages/torch/nn/modules/conv.py:306: UserWarning: Plan failed with a cudnnException: CUDNN_BACKEND_EXECUTION_PLAN_DESCRIPTOR: cudnnFinalize Descriptor Failed cudnn_status: CUDNN_STATUS_NOT_SUPPORTED (Triggered internally at ../aten/src/ATen/native/cudnn/Conv_v8.cpp:919.)\n",
      "  return F.conv1d(input, weight, bias, self.stride,\n",
      "739it [00:21, 41.00it/s]/home/vincenzo/anaconda3/envs/vstk/lib/python3.12/site-packages/torch/nn/modules/conv.py:306: UserWarning: Plan failed with a cudnnException: CUDNN_BACKEND_EXECUTION_PLAN_DESCRIPTOR: cudnnFinalize Descriptor Failed cudnn_status: CUDNN_STATUS_NOT_SUPPORTED (Triggered internally at ../aten/src/ATen/native/cudnn/Conv_v8.cpp:919.)\n",
      "  return F.conv1d(input, weight, bias, self.stride,\n",
      "/home/vincenzo/anaconda3/envs/vstk/lib/python3.12/site-packages/torch/nn/modules/conv.py:306: UserWarning: Plan failed with a cudnnException: CUDNN_BACKEND_EXECUTION_PLAN_DESCRIPTOR: cudnnFinalize Descriptor Failed cudnn_status: CUDNN_STATUS_NOT_SUPPORTED (Triggered internally at ../aten/src/ATen/native/cudnn/Conv_v8.cpp:919.)\n",
      "  return F.conv1d(input, weight, bias, self.stride,\n",
      "744it [00:21, 33.74it/s]/home/vincenzo/anaconda3/envs/vstk/lib/python3.12/site-packages/torch/nn/modules/conv.py:306: UserWarning: Plan failed with a cudnnException: CUDNN_BACKEND_EXECUTION_PLAN_DESCRIPTOR: cudnnFinalize Descriptor Failed cudnn_status: CUDNN_STATUS_NOT_SUPPORTED (Triggered internally at ../aten/src/ATen/native/cudnn/Conv_v8.cpp:919.)\n",
      "  return F.conv1d(input, weight, bias, self.stride,\n",
      "748it [00:21, 28.39it/s]/home/vincenzo/anaconda3/envs/vstk/lib/python3.12/site-packages/torch/nn/modules/conv.py:306: UserWarning: Plan failed with a cudnnException: CUDNN_BACKEND_EXECUTION_PLAN_DESCRIPTOR: cudnnFinalize Descriptor Failed cudnn_status: CUDNN_STATUS_NOT_SUPPORTED (Triggered internally at ../aten/src/ATen/native/cudnn/Conv_v8.cpp:919.)\n",
      "  return F.conv1d(input, weight, bias, self.stride,\n",
      "752it [00:22, 19.24it/s]/home/vincenzo/anaconda3/envs/vstk/lib/python3.12/site-packages/torch/nn/modules/conv.py:306: UserWarning: Plan failed with a cudnnException: CUDNN_BACKEND_EXECUTION_PLAN_DESCRIPTOR: cudnnFinalize Descriptor Failed cudnn_status: CUDNN_STATUS_NOT_SUPPORTED (Triggered internally at ../aten/src/ATen/native/cudnn/Conv_v8.cpp:919.)\n",
      "  return F.conv1d(input, weight, bias, self.stride,\n",
      "755it [00:22, 19.23it/s]/home/vincenzo/anaconda3/envs/vstk/lib/python3.12/site-packages/torch/nn/modules/conv.py:306: UserWarning: Plan failed with a cudnnException: CUDNN_BACKEND_EXECUTION_PLAN_DESCRIPTOR: cudnnFinalize Descriptor Failed cudnn_status: CUDNN_STATUS_NOT_SUPPORTED (Triggered internally at ../aten/src/ATen/native/cudnn/Conv_v8.cpp:919.)\n",
      "  return F.conv1d(input, weight, bias, self.stride,\n",
      "759it [00:22, 22.62it/s]/home/vincenzo/anaconda3/envs/vstk/lib/python3.12/site-packages/torch/nn/modules/conv.py:306: UserWarning: Plan failed with a cudnnException: CUDNN_BACKEND_EXECUTION_PLAN_DESCRIPTOR: cudnnFinalize Descriptor Failed cudnn_status: CUDNN_STATUS_NOT_SUPPORTED (Triggered internally at ../aten/src/ATen/native/cudnn/Conv_v8.cpp:919.)\n",
      "  return F.conv1d(input, weight, bias, self.stride,\n",
      "/home/vincenzo/anaconda3/envs/vstk/lib/python3.12/site-packages/torch/nn/modules/conv.py:306: UserWarning: Plan failed with a cudnnException: CUDNN_BACKEND_EXECUTION_PLAN_DESCRIPTOR: cudnnFinalize Descriptor Failed cudnn_status: CUDNN_STATUS_NOT_SUPPORTED (Triggered internally at ../aten/src/ATen/native/cudnn/Conv_v8.cpp:919.)\n",
      "  return F.conv1d(input, weight, bias, self.stride,\n",
      "768it [00:22, 29.87it/s]/home/vincenzo/anaconda3/envs/vstk/lib/python3.12/site-packages/torch/nn/modules/conv.py:306: UserWarning: Plan failed with a cudnnException: CUDNN_BACKEND_EXECUTION_PLAN_DESCRIPTOR: cudnnFinalize Descriptor Failed cudnn_status: CUDNN_STATUS_NOT_SUPPORTED (Triggered internally at ../aten/src/ATen/native/cudnn/Conv_v8.cpp:919.)\n",
      "  return F.conv1d(input, weight, bias, self.stride,\n",
      "/home/vincenzo/anaconda3/envs/vstk/lib/python3.12/site-packages/torch/nn/modules/conv.py:306: UserWarning: Plan failed with a cudnnException: CUDNN_BACKEND_EXECUTION_PLAN_DESCRIPTOR: cudnnFinalize Descriptor Failed cudnn_status: CUDNN_STATUS_NOT_SUPPORTED (Triggered internally at ../aten/src/ATen/native/cudnn/Conv_v8.cpp:919.)\n",
      "  return F.conv1d(input, weight, bias, self.stride,\n",
      "785it [00:22, 42.17it/s]/home/vincenzo/anaconda3/envs/vstk/lib/python3.12/site-packages/torch/nn/modules/conv.py:306: UserWarning: Plan failed with a cudnnException: CUDNN_BACKEND_EXECUTION_PLAN_DESCRIPTOR: cudnnFinalize Descriptor Failed cudnn_status: CUDNN_STATUS_NOT_SUPPORTED (Triggered internally at ../aten/src/ATen/native/cudnn/Conv_v8.cpp:919.)\n",
      "  return F.conv1d(input, weight, bias, self.stride,\n",
      "796it [00:23, 44.14it/s]/home/vincenzo/anaconda3/envs/vstk/lib/python3.12/site-packages/torch/nn/modules/conv.py:306: UserWarning: Plan failed with a cudnnException: CUDNN_BACKEND_EXECUTION_PLAN_DESCRIPTOR: cudnnFinalize Descriptor Failed cudnn_status: CUDNN_STATUS_NOT_SUPPORTED (Triggered internally at ../aten/src/ATen/native/cudnn/Conv_v8.cpp:919.)\n",
      "  return F.conv1d(input, weight, bias, self.stride,\n",
      "/home/vincenzo/anaconda3/envs/vstk/lib/python3.12/site-packages/torch/nn/modules/conv.py:306: UserWarning: Plan failed with a cudnnException: CUDNN_BACKEND_EXECUTION_PLAN_DESCRIPTOR: cudnnFinalize Descriptor Failed cudnn_status: CUDNN_STATUS_NOT_SUPPORTED (Triggered internally at ../aten/src/ATen/native/cudnn/Conv_v8.cpp:919.)\n",
      "  return F.conv1d(input, weight, bias, self.stride,\n",
      "/home/vincenzo/anaconda3/envs/vstk/lib/python3.12/site-packages/torch/nn/modules/conv.py:306: UserWarning: Plan failed with a cudnnException: CUDNN_BACKEND_EXECUTION_PLAN_DESCRIPTOR: cudnnFinalize Descriptor Failed cudnn_status: CUDNN_STATUS_NOT_SUPPORTED (Triggered internally at ../aten/src/ATen/native/cudnn/Conv_v8.cpp:919.)\n",
      "  return F.conv1d(input, weight, bias, self.stride,\n",
      "801it [00:23, 35.43it/s]/home/vincenzo/anaconda3/envs/vstk/lib/python3.12/site-packages/torch/nn/modules/conv.py:306: UserWarning: Plan failed with a cudnnException: CUDNN_BACKEND_EXECUTION_PLAN_DESCRIPTOR: cudnnFinalize Descriptor Failed cudnn_status: CUDNN_STATUS_NOT_SUPPORTED (Triggered internally at ../aten/src/ATen/native/cudnn/Conv_v8.cpp:919.)\n",
      "  return F.conv1d(input, weight, bias, self.stride,\n",
      "/home/vincenzo/anaconda3/envs/vstk/lib/python3.12/site-packages/torch/nn/modules/conv.py:306: UserWarning: Plan failed with a cudnnException: CUDNN_BACKEND_EXECUTION_PLAN_DESCRIPTOR: cudnnFinalize Descriptor Failed cudnn_status: CUDNN_STATUS_NOT_SUPPORTED (Triggered internally at ../aten/src/ATen/native/cudnn/Conv_v8.cpp:919.)\n",
      "  return F.conv1d(input, weight, bias, self.stride,\n",
      "811it [00:23, 39.98it/s]/home/vincenzo/anaconda3/envs/vstk/lib/python3.12/site-packages/torch/nn/modules/conv.py:306: UserWarning: Plan failed with a cudnnException: CUDNN_BACKEND_EXECUTION_PLAN_DESCRIPTOR: cudnnFinalize Descriptor Failed cudnn_status: CUDNN_STATUS_NOT_SUPPORTED (Triggered internally at ../aten/src/ATen/native/cudnn/Conv_v8.cpp:919.)\n",
      "  return F.conv1d(input, weight, bias, self.stride,\n",
      "/home/vincenzo/anaconda3/envs/vstk/lib/python3.12/site-packages/torch/nn/modules/conv.py:306: UserWarning: Plan failed with a cudnnException: CUDNN_BACKEND_EXECUTION_PLAN_DESCRIPTOR: cudnnFinalize Descriptor Failed cudnn_status: CUDNN_STATUS_NOT_SUPPORTED (Triggered internally at ../aten/src/ATen/native/cudnn/Conv_v8.cpp:919.)\n",
      "  return F.conv1d(input, weight, bias, self.stride,\n",
      "/home/vincenzo/anaconda3/envs/vstk/lib/python3.12/site-packages/torch/nn/modules/conv.py:306: UserWarning: Plan failed with a cudnnException: CUDNN_BACKEND_EXECUTION_PLAN_DESCRIPTOR: cudnnFinalize Descriptor Failed cudnn_status: CUDNN_STATUS_NOT_SUPPORTED (Triggered internally at ../aten/src/ATen/native/cudnn/Conv_v8.cpp:919.)\n",
      "  return F.conv1d(input, weight, bias, self.stride,\n",
      "816it [00:23, 35.01it/s]/home/vincenzo/anaconda3/envs/vstk/lib/python3.12/site-packages/torch/nn/modules/conv.py:306: UserWarning: Plan failed with a cudnnException: CUDNN_BACKEND_EXECUTION_PLAN_DESCRIPTOR: cudnnFinalize Descriptor Failed cudnn_status: CUDNN_STATUS_NOT_SUPPORTED (Triggered internally at ../aten/src/ATen/native/cudnn/Conv_v8.cpp:919.)\n",
      "  return F.conv1d(input, weight, bias, self.stride,\n",
      "826it [00:23, 40.07it/s]/home/vincenzo/anaconda3/envs/vstk/lib/python3.12/site-packages/torch/nn/modules/conv.py:306: UserWarning: Plan failed with a cudnnException: CUDNN_BACKEND_EXECUTION_PLAN_DESCRIPTOR: cudnnFinalize Descriptor Failed cudnn_status: CUDNN_STATUS_NOT_SUPPORTED (Triggered internally at ../aten/src/ATen/native/cudnn/Conv_v8.cpp:919.)\n",
      "  return F.conv1d(input, weight, bias, self.stride,\n",
      "/home/vincenzo/anaconda3/envs/vstk/lib/python3.12/site-packages/torch/nn/modules/conv.py:306: UserWarning: Plan failed with a cudnnException: CUDNN_BACKEND_EXECUTION_PLAN_DESCRIPTOR: cudnnFinalize Descriptor Failed cudnn_status: CUDNN_STATUS_NOT_SUPPORTED (Triggered internally at ../aten/src/ATen/native/cudnn/Conv_v8.cpp:919.)\n",
      "  return F.conv1d(input, weight, bias, self.stride,\n",
      "832it [00:24, 44.17it/s]/home/vincenzo/anaconda3/envs/vstk/lib/python3.12/site-packages/torch/nn/modules/conv.py:306: UserWarning: Plan failed with a cudnnException: CUDNN_BACKEND_EXECUTION_PLAN_DESCRIPTOR: cudnnFinalize Descriptor Failed cudnn_status: CUDNN_STATUS_NOT_SUPPORTED (Triggered internally at ../aten/src/ATen/native/cudnn/Conv_v8.cpp:919.)\n",
      "  return F.conv1d(input, weight, bias, self.stride,\n",
      "837it [00:24, 45.46it/s]/home/vincenzo/anaconda3/envs/vstk/lib/python3.12/site-packages/torch/nn/modules/conv.py:306: UserWarning: Plan failed with a cudnnException: CUDNN_BACKEND_EXECUTION_PLAN_DESCRIPTOR: cudnnFinalize Descriptor Failed cudnn_status: CUDNN_STATUS_NOT_SUPPORTED (Triggered internally at ../aten/src/ATen/native/cudnn/Conv_v8.cpp:919.)\n",
      "  return F.conv1d(input, weight, bias, self.stride,\n",
      "847it [00:24, 41.58it/s]/home/vincenzo/anaconda3/envs/vstk/lib/python3.12/site-packages/torch/nn/modules/conv.py:306: UserWarning: Plan failed with a cudnnException: CUDNN_BACKEND_EXECUTION_PLAN_DESCRIPTOR: cudnnFinalize Descriptor Failed cudnn_status: CUDNN_STATUS_NOT_SUPPORTED (Triggered internally at ../aten/src/ATen/native/cudnn/Conv_v8.cpp:919.)\n",
      "  return F.conv1d(input, weight, bias, self.stride,\n",
      "857it [00:24, 41.05it/s]/home/vincenzo/anaconda3/envs/vstk/lib/python3.12/site-packages/torch/nn/modules/conv.py:306: UserWarning: Plan failed with a cudnnException: CUDNN_BACKEND_EXECUTION_PLAN_DESCRIPTOR: cudnnFinalize Descriptor Failed cudnn_status: CUDNN_STATUS_NOT_SUPPORTED (Triggered internally at ../aten/src/ATen/native/cudnn/Conv_v8.cpp:919.)\n",
      "  return F.conv1d(input, weight, bias, self.stride,\n",
      "/home/vincenzo/anaconda3/envs/vstk/lib/python3.12/site-packages/torch/nn/modules/conv.py:306: UserWarning: Plan failed with a cudnnException: CUDNN_BACKEND_EXECUTION_PLAN_DESCRIPTOR: cudnnFinalize Descriptor Failed cudnn_status: CUDNN_STATUS_NOT_SUPPORTED (Triggered internally at ../aten/src/ATen/native/cudnn/Conv_v8.cpp:919.)\n",
      "  return F.conv1d(input, weight, bias, self.stride,\n",
      "862it [00:24, 41.38it/s]/home/vincenzo/anaconda3/envs/vstk/lib/python3.12/site-packages/torch/nn/modules/conv.py:306: UserWarning: Plan failed with a cudnnException: CUDNN_BACKEND_EXECUTION_PLAN_DESCRIPTOR: cudnnFinalize Descriptor Failed cudnn_status: CUDNN_STATUS_NOT_SUPPORTED (Triggered internally at ../aten/src/ATen/native/cudnn/Conv_v8.cpp:919.)\n",
      "  return F.conv1d(input, weight, bias, self.stride,\n",
      "/home/vincenzo/anaconda3/envs/vstk/lib/python3.12/site-packages/torch/nn/modules/conv.py:306: UserWarning: Plan failed with a cudnnException: CUDNN_BACKEND_EXECUTION_PLAN_DESCRIPTOR: cudnnFinalize Descriptor Failed cudnn_status: CUDNN_STATUS_NOT_SUPPORTED (Triggered internally at ../aten/src/ATen/native/cudnn/Conv_v8.cpp:919.)\n",
      "  return F.conv1d(input, weight, bias, self.stride,\n",
      "880it [00:25, 52.21it/s]/home/vincenzo/anaconda3/envs/vstk/lib/python3.12/site-packages/torch/nn/modules/conv.py:306: UserWarning: Plan failed with a cudnnException: CUDNN_BACKEND_EXECUTION_PLAN_DESCRIPTOR: cudnnFinalize Descriptor Failed cudnn_status: CUDNN_STATUS_NOT_SUPPORTED (Triggered internally at ../aten/src/ATen/native/cudnn/Conv_v8.cpp:919.)\n",
      "  return F.conv1d(input, weight, bias, self.stride,\n",
      "886it [00:25, 41.13it/s]/home/vincenzo/anaconda3/envs/vstk/lib/python3.12/site-packages/torch/nn/modules/conv.py:306: UserWarning: Plan failed with a cudnnException: CUDNN_BACKEND_EXECUTION_PLAN_DESCRIPTOR: cudnnFinalize Descriptor Failed cudnn_status: CUDNN_STATUS_NOT_SUPPORTED (Triggered internally at ../aten/src/ATen/native/cudnn/Conv_v8.cpp:919.)\n",
      "  return F.conv1d(input, weight, bias, self.stride,\n",
      "/home/vincenzo/anaconda3/envs/vstk/lib/python3.12/site-packages/torch/nn/modules/conv.py:306: UserWarning: Plan failed with a cudnnException: CUDNN_BACKEND_EXECUTION_PLAN_DESCRIPTOR: cudnnFinalize Descriptor Failed cudnn_status: CUDNN_STATUS_NOT_SUPPORTED (Triggered internally at ../aten/src/ATen/native/cudnn/Conv_v8.cpp:919.)\n",
      "  return F.conv1d(input, weight, bias, self.stride,\n",
      "891it [00:25, 22.89it/s]/home/vincenzo/anaconda3/envs/vstk/lib/python3.12/site-packages/torch/nn/modules/conv.py:306: UserWarning: Plan failed with a cudnnException: CUDNN_BACKEND_EXECUTION_PLAN_DESCRIPTOR: cudnnFinalize Descriptor Failed cudnn_status: CUDNN_STATUS_NOT_SUPPORTED (Triggered internally at ../aten/src/ATen/native/cudnn/Conv_v8.cpp:919.)\n",
      "  return F.conv1d(input, weight, bias, self.stride,\n",
      "/home/vincenzo/anaconda3/envs/vstk/lib/python3.12/site-packages/torch/nn/modules/conv.py:306: UserWarning: Plan failed with a cudnnException: CUDNN_BACKEND_EXECUTION_PLAN_DESCRIPTOR: cudnnFinalize Descriptor Failed cudnn_status: CUDNN_STATUS_NOT_SUPPORTED (Triggered internally at ../aten/src/ATen/native/cudnn/Conv_v8.cpp:919.)\n",
      "  return F.conv1d(input, weight, bias, self.stride,\n",
      "902it [00:26, 29.73it/s]/home/vincenzo/anaconda3/envs/vstk/lib/python3.12/site-packages/torch/nn/modules/conv.py:306: UserWarning: Plan failed with a cudnnException: CUDNN_BACKEND_EXECUTION_PLAN_DESCRIPTOR: cudnnFinalize Descriptor Failed cudnn_status: CUDNN_STATUS_NOT_SUPPORTED (Triggered internally at ../aten/src/ATen/native/cudnn/Conv_v8.cpp:919.)\n",
      "  return F.conv1d(input, weight, bias, self.stride,\n",
      "908it [00:26, 34.87it/s]/home/vincenzo/anaconda3/envs/vstk/lib/python3.12/site-packages/torch/nn/modules/conv.py:306: UserWarning: Plan failed with a cudnnException: CUDNN_BACKEND_EXECUTION_PLAN_DESCRIPTOR: cudnnFinalize Descriptor Failed cudnn_status: CUDNN_STATUS_NOT_SUPPORTED (Triggered internally at ../aten/src/ATen/native/cudnn/Conv_v8.cpp:919.)\n",
      "  return F.conv1d(input, weight, bias, self.stride,\n",
      "913it [00:26, 26.35it/s]/home/vincenzo/anaconda3/envs/vstk/lib/python3.12/site-packages/torch/nn/modules/conv.py:306: UserWarning: Plan failed with a cudnnException: CUDNN_BACKEND_EXECUTION_PLAN_DESCRIPTOR: cudnnFinalize Descriptor Failed cudnn_status: CUDNN_STATUS_NOT_SUPPORTED (Triggered internally at ../aten/src/ATen/native/cudnn/Conv_v8.cpp:919.)\n",
      "  return F.conv1d(input, weight, bias, self.stride,\n",
      "918it [00:26, 30.09it/s]/home/vincenzo/anaconda3/envs/vstk/lib/python3.12/site-packages/torch/nn/modules/conv.py:306: UserWarning: Plan failed with a cudnnException: CUDNN_BACKEND_EXECUTION_PLAN_DESCRIPTOR: cudnnFinalize Descriptor Failed cudnn_status: CUDNN_STATUS_NOT_SUPPORTED (Triggered internally at ../aten/src/ATen/native/cudnn/Conv_v8.cpp:919.)\n",
      "  return F.conv1d(input, weight, bias, self.stride,\n",
      "/home/vincenzo/anaconda3/envs/vstk/lib/python3.12/site-packages/torch/nn/modules/conv.py:306: UserWarning: Plan failed with a cudnnException: CUDNN_BACKEND_EXECUTION_PLAN_DESCRIPTOR: cudnnFinalize Descriptor Failed cudnn_status: CUDNN_STATUS_NOT_SUPPORTED (Triggered internally at ../aten/src/ATen/native/cudnn/Conv_v8.cpp:919.)\n",
      "  return F.conv1d(input, weight, bias, self.stride,\n",
      "922it [00:26, 31.27it/s]/home/vincenzo/anaconda3/envs/vstk/lib/python3.12/site-packages/torch/nn/modules/conv.py:306: UserWarning: Plan failed with a cudnnException: CUDNN_BACKEND_EXECUTION_PLAN_DESCRIPTOR: cudnnFinalize Descriptor Failed cudnn_status: CUDNN_STATUS_NOT_SUPPORTED (Triggered internally at ../aten/src/ATen/native/cudnn/Conv_v8.cpp:919.)\n",
      "  return F.conv1d(input, weight, bias, self.stride,\n",
      "932it [00:26, 35.79it/s]/home/vincenzo/anaconda3/envs/vstk/lib/python3.12/site-packages/torch/nn/modules/conv.py:306: UserWarning: Plan failed with a cudnnException: CUDNN_BACKEND_EXECUTION_PLAN_DESCRIPTOR: cudnnFinalize Descriptor Failed cudnn_status: CUDNN_STATUS_NOT_SUPPORTED (Triggered internally at ../aten/src/ATen/native/cudnn/Conv_v8.cpp:919.)\n",
      "  return F.conv1d(input, weight, bias, self.stride,\n",
      "936it [00:27, 36.75it/s]/home/vincenzo/anaconda3/envs/vstk/lib/python3.12/site-packages/torch/nn/modules/conv.py:306: UserWarning: Plan failed with a cudnnException: CUDNN_BACKEND_EXECUTION_PLAN_DESCRIPTOR: cudnnFinalize Descriptor Failed cudnn_status: CUDNN_STATUS_NOT_SUPPORTED (Triggered internally at ../aten/src/ATen/native/cudnn/Conv_v8.cpp:919.)\n",
      "  return F.conv1d(input, weight, bias, self.stride,\n",
      "941it [00:27, 39.15it/s]/home/vincenzo/anaconda3/envs/vstk/lib/python3.12/site-packages/torch/nn/modules/conv.py:306: UserWarning: Plan failed with a cudnnException: CUDNN_BACKEND_EXECUTION_PLAN_DESCRIPTOR: cudnnFinalize Descriptor Failed cudnn_status: CUDNN_STATUS_NOT_SUPPORTED (Triggered internally at ../aten/src/ATen/native/cudnn/Conv_v8.cpp:919.)\n",
      "  return F.conv1d(input, weight, bias, self.stride,\n",
      "/home/vincenzo/anaconda3/envs/vstk/lib/python3.12/site-packages/torch/nn/modules/conv.py:306: UserWarning: Plan failed with a cudnnException: CUDNN_BACKEND_EXECUTION_PLAN_DESCRIPTOR: cudnnFinalize Descriptor Failed cudnn_status: CUDNN_STATUS_NOT_SUPPORTED (Triggered internally at ../aten/src/ATen/native/cudnn/Conv_v8.cpp:919.)\n",
      "  return F.conv1d(input, weight, bias, self.stride,\n",
      "952it [00:27, 33.07it/s]/home/vincenzo/anaconda3/envs/vstk/lib/python3.12/site-packages/torch/nn/modules/conv.py:306: UserWarning: Plan failed with a cudnnException: CUDNN_BACKEND_EXECUTION_PLAN_DESCRIPTOR: cudnnFinalize Descriptor Failed cudnn_status: CUDNN_STATUS_NOT_SUPPORTED (Triggered internally at ../aten/src/ATen/native/cudnn/Conv_v8.cpp:919.)\n",
      "  return F.conv1d(input, weight, bias, self.stride,\n",
      "957it [00:27, 35.29it/s]/home/vincenzo/anaconda3/envs/vstk/lib/python3.12/site-packages/torch/nn/modules/conv.py:306: UserWarning: Plan failed with a cudnnException: CUDNN_BACKEND_EXECUTION_PLAN_DESCRIPTOR: cudnnFinalize Descriptor Failed cudnn_status: CUDNN_STATUS_NOT_SUPPORTED (Triggered internally at ../aten/src/ATen/native/cudnn/Conv_v8.cpp:919.)\n",
      "  return F.conv1d(input, weight, bias, self.stride,\n",
      "/home/vincenzo/anaconda3/envs/vstk/lib/python3.12/site-packages/torch/nn/modules/conv.py:306: UserWarning: Plan failed with a cudnnException: CUDNN_BACKEND_EXECUTION_PLAN_DESCRIPTOR: cudnnFinalize Descriptor Failed cudnn_status: CUDNN_STATUS_NOT_SUPPORTED (Triggered internally at ../aten/src/ATen/native/cudnn/Conv_v8.cpp:919.)\n",
      "  return F.conv1d(input, weight, bias, self.stride,\n",
      "/home/vincenzo/anaconda3/envs/vstk/lib/python3.12/site-packages/torch/nn/modules/conv.py:306: UserWarning: Plan failed with a cudnnException: CUDNN_BACKEND_EXECUTION_PLAN_DESCRIPTOR: cudnnFinalize Descriptor Failed cudnn_status: CUDNN_STATUS_NOT_SUPPORTED (Triggered internally at ../aten/src/ATen/native/cudnn/Conv_v8.cpp:919.)\n",
      "  return F.conv1d(input, weight, bias, self.stride,\n",
      "963it [00:27, 39.31it/s]/home/vincenzo/anaconda3/envs/vstk/lib/python3.12/site-packages/torch/nn/modules/conv.py:306: UserWarning: Plan failed with a cudnnException: CUDNN_BACKEND_EXECUTION_PLAN_DESCRIPTOR: cudnnFinalize Descriptor Failed cudnn_status: CUDNN_STATUS_NOT_SUPPORTED (Triggered internally at ../aten/src/ATen/native/cudnn/Conv_v8.cpp:919.)\n",
      "  return F.conv1d(input, weight, bias, self.stride,\n",
      "/home/vincenzo/anaconda3/envs/vstk/lib/python3.12/site-packages/torch/nn/modules/conv.py:306: UserWarning: Plan failed with a cudnnException: CUDNN_BACKEND_EXECUTION_PLAN_DESCRIPTOR: cudnnFinalize Descriptor Failed cudnn_status: CUDNN_STATUS_NOT_SUPPORTED (Triggered internally at ../aten/src/ATen/native/cudnn/Conv_v8.cpp:919.)\n",
      "  return F.conv1d(input, weight, bias, self.stride,\n",
      "968it [00:27, 41.67it/s]/home/vincenzo/anaconda3/envs/vstk/lib/python3.12/site-packages/torch/nn/modules/conv.py:306: UserWarning: Plan failed with a cudnnException: CUDNN_BACKEND_EXECUTION_PLAN_DESCRIPTOR: cudnnFinalize Descriptor Failed cudnn_status: CUDNN_STATUS_NOT_SUPPORTED (Triggered internally at ../aten/src/ATen/native/cudnn/Conv_v8.cpp:919.)\n",
      "  return F.conv1d(input, weight, bias, self.stride,\n",
      "973it [00:28, 32.07it/s]/home/vincenzo/anaconda3/envs/vstk/lib/python3.12/site-packages/torch/nn/modules/conv.py:306: UserWarning: Plan failed with a cudnnException: CUDNN_BACKEND_EXECUTION_PLAN_DESCRIPTOR: cudnnFinalize Descriptor Failed cudnn_status: CUDNN_STATUS_NOT_SUPPORTED (Triggered internally at ../aten/src/ATen/native/cudnn/Conv_v8.cpp:919.)\n",
      "  return F.conv1d(input, weight, bias, self.stride,\n",
      "1003it [00:28, 46.83it/s]/home/vincenzo/anaconda3/envs/vstk/lib/python3.12/site-packages/torch/nn/modules/conv.py:306: UserWarning: Plan failed with a cudnnException: CUDNN_BACKEND_EXECUTION_PLAN_DESCRIPTOR: cudnnFinalize Descriptor Failed cudnn_status: CUDNN_STATUS_NOT_SUPPORTED (Triggered internally at ../aten/src/ATen/native/cudnn/Conv_v8.cpp:919.)\n",
      "  return F.conv1d(input, weight, bias, self.stride,\n",
      "/home/vincenzo/anaconda3/envs/vstk/lib/python3.12/site-packages/torch/nn/modules/conv.py:306: UserWarning: Plan failed with a cudnnException: CUDNN_BACKEND_EXECUTION_PLAN_DESCRIPTOR: cudnnFinalize Descriptor Failed cudnn_status: CUDNN_STATUS_NOT_SUPPORTED (Triggered internally at ../aten/src/ATen/native/cudnn/Conv_v8.cpp:919.)\n",
      "  return F.conv1d(input, weight, bias, self.stride,\n",
      "1009it [00:28, 48.35it/s]/home/vincenzo/anaconda3/envs/vstk/lib/python3.12/site-packages/torch/nn/modules/conv.py:306: UserWarning: Plan failed with a cudnnException: CUDNN_BACKEND_EXECUTION_PLAN_DESCRIPTOR: cudnnFinalize Descriptor Failed cudnn_status: CUDNN_STATUS_NOT_SUPPORTED (Triggered internally at ../aten/src/ATen/native/cudnn/Conv_v8.cpp:919.)\n",
      "  return F.conv1d(input, weight, bias, self.stride,\n",
      "1019it [00:29, 47.89it/s]/home/vincenzo/anaconda3/envs/vstk/lib/python3.12/site-packages/torch/nn/modules/conv.py:306: UserWarning: Plan failed with a cudnnException: CUDNN_BACKEND_EXECUTION_PLAN_DESCRIPTOR: cudnnFinalize Descriptor Failed cudnn_status: CUDNN_STATUS_NOT_SUPPORTED (Triggered internally at ../aten/src/ATen/native/cudnn/Conv_v8.cpp:919.)\n",
      "  return F.conv1d(input, weight, bias, self.stride,\n",
      "1024it [00:29, 37.22it/s]/home/vincenzo/anaconda3/envs/vstk/lib/python3.12/site-packages/torch/nn/modules/conv.py:306: UserWarning: Plan failed with a cudnnException: CUDNN_BACKEND_EXECUTION_PLAN_DESCRIPTOR: cudnnFinalize Descriptor Failed cudnn_status: CUDNN_STATUS_NOT_SUPPORTED (Triggered internally at ../aten/src/ATen/native/cudnn/Conv_v8.cpp:919.)\n",
      "  return F.conv1d(input, weight, bias, self.stride,\n",
      "/home/vincenzo/anaconda3/envs/vstk/lib/python3.12/site-packages/torch/nn/modules/conv.py:306: UserWarning: Plan failed with a cudnnException: CUDNN_BACKEND_EXECUTION_PLAN_DESCRIPTOR: cudnnFinalize Descriptor Failed cudnn_status: CUDNN_STATUS_NOT_SUPPORTED (Triggered internally at ../aten/src/ATen/native/cudnn/Conv_v8.cpp:919.)\n",
      "  return F.conv1d(input, weight, bias, self.stride,\n",
      "/home/vincenzo/anaconda3/envs/vstk/lib/python3.12/site-packages/torch/nn/modules/conv.py:306: UserWarning: Plan failed with a cudnnException: CUDNN_BACKEND_EXECUTION_PLAN_DESCRIPTOR: cudnnFinalize Descriptor Failed cudnn_status: CUDNN_STATUS_NOT_SUPPORTED (Triggered internally at ../aten/src/ATen/native/cudnn/Conv_v8.cpp:919.)\n",
      "  return F.conv1d(input, weight, bias, self.stride,\n",
      "1030it [00:29, 42.36it/s]/home/vincenzo/anaconda3/envs/vstk/lib/python3.12/site-packages/torch/nn/modules/conv.py:306: UserWarning: Plan failed with a cudnnException: CUDNN_BACKEND_EXECUTION_PLAN_DESCRIPTOR: cudnnFinalize Descriptor Failed cudnn_status: CUDNN_STATUS_NOT_SUPPORTED (Triggered internally at ../aten/src/ATen/native/cudnn/Conv_v8.cpp:919.)\n",
      "  return F.conv1d(input, weight, bias, self.stride,\n",
      "1035it [00:29, 37.53it/s]/home/vincenzo/anaconda3/envs/vstk/lib/python3.12/site-packages/torch/nn/modules/conv.py:306: UserWarning: Plan failed with a cudnnException: CUDNN_BACKEND_EXECUTION_PLAN_DESCRIPTOR: cudnnFinalize Descriptor Failed cudnn_status: CUDNN_STATUS_NOT_SUPPORTED (Triggered internally at ../aten/src/ATen/native/cudnn/Conv_v8.cpp:919.)\n",
      "  return F.conv1d(input, weight, bias, self.stride,\n",
      "1040it [00:29, 39.70it/s]/home/vincenzo/anaconda3/envs/vstk/lib/python3.12/site-packages/torch/nn/modules/conv.py:306: UserWarning: Plan failed with a cudnnException: CUDNN_BACKEND_EXECUTION_PLAN_DESCRIPTOR: cudnnFinalize Descriptor Failed cudnn_status: CUDNN_STATUS_NOT_SUPPORTED (Triggered internally at ../aten/src/ATen/native/cudnn/Conv_v8.cpp:919.)\n",
      "  return F.conv1d(input, weight, bias, self.stride,\n",
      "/home/vincenzo/anaconda3/envs/vstk/lib/python3.12/site-packages/torch/nn/modules/conv.py:306: UserWarning: Plan failed with a cudnnException: CUDNN_BACKEND_EXECUTION_PLAN_DESCRIPTOR: cudnnFinalize Descriptor Failed cudnn_status: CUDNN_STATUS_NOT_SUPPORTED (Triggered internally at ../aten/src/ATen/native/cudnn/Conv_v8.cpp:919.)\n",
      "  return F.conv1d(input, weight, bias, self.stride,\n",
      "/home/vincenzo/anaconda3/envs/vstk/lib/python3.12/site-packages/torch/nn/modules/conv.py:306: UserWarning: Plan failed with a cudnnException: CUDNN_BACKEND_EXECUTION_PLAN_DESCRIPTOR: cudnnFinalize Descriptor Failed cudnn_status: CUDNN_STATUS_NOT_SUPPORTED (Triggered internally at ../aten/src/ATen/native/cudnn/Conv_v8.cpp:919.)\n",
      "  return F.conv1d(input, weight, bias, self.stride,\n",
      "1045it [00:29, 40.80it/s]/home/vincenzo/anaconda3/envs/vstk/lib/python3.12/site-packages/torch/nn/modules/conv.py:306: UserWarning: Plan failed with a cudnnException: CUDNN_BACKEND_EXECUTION_PLAN_DESCRIPTOR: cudnnFinalize Descriptor Failed cudnn_status: CUDNN_STATUS_NOT_SUPPORTED (Triggered internally at ../aten/src/ATen/native/cudnn/Conv_v8.cpp:919.)\n",
      "  return F.conv1d(input, weight, bias, self.stride,\n",
      "1051it [00:29, 45.10it/s]/home/vincenzo/anaconda3/envs/vstk/lib/python3.12/site-packages/torch/nn/modules/conv.py:306: UserWarning: Plan failed with a cudnnException: CUDNN_BACKEND_EXECUTION_PLAN_DESCRIPTOR: cudnnFinalize Descriptor Failed cudnn_status: CUDNN_STATUS_NOT_SUPPORTED (Triggered internally at ../aten/src/ATen/native/cudnn/Conv_v8.cpp:919.)\n",
      "  return F.conv1d(input, weight, bias, self.stride,\n",
      "/home/vincenzo/anaconda3/envs/vstk/lib/python3.12/site-packages/torch/nn/modules/conv.py:306: UserWarning: Plan failed with a cudnnException: CUDNN_BACKEND_EXECUTION_PLAN_DESCRIPTOR: cudnnFinalize Descriptor Failed cudnn_status: CUDNN_STATUS_NOT_SUPPORTED (Triggered internally at ../aten/src/ATen/native/cudnn/Conv_v8.cpp:919.)\n",
      "  return F.conv1d(input, weight, bias, self.stride,\n",
      "1056it [00:30, 24.95it/s]/home/vincenzo/anaconda3/envs/vstk/lib/python3.12/site-packages/torch/nn/modules/conv.py:306: UserWarning: Plan failed with a cudnnException: CUDNN_BACKEND_EXECUTION_PLAN_DESCRIPTOR: cudnnFinalize Descriptor Failed cudnn_status: CUDNN_STATUS_NOT_SUPPORTED (Triggered internally at ../aten/src/ATen/native/cudnn/Conv_v8.cpp:919.)\n",
      "  return F.conv1d(input, weight, bias, self.stride,\n",
      "/home/vincenzo/anaconda3/envs/vstk/lib/python3.12/site-packages/torch/nn/modules/conv.py:306: UserWarning: Plan failed with a cudnnException: CUDNN_BACKEND_EXECUTION_PLAN_DESCRIPTOR: cudnnFinalize Descriptor Failed cudnn_status: CUDNN_STATUS_NOT_SUPPORTED (Triggered internally at ../aten/src/ATen/native/cudnn/Conv_v8.cpp:919.)\n",
      "  return F.conv1d(input, weight, bias, self.stride,\n",
      "/home/vincenzo/anaconda3/envs/vstk/lib/python3.12/site-packages/torch/nn/modules/conv.py:306: UserWarning: Plan failed with a cudnnException: CUDNN_BACKEND_EXECUTION_PLAN_DESCRIPTOR: cudnnFinalize Descriptor Failed cudnn_status: CUDNN_STATUS_NOT_SUPPORTED (Triggered internally at ../aten/src/ATen/native/cudnn/Conv_v8.cpp:919.)\n",
      "  return F.conv1d(input, weight, bias, self.stride,\n",
      "1061it [00:30, 34.87it/s]\n"
     ]
    },
    {
     "name": "stdout",
     "output_type": "stream",
     "text": [
      "Starting validation epoch 1/64\n"
     ]
    },
    {
     "name": "stderr",
     "output_type": "stream",
     "text": [
      "  0%|                                                                                                                                                                                    | 0/354 [00:00<?, ?it/s]/home/vincenzo/anaconda3/envs/vstk/lib/python3.12/site-packages/torch/nn/modules/conv.py:306: UserWarning: Plan failed with a cudnnException: CUDNN_BACKEND_EXECUTION_PLAN_DESCRIPTOR: cudnnFinalize Descriptor Failed cudnn_status: CUDNN_STATUS_NOT_SUPPORTED (Triggered internally at ../aten/src/ATen/native/cudnn/Conv_v8.cpp:919.)\n",
      "  return F.conv1d(input, weight, bias, self.stride,\n",
      "/home/vincenzo/anaconda3/envs/vstk/lib/python3.12/site-packages/torch/nn/modules/conv.py:306: UserWarning: Plan failed with a cudnnException: CUDNN_BACKEND_EXECUTION_PLAN_DESCRIPTOR: cudnnFinalize Descriptor Failed cudnn_status: CUDNN_STATUS_NOT_SUPPORTED (Triggered internally at ../aten/src/ATen/native/cudnn/Conv_v8.cpp:919.)\n",
      "  return F.conv1d(input, weight, bias, self.stride,\n",
      "  2%|██▉                                                                                                                                                                         | 6/354 [00:00<00:13, 25.28it/s]/home/vincenzo/anaconda3/envs/vstk/lib/python3.12/site-packages/torch/nn/modules/conv.py:306: UserWarning: Plan failed with a cudnnException: CUDNN_BACKEND_EXECUTION_PLAN_DESCRIPTOR: cudnnFinalize Descriptor Failed cudnn_status: CUDNN_STATUS_NOT_SUPPORTED (Triggered internally at ../aten/src/ATen/native/cudnn/Conv_v8.cpp:919.)\n",
      "  return F.conv1d(input, weight, bias, self.stride,\n",
      "  3%|█████▊                                                                                                                                                                     | 12/354 [00:00<00:08, 38.10it/s]/home/vincenzo/anaconda3/envs/vstk/lib/python3.12/site-packages/torch/nn/modules/conv.py:306: UserWarning: Plan failed with a cudnnException: CUDNN_BACKEND_EXECUTION_PLAN_DESCRIPTOR: cudnnFinalize Descriptor Failed cudnn_status: CUDNN_STATUS_NOT_SUPPORTED (Triggered internally at ../aten/src/ATen/native/cudnn/Conv_v8.cpp:919.)\n",
      "  return F.conv1d(input, weight, bias, self.stride,\n",
      "  5%|████████▋                                                                                                                                                                  | 18/354 [00:00<00:07, 42.10it/s]/home/vincenzo/anaconda3/envs/vstk/lib/python3.12/site-packages/torch/nn/modules/conv.py:306: UserWarning: Plan failed with a cudnnException: CUDNN_BACKEND_EXECUTION_PLAN_DESCRIPTOR: cudnnFinalize Descriptor Failed cudnn_status: CUDNN_STATUS_NOT_SUPPORTED (Triggered internally at ../aten/src/ATen/native/cudnn/Conv_v8.cpp:919.)\n",
      "  return F.conv1d(input, weight, bias, self.stride,\n",
      "  8%|██████████████                                                                                                                                                             | 29/354 [00:00<00:07, 46.34it/s]/home/vincenzo/anaconda3/envs/vstk/lib/python3.12/site-packages/torch/nn/modules/conv.py:306: UserWarning: Plan failed with a cudnnException: CUDNN_BACKEND_EXECUTION_PLAN_DESCRIPTOR: cudnnFinalize Descriptor Failed cudnn_status: CUDNN_STATUS_NOT_SUPPORTED (Triggered internally at ../aten/src/ATen/native/cudnn/Conv_v8.cpp:919.)\n",
      "  return F.conv1d(input, weight, bias, self.stride,\n",
      "/home/vincenzo/anaconda3/envs/vstk/lib/python3.12/site-packages/torch/nn/modules/conv.py:306: UserWarning: Plan failed with a cudnnException: CUDNN_BACKEND_EXECUTION_PLAN_DESCRIPTOR: cudnnFinalize Descriptor Failed cudnn_status: CUDNN_STATUS_NOT_SUPPORTED (Triggered internally at ../aten/src/ATen/native/cudnn/Conv_v8.cpp:919.)\n",
      "  return F.conv1d(input, weight, bias, self.stride,\n",
      " 10%|████████████████▍                                                                                                                                                          | 34/354 [00:00<00:07, 41.80it/s]/home/vincenzo/anaconda3/envs/vstk/lib/python3.12/site-packages/torch/nn/modules/conv.py:306: UserWarning: Plan failed with a cudnnException: CUDNN_BACKEND_EXECUTION_PLAN_DESCRIPTOR: cudnnFinalize Descriptor Failed cudnn_status: CUDNN_STATUS_NOT_SUPPORTED (Triggered internally at ../aten/src/ATen/native/cudnn/Conv_v8.cpp:919.)\n",
      "  return F.conv1d(input, weight, bias, self.stride,\n",
      " 12%|█████████████████████▎                                                                                                                                                     | 44/354 [00:01<00:07, 42.93it/s]/home/vincenzo/anaconda3/envs/vstk/lib/python3.12/site-packages/torch/nn/modules/conv.py:306: UserWarning: Plan failed with a cudnnException: CUDNN_BACKEND_EXECUTION_PLAN_DESCRIPTOR: cudnnFinalize Descriptor Failed cudnn_status: CUDNN_STATUS_NOT_SUPPORTED (Triggered internally at ../aten/src/ATen/native/cudnn/Conv_v8.cpp:919.)\n",
      "  return F.conv1d(input, weight, bias, self.stride,\n",
      "/home/vincenzo/anaconda3/envs/vstk/lib/python3.12/site-packages/torch/nn/modules/conv.py:306: UserWarning: Plan failed with a cudnnException: CUDNN_BACKEND_EXECUTION_PLAN_DESCRIPTOR: cudnnFinalize Descriptor Failed cudnn_status: CUDNN_STATUS_NOT_SUPPORTED (Triggered internally at ../aten/src/ATen/native/cudnn/Conv_v8.cpp:919.)\n",
      "  return F.conv1d(input, weight, bias, self.stride,\n",
      " 14%|███████████████████████▋                                                                                                                                                   | 49/354 [00:01<00:10, 28.01it/s]/home/vincenzo/anaconda3/envs/vstk/lib/python3.12/site-packages/torch/nn/modules/conv.py:306: UserWarning: Plan failed with a cudnnException: CUDNN_BACKEND_EXECUTION_PLAN_DESCRIPTOR: cudnnFinalize Descriptor Failed cudnn_status: CUDNN_STATUS_NOT_SUPPORTED (Triggered internally at ../aten/src/ATen/native/cudnn/Conv_v8.cpp:919.)\n",
      "  return F.conv1d(input, weight, bias, self.stride,\n",
      "/home/vincenzo/anaconda3/envs/vstk/lib/python3.12/site-packages/torch/nn/modules/conv.py:306: UserWarning: Plan failed with a cudnnException: CUDNN_BACKEND_EXECUTION_PLAN_DESCRIPTOR: cudnnFinalize Descriptor Failed cudnn_status: CUDNN_STATUS_NOT_SUPPORTED (Triggered internally at ../aten/src/ATen/native/cudnn/Conv_v8.cpp:919.)\n",
      "  return F.conv1d(input, weight, bias, self.stride,\n",
      " 17%|████████████████████████████▉                                                                                                                                              | 60/354 [00:01<00:09, 29.71it/s]/home/vincenzo/anaconda3/envs/vstk/lib/python3.12/site-packages/torch/nn/modules/conv.py:306: UserWarning: Plan failed with a cudnnException: CUDNN_BACKEND_EXECUTION_PLAN_DESCRIPTOR: cudnnFinalize Descriptor Failed cudnn_status: CUDNN_STATUS_NOT_SUPPORTED (Triggered internally at ../aten/src/ATen/native/cudnn/Conv_v8.cpp:919.)\n",
      "  return F.conv1d(input, weight, bias, self.stride,\n",
      "/home/vincenzo/anaconda3/envs/vstk/lib/python3.12/site-packages/torch/nn/modules/conv.py:306: UserWarning: Plan failed with a cudnnException: CUDNN_BACKEND_EXECUTION_PLAN_DESCRIPTOR: cudnnFinalize Descriptor Failed cudnn_status: CUDNN_STATUS_NOT_SUPPORTED (Triggered internally at ../aten/src/ATen/native/cudnn/Conv_v8.cpp:919.)\n",
      "  return F.conv1d(input, weight, bias, self.stride,\n",
      "/home/vincenzo/anaconda3/envs/vstk/lib/python3.12/site-packages/torch/nn/modules/conv.py:306: UserWarning: Plan failed with a cudnnException: CUDNN_BACKEND_EXECUTION_PLAN_DESCRIPTOR: cudnnFinalize Descriptor Failed cudnn_status: CUDNN_STATUS_NOT_SUPPORTED (Triggered internally at ../aten/src/ATen/native/cudnn/Conv_v8.cpp:919.)\n",
      "  return F.conv1d(input, weight, bias, self.stride,\n",
      " 19%|███████████████████████████████▉                                                                                                                                           | 66/354 [00:01<00:08, 35.46it/s]/home/vincenzo/anaconda3/envs/vstk/lib/python3.12/site-packages/torch/nn/modules/conv.py:306: UserWarning: Plan failed with a cudnnException: CUDNN_BACKEND_EXECUTION_PLAN_DESCRIPTOR: cudnnFinalize Descriptor Failed cudnn_status: CUDNN_STATUS_NOT_SUPPORTED (Triggered internally at ../aten/src/ATen/native/cudnn/Conv_v8.cpp:919.)\n",
      "  return F.conv1d(input, weight, bias, self.stride,\n",
      " 20%|██████████████████████████████████▊                                                                                                                                        | 72/354 [00:01<00:06, 40.62it/s]/home/vincenzo/anaconda3/envs/vstk/lib/python3.12/site-packages/torch/nn/modules/conv.py:306: UserWarning: Plan failed with a cudnnException: CUDNN_BACKEND_EXECUTION_PLAN_DESCRIPTOR: cudnnFinalize Descriptor Failed cudnn_status: CUDNN_STATUS_NOT_SUPPORTED (Triggered internally at ../aten/src/ATen/native/cudnn/Conv_v8.cpp:919.)\n",
      "  return F.conv1d(input, weight, bias, self.stride,\n",
      "/home/vincenzo/anaconda3/envs/vstk/lib/python3.12/site-packages/torch/nn/modules/conv.py:306: UserWarning: Plan failed with a cudnnException: CUDNN_BACKEND_EXECUTION_PLAN_DESCRIPTOR: cudnnFinalize Descriptor Failed cudnn_status: CUDNN_STATUS_NOT_SUPPORTED (Triggered internally at ../aten/src/ATen/native/cudnn/Conv_v8.cpp:919.)\n",
      "  return F.conv1d(input, weight, bias, self.stride,\n",
      " 22%|█████████████████████████████████████▏                                                                                                                                     | 77/354 [00:02<00:07, 37.06it/s]/home/vincenzo/anaconda3/envs/vstk/lib/python3.12/site-packages/torch/nn/modules/conv.py:306: UserWarning: Plan failed with a cudnnException: CUDNN_BACKEND_EXECUTION_PLAN_DESCRIPTOR: cudnnFinalize Descriptor Failed cudnn_status: CUDNN_STATUS_NOT_SUPPORTED (Triggered internally at ../aten/src/ATen/native/cudnn/Conv_v8.cpp:919.)\n",
      "  return F.conv1d(input, weight, bias, self.stride,\n",
      "/home/vincenzo/anaconda3/envs/vstk/lib/python3.12/site-packages/torch/nn/modules/conv.py:306: UserWarning: Plan failed with a cudnnException: CUDNN_BACKEND_EXECUTION_PLAN_DESCRIPTOR: cudnnFinalize Descriptor Failed cudnn_status: CUDNN_STATUS_NOT_SUPPORTED (Triggered internally at ../aten/src/ATen/native/cudnn/Conv_v8.cpp:919.)\n",
      "  return F.conv1d(input, weight, bias, self.stride,\n",
      "/home/vincenzo/anaconda3/envs/vstk/lib/python3.12/site-packages/torch/nn/modules/conv.py:306: UserWarning: Plan failed with a cudnnException: CUDNN_BACKEND_EXECUTION_PLAN_DESCRIPTOR: cudnnFinalize Descriptor Failed cudnn_status: CUDNN_STATUS_NOT_SUPPORTED (Triggered internally at ../aten/src/ATen/native/cudnn/Conv_v8.cpp:919.)\n",
      "  return F.conv1d(input, weight, bias, self.stride,\n",
      " 25%|██████████████████████████████████████████▌                                                                                                                                | 88/354 [00:02<00:06, 38.08it/s]/home/vincenzo/anaconda3/envs/vstk/lib/python3.12/site-packages/torch/nn/modules/conv.py:306: UserWarning: Plan failed with a cudnnException: CUDNN_BACKEND_EXECUTION_PLAN_DESCRIPTOR: cudnnFinalize Descriptor Failed cudnn_status: CUDNN_STATUS_NOT_SUPPORTED (Triggered internally at ../aten/src/ATen/native/cudnn/Conv_v8.cpp:919.)\n",
      "  return F.conv1d(input, weight, bias, self.stride,\n",
      " 27%|█████████████████████████████████████████████▍                                                                                                                             | 94/354 [00:02<00:06, 41.36it/s]/home/vincenzo/anaconda3/envs/vstk/lib/python3.12/site-packages/torch/nn/modules/conv.py:306: UserWarning: Plan failed with a cudnnException: CUDNN_BACKEND_EXECUTION_PLAN_DESCRIPTOR: cudnnFinalize Descriptor Failed cudnn_status: CUDNN_STATUS_NOT_SUPPORTED (Triggered internally at ../aten/src/ATen/native/cudnn/Conv_v8.cpp:919.)\n",
      "  return F.conv1d(input, weight, bias, self.stride,\n",
      " 30%|███████████████████████████████████████████████████▍                                                                                                                      | 107/354 [00:02<00:05, 48.92it/s]/home/vincenzo/anaconda3/envs/vstk/lib/python3.12/site-packages/torch/nn/modules/conv.py:306: UserWarning: Plan failed with a cudnnException: CUDNN_BACKEND_EXECUTION_PLAN_DESCRIPTOR: cudnnFinalize Descriptor Failed cudnn_status: CUDNN_STATUS_NOT_SUPPORTED (Triggered internally at ../aten/src/ATen/native/cudnn/Conv_v8.cpp:919.)\n",
      "  return F.conv1d(input, weight, bias, self.stride,\n",
      " 35%|████████████████████████████████████████████████████████████                                                                                                              | 125/354 [00:03<00:05, 43.10it/s]/home/vincenzo/anaconda3/envs/vstk/lib/python3.12/site-packages/torch/nn/modules/conv.py:306: UserWarning: Plan failed with a cudnnException: CUDNN_BACKEND_EXECUTION_PLAN_DESCRIPTOR: cudnnFinalize Descriptor Failed cudnn_status: CUDNN_STATUS_NOT_SUPPORTED (Triggered internally at ../aten/src/ATen/native/cudnn/Conv_v8.cpp:919.)\n",
      "  return F.conv1d(input, weight, bias, self.stride,\n",
      "/home/vincenzo/anaconda3/envs/vstk/lib/python3.12/site-packages/torch/nn/modules/conv.py:306: UserWarning: Plan failed with a cudnnException: CUDNN_BACKEND_EXECUTION_PLAN_DESCRIPTOR: cudnnFinalize Descriptor Failed cudnn_status: CUDNN_STATUS_NOT_SUPPORTED (Triggered internally at ../aten/src/ATen/native/cudnn/Conv_v8.cpp:919.)\n",
      "  return F.conv1d(input, weight, bias, self.stride,\n",
      " 37%|██████████████████████████████████████████████████████████████▍                                                                                                           | 130/354 [00:03<00:06, 32.38it/s]/home/vincenzo/anaconda3/envs/vstk/lib/python3.12/site-packages/torch/nn/modules/conv.py:306: UserWarning: Plan failed with a cudnnException: CUDNN_BACKEND_EXECUTION_PLAN_DESCRIPTOR: cudnnFinalize Descriptor Failed cudnn_status: CUDNN_STATUS_NOT_SUPPORTED (Triggered internally at ../aten/src/ATen/native/cudnn/Conv_v8.cpp:919.)\n",
      "  return F.conv1d(input, weight, bias, self.stride,\n",
      "/home/vincenzo/anaconda3/envs/vstk/lib/python3.12/site-packages/torch/nn/modules/conv.py:306: UserWarning: Plan failed with a cudnnException: CUDNN_BACKEND_EXECUTION_PLAN_DESCRIPTOR: cudnnFinalize Descriptor Failed cudnn_status: CUDNN_STATUS_NOT_SUPPORTED (Triggered internally at ../aten/src/ATen/native/cudnn/Conv_v8.cpp:919.)\n",
      "  return F.conv1d(input, weight, bias, self.stride,\n",
      " 38%|█████████████████████████████████████████████████████████████████▎                                                                                                        | 136/354 [00:03<00:06, 36.21it/s]/home/vincenzo/anaconda3/envs/vstk/lib/python3.12/site-packages/torch/nn/modules/conv.py:306: UserWarning: Plan failed with a cudnnException: CUDNN_BACKEND_EXECUTION_PLAN_DESCRIPTOR: cudnnFinalize Descriptor Failed cudnn_status: CUDNN_STATUS_NOT_SUPPORTED (Triggered internally at ../aten/src/ATen/native/cudnn/Conv_v8.cpp:919.)\n",
      "  return F.conv1d(input, weight, bias, self.stride,\n",
      "/home/vincenzo/anaconda3/envs/vstk/lib/python3.12/site-packages/torch/nn/modules/conv.py:306: UserWarning: Plan failed with a cudnnException: CUDNN_BACKEND_EXECUTION_PLAN_DESCRIPTOR: cudnnFinalize Descriptor Failed cudnn_status: CUDNN_STATUS_NOT_SUPPORTED (Triggered internally at ../aten/src/ATen/native/cudnn/Conv_v8.cpp:919.)\n",
      "  return F.conv1d(input, weight, bias, self.stride,\n",
      " 40%|████████████████████████████████████████████████████████████████████▏                                                                                                     | 142/354 [00:03<00:05, 40.75it/s]/home/vincenzo/anaconda3/envs/vstk/lib/python3.12/site-packages/torch/nn/modules/conv.py:306: UserWarning: Plan failed with a cudnnException: CUDNN_BACKEND_EXECUTION_PLAN_DESCRIPTOR: cudnnFinalize Descriptor Failed cudnn_status: CUDNN_STATUS_NOT_SUPPORTED (Triggered internally at ../aten/src/ATen/native/cudnn/Conv_v8.cpp:919.)\n",
      "  return F.conv1d(input, weight, bias, self.stride,\n",
      " 42%|███████████████████████████████████████████████████████████████████████                                                                                                   | 148/354 [00:03<00:04, 44.45it/s]/home/vincenzo/anaconda3/envs/vstk/lib/python3.12/site-packages/torch/nn/modules/conv.py:306: UserWarning: Plan failed with a cudnnException: CUDNN_BACKEND_EXECUTION_PLAN_DESCRIPTOR: cudnnFinalize Descriptor Failed cudnn_status: CUDNN_STATUS_NOT_SUPPORTED (Triggered internally at ../aten/src/ATen/native/cudnn/Conv_v8.cpp:919.)\n",
      "  return F.conv1d(input, weight, bias, self.stride,\n",
      " 43%|█████████████████████████████████████████████████████████████████████████▍                                                                                                | 153/354 [00:03<00:04, 42.34it/s]/home/vincenzo/anaconda3/envs/vstk/lib/python3.12/site-packages/torch/nn/modules/conv.py:306: UserWarning: Plan failed with a cudnnException: CUDNN_BACKEND_EXECUTION_PLAN_DESCRIPTOR: cudnnFinalize Descriptor Failed cudnn_status: CUDNN_STATUS_NOT_SUPPORTED (Triggered internally at ../aten/src/ATen/native/cudnn/Conv_v8.cpp:919.)\n",
      "  return F.conv1d(input, weight, bias, self.stride,\n",
      "/home/vincenzo/anaconda3/envs/vstk/lib/python3.12/site-packages/torch/nn/modules/conv.py:306: UserWarning: Plan failed with a cudnnException: CUDNN_BACKEND_EXECUTION_PLAN_DESCRIPTOR: cudnnFinalize Descriptor Failed cudnn_status: CUDNN_STATUS_NOT_SUPPORTED (Triggered internally at ../aten/src/ATen/native/cudnn/Conv_v8.cpp:919.)\n",
      "  return F.conv1d(input, weight, bias, self.stride,\n",
      " 45%|███████████████████████████████████████████████████████████████████████████▉                                                                                              | 158/354 [00:04<00:04, 41.22it/s]/home/vincenzo/anaconda3/envs/vstk/lib/python3.12/site-packages/torch/nn/modules/conv.py:306: UserWarning: Plan failed with a cudnnException: CUDNN_BACKEND_EXECUTION_PLAN_DESCRIPTOR: cudnnFinalize Descriptor Failed cudnn_status: CUDNN_STATUS_NOT_SUPPORTED (Triggered internally at ../aten/src/ATen/native/cudnn/Conv_v8.cpp:919.)\n",
      "  return F.conv1d(input, weight, bias, self.stride,\n",
      " 46%|██████████████████████████████████████████████████████████████████████████████▊                                                                                           | 164/354 [00:04<00:04, 45.15it/s]/home/vincenzo/anaconda3/envs/vstk/lib/python3.12/site-packages/torch/nn/modules/conv.py:306: UserWarning: Plan failed with a cudnnException: CUDNN_BACKEND_EXECUTION_PLAN_DESCRIPTOR: cudnnFinalize Descriptor Failed cudnn_status: CUDNN_STATUS_NOT_SUPPORTED (Triggered internally at ../aten/src/ATen/native/cudnn/Conv_v8.cpp:919.)\n",
      "  return F.conv1d(input, weight, bias, self.stride,\n",
      " 48%|█████████████████████████████████████████████████████████████████████████████████▏                                                                                        | 169/354 [00:04<00:04, 43.99it/s]/home/vincenzo/anaconda3/envs/vstk/lib/python3.12/site-packages/torch/nn/modules/conv.py:306: UserWarning: Plan failed with a cudnnException: CUDNN_BACKEND_EXECUTION_PLAN_DESCRIPTOR: cudnnFinalize Descriptor Failed cudnn_status: CUDNN_STATUS_NOT_SUPPORTED (Triggered internally at ../aten/src/ATen/native/cudnn/Conv_v8.cpp:919.)\n",
      "  return F.conv1d(input, weight, bias, self.stride,\n",
      " 49%|████████████████████████████████████████████████████████████████████████████████████                                                                                      | 175/354 [00:04<00:03, 47.20it/s]/home/vincenzo/anaconda3/envs/vstk/lib/python3.12/site-packages/torch/nn/modules/conv.py:306: UserWarning: Plan failed with a cudnnException: CUDNN_BACKEND_EXECUTION_PLAN_DESCRIPTOR: cudnnFinalize Descriptor Failed cudnn_status: CUDNN_STATUS_NOT_SUPPORTED (Triggered internally at ../aten/src/ATen/native/cudnn/Conv_v8.cpp:919.)\n",
      "  return F.conv1d(input, weight, bias, self.stride,\n",
      " 51%|██████████████████████████████████████████████████████████████████████████████████████▉                                                                                   | 181/354 [00:04<00:03, 48.63it/s]/home/vincenzo/anaconda3/envs/vstk/lib/python3.12/site-packages/torch/nn/modules/conv.py:306: UserWarning: Plan failed with a cudnnException: CUDNN_BACKEND_EXECUTION_PLAN_DESCRIPTOR: cudnnFinalize Descriptor Failed cudnn_status: CUDNN_STATUS_NOT_SUPPORTED (Triggered internally at ../aten/src/ATen/native/cudnn/Conv_v8.cpp:919.)\n",
      "  return F.conv1d(input, weight, bias, self.stride,\n",
      " 53%|█████████████████████████████████████████████████████████████████████████████████████████▎                                                                                | 186/354 [00:04<00:04, 40.44it/s]/home/vincenzo/anaconda3/envs/vstk/lib/python3.12/site-packages/torch/nn/modules/conv.py:306: UserWarning: Plan failed with a cudnnException: CUDNN_BACKEND_EXECUTION_PLAN_DESCRIPTOR: cudnnFinalize Descriptor Failed cudnn_status: CUDNN_STATUS_NOT_SUPPORTED (Triggered internally at ../aten/src/ATen/native/cudnn/Conv_v8.cpp:919.)\n",
      "  return F.conv1d(input, weight, bias, self.stride,\n",
      " 54%|███████████████████████████████████████████████████████████████████████████████████████████▋                                                                              | 191/354 [00:04<00:03, 41.55it/s]/home/vincenzo/anaconda3/envs/vstk/lib/python3.12/site-packages/torch/nn/modules/conv.py:306: UserWarning: Plan failed with a cudnnException: CUDNN_BACKEND_EXECUTION_PLAN_DESCRIPTOR: cudnnFinalize Descriptor Failed cudnn_status: CUDNN_STATUS_NOT_SUPPORTED (Triggered internally at ../aten/src/ATen/native/cudnn/Conv_v8.cpp:919.)\n",
      "  return F.conv1d(input, weight, bias, self.stride,\n",
      " 55%|██████████████████████████████████████████████████████████████████████████████████████████████                                                                            | 196/354 [00:04<00:03, 42.16it/s]/home/vincenzo/anaconda3/envs/vstk/lib/python3.12/site-packages/torch/nn/modules/conv.py:306: UserWarning: Plan failed with a cudnnException: CUDNN_BACKEND_EXECUTION_PLAN_DESCRIPTOR: cudnnFinalize Descriptor Failed cudnn_status: CUDNN_STATUS_NOT_SUPPORTED (Triggered internally at ../aten/src/ATen/native/cudnn/Conv_v8.cpp:919.)\n",
      "  return F.conv1d(input, weight, bias, self.stride,\n",
      "/home/vincenzo/anaconda3/envs/vstk/lib/python3.12/site-packages/torch/nn/modules/conv.py:306: UserWarning: Plan failed with a cudnnException: CUDNN_BACKEND_EXECUTION_PLAN_DESCRIPTOR: cudnnFinalize Descriptor Failed cudnn_status: CUDNN_STATUS_NOT_SUPPORTED (Triggered internally at ../aten/src/ATen/native/cudnn/Conv_v8.cpp:919.)\n",
      "  return F.conv1d(input, weight, bias, self.stride,\n",
      " 58%|███████████████████████████████████████████████████████████████████████████████████████████████████▍                                                                      | 207/354 [00:05<00:03, 45.53it/s]/home/vincenzo/anaconda3/envs/vstk/lib/python3.12/site-packages/torch/nn/modules/conv.py:306: UserWarning: Plan failed with a cudnnException: CUDNN_BACKEND_EXECUTION_PLAN_DESCRIPTOR: cudnnFinalize Descriptor Failed cudnn_status: CUDNN_STATUS_NOT_SUPPORTED (Triggered internally at ../aten/src/ATen/native/cudnn/Conv_v8.cpp:919.)\n",
      "  return F.conv1d(input, weight, bias, self.stride,\n",
      "/home/vincenzo/anaconda3/envs/vstk/lib/python3.12/site-packages/torch/nn/modules/conv.py:306: UserWarning: Plan failed with a cudnnException: CUDNN_BACKEND_EXECUTION_PLAN_DESCRIPTOR: cudnnFinalize Descriptor Failed cudnn_status: CUDNN_STATUS_NOT_SUPPORTED (Triggered internally at ../aten/src/ATen/native/cudnn/Conv_v8.cpp:919.)\n",
      "  return F.conv1d(input, weight, bias, self.stride,\n",
      " 60%|█████████████████████████████████████████████████████████████████████████████████████████████████████▊                                                                    | 212/354 [00:05<00:03, 43.42it/s]/home/vincenzo/anaconda3/envs/vstk/lib/python3.12/site-packages/torch/nn/modules/conv.py:306: UserWarning: Plan failed with a cudnnException: CUDNN_BACKEND_EXECUTION_PLAN_DESCRIPTOR: cudnnFinalize Descriptor Failed cudnn_status: CUDNN_STATUS_NOT_SUPPORTED (Triggered internally at ../aten/src/ATen/native/cudnn/Conv_v8.cpp:919.)\n",
      "  return F.conv1d(input, weight, bias, self.stride,\n",
      " 67%|█████████████████████████████████████████████████████████████████████████████████████████████████████████████████▎                                                        | 236/354 [00:05<00:02, 50.51it/s]/home/vincenzo/anaconda3/envs/vstk/lib/python3.12/site-packages/torch/nn/modules/conv.py:306: UserWarning: Plan failed with a cudnnException: CUDNN_BACKEND_EXECUTION_PLAN_DESCRIPTOR: cudnnFinalize Descriptor Failed cudnn_status: CUDNN_STATUS_NOT_SUPPORTED (Triggered internally at ../aten/src/ATen/native/cudnn/Conv_v8.cpp:919.)\n",
      "  return F.conv1d(input, weight, bias, self.stride,\n",
      " 68%|████████████████████████████████████████████████████████████████████████████████████████████████████████████████████▏                                                     | 242/354 [00:05<00:02, 47.18it/s]/home/vincenzo/anaconda3/envs/vstk/lib/python3.12/site-packages/torch/nn/modules/conv.py:306: UserWarning: Plan failed with a cudnnException: CUDNN_BACKEND_EXECUTION_PLAN_DESCRIPTOR: cudnnFinalize Descriptor Failed cudnn_status: CUDNN_STATUS_NOT_SUPPORTED (Triggered internally at ../aten/src/ATen/native/cudnn/Conv_v8.cpp:919.)\n",
      "  return F.conv1d(input, weight, bias, self.stride,\n",
      "/home/vincenzo/anaconda3/envs/vstk/lib/python3.12/site-packages/torch/nn/modules/conv.py:306: UserWarning: Plan failed with a cudnnException: CUDNN_BACKEND_EXECUTION_PLAN_DESCRIPTOR: cudnnFinalize Descriptor Failed cudnn_status: CUDNN_STATUS_NOT_SUPPORTED (Triggered internally at ../aten/src/ATen/native/cudnn/Conv_v8.cpp:919.)\n",
      "  return F.conv1d(input, weight, bias, self.stride,\n",
      " 70%|██████████████████████████████████████████████████████████████████████████████████████████████████████████████████████▌                                                   | 247/354 [00:05<00:02, 45.36it/s]/home/vincenzo/anaconda3/envs/vstk/lib/python3.12/site-packages/torch/nn/modules/conv.py:306: UserWarning: Plan failed with a cudnnException: CUDNN_BACKEND_EXECUTION_PLAN_DESCRIPTOR: cudnnFinalize Descriptor Failed cudnn_status: CUDNN_STATUS_NOT_SUPPORTED (Triggered internally at ../aten/src/ATen/native/cudnn/Conv_v8.cpp:919.)\n",
      "  return F.conv1d(input, weight, bias, self.stride,\n",
      " 72%|█████████████████████████████████████████████████████████████████████████████████████████████████████████████████████████▉                                                | 254/354 [00:06<00:02, 49.92it/s]/home/vincenzo/anaconda3/envs/vstk/lib/python3.12/site-packages/torch/nn/modules/conv.py:306: UserWarning: Plan failed with a cudnnException: CUDNN_BACKEND_EXECUTION_PLAN_DESCRIPTOR: cudnnFinalize Descriptor Failed cudnn_status: CUDNN_STATUS_NOT_SUPPORTED (Triggered internally at ../aten/src/ATen/native/cudnn/Conv_v8.cpp:919.)\n",
      "  return F.conv1d(input, weight, bias, self.stride,\n",
      " 73%|████████████████████████████████████████████████████████████████████████████████████████████████████████████████████████████▊                                             | 260/354 [00:06<00:01, 49.80it/s]/home/vincenzo/anaconda3/envs/vstk/lib/python3.12/site-packages/torch/nn/modules/conv.py:306: UserWarning: Plan failed with a cudnnException: CUDNN_BACKEND_EXECUTION_PLAN_DESCRIPTOR: cudnnFinalize Descriptor Failed cudnn_status: CUDNN_STATUS_NOT_SUPPORTED (Triggered internally at ../aten/src/ATen/native/cudnn/Conv_v8.cpp:919.)\n",
      "  return F.conv1d(input, weight, bias, self.stride,\n",
      " 79%|█████████████████████████████████████████████████████████████████████████████████████████████████████████████████████████████████████▌                                    | 278/354 [00:06<00:02, 37.74it/s]/home/vincenzo/anaconda3/envs/vstk/lib/python3.12/site-packages/torch/nn/modules/conv.py:306: UserWarning: Plan failed with a cudnnException: CUDNN_BACKEND_EXECUTION_PLAN_DESCRIPTOR: cudnnFinalize Descriptor Failed cudnn_status: CUDNN_STATUS_NOT_SUPPORTED (Triggered internally at ../aten/src/ATen/native/cudnn/Conv_v8.cpp:919.)\n",
      "  return F.conv1d(input, weight, bias, self.stride,\n",
      "/home/vincenzo/anaconda3/envs/vstk/lib/python3.12/site-packages/torch/nn/modules/conv.py:306: UserWarning: Plan failed with a cudnnException: CUDNN_BACKEND_EXECUTION_PLAN_DESCRIPTOR: cudnnFinalize Descriptor Failed cudnn_status: CUDNN_STATUS_NOT_SUPPORTED (Triggered internally at ../aten/src/ATen/native/cudnn/Conv_v8.cpp:919.)\n",
      "  return F.conv1d(input, weight, bias, self.stride,\n",
      " 80%|███████████████████████████████████████████████████████████████████████████████████████████████████████████████████████████████████████▉                                  | 283/354 [00:06<00:01, 37.27it/s]/home/vincenzo/anaconda3/envs/vstk/lib/python3.12/site-packages/torch/nn/modules/conv.py:306: UserWarning: Plan failed with a cudnnException: CUDNN_BACKEND_EXECUTION_PLAN_DESCRIPTOR: cudnnFinalize Descriptor Failed cudnn_status: CUDNN_STATUS_NOT_SUPPORTED (Triggered internally at ../aten/src/ATen/native/cudnn/Conv_v8.cpp:919.)\n",
      "  return F.conv1d(input, weight, bias, self.stride,\n",
      "/home/vincenzo/anaconda3/envs/vstk/lib/python3.12/site-packages/torch/nn/modules/conv.py:306: UserWarning: Plan failed with a cudnnException: CUDNN_BACKEND_EXECUTION_PLAN_DESCRIPTOR: cudnnFinalize Descriptor Failed cudnn_status: CUDNN_STATUS_NOT_SUPPORTED (Triggered internally at ../aten/src/ATen/native/cudnn/Conv_v8.cpp:919.)\n",
      "  return F.conv1d(input, weight, bias, self.stride,\n",
      " 83%|█████████████████████████████████████████████████████████████████████████████████████████████████████████████████████████████████████████████▏                            | 294/354 [00:07<00:01, 42.49it/s]/home/vincenzo/anaconda3/envs/vstk/lib/python3.12/site-packages/torch/nn/modules/conv.py:306: UserWarning: Plan failed with a cudnnException: CUDNN_BACKEND_EXECUTION_PLAN_DESCRIPTOR: cudnnFinalize Descriptor Failed cudnn_status: CUDNN_STATUS_NOT_SUPPORTED (Triggered internally at ../aten/src/ATen/native/cudnn/Conv_v8.cpp:919.)\n",
      "  return F.conv1d(input, weight, bias, self.stride,\n",
      "/home/vincenzo/anaconda3/envs/vstk/lib/python3.12/site-packages/torch/nn/modules/conv.py:306: UserWarning: Plan failed with a cudnnException: CUDNN_BACKEND_EXECUTION_PLAN_DESCRIPTOR: cudnnFinalize Descriptor Failed cudnn_status: CUDNN_STATUS_NOT_SUPPORTED (Triggered internally at ../aten/src/ATen/native/cudnn/Conv_v8.cpp:919.)\n",
      "  return F.conv1d(input, weight, bias, self.stride,\n",
      "/home/vincenzo/anaconda3/envs/vstk/lib/python3.12/site-packages/torch/nn/modules/conv.py:306: UserWarning: Plan failed with a cudnnException: CUDNN_BACKEND_EXECUTION_PLAN_DESCRIPTOR: cudnnFinalize Descriptor Failed cudnn_status: CUDNN_STATUS_NOT_SUPPORTED (Triggered internally at ../aten/src/ATen/native/cudnn/Conv_v8.cpp:919.)\n",
      "  return F.conv1d(input, weight, bias, self.stride,\n",
      " 84%|███████████████████████████████████████████████████████████████████████████████████████████████████████████████████████████████████████████████▌                          | 299/354 [00:07<00:01, 42.39it/s]/home/vincenzo/anaconda3/envs/vstk/lib/python3.12/site-packages/torch/nn/modules/conv.py:306: UserWarning: Plan failed with a cudnnException: CUDNN_BACKEND_EXECUTION_PLAN_DESCRIPTOR: cudnnFinalize Descriptor Failed cudnn_status: CUDNN_STATUS_NOT_SUPPORTED (Triggered internally at ../aten/src/ATen/native/cudnn/Conv_v8.cpp:919.)\n",
      "  return F.conv1d(input, weight, bias, self.stride,\n",
      "/home/vincenzo/anaconda3/envs/vstk/lib/python3.12/site-packages/torch/nn/modules/conv.py:306: UserWarning: Plan failed with a cudnnException: CUDNN_BACKEND_EXECUTION_PLAN_DESCRIPTOR: cudnnFinalize Descriptor Failed cudnn_status: CUDNN_STATUS_NOT_SUPPORTED (Triggered internally at ../aten/src/ATen/native/cudnn/Conv_v8.cpp:919.)\n",
      "  return F.conv1d(input, weight, bias, self.stride,\n",
      " 86%|██████████████████████████████████████████████████████████████████████████████████████████████████████████████████████████████████████████████████▍                       | 305/354 [00:07<00:01, 45.30it/s]/home/vincenzo/anaconda3/envs/vstk/lib/python3.12/site-packages/torch/nn/modules/conv.py:306: UserWarning: Plan failed with a cudnnException: CUDNN_BACKEND_EXECUTION_PLAN_DESCRIPTOR: cudnnFinalize Descriptor Failed cudnn_status: CUDNN_STATUS_NOT_SUPPORTED (Triggered internally at ../aten/src/ATen/native/cudnn/Conv_v8.cpp:919.)\n",
      "  return F.conv1d(input, weight, bias, self.stride,\n",
      " 88%|████████████████████████████████████████████████████████████████████████████████████████████████████████████████████████████████████████████████████▊                     | 310/354 [00:07<00:00, 45.21it/s]/home/vincenzo/anaconda3/envs/vstk/lib/python3.12/site-packages/torch/nn/modules/conv.py:306: UserWarning: Plan failed with a cudnnException: CUDNN_BACKEND_EXECUTION_PLAN_DESCRIPTOR: cudnnFinalize Descriptor Failed cudnn_status: CUDNN_STATUS_NOT_SUPPORTED (Triggered internally at ../aten/src/ATen/native/cudnn/Conv_v8.cpp:919.)\n",
      "  return F.conv1d(input, weight, bias, self.stride,\n",
      " 89%|███████████████████████████████████████████████████████████████████████████████████████████████████████████████████████████████████████████████████████▊                  | 316/354 [00:07<00:01, 32.79it/s]/home/vincenzo/anaconda3/envs/vstk/lib/python3.12/site-packages/torch/nn/modules/conv.py:306: UserWarning: Plan failed with a cudnnException: CUDNN_BACKEND_EXECUTION_PLAN_DESCRIPTOR: cudnnFinalize Descriptor Failed cudnn_status: CUDNN_STATUS_NOT_SUPPORTED (Triggered internally at ../aten/src/ATen/native/cudnn/Conv_v8.cpp:919.)\n",
      "  return F.conv1d(input, weight, bias, self.stride,\n",
      "/home/vincenzo/anaconda3/envs/vstk/lib/python3.12/site-packages/torch/nn/modules/conv.py:306: UserWarning: Plan failed with a cudnnException: CUDNN_BACKEND_EXECUTION_PLAN_DESCRIPTOR: cudnnFinalize Descriptor Failed cudnn_status: CUDNN_STATUS_NOT_SUPPORTED (Triggered internally at ../aten/src/ATen/native/cudnn/Conv_v8.cpp:919.)\n",
      "  return F.conv1d(input, weight, bias, self.stride,\n",
      " 94%|███████████████████████████████████████████████████████████████████████████████████████████████████████████████████████████████████████████████████████████████▍          | 332/354 [00:08<00:00, 42.85it/s]/home/vincenzo/anaconda3/envs/vstk/lib/python3.12/site-packages/torch/nn/modules/conv.py:306: UserWarning: Plan failed with a cudnnException: CUDNN_BACKEND_EXECUTION_PLAN_DESCRIPTOR: cudnnFinalize Descriptor Failed cudnn_status: CUDNN_STATUS_NOT_SUPPORTED (Triggered internally at ../aten/src/ATen/native/cudnn/Conv_v8.cpp:919.)\n",
      "  return F.conv1d(input, weight, bias, self.stride,\n",
      " 95%|█████████████████████████████████████████████████████████████████████████████████████████████████████████████████████████████████████████████████████████████████▊        | 337/354 [00:08<00:00, 41.61it/s]/home/vincenzo/anaconda3/envs/vstk/lib/python3.12/site-packages/torch/nn/modules/conv.py:306: UserWarning: Plan failed with a cudnnException: CUDNN_BACKEND_EXECUTION_PLAN_DESCRIPTOR: cudnnFinalize Descriptor Failed cudnn_status: CUDNN_STATUS_NOT_SUPPORTED (Triggered internally at ../aten/src/ATen/native/cudnn/Conv_v8.cpp:919.)\n",
      "  return F.conv1d(input, weight, bias, self.stride,\n",
      "/home/vincenzo/anaconda3/envs/vstk/lib/python3.12/site-packages/torch/nn/modules/conv.py:306: UserWarning: Plan failed with a cudnnException: CUDNN_BACKEND_EXECUTION_PLAN_DESCRIPTOR: cudnnFinalize Descriptor Failed cudnn_status: CUDNN_STATUS_NOT_SUPPORTED (Triggered internally at ../aten/src/ATen/native/cudnn/Conv_v8.cpp:919.)\n",
      "  return F.conv1d(input, weight, bias, self.stride,\n",
      " 97%|████████████████████████████████████████████████████████████████████████████████████████████████████████████████████████████████████████████████████████████████████▋     | 343/354 [00:08<00:00, 42.64it/s]/home/vincenzo/anaconda3/envs/vstk/lib/python3.12/site-packages/torch/nn/modules/conv.py:306: UserWarning: Plan failed with a cudnnException: CUDNN_BACKEND_EXECUTION_PLAN_DESCRIPTOR: cudnnFinalize Descriptor Failed cudnn_status: CUDNN_STATUS_NOT_SUPPORTED (Triggered internally at ../aten/src/ATen/native/cudnn/Conv_v8.cpp:919.)\n",
      "  return F.conv1d(input, weight, bias, self.stride,\n",
      "/home/vincenzo/anaconda3/envs/vstk/lib/python3.12/site-packages/torch/nn/modules/conv.py:306: UserWarning: Plan failed with a cudnnException: CUDNN_BACKEND_EXECUTION_PLAN_DESCRIPTOR: cudnnFinalize Descriptor Failed cudnn_status: CUDNN_STATUS_NOT_SUPPORTED (Triggered internally at ../aten/src/ATen/native/cudnn/Conv_v8.cpp:919.)\n",
      "  return F.conv1d(input, weight, bias, self.stride,\n",
      "100%|██████████████████████████████████████████████████████████████████████████████████████████████████████████████████████████████████████████████████████████████████████████| 354/354 [00:08<00:00, 40.89it/s]\n"
     ]
    },
    {
     "name": "stdout",
     "output_type": "stream",
     "text": [
      "Starting epoch 2/64\n"
     ]
    },
    {
     "name": "stderr",
     "output_type": "stream",
     "text": [
      "5it [00:00, 44.47it/s]/home/vincenzo/anaconda3/envs/vstk/lib/python3.12/site-packages/torch/nn/modules/conv.py:306: UserWarning: Plan failed with a cudnnException: CUDNN_BACKEND_EXECUTION_PLAN_DESCRIPTOR: cudnnFinalize Descriptor Failed cudnn_status: CUDNN_STATUS_NOT_SUPPORTED (Triggered internally at ../aten/src/ATen/native/cudnn/Conv_v8.cpp:919.)\n",
      "  return F.conv1d(input, weight, bias, self.stride,\n",
      "10it [00:00, 44.77it/s]/home/vincenzo/anaconda3/envs/vstk/lib/python3.12/site-packages/torch/nn/modules/conv.py:306: UserWarning: Plan failed with a cudnnException: CUDNN_BACKEND_EXECUTION_PLAN_DESCRIPTOR: cudnnFinalize Descriptor Failed cudnn_status: CUDNN_STATUS_NOT_SUPPORTED (Triggered internally at ../aten/src/ATen/native/cudnn/Conv_v8.cpp:919.)\n",
      "  return F.conv1d(input, weight, bias, self.stride,\n",
      "33it [00:00, 52.86it/s]/home/vincenzo/anaconda3/envs/vstk/lib/python3.12/site-packages/torch/nn/modules/conv.py:306: UserWarning: Plan failed with a cudnnException: CUDNN_BACKEND_EXECUTION_PLAN_DESCRIPTOR: cudnnFinalize Descriptor Failed cudnn_status: CUDNN_STATUS_NOT_SUPPORTED (Triggered internally at ../aten/src/ATen/native/cudnn/Conv_v8.cpp:919.)\n",
      "  return F.conv1d(input, weight, bias, self.stride,\n",
      "67it [00:01, 35.44it/s]/home/vincenzo/anaconda3/envs/vstk/lib/python3.12/site-packages/torch/nn/modules/conv.py:306: UserWarning: Plan failed with a cudnnException: CUDNN_BACKEND_EXECUTION_PLAN_DESCRIPTOR: cudnnFinalize Descriptor Failed cudnn_status: CUDNN_STATUS_NOT_SUPPORTED (Triggered internally at ../aten/src/ATen/native/cudnn/Conv_v8.cpp:919.)\n",
      "  return F.conv1d(input, weight, bias, self.stride,\n",
      "95it [00:02, 35.69it/s]/home/vincenzo/anaconda3/envs/vstk/lib/python3.12/site-packages/torch/nn/modules/conv.py:306: UserWarning: Plan failed with a cudnnException: CUDNN_BACKEND_EXECUTION_PLAN_DESCRIPTOR: cudnnFinalize Descriptor Failed cudnn_status: CUDNN_STATUS_NOT_SUPPORTED (Triggered internally at ../aten/src/ATen/native/cudnn/Conv_v8.cpp:919.)\n",
      "  return F.conv1d(input, weight, bias, self.stride,\n",
      "129it [00:03, 29.40it/s]/home/vincenzo/anaconda3/envs/vstk/lib/python3.12/site-packages/torch/nn/modules/conv.py:306: UserWarning: Plan failed with a cudnnException: CUDNN_BACKEND_EXECUTION_PLAN_DESCRIPTOR: cudnnFinalize Descriptor Failed cudnn_status: CUDNN_STATUS_NOT_SUPPORTED (Triggered internally at ../aten/src/ATen/native/cudnn/Conv_v8.cpp:919.)\n",
      "  return F.conv1d(input, weight, bias, self.stride,\n",
      "144it [00:04, 30.73it/s]/home/vincenzo/anaconda3/envs/vstk/lib/python3.12/site-packages/torch/nn/modules/conv.py:306: UserWarning: Plan failed with a cudnnException: CUDNN_BACKEND_EXECUTION_PLAN_DESCRIPTOR: cudnnFinalize Descriptor Failed cudnn_status: CUDNN_STATUS_NOT_SUPPORTED (Triggered internally at ../aten/src/ATen/native/cudnn/Conv_v8.cpp:919.)\n",
      "  return F.conv1d(input, weight, bias, self.stride,\n",
      "149it [00:04, 33.82it/s]/home/vincenzo/anaconda3/envs/vstk/lib/python3.12/site-packages/torch/nn/modules/conv.py:306: UserWarning: Plan failed with a cudnnException: CUDNN_BACKEND_EXECUTION_PLAN_DESCRIPTOR: cudnnFinalize Descriptor Failed cudnn_status: CUDNN_STATUS_NOT_SUPPORTED (Triggered internally at ../aten/src/ATen/native/cudnn/Conv_v8.cpp:919.)\n",
      "  return F.conv1d(input, weight, bias, self.stride,\n",
      "191it [00:05, 33.73it/s]/home/vincenzo/anaconda3/envs/vstk/lib/python3.12/site-packages/torch/nn/modules/conv.py:306: UserWarning: Plan failed with a cudnnException: CUDNN_BACKEND_EXECUTION_PLAN_DESCRIPTOR: cudnnFinalize Descriptor Failed cudnn_status: CUDNN_STATUS_NOT_SUPPORTED (Triggered internally at ../aten/src/ATen/native/cudnn/Conv_v8.cpp:919.)\n",
      "  return F.conv1d(input, weight, bias, self.stride,\n",
      "207it [00:05, 34.87it/s]/home/vincenzo/anaconda3/envs/vstk/lib/python3.12/site-packages/torch/nn/modules/conv.py:306: UserWarning: Plan failed with a cudnnException: CUDNN_BACKEND_EXECUTION_PLAN_DESCRIPTOR: cudnnFinalize Descriptor Failed cudnn_status: CUDNN_STATUS_NOT_SUPPORTED (Triggered internally at ../aten/src/ATen/native/cudnn/Conv_v8.cpp:919.)\n",
      "  return F.conv1d(input, weight, bias, self.stride,\n",
      "217it [00:06, 26.80it/s]/home/vincenzo/anaconda3/envs/vstk/lib/python3.12/site-packages/torch/nn/modules/conv.py:306: UserWarning: Plan failed with a cudnnException: CUDNN_BACKEND_EXECUTION_PLAN_DESCRIPTOR: cudnnFinalize Descriptor Failed cudnn_status: CUDNN_STATUS_NOT_SUPPORTED (Triggered internally at ../aten/src/ATen/native/cudnn/Conv_v8.cpp:919.)\n",
      "  return F.conv1d(input, weight, bias, self.stride,\n",
      "232it [00:06, 32.40it/s]/home/vincenzo/anaconda3/envs/vstk/lib/python3.12/site-packages/torch/nn/modules/conv.py:306: UserWarning: Plan failed with a cudnnException: CUDNN_BACKEND_EXECUTION_PLAN_DESCRIPTOR: cudnnFinalize Descriptor Failed cudnn_status: CUDNN_STATUS_NOT_SUPPORTED (Triggered internally at ../aten/src/ATen/native/cudnn/Conv_v8.cpp:919.)\n",
      "  return F.conv1d(input, weight, bias, self.stride,\n",
      "293it [00:08, 41.59it/s]/home/vincenzo/anaconda3/envs/vstk/lib/python3.12/site-packages/torch/nn/modules/conv.py:306: UserWarning: Plan failed with a cudnnException: CUDNN_BACKEND_EXECUTION_PLAN_DESCRIPTOR: cudnnFinalize Descriptor Failed cudnn_status: CUDNN_STATUS_NOT_SUPPORTED (Triggered internally at ../aten/src/ATen/native/cudnn/Conv_v8.cpp:919.)\n",
      "  return F.conv1d(input, weight, bias, self.stride,\n",
      "/home/vincenzo/anaconda3/envs/vstk/lib/python3.12/site-packages/torch/nn/modules/conv.py:306: UserWarning: Plan failed with a cudnnException: CUDNN_BACKEND_EXECUTION_PLAN_DESCRIPTOR: cudnnFinalize Descriptor Failed cudnn_status: CUDNN_STATUS_NOT_SUPPORTED (Triggered internally at ../aten/src/ATen/native/cudnn/Conv_v8.cpp:919.)\n",
      "  return F.conv1d(input, weight, bias, self.stride,\n",
      "355it [00:10, 25.20it/s]/home/vincenzo/anaconda3/envs/vstk/lib/python3.12/site-packages/torch/nn/modules/conv.py:306: UserWarning: Plan failed with a cudnnException: CUDNN_BACKEND_EXECUTION_PLAN_DESCRIPTOR: cudnnFinalize Descriptor Failed cudnn_status: CUDNN_STATUS_NOT_SUPPORTED (Triggered internally at ../aten/src/ATen/native/cudnn/Conv_v8.cpp:919.)\n",
      "  return F.conv1d(input, weight, bias, self.stride,\n",
      "383it [00:11, 32.13it/s]/home/vincenzo/anaconda3/envs/vstk/lib/python3.12/site-packages/torch/nn/modules/conv.py:306: UserWarning: Plan failed with a cudnnException: CUDNN_BACKEND_EXECUTION_PLAN_DESCRIPTOR: cudnnFinalize Descriptor Failed cudnn_status: CUDNN_STATUS_NOT_SUPPORTED (Triggered internally at ../aten/src/ATen/native/cudnn/Conv_v8.cpp:919.)\n",
      "  return F.conv1d(input, weight, bias, self.stride,\n",
      "416it [00:11, 46.54it/s]/home/vincenzo/anaconda3/envs/vstk/lib/python3.12/site-packages/torch/nn/modules/conv.py:306: UserWarning: Plan failed with a cudnnException: CUDNN_BACKEND_EXECUTION_PLAN_DESCRIPTOR: cudnnFinalize Descriptor Failed cudnn_status: CUDNN_STATUS_NOT_SUPPORTED (Triggered internally at ../aten/src/ATen/native/cudnn/Conv_v8.cpp:919.)\n",
      "  return F.conv1d(input, weight, bias, self.stride,\n",
      "422it [00:11, 47.86it/s]/home/vincenzo/anaconda3/envs/vstk/lib/python3.12/site-packages/torch/nn/modules/conv.py:306: UserWarning: Plan failed with a cudnnException: CUDNN_BACKEND_EXECUTION_PLAN_DESCRIPTOR: cudnnFinalize Descriptor Failed cudnn_status: CUDNN_STATUS_NOT_SUPPORTED (Triggered internally at ../aten/src/ATen/native/cudnn/Conv_v8.cpp:919.)\n",
      "  return F.conv1d(input, weight, bias, self.stride,\n",
      "/home/vincenzo/anaconda3/envs/vstk/lib/python3.12/site-packages/torch/nn/modules/conv.py:306: UserWarning: Plan failed with a cudnnException: CUDNN_BACKEND_EXECUTION_PLAN_DESCRIPTOR: cudnnFinalize Descriptor Failed cudnn_status: CUDNN_STATUS_NOT_SUPPORTED (Triggered internally at ../aten/src/ATen/native/cudnn/Conv_v8.cpp:919.)\n",
      "  return F.conv1d(input, weight, bias, self.stride,\n",
      "469it [00:13, 35.73it/s]/home/vincenzo/anaconda3/envs/vstk/lib/python3.12/site-packages/torch/nn/modules/conv.py:306: UserWarning: Plan failed with a cudnnException: CUDNN_BACKEND_EXECUTION_PLAN_DESCRIPTOR: cudnnFinalize Descriptor Failed cudnn_status: CUDNN_STATUS_NOT_SUPPORTED (Triggered internally at ../aten/src/ATen/native/cudnn/Conv_v8.cpp:919.)\n",
      "  return F.conv1d(input, weight, bias, self.stride,\n",
      "517it [00:14, 42.33it/s]/home/vincenzo/anaconda3/envs/vstk/lib/python3.12/site-packages/torch/nn/modules/conv.py:306: UserWarning: Plan failed with a cudnnException: CUDNN_BACKEND_EXECUTION_PLAN_DESCRIPTOR: cudnnFinalize Descriptor Failed cudnn_status: CUDNN_STATUS_NOT_SUPPORTED (Triggered internally at ../aten/src/ATen/native/cudnn/Conv_v8.cpp:919.)\n",
      "  return F.conv1d(input, weight, bias, self.stride,\n",
      "555it [00:15, 40.90it/s]/home/vincenzo/anaconda3/envs/vstk/lib/python3.12/site-packages/torch/nn/modules/conv.py:306: UserWarning: Plan failed with a cudnnException: CUDNN_BACKEND_EXECUTION_PLAN_DESCRIPTOR: cudnnFinalize Descriptor Failed cudnn_status: CUDNN_STATUS_NOT_SUPPORTED (Triggered internally at ../aten/src/ATen/native/cudnn/Conv_v8.cpp:919.)\n",
      "  return F.conv1d(input, weight, bias, self.stride,\n",
      "596it [00:16, 36.93it/s]/home/vincenzo/anaconda3/envs/vstk/lib/python3.12/site-packages/torch/nn/modules/conv.py:306: UserWarning: Plan failed with a cudnnException: CUDNN_BACKEND_EXECUTION_PLAN_DESCRIPTOR: cudnnFinalize Descriptor Failed cudnn_status: CUDNN_STATUS_NOT_SUPPORTED (Triggered internally at ../aten/src/ATen/native/cudnn/Conv_v8.cpp:919.)\n",
      "  return F.conv1d(input, weight, bias, self.stride,\n",
      "612it [00:16, 45.57it/s]/home/vincenzo/anaconda3/envs/vstk/lib/python3.12/site-packages/torch/nn/modules/conv.py:306: UserWarning: Plan failed with a cudnnException: CUDNN_BACKEND_EXECUTION_PLAN_DESCRIPTOR: cudnnFinalize Descriptor Failed cudnn_status: CUDNN_STATUS_NOT_SUPPORTED (Triggered internally at ../aten/src/ATen/native/cudnn/Conv_v8.cpp:919.)\n",
      "  return F.conv1d(input, weight, bias, self.stride,\n",
      "617it [00:16, 41.12it/s]/home/vincenzo/anaconda3/envs/vstk/lib/python3.12/site-packages/torch/nn/modules/conv.py:306: UserWarning: Plan failed with a cudnnException: CUDNN_BACKEND_EXECUTION_PLAN_DESCRIPTOR: cudnnFinalize Descriptor Failed cudnn_status: CUDNN_STATUS_NOT_SUPPORTED (Triggered internally at ../aten/src/ATen/native/cudnn/Conv_v8.cpp:919.)\n",
      "  return F.conv1d(input, weight, bias, self.stride,\n",
      "639it [00:17, 48.39it/s]/home/vincenzo/anaconda3/envs/vstk/lib/python3.12/site-packages/torch/nn/modules/conv.py:306: UserWarning: Plan failed with a cudnnException: CUDNN_BACKEND_EXECUTION_PLAN_DESCRIPTOR: cudnnFinalize Descriptor Failed cudnn_status: CUDNN_STATUS_NOT_SUPPORTED (Triggered internally at ../aten/src/ATen/native/cudnn/Conv_v8.cpp:919.)\n",
      "  return F.conv1d(input, weight, bias, self.stride,\n",
      "/home/vincenzo/anaconda3/envs/vstk/lib/python3.12/site-packages/torch/nn/modules/conv.py:306: UserWarning: Plan failed with a cudnnException: CUDNN_BACKEND_EXECUTION_PLAN_DESCRIPTOR: cudnnFinalize Descriptor Failed cudnn_status: CUDNN_STATUS_NOT_SUPPORTED (Triggered internally at ../aten/src/ATen/native/cudnn/Conv_v8.cpp:919.)\n",
      "  return F.conv1d(input, weight, bias, self.stride,\n",
      "644it [00:17, 47.26it/s]/home/vincenzo/anaconda3/envs/vstk/lib/python3.12/site-packages/torch/nn/modules/conv.py:306: UserWarning: Plan failed with a cudnnException: CUDNN_BACKEND_EXECUTION_PLAN_DESCRIPTOR: cudnnFinalize Descriptor Failed cudnn_status: CUDNN_STATUS_NOT_SUPPORTED (Triggered internally at ../aten/src/ATen/native/cudnn/Conv_v8.cpp:919.)\n",
      "  return F.conv1d(input, weight, bias, self.stride,\n",
      "649it [00:17, 47.12it/s]/home/vincenzo/anaconda3/envs/vstk/lib/python3.12/site-packages/torch/nn/modules/conv.py:306: UserWarning: Plan failed with a cudnnException: CUDNN_BACKEND_EXECUTION_PLAN_DESCRIPTOR: cudnnFinalize Descriptor Failed cudnn_status: CUDNN_STATUS_NOT_SUPPORTED (Triggered internally at ../aten/src/ATen/native/cudnn/Conv_v8.cpp:919.)\n",
      "  return F.conv1d(input, weight, bias, self.stride,\n",
      "654it [00:17, 46.08it/s]/home/vincenzo/anaconda3/envs/vstk/lib/python3.12/site-packages/torch/nn/modules/conv.py:306: UserWarning: Plan failed with a cudnnException: CUDNN_BACKEND_EXECUTION_PLAN_DESCRIPTOR: cudnnFinalize Descriptor Failed cudnn_status: CUDNN_STATUS_NOT_SUPPORTED (Triggered internally at ../aten/src/ATen/native/cudnn/Conv_v8.cpp:919.)\n",
      "  return F.conv1d(input, weight, bias, self.stride,\n",
      "691it [00:18, 48.72it/s]/home/vincenzo/anaconda3/envs/vstk/lib/python3.12/site-packages/torch/nn/modules/conv.py:306: UserWarning: Plan failed with a cudnnException: CUDNN_BACKEND_EXECUTION_PLAN_DESCRIPTOR: cudnnFinalize Descriptor Failed cudnn_status: CUDNN_STATUS_NOT_SUPPORTED (Triggered internally at ../aten/src/ATen/native/cudnn/Conv_v8.cpp:919.)\n",
      "  return F.conv1d(input, weight, bias, self.stride,\n",
      "702it [00:18, 36.13it/s]/home/vincenzo/anaconda3/envs/vstk/lib/python3.12/site-packages/torch/nn/modules/conv.py:306: UserWarning: Plan failed with a cudnnException: CUDNN_BACKEND_EXECUTION_PLAN_DESCRIPTOR: cudnnFinalize Descriptor Failed cudnn_status: CUDNN_STATUS_NOT_SUPPORTED (Triggered internally at ../aten/src/ATen/native/cudnn/Conv_v8.cpp:919.)\n",
      "  return F.conv1d(input, weight, bias, self.stride,\n",
      "708it [00:18, 39.30it/s]/home/vincenzo/anaconda3/envs/vstk/lib/python3.12/site-packages/torch/nn/modules/conv.py:306: UserWarning: Plan failed with a cudnnException: CUDNN_BACKEND_EXECUTION_PLAN_DESCRIPTOR: cudnnFinalize Descriptor Failed cudnn_status: CUDNN_STATUS_NOT_SUPPORTED (Triggered internally at ../aten/src/ATen/native/cudnn/Conv_v8.cpp:919.)\n",
      "  return F.conv1d(input, weight, bias, self.stride,\n",
      "713it [00:18, 41.42it/s]/home/vincenzo/anaconda3/envs/vstk/lib/python3.12/site-packages/torch/nn/modules/conv.py:306: UserWarning: Plan failed with a cudnnException: CUDNN_BACKEND_EXECUTION_PLAN_DESCRIPTOR: cudnnFinalize Descriptor Failed cudnn_status: CUDNN_STATUS_NOT_SUPPORTED (Triggered internally at ../aten/src/ATen/native/cudnn/Conv_v8.cpp:919.)\n",
      "  return F.conv1d(input, weight, bias, self.stride,\n",
      "718it [00:19, 41.22it/s]/home/vincenzo/anaconda3/envs/vstk/lib/python3.12/site-packages/torch/nn/modules/conv.py:306: UserWarning: Plan failed with a cudnnException: CUDNN_BACKEND_EXECUTION_PLAN_DESCRIPTOR: cudnnFinalize Descriptor Failed cudnn_status: CUDNN_STATUS_NOT_SUPPORTED (Triggered internally at ../aten/src/ATen/native/cudnn/Conv_v8.cpp:919.)\n",
      "  return F.conv1d(input, weight, bias, self.stride,\n",
      "767it [00:20, 35.93it/s]/home/vincenzo/anaconda3/envs/vstk/lib/python3.12/site-packages/torch/nn/modules/conv.py:306: UserWarning: Plan failed with a cudnnException: CUDNN_BACKEND_EXECUTION_PLAN_DESCRIPTOR: cudnnFinalize Descriptor Failed cudnn_status: CUDNN_STATUS_NOT_SUPPORTED (Triggered internally at ../aten/src/ATen/native/cudnn/Conv_v8.cpp:919.)\n",
      "  return F.conv1d(input, weight, bias, self.stride,\n",
      "773it [00:20, 38.71it/s]/home/vincenzo/anaconda3/envs/vstk/lib/python3.12/site-packages/torch/nn/modules/conv.py:306: UserWarning: Plan failed with a cudnnException: CUDNN_BACKEND_EXECUTION_PLAN_DESCRIPTOR: cudnnFinalize Descriptor Failed cudnn_status: CUDNN_STATUS_NOT_SUPPORTED (Triggered internally at ../aten/src/ATen/native/cudnn/Conv_v8.cpp:919.)\n",
      "  return F.conv1d(input, weight, bias, self.stride,\n",
      "876it [00:22, 47.18it/s]/home/vincenzo/anaconda3/envs/vstk/lib/python3.12/site-packages/torch/nn/modules/conv.py:306: UserWarning: Plan failed with a cudnnException: CUDNN_BACKEND_EXECUTION_PLAN_DESCRIPTOR: cudnnFinalize Descriptor Failed cudnn_status: CUDNN_STATUS_NOT_SUPPORTED (Triggered internally at ../aten/src/ATen/native/cudnn/Conv_v8.cpp:919.)\n",
      "  return F.conv1d(input, weight, bias, self.stride,\n",
      "886it [00:23, 23.20it/s]/home/vincenzo/anaconda3/envs/vstk/lib/python3.12/site-packages/torch/nn/modules/conv.py:306: UserWarning: Plan failed with a cudnnException: CUDNN_BACKEND_EXECUTION_PLAN_DESCRIPTOR: cudnnFinalize Descriptor Failed cudnn_status: CUDNN_STATUS_NOT_SUPPORTED (Triggered internally at ../aten/src/ATen/native/cudnn/Conv_v8.cpp:919.)\n",
      "  return F.conv1d(input, weight, bias, self.stride,\n",
      "895it [00:23, 27.44it/s]/home/vincenzo/anaconda3/envs/vstk/lib/python3.12/site-packages/torch/nn/modules/conv.py:306: UserWarning: Plan failed with a cudnnException: CUDNN_BACKEND_EXECUTION_PLAN_DESCRIPTOR: cudnnFinalize Descriptor Failed cudnn_status: CUDNN_STATUS_NOT_SUPPORTED (Triggered internally at ../aten/src/ATen/native/cudnn/Conv_v8.cpp:919.)\n",
      "  return F.conv1d(input, weight, bias, self.stride,\n",
      "977it [00:26, 27.61it/s]/home/vincenzo/anaconda3/envs/vstk/lib/python3.12/site-packages/torch/nn/modules/conv.py:306: UserWarning: Plan failed with a cudnnException: CUDNN_BACKEND_EXECUTION_PLAN_DESCRIPTOR: cudnnFinalize Descriptor Failed cudnn_status: CUDNN_STATUS_NOT_SUPPORTED (Triggered internally at ../aten/src/ATen/native/cudnn/Conv_v8.cpp:919.)\n",
      "  return F.conv1d(input, weight, bias, self.stride,\n",
      "/home/vincenzo/anaconda3/envs/vstk/lib/python3.12/site-packages/torch/nn/modules/conv.py:306: UserWarning: Plan failed with a cudnnException: CUDNN_BACKEND_EXECUTION_PLAN_DESCRIPTOR: cudnnFinalize Descriptor Failed cudnn_status: CUDNN_STATUS_NOT_SUPPORTED (Triggered internally at ../aten/src/ATen/native/cudnn/Conv_v8.cpp:919.)\n",
      "  return F.conv1d(input, weight, bias, self.stride,\n",
      "1004it [00:27, 41.05it/s]/home/vincenzo/anaconda3/envs/vstk/lib/python3.12/site-packages/torch/nn/modules/conv.py:306: UserWarning: Plan failed with a cudnnException: CUDNN_BACKEND_EXECUTION_PLAN_DESCRIPTOR: cudnnFinalize Descriptor Failed cudnn_status: CUDNN_STATUS_NOT_SUPPORTED (Triggered internally at ../aten/src/ATen/native/cudnn/Conv_v8.cpp:919.)\n",
      "  return F.conv1d(input, weight, bias, self.stride,\n",
      "1057it [00:28, 41.44it/s]/home/vincenzo/anaconda3/envs/vstk/lib/python3.12/site-packages/torch/nn/modules/conv.py:306: UserWarning: Plan failed with a cudnnException: CUDNN_BACKEND_EXECUTION_PLAN_DESCRIPTOR: cudnnFinalize Descriptor Failed cudnn_status: CUDNN_STATUS_NOT_SUPPORTED (Triggered internally at ../aten/src/ATen/native/cudnn/Conv_v8.cpp:919.)\n",
      "  return F.conv1d(input, weight, bias, self.stride,\n",
      "1061it [00:28, 37.18it/s]\n"
     ]
    },
    {
     "name": "stdout",
     "output_type": "stream",
     "text": [
      "Starting validation epoch 2/64\n"
     ]
    },
    {
     "name": "stderr",
     "output_type": "stream",
     "text": [
      "100%|██████████████████████████████████████████████████████████████████████████████████████████████████████████████████████████████████████████████████████████████████████████| 354/354 [00:08<00:00, 42.35it/s]\n"
     ]
    },
    {
     "name": "stdout",
     "output_type": "stream",
     "text": [
      "Starting epoch 3/64\n"
     ]
    },
    {
     "name": "stderr",
     "output_type": "stream",
     "text": [
      "212it [00:06, 20.40it/s]/home/vincenzo/anaconda3/envs/vstk/lib/python3.12/site-packages/torch/nn/modules/conv.py:306: UserWarning: Plan failed with a cudnnException: CUDNN_BACKEND_EXECUTION_PLAN_DESCRIPTOR: cudnnFinalize Descriptor Failed cudnn_status: CUDNN_STATUS_NOT_SUPPORTED (Triggered internally at ../aten/src/ATen/native/cudnn/Conv_v8.cpp:919.)\n",
      "  return F.conv1d(input, weight, bias, self.stride,\n",
      "287it [00:08, 40.14it/s]/home/vincenzo/anaconda3/envs/vstk/lib/python3.12/site-packages/torch/nn/modules/conv.py:306: UserWarning: Plan failed with a cudnnException: CUDNN_BACKEND_EXECUTION_PLAN_DESCRIPTOR: cudnnFinalize Descriptor Failed cudnn_status: CUDNN_STATUS_NOT_SUPPORTED (Triggered internally at ../aten/src/ATen/native/cudnn/Conv_v8.cpp:919.)\n",
      "  return F.conv1d(input, weight, bias, self.stride,\n",
      "324it [00:09, 37.08it/s]/home/vincenzo/anaconda3/envs/vstk/lib/python3.12/site-packages/torch/nn/modules/conv.py:306: UserWarning: Plan failed with a cudnnException: CUDNN_BACKEND_EXECUTION_PLAN_DESCRIPTOR: cudnnFinalize Descriptor Failed cudnn_status: CUDNN_STATUS_NOT_SUPPORTED (Triggered internally at ../aten/src/ATen/native/cudnn/Conv_v8.cpp:919.)\n",
      "  return F.conv1d(input, weight, bias, self.stride,\n",
      "396it [00:11, 36.72it/s]/home/vincenzo/anaconda3/envs/vstk/lib/python3.12/site-packages/torch/nn/modules/conv.py:306: UserWarning: Plan failed with a cudnnException: CUDNN_BACKEND_EXECUTION_PLAN_DESCRIPTOR: cudnnFinalize Descriptor Failed cudnn_status: CUDNN_STATUS_NOT_SUPPORTED (Triggered internally at ../aten/src/ATen/native/cudnn/Conv_v8.cpp:919.)\n",
      "  return F.conv1d(input, weight, bias, self.stride,\n",
      "422it [00:11, 45.43it/s]/home/vincenzo/anaconda3/envs/vstk/lib/python3.12/site-packages/torch/nn/modules/conv.py:306: UserWarning: Plan failed with a cudnnException: CUDNN_BACKEND_EXECUTION_PLAN_DESCRIPTOR: cudnnFinalize Descriptor Failed cudnn_status: CUDNN_STATUS_NOT_SUPPORTED (Triggered internally at ../aten/src/ATen/native/cudnn/Conv_v8.cpp:919.)\n",
      "  return F.conv1d(input, weight, bias, self.stride,\n",
      "466it [00:12, 45.35it/s]/home/vincenzo/anaconda3/envs/vstk/lib/python3.12/site-packages/torch/nn/modules/conv.py:306: UserWarning: Plan failed with a cudnnException: CUDNN_BACKEND_EXECUTION_PLAN_DESCRIPTOR: cudnnFinalize Descriptor Failed cudnn_status: CUDNN_STATUS_NOT_SUPPORTED (Triggered internally at ../aten/src/ATen/native/cudnn/Conv_v8.cpp:919.)\n",
      "  return F.conv1d(input, weight, bias, self.stride,\n",
      "523it [00:14, 40.02it/s]/home/vincenzo/anaconda3/envs/vstk/lib/python3.12/site-packages/torch/nn/modules/conv.py:306: UserWarning: Plan failed with a cudnnException: CUDNN_BACKEND_EXECUTION_PLAN_DESCRIPTOR: cudnnFinalize Descriptor Failed cudnn_status: CUDNN_STATUS_NOT_SUPPORTED (Triggered internally at ../aten/src/ATen/native/cudnn/Conv_v8.cpp:919.)\n",
      "  return F.conv1d(input, weight, bias, self.stride,\n",
      "612it [00:16, 47.16it/s]/home/vincenzo/anaconda3/envs/vstk/lib/python3.12/site-packages/torch/nn/modules/conv.py:306: UserWarning: Plan failed with a cudnnException: CUDNN_BACKEND_EXECUTION_PLAN_DESCRIPTOR: cudnnFinalize Descriptor Failed cudnn_status: CUDNN_STATUS_NOT_SUPPORTED (Triggered internally at ../aten/src/ATen/native/cudnn/Conv_v8.cpp:919.)\n",
      "  return F.conv1d(input, weight, bias, self.stride,\n",
      "624it [00:16, 38.50it/s]/home/vincenzo/anaconda3/envs/vstk/lib/python3.12/site-packages/torch/nn/modules/conv.py:306: UserWarning: Plan failed with a cudnnException: CUDNN_BACKEND_EXECUTION_PLAN_DESCRIPTOR: cudnnFinalize Descriptor Failed cudnn_status: CUDNN_STATUS_NOT_SUPPORTED (Triggered internally at ../aten/src/ATen/native/cudnn/Conv_v8.cpp:919.)\n",
      "  return F.conv1d(input, weight, bias, self.stride,\n",
      "1059it [00:28, 23.23it/s]/home/vincenzo/anaconda3/envs/vstk/lib/python3.12/site-packages/torch/nn/modules/conv.py:306: UserWarning: Plan failed with a cudnnException: CUDNN_BACKEND_EXECUTION_PLAN_DESCRIPTOR: cudnnFinalize Descriptor Failed cudnn_status: CUDNN_STATUS_NOT_SUPPORTED (Triggered internally at ../aten/src/ATen/native/cudnn/Conv_v8.cpp:919.)\n",
      "  return F.conv1d(input, weight, bias, self.stride,\n",
      "1061it [00:29, 36.54it/s]\n"
     ]
    },
    {
     "name": "stdout",
     "output_type": "stream",
     "text": [
      "Starting validation epoch 3/64\n"
     ]
    },
    {
     "name": "stderr",
     "output_type": "stream",
     "text": [
      "100%|██████████████████████████████████████████████████████████████████████████████████████████████████████████████████████████████████████████████████████████████████████████| 354/354 [00:08<00:00, 41.88it/s]\n"
     ]
    },
    {
     "name": "stdout",
     "output_type": "stream",
     "text": [
      "Starting epoch 4/64\n"
     ]
    },
    {
     "name": "stderr",
     "output_type": "stream",
     "text": [
      "44it [00:00, 45.05it/s]/home/vincenzo/anaconda3/envs/vstk/lib/python3.12/site-packages/torch/nn/modules/conv.py:306: UserWarning: Plan failed with a cudnnException: CUDNN_BACKEND_EXECUTION_PLAN_DESCRIPTOR: cudnnFinalize Descriptor Failed cudnn_status: CUDNN_STATUS_NOT_SUPPORTED (Triggered internally at ../aten/src/ATen/native/cudnn/Conv_v8.cpp:919.)\n",
      "  return F.conv1d(input, weight, bias, self.stride,\n",
      "468it [00:13, 34.74it/s]/home/vincenzo/anaconda3/envs/vstk/lib/python3.12/site-packages/torch/nn/modules/conv.py:306: UserWarning: Plan failed with a cudnnException: CUDNN_BACKEND_EXECUTION_PLAN_DESCRIPTOR: cudnnFinalize Descriptor Failed cudnn_status: CUDNN_STATUS_NOT_SUPPORTED (Triggered internally at ../aten/src/ATen/native/cudnn/Conv_v8.cpp:919.)\n",
      "  return F.conv1d(input, weight, bias, self.stride,\n",
      "830it [00:22, 48.90it/s]/home/vincenzo/anaconda3/envs/vstk/lib/python3.12/site-packages/torch/nn/modules/conv.py:306: UserWarning: Plan failed with a cudnnException: CUDNN_BACKEND_EXECUTION_PLAN_DESCRIPTOR: cudnnFinalize Descriptor Failed cudnn_status: CUDNN_STATUS_NOT_SUPPORTED (Triggered internally at ../aten/src/ATen/native/cudnn/Conv_v8.cpp:919.)\n",
      "  return F.conv1d(input, weight, bias, self.stride,\n",
      "840it [00:22, 32.33it/s]/home/vincenzo/anaconda3/envs/vstk/lib/python3.12/site-packages/torch/nn/modules/conv.py:306: UserWarning: Plan failed with a cudnnException: CUDNN_BACKEND_EXECUTION_PLAN_DESCRIPTOR: cudnnFinalize Descriptor Failed cudnn_status: CUDNN_STATUS_NOT_SUPPORTED (Triggered internally at ../aten/src/ATen/native/cudnn/Conv_v8.cpp:919.)\n",
      "  return F.conv1d(input, weight, bias, self.stride,\n",
      "1000it [00:26, 36.14it/s]/home/vincenzo/anaconda3/envs/vstk/lib/python3.12/site-packages/torch/nn/modules/conv.py:306: UserWarning: Plan failed with a cudnnException: CUDNN_BACKEND_EXECUTION_PLAN_DESCRIPTOR: cudnnFinalize Descriptor Failed cudnn_status: CUDNN_STATUS_NOT_SUPPORTED (Triggered internally at ../aten/src/ATen/native/cudnn/Conv_v8.cpp:919.)\n",
      "  return F.conv1d(input, weight, bias, self.stride,\n",
      "1060it [00:28, 31.29it/s]/home/vincenzo/anaconda3/envs/vstk/lib/python3.12/site-packages/torch/nn/modules/conv.py:306: UserWarning: Plan failed with a cudnnException: CUDNN_BACKEND_EXECUTION_PLAN_DESCRIPTOR: cudnnFinalize Descriptor Failed cudnn_status: CUDNN_STATUS_NOT_SUPPORTED (Triggered internally at ../aten/src/ATen/native/cudnn/Conv_v8.cpp:919.)\n",
      "  return F.conv1d(input, weight, bias, self.stride,\n",
      "1061it [00:28, 36.93it/s]\n"
     ]
    },
    {
     "name": "stdout",
     "output_type": "stream",
     "text": [
      "Starting validation epoch 4/64\n"
     ]
    },
    {
     "name": "stderr",
     "output_type": "stream",
     "text": [
      "100%|██████████████████████████████████████████████████████████████████████████████████████████████████████████████████████████████████████████████████████████████████████████| 354/354 [00:08<00:00, 42.07it/s]\n"
     ]
    },
    {
     "name": "stdout",
     "output_type": "stream",
     "text": [
      "Starting epoch 5/64\n"
     ]
    },
    {
     "name": "stderr",
     "output_type": "stream",
     "text": [
      "11it [00:00, 23.29it/s]/home/vincenzo/anaconda3/envs/vstk/lib/python3.12/site-packages/torch/nn/modules/conv.py:306: UserWarning: Plan failed with a cudnnException: CUDNN_BACKEND_EXECUTION_PLAN_DESCRIPTOR: cudnnFinalize Descriptor Failed cudnn_status: CUDNN_STATUS_NOT_SUPPORTED (Triggered internally at ../aten/src/ATen/native/cudnn/Conv_v8.cpp:919.)\n",
      "  return F.conv1d(input, weight, bias, self.stride,\n",
      "166it [00:04, 45.26it/s]/home/vincenzo/anaconda3/envs/vstk/lib/python3.12/site-packages/torch/nn/modules/conv.py:306: UserWarning: Plan failed with a cudnnException: CUDNN_BACKEND_EXECUTION_PLAN_DESCRIPTOR: cudnnFinalize Descriptor Failed cudnn_status: CUDNN_STATUS_NOT_SUPPORTED (Triggered internally at ../aten/src/ATen/native/cudnn/Conv_v8.cpp:919.)\n",
      "  return F.conv1d(input, weight, bias, self.stride,\n",
      "1058it [00:28, 52.12it/s]/home/vincenzo/anaconda3/envs/vstk/lib/python3.12/site-packages/torch/nn/modules/conv.py:306: UserWarning: Plan failed with a cudnnException: CUDNN_BACKEND_EXECUTION_PLAN_DESCRIPTOR: cudnnFinalize Descriptor Failed cudnn_status: CUDNN_STATUS_NOT_SUPPORTED (Triggered internally at ../aten/src/ATen/native/cudnn/Conv_v8.cpp:919.)\n",
      "  return F.conv1d(input, weight, bias, self.stride,\n",
      "1061it [00:28, 37.62it/s]\n"
     ]
    },
    {
     "name": "stdout",
     "output_type": "stream",
     "text": [
      "Starting validation epoch 5/64\n"
     ]
    },
    {
     "name": "stderr",
     "output_type": "stream",
     "text": [
      "100%|██████████████████████████████████████████████████████████████████████████████████████████████████████████████████████████████████████████████████████████████████████████| 354/354 [00:08<00:00, 42.31it/s]\n"
     ]
    },
    {
     "name": "stdout",
     "output_type": "stream",
     "text": [
      "Starting epoch 6/64\n"
     ]
    },
    {
     "name": "stderr",
     "output_type": "stream",
     "text": [
      "409it [00:10, 32.85it/s]/home/vincenzo/anaconda3/envs/vstk/lib/python3.12/site-packages/torch/nn/modules/conv.py:306: UserWarning: Plan failed with a cudnnException: CUDNN_BACKEND_EXECUTION_PLAN_DESCRIPTOR: cudnnFinalize Descriptor Failed cudnn_status: CUDNN_STATUS_NOT_SUPPORTED (Triggered internally at ../aten/src/ATen/native/cudnn/Conv_v8.cpp:919.)\n",
      "  return F.conv1d(input, weight, bias, self.stride,\n",
      "1056it [00:28, 40.77it/s]/home/vincenzo/anaconda3/envs/vstk/lib/python3.12/site-packages/torch/nn/modules/conv.py:306: UserWarning: Plan failed with a cudnnException: CUDNN_BACKEND_EXECUTION_PLAN_DESCRIPTOR: cudnnFinalize Descriptor Failed cudnn_status: CUDNN_STATUS_NOT_SUPPORTED (Triggered internally at ../aten/src/ATen/native/cudnn/Conv_v8.cpp:919.)\n",
      "  return F.conv1d(input, weight, bias, self.stride,\n",
      "1061it [00:28, 37.12it/s]\n"
     ]
    },
    {
     "name": "stdout",
     "output_type": "stream",
     "text": [
      "Starting validation epoch 6/64\n"
     ]
    },
    {
     "name": "stderr",
     "output_type": "stream",
     "text": [
      "100%|██████████████████████████████████████████████████████████████████████████████████████████████████████████████████████████████████████████████████████████████████████████| 354/354 [00:08<00:00, 41.98it/s]\n"
     ]
    },
    {
     "name": "stdout",
     "output_type": "stream",
     "text": [
      "Starting epoch 7/64\n"
     ]
    },
    {
     "name": "stderr",
     "output_type": "stream",
     "text": [
      "1061it [00:28, 37.05it/s]\n"
     ]
    },
    {
     "name": "stdout",
     "output_type": "stream",
     "text": [
      "Starting validation epoch 7/64\n"
     ]
    },
    {
     "name": "stderr",
     "output_type": "stream",
     "text": [
      "100%|██████████████████████████████████████████████████████████████████████████████████████████████████████████████████████████████████████████████████████████████████████████| 354/354 [00:08<00:00, 41.92it/s]\n"
     ]
    },
    {
     "name": "stdout",
     "output_type": "stream",
     "text": [
      "Starting epoch 8/64\n"
     ]
    },
    {
     "name": "stderr",
     "output_type": "stream",
     "text": [
      "786it [00:21, 34.45it/s]/home/vincenzo/anaconda3/envs/vstk/lib/python3.12/site-packages/torch/nn/modules/conv.py:306: UserWarning: Plan failed with a cudnnException: CUDNN_BACKEND_EXECUTION_PLAN_DESCRIPTOR: cudnnFinalize Descriptor Failed cudnn_status: CUDNN_STATUS_NOT_SUPPORTED (Triggered internally at ../aten/src/ATen/native/cudnn/Conv_v8.cpp:919.)\n",
      "  return F.conv1d(input, weight, bias, self.stride,\n",
      "1061it [00:28, 37.35it/s]\n"
     ]
    },
    {
     "name": "stdout",
     "output_type": "stream",
     "text": [
      "Starting validation epoch 8/64\n"
     ]
    },
    {
     "name": "stderr",
     "output_type": "stream",
     "text": [
      "100%|██████████████████████████████████████████████████████████████████████████████████████████████████████████████████████████████████████████████████████████████████████████| 354/354 [00:08<00:00, 42.37it/s]\n"
     ]
    },
    {
     "name": "stdout",
     "output_type": "stream",
     "text": [
      "Starting epoch 9/64\n"
     ]
    },
    {
     "name": "stderr",
     "output_type": "stream",
     "text": [
      "1058it [00:28, 26.06it/s]/home/vincenzo/anaconda3/envs/vstk/lib/python3.12/site-packages/torch/nn/modules/conv.py:306: UserWarning: Plan failed with a cudnnException: CUDNN_BACKEND_EXECUTION_PLAN_DESCRIPTOR: cudnnFinalize Descriptor Failed cudnn_status: CUDNN_STATUS_NOT_SUPPORTED (Triggered internally at ../aten/src/ATen/native/cudnn/Conv_v8.cpp:919.)\n",
      "  return F.conv1d(input, weight, bias, self.stride,\n",
      "1061it [00:28, 36.60it/s]\n"
     ]
    },
    {
     "name": "stdout",
     "output_type": "stream",
     "text": [
      "Starting validation epoch 9/64\n"
     ]
    },
    {
     "name": "stderr",
     "output_type": "stream",
     "text": [
      "100%|██████████████████████████████████████████████████████████████████████████████████████████████████████████████████████████████████████████████████████████████████████████| 354/354 [00:08<00:00, 42.30it/s]\n"
     ]
    },
    {
     "name": "stdout",
     "output_type": "stream",
     "text": [
      "Starting epoch 10/64\n"
     ]
    },
    {
     "name": "stderr",
     "output_type": "stream",
     "text": [
      "1061it [00:28, 37.46it/s]\n"
     ]
    },
    {
     "name": "stdout",
     "output_type": "stream",
     "text": [
      "Starting validation epoch 10/64\n"
     ]
    },
    {
     "name": "stderr",
     "output_type": "stream",
     "text": [
      "100%|██████████████████████████████████████████████████████████████████████████████████████████████████████████████████████████████████████████████████████████████████████████| 354/354 [00:08<00:00, 41.52it/s]\n"
     ]
    },
    {
     "name": "stdout",
     "output_type": "stream",
     "text": [
      "Starting epoch 11/64\n"
     ]
    },
    {
     "name": "stderr",
     "output_type": "stream",
     "text": [
      "1061it [00:28, 36.96it/s]\n"
     ]
    },
    {
     "name": "stdout",
     "output_type": "stream",
     "text": [
      "Starting validation epoch 11/64\n"
     ]
    },
    {
     "name": "stderr",
     "output_type": "stream",
     "text": [
      "100%|██████████████████████████████████████████████████████████████████████████████████████████████████████████████████████████████████████████████████████████████████████████| 354/354 [00:08<00:00, 42.01it/s]\n"
     ]
    },
    {
     "name": "stdout",
     "output_type": "stream",
     "text": [
      "Starting epoch 12/64\n"
     ]
    },
    {
     "name": "stderr",
     "output_type": "stream",
     "text": [
      "1061it [00:28, 36.95it/s]\n"
     ]
    },
    {
     "name": "stdout",
     "output_type": "stream",
     "text": [
      "Starting validation epoch 12/64\n"
     ]
    },
    {
     "name": "stderr",
     "output_type": "stream",
     "text": [
      "100%|██████████████████████████████████████████████████████████████████████████████████████████████████████████████████████████████████████████████████████████████████████████| 354/354 [00:08<00:00, 42.83it/s]\n"
     ]
    },
    {
     "name": "stdout",
     "output_type": "stream",
     "text": [
      "Starting epoch 13/64\n"
     ]
    },
    {
     "name": "stderr",
     "output_type": "stream",
     "text": [
      "1061it [00:28, 36.90it/s]\n"
     ]
    },
    {
     "name": "stdout",
     "output_type": "stream",
     "text": [
      "Starting validation epoch 13/64\n"
     ]
    },
    {
     "name": "stderr",
     "output_type": "stream",
     "text": [
      "100%|██████████████████████████████████████████████████████████████████████████████████████████████████████████████████████████████████████████████████████████████████████████| 354/354 [00:08<00:00, 42.28it/s]\n"
     ]
    },
    {
     "name": "stdout",
     "output_type": "stream",
     "text": [
      "Starting epoch 14/64\n"
     ]
    },
    {
     "name": "stderr",
     "output_type": "stream",
     "text": [
      "1060it [00:27, 43.83it/s]/home/vincenzo/anaconda3/envs/vstk/lib/python3.12/site-packages/torch/nn/modules/conv.py:306: UserWarning: Plan failed with a cudnnException: CUDNN_BACKEND_EXECUTION_PLAN_DESCRIPTOR: cudnnFinalize Descriptor Failed cudnn_status: CUDNN_STATUS_NOT_SUPPORTED (Triggered internally at ../aten/src/ATen/native/cudnn/Conv_v8.cpp:919.)\n",
      "  return F.conv1d(input, weight, bias, self.stride,\n",
      "1061it [00:28, 37.79it/s]\n"
     ]
    },
    {
     "name": "stdout",
     "output_type": "stream",
     "text": [
      "Starting validation epoch 14/64\n"
     ]
    },
    {
     "name": "stderr",
     "output_type": "stream",
     "text": [
      "100%|██████████████████████████████████████████████████████████████████████████████████████████████████████████████████████████████████████████████████████████████████████████| 354/354 [00:08<00:00, 41.69it/s]\n"
     ]
    },
    {
     "name": "stdout",
     "output_type": "stream",
     "text": [
      "Starting epoch 15/64\n"
     ]
    },
    {
     "name": "stderr",
     "output_type": "stream",
     "text": [
      "1061it [00:28, 36.88it/s]\n"
     ]
    },
    {
     "name": "stdout",
     "output_type": "stream",
     "text": [
      "Starting validation epoch 15/64\n"
     ]
    },
    {
     "name": "stderr",
     "output_type": "stream",
     "text": [
      "100%|██████████████████████████████████████████████████████████████████████████████████████████████████████████████████████████████████████████████████████████████████████████| 354/354 [00:08<00:00, 41.96it/s]\n"
     ]
    },
    {
     "name": "stdout",
     "output_type": "stream",
     "text": [
      "Starting epoch 16/64\n"
     ]
    },
    {
     "name": "stderr",
     "output_type": "stream",
     "text": [
      "1061it [00:28, 37.08it/s]\n"
     ]
    },
    {
     "name": "stdout",
     "output_type": "stream",
     "text": [
      "Starting validation epoch 16/64\n"
     ]
    },
    {
     "name": "stderr",
     "output_type": "stream",
     "text": [
      "100%|██████████████████████████████████████████████████████████████████████████████████████████████████████████████████████████████████████████████████████████████████████████| 354/354 [00:08<00:00, 41.86it/s]\n"
     ]
    },
    {
     "name": "stdout",
     "output_type": "stream",
     "text": [
      "Starting epoch 17/64\n"
     ]
    },
    {
     "name": "stderr",
     "output_type": "stream",
     "text": [
      "1061it [00:28, 37.04it/s]\n"
     ]
    },
    {
     "name": "stdout",
     "output_type": "stream",
     "text": [
      "Starting validation epoch 17/64\n"
     ]
    },
    {
     "name": "stderr",
     "output_type": "stream",
     "text": [
      "100%|██████████████████████████████████████████████████████████████████████████████████████████████████████████████████████████████████████████████████████████████████████████| 354/354 [00:08<00:00, 42.22it/s]\n"
     ]
    },
    {
     "name": "stdout",
     "output_type": "stream",
     "text": [
      "Starting epoch 18/64\n"
     ]
    },
    {
     "name": "stderr",
     "output_type": "stream",
     "text": [
      "1058it [00:28, 46.75it/s]/home/vincenzo/anaconda3/envs/vstk/lib/python3.12/site-packages/torch/nn/modules/conv.py:306: UserWarning: Plan failed with a cudnnException: CUDNN_BACKEND_EXECUTION_PLAN_DESCRIPTOR: cudnnFinalize Descriptor Failed cudnn_status: CUDNN_STATUS_NOT_SUPPORTED (Triggered internally at ../aten/src/ATen/native/cudnn/Conv_v8.cpp:919.)\n",
      "  return F.conv1d(input, weight, bias, self.stride,\n",
      "1061it [00:28, 37.47it/s]\n"
     ]
    },
    {
     "name": "stdout",
     "output_type": "stream",
     "text": [
      "Starting validation epoch 18/64\n"
     ]
    },
    {
     "name": "stderr",
     "output_type": "stream",
     "text": [
      "100%|██████████████████████████████████████████████████████████████████████████████████████████████████████████████████████████████████████████████████████████████████████████| 354/354 [00:08<00:00, 41.58it/s]\n"
     ]
    },
    {
     "name": "stdout",
     "output_type": "stream",
     "text": [
      "Starting epoch 19/64\n"
     ]
    },
    {
     "name": "stderr",
     "output_type": "stream",
     "text": [
      "1061it [00:28, 36.83it/s]\n"
     ]
    },
    {
     "name": "stdout",
     "output_type": "stream",
     "text": [
      "Starting validation epoch 19/64\n"
     ]
    },
    {
     "name": "stderr",
     "output_type": "stream",
     "text": [
      "100%|██████████████████████████████████████████████████████████████████████████████████████████████████████████████████████████████████████████████████████████████████████████| 354/354 [00:08<00:00, 41.67it/s]\n"
     ]
    },
    {
     "name": "stdout",
     "output_type": "stream",
     "text": [
      "Starting epoch 20/64\n"
     ]
    },
    {
     "name": "stderr",
     "output_type": "stream",
     "text": [
      "1061it [00:28, 37.62it/s]\n"
     ]
    },
    {
     "name": "stdout",
     "output_type": "stream",
     "text": [
      "Starting validation epoch 20/64\n"
     ]
    },
    {
     "name": "stderr",
     "output_type": "stream",
     "text": [
      "100%|██████████████████████████████████████████████████████████████████████████████████████████████████████████████████████████████████████████████████████████████████████████| 354/354 [00:08<00:00, 42.88it/s]\n"
     ]
    },
    {
     "name": "stdout",
     "output_type": "stream",
     "text": [
      "Starting epoch 21/64\n"
     ]
    },
    {
     "name": "stderr",
     "output_type": "stream",
     "text": [
      "1059it [00:28, 39.01it/s]/home/vincenzo/anaconda3/envs/vstk/lib/python3.12/site-packages/torch/nn/modules/conv.py:306: UserWarning: Plan failed with a cudnnException: CUDNN_BACKEND_EXECUTION_PLAN_DESCRIPTOR: cudnnFinalize Descriptor Failed cudnn_status: CUDNN_STATUS_NOT_SUPPORTED (Triggered internally at ../aten/src/ATen/native/cudnn/Conv_v8.cpp:919.)\n",
      "  return F.conv1d(input, weight, bias, self.stride,\n",
      "1061it [00:28, 37.58it/s]\n"
     ]
    },
    {
     "name": "stdout",
     "output_type": "stream",
     "text": [
      "Starting validation epoch 21/64\n"
     ]
    },
    {
     "name": "stderr",
     "output_type": "stream",
     "text": [
      "100%|██████████████████████████████████████████████████████████████████████████████████████████████████████████████████████████████████████████████████████████████████████████| 354/354 [00:08<00:00, 42.32it/s]\n"
     ]
    },
    {
     "name": "stdout",
     "output_type": "stream",
     "text": [
      "Starting epoch 22/64\n"
     ]
    },
    {
     "name": "stderr",
     "output_type": "stream",
     "text": [
      "1061it [00:28, 37.40it/s]\n"
     ]
    },
    {
     "name": "stdout",
     "output_type": "stream",
     "text": [
      "Starting validation epoch 22/64\n"
     ]
    },
    {
     "name": "stderr",
     "output_type": "stream",
     "text": [
      "100%|██████████████████████████████████████████████████████████████████████████████████████████████████████████████████████████████████████████████████████████████████████████| 354/354 [00:08<00:00, 42.10it/s]\n"
     ]
    },
    {
     "name": "stdout",
     "output_type": "stream",
     "text": [
      "Starting epoch 23/64\n"
     ]
    },
    {
     "name": "stderr",
     "output_type": "stream",
     "text": [
      "1059it [00:28, 49.23it/s]/home/vincenzo/anaconda3/envs/vstk/lib/python3.12/site-packages/torch/nn/modules/conv.py:306: UserWarning: Plan failed with a cudnnException: CUDNN_BACKEND_EXECUTION_PLAN_DESCRIPTOR: cudnnFinalize Descriptor Failed cudnn_status: CUDNN_STATUS_NOT_SUPPORTED (Triggered internally at ../aten/src/ATen/native/cudnn/Conv_v8.cpp:919.)\n",
      "  return F.conv1d(input, weight, bias, self.stride,\n",
      "1061it [00:28, 37.49it/s]\n"
     ]
    },
    {
     "name": "stdout",
     "output_type": "stream",
     "text": [
      "Starting validation epoch 23/64\n"
     ]
    },
    {
     "name": "stderr",
     "output_type": "stream",
     "text": [
      "100%|██████████████████████████████████████████████████████████████████████████████████████████████████████████████████████████████████████████████████████████████████████████| 354/354 [00:08<00:00, 42.30it/s]\n"
     ]
    },
    {
     "name": "stdout",
     "output_type": "stream",
     "text": [
      "Starting epoch 24/64\n"
     ]
    },
    {
     "name": "stderr",
     "output_type": "stream",
     "text": [
      "1057it [00:28, 42.57it/s]/home/vincenzo/anaconda3/envs/vstk/lib/python3.12/site-packages/torch/nn/modules/conv.py:306: UserWarning: Plan failed with a cudnnException: CUDNN_BACKEND_EXECUTION_PLAN_DESCRIPTOR: cudnnFinalize Descriptor Failed cudnn_status: CUDNN_STATUS_NOT_SUPPORTED (Triggered internally at ../aten/src/ATen/native/cudnn/Conv_v8.cpp:919.)\n",
      "  return F.conv1d(input, weight, bias, self.stride,\n",
      "1061it [00:28, 36.74it/s]\n"
     ]
    },
    {
     "name": "stdout",
     "output_type": "stream",
     "text": [
      "Starting validation epoch 24/64\n"
     ]
    },
    {
     "name": "stderr",
     "output_type": "stream",
     "text": [
      "100%|██████████████████████████████████████████████████████████████████████████████████████████████████████████████████████████████████████████████████████████████████████████| 354/354 [00:08<00:00, 41.81it/s]\n"
     ]
    },
    {
     "name": "stdout",
     "output_type": "stream",
     "text": [
      "Starting epoch 25/64\n"
     ]
    },
    {
     "name": "stderr",
     "output_type": "stream",
     "text": [
      "1057it [00:28, 25.29it/s]/home/vincenzo/anaconda3/envs/vstk/lib/python3.12/site-packages/torch/nn/modules/conv.py:306: UserWarning: Plan failed with a cudnnException: CUDNN_BACKEND_EXECUTION_PLAN_DESCRIPTOR: cudnnFinalize Descriptor Failed cudnn_status: CUDNN_STATUS_NOT_SUPPORTED (Triggered internally at ../aten/src/ATen/native/cudnn/Conv_v8.cpp:919.)\n",
      "  return F.conv1d(input, weight, bias, self.stride,\n",
      "1061it [00:29, 36.54it/s]\n"
     ]
    },
    {
     "name": "stdout",
     "output_type": "stream",
     "text": [
      "Starting validation epoch 25/64\n"
     ]
    },
    {
     "name": "stderr",
     "output_type": "stream",
     "text": [
      "100%|██████████████████████████████████████████████████████████████████████████████████████████████████████████████████████████████████████████████████████████████████████████| 354/354 [00:08<00:00, 42.26it/s]\n"
     ]
    },
    {
     "name": "stdout",
     "output_type": "stream",
     "text": [
      "Starting epoch 26/64\n"
     ]
    },
    {
     "name": "stderr",
     "output_type": "stream",
     "text": [
      "1061it [00:28, 37.51it/s]\n"
     ]
    },
    {
     "name": "stdout",
     "output_type": "stream",
     "text": [
      "Starting validation epoch 26/64\n"
     ]
    },
    {
     "name": "stderr",
     "output_type": "stream",
     "text": [
      "100%|██████████████████████████████████████████████████████████████████████████████████████████████████████████████████████████████████████████████████████████████████████████| 354/354 [00:08<00:00, 42.06it/s]\n"
     ]
    },
    {
     "name": "stdout",
     "output_type": "stream",
     "text": [
      "Starting epoch 27/64\n"
     ]
    },
    {
     "name": "stderr",
     "output_type": "stream",
     "text": [
      "1060it [00:28, 46.57it/s]/home/vincenzo/anaconda3/envs/vstk/lib/python3.12/site-packages/torch/nn/modules/conv.py:306: UserWarning: Plan failed with a cudnnException: CUDNN_BACKEND_EXECUTION_PLAN_DESCRIPTOR: cudnnFinalize Descriptor Failed cudnn_status: CUDNN_STATUS_NOT_SUPPORTED (Triggered internally at ../aten/src/ATen/native/cudnn/Conv_v8.cpp:919.)\n",
      "  return F.conv1d(input, weight, bias, self.stride,\n",
      "1061it [00:28, 37.43it/s]\n"
     ]
    },
    {
     "name": "stdout",
     "output_type": "stream",
     "text": [
      "Starting validation epoch 27/64\n"
     ]
    },
    {
     "name": "stderr",
     "output_type": "stream",
     "text": [
      "100%|██████████████████████████████████████████████████████████████████████████████████████████████████████████████████████████████████████████████████████████████████████████| 354/354 [00:08<00:00, 42.10it/s]\n"
     ]
    },
    {
     "name": "stdout",
     "output_type": "stream",
     "text": [
      "Starting epoch 28/64\n"
     ]
    },
    {
     "name": "stderr",
     "output_type": "stream",
     "text": [
      "1060it [00:28, 35.96it/s]/home/vincenzo/anaconda3/envs/vstk/lib/python3.12/site-packages/torch/nn/modules/conv.py:306: UserWarning: Plan failed with a cudnnException: CUDNN_BACKEND_EXECUTION_PLAN_DESCRIPTOR: cudnnFinalize Descriptor Failed cudnn_status: CUDNN_STATUS_NOT_SUPPORTED (Triggered internally at ../aten/src/ATen/native/cudnn/Conv_v8.cpp:919.)\n",
      "  return F.conv1d(input, weight, bias, self.stride,\n",
      "1061it [00:28, 37.42it/s]\n"
     ]
    },
    {
     "name": "stdout",
     "output_type": "stream",
     "text": [
      "Starting validation epoch 28/64\n"
     ]
    },
    {
     "name": "stderr",
     "output_type": "stream",
     "text": [
      "100%|██████████████████████████████████████████████████████████████████████████████████████████████████████████████████████████████████████████████████████████████████████████| 354/354 [00:08<00:00, 42.09it/s]\n"
     ]
    },
    {
     "name": "stdout",
     "output_type": "stream",
     "text": [
      "Starting epoch 29/64\n"
     ]
    },
    {
     "name": "stderr",
     "output_type": "stream",
     "text": [
      "1061it [00:28, 37.19it/s]\n"
     ]
    },
    {
     "name": "stdout",
     "output_type": "stream",
     "text": [
      "Starting validation epoch 29/64\n"
     ]
    },
    {
     "name": "stderr",
     "output_type": "stream",
     "text": [
      "100%|██████████████████████████████████████████████████████████████████████████████████████████████████████████████████████████████████████████████████████████████████████████| 354/354 [00:08<00:00, 41.98it/s]\n"
     ]
    },
    {
     "name": "stdout",
     "output_type": "stream",
     "text": [
      "Starting epoch 30/64\n"
     ]
    },
    {
     "name": "stderr",
     "output_type": "stream",
     "text": [
      "1061it [00:28, 36.59it/s]\n"
     ]
    },
    {
     "name": "stdout",
     "output_type": "stream",
     "text": [
      "Starting validation epoch 30/64\n"
     ]
    },
    {
     "name": "stderr",
     "output_type": "stream",
     "text": [
      "100%|██████████████████████████████████████████████████████████████████████████████████████████████████████████████████████████████████████████████████████████████████████████| 354/354 [00:08<00:00, 41.75it/s]\n"
     ]
    },
    {
     "name": "stdout",
     "output_type": "stream",
     "text": [
      "Starting epoch 31/64\n"
     ]
    },
    {
     "name": "stderr",
     "output_type": "stream",
     "text": [
      "1058it [00:28, 38.75it/s]/home/vincenzo/anaconda3/envs/vstk/lib/python3.12/site-packages/torch/nn/modules/conv.py:306: UserWarning: Plan failed with a cudnnException: CUDNN_BACKEND_EXECUTION_PLAN_DESCRIPTOR: cudnnFinalize Descriptor Failed cudnn_status: CUDNN_STATUS_NOT_SUPPORTED (Triggered internally at ../aten/src/ATen/native/cudnn/Conv_v8.cpp:919.)\n",
      "  return F.conv1d(input, weight, bias, self.stride,\n",
      "1061it [00:28, 36.97it/s]\n"
     ]
    },
    {
     "name": "stdout",
     "output_type": "stream",
     "text": [
      "Starting validation epoch 31/64\n"
     ]
    },
    {
     "name": "stderr",
     "output_type": "stream",
     "text": [
      "100%|██████████████████████████████████████████████████████████████████████████████████████████████████████████████████████████████████████████████████████████████████████████| 354/354 [00:08<00:00, 42.40it/s]\n"
     ]
    },
    {
     "name": "stdout",
     "output_type": "stream",
     "text": [
      "Starting epoch 32/64\n"
     ]
    },
    {
     "name": "stderr",
     "output_type": "stream",
     "text": [
      "1057it [00:28, 33.69it/s]/home/vincenzo/anaconda3/envs/vstk/lib/python3.12/site-packages/torch/nn/modules/conv.py:306: UserWarning: Plan failed with a cudnnException: CUDNN_BACKEND_EXECUTION_PLAN_DESCRIPTOR: cudnnFinalize Descriptor Failed cudnn_status: CUDNN_STATUS_NOT_SUPPORTED (Triggered internally at ../aten/src/ATen/native/cudnn/Conv_v8.cpp:919.)\n",
      "  return F.conv1d(input, weight, bias, self.stride,\n",
      "1061it [00:28, 37.47it/s]\n"
     ]
    },
    {
     "name": "stdout",
     "output_type": "stream",
     "text": [
      "Starting validation epoch 32/64\n"
     ]
    },
    {
     "name": "stderr",
     "output_type": "stream",
     "text": [
      "100%|██████████████████████████████████████████████████████████████████████████████████████████████████████████████████████████████████████████████████████████████████████████| 354/354 [00:08<00:00, 42.51it/s]\n"
     ]
    },
    {
     "name": "stdout",
     "output_type": "stream",
     "text": [
      "Starting epoch 33/64\n"
     ]
    },
    {
     "name": "stderr",
     "output_type": "stream",
     "text": [
      "1061it [00:28, 37.60it/s]\n"
     ]
    },
    {
     "name": "stdout",
     "output_type": "stream",
     "text": [
      "Starting validation epoch 33/64\n"
     ]
    },
    {
     "name": "stderr",
     "output_type": "stream",
     "text": [
      "100%|██████████████████████████████████████████████████████████████████████████████████████████████████████████████████████████████████████████████████████████████████████████| 354/354 [00:08<00:00, 42.17it/s]\n"
     ]
    },
    {
     "name": "stdout",
     "output_type": "stream",
     "text": [
      "Starting epoch 34/64\n"
     ]
    },
    {
     "name": "stderr",
     "output_type": "stream",
     "text": [
      "1061it [00:28, 37.31it/s]\n"
     ]
    },
    {
     "name": "stdout",
     "output_type": "stream",
     "text": [
      "Starting validation epoch 34/64\n"
     ]
    },
    {
     "name": "stderr",
     "output_type": "stream",
     "text": [
      "100%|██████████████████████████████████████████████████████████████████████████████████████████████████████████████████████████████████████████████████████████████████████████| 354/354 [00:08<00:00, 41.60it/s]\n"
     ]
    },
    {
     "name": "stdout",
     "output_type": "stream",
     "text": [
      "Starting epoch 35/64\n"
     ]
    },
    {
     "name": "stderr",
     "output_type": "stream",
     "text": [
      "1061it [00:28, 36.81it/s]\n"
     ]
    },
    {
     "name": "stdout",
     "output_type": "stream",
     "text": [
      "Starting validation epoch 35/64\n"
     ]
    },
    {
     "name": "stderr",
     "output_type": "stream",
     "text": [
      "100%|██████████████████████████████████████████████████████████████████████████████████████████████████████████████████████████████████████████████████████████████████████████| 354/354 [00:08<00:00, 43.15it/s]\n"
     ]
    },
    {
     "name": "stdout",
     "output_type": "stream",
     "text": [
      "Starting epoch 36/64\n"
     ]
    },
    {
     "name": "stderr",
     "output_type": "stream",
     "text": [
      "1061it [00:28, 37.76it/s]\n"
     ]
    },
    {
     "name": "stdout",
     "output_type": "stream",
     "text": [
      "Starting validation epoch 36/64\n"
     ]
    },
    {
     "name": "stderr",
     "output_type": "stream",
     "text": [
      "100%|██████████████████████████████████████████████████████████████████████████████████████████████████████████████████████████████████████████████████████████████████████████| 354/354 [00:08<00:00, 42.98it/s]\n"
     ]
    },
    {
     "name": "stdout",
     "output_type": "stream",
     "text": [
      "Starting epoch 37/64\n"
     ]
    },
    {
     "name": "stderr",
     "output_type": "stream",
     "text": [
      "1061it [00:28, 37.76it/s]\n"
     ]
    },
    {
     "name": "stdout",
     "output_type": "stream",
     "text": [
      "Starting validation epoch 37/64\n"
     ]
    },
    {
     "name": "stderr",
     "output_type": "stream",
     "text": [
      "100%|██████████████████████████████████████████████████████████████████████████████████████████████████████████████████████████████████████████████████████████████████████████| 354/354 [00:08<00:00, 43.31it/s]\n"
     ]
    },
    {
     "name": "stdout",
     "output_type": "stream",
     "text": [
      "Starting epoch 38/64\n"
     ]
    },
    {
     "name": "stderr",
     "output_type": "stream",
     "text": [
      "1057it [00:27, 40.27it/s]/home/vincenzo/anaconda3/envs/vstk/lib/python3.12/site-packages/torch/nn/modules/conv.py:306: UserWarning: Plan failed with a cudnnException: CUDNN_BACKEND_EXECUTION_PLAN_DESCRIPTOR: cudnnFinalize Descriptor Failed cudnn_status: CUDNN_STATUS_NOT_SUPPORTED (Triggered internally at ../aten/src/ATen/native/cudnn/Conv_v8.cpp:919.)\n",
      "  return F.conv1d(input, weight, bias, self.stride,\n",
      "1061it [00:28, 37.88it/s]\n"
     ]
    },
    {
     "name": "stdout",
     "output_type": "stream",
     "text": [
      "Starting validation epoch 38/64\n"
     ]
    },
    {
     "name": "stderr",
     "output_type": "stream",
     "text": [
      "100%|██████████████████████████████████████████████████████████████████████████████████████████████████████████████████████████████████████████████████████████████████████████| 354/354 [00:08<00:00, 42.30it/s]\n"
     ]
    },
    {
     "name": "stdout",
     "output_type": "stream",
     "text": [
      "Starting epoch 39/64\n"
     ]
    },
    {
     "name": "stderr",
     "output_type": "stream",
     "text": [
      "1058it [00:28, 36.25it/s]/home/vincenzo/anaconda3/envs/vstk/lib/python3.12/site-packages/torch/nn/modules/conv.py:306: UserWarning: Plan failed with a cudnnException: CUDNN_BACKEND_EXECUTION_PLAN_DESCRIPTOR: cudnnFinalize Descriptor Failed cudnn_status: CUDNN_STATUS_NOT_SUPPORTED (Triggered internally at ../aten/src/ATen/native/cudnn/Conv_v8.cpp:919.)\n",
      "  return F.conv1d(input, weight, bias, self.stride,\n",
      "1061it [00:28, 37.46it/s]\n"
     ]
    },
    {
     "name": "stdout",
     "output_type": "stream",
     "text": [
      "Starting validation epoch 39/64\n"
     ]
    },
    {
     "name": "stderr",
     "output_type": "stream",
     "text": [
      "100%|██████████████████████████████████████████████████████████████████████████████████████████████████████████████████████████████████████████████████████████████████████████| 354/354 [00:08<00:00, 43.07it/s]\n"
     ]
    },
    {
     "name": "stdout",
     "output_type": "stream",
     "text": [
      "Starting epoch 40/64\n"
     ]
    },
    {
     "name": "stderr",
     "output_type": "stream",
     "text": [
      "1061it [00:29, 36.42it/s]\n"
     ]
    },
    {
     "name": "stdout",
     "output_type": "stream",
     "text": [
      "Starting validation epoch 40/64\n"
     ]
    },
    {
     "name": "stderr",
     "output_type": "stream",
     "text": [
      "100%|██████████████████████████████████████████████████████████████████████████████████████████████████████████████████████████████████████████████████████████████████████████| 354/354 [00:08<00:00, 41.83it/s]\n"
     ]
    },
    {
     "name": "stdout",
     "output_type": "stream",
     "text": [
      "Starting epoch 41/64\n"
     ]
    },
    {
     "name": "stderr",
     "output_type": "stream",
     "text": [
      "1061it [00:28, 36.97it/s]\n"
     ]
    },
    {
     "name": "stdout",
     "output_type": "stream",
     "text": [
      "Starting validation epoch 41/64\n"
     ]
    },
    {
     "name": "stderr",
     "output_type": "stream",
     "text": [
      "100%|██████████████████████████████████████████████████████████████████████████████████████████████████████████████████████████████████████████████████████████████████████████| 354/354 [00:08<00:00, 41.44it/s]\n"
     ]
    },
    {
     "name": "stdout",
     "output_type": "stream",
     "text": [
      "Starting epoch 42/64\n"
     ]
    },
    {
     "name": "stderr",
     "output_type": "stream",
     "text": [
      "1059it [00:29, 43.99it/s]/home/vincenzo/anaconda3/envs/vstk/lib/python3.12/site-packages/torch/nn/modules/conv.py:306: UserWarning: Plan failed with a cudnnException: CUDNN_BACKEND_EXECUTION_PLAN_DESCRIPTOR: cudnnFinalize Descriptor Failed cudnn_status: CUDNN_STATUS_NOT_SUPPORTED (Triggered internally at ../aten/src/ATen/native/cudnn/Conv_v8.cpp:919.)\n",
      "  return F.conv1d(input, weight, bias, self.stride,\n",
      "1061it [00:29, 36.32it/s]\n"
     ]
    },
    {
     "name": "stdout",
     "output_type": "stream",
     "text": [
      "Starting validation epoch 42/64\n"
     ]
    },
    {
     "name": "stderr",
     "output_type": "stream",
     "text": [
      "100%|██████████████████████████████████████████████████████████████████████████████████████████████████████████████████████████████████████████████████████████████████████████| 354/354 [00:08<00:00, 41.44it/s]\n"
     ]
    },
    {
     "name": "stdout",
     "output_type": "stream",
     "text": [
      "Starting epoch 43/64\n"
     ]
    },
    {
     "name": "stderr",
     "output_type": "stream",
     "text": [
      "1061it [00:28, 36.65it/s]\n"
     ]
    },
    {
     "name": "stdout",
     "output_type": "stream",
     "text": [
      "Starting validation epoch 43/64\n"
     ]
    },
    {
     "name": "stderr",
     "output_type": "stream",
     "text": [
      "100%|██████████████████████████████████████████████████████████████████████████████████████████████████████████████████████████████████████████████████████████████████████████| 354/354 [00:08<00:00, 41.28it/s]\n"
     ]
    },
    {
     "name": "stdout",
     "output_type": "stream",
     "text": [
      "Starting epoch 44/64\n"
     ]
    },
    {
     "name": "stderr",
     "output_type": "stream",
     "text": [
      "1061it [00:29, 35.62it/s]\n"
     ]
    },
    {
     "name": "stdout",
     "output_type": "stream",
     "text": [
      "Starting validation epoch 44/64\n"
     ]
    },
    {
     "name": "stderr",
     "output_type": "stream",
     "text": [
      "100%|██████████████████████████████████████████████████████████████████████████████████████████████████████████████████████████████████████████████████████████████████████████| 354/354 [00:08<00:00, 40.04it/s]\n"
     ]
    },
    {
     "name": "stdout",
     "output_type": "stream",
     "text": [
      "Starting epoch 45/64\n"
     ]
    },
    {
     "name": "stderr",
     "output_type": "stream",
     "text": [
      "1058it [00:29, 26.52it/s]/home/vincenzo/anaconda3/envs/vstk/lib/python3.12/site-packages/torch/nn/modules/conv.py:306: UserWarning: Plan failed with a cudnnException: CUDNN_BACKEND_EXECUTION_PLAN_DESCRIPTOR: cudnnFinalize Descriptor Failed cudnn_status: CUDNN_STATUS_NOT_SUPPORTED (Triggered internally at ../aten/src/ATen/native/cudnn/Conv_v8.cpp:919.)\n",
      "  return F.conv1d(input, weight, bias, self.stride,\n",
      "1061it [00:29, 36.33it/s]\n"
     ]
    },
    {
     "name": "stdout",
     "output_type": "stream",
     "text": [
      "Starting validation epoch 45/64\n"
     ]
    },
    {
     "name": "stderr",
     "output_type": "stream",
     "text": [
      "100%|██████████████████████████████████████████████████████████████████████████████████████████████████████████████████████████████████████████████████████████████████████████| 354/354 [00:08<00:00, 40.21it/s]\n"
     ]
    },
    {
     "name": "stdout",
     "output_type": "stream",
     "text": [
      "Starting epoch 46/64\n"
     ]
    },
    {
     "name": "stderr",
     "output_type": "stream",
     "text": [
      "1061it [00:30, 35.25it/s]\n"
     ]
    },
    {
     "name": "stdout",
     "output_type": "stream",
     "text": [
      "Starting validation epoch 46/64\n"
     ]
    },
    {
     "name": "stderr",
     "output_type": "stream",
     "text": [
      "100%|██████████████████████████████████████████████████████████████████████████████████████████████████████████████████████████████████████████████████████████████████████████| 354/354 [00:08<00:00, 41.73it/s]\n"
     ]
    },
    {
     "name": "stdout",
     "output_type": "stream",
     "text": [
      "Starting epoch 47/64\n"
     ]
    },
    {
     "name": "stderr",
     "output_type": "stream",
     "text": [
      "1057it [00:28, 48.30it/s]/home/vincenzo/anaconda3/envs/vstk/lib/python3.12/site-packages/torch/nn/modules/conv.py:306: UserWarning: Plan failed with a cudnnException: CUDNN_BACKEND_EXECUTION_PLAN_DESCRIPTOR: cudnnFinalize Descriptor Failed cudnn_status: CUDNN_STATUS_NOT_SUPPORTED (Triggered internally at ../aten/src/ATen/native/cudnn/Conv_v8.cpp:919.)\n",
      "  return F.conv1d(input, weight, bias, self.stride,\n",
      "1061it [00:28, 36.92it/s]\n"
     ]
    },
    {
     "name": "stdout",
     "output_type": "stream",
     "text": [
      "Starting validation epoch 47/64\n"
     ]
    },
    {
     "name": "stderr",
     "output_type": "stream",
     "text": [
      "100%|██████████████████████████████████████████████████████████████████████████████████████████████████████████████████████████████████████████████████████████████████████████| 354/354 [00:08<00:00, 41.89it/s]\n"
     ]
    },
    {
     "name": "stdout",
     "output_type": "stream",
     "text": [
      "Starting epoch 48/64\n"
     ]
    },
    {
     "name": "stderr",
     "output_type": "stream",
     "text": [
      "1057it [00:29, 44.95it/s]/home/vincenzo/anaconda3/envs/vstk/lib/python3.12/site-packages/torch/nn/modules/conv.py:306: UserWarning: Plan failed with a cudnnException: CUDNN_BACKEND_EXECUTION_PLAN_DESCRIPTOR: cudnnFinalize Descriptor Failed cudnn_status: CUDNN_STATUS_NOT_SUPPORTED (Triggered internally at ../aten/src/ATen/native/cudnn/Conv_v8.cpp:919.)\n",
      "  return F.conv1d(input, weight, bias, self.stride,\n",
      "1061it [00:29, 36.10it/s]\n"
     ]
    },
    {
     "name": "stdout",
     "output_type": "stream",
     "text": [
      "Starting validation epoch 48/64\n"
     ]
    },
    {
     "name": "stderr",
     "output_type": "stream",
     "text": [
      "100%|██████████████████████████████████████████████████████████████████████████████████████████████████████████████████████████████████████████████████████████████████████████| 354/354 [00:08<00:00, 41.97it/s]\n"
     ]
    },
    {
     "name": "stdout",
     "output_type": "stream",
     "text": [
      "Starting epoch 49/64\n"
     ]
    },
    {
     "name": "stderr",
     "output_type": "stream",
     "text": [
      "1061it [00:28, 36.72it/s]\n"
     ]
    },
    {
     "name": "stdout",
     "output_type": "stream",
     "text": [
      "Starting validation epoch 49/64\n"
     ]
    },
    {
     "name": "stderr",
     "output_type": "stream",
     "text": [
      "100%|██████████████████████████████████████████████████████████████████████████████████████████████████████████████████████████████████████████████████████████████████████████| 354/354 [00:08<00:00, 41.88it/s]\n"
     ]
    },
    {
     "name": "stdout",
     "output_type": "stream",
     "text": [
      "Starting epoch 50/64\n"
     ]
    },
    {
     "name": "stderr",
     "output_type": "stream",
     "text": [
      "1061it [00:28, 36.93it/s]\n"
     ]
    },
    {
     "name": "stdout",
     "output_type": "stream",
     "text": [
      "Starting validation epoch 50/64\n"
     ]
    },
    {
     "name": "stderr",
     "output_type": "stream",
     "text": [
      "100%|██████████████████████████████████████████████████████████████████████████████████████████████████████████████████████████████████████████████████████████████████████████| 354/354 [00:08<00:00, 41.98it/s]\n"
     ]
    },
    {
     "name": "stdout",
     "output_type": "stream",
     "text": [
      "Starting epoch 51/64\n"
     ]
    },
    {
     "name": "stderr",
     "output_type": "stream",
     "text": [
      "1060it [00:28, 45.95it/s]/home/vincenzo/anaconda3/envs/vstk/lib/python3.12/site-packages/torch/nn/modules/conv.py:306: UserWarning: Plan failed with a cudnnException: CUDNN_BACKEND_EXECUTION_PLAN_DESCRIPTOR: cudnnFinalize Descriptor Failed cudnn_status: CUDNN_STATUS_NOT_SUPPORTED (Triggered internally at ../aten/src/ATen/native/cudnn/Conv_v8.cpp:919.)\n",
      "  return F.conv1d(input, weight, bias, self.stride,\n",
      "1061it [00:28, 37.29it/s]\n"
     ]
    },
    {
     "name": "stdout",
     "output_type": "stream",
     "text": [
      "Starting validation epoch 51/64\n"
     ]
    },
    {
     "name": "stderr",
     "output_type": "stream",
     "text": [
      "100%|██████████████████████████████████████████████████████████████████████████████████████████████████████████████████████████████████████████████████████████████████████████| 354/354 [00:08<00:00, 41.63it/s]\n"
     ]
    },
    {
     "name": "stdout",
     "output_type": "stream",
     "text": [
      "Starting epoch 52/64\n"
     ]
    },
    {
     "name": "stderr",
     "output_type": "stream",
     "text": [
      "1061it [00:28, 36.93it/s]\n"
     ]
    },
    {
     "name": "stdout",
     "output_type": "stream",
     "text": [
      "Starting validation epoch 52/64\n"
     ]
    },
    {
     "name": "stderr",
     "output_type": "stream",
     "text": [
      "100%|██████████████████████████████████████████████████████████████████████████████████████████████████████████████████████████████████████████████████████████████████████████| 354/354 [00:08<00:00, 42.21it/s]\n"
     ]
    },
    {
     "name": "stdout",
     "output_type": "stream",
     "text": [
      "Starting epoch 53/64\n"
     ]
    },
    {
     "name": "stderr",
     "output_type": "stream",
     "text": [
      "1055it [00:29, 32.80it/s]/home/vincenzo/anaconda3/envs/vstk/lib/python3.12/site-packages/torch/nn/modules/conv.py:306: UserWarning: Plan failed with a cudnnException: CUDNN_BACKEND_EXECUTION_PLAN_DESCRIPTOR: cudnnFinalize Descriptor Failed cudnn_status: CUDNN_STATUS_NOT_SUPPORTED (Triggered internally at ../aten/src/ATen/native/cudnn/Conv_v8.cpp:919.)\n",
      "  return F.conv1d(input, weight, bias, self.stride,\n",
      "1061it [00:29, 35.87it/s]\n"
     ]
    },
    {
     "name": "stdout",
     "output_type": "stream",
     "text": [
      "Starting validation epoch 53/64\n"
     ]
    },
    {
     "name": "stderr",
     "output_type": "stream",
     "text": [
      "100%|██████████████████████████████████████████████████████████████████████████████████████████████████████████████████████████████████████████████████████████████████████████| 354/354 [00:08<00:00, 40.10it/s]\n"
     ]
    },
    {
     "name": "stdout",
     "output_type": "stream",
     "text": [
      "Starting epoch 54/64\n"
     ]
    },
    {
     "name": "stderr",
     "output_type": "stream",
     "text": [
      "1061it [00:28, 37.49it/s]\n"
     ]
    },
    {
     "name": "stdout",
     "output_type": "stream",
     "text": [
      "Starting validation epoch 54/64\n"
     ]
    },
    {
     "name": "stderr",
     "output_type": "stream",
     "text": [
      "100%|██████████████████████████████████████████████████████████████████████████████████████████████████████████████████████████████████████████████████████████████████████████| 354/354 [00:08<00:00, 42.51it/s]\n"
     ]
    },
    {
     "name": "stdout",
     "output_type": "stream",
     "text": [
      "Starting epoch 55/64\n"
     ]
    },
    {
     "name": "stderr",
     "output_type": "stream",
     "text": [
      "1056it [00:28, 51.40it/s]/home/vincenzo/anaconda3/envs/vstk/lib/python3.12/site-packages/torch/nn/modules/conv.py:306: UserWarning: Plan failed with a cudnnException: CUDNN_BACKEND_EXECUTION_PLAN_DESCRIPTOR: cudnnFinalize Descriptor Failed cudnn_status: CUDNN_STATUS_NOT_SUPPORTED (Triggered internally at ../aten/src/ATen/native/cudnn/Conv_v8.cpp:919.)\n",
      "  return F.conv1d(input, weight, bias, self.stride,\n",
      "1061it [00:28, 37.61it/s]\n"
     ]
    },
    {
     "name": "stdout",
     "output_type": "stream",
     "text": [
      "Starting validation epoch 55/64\n"
     ]
    },
    {
     "name": "stderr",
     "output_type": "stream",
     "text": [
      "100%|██████████████████████████████████████████████████████████████████████████████████████████████████████████████████████████████████████████████████████████████████████████| 354/354 [00:08<00:00, 43.29it/s]\n"
     ]
    },
    {
     "name": "stdout",
     "output_type": "stream",
     "text": [
      "Starting epoch 56/64\n"
     ]
    },
    {
     "name": "stderr",
     "output_type": "stream",
     "text": [
      "1061it [00:28, 37.29it/s]\n"
     ]
    },
    {
     "name": "stdout",
     "output_type": "stream",
     "text": [
      "Starting validation epoch 56/64\n"
     ]
    },
    {
     "name": "stderr",
     "output_type": "stream",
     "text": [
      "100%|██████████████████████████████████████████████████████████████████████████████████████████████████████████████████████████████████████████████████████████████████████████| 354/354 [00:08<00:00, 41.53it/s]\n"
     ]
    },
    {
     "name": "stdout",
     "output_type": "stream",
     "text": [
      "Starting epoch 57/64\n"
     ]
    },
    {
     "name": "stderr",
     "output_type": "stream",
     "text": [
      "1054it [00:28, 39.72it/s]/home/vincenzo/anaconda3/envs/vstk/lib/python3.12/site-packages/torch/nn/modules/conv.py:306: UserWarning: Plan failed with a cudnnException: CUDNN_BACKEND_EXECUTION_PLAN_DESCRIPTOR: cudnnFinalize Descriptor Failed cudnn_status: CUDNN_STATUS_NOT_SUPPORTED (Triggered internally at ../aten/src/ATen/native/cudnn/Conv_v8.cpp:919.)\n",
      "  return F.conv1d(input, weight, bias, self.stride,\n",
      "1061it [00:28, 36.93it/s]\n"
     ]
    },
    {
     "name": "stdout",
     "output_type": "stream",
     "text": [
      "Starting validation epoch 57/64\n"
     ]
    },
    {
     "name": "stderr",
     "output_type": "stream",
     "text": [
      "100%|██████████████████████████████████████████████████████████████████████████████████████████████████████████████████████████████████████████████████████████████████████████| 354/354 [00:08<00:00, 41.97it/s]\n"
     ]
    },
    {
     "name": "stdout",
     "output_type": "stream",
     "text": [
      "Starting epoch 58/64\n"
     ]
    },
    {
     "name": "stderr",
     "output_type": "stream",
     "text": [
      "1057it [00:28, 37.15it/s]/home/vincenzo/anaconda3/envs/vstk/lib/python3.12/site-packages/torch/nn/modules/conv.py:306: UserWarning: Plan failed with a cudnnException: CUDNN_BACKEND_EXECUTION_PLAN_DESCRIPTOR: cudnnFinalize Descriptor Failed cudnn_status: CUDNN_STATUS_NOT_SUPPORTED (Triggered internally at ../aten/src/ATen/native/cudnn/Conv_v8.cpp:919.)\n",
      "  return F.conv1d(input, weight, bias, self.stride,\n",
      "1061it [00:28, 36.62it/s]\n"
     ]
    },
    {
     "name": "stdout",
     "output_type": "stream",
     "text": [
      "Starting validation epoch 58/64\n"
     ]
    },
    {
     "name": "stderr",
     "output_type": "stream",
     "text": [
      "100%|██████████████████████████████████████████████████████████████████████████████████████████████████████████████████████████████████████████████████████████████████████████| 354/354 [00:08<00:00, 41.92it/s]\n"
     ]
    },
    {
     "name": "stdout",
     "output_type": "stream",
     "text": [
      "Starting epoch 59/64\n"
     ]
    },
    {
     "name": "stderr",
     "output_type": "stream",
     "text": [
      "1060it [00:28, 45.91it/s]/home/vincenzo/anaconda3/envs/vstk/lib/python3.12/site-packages/torch/nn/modules/conv.py:306: UserWarning: Plan failed with a cudnnException: CUDNN_BACKEND_EXECUTION_PLAN_DESCRIPTOR: cudnnFinalize Descriptor Failed cudnn_status: CUDNN_STATUS_NOT_SUPPORTED (Triggered internally at ../aten/src/ATen/native/cudnn/Conv_v8.cpp:919.)\n",
      "  return F.conv1d(input, weight, bias, self.stride,\n",
      "1061it [00:28, 36.77it/s]\n"
     ]
    },
    {
     "name": "stdout",
     "output_type": "stream",
     "text": [
      "Starting validation epoch 59/64\n"
     ]
    },
    {
     "name": "stderr",
     "output_type": "stream",
     "text": [
      "100%|██████████████████████████████████████████████████████████████████████████████████████████████████████████████████████████████████████████████████████████████████████████| 354/354 [00:08<00:00, 42.80it/s]\n"
     ]
    },
    {
     "name": "stdout",
     "output_type": "stream",
     "text": [
      "Starting epoch 60/64\n"
     ]
    },
    {
     "name": "stderr",
     "output_type": "stream",
     "text": [
      "1061it [00:28, 37.54it/s]\n"
     ]
    },
    {
     "name": "stdout",
     "output_type": "stream",
     "text": [
      "Starting validation epoch 60/64\n"
     ]
    },
    {
     "name": "stderr",
     "output_type": "stream",
     "text": [
      "100%|██████████████████████████████████████████████████████████████████████████████████████████████████████████████████████████████████████████████████████████████████████████| 354/354 [00:08<00:00, 43.34it/s]\n"
     ]
    },
    {
     "name": "stdout",
     "output_type": "stream",
     "text": [
      "Starting epoch 61/64\n"
     ]
    },
    {
     "name": "stderr",
     "output_type": "stream",
     "text": [
      "1055it [00:28, 36.33it/s]/home/vincenzo/anaconda3/envs/vstk/lib/python3.12/site-packages/torch/nn/modules/conv.py:306: UserWarning: Plan failed with a cudnnException: CUDNN_BACKEND_EXECUTION_PLAN_DESCRIPTOR: cudnnFinalize Descriptor Failed cudnn_status: CUDNN_STATUS_NOT_SUPPORTED (Triggered internally at ../aten/src/ATen/native/cudnn/Conv_v8.cpp:919.)\n",
      "  return F.conv1d(input, weight, bias, self.stride,\n",
      "1061it [00:28, 37.36it/s]\n"
     ]
    },
    {
     "name": "stdout",
     "output_type": "stream",
     "text": [
      "Starting validation epoch 61/64\n"
     ]
    },
    {
     "name": "stderr",
     "output_type": "stream",
     "text": [
      "100%|██████████████████████████████████████████████████████████████████████████████████████████████████████████████████████████████████████████████████████████████████████████| 354/354 [00:08<00:00, 42.87it/s]\n"
     ]
    },
    {
     "name": "stdout",
     "output_type": "stream",
     "text": [
      "Starting epoch 62/64\n"
     ]
    },
    {
     "name": "stderr",
     "output_type": "stream",
     "text": [
      "1061it [00:28, 36.72it/s]\n"
     ]
    },
    {
     "name": "stdout",
     "output_type": "stream",
     "text": [
      "Starting validation epoch 62/64\n"
     ]
    },
    {
     "name": "stderr",
     "output_type": "stream",
     "text": [
      "100%|██████████████████████████████████████████████████████████████████████████████████████████████████████████████████████████████████████████████████████████████████████████| 354/354 [00:08<00:00, 41.97it/s]\n"
     ]
    },
    {
     "name": "stdout",
     "output_type": "stream",
     "text": [
      "Starting epoch 63/64\n"
     ]
    },
    {
     "name": "stderr",
     "output_type": "stream",
     "text": [
      "85it [00:02, 21.46it/s]"
     ]
    }
   ],
   "source": [
    "path = os.path.join('../experiments/contextual/', f'{model_id}_{corpus}_{task}_{datetime.now()}.ckpt')\n",
    "\n",
    "# Set model in training mode\n",
    "model.train()\n",
    "\n",
    "# Accumulator of loss\n",
    "history = []\n",
    "validation_history = []\n",
    "best_validation_loss = torch.tensor(float('inf'), device=device)\n",
    "\n",
    "# scheduler = torch.optim.lr_scheduler.OneCycleLR(optimizer, lr, steps_per_epoch=len(data_loader['train']), epochs=n_epochs, anneal_strategy='linear', pct_start=0.05)\n",
    "\n",
    "estop_counter = 0\n",
    "\n",
    "# Iterate over epochs\n",
    "for i in range(n_epochs):\n",
    "    print(f\"Starting epoch {i + 1}/{n_epochs}\")\n",
    "    # Iterate over training batches\n",
    "    for j, (embeds, weights, lbl) in tqdm(enumerate(data_loader['train'])):\n",
    "        # Zero your gradients for every batch!\n",
    "        if j % accumulation_steps == 0:\n",
    "            optimizer.zero_grad()\n",
    "        # Move input and output to target device\n",
    "        embeds = embeds.to(device)\n",
    "        weights = weights.to(device)\n",
    "        lbl = lbl.to(device)\n",
    "        # Compute logits (i.e., softmax values before exponential normalisation)\n",
    "        logits = model(embeds, weights)\n",
    "        # Flatten logits to a shape (batch_size * max_sentence_len, n_classes)\n",
    "        logits = logits.reshape(-1, len(le[task].classes_))\n",
    "        # Flatten targets to a shape (batch_size * max_sentence_len)\n",
    "        lbl = lbl.reshape(-1)\n",
    "        # Compute loss\n",
    "        loss = F.cross_entropy(logits, lbl) / accumulation_steps\n",
    "        # Compute gradients\n",
    "        loss.backward()\n",
    "        # Update weights\n",
    "        if j + 1 % accumulation_steps == 0 or j + 1 == len(data_loader['train']):\n",
    "            torch.nn.utils.clip_grad_norm_(model.parameters(), 1.0)\n",
    "            optimizer.step()\n",
    "        # scheduler.step()\n",
    "        # Save loss\n",
    "        history.append(loss)\n",
    "    # Disable gradients\n",
    "    with torch.no_grad():\n",
    "        print(f\"Starting validation epoch {i + 1}/{n_epochs}\")\n",
    "        # Set in evaluation mode\n",
    "        model.eval()\n",
    "        # Init validation loss accumulator\n",
    "        loss = []\n",
    "        # Iterate over validation batches\n",
    "        for embeds, weights, lbl in tqdm(data_loader['validation']):\n",
    "            # Move input and output to target device\n",
    "            embeds = embeds.to(device)\n",
    "            weights = weights.to(device)\n",
    "            lbl = lbl.to(device)\n",
    "            # Compute logits (i.e., softmax values before exponential normalisation)\n",
    "            logits = model(embeds, weights)\n",
    "            # Flatten logits to a shape (batch_size * max_sentence_len, n_classes)\n",
    "            logits = logits.reshape(-1, len(le[task].classes_))\n",
    "            # Flatten targets to a shape (batch_size * max_sentence_len)\n",
    "            lbl = lbl.reshape(-1)\n",
    "            # Compute loss\n",
    "            loss.append(F.cross_entropy(logits, lbl))\n",
    "        # Aggregate validation loss\n",
    "        validation_history.append(torch.tensor(loss, device=device).mean())\n",
    "        # Check if validation loss has improved\n",
    "        if validation_history[-1] <= best_validation_loss:\n",
    "            torch.save(model.state_dict(), path)\n",
    "            best_validation_loss = validation_history[-1]\n",
    "            estop_counter = 0\n",
    "        else:\n",
    "            estop_counter += 1\n",
    "        # Restore training mode\n",
    "        model.train()\n",
    "    if estop_counter >= 5:\n",
    "        break\n",
    "        \n",
    "# Restore best weights\n",
    "if os.path.exists(path):\n",
    "    model.load_state_dict(torch.load(path))\n",
    "\n",
    "history = [loss.cpu().item() for loss in history]\n",
    "validation_history = [loss.cpu().item() for loss in validation_history]"
   ]
  },
  {
   "cell_type": "code",
   "execution_count": 75,
   "metadata": {
    "collapsed": false,
    "jupyter": {
     "outputs_hidden": false
    }
   },
   "outputs": [
    {
     "data": {
      "image/png": "[encoded data removed]",
      "text/plain": [
       "<Figure size 640x480 with 1 Axes>"
      ]
     },
     "metadata": {},
     "output_type": "display_data"
    }
   ],
   "source": [
    "plt.figure()\n",
    "plt.plot(range(len(history)), history, label='Training loss')\n",
    "plt.plot(range(len(data_loader['train']) - 1, len(history), len(data_loader['train'])), validation_history, label='Validation loss')\n",
    "plt.legend(loc='best')\n",
    "plt.xlabel('Update step')\n",
    "plt.ylabel('Loss')\n",
    "plt.xlim([0.0, len(history)])\n",
    "plt.ylim([0.0, 4.0])\n",
    "plt.grid()"
   ]
  },
  {
   "cell_type": "markdown",
   "metadata": {
    "collapsed": false,
    "jupyter": {
     "outputs_hidden": false
    }
   },
   "source": [
    "##### Evaluation"
   ]
  },
  {
   "cell_type": "code",
   "execution_count": null,
   "metadata": {
    "collapsed": false,
    "jupyter": {
     "outputs_hidden": false
    }
   },
   "outputs": [],
   "source": [
    "# Set model in evaluation mode\n",
    "model.eval()"
   ]
  },
  {
   "cell_type": "markdown",
   "metadata": {
    "collapsed": false,
    "jupyter": {
     "outputs_hidden": false
    }
   },
   "source": [
    "Validation set"
   ]
  },
  {
   "cell_type": "code",
   "execution_count": null,
   "metadata": {
    "collapsed": false,
    "is_executing": true,
    "jupyter": {
     "outputs_hidden": false
    }
   },
   "outputs": [],
   "source": [
    "#\n",
    "split = 'validation'\n",
    "\n",
    "# Accumulators for target labels and predictions\n",
    "y_true = []\n",
    "y_pred = []\n",
    "y_proba = []\n",
    "\n",
    "# Disable gradients\n",
    "with torch.no_grad():\n",
    "    # Iterate over validation batches\n",
    "    for embeds, weights, lbl in tqdm(data_loader[split]):\n",
    "        # Move input and output to target device\n",
    "        embeds = embeds.to(device)\n",
    "        weights = weights.to(device)\n",
    "        # Compute logits (i.e., softmax values before exponential normalisation)\n",
    "        logits = model(embeds, weights)\n",
    "        # Get predictions as the index corresponding to the highest logit score\n",
    "        pred_lbl = torch.argmax(logits, dim=-1)\n",
    "        # Append predicted proba\n",
    "        y_proba.append(logits.view(-1, len(le[task].classes_)).cpu().numpy())\n",
    "        # Append predicted labels\n",
    "        y_pred.append(pred_lbl.view(-1).cpu().numpy())\n",
    "        # Append target labels\n",
    "        y_true.append(lbl.view(-1).cpu().numpy())\n",
    "\n",
    "# Concatenate all the vectors of target labels and predicted labels\n",
    "y_true = np.concatenate(y_true)\n",
    "y_pred = np.concatenate(y_pred)\n",
    "y_proba = np.concatenate(y_proba, axis=0)\n",
    "# Remove elements to ignore (the -100 labels)\n",
    "mask = y_true == -100\n",
    "y_true = y_true[~mask]\n",
    "y_pred = y_pred[~mask]\n",
    "y_proba = y_proba[~mask]\n",
    "\n",
    "labels = np.unique(y_true)\n",
    "mapping = np.zeros(len(le[task].classes_), dtype=int)\n",
    "mapping[labels] = np.arange(len(labels))\n",
    "\n",
    "y_true = mapping[y_true]\n",
    "y_pred = mapping[y_pred]\n",
    "y_proba = softmax(y_proba[:, labels], axis=1)\n",
    "\n",
    "ids, counts = np.unique(y_true, return_counts=True)\n",
    "weights = counts / np.sum(counts)\n",
    "\n",
    "# \n",
    "accuracy = accuracy_score(y_true, y_pred)\n",
    "precision_m, recall_m, fscore_m, support_m = precision_recall_fscore_support(y_true, y_pred, average='macro')\n",
    "auc_m = roc_auc_score(y_true, y_proba, multi_class='ovr', average='macro')\n",
    "precision_w, recall_w, fscore_w, support_w = precision_recall_fscore_support(y_true, y_pred, average='weighted')\n",
    "auc_w = roc_auc_score(y_true, y_proba, multi_class='ovr', average='weighted')\n",
    "accuracy_sw = accuracy_score(y_true, y_pred, sample_weight=weights[y_true])\n",
    "precision_sw, recall_sw, fscore_sw, support_sw = precision_recall_fscore_support(y_true, y_pred, average='weighted', sample_weight=weights[y_true])\n",
    "auc_sw = roc_auc_score(y_true, y_proba, multi_class='ovr', average='weighted', sample_weight=weights[y_true])\n",
    "results.extend([\n",
    "    {\n",
    "        'corpus': corpus,\n",
    "        'task': task,\n",
    "        'embeddings': model_id,\n",
    "        'split': split,\n",
    "        'timestamp': timestamp,\n",
    "        'metric': metric,\n",
    "        'value': value\n",
    "    }\n",
    "    for metric, value in zip(\n",
    "        CLS_METRICS, [\n",
    "            accuracy, precision_m, recall_m, fscore_m, auc_m, \n",
    "            precision_w, recall_w, fscore_w, auc_w,\n",
    "            accuracy_sw, precision_sw, recall_sw, fscore_sw, auc_sw\n",
    "        ]\n",
    "    )\n",
    "])\n",
    "# Finally compute classification report\n",
    "print()\n",
    "print(classification_report(y_true, y_pred, target_names=le[task].classes_[labels]))"
   ]
  },
  {
   "cell_type": "markdown",
   "metadata": {
    "collapsed": false,
    "jupyter": {
     "outputs_hidden": false
    }
   },
   "source": [
    "Test set"
   ]
  },
  {
   "cell_type": "code",
   "execution_count": null,
   "metadata": {
    "collapsed": false,
    "jupyter": {
     "outputs_hidden": false
    },
    "scrolled": true
   },
   "outputs": [],
   "source": [
    "#\n",
    "split = 'test'\n",
    "\n",
    "# Accumulators for target labels and predictions\n",
    "y_true = []\n",
    "y_pred = []\n",
    "y_proba = []\n",
    "\n",
    "# Disable gradients\n",
    "with torch.no_grad():\n",
    "    # Iterate over validation batches\n",
    "    for embeds, weights, lbl in tqdm(data_loader[split]):\n",
    "        # Move input and output to target device\n",
    "        embeds = embeds.to(device)\n",
    "        weights = weights.to(device)\n",
    "        # Compute logits (i.e., softmax values before exponential normalisation)\n",
    "        logits = model(embeds, weights)\n",
    "        # Get predictions as the index corresponding to the highest logit score\n",
    "        pred_lbl = torch.argmax(logits, dim=-1)\n",
    "        # Append predicted proba\n",
    "        y_proba.append(logits.view(-1, len(le[task].classes_)).cpu().numpy())\n",
    "        # Append predicted labels\n",
    "        y_pred.append(pred_lbl.view(-1).cpu().numpy())\n",
    "        # Append target labels\n",
    "        y_true.append(lbl.view(-1).cpu().numpy())\n",
    "\n",
    "# Concatenate all the vectors of target labels and predicted labels\n",
    "y_true = np.concatenate(y_true)\n",
    "y_pred = np.concatenate(y_pred)\n",
    "y_proba = np.concatenate(y_proba, axis=0)\n",
    "# Remove elements to ignore (the -100 labels)\n",
    "mask = y_true == -100\n",
    "y_true = y_true[~mask]\n",
    "y_pred = y_pred[~mask]\n",
    "y_proba = y_proba[~mask]\n",
    "\n",
    "labels = np.unique(y_true)\n",
    "mapping = np.zeros(len(le[task].classes_), dtype=int)\n",
    "mapping[labels] = np.arange(len(labels))\n",
    "\n",
    "y_true = mapping[y_true]\n",
    "y_pred = mapping[y_pred]\n",
    "y_proba = softmax(y_proba[:, labels], axis=1)\n",
    "\n",
    "ids, counts = np.unique(y_true, return_counts=True)\n",
    "weights = counts / np.sum(counts)\n",
    "\n",
    "# \n",
    "accuracy = accuracy_score(y_true, y_pred)\n",
    "precision_m, recall_m, fscore_m, support_m = precision_recall_fscore_support(y_true, y_pred, average='macro')\n",
    "auc_m = roc_auc_score(y_true, y_proba, multi_class='ovr', average='macro')\n",
    "precision_w, recall_w, fscore_w, support_w = precision_recall_fscore_support(y_true, y_pred, average='weighted')\n",
    "auc_w = roc_auc_score(y_true, y_proba, multi_class='ovr', average='weighted')\n",
    "accuracy_sw = accuracy_score(y_true, y_pred, sample_weight=weights[y_true])\n",
    "precision_sw, recall_sw, fscore_sw, support_sw = precision_recall_fscore_support(y_true, y_pred, average='weighted', sample_weight=weights[y_true])\n",
    "auc_sw = roc_auc_score(y_true, y_proba, multi_class='ovr', average='weighted', sample_weight=weights[y_true])\n",
    "results.extend([\n",
    "    {\n",
    "        'corpus': corpus,\n",
    "        'task': task,\n",
    "        'embeddings': model_id,\n",
    "        'split': split,\n",
    "        'timestamp': timestamp,\n",
    "        'metric': metric,\n",
    "        'value': value\n",
    "    }\n",
    "    for metric, value in zip(\n",
    "        CLS_METRICS, [\n",
    "            accuracy, precision_m, recall_m, fscore_m, auc_m, \n",
    "            precision_w, recall_w, fscore_w, auc_w,\n",
    "            accuracy_sw, precision_sw, recall_sw, fscore_sw, auc_sw\n",
    "        ]\n",
    "    )\n",
    "])\n",
    "# Finally compute classification report\n",
    "print()\n",
    "print(classification_report(y_true, y_pred, target_names=le[task].classes_[labels]))"
   ]
  },
  {
   "cell_type": "markdown",
   "metadata": {},
   "source": [
    "### WELFake"
   ]
  },
  {
   "cell_type": "code",
   "execution_count": null,
   "metadata": {
    "collapsed": false,
    "jupyter": {
     "outputs_hidden": false
    }
   },
   "outputs": [],
   "source": [
    "corpus = 'WELFake'"
   ]
  },
  {
   "cell_type": "code",
   "execution_count": null,
   "metadata": {
    "collapsed": false,
    "jupyter": {
     "outputs_hidden": false
    }
   },
   "outputs": [],
   "source": [
    "welfake['train']._data[:3]"
   ]
  },
  {
   "cell_type": "code",
   "execution_count": null,
   "metadata": {
    "collapsed": false,
    "jupyter": {
     "outputs_hidden": false
    }
   },
   "outputs": [],
   "source": [
    "# embeddings_model.fit_sif_embedding([sample['sequence'] for sample in welfake['train']])"
   ]
  },
  {
   "cell_type": "code",
   "execution_count": null,
   "metadata": {
    "collapsed": false,
    "jupyter": {
     "outputs_hidden": false
    }
   },
   "outputs": [],
   "source": [
    "from typing import Tuple, List, Set\n",
    "\n",
    "class Conv1D(nn.Module):\n",
    "    \"\"\"\n",
    "    1D-convolutional layer as defined by Radford et al. for OpenAI GPT (and also used in GPT-2).\n",
    "    Basically works like a linear layer but the weights are transposed.\n",
    "    Args:\n",
    "        nf (:obj:`int`): The number of output features.\n",
    "        nx (:obj:`int`): The number of input features.\n",
    "\n",
    "    Thanks to Hugging Face for the implementation\n",
    "    \"\"\"\n",
    "\n",
    "    def __init__(self, nf, nx):\n",
    "        super().__init__()\n",
    "        self.nf = nf\n",
    "        w = torch.empty(nx, nf)\n",
    "        nn.init.normal_(w, std=0.02)\n",
    "        self.weight = nn.Parameter(w)\n",
    "        self.bias = nn.Parameter(torch.zeros(nf))\n",
    "\n",
    "    def forward(self, x):\n",
    "        size_out = x.size()[:-1] + (self.nf,)\n",
    "        x = torch.addmm(self.bias, x.view(-1, x.size(-1)), self.weight)\n",
    "        x = x.view(*size_out)\n",
    "        return x\n",
    "\n",
    "\n",
    "def find_pruneable_heads_and_indices(heads: List[int],\n",
    "                                     n_heads: int,\n",
    "                                     head_size: int,\n",
    "                                     already_pruned_heads: Set[int]) -> Tuple[Set[int], torch.LongTensor]:\n",
    "    \"\"\"\n",
    "    Finds the heads and their indices taking :obj:`already_pruned_heads` into account.\n",
    "    Args:\n",
    "        heads (:obj:`List[int]`): List of the indices of heads to prune.\n",
    "        n_heads (:obj:`int`): The number of heads in the model.\n",
    "        head_size (:obj:`int`): The size of each head.\n",
    "        already_pruned_heads (:obj:`Set[int]`): A set of already pruned heads.\n",
    "    Returns:\n",
    "        :obj:`Tuple[Set[int], torch.LongTensor]`: A tuple with the remaining heads and their corresponding indices.\n",
    "\n",
    "\n",
    "    Thanks to Hugging Face for the implementation\n",
    "    \"\"\"\n",
    "    mask = torch.ones(n_heads, head_size)\n",
    "    heads = set(heads) - already_pruned_heads  # Convert to set and remove already pruned heads\n",
    "    for head in heads:\n",
    "        # Compute how many pruned heads are before the head and move the index accordingly\n",
    "        head = head - sum(1 if h < head else 0 for h in already_pruned_heads)\n",
    "        mask[head] = 0\n",
    "    mask = mask.view(-1).contiguous().eq(1)\n",
    "    index: torch.LongTensor = torch.arange(len(mask))[mask].long()\n",
    "    return heads, index\n",
    "\n",
    "\n",
    "def prune_conv1d_layer(layer: Conv1D, index: torch.LongTensor, dim: int = 1) -> Conv1D:\n",
    "    \"\"\"\n",
    "    Prune a Conv1D layer to keep only entries in index. A Conv1D work as a Linear layer (see e.g. BERT) but the weights\n",
    "    are transposed.\n",
    "    Used to remove heads.\n",
    "    Args:\n",
    "        layer (:class:`~transformers.modeling_utils.Conv1D`): The layer to prune.\n",
    "        index (:obj:`torch.LongTensor`): The indices to keep in the layer.\n",
    "        dim (:obj:`int`, `optional`, defaults to 1): The dimension on which to keep the indices.\n",
    "    Returns:\n",
    "        :class:`~transformers.modeling_utils.Conv1D`: The pruned layer as a new layer with :obj:`requires_grad=True`.\n",
    "\n",
    "    Thanks to Hugging Face for the implementation\n",
    "    \"\"\"\n",
    "    index = index.to(layer.weight.device)\n",
    "    W = layer.weight.index_select(dim, index).clone().detach()\n",
    "    if dim == 0:\n",
    "        b = layer.bias.clone().detach()\n",
    "    else:\n",
    "        b = layer.bias[index].clone().detach()\n",
    "    new_size = list(layer.weight.size())\n",
    "    new_size[dim] = len(index)\n",
    "    new_layer = Conv1D(new_size[1], new_size[0]).to(layer.weight.device)\n",
    "    new_layer.weight.requires_grad = False\n",
    "    new_layer.weight.copy_(W.contiguous())\n",
    "    new_layer.weight.requires_grad = True\n",
    "    new_layer.bias.requires_grad = False\n",
    "    new_layer.bias.copy_(b.contiguous())\n",
    "    new_layer.bias.requires_grad = True\n",
    "    return new_layer\n",
    "\n",
    "\n",
    "class AttentionAvgPooling(nn.Module):\n",
    "    def __init__(self,\n",
    "                 n_hidden: int = 512,\n",
    "                 n_heads: int = 8,\n",
    "                 max_positions: int = 1024,\n",
    "                 p_dropout: float = 0.1,\n",
    "                 scale_attn_weights: bool = True):\n",
    "        super().__init__()\n",
    "\n",
    "        self.embed_dim = n_hidden\n",
    "        self.num_heads = n_heads\n",
    "        self.head_dim = self.embed_dim // self.num_heads\n",
    "        self.split_size = self.embed_dim\n",
    "        assert self.head_dim * self.num_heads == self.embed_dim, f\"`embed_dim` must be divisible by num_heads \" \\\n",
    "                                                                 f\"(got `embed_dim`: {self.embed_dim} and \" \\\n",
    "                                                                 f\"`num_heads`: {self.num_heads}).\"\n",
    "\n",
    "        self.scale_attn_weights = scale_attn_weights\n",
    "\n",
    "        self.qkv_attn = Conv1D(3 * self.embed_dim, self.embed_dim)\n",
    "\n",
    "        self.dropout = nn.Dropout(p_dropout)\n",
    "\n",
    "        self.pruned_heads = set()\n",
    "\n",
    "    def prune_heads(self, heads):\n",
    "        if len(heads) == 0:\n",
    "            return\n",
    "        heads, index = find_pruneable_heads_and_indices(heads, self.num_heads, self.head_dim, self.pruned_heads)\n",
    "        index_attn = torch.cat([index, index + self.split_size, index + (2 * self.split_size)])\n",
    "\n",
    "        # Prune conv1d layers\n",
    "        self.qkv_attn = prune_conv1d_layer(self.qkv_attn, index_attn, dim=1)\n",
    "\n",
    "        # Update hyper params\n",
    "        self.split_size = (self.split_size // self.num_heads) * (self.num_heads - len(heads))\n",
    "        self.num_heads = self.num_heads - len(heads)\n",
    "        self.pruned_heads = self.pruned_heads.union(heads)\n",
    "\n",
    "    def _attn(self, query, key, value, attention_mask=None):\n",
    "        attn_weights = torch.matmul(query, key.transpose(-1, -2))\n",
    "        attn_weights = attn_weights / (float(value.size(-1)) ** 0.5)\n",
    "\n",
    "        if attention_mask is not None:\n",
    "            # Apply the attention mask\n",
    "            attn_weights = attn_weights + attention_mask\n",
    "\n",
    "        attn_weights = nn.Softmax(dim=-1)(attn_weights)\n",
    "        attn_weights = self.dropout(attn_weights)\n",
    "\n",
    "        attn_output = torch.matmul(attn_weights, value)\n",
    "\n",
    "        return attn_output, attn_weights\n",
    "\n",
    "    @staticmethod\n",
    "    def _split_heads(tensor, num_heads, attn_head_size):\n",
    "        new_shape = tensor.size()[:-1] + (num_heads, attn_head_size)\n",
    "        tensor = tensor.view(*new_shape)\n",
    "        return tensor.permute(0, 2, 1, 3)  # (batch, head, seq_length, head_features)\n",
    "\n",
    "    @staticmethod\n",
    "    def _merge_heads(tensor, num_heads, attn_head_size):\n",
    "        tensor = tensor.permute(0, 2, 1, 3).contiguous()\n",
    "        new_shape = tensor.size()[:-2] + (num_heads * attn_head_size,)\n",
    "        return tensor.view(new_shape)\n",
    "\n",
    "    def forward(self,\n",
    "                hidden_states,\n",
    "                attention_mask=None,\n",
    "                return_attention_weights=False):\n",
    "\n",
    "        query, key, value = self.qkv_attn(hidden_states).split(self.split_size, dim=2)\n",
    "\n",
    "        # Query is averaged to obtain pooling\n",
    "        query = self._split_heads(query, self.num_heads, self.head_dim).mean(-2, keepdims=True)\n",
    "        key = self._split_heads(key, self.num_heads, self.head_dim)\n",
    "        value = self._split_heads(value, self.num_heads, self.head_dim)\n",
    "\n",
    "        if attention_mask is not None:\n",
    "            attention_mask = (1.0 - attention_mask) * -1e+6\n",
    "            attention_mask = attention_mask[:, None, None, :]\n",
    "\n",
    "        attn_output, attn_weights = self._attn(query, key, value, attention_mask)\n",
    "\n",
    "        attn_output = self._merge_heads(attn_output, self.num_heads, self.head_dim)\n",
    "\n",
    "        if not return_attention_weights:\n",
    "            return attn_output  # attention\n",
    "        else:\n",
    "            attn_weights = self._merge_heads(attn_weights, self.num_heads, self.head_dim)\n",
    "            return attn_output, attn_weights\n",
    "\n",
    "\n",
    "# class GPT2Attention(nn.Module):\n",
    "# https://github.com/huggingface/transformers/blob/master/src/transformers/models/gpt2/modeling_gpt2.py\n",
    "\n",
    "\n",
    "class SequenceClassification(nn.Module):\n",
    "    def __init__(self, input_size, output_size, hidden_size: int = 512, kernel_size: int = 5):\n",
    "        super().__init__()\n",
    "        self.norm = nn.LayerNorm(input_size)\n",
    "        self.conv1d = nn.Conv1d(input_size, hidden_size, kernel_size, padding='same')\n",
    "        self.dropout = nn.Dropout(0.1)\n",
    "        self.out_head = nn.Linear(hidden_size, output_size)\n",
    "        ##\n",
    "        self.norm = nn.LayerNorm(hidden_size)\n",
    "        self.out_norm = nn.LayerNorm(hidden_size)\n",
    "        self.pool = AttentionAvgPooling()\n",
    "        \n",
    "    def forward(self, x, w):\n",
    "        # \n",
    "        x = self.dropout(x)\n",
    "        #\n",
    "        h = self.conv1d(x.transpose(-1, -2)).transpose(-1, -2)  # self.norm(x).transpose(-1, -2)\n",
    "        ##\n",
    "        h = self.norm(h)\n",
    "        # Non-linear activation\n",
    "        h = F.gelu(h)\n",
    "        \n",
    "        # Dropout\n",
    "        h = self.dropout(h)\n",
    "        # Weighted sum\n",
    "        # h = torch.einsum('btd,bt->bd', h, w)\n",
    "        # Apply last linear projection\n",
    "        # h = self.out_head(h)\n",
    "        ##\n",
    "        h = self.pool(h, w)\n",
    "        h = self.out_norm(h)\n",
    "        y = self.out_head(h)\n",
    "\n",
    "        return y\n",
    "\n",
    "'''\n",
    "class SequenceClassification(nn.Module):\n",
    "    def __init__(self, input_size, output_size, hidden_size: int = 512, kernel_size: int = 5):\n",
    "        super().__init__()\n",
    "        self.norm = nn.LayerNorm(input_size)\n",
    "        self.conv1d = nn.Conv1d(input_size, hidden_size, kernel_size, padding='same')\n",
    "        self.dropout = nn.Dropout(0.1)\n",
    "        self.cls_head = nn.Linear(hidden_size, output_size)\n",
    "        \n",
    "    def forward(self, x, w):\n",
    "        # \n",
    "        x = self.dropout(x)\n",
    "        #\n",
    "        h = self.conv1d(self.norm(x).transpose(-1, -2))\n",
    "        # Non-linear activation\n",
    "        h = F.gelu(h)\n",
    "        # Dropout\n",
    "        h = self.dropout(h)\n",
    "        # Weighted sum\n",
    "        h = torch.einsum('btd,bt->bd', h.transpose(-1, -2), w)\n",
    "        # Apply last linear projection\n",
    "        y = self.cls_head(h)\n",
    "\n",
    "        return y\n",
    "'''"
   ]
  },
  {
   "cell_type": "code",
   "execution_count": null,
   "metadata": {
    "collapsed": false,
    "jupyter": {
     "outputs_hidden": false
    }
   },
   "outputs": [],
   "source": [
    "le = welfake['train'].get_label_transformer()\n",
    "for label, le_ in le.items():\n",
    "    print(label, le_.classes_)"
   ]
  },
  {
   "cell_type": "code",
   "execution_count": null,
   "metadata": {},
   "outputs": [],
   "source": [
    "lw = {label: lw_.to(device) for label, lw_ in welfake['train'].get_label_weights().items()}\n",
    "for label, lw_ in lw.items():\n",
    "    print(label, lw_)"
   ]
  },
  {
   "cell_type": "code",
   "execution_count": null,
   "metadata": {
    "collapsed": false,
    "jupyter": {
     "outputs_hidden": false
    }
   },
   "outputs": [],
   "source": [
    "task = 'fakenews'"
   ]
  },
  {
   "cell_type": "code",
   "execution_count": null,
   "metadata": {
    "collapsed": false,
    "jupyter": {
     "outputs_hidden": false
    }
   },
   "outputs": [],
   "source": [
    "model = SequenceClassification(300, len(le[task].classes_))    \n",
    "model = model.to(device)\n",
    "model"
   ]
  },
  {
   "cell_type": "code",
   "execution_count": null,
   "metadata": {
    "collapsed": false,
    "jupyter": {
     "outputs_hidden": false
    }
   },
   "outputs": [],
   "source": [
    "lr = 0.0001\n",
    "batch_size = 8\n",
    "n_epochs = 16\n",
    "accumulation_steps = 64\n",
    "optimizer = torch.optim.AdamW(params=model.parameters(), lr=lr, weight_decay=0.2)\n",
    "# optimizer = torch.optim.RMSprop(params=model.parameters(), lr=lr)"
   ]
  },
  {
   "cell_type": "code",
   "execution_count": null,
   "metadata": {
    "collapsed": false,
    "jupyter": {
     "outputs_hidden": false
    }
   },
   "outputs": [],
   "source": [
    "def collate(mini_batch):\n",
    "    # Tokenise sequences \n",
    "    sequences = embeddings_model.tokenise([sample['sequence'] for sample in mini_batch])\n",
    "    # Get the length of the longest sentence\n",
    "    max_sequence_len = max(len(sample) for sample in sequences)\n",
    "    # Create an input tensor with all zero values\n",
    "    input_embeds = np.zeros((len(mini_batch), max_sequence_len, 300))\n",
    "    # Create weights tensor with all zero values\n",
    "    token_weights = np.zeros((len(mini_batch), max_sequence_len))\n",
    "    valid_mask = np.zeros((len(mini_batch), max_sequence_len))\n",
    "    # Create a target output matrix with all -100 (PyTorch ignores this value by default)\n",
    "    output_lbl = np.full((len(mini_batch), 1), -100)\n",
    "    # Fill the tensor and the matrix\n",
    "    for i, sample in enumerate(sequences):\n",
    "        for j, token in enumerate(sample):\n",
    "            # Manage missing tokens in vocabulary\n",
    "            input_embeds[i, j] = embeddings_model[token.lower()]\n",
    "        token_weights[i, :len(sample)] = embeddings_model.sif_embedding_model.word_weights[embeddings_model.encode(sample, backend='numpy')]\n",
    "        valid_mask[i, :len(sample)] = 1.0\n",
    "        output_lbl[i] = le[task].transform([mini_batch[i][task]])[0]\n",
    "    # Convert to PyTorch tensor\n",
    "    input_embeds = torch.tensor(input_embeds, dtype=torch.float, device=device)\n",
    "    token_weights = torch.tensor(token_weights, dtype=torch.float, device=device)\n",
    "    valid_mask = torch.tensor(valid_mask, dtype=torch.float, device=device)\n",
    "    output_lbl = torch.tensor(output_lbl, device=device)\n",
    "\n",
    "    # return input_embeds, token_weights, output_lbl\n",
    "    return input_embeds, valid_mask, output_lbl"
   ]
  },
  {
   "cell_type": "code",
   "execution_count": null,
   "metadata": {
    "collapsed": false,
    "jupyter": {
     "outputs_hidden": false
    }
   },
   "outputs": [],
   "source": [
    "data_loader = {\n",
    "    split: torch.utils.data.DataLoader(\n",
    "        data, batch_size=batch_size, collate_fn=collate, shuffle=split == 'train'\n",
    "    )\n",
    "    for split, data in welfake.items()\n",
    "}"
   ]
  },
  {
   "cell_type": "markdown",
   "metadata": {
    "collapsed": false,
    "jupyter": {
     "outputs_hidden": false
    }
   },
   "source": [
    "##### Training"
   ]
  },
  {
   "cell_type": "code",
   "execution_count": null,
   "metadata": {
    "collapsed": false,
    "jupyter": {
     "outputs_hidden": false
    },
    "scrolled": true
   },
   "outputs": [],
   "source": [
    "path = os.path.join('../experiments/contextual/', f'{model_id}_{corpus}_{task}_{datetime.now()}.ckpt')\n",
    "\n",
    "# Set model in training mode\n",
    "model.train()\n",
    "\n",
    "# Accumulator of loss\n",
    "history = []\n",
    "validation_history = []\n",
    "best_validation_loss = torch.tensor(float('inf'), device=device)\n",
    "\n",
    "# scheduler = torch.optim.lr_scheduler.OneCycleLR(optimizer, lr, steps_per_epoch=len(data_loader['train']), epochs=n_epochs, anneal_strategy='linear', pct_start=0.05)\n",
    "\n",
    "estop_counter = 0\n",
    "\n",
    "# Iterate over epochs\n",
    "for i in range(n_epochs):\n",
    "    print(f\"Starting epoch {i + 1}/{n_epochs}\")\n",
    "    # Iterate over training batches\n",
    "    for j, (embeds, weights, lbl) in tqdm(enumerate(data_loader['train'])):\n",
    "        # Zero your gradients for every batch!\n",
    "        if j % accumulation_steps == 0:\n",
    "            optimizer.zero_grad()\n",
    "        # Move input and output to target device\n",
    "        embeds = embeds.to(device)\n",
    "        weights = weights.to(device)\n",
    "        lbl = lbl.to(device)\n",
    "        # Compute logits (i.e., softmax values before exponential normalisation)\n",
    "        logits = model(embeds, weights)\n",
    "        # Flatten logits to a shape (batch_size * max_sentence_len, n_classes)\n",
    "        logits = logits.reshape(-1, len(le[task].classes_))\n",
    "        # Flatten targets to a shape (batch_size * max_sentence_len)\n",
    "        lbl = lbl.reshape(-1)\n",
    "        # Compute loss\n",
    "        loss = F.cross_entropy(logits, lbl) / accumulation_steps\n",
    "        # Compute gradients\n",
    "        loss.backward()\n",
    "        # Update weights\n",
    "        if j + 1 % accumulation_steps == 0 or j + 1 == len(data_loader['train']):\n",
    "            torch.nn.utils.clip_grad_norm_(model.parameters(), 1.0)\n",
    "            optimizer.step()\n",
    "        # scheduler.step()\n",
    "        # Save loss\n",
    "        history.append(loss)\n",
    "    # Disable gradients\n",
    "    with torch.no_grad():\n",
    "        print(f\"Starting validation epoch {i + 1}/{n_epochs}\")\n",
    "        # Set in evaluation mode\n",
    "        model.eval()\n",
    "        # Init validation loss accumulator\n",
    "        loss = []\n",
    "        # Iterate over validation batches\n",
    "        for embeds, weights, lbl in tqdm(data_loader['validation']):\n",
    "            # Move input and output to target device\n",
    "            embeds = embeds.to(device)\n",
    "            weights = weights.to(device)\n",
    "            lbl = lbl.to(device)\n",
    "            # Compute logits (i.e., softmax values before exponential normalisation)\n",
    "            logits = model(embeds, weights)\n",
    "            # Flatten logits to a shape (batch_size * max_sentence_len, n_classes)\n",
    "            logits = logits.reshape(-1, len(le[task].classes_))\n",
    "            # Flatten targets to a shape (batch_size * max_sentence_len)\n",
    "            lbl = lbl.reshape(-1)\n",
    "            # Compute loss\n",
    "            loss.append(F.cross_entropy(logits, lbl))\n",
    "        # Aggregate validation loss\n",
    "        validation_history.append(torch.tensor(loss, device=device).mean())\n",
    "        # Check if validation loss has improved\n",
    "        if validation_history[-1] <= best_validation_loss:\n",
    "            torch.save(model.state_dict(), path)\n",
    "            best_validation_loss = validation_history[-1]\n",
    "            estop_counter = 0\n",
    "        else:\n",
    "            estop_counter += 1\n",
    "        # Restore training mode\n",
    "        model.train()\n",
    "    if estop_counter >= 5:\n",
    "        break\n",
    "        \n",
    "# Restore best weights\n",
    "if os.path.exists(path):\n",
    "    model.load_state_dict(torch.load(path))\n",
    "\n",
    "history = [loss.cpu().item() for loss in history]\n",
    "validation_history = [loss.cpu().item() for loss in validation_history]"
   ]
  },
  {
   "cell_type": "code",
   "execution_count": null,
   "metadata": {
    "collapsed": false,
    "jupyter": {
     "outputs_hidden": false
    }
   },
   "outputs": [],
   "source": [
    "plt.figure()\n",
    "plt.plot(range(len(history)), history, label='Training loss')\n",
    "plt.plot(range(len(data_loader['train']) - 1, len(history), len(data_loader['train'])), validation_history, label='Validation loss')\n",
    "plt.legend(loc='best')\n",
    "plt.xlabel('Update step')\n",
    "plt.ylabel('Loss')\n",
    "plt.xlim([0.0, len(history)])\n",
    "plt.ylim([0.0, 4.0])\n",
    "plt.grid()"
   ]
  },
  {
   "cell_type": "markdown",
   "metadata": {
    "collapsed": false,
    "jupyter": {
     "outputs_hidden": false
    }
   },
   "source": [
    "##### Evaluation"
   ]
  },
  {
   "cell_type": "code",
   "execution_count": null,
   "metadata": {
    "collapsed": false,
    "jupyter": {
     "outputs_hidden": false
    }
   },
   "outputs": [],
   "source": [
    "# Set model in evaluation mode\n",
    "model.eval()"
   ]
  },
  {
   "cell_type": "markdown",
   "metadata": {
    "collapsed": false,
    "jupyter": {
     "outputs_hidden": false
    }
   },
   "source": [
    "Validation set"
   ]
  },
  {
   "cell_type": "code",
   "execution_count": null,
   "metadata": {
    "collapsed": false,
    "is_executing": true,
    "jupyter": {
     "outputs_hidden": false
    }
   },
   "outputs": [],
   "source": [
    "#\n",
    "split = 'validation'\n",
    "\n",
    "# Accumulators for target labels and predictions\n",
    "y_true = []\n",
    "y_pred = []\n",
    "y_proba = []\n",
    "\n",
    "# Disable gradients\n",
    "with torch.no_grad():\n",
    "    # Iterate over validation batches\n",
    "    for embeds, weights, lbl in tqdm(data_loader[split]):\n",
    "        # Move input and output to target device\n",
    "        embeds = embeds.to(device)\n",
    "        weights = weights.to(device)\n",
    "        # Compute logits (i.e., softmax values before exponential normalisation)\n",
    "        logits = model(embeds, weights)\n",
    "        # Get predictions as the index corresponding to the highest logit score\n",
    "        pred_lbl = torch.argmax(logits, dim=-1)\n",
    "        # Append predicted proba\n",
    "        y_proba.append(logits.view(-1, len(le[task].classes_)).cpu().numpy())\n",
    "        # Append predicted labels\n",
    "        y_pred.append(pred_lbl.view(-1).cpu().numpy())\n",
    "        # Append target labels\n",
    "        y_true.append(lbl.view(-1).cpu().numpy())\n",
    "\n",
    "# Concatenate all the vectors of target labels and predicted labels\n",
    "y_true = np.concatenate(y_true)\n",
    "y_pred = np.concatenate(y_pred)\n",
    "y_proba = np.concatenate(y_proba, axis=0)\n",
    "# Remove elements to ignore (the -100 labels)\n",
    "mask = y_true == -100\n",
    "y_true = y_true[~mask]\n",
    "y_pred = y_pred[~mask]\n",
    "y_proba = y_proba[~mask]\n",
    "\n",
    "labels = np.unique(y_true)\n",
    "mapping = np.zeros(len(le[task].classes_), dtype=int)\n",
    "mapping[labels] = np.arange(len(labels))\n",
    "\n",
    "y_true = mapping[y_true]\n",
    "y_pred = mapping[y_pred]\n",
    "y_proba = softmax(y_proba[:, labels], axis=1)[:, 1]\n",
    "\n",
    "ids, counts = np.unique(y_true, return_counts=True)\n",
    "weights = counts / np.sum(counts)\n",
    "\n",
    "# \n",
    "accuracy = accuracy_score(y_true, y_pred)\n",
    "precision_m, recall_m, fscore_m, support_m = precision_recall_fscore_support(y_true, y_pred, average='macro')\n",
    "auc_m = roc_auc_score(y_true, y_proba, multi_class='ovr', average='macro')\n",
    "precision_w, recall_w, fscore_w, support_w = precision_recall_fscore_support(y_true, y_pred, average='weighted')\n",
    "auc_w = roc_auc_score(y_true, y_proba, multi_class='ovr', average='weighted')\n",
    "accuracy_sw = accuracy_score(y_true, y_pred, sample_weight=weights[y_true])\n",
    "precision_sw, recall_sw, fscore_sw, support_sw = precision_recall_fscore_support(y_true, y_pred, average='weighted', sample_weight=weights[y_true])\n",
    "auc_sw = roc_auc_score(y_true, y_proba, multi_class='ovr', average='weighted', sample_weight=weights[y_true])\n",
    "results.extend([\n",
    "    {\n",
    "        'corpus': corpus,\n",
    "        'task': task,\n",
    "        'embeddings': model_id,\n",
    "        'split': split,\n",
    "        'timestamp': timestamp,\n",
    "        'metric': metric,\n",
    "        'value': value\n",
    "    }\n",
    "    for metric, value in zip(\n",
    "        CLS_METRICS, [\n",
    "            accuracy, precision_m, recall_m, fscore_m, auc_m, \n",
    "            precision_w, recall_w, fscore_w, auc_w,\n",
    "            accuracy_sw, precision_sw, recall_sw, fscore_sw, auc_sw\n",
    "        ]\n",
    "    )\n",
    "])\n",
    "# Finally compute classification report\n",
    "print()\n",
    "print(classification_report(y_true, y_pred, target_names=le[task].classes_[labels]))"
   ]
  },
  {
   "cell_type": "markdown",
   "metadata": {
    "collapsed": false,
    "jupyter": {
     "outputs_hidden": false
    }
   },
   "source": [
    "Test set"
   ]
  },
  {
   "cell_type": "code",
   "execution_count": null,
   "metadata": {
    "collapsed": false,
    "jupyter": {
     "outputs_hidden": false
    },
    "scrolled": true
   },
   "outputs": [],
   "source": [
    "#\n",
    "split = 'test'\n",
    "\n",
    "# Accumulators for target labels and predictions\n",
    "y_true = []\n",
    "y_pred = []\n",
    "y_proba = []\n",
    "\n",
    "# Disable gradients\n",
    "with torch.no_grad():\n",
    "    # Iterate over validation batches\n",
    "    for embeds, weights, lbl in tqdm(data_loader[split]):\n",
    "        # Move input and output to target device\n",
    "        embeds = embeds.to(device)\n",
    "        weights = weights.to(device)\n",
    "        # Compute logits (i.e., softmax values before exponential normalisation)\n",
    "        logits = model(embeds, weights)\n",
    "        # Get predictions as the index corresponding to the highest logit score\n",
    "        pred_lbl = torch.argmax(logits, dim=-1)\n",
    "        # Append predicted proba\n",
    "        y_proba.append(logits.view(-1, len(le[task].classes_)).cpu().numpy())\n",
    "        # Append predicted labels\n",
    "        y_pred.append(pred_lbl.view(-1).cpu().numpy())\n",
    "        # Append target labels\n",
    "        y_true.append(lbl.view(-1).cpu().numpy())\n",
    "\n",
    "# Concatenate all the vectors of target labels and predicted labels\n",
    "y_true = np.concatenate(y_true)\n",
    "y_pred = np.concatenate(y_pred)\n",
    "y_proba = np.concatenate(y_proba, axis=0)\n",
    "# Remove elements to ignore (the -100 labels)\n",
    "mask = y_true == -100\n",
    "y_true = y_true[~mask]\n",
    "y_pred = y_pred[~mask]\n",
    "y_proba = y_proba[~mask]\n",
    "\n",
    "labels = np.unique(y_true)\n",
    "mapping = np.zeros(len(le[task].classes_), dtype=int)\n",
    "mapping[labels] = np.arange(len(labels))\n",
    "\n",
    "y_true = mapping[y_true]\n",
    "y_pred = mapping[y_pred]\n",
    "y_proba = softmax(y_proba[:, labels], axis=1)[:, 1]\n",
    "\n",
    "ids, counts = np.unique(y_true, return_counts=True)\n",
    "weights = counts / np.sum(counts)\n",
    "\n",
    "# \n",
    "accuracy = accuracy_score(y_true, y_pred)\n",
    "precision_m, recall_m, fscore_m, support_m = precision_recall_fscore_support(y_true, y_pred, average='macro')\n",
    "auc_m = roc_auc_score(y_true, y_proba, multi_class='ovr', average='macro')\n",
    "precision_w, recall_w, fscore_w, support_w = precision_recall_fscore_support(y_true, y_pred, average='weighted')\n",
    "auc_w = roc_auc_score(y_true, y_proba, multi_class='ovr', average='weighted')\n",
    "accuracy_sw = accuracy_score(y_true, y_pred, sample_weight=weights[y_true])\n",
    "precision_sw, recall_sw, fscore_sw, support_sw = precision_recall_fscore_support(y_true, y_pred, average='weighted', sample_weight=weights[y_true])\n",
    "auc_sw = roc_auc_score(y_true, y_proba, multi_class='ovr', average='weighted', sample_weight=weights[y_true])\n",
    "results.extend([\n",
    "    {\n",
    "        'corpus': corpus,\n",
    "        'task': task,\n",
    "        'embeddings': model_id,\n",
    "        'split': split,\n",
    "        'timestamp': timestamp,\n",
    "        'metric': metric,\n",
    "        'value': value\n",
    "    }\n",
    "    for metric, value in zip(\n",
    "        CLS_METRICS, [\n",
    "            accuracy, precision_m, recall_m, fscore_m, auc_m, \n",
    "            precision_w, recall_w, fscore_w, auc_w,\n",
    "            accuracy_sw, precision_sw, recall_sw, fscore_sw, auc_sw\n",
    "        ]\n",
    "    )\n",
    "])\n",
    "# Finally compute classification report\n",
    "print()\n",
    "print(classification_report(y_true, y_pred, target_names=le[task].classes_[labels]))"
   ]
  },
  {
   "cell_type": "markdown",
   "metadata": {
    "collapsed": false,
    "jupyter": {
     "outputs_hidden": false
    }
   },
   "source": [
    "## Results"
   ]
  },
  {
   "cell_type": "code",
   "execution_count": null,
   "metadata": {
    "collapsed": false,
    "jupyter": {
     "outputs_hidden": false
    }
   },
   "outputs": [],
   "source": [
    "results_df = pd.DataFrame.from_dict(results)\n",
    "results_df"
   ]
  },
  {
   "cell_type": "code",
   "execution_count": null,
   "metadata": {
    "collapsed": false,
    "jupyter": {
     "outputs_hidden": false
    }
   },
   "outputs": [],
   "source": [
    "if os.path.exists(RESULTS_FILE_PATH):\n",
    "    results_df.to_csv(RESULTS_FILE_PATH, mode='a', index=False, header=False)\n",
    "else:\n",
    "    results_df.to_csv(RESULTS_FILE_PATH, index=False)"
   ]
  },
  {
   "cell_type": "code",
   "execution_count": null,
   "metadata": {},
   "outputs": [],
   "source": []
  },
  {
   "cell_type": "code",
   "execution_count": null,
   "metadata": {},
   "outputs": [],
   "source": [
    "df = results_df[results_df['metric'].apply(lambda x: '(sample weight)' in x or 'corr.' in x)]\n",
    "df"
   ]
  },
  {
   "cell_type": "code",
   "execution_count": null,
   "metadata": {},
   "outputs": [],
   "source": [
    "df.groupby(['task', 'metric', 'split']).describe()"
   ]
  },
  {
   "cell_type": "code",
   "execution_count": null,
   "metadata": {},
   "outputs": [],
   "source": []
  }
 ],
 "metadata": {
  "accelerator": "GPU",
  "colab": {
   "provenance": []
  },
  "gpuClass": "standard",
  "kernelspec": {
   "display_name": "Python 3 (ipykernel)",
   "language": "python",
   "name": "python3"
  },
  "language_info": {
   "codemirror_mode": {
    "name": "ipython",
    "version": 3
   },
   "file_extension": ".py",
   "mimetype": "text/x-python",
   "name": "python",
   "nbconvert_exporter": "python",
   "pygments_lexer": "ipython3",
   "version": "3.12.3"
  }
 },
 "nbformat": 4,
 "nbformat_minor": 4
}
