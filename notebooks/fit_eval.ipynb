{
 "cells": [
  {
   "cell_type": "markdown",
   "metadata": {
    "collapsed": false,
    "jupyter": {
     "outputs_hidden": false
    }
   },
   "source": [
    "# Contextual models evaluation"
   ]
  },
  {
   "cell_type": "markdown",
   "metadata": {
    "collapsed": false,
    "jupyter": {
     "outputs_hidden": false
    }
   },
   "source": [
    "## Environment preparation"
   ]
  },
  {
   "cell_type": "markdown",
   "metadata": {
    "collapsed": false,
    "jupyter": {
     "outputs_hidden": false
    }
   },
   "source": [
    "### Imports"
   ]
  },
  {
   "cell_type": "code",
   "execution_count": 1,
   "metadata": {
    "collapsed": false,
    "jupyter": {
     "outputs_hidden": false
    }
   },
   "outputs": [],
   "source": [
    "import os\n",
    "from datetime import datetime"
   ]
  },
  {
   "cell_type": "code",
   "execution_count": 2,
   "metadata": {
    "collapsed": false,
    "jupyter": {
     "outputs_hidden": false
    }
   },
   "outputs": [],
   "source": [
    "from tqdm import tqdm"
   ]
  },
  {
   "cell_type": "code",
   "execution_count": 3,
   "metadata": {
    "collapsed": false,
    "jupyter": {
     "outputs_hidden": false
    }
   },
   "outputs": [],
   "source": [
    "from itertools import product"
   ]
  },
  {
   "cell_type": "code",
   "execution_count": 4,
   "metadata": {
    "collapsed": false,
    "jupyter": {
     "outputs_hidden": false
    }
   },
   "outputs": [],
   "source": [
    "from joblib import Parallel, delayed, parallel_backend"
   ]
  },
  {
   "cell_type": "code",
   "execution_count": 5,
   "metadata": {
    "collapsed": false,
    "jupyter": {
     "outputs_hidden": false
    }
   },
   "outputs": [],
   "source": [
    "import numpy as np"
   ]
  },
  {
   "cell_type": "code",
   "execution_count": 6,
   "metadata": {
    "collapsed": false,
    "jupyter": {
     "outputs_hidden": false
    }
   },
   "outputs": [],
   "source": [
    "from scipy.stats import pearsonr, spearmanr\n",
    "from scipy.special import softmax"
   ]
  },
  {
   "cell_type": "code",
   "execution_count": 7,
   "metadata": {
    "collapsed": false,
    "jupyter": {
     "outputs_hidden": false
    }
   },
   "outputs": [],
   "source": [
    "import pandas as pd"
   ]
  },
  {
   "cell_type": "code",
   "execution_count": 8,
   "metadata": {
    "collapsed": false,
    "jupyter": {
     "outputs_hidden": false
    }
   },
   "outputs": [],
   "source": [
    "import torch\n",
    "import torch.nn as nn\n",
    "import torch.nn.functional as F"
   ]
  },
  {
   "cell_type": "code",
   "execution_count": 9,
   "metadata": {
    "collapsed": false,
    "jupyter": {
     "outputs_hidden": false
    }
   },
   "outputs": [],
   "source": [
    "%matplotlib inline\n",
    "from matplotlib import pyplot as plt\n",
    "import seaborn as sns"
   ]
  },
  {
   "cell_type": "code",
   "execution_count": 10,
   "metadata": {
    "collapsed": false,
    "jupyter": {
     "outputs_hidden": false
    }
   },
   "outputs": [],
   "source": [
    "from sklearn.metrics import classification_report, accuracy_score, precision_recall_fscore_support, roc_auc_score"
   ]
  },
  {
   "cell_type": "code",
   "execution_count": 11,
   "metadata": {
    "collapsed": false,
    "jupyter": {
     "outputs_hidden": false
    }
   },
   "outputs": [
    {
     "name": "stderr",
     "output_type": "stream",
     "text": [
      "/home/vincenzo/anaconda3/envs/vstk/lib/python3.12/site-packages/tqdm/auto.py:21: TqdmWarning: IProgress not found. Please update jupyter and ipywidgets. See https://ipywidgets.readthedocs.io/en/stable/user_install.html\n",
      "  from .autonotebook import tqdm as notebook_tqdm\n"
     ]
    }
   ],
   "source": [
    "from vstk.models import Word2Vec, GloVe, FastText, Def2Vec"
   ]
  },
  {
   "cell_type": "code",
   "execution_count": 12,
   "metadata": {
    "collapsed": false,
    "jupyter": {
     "outputs_hidden": false
    }
   },
   "outputs": [],
   "source": [
    "from vstk.data import CoNLL2003, SST, STS"
   ]
  },
  {
   "cell_type": "markdown",
   "metadata": {
    "collapsed": false,
    "jupyter": {
     "outputs_hidden": false
    }
   },
   "source": [
    "### Constants"
   ]
  },
  {
   "cell_type": "code",
   "execution_count": 13,
   "metadata": {
    "collapsed": false,
    "jupyter": {
     "outputs_hidden": false
    }
   },
   "outputs": [],
   "source": [
    "W2V_MODEL_PATH = '../resources/models/pre_trained/word_2_vec/'\n",
    "GV_MODEL_PATH = '../resources/models/pre_trained/glove/'\n",
    "FT_MODEL_PATH = '../resources/models/pre_trained/fast_text/'\n",
    "# Sub-words\n",
    "# D2V_MODEL_PATH = '../resources/models/pre_trained/def_2_vec_084926b712881ac5c62a5c520898bc8a20d2df205cd3fafbfe8fb66060294291/'\n",
    "# Sub-words - Stop-words removed\n",
    "D2V_MODEL_PATH = '../resources/models/pre_trained/def_2_vec_2528fc7769d477bed290bfa827d5b499b0849a7e1851cbfdc37e296e21373071/'  # Main model\n",
    "# D2V_MODEL_PATH = '../resources/models/pre_trained/def_2_vec_2528fc7769d477bed290bfa827d5b499b0849a7e1851cbfdc37e296e21373071_extended/'\n",
    "# D2V_MODEL_PATH = '../resources/models/pre_trained/def_2_vec_2528fc7769d477bed290bfa827d5b499b0849a7e1851cbfdc37e296e21373071_reduced/'\n",
    "# No sub-words\n",
    "# D2V_MODEL_PATH = '../resources/models/pre_trained/def_2_vec_6a9f23276b7f235c3ef6aa8facb0efee6f716bd7ce8387e01c8df27831f35b27/'\n",
    "# No sub-words - Stop-words removed\n",
    "# D2V_MODEL_PATH = '../resources/models/pre_trained/def_2_vec_85d911ac6e585a5f6d1abbdb40609fb024d8d67d24c5f14a9b8da1eca6d8f863/'"
   ]
  },
  {
   "cell_type": "code",
   "execution_count": 14,
   "metadata": {
    "collapsed": false,
    "jupyter": {
     "outputs_hidden": false
    }
   },
   "outputs": [],
   "source": [
    "CONLL2003_DATA_PATH = '../resources/data/raw/conll2003'\n",
    "SST_DATA_PATH = '../resources/data/raw/stanfordSentimentTreebank'\n",
    "STS_DATA_PATH = '../resources/data/raw/stsbenchmark'"
   ]
  },
  {
   "cell_type": "code",
   "execution_count": 15,
   "metadata": {
    "collapsed": false,
    "jupyter": {
     "outputs_hidden": false
    }
   },
   "outputs": [],
   "source": [
    "CLS_METRICS = [\n",
    "    'accuracy', \n",
    "    'precision (macro)', \n",
    "    'recall (macro)', \n",
    "    'fscore (macro)', \n",
    "    'auc (macro)', \n",
    "    'precision (weighted)', \n",
    "    'recall (weighted)', \n",
    "    'fscore (weighted)', \n",
    "    'auc (weighted)',\n",
    "    'accuracy (sample weight)', \n",
    "    'precision (sample weight)', \n",
    "    'recall (sample weight)', \n",
    "    'fscore (sample weight)', \n",
    "    'auc (sample weight)', \n",
    "]\n",
    "REG_METRICS = [\n",
    "    'pearson corr.',\n",
    "    'pearson corr. p',\n",
    "    'spearman corr.',\n",
    "    'spearman corr. p'\n",
    "]"
   ]
  },
  {
   "cell_type": "code",
   "execution_count": 16,
   "metadata": {
    "collapsed": false,
    "jupyter": {
     "outputs_hidden": false
    }
   },
   "outputs": [],
   "source": [
    "if not os.path.exists('../experiments/'):\n",
    "    os.mkdir('../experiments/')\n",
    "if not os.path.exists('../experiments/contextual'):\n",
    "    os.mkdir('../experiments/contextual')\n",
    "RESULTS_FILE_PATH = f'../experiments/contextual/results.csv'  # 'results_{datetime.now().strftime('%Y_%m_%d_%H_%M_%S')}.csv'"
   ]
  },
  {
   "cell_type": "markdown",
   "metadata": {
    "collapsed": false,
    "jupyter": {
     "outputs_hidden": false
    }
   },
   "source": [
    "### Global"
   ]
  },
  {
   "cell_type": "code",
   "execution_count": 17,
   "metadata": {
    "collapsed": false,
    "jupyter": {
     "outputs_hidden": false
    }
   },
   "outputs": [],
   "source": [
    "timestamp = datetime.now().strftime('%Y_%m_%d_%H_%M_%S')"
   ]
  },
  {
   "cell_type": "code",
   "execution_count": 18,
   "metadata": {
    "collapsed": false,
    "jupyter": {
     "outputs_hidden": false
    }
   },
   "outputs": [],
   "source": [
    "embeddings_model_dtype = FastText\n",
    "embeddings_model_path = FT_MODEL_PATH"
   ]
  },
  {
   "cell_type": "code",
   "execution_count": 19,
   "metadata": {},
   "outputs": [
    {
     "data": {
      "text/plain": [
       "'fast_text'"
      ]
     },
     "execution_count": 19,
     "metadata": {},
     "output_type": "execute_result"
    }
   ],
   "source": [
    "model_id = os.path.basename(os.path.split(embeddings_model_path)[0])\n",
    "model_id"
   ]
  },
  {
   "cell_type": "code",
   "execution_count": 20,
   "metadata": {
    "collapsed": false,
    "jupyter": {
     "outputs_hidden": false
    }
   },
   "outputs": [
    {
     "name": "stderr",
     "output_type": "stream",
     "text": [
      "Warning : `load_model` does not return WordVectorModel or SupervisedModel any more, but a `FastText` object which is very similar.\n"
     ]
    }
   ],
   "source": [
    "embeddings_model = embeddings_model_dtype.load(embeddings_model_path)"
   ]
  },
  {
   "cell_type": "code",
   "execution_count": 21,
   "metadata": {
    "collapsed": false,
    "jupyter": {
     "outputs_hidden": false
    }
   },
   "outputs": [
    {
     "data": {
      "text/plain": [
       "device(type='cuda')"
      ]
     },
     "execution_count": 21,
     "metadata": {},
     "output_type": "execute_result"
    }
   ],
   "source": [
    "device = torch.device('cuda' if torch.cuda.is_available() else 'cpu')\n",
    "device"
   ]
  },
  {
   "cell_type": "code",
   "execution_count": 22,
   "metadata": {
    "collapsed": false,
    "jupyter": {
     "outputs_hidden": false
    }
   },
   "outputs": [],
   "source": [
    "conll = {split: CoNLL2003(CONLL2003_DATA_PATH, split=split) for split in ['train', 'validation', 'test']}\n",
    "sst = {split: SST(SST_DATA_PATH, split=split, binary=True) for split in ['train', 'validation', 'test']}\n",
    "sts = {split: STS(STS_DATA_PATH, split=split) for split in ['train', 'validation', 'test']}"
   ]
  },
  {
   "cell_type": "code",
   "execution_count": 23,
   "metadata": {
    "collapsed": false,
    "jupyter": {
     "outputs_hidden": false
    }
   },
   "outputs": [],
   "source": [
    "results = list()"
   ]
  },
  {
   "cell_type": "markdown",
   "metadata": {
    "collapsed": false,
    "jupyter": {
     "outputs_hidden": false
    }
   },
   "source": [
    "## Experiments"
   ]
  },
  {
   "cell_type": "markdown",
   "metadata": {
    "collapsed": false,
    "jupyter": {
     "outputs_hidden": false
    }
   },
   "source": [
    "### CoNLL 2003\n",
    "\n",
    "Evaluate on token classification"
   ]
  },
  {
   "cell_type": "code",
   "execution_count": 24,
   "metadata": {
    "collapsed": false,
    "jupyter": {
     "outputs_hidden": false
    }
   },
   "outputs": [],
   "source": [
    "corpus = 'CoNLL-2003'"
   ]
  },
  {
   "cell_type": "code",
   "execution_count": 25,
   "metadata": {
    "collapsed": false,
    "jupyter": {
     "outputs_hidden": false
    }
   },
   "outputs": [
    {
     "data": {
      "text/plain": [
       "[[{'token': 'EU', 'pos': 'NNP', 'chunk': 'B-NP', 'ner': 'B-ORG'},\n",
       "  {'token': 'rejects', 'pos': 'VBZ', 'chunk': 'B-VP', 'ner': 'O'},\n",
       "  {'token': 'German', 'pos': 'JJ', 'chunk': 'B-NP', 'ner': 'B-MISC'},\n",
       "  {'token': 'call', 'pos': 'NN', 'chunk': 'I-NP', 'ner': 'O'},\n",
       "  {'token': 'to', 'pos': 'TO', 'chunk': 'B-VP', 'ner': 'O'},\n",
       "  {'token': 'boycott', 'pos': 'VB', 'chunk': 'I-VP', 'ner': 'O'},\n",
       "  {'token': 'British', 'pos': 'JJ', 'chunk': 'B-NP', 'ner': 'B-MISC'},\n",
       "  {'token': 'lamb', 'pos': 'NN', 'chunk': 'I-NP', 'ner': 'O'},\n",
       "  {'token': '.', 'pos': '.', 'chunk': 'O', 'ner': 'O'}],\n",
       " [{'token': 'Peter', 'pos': 'NNP', 'chunk': 'B-NP', 'ner': 'B-PER'},\n",
       "  {'token': 'Blackburn', 'pos': 'NNP', 'chunk': 'I-NP', 'ner': 'I-PER'}],\n",
       " [{'token': 'BRUSSELS', 'pos': 'NNP', 'chunk': 'B-NP', 'ner': 'B-LOC'},\n",
       "  {'token': '1996-08-22', 'pos': 'CD', 'chunk': 'I-NP', 'ner': 'O'}]]"
      ]
     },
     "execution_count": 25,
     "metadata": {},
     "output_type": "execute_result"
    }
   ],
   "source": [
    "conll['train']._data[:3]"
   ]
  },
  {
   "cell_type": "code",
   "execution_count": 26,
   "metadata": {
    "collapsed": false,
    "jupyter": {
     "outputs_hidden": false
    }
   },
   "outputs": [],
   "source": [
    "class TokenClassification(nn.Module):\n",
    "    def __init__(self, input_size, output_size, hidden_size: int = 512, kernel_size: int = 5):\n",
    "        super().__init__()\n",
    "        self.norm = nn.LayerNorm(input_size)\n",
    "        self.conv1d = nn.Conv1d(input_size, hidden_size, kernel_size, padding='same', bias=False)\n",
    "        self.dropout = nn.Dropout(0.1)\n",
    "        self.cls_head = nn.Linear(hidden_size, output_size)\n",
    "        \n",
    "    def forward(self, x):\n",
    "        # \n",
    "        x = self.dropout(x)\n",
    "        #\n",
    "        h = self.conv1d(x.transpose(-1, -2))  # self.norm(x).transpose(-1, -2)\n",
    "        # Non-linear activation\n",
    "        h = F.gelu(h)\n",
    "        # Dropout\n",
    "        h = self.dropout(h)\n",
    "        # Apply last linear projection\n",
    "        y = self.cls_head(h.transpose(-1, -2))\n",
    "\n",
    "        return y\n"
   ]
  },
  {
   "cell_type": "code",
   "execution_count": 27,
   "metadata": {
    "collapsed": false,
    "jupyter": {
     "outputs_hidden": false
    }
   },
   "outputs": [
    {
     "name": "stdout",
     "output_type": "stream",
     "text": [
      "pos ['\"' '$' \"''\" '(' ')' ',' '.' ':' 'CC' 'CD' 'DT' 'EX' 'FW' 'IN' 'JJ' 'JJR'\n",
      " 'JJS' 'LS' 'MD' 'NN' 'NNP' 'NNPS' 'NNS' 'NN|SYM' 'PDT' 'POS' 'PRP' 'PRP$'\n",
      " 'RB' 'RBR' 'RBS' 'RP' 'SYM' 'TO' 'UH' 'VB' 'VBD' 'VBG' 'VBN' 'VBP' 'VBZ'\n",
      " 'WDT' 'WP' 'WP$' 'WRB']\n",
      "chunk ['B-ADJP' 'B-ADVP' 'B-CONJP' 'B-INTJ' 'B-LST' 'B-NP' 'B-PP' 'B-PRT'\n",
      " 'B-SBAR' 'B-VP' 'I-ADJP' 'I-ADVP' 'I-CONJP' 'I-INTJ' 'I-LST' 'I-NP'\n",
      " 'I-PP' 'I-SBAR' 'I-VP' 'O']\n",
      "ner ['B-LOC' 'B-MISC' 'B-ORG' 'B-PER' 'I-LOC' 'I-MISC' 'I-ORG' 'I-PER' 'O']\n"
     ]
    }
   ],
   "source": [
    "le = conll['train'].get_label_transformer()\n",
    "for label, le_ in le.items():\n",
    "    print(label, le_.classes_)"
   ]
  },
  {
   "cell_type": "code",
   "execution_count": 28,
   "metadata": {},
   "outputs": [
    {
     "name": "stdout",
     "output_type": "stream",
     "text": [
      "pos tensor([1.5791e+01, 8.0543e+01, 9.8263e+02, 1.2000e+01, 1.2000e+01, 4.7170e+00,\n",
      "        4.6545e+00, 1.4414e+01, 9.4147e+00, 1.7454e+00, 2.5565e+00, 2.5288e+02,\n",
      "        2.0718e+02, 1.8040e+00, 2.9069e+00, 9.0031e+01, 1.3540e+02, 2.6455e+03,\n",
      "        2.8684e+01, 1.4391e+00, 1.0000e+00, 5.0281e+01, 3.4729e+00, 8.5980e+03,\n",
      "        1.0422e+03, 2.2146e+01, 1.0873e+01, 2.2626e+01, 8.6521e+00, 2.1099e+02,\n",
      "        9.8263e+02, 6.5136e+01, 7.8342e+01, 9.9141e+00, 1.1464e+03, 8.0884e+00,\n",
      "        4.1471e+00, 1.3304e+01, 8.3781e+00, 2.3950e+01, 1.4176e+01, 6.7968e+01,\n",
      "        6.5136e+01, 1.4953e+03, 8.9562e+01], device='cuda:0')\n",
      "chunk tensor([5.7206e+01, 2.5273e+01, 2.1498e+03, 1.1296e+03, 2.0827e+03, 1.1613e+00,\n",
      "        3.5369e+00, 1.2646e+02, 5.2518e+01, 3.6929e+00, 3.1585e+02, 4.8293e+02,\n",
      "        1.7088e+03, 6.6645e+04, 1.6661e+04, 1.0000e+00, 6.4704e+02, 3.5076e+03,\n",
      "        7.5578e+00, 2.4107e+00], device='cuda:0')\n",
      "ner tensor([ 23.7504,  49.3246,  26.8277,  25.6936, 146.5670, 146.8208,  45.7824,\n",
      "         37.4510,   1.0000], device='cuda:0')\n"
     ]
    }
   ],
   "source": [
    "lw = {label: lw_.to(device) for label, lw_ in conll['train'].get_label_weights().items()}\n",
    "for label, lw_ in lw.items():\n",
    "    print(label, lw_)"
   ]
  },
  {
   "cell_type": "markdown",
   "metadata": {
    "collapsed": false,
    "jupyter": {
     "outputs_hidden": false
    }
   },
   "source": [
    "#### POS tagging"
   ]
  },
  {
   "cell_type": "code",
   "execution_count": 29,
   "metadata": {
    "collapsed": false,
    "jupyter": {
     "outputs_hidden": false
    }
   },
   "outputs": [],
   "source": [
    "task = 'pos'"
   ]
  },
  {
   "cell_type": "code",
   "execution_count": 30,
   "metadata": {
    "collapsed": false,
    "jupyter": {
     "outputs_hidden": false
    }
   },
   "outputs": [
    {
     "data": {
      "text/plain": [
       "TokenClassification(\n",
       "  (norm): LayerNorm((300,), eps=1e-05, elementwise_affine=True)\n",
       "  (conv1d): Conv1d(300, 512, kernel_size=(5,), stride=(1,), padding=same, bias=False)\n",
       "  (dropout): Dropout(p=0.1, inplace=False)\n",
       "  (cls_head): Linear(in_features=512, out_features=45, bias=True)\n",
       ")"
      ]
     },
     "execution_count": 30,
     "metadata": {},
     "output_type": "execute_result"
    }
   ],
   "source": [
    "model = TokenClassification(300, len(le[task].classes_))  # 300, 300, *, 3\n",
    "model = model.to(device)\n",
    "model"
   ]
  },
  {
   "cell_type": "code",
   "execution_count": 31,
   "metadata": {
    "collapsed": false,
    "jupyter": {
     "outputs_hidden": false
    }
   },
   "outputs": [],
   "source": [
    "lr = 0.001  # 0.0005\n",
    "batch_size = 512  # 128\n",
    "n_epochs = 32  # 10\n",
    "optimizer = torch.optim.AdamW(params=model.parameters(), lr=lr)"
   ]
  },
  {
   "cell_type": "code",
   "execution_count": 32,
   "metadata": {
    "collapsed": false,
    "jupyter": {
     "outputs_hidden": false
    }
   },
   "outputs": [],
   "source": [
    "def collate(mini_batch):\n",
    "    # Get the length of the longest sentence\n",
    "    max_sequence_len = max(len(sample) for sample in mini_batch)\n",
    "    # Create an input tensor with all zero values\n",
    "    input_embeds = np.zeros((len(mini_batch), max_sequence_len, 300))\n",
    "    #\n",
    "    valid_mask = np.zeros((len(mini_batch), max_sequence_len))\n",
    "    # Create a target output matrix with all -100 (PyTorch ignores this value by default)\n",
    "    output_lbl = np.full((len(mini_batch), max_sequence_len), -100)\n",
    "    # Fill the tensor and the matrix\n",
    "    for i, sample in enumerate(mini_batch):\n",
    "        for j, token in enumerate(sample):\n",
    "            # Manage missing tokens in vocabulary\n",
    "            input_embeds[i, j] = embeddings_model[token['token'].lower()]\n",
    "            output_lbl[i, j] = le[task].transform([token[task]])[0]\n",
    "        valid_mask[i, :len(sample)] = 1.0\n",
    "    # Convert to PyTorch tensor\n",
    "    input_embeds = torch.tensor(input_embeds, dtype=torch.float, device=device)\n",
    "    valid_mask = torch.tensor(valid_mask, dtype=torch.float, device=device)\n",
    "    output_lbl = torch.tensor(output_lbl, device=device)\n",
    "\n",
    "    return input_embeds, output_lbl\n",
    "    # return input_embeds, valid_mask, output_lbl"
   ]
  },
  {
   "cell_type": "code",
   "execution_count": 33,
   "metadata": {
    "collapsed": false,
    "jupyter": {
     "outputs_hidden": false
    }
   },
   "outputs": [],
   "source": [
    "data_loader = {\n",
    "    split: torch.utils.data.DataLoader(\n",
    "        data, batch_size=batch_size, collate_fn=collate, shuffle=split == 'train'\n",
    "    )\n",
    "    for split, data in conll.items()\n",
    "}"
   ]
  },
  {
   "cell_type": "markdown",
   "metadata": {
    "collapsed": false,
    "jupyter": {
     "outputs_hidden": false
    }
   },
   "source": [
    "##### Training"
   ]
  },
  {
   "cell_type": "code",
   "execution_count": 34,
   "metadata": {
    "scrolled": true
   },
   "outputs": [
    {
     "name": "stdout",
     "output_type": "stream",
     "text": [
      "Starting epoch 1/32\n"
     ]
    },
    {
     "name": "stderr",
     "output_type": "stream",
     "text": [
      "  0%|                                                                                                                        | 0/28 [00:00<?, ?it/s]/home/vincenzo/anaconda3/envs/vstk/lib/python3.12/site-packages/torch/nn/modules/conv.py:306: UserWarning: Plan failed with a cudnnException: CUDNN_BACKEND_EXECUTION_PLAN_DESCRIPTOR: cudnnFinalize Descriptor Failed cudnn_status: CUDNN_STATUS_NOT_SUPPORTED (Triggered internally at ../aten/src/ATen/native/cudnn/Conv_v8.cpp:919.)\n",
      "  return F.conv1d(input, weight, bias, self.stride,\n",
      " 11%|████████████                                                                                                    | 3/28 [00:01<00:10,  2.40it/s]/home/vincenzo/anaconda3/envs/vstk/lib/python3.12/site-packages/torch/nn/modules/conv.py:306: UserWarning: Plan failed with a cudnnException: CUDNN_BACKEND_EXECUTION_PLAN_DESCRIPTOR: cudnnFinalize Descriptor Failed cudnn_status: CUDNN_STATUS_NOT_SUPPORTED (Triggered internally at ../aten/src/ATen/native/cudnn/Conv_v8.cpp:919.)\n",
      "  return F.conv1d(input, weight, bias, self.stride,\n",
      " 14%|████████████████                                                                                                | 4/28 [00:01<00:09,  2.50it/s]/home/vincenzo/anaconda3/envs/vstk/lib/python3.12/site-packages/torch/nn/modules/conv.py:306: UserWarning: Plan failed with a cudnnException: CUDNN_BACKEND_EXECUTION_PLAN_DESCRIPTOR: cudnnFinalize Descriptor Failed cudnn_status: CUDNN_STATUS_NOT_SUPPORTED (Triggered internally at ../aten/src/ATen/native/cudnn/Conv_v8.cpp:919.)\n",
      "  return F.conv1d(input, weight, bias, self.stride,\n",
      " 61%|███████████████████████████████████████████████████████████████████▍                                           | 17/28 [00:06<00:04,  2.61it/s]/home/vincenzo/anaconda3/envs/vstk/lib/python3.12/site-packages/torch/nn/modules/conv.py:306: UserWarning: Plan failed with a cudnnException: CUDNN_BACKEND_EXECUTION_PLAN_DESCRIPTOR: cudnnFinalize Descriptor Failed cudnn_status: CUDNN_STATUS_NOT_SUPPORTED (Triggered internally at ../aten/src/ATen/native/cudnn/Conv_v8.cpp:919.)\n",
      "  return F.conv1d(input, weight, bias, self.stride,\n",
      " 93%|███████████████████████████████████████████████████████████████████████████████████████████████████████        | 26/28 [00:10<00:00,  2.62it/s]/home/vincenzo/anaconda3/envs/vstk/lib/python3.12/site-packages/torch/nn/modules/conv.py:306: UserWarning: Plan failed with a cudnnException: CUDNN_BACKEND_EXECUTION_PLAN_DESCRIPTOR: cudnnFinalize Descriptor Failed cudnn_status: CUDNN_STATUS_NOT_SUPPORTED (Triggered internally at ../aten/src/ATen/native/cudnn/Conv_v8.cpp:919.)\n",
      "  return F.conv1d(input, weight, bias, self.stride,\n",
      " 96%|███████████████████████████████████████████████████████████████████████████████████████████████████████████    | 27/28 [00:10<00:00,  2.66it/s]/home/vincenzo/anaconda3/envs/vstk/lib/python3.12/site-packages/torch/nn/modules/conv.py:306: UserWarning: Plan failed with a cudnnException: CUDNN_BACKEND_EXECUTION_PLAN_DESCRIPTOR: cudnnFinalize Descriptor Failed cudnn_status: CUDNN_STATUS_NOT_SUPPORTED (Triggered internally at ../aten/src/ATen/native/cudnn/Conv_v8.cpp:919.)\n",
      "  return F.conv1d(input, weight, bias, self.stride,\n",
      "100%|███████████████████████████████████████████████████████████████████████████████████████████████████████████████| 28/28 [00:10<00:00,  2.64it/s]\n"
     ]
    },
    {
     "name": "stdout",
     "output_type": "stream",
     "text": [
      "Starting validation epoch 1/32\n"
     ]
    },
    {
     "name": "stderr",
     "output_type": "stream",
     "text": [
      "100%|█████████████████████████████████████████████████████████████████████████████████████████████████████████████████| 7/7 [00:02<00:00,  2.79it/s]\n"
     ]
    },
    {
     "name": "stdout",
     "output_type": "stream",
     "text": [
      "Starting epoch 2/32\n"
     ]
    },
    {
     "name": "stderr",
     "output_type": "stream",
     "text": [
      "100%|███████████████████████████████████████████████████████████████████████████████████████████████████████████████| 28/28 [00:10<00:00,  2.71it/s]\n"
     ]
    },
    {
     "name": "stdout",
     "output_type": "stream",
     "text": [
      "Starting validation epoch 2/32\n"
     ]
    },
    {
     "name": "stderr",
     "output_type": "stream",
     "text": [
      "100%|█████████████████████████████████████████████████████████████████████████████████████████████████████████████████| 7/7 [00:02<00:00,  2.79it/s]\n"
     ]
    },
    {
     "name": "stdout",
     "output_type": "stream",
     "text": [
      "Starting epoch 3/32\n"
     ]
    },
    {
     "name": "stderr",
     "output_type": "stream",
     "text": [
      "100%|███████████████████████████████████████████████████████████████████████████████████████████████████████████████| 28/28 [00:10<00:00,  2.69it/s]\n"
     ]
    },
    {
     "name": "stdout",
     "output_type": "stream",
     "text": [
      "Starting validation epoch 3/32\n"
     ]
    },
    {
     "name": "stderr",
     "output_type": "stream",
     "text": [
      "100%|█████████████████████████████████████████████████████████████████████████████████████████████████████████████████| 7/7 [00:02<00:00,  2.78it/s]\n"
     ]
    },
    {
     "name": "stdout",
     "output_type": "stream",
     "text": [
      "Starting epoch 4/32\n"
     ]
    },
    {
     "name": "stderr",
     "output_type": "stream",
     "text": [
      " 96%|███████████████████████████████████████████████████████████████████████████████████████████████████████████    | 27/28 [00:10<00:00,  2.66it/s]/home/vincenzo/anaconda3/envs/vstk/lib/python3.12/site-packages/torch/nn/modules/conv.py:306: UserWarning: Plan failed with a cudnnException: CUDNN_BACKEND_EXECUTION_PLAN_DESCRIPTOR: cudnnFinalize Descriptor Failed cudnn_status: CUDNN_STATUS_NOT_SUPPORTED (Triggered internally at ../aten/src/ATen/native/cudnn/Conv_v8.cpp:919.)\n",
      "  return F.conv1d(input, weight, bias, self.stride,\n",
      "100%|███████████████████████████████████████████████████████████████████████████████████████████████████████████████| 28/28 [00:10<00:00,  2.68it/s]\n"
     ]
    },
    {
     "name": "stdout",
     "output_type": "stream",
     "text": [
      "Starting validation epoch 4/32\n"
     ]
    },
    {
     "name": "stderr",
     "output_type": "stream",
     "text": [
      "100%|█████████████████████████████████████████████████████████████████████████████████████████████████████████████████| 7/7 [00:02<00:00,  2.74it/s]\n"
     ]
    },
    {
     "name": "stdout",
     "output_type": "stream",
     "text": [
      "Starting epoch 5/32\n"
     ]
    },
    {
     "name": "stderr",
     "output_type": "stream",
     "text": [
      "100%|███████████████████████████████████████████████████████████████████████████████████████████████████████████████| 28/28 [00:10<00:00,  2.67it/s]\n"
     ]
    },
    {
     "name": "stdout",
     "output_type": "stream",
     "text": [
      "Starting validation epoch 5/32\n"
     ]
    },
    {
     "name": "stderr",
     "output_type": "stream",
     "text": [
      "100%|█████████████████████████████████████████████████████████████████████████████████████████████████████████████████| 7/7 [00:02<00:00,  2.76it/s]\n"
     ]
    },
    {
     "name": "stdout",
     "output_type": "stream",
     "text": [
      "Starting epoch 6/32\n"
     ]
    },
    {
     "name": "stderr",
     "output_type": "stream",
     "text": [
      "100%|███████████████████████████████████████████████████████████████████████████████████████████████████████████████| 28/28 [00:10<00:00,  2.67it/s]\n"
     ]
    },
    {
     "name": "stdout",
     "output_type": "stream",
     "text": [
      "Starting validation epoch 6/32\n"
     ]
    },
    {
     "name": "stderr",
     "output_type": "stream",
     "text": [
      "100%|█████████████████████████████████████████████████████████████████████████████████████████████████████████████████| 7/7 [00:02<00:00,  2.79it/s]\n"
     ]
    },
    {
     "name": "stdout",
     "output_type": "stream",
     "text": [
      "Starting epoch 7/32\n"
     ]
    },
    {
     "name": "stderr",
     "output_type": "stream",
     "text": [
      " 96%|███████████████████████████████████████████████████████████████████████████████████████████████████████████    | 27/28 [00:10<00:00,  2.56it/s]/home/vincenzo/anaconda3/envs/vstk/lib/python3.12/site-packages/torch/nn/modules/conv.py:306: UserWarning: Plan failed with a cudnnException: CUDNN_BACKEND_EXECUTION_PLAN_DESCRIPTOR: cudnnFinalize Descriptor Failed cudnn_status: CUDNN_STATUS_NOT_SUPPORTED (Triggered internally at ../aten/src/ATen/native/cudnn/Conv_v8.cpp:919.)\n",
      "  return F.conv1d(input, weight, bias, self.stride,\n",
      "100%|███████████████████████████████████████████████████████████████████████████████████████████████████████████████| 28/28 [00:10<00:00,  2.66it/s]\n"
     ]
    },
    {
     "name": "stdout",
     "output_type": "stream",
     "text": [
      "Starting validation epoch 7/32\n"
     ]
    },
    {
     "name": "stderr",
     "output_type": "stream",
     "text": [
      "100%|█████████████████████████████████████████████████████████████████████████████████████████████████████████████████| 7/7 [00:02<00:00,  2.75it/s]\n"
     ]
    },
    {
     "name": "stdout",
     "output_type": "stream",
     "text": [
      "Starting epoch 8/32\n"
     ]
    },
    {
     "name": "stderr",
     "output_type": "stream",
     "text": [
      "100%|███████████████████████████████████████████████████████████████████████████████████████████████████████████████| 28/28 [00:10<00:00,  2.69it/s]\n"
     ]
    },
    {
     "name": "stdout",
     "output_type": "stream",
     "text": [
      "Starting validation epoch 8/32\n"
     ]
    },
    {
     "name": "stderr",
     "output_type": "stream",
     "text": [
      "100%|█████████████████████████████████████████████████████████████████████████████████████████████████████████████████| 7/7 [00:02<00:00,  2.77it/s]\n"
     ]
    },
    {
     "name": "stdout",
     "output_type": "stream",
     "text": [
      "Starting epoch 9/32\n"
     ]
    },
    {
     "name": "stderr",
     "output_type": "stream",
     "text": [
      "100%|███████████████████████████████████████████████████████████████████████████████████████████████████████████████| 28/28 [00:10<00:00,  2.68it/s]\n"
     ]
    },
    {
     "name": "stdout",
     "output_type": "stream",
     "text": [
      "Starting validation epoch 9/32\n"
     ]
    },
    {
     "name": "stderr",
     "output_type": "stream",
     "text": [
      "100%|█████████████████████████████████████████████████████████████████████████████████████████████████████████████████| 7/7 [00:02<00:00,  2.79it/s]\n"
     ]
    },
    {
     "name": "stdout",
     "output_type": "stream",
     "text": [
      "Starting epoch 10/32\n"
     ]
    },
    {
     "name": "stderr",
     "output_type": "stream",
     "text": [
      " 96%|███████████████████████████████████████████████████████████████████████████████████████████████████████████    | 27/28 [00:10<00:00,  2.68it/s]/home/vincenzo/anaconda3/envs/vstk/lib/python3.12/site-packages/torch/nn/modules/conv.py:306: UserWarning: Plan failed with a cudnnException: CUDNN_BACKEND_EXECUTION_PLAN_DESCRIPTOR: cudnnFinalize Descriptor Failed cudnn_status: CUDNN_STATUS_NOT_SUPPORTED (Triggered internally at ../aten/src/ATen/native/cudnn/Conv_v8.cpp:919.)\n",
      "  return F.conv1d(input, weight, bias, self.stride,\n",
      "100%|███████████████████████████████████████████████████████████████████████████████████████████████████████████████| 28/28 [00:10<00:00,  2.71it/s]\n"
     ]
    },
    {
     "name": "stdout",
     "output_type": "stream",
     "text": [
      "Starting validation epoch 10/32\n"
     ]
    },
    {
     "name": "stderr",
     "output_type": "stream",
     "text": [
      "100%|█████████████████████████████████████████████████████████████████████████████████████████████████████████████████| 7/7 [00:02<00:00,  2.79it/s]\n"
     ]
    },
    {
     "name": "stdout",
     "output_type": "stream",
     "text": [
      "Starting epoch 11/32\n"
     ]
    },
    {
     "name": "stderr",
     "output_type": "stream",
     "text": [
      "100%|███████████████████████████████████████████████████████████████████████████████████████████████████████████████| 28/28 [00:10<00:00,  2.71it/s]\n"
     ]
    },
    {
     "name": "stdout",
     "output_type": "stream",
     "text": [
      "Starting validation epoch 11/32\n"
     ]
    },
    {
     "name": "stderr",
     "output_type": "stream",
     "text": [
      "100%|█████████████████████████████████████████████████████████████████████████████████████████████████████████████████| 7/7 [00:02<00:00,  2.80it/s]\n"
     ]
    },
    {
     "name": "stdout",
     "output_type": "stream",
     "text": [
      "Starting epoch 12/32\n"
     ]
    },
    {
     "name": "stderr",
     "output_type": "stream",
     "text": [
      "100%|███████████████████████████████████████████████████████████████████████████████████████████████████████████████| 28/28 [00:10<00:00,  2.69it/s]\n"
     ]
    },
    {
     "name": "stdout",
     "output_type": "stream",
     "text": [
      "Starting validation epoch 12/32\n"
     ]
    },
    {
     "name": "stderr",
     "output_type": "stream",
     "text": [
      "100%|█████████████████████████████████████████████████████████████████████████████████████████████████████████████████| 7/7 [00:02<00:00,  2.76it/s]\n"
     ]
    },
    {
     "name": "stdout",
     "output_type": "stream",
     "text": [
      "Starting epoch 13/32\n"
     ]
    },
    {
     "name": "stderr",
     "output_type": "stream",
     "text": [
      "100%|███████████████████████████████████████████████████████████████████████████████████████████████████████████████| 28/28 [00:10<00:00,  2.71it/s]\n"
     ]
    },
    {
     "name": "stdout",
     "output_type": "stream",
     "text": [
      "Starting validation epoch 13/32\n"
     ]
    },
    {
     "name": "stderr",
     "output_type": "stream",
     "text": [
      "100%|█████████████████████████████████████████████████████████████████████████████████████████████████████████████████| 7/7 [00:02<00:00,  2.80it/s]\n"
     ]
    },
    {
     "name": "stdout",
     "output_type": "stream",
     "text": [
      "Starting epoch 14/32\n"
     ]
    },
    {
     "name": "stderr",
     "output_type": "stream",
     "text": [
      " 96%|███████████████████████████████████████████████████████████████████████████████████████████████████████████    | 27/28 [00:10<00:00,  2.66it/s]/home/vincenzo/anaconda3/envs/vstk/lib/python3.12/site-packages/torch/nn/modules/conv.py:306: UserWarning: Plan failed with a cudnnException: CUDNN_BACKEND_EXECUTION_PLAN_DESCRIPTOR: cudnnFinalize Descriptor Failed cudnn_status: CUDNN_STATUS_NOT_SUPPORTED (Triggered internally at ../aten/src/ATen/native/cudnn/Conv_v8.cpp:919.)\n",
      "  return F.conv1d(input, weight, bias, self.stride,\n",
      "100%|███████████████████████████████████████████████████████████████████████████████████████████████████████████████| 28/28 [00:10<00:00,  2.69it/s]\n"
     ]
    },
    {
     "name": "stdout",
     "output_type": "stream",
     "text": [
      "Starting validation epoch 14/32\n"
     ]
    },
    {
     "name": "stderr",
     "output_type": "stream",
     "text": [
      "100%|█████████████████████████████████████████████████████████████████████████████████████████████████████████████████| 7/7 [00:02<00:00,  2.76it/s]\n"
     ]
    },
    {
     "name": "stdout",
     "output_type": "stream",
     "text": [
      "Starting epoch 15/32\n"
     ]
    },
    {
     "name": "stderr",
     "output_type": "stream",
     "text": [
      "100%|███████████████████████████████████████████████████████████████████████████████████████████████████████████████| 28/28 [00:10<00:00,  2.68it/s]\n"
     ]
    },
    {
     "name": "stdout",
     "output_type": "stream",
     "text": [
      "Starting validation epoch 15/32\n"
     ]
    },
    {
     "name": "stderr",
     "output_type": "stream",
     "text": [
      "100%|█████████████████████████████████████████████████████████████████████████████████████████████████████████████████| 7/7 [00:02<00:00,  2.79it/s]\n"
     ]
    },
    {
     "name": "stdout",
     "output_type": "stream",
     "text": [
      "Starting epoch 16/32\n"
     ]
    },
    {
     "name": "stderr",
     "output_type": "stream",
     "text": [
      "100%|███████████████████████████████████████████████████████████████████████████████████████████████████████████████| 28/28 [00:10<00:00,  2.70it/s]\n"
     ]
    },
    {
     "name": "stdout",
     "output_type": "stream",
     "text": [
      "Starting validation epoch 16/32\n"
     ]
    },
    {
     "name": "stderr",
     "output_type": "stream",
     "text": [
      "100%|█████████████████████████████████████████████████████████████████████████████████████████████████████████████████| 7/7 [00:02<00:00,  2.82it/s]\n"
     ]
    },
    {
     "name": "stdout",
     "output_type": "stream",
     "text": [
      "Starting epoch 17/32\n"
     ]
    },
    {
     "name": "stderr",
     "output_type": "stream",
     "text": [
      " 96%|███████████████████████████████████████████████████████████████████████████████████████████████████████████    | 27/28 [00:10<00:00,  2.70it/s]/home/vincenzo/anaconda3/envs/vstk/lib/python3.12/site-packages/torch/nn/modules/conv.py:306: UserWarning: Plan failed with a cudnnException: CUDNN_BACKEND_EXECUTION_PLAN_DESCRIPTOR: cudnnFinalize Descriptor Failed cudnn_status: CUDNN_STATUS_NOT_SUPPORTED (Triggered internally at ../aten/src/ATen/native/cudnn/Conv_v8.cpp:919.)\n",
      "  return F.conv1d(input, weight, bias, self.stride,\n",
      "100%|███████████████████████████████████████████████████████████████████████████████████████████████████████████████| 28/28 [00:10<00:00,  2.71it/s]\n"
     ]
    },
    {
     "name": "stdout",
     "output_type": "stream",
     "text": [
      "Starting validation epoch 17/32\n"
     ]
    },
    {
     "name": "stderr",
     "output_type": "stream",
     "text": [
      "100%|█████████████████████████████████████████████████████████████████████████████████████████████████████████████████| 7/7 [00:02<00:00,  2.80it/s]\n"
     ]
    },
    {
     "name": "stdout",
     "output_type": "stream",
     "text": [
      "Starting epoch 18/32\n"
     ]
    },
    {
     "name": "stderr",
     "output_type": "stream",
     "text": [
      " 96%|███████████████████████████████████████████████████████████████████████████████████████████████████████████    | 27/28 [00:10<00:00,  2.58it/s]/home/vincenzo/anaconda3/envs/vstk/lib/python3.12/site-packages/torch/nn/modules/conv.py:306: UserWarning: Plan failed with a cudnnException: CUDNN_BACKEND_EXECUTION_PLAN_DESCRIPTOR: cudnnFinalize Descriptor Failed cudnn_status: CUDNN_STATUS_NOT_SUPPORTED (Triggered internally at ../aten/src/ATen/native/cudnn/Conv_v8.cpp:919.)\n",
      "  return F.conv1d(input, weight, bias, self.stride,\n",
      "100%|███████████████████████████████████████████████████████████████████████████████████████████████████████████████| 28/28 [00:10<00:00,  2.71it/s]\n"
     ]
    },
    {
     "name": "stdout",
     "output_type": "stream",
     "text": [
      "Starting validation epoch 18/32\n"
     ]
    },
    {
     "name": "stderr",
     "output_type": "stream",
     "text": [
      "100%|█████████████████████████████████████████████████████████████████████████████████████████████████████████████████| 7/7 [00:02<00:00,  2.80it/s]\n"
     ]
    },
    {
     "name": "stdout",
     "output_type": "stream",
     "text": [
      "Starting epoch 19/32\n"
     ]
    },
    {
     "name": "stderr",
     "output_type": "stream",
     "text": [
      "100%|███████████████████████████████████████████████████████████████████████████████████████████████████████████████| 28/28 [00:10<00:00,  2.70it/s]\n"
     ]
    },
    {
     "name": "stdout",
     "output_type": "stream",
     "text": [
      "Starting validation epoch 19/32\n"
     ]
    },
    {
     "name": "stderr",
     "output_type": "stream",
     "text": [
      "100%|█████████████████████████████████████████████████████████████████████████████████████████████████████████████████| 7/7 [00:02<00:00,  2.79it/s]\n"
     ]
    },
    {
     "name": "stdout",
     "output_type": "stream",
     "text": [
      "Starting epoch 20/32\n"
     ]
    },
    {
     "name": "stderr",
     "output_type": "stream",
     "text": [
      "100%|███████████████████████████████████████████████████████████████████████████████████████████████████████████████| 28/28 [00:10<00:00,  2.78it/s]\n"
     ]
    },
    {
     "name": "stdout",
     "output_type": "stream",
     "text": [
      "Starting validation epoch 20/32\n"
     ]
    },
    {
     "name": "stderr",
     "output_type": "stream",
     "text": [
      "100%|█████████████████████████████████████████████████████████████████████████████████████████████████████████████████| 7/7 [00:02<00:00,  2.81it/s]\n"
     ]
    },
    {
     "name": "stdout",
     "output_type": "stream",
     "text": [
      "Starting epoch 21/32\n"
     ]
    },
    {
     "name": "stderr",
     "output_type": "stream",
     "text": [
      "100%|███████████████████████████████████████████████████████████████████████████████████████████████████████████████| 28/28 [00:10<00:00,  2.71it/s]\n"
     ]
    },
    {
     "name": "stdout",
     "output_type": "stream",
     "text": [
      "Starting validation epoch 21/32\n"
     ]
    },
    {
     "name": "stderr",
     "output_type": "stream",
     "text": [
      "100%|█████████████████████████████████████████████████████████████████████████████████████████████████████████████████| 7/7 [00:02<00:00,  2.80it/s]\n"
     ]
    },
    {
     "name": "stdout",
     "output_type": "stream",
     "text": [
      "Starting epoch 22/32\n"
     ]
    },
    {
     "name": "stderr",
     "output_type": "stream",
     "text": [
      "100%|███████████████████████████████████████████████████████████████████████████████████████████████████████████████| 28/28 [00:10<00:00,  2.72it/s]\n"
     ]
    },
    {
     "name": "stdout",
     "output_type": "stream",
     "text": [
      "Starting validation epoch 22/32\n"
     ]
    },
    {
     "name": "stderr",
     "output_type": "stream",
     "text": [
      "100%|█████████████████████████████████████████████████████████████████████████████████████████████████████████████████| 7/7 [00:02<00:00,  2.84it/s]\n"
     ]
    },
    {
     "name": "stdout",
     "output_type": "stream",
     "text": [
      "Starting epoch 23/32\n"
     ]
    },
    {
     "name": "stderr",
     "output_type": "stream",
     "text": [
      "100%|███████████████████████████████████████████████████████████████████████████████████████████████████████████████| 28/28 [00:10<00:00,  2.75it/s]\n"
     ]
    },
    {
     "name": "stdout",
     "output_type": "stream",
     "text": [
      "Starting validation epoch 23/32\n"
     ]
    },
    {
     "name": "stderr",
     "output_type": "stream",
     "text": [
      "100%|█████████████████████████████████████████████████████████████████████████████████████████████████████████████████| 7/7 [00:02<00:00,  2.84it/s]\n"
     ]
    },
    {
     "name": "stdout",
     "output_type": "stream",
     "text": [
      "Starting epoch 24/32\n"
     ]
    },
    {
     "name": "stderr",
     "output_type": "stream",
     "text": [
      " 96%|███████████████████████████████████████████████████████████████████████████████████████████████████████████    | 27/28 [00:10<00:00,  2.66it/s]/home/vincenzo/anaconda3/envs/vstk/lib/python3.12/site-packages/torch/nn/modules/conv.py:306: UserWarning: Plan failed with a cudnnException: CUDNN_BACKEND_EXECUTION_PLAN_DESCRIPTOR: cudnnFinalize Descriptor Failed cudnn_status: CUDNN_STATUS_NOT_SUPPORTED (Triggered internally at ../aten/src/ATen/native/cudnn/Conv_v8.cpp:919.)\n",
      "  return F.conv1d(input, weight, bias, self.stride,\n",
      "100%|███████████████████████████████████████████████████████████████████████████████████████████████████████████████| 28/28 [00:10<00:00,  2.74it/s]\n"
     ]
    },
    {
     "name": "stdout",
     "output_type": "stream",
     "text": [
      "Starting validation epoch 24/32\n"
     ]
    },
    {
     "name": "stderr",
     "output_type": "stream",
     "text": [
      "100%|█████████████████████████████████████████████████████████████████████████████████████████████████████████████████| 7/7 [00:02<00:00,  2.83it/s]\n"
     ]
    },
    {
     "name": "stdout",
     "output_type": "stream",
     "text": [
      "Starting epoch 25/32\n"
     ]
    },
    {
     "name": "stderr",
     "output_type": "stream",
     "text": [
      "100%|███████████████████████████████████████████████████████████████████████████████████████████████████████████████| 28/28 [00:10<00:00,  2.73it/s]\n"
     ]
    },
    {
     "name": "stdout",
     "output_type": "stream",
     "text": [
      "Starting validation epoch 25/32\n"
     ]
    },
    {
     "name": "stderr",
     "output_type": "stream",
     "text": [
      "100%|█████████████████████████████████████████████████████████████████████████████████████████████████████████████████| 7/7 [00:02<00:00,  2.82it/s]\n"
     ]
    },
    {
     "name": "stdout",
     "output_type": "stream",
     "text": [
      "Starting epoch 26/32\n"
     ]
    },
    {
     "name": "stderr",
     "output_type": "stream",
     "text": [
      "100%|███████████████████████████████████████████████████████████████████████████████████████████████████████████████| 28/28 [00:10<00:00,  2.73it/s]\n"
     ]
    },
    {
     "name": "stdout",
     "output_type": "stream",
     "text": [
      "Starting validation epoch 26/32\n"
     ]
    },
    {
     "name": "stderr",
     "output_type": "stream",
     "text": [
      "100%|█████████████████████████████████████████████████████████████████████████████████████████████████████████████████| 7/7 [00:02<00:00,  2.85it/s]\n"
     ]
    },
    {
     "name": "stdout",
     "output_type": "stream",
     "text": [
      "Starting epoch 27/32\n"
     ]
    },
    {
     "name": "stderr",
     "output_type": "stream",
     "text": [
      "100%|███████████████████████████████████████████████████████████████████████████████████████████████████████████████| 28/28 [00:10<00:00,  2.75it/s]\n"
     ]
    },
    {
     "name": "stdout",
     "output_type": "stream",
     "text": [
      "Starting validation epoch 27/32\n"
     ]
    },
    {
     "name": "stderr",
     "output_type": "stream",
     "text": [
      "100%|█████████████████████████████████████████████████████████████████████████████████████████████████████████████████| 7/7 [00:02<00:00,  2.85it/s]\n"
     ]
    },
    {
     "name": "stdout",
     "output_type": "stream",
     "text": [
      "Starting epoch 28/32\n"
     ]
    },
    {
     "name": "stderr",
     "output_type": "stream",
     "text": [
      "100%|███████████████████████████████████████████████████████████████████████████████████████████████████████████████| 28/28 [00:10<00:00,  2.73it/s]\n"
     ]
    },
    {
     "name": "stdout",
     "output_type": "stream",
     "text": [
      "Starting validation epoch 28/32\n"
     ]
    },
    {
     "name": "stderr",
     "output_type": "stream",
     "text": [
      "100%|█████████████████████████████████████████████████████████████████████████████████████████████████████████████████| 7/7 [00:02<00:00,  2.81it/s]\n"
     ]
    },
    {
     "name": "stdout",
     "output_type": "stream",
     "text": [
      "Starting epoch 29/32\n"
     ]
    },
    {
     "name": "stderr",
     "output_type": "stream",
     "text": [
      "100%|███████████████████████████████████████████████████████████████████████████████████████████████████████████████| 28/28 [00:10<00:00,  2.72it/s]\n"
     ]
    },
    {
     "name": "stdout",
     "output_type": "stream",
     "text": [
      "Starting validation epoch 29/32\n"
     ]
    },
    {
     "name": "stderr",
     "output_type": "stream",
     "text": [
      "100%|█████████████████████████████████████████████████████████████████████████████████████████████████████████████████| 7/7 [00:02<00:00,  2.81it/s]\n"
     ]
    },
    {
     "name": "stdout",
     "output_type": "stream",
     "text": [
      "Starting epoch 30/32\n"
     ]
    },
    {
     "name": "stderr",
     "output_type": "stream",
     "text": [
      "100%|███████████████████████████████████████████████████████████████████████████████████████████████████████████████| 28/28 [00:10<00:00,  2.72it/s]\n"
     ]
    },
    {
     "name": "stdout",
     "output_type": "stream",
     "text": [
      "Starting validation epoch 30/32\n"
     ]
    },
    {
     "name": "stderr",
     "output_type": "stream",
     "text": [
      "100%|█████████████████████████████████████████████████████████████████████████████████████████████████████████████████| 7/7 [00:02<00:00,  2.81it/s]\n"
     ]
    },
    {
     "name": "stdout",
     "output_type": "stream",
     "text": [
      "Starting epoch 31/32\n"
     ]
    },
    {
     "name": "stderr",
     "output_type": "stream",
     "text": [
      "100%|███████████████████████████████████████████████████████████████████████████████████████████████████████████████| 28/28 [00:10<00:00,  2.74it/s]\n"
     ]
    },
    {
     "name": "stdout",
     "output_type": "stream",
     "text": [
      "Starting validation epoch 31/32\n"
     ]
    },
    {
     "name": "stderr",
     "output_type": "stream",
     "text": [
      "100%|█████████████████████████████████████████████████████████████████████████████████████████████████████████████████| 7/7 [00:02<00:00,  2.80it/s]\n"
     ]
    },
    {
     "name": "stdout",
     "output_type": "stream",
     "text": [
      "Starting epoch 32/32\n"
     ]
    },
    {
     "name": "stderr",
     "output_type": "stream",
     "text": [
      "100%|███████████████████████████████████████████████████████████████████████████████████████████████████████████████| 28/28 [00:10<00:00,  2.72it/s]\n"
     ]
    },
    {
     "name": "stdout",
     "output_type": "stream",
     "text": [
      "Starting validation epoch 32/32\n"
     ]
    },
    {
     "name": "stderr",
     "output_type": "stream",
     "text": [
      "100%|█████████████████████████████████████████████████████████████████████████████████████████████████████████████████| 7/7 [00:02<00:00,  2.82it/s]\n"
     ]
    }
   ],
   "source": [
    "path = os.path.join('../experiments/contextual/', f'{model_id}_{corpus}_{task}_{datetime.now()}.ckpt')\n",
    "\n",
    "# Set model in training mode\n",
    "model.train()\n",
    "\n",
    "# Accumulator of loss\n",
    "history = []\n",
    "validation_history = []\n",
    "best_validation_loss = torch.tensor(float('inf'), device=device)\n",
    "\n",
    "# scheduler = torch.optim.lr_scheduler.OneCycleLR(optimizer, lr, steps_per_epoch=len(data_loader['train']), epochs=n_epochs, anneal_strategy='linear', pct_start=0.05)\n",
    "\n",
    "# Iterate over epochs\n",
    "for i in range(n_epochs):\n",
    "    print(f\"Starting epoch {i + 1}/{n_epochs}\")\n",
    "    # Iterate over training batches\n",
    "    # for embeds, lbl in tqdm(data_loader['train']):\n",
    "    for embeds, lbl in tqdm(data_loader['train']):\n",
    "        # Zero your gradients for every batch!\n",
    "        optimizer.zero_grad()\n",
    "        # Move input and output to target device\n",
    "        embeds = embeds.to(device)\n",
    "        lbl = lbl.to(device)\n",
    "        # Compute logits (i.e., softmax values before exponential normalisation)\n",
    "        logits = model(embeds)\n",
    "        # Flatten logits to a shape (batch_size * max_sentence_len, n_classes)\n",
    "        logits = logits.reshape(-1, len(le[task].classes_))\n",
    "        # Flatten targets to a shape (batch_size * max_sentence_len)\n",
    "        lbl = lbl.reshape(-1)\n",
    "        # Compute loss\n",
    "        loss = F.cross_entropy(logits, lbl)\n",
    "        # Compute gradients\n",
    "        loss.backward()\n",
    "        # Update weights\n",
    "        torch.nn.utils.clip_grad_norm_(model.parameters(), 1.0)\n",
    "        optimizer.step()\n",
    "        # scheduler.step()\n",
    "        # Save loss\n",
    "        history.append(loss.detach())\n",
    "    # Disable gradients\n",
    "    with torch.no_grad():\n",
    "        print(f\"Starting validation epoch {i + 1}/{n_epochs}\")\n",
    "        # Set in evaluation mode\n",
    "        model.eval()\n",
    "        # Init validation loss accumulator\n",
    "        loss = []\n",
    "        # Iterate over validation batches\n",
    "        for embeds, lbl in tqdm(data_loader['validation']):\n",
    "            # Move input and output to target device\n",
    "            embeds = embeds.to(device)\n",
    "            lbl = lbl.to(device)\n",
    "            # Compute logits (i.e., softmax values before exponential normalisation)\n",
    "            logits = model(embeds)\n",
    "            # Flatten logits to a shape (batch_size * max_sentence_len, n_classes)\n",
    "            logits = logits.reshape(-1, len(le[task].classes_))\n",
    "            # Flatten targets to a shape (batch_size * max_sentence_len)\n",
    "            lbl = lbl.reshape(-1)\n",
    "            # Compute loss\n",
    "            loss.append(F.cross_entropy(logits, lbl))\n",
    "        # Aggregate validation loss\n",
    "        validation_history.append(torch.tensor(loss, device=device).mean())\n",
    "        # Check if validation loss has improved\n",
    "        if validation_history[-1] <= best_validation_loss:\n",
    "            torch.save(model.state_dict(), path)\n",
    "            best_validation_loss = validation_history[-1]\n",
    "        # Restore training mode\n",
    "        model.train()\n",
    "        \n",
    "# Restore best weights\n",
    "if os.path.exists(path):\n",
    "    model.load_state_dict(torch.load(path))\n",
    "\n",
    "history = [loss.cpu().item() for loss in history]\n",
    "validation_history = [loss.cpu().item() for loss in validation_history]"
   ]
  },
  {
   "cell_type": "code",
   "execution_count": 35,
   "metadata": {
    "collapsed": false,
    "jupyter": {
     "outputs_hidden": false
    }
   },
   "outputs": [
    {
     "data": {
      "image/png": "[encoded data removed]",
      "text/plain": [
       "<Figure size 640x480 with 1 Axes>"
      ]
     },
     "metadata": {},
     "output_type": "display_data"
    }
   ],
   "source": [
    "plt.figure()\n",
    "plt.plot(range(len(history)), history, label='Training loss')\n",
    "plt.plot(range(len(data_loader['train']) - 1, len(history), len(data_loader['train'])), validation_history, label='Validation loss')\n",
    "plt.legend(loc='best')\n",
    "plt.xlabel('Update step')\n",
    "plt.ylabel('Loss')\n",
    "plt.xlim([0.0, len(history)])\n",
    "plt.ylim([0.0, 4.0])\n",
    "plt.grid()"
   ]
  },
  {
   "cell_type": "markdown",
   "metadata": {
    "collapsed": false,
    "jupyter": {
     "outputs_hidden": false
    }
   },
   "source": [
    "##### Evaluation"
   ]
  },
  {
   "cell_type": "code",
   "execution_count": 36,
   "metadata": {
    "collapsed": false,
    "jupyter": {
     "outputs_hidden": false
    }
   },
   "outputs": [
    {
     "data": {
      "text/plain": [
       "TokenClassification(\n",
       "  (norm): LayerNorm((300,), eps=1e-05, elementwise_affine=True)\n",
       "  (conv1d): Conv1d(300, 512, kernel_size=(5,), stride=(1,), padding=same, bias=False)\n",
       "  (dropout): Dropout(p=0.1, inplace=False)\n",
       "  (cls_head): Linear(in_features=512, out_features=45, bias=True)\n",
       ")"
      ]
     },
     "execution_count": 36,
     "metadata": {},
     "output_type": "execute_result"
    }
   ],
   "source": [
    "# Set model in evaluation mode\n",
    "model.eval()"
   ]
  },
  {
   "cell_type": "markdown",
   "metadata": {
    "collapsed": false,
    "jupyter": {
     "outputs_hidden": false
    }
   },
   "source": [
    "Validation set"
   ]
  },
  {
   "cell_type": "code",
   "execution_count": 37,
   "metadata": {},
   "outputs": [
    {
     "name": "stderr",
     "output_type": "stream",
     "text": [
      "100%|█████████████████████████████████████████████████████████████████████████████████████████████████████████████████| 7/7 [00:02<00:00,  2.83it/s]\n",
      "/home/vincenzo/anaconda3/envs/vstk/lib/python3.12/site-packages/sklearn/metrics/_classification.py:1509: UndefinedMetricWarning: Precision is ill-defined and being set to 0.0 in labels with no predicted samples. Use `zero_division` parameter to control this behavior.\n",
      "  _warn_prf(average, modifier, f\"{metric.capitalize()} is\", len(result))\n",
      "/home/vincenzo/anaconda3/envs/vstk/lib/python3.12/site-packages/sklearn/metrics/_classification.py:1509: UndefinedMetricWarning: Precision is ill-defined and being set to 0.0 in labels with no predicted samples. Use `zero_division` parameter to control this behavior.\n",
      "  _warn_prf(average, modifier, f\"{metric.capitalize()} is\", len(result))\n",
      "/home/vincenzo/anaconda3/envs/vstk/lib/python3.12/site-packages/sklearn/metrics/_classification.py:1509: UndefinedMetricWarning: Precision is ill-defined and being set to 0.0 in labels with no predicted samples. Use `zero_division` parameter to control this behavior.\n",
      "  _warn_prf(average, modifier, f\"{metric.capitalize()} is\", len(result))\n"
     ]
    },
    {
     "name": "stdout",
     "output_type": "stream",
     "text": [
      "\n",
      "              precision    recall  f1-score   support\n",
      "\n",
      "           \"       1.00      1.00      1.00       640\n",
      "           $       1.00      0.99      1.00       101\n",
      "          ''       1.00      0.64      0.78        11\n",
      "           (       1.00      1.00      1.00       679\n",
      "           )       1.00      1.00      1.00       680\n",
      "           ,       1.00      1.00      1.00      1949\n",
      "           .       1.00      1.00      1.00      1879\n",
      "           :       1.00      1.00      1.00       624\n",
      "          CC       1.00      1.00      1.00       932\n",
      "          CD       0.94      0.98      0.96      4296\n",
      "          DT       0.99      0.98      0.99      3521\n",
      "          EX       0.93      0.97      0.95        40\n",
      "          FW       0.40      0.28      0.33        29\n",
      "          IN       0.98      0.98      0.98      4977\n",
      "          JJ       0.78      0.80      0.79      3043\n",
      "         JJR       0.75      0.78      0.76       105\n",
      "         JJS       0.92      0.71      0.80        78\n",
      "          LS       0.00      0.00      0.00         1\n",
      "          MD       0.98      0.98      0.98       300\n",
      "          NN       0.85      0.87      0.86      6026\n",
      "         NNP       0.87      0.88      0.88      8558\n",
      "        NNPS       0.77      0.28      0.41       166\n",
      "         NNS       0.92      0.93      0.93      2503\n",
      "      NN|SYM       0.00      0.00      0.00         1\n",
      "         PDT       0.50      0.29      0.36         7\n",
      "         POS       0.99      1.00      0.99       423\n",
      "         PRP       1.00      0.98      0.99       862\n",
      "        PRP$       0.99      0.99      0.99       422\n",
      "          RB       0.84      0.78      0.81       989\n",
      "         RBR       0.65      0.28      0.39        53\n",
      "         RBS       0.79      0.83      0.81        18\n",
      "          RP       0.72      0.69      0.71       150\n",
      "         SYM       0.99      0.84      0.91        86\n",
      "          TO       1.00      1.00      1.00       906\n",
      "          UH       0.00      0.00      0.00         5\n",
      "          VB       0.92      0.85      0.89      1119\n",
      "         VBD       0.93      0.96      0.94      2230\n",
      "         VBG       0.87      0.84      0.85       700\n",
      "         VBN       0.87      0.79      0.83       993\n",
      "         VBP       0.84      0.77      0.81       365\n",
      "         VBZ       0.93      0.88      0.90       511\n",
      "         WDT       0.91      0.88      0.89       155\n",
      "          WP       0.98      0.97      0.98       127\n",
      "         WP$       1.00      0.89      0.94         9\n",
      "         WRB       1.00      0.98      0.99        93\n",
      "\n",
      "    accuracy                           0.92     51362\n",
      "   macro avg       0.84      0.79      0.81     51362\n",
      "weighted avg       0.92      0.92      0.92     51362\n",
      "\n"
     ]
    },
    {
     "name": "stderr",
     "output_type": "stream",
     "text": [
      "/home/vincenzo/anaconda3/envs/vstk/lib/python3.12/site-packages/sklearn/metrics/_classification.py:1509: UndefinedMetricWarning: Precision is ill-defined and being set to 0.0 in labels with no predicted samples. Use `zero_division` parameter to control this behavior.\n",
      "  _warn_prf(average, modifier, f\"{metric.capitalize()} is\", len(result))\n",
      "/home/vincenzo/anaconda3/envs/vstk/lib/python3.12/site-packages/sklearn/metrics/_classification.py:1509: UndefinedMetricWarning: Precision is ill-defined and being set to 0.0 in labels with no predicted samples. Use `zero_division` parameter to control this behavior.\n",
      "  _warn_prf(average, modifier, f\"{metric.capitalize()} is\", len(result))\n",
      "/home/vincenzo/anaconda3/envs/vstk/lib/python3.12/site-packages/sklearn/metrics/_classification.py:1509: UndefinedMetricWarning: Precision is ill-defined and being set to 0.0 in labels with no predicted samples. Use `zero_division` parameter to control this behavior.\n",
      "  _warn_prf(average, modifier, f\"{metric.capitalize()} is\", len(result))\n"
     ]
    }
   ],
   "source": [
    "#\n",
    "split = 'validation'\n",
    "\n",
    "# Accumulators for target labels and predictions\n",
    "y_true = []\n",
    "y_pred = []\n",
    "y_proba = []\n",
    "\n",
    "# Disable gradients\n",
    "with torch.no_grad():\n",
    "    # Iterate over validation batches\n",
    "    for embeds, lbl in tqdm(data_loader[split]):\n",
    "        # Move input and output to target device\n",
    "        embeds = embeds.to(device)\n",
    "        # Compute logits (i.e., softmax values before exponential normalisation)\n",
    "        logits = model(embeds)\n",
    "        # Get predictions as the index corresponding to the highest logit score\n",
    "        pred_lbl = torch.argmax(logits, dim=-1)\n",
    "        # Append predicted proba\n",
    "        y_proba.append(logits.view(-1, len(le[task].classes_)).cpu().numpy())\n",
    "        # Append predicted labels\n",
    "        y_pred.append(pred_lbl.view(-1).cpu().numpy())\n",
    "        # Append target labels\n",
    "        y_true.append(lbl.view(-1).cpu().numpy())\n",
    "\n",
    "# Concatenate all the vectors of target labels and predicted labels\n",
    "y_true = np.concatenate(y_true)\n",
    "y_pred = np.concatenate(y_pred)\n",
    "y_proba = np.concatenate(y_proba, axis=0)\n",
    "# Remove elements to ignore (the -100 labels)\n",
    "mask = y_true == -100\n",
    "y_true = y_true[~mask]\n",
    "y_pred = y_pred[~mask]\n",
    "y_proba = y_proba[~mask]\n",
    "\n",
    "labels = np.unique(y_true)\n",
    "mapping = np.zeros(len(le[task].classes_), dtype=int)\n",
    "mapping[labels] = np.arange(len(labels))\n",
    "\n",
    "y_true = mapping[y_true]\n",
    "y_pred = mapping[y_pred]\n",
    "y_proba = softmax(y_proba[:, labels], axis=1)\n",
    "\n",
    "ids, counts = np.unique(y_true, return_counts=True)\n",
    "weights = counts / np.sum(counts)\n",
    "\n",
    "# \n",
    "accuracy = accuracy_score(y_true, y_pred)\n",
    "precision_m, recall_m, fscore_m, support_m = precision_recall_fscore_support(y_true, y_pred, average='macro')\n",
    "auc_m = roc_auc_score(y_true, y_proba, multi_class='ovr', average='macro')\n",
    "precision_w, recall_w, fscore_w, support_w = precision_recall_fscore_support(y_true, y_pred, average='weighted')\n",
    "auc_w = roc_auc_score(y_true, y_proba, multi_class='ovr', average='weighted')\n",
    "accuracy_sw = accuracy_score(y_true, y_pred, sample_weight=weights[y_true])\n",
    "precision_sw, recall_sw, fscore_sw, support_sw = precision_recall_fscore_support(y_true, y_pred, average='weighted', sample_weight=weights[y_true])\n",
    "auc_sw = roc_auc_score(y_true, y_proba, multi_class='ovr', average='weighted', sample_weight=weights[y_true])\n",
    "results.extend([\n",
    "    {\n",
    "        'corpus': corpus,\n",
    "        'task': task,\n",
    "        'embeddings': model_id,\n",
    "        'split': split,\n",
    "        'timestamp': timestamp,\n",
    "        'metric': metric,\n",
    "        'value': value\n",
    "    }\n",
    "    for metric, value in zip(\n",
    "        CLS_METRICS, [\n",
    "            accuracy, precision_m, recall_m, fscore_m, auc_m, \n",
    "            precision_w, recall_w, fscore_w, auc_w,\n",
    "            accuracy_sw, precision_sw, recall_sw, fscore_sw, auc_sw\n",
    "        ]\n",
    "    )\n",
    "])\n",
    "# Finally compute classification report\n",
    "print()\n",
    "print(classification_report(y_true, y_pred, target_names=le[task].classes_[labels]))"
   ]
  },
  {
   "cell_type": "markdown",
   "metadata": {
    "collapsed": false,
    "jupyter": {
     "outputs_hidden": false
    }
   },
   "source": [
    "Test set"
   ]
  },
  {
   "cell_type": "code",
   "execution_count": 38,
   "metadata": {},
   "outputs": [
    {
     "name": "stderr",
     "output_type": "stream",
     "text": [
      " 43%|████████████████████████████████████████████████▍                                                                | 3/7 [00:01<00:01,  2.62it/s]/home/vincenzo/anaconda3/envs/vstk/lib/python3.12/site-packages/torch/nn/modules/conv.py:306: UserWarning: Plan failed with a cudnnException: CUDNN_BACKEND_EXECUTION_PLAN_DESCRIPTOR: cudnnFinalize Descriptor Failed cudnn_status: CUDNN_STATUS_NOT_SUPPORTED (Triggered internally at ../aten/src/ATen/native/cudnn/Conv_v8.cpp:919.)\n",
      "  return F.conv1d(input, weight, bias, self.stride,\n",
      " 86%|████████████████████████████████████████████████████████████████████████████████████████████████▊                | 6/7 [00:02<00:00,  3.05it/s]/home/vincenzo/anaconda3/envs/vstk/lib/python3.12/site-packages/torch/nn/modules/conv.py:306: UserWarning: Plan failed with a cudnnException: CUDNN_BACKEND_EXECUTION_PLAN_DESCRIPTOR: cudnnFinalize Descriptor Failed cudnn_status: CUDNN_STATUS_NOT_SUPPORTED (Triggered internally at ../aten/src/ATen/native/cudnn/Conv_v8.cpp:919.)\n",
      "  return F.conv1d(input, weight, bias, self.stride,\n",
      "100%|█████████████████████████████████████████████████████████████████████████████████████████████████████████████████| 7/7 [00:02<00:00,  3.07it/s]\n"
     ]
    },
    {
     "name": "stdout",
     "output_type": "stream",
     "text": [
      "\n",
      "              precision    recall  f1-score   support\n",
      "\n",
      "           \"       1.00      1.00      1.00       421\n",
      "           $       0.96      0.97      0.96        94\n",
      "          ''       1.00      0.93      0.96        14\n",
      "           (       1.00      1.00      1.00       688\n",
      "           )       1.00      1.00      1.00       686\n",
      "           ,       1.00      1.00      1.00      1637\n",
      "           .       1.00      1.00      1.00      1630\n",
      "           :       1.00      0.97      0.98       599\n",
      "          CC       0.98      0.99      0.98       765\n",
      "          CD       0.97      0.97      0.97      5962\n",
      "          DT       0.99      0.99      0.99      2799\n",
      "          EX       0.94      0.97      0.96        34\n",
      "          FW       0.57      0.24      0.34        33\n",
      "          IN       0.97      0.99      0.98      4018\n",
      "          JJ       0.74      0.78      0.76      2393\n",
      "         JJR       0.72      0.80      0.76        92\n",
      "         JJS       0.87      0.71      0.78        56\n",
      "          LS       0.12      0.09      0.10        23\n",
      "          MD       0.98      0.99      0.98       268\n",
      "          NN       0.82      0.85      0.84      4931\n",
      "         NNP       0.87      0.87      0.87      8595\n",
      "        NNPS       0.61      0.21      0.31       160\n",
      "         NNS       0.89      0.92      0.90      2174\n",
      "         PDT       1.00      0.29      0.44         7\n",
      "         POS       0.96      1.00      0.98       347\n",
      "         PRP       0.98      0.95      0.97       605\n",
      "        PRP$       0.99      0.99      0.99       296\n",
      "          RB       0.85      0.77      0.81       888\n",
      "         RBR       0.71      0.28      0.40        43\n",
      "         RBS       0.89      0.89      0.89         9\n",
      "          RP       0.81      0.59      0.68       106\n",
      "         SYM       0.93      0.98      0.96       117\n",
      "          TO       1.00      0.99      1.00       818\n",
      "          UH       1.00      0.29      0.44         7\n",
      "          VB       0.91      0.85      0.88       933\n",
      "         VBD       0.91      0.95      0.93      1699\n",
      "         VBG       0.89      0.80      0.84       484\n",
      "         VBN       0.86      0.79      0.82       866\n",
      "         VBP       0.88      0.81      0.84       331\n",
      "         VBZ       0.92      0.80      0.86       502\n",
      "         WDT       0.93      0.92      0.92       108\n",
      "          WP       1.00      0.99      1.00       114\n",
      "         WP$       1.00      0.89      0.94         9\n",
      "         WRB       1.00      0.97      0.99        74\n",
      "\n",
      "    accuracy                           0.91     46435\n",
      "   macro avg       0.90      0.82      0.84     46435\n",
      "weighted avg       0.91      0.91      0.91     46435\n",
      "\n"
     ]
    }
   ],
   "source": [
    "#\n",
    "split = 'test'\n",
    "\n",
    "# Accumulators for target labels and predictions\n",
    "y_true = []\n",
    "y_pred = []\n",
    "y_proba = []\n",
    "\n",
    "# Disable gradients\n",
    "with torch.no_grad():\n",
    "    # Iterate over validation batches\n",
    "    for embeds, lbl in tqdm(data_loader[split]):\n",
    "        # Move input and output to target device\n",
    "        embeds = embeds.to(device)\n",
    "        # Compute logits (i.e., softmax values before exponential normalisation)\n",
    "        logits = model(embeds)\n",
    "        # Get predictions as the index corresponding to the highest logit score\n",
    "        pred_lbl = torch.argmax(logits, dim=-1)\n",
    "        # Append predicted proba\n",
    "        y_proba.append(logits.view(-1, len(le[task].classes_)).cpu().numpy())\n",
    "        # Append predicted labels\n",
    "        y_pred.append(pred_lbl.view(-1).cpu().numpy())\n",
    "        # Append target labels\n",
    "        y_true.append(lbl.view(-1).cpu().numpy())\n",
    "\n",
    "# Concatenate all the vectors of target labels and predicted labels\n",
    "y_true = np.concatenate(y_true)\n",
    "y_pred = np.concatenate(y_pred)\n",
    "y_proba = np.concatenate(y_proba, axis=0)\n",
    "# Remove elements to ignore (the -100 labels)\n",
    "mask = y_true == -100\n",
    "y_true = y_true[~mask]\n",
    "y_pred = y_pred[~mask]\n",
    "y_proba = y_proba[~mask]\n",
    "\n",
    "labels = np.unique(y_true)\n",
    "mapping = np.zeros(len(le[task].classes_), dtype=int)\n",
    "mapping[labels] = np.arange(len(labels))\n",
    "\n",
    "y_true = mapping[y_true]\n",
    "y_pred = mapping[y_pred]\n",
    "y_proba = softmax(y_proba[:, labels], axis=1)\n",
    "\n",
    "ids, counts = np.unique(y_true, return_counts=True)\n",
    "weights = counts / np.sum(counts)\n",
    "\n",
    "# \n",
    "accuracy = accuracy_score(y_true, y_pred)\n",
    "precision_m, recall_m, fscore_m, support_m = precision_recall_fscore_support(y_true, y_pred, average='macro')\n",
    "auc_m = roc_auc_score(y_true, y_proba, multi_class='ovr', average='macro')\n",
    "precision_w, recall_w, fscore_w, support_w = precision_recall_fscore_support(y_true, y_pred, average='weighted')\n",
    "auc_w = roc_auc_score(y_true, y_proba, multi_class='ovr', average='weighted')\n",
    "accuracy_sw = accuracy_score(y_true, y_pred, sample_weight=weights[y_true])\n",
    "precision_sw, recall_sw, fscore_sw, support_sw = precision_recall_fscore_support(y_true, y_pred, average='weighted', sample_weight=weights[y_true])\n",
    "auc_sw = roc_auc_score(y_true, y_proba, multi_class='ovr', average='weighted', sample_weight=weights[y_true])\n",
    "results.extend([\n",
    "    {\n",
    "        'corpus': corpus,\n",
    "        'task': task,\n",
    "        'embeddings': model_id,\n",
    "        'split': split,\n",
    "        'timestamp': timestamp,\n",
    "        'metric': metric,\n",
    "        'value': value\n",
    "    }\n",
    "    for metric, value in zip(\n",
    "        CLS_METRICS, [\n",
    "            accuracy, precision_m, recall_m, fscore_m, auc_m, \n",
    "            precision_w, recall_w, fscore_w, auc_w,\n",
    "            accuracy_sw, precision_sw, recall_sw, fscore_sw, auc_sw\n",
    "        ]\n",
    "    )\n",
    "])\n",
    "# Finally compute classification report\n",
    "print()\n",
    "print(classification_report(y_true, y_pred, target_names=le[task].classes_[labels]))"
   ]
  },
  {
   "cell_type": "markdown",
   "metadata": {
    "collapsed": false,
    "jupyter": {
     "outputs_hidden": false
    }
   },
   "source": [
    "#### Chunking"
   ]
  },
  {
   "cell_type": "code",
   "execution_count": 39,
   "metadata": {
    "collapsed": false,
    "jupyter": {
     "outputs_hidden": false
    }
   },
   "outputs": [],
   "source": [
    "task = 'chunk'"
   ]
  },
  {
   "cell_type": "code",
   "execution_count": 40,
   "metadata": {
    "collapsed": false,
    "jupyter": {
     "outputs_hidden": false
    }
   },
   "outputs": [
    {
     "data": {
      "text/plain": [
       "TokenClassification(\n",
       "  (norm): LayerNorm((300,), eps=1e-05, elementwise_affine=True)\n",
       "  (conv1d): Conv1d(300, 512, kernel_size=(5,), stride=(1,), padding=same, bias=False)\n",
       "  (dropout): Dropout(p=0.1, inplace=False)\n",
       "  (cls_head): Linear(in_features=512, out_features=20, bias=True)\n",
       ")"
      ]
     },
     "execution_count": 40,
     "metadata": {},
     "output_type": "execute_result"
    }
   ],
   "source": [
    "model = TokenClassification(300, len(le[task].classes_))  # 300, 300, *, 3\n",
    "model = model.to(device)\n",
    "model"
   ]
  },
  {
   "cell_type": "code",
   "execution_count": 41,
   "metadata": {
    "collapsed": false,
    "jupyter": {
     "outputs_hidden": false
    }
   },
   "outputs": [],
   "source": [
    "lr = 0.001  # 0.0005\n",
    "batch_size = 512  # 128\n",
    "n_epochs = 32  # 10\n",
    "optimizer = torch.optim.AdamW(params=model.parameters(), lr=lr)\n",
    "# optimizer = torch.optim.RMSprop(params=model.parameters(), lr=lr)"
   ]
  },
  {
   "cell_type": "code",
   "execution_count": 42,
   "metadata": {
    "collapsed": false,
    "jupyter": {
     "outputs_hidden": false
    }
   },
   "outputs": [],
   "source": [
    "def collate(mini_batch):\n",
    "    # Get the length of the longest sentence\n",
    "    max_sequence_len = max(len(sample) for sample in mini_batch)\n",
    "    # Create an input tensor with all zero values\n",
    "    input_embeds = np.zeros((len(mini_batch), max_sequence_len, 300))\n",
    "    #\n",
    "    valid_mask = np.zeros((len(mini_batch), max_sequence_len))\n",
    "    # Create a target output matrix with all -100 (PyTorch ignores this value by default)\n",
    "    output_lbl = np.full((len(mini_batch), max_sequence_len), -100)\n",
    "    # Fill the tensor and the matrix\n",
    "    for i, sample in enumerate(mini_batch):\n",
    "        for j, token in enumerate(sample):\n",
    "            # Manage missing tokens in vocabulary\n",
    "            input_embeds[i, j] = embeddings_model[token['token'].lower()]\n",
    "            try:\n",
    "                output_lbl[i, j] = le[task].transform([token[task]])[0]\n",
    "            except ValueError:\n",
    "                pass\n",
    "        valid_mask[i, :len(sample)] = 1.0\n",
    "    # Convert to PyTorch tensor\n",
    "    input_embeds = torch.tensor(input_embeds, dtype=torch.float, device=device)\n",
    "    valid_mask = torch.tensor(valid_mask, dtype=torch.float, device=device)\n",
    "    output_lbl = torch.tensor(output_lbl, device=device)\n",
    "\n",
    "    return input_embeds, output_lbl\n",
    "    # return input_embeds, valid_mask, output_lbl"
   ]
  },
  {
   "cell_type": "code",
   "execution_count": 43,
   "metadata": {
    "collapsed": false,
    "jupyter": {
     "outputs_hidden": false
    }
   },
   "outputs": [],
   "source": [
    "data_loader = {\n",
    "    split: torch.utils.data.DataLoader(\n",
    "        data, batch_size=batch_size, collate_fn=collate, shuffle=split == 'train'\n",
    "    )\n",
    "    for split, data in conll.items()\n",
    "}"
   ]
  },
  {
   "cell_type": "markdown",
   "metadata": {
    "collapsed": false,
    "jupyter": {
     "outputs_hidden": false
    }
   },
   "source": [
    "##### Training"
   ]
  },
  {
   "cell_type": "code",
   "execution_count": 44,
   "metadata": {
    "scrolled": true
   },
   "outputs": [
    {
     "name": "stdout",
     "output_type": "stream",
     "text": [
      "Starting epoch 1/32\n"
     ]
    },
    {
     "name": "stderr",
     "output_type": "stream",
     "text": [
      "100%|███████████████████████████████████████████████████████████████████████████████████████████████████████████████| 28/28 [00:07<00:00,  3.65it/s]\n"
     ]
    },
    {
     "name": "stdout",
     "output_type": "stream",
     "text": [
      "Starting validation epoch 1/32\n"
     ]
    },
    {
     "name": "stderr",
     "output_type": "stream",
     "text": [
      "100%|█████████████████████████████████████████████████████████████████████████████████████████████████████████████████| 7/7 [00:01<00:00,  3.79it/s]\n"
     ]
    },
    {
     "name": "stdout",
     "output_type": "stream",
     "text": [
      "Starting epoch 2/32\n"
     ]
    },
    {
     "name": "stderr",
     "output_type": "stream",
     "text": [
      "100%|███████████████████████████████████████████████████████████████████████████████████████████████████████████████| 28/28 [00:07<00:00,  3.64it/s]\n"
     ]
    },
    {
     "name": "stdout",
     "output_type": "stream",
     "text": [
      "Starting validation epoch 2/32\n"
     ]
    },
    {
     "name": "stderr",
     "output_type": "stream",
     "text": [
      "100%|█████████████████████████████████████████████████████████████████████████████████████████████████████████████████| 7/7 [00:01<00:00,  3.79it/s]\n"
     ]
    },
    {
     "name": "stdout",
     "output_type": "stream",
     "text": [
      "Starting epoch 3/32\n"
     ]
    },
    {
     "name": "stderr",
     "output_type": "stream",
     "text": [
      "100%|███████████████████████████████████████████████████████████████████████████████████████████████████████████████| 28/28 [00:07<00:00,  3.63it/s]\n"
     ]
    },
    {
     "name": "stdout",
     "output_type": "stream",
     "text": [
      "Starting validation epoch 3/32\n"
     ]
    },
    {
     "name": "stderr",
     "output_type": "stream",
     "text": [
      "100%|█████████████████████████████████████████████████████████████████████████████████████████████████████████████████| 7/7 [00:01<00:00,  3.79it/s]\n"
     ]
    },
    {
     "name": "stdout",
     "output_type": "stream",
     "text": [
      "Starting epoch 4/32\n"
     ]
    },
    {
     "name": "stderr",
     "output_type": "stream",
     "text": [
      "100%|███████████████████████████████████████████████████████████████████████████████████████████████████████████████| 28/28 [00:07<00:00,  3.64it/s]\n"
     ]
    },
    {
     "name": "stdout",
     "output_type": "stream",
     "text": [
      "Starting validation epoch 4/32\n"
     ]
    },
    {
     "name": "stderr",
     "output_type": "stream",
     "text": [
      "100%|█████████████████████████████████████████████████████████████████████████████████████████████████████████████████| 7/7 [00:01<00:00,  3.78it/s]\n"
     ]
    },
    {
     "name": "stdout",
     "output_type": "stream",
     "text": [
      "Starting epoch 5/32\n"
     ]
    },
    {
     "name": "stderr",
     "output_type": "stream",
     "text": [
      "100%|███████████████████████████████████████████████████████████████████████████████████████████████████████████████| 28/28 [00:07<00:00,  3.63it/s]\n"
     ]
    },
    {
     "name": "stdout",
     "output_type": "stream",
     "text": [
      "Starting validation epoch 5/32\n"
     ]
    },
    {
     "name": "stderr",
     "output_type": "stream",
     "text": [
      "100%|█████████████████████████████████████████████████████████████████████████████████████████████████████████████████| 7/7 [00:01<00:00,  3.78it/s]\n"
     ]
    },
    {
     "name": "stdout",
     "output_type": "stream",
     "text": [
      "Starting epoch 6/32\n"
     ]
    },
    {
     "name": "stderr",
     "output_type": "stream",
     "text": [
      "100%|███████████████████████████████████████████████████████████████████████████████████████████████████████████████| 28/28 [00:07<00:00,  3.63it/s]\n"
     ]
    },
    {
     "name": "stdout",
     "output_type": "stream",
     "text": [
      "Starting validation epoch 6/32\n"
     ]
    },
    {
     "name": "stderr",
     "output_type": "stream",
     "text": [
      "100%|█████████████████████████████████████████████████████████████████████████████████████████████████████████████████| 7/7 [00:01<00:00,  3.79it/s]\n"
     ]
    },
    {
     "name": "stdout",
     "output_type": "stream",
     "text": [
      "Starting epoch 7/32\n"
     ]
    },
    {
     "name": "stderr",
     "output_type": "stream",
     "text": [
      "100%|███████████████████████████████████████████████████████████████████████████████████████████████████████████████| 28/28 [00:07<00:00,  3.63it/s]\n"
     ]
    },
    {
     "name": "stdout",
     "output_type": "stream",
     "text": [
      "Starting validation epoch 7/32\n"
     ]
    },
    {
     "name": "stderr",
     "output_type": "stream",
     "text": [
      "100%|█████████████████████████████████████████████████████████████████████████████████████████████████████████████████| 7/7 [00:01<00:00,  3.78it/s]\n"
     ]
    },
    {
     "name": "stdout",
     "output_type": "stream",
     "text": [
      "Starting epoch 8/32\n"
     ]
    },
    {
     "name": "stderr",
     "output_type": "stream",
     "text": [
      "100%|███████████████████████████████████████████████████████████████████████████████████████████████████████████████| 28/28 [00:07<00:00,  3.62it/s]\n"
     ]
    },
    {
     "name": "stdout",
     "output_type": "stream",
     "text": [
      "Starting validation epoch 8/32\n"
     ]
    },
    {
     "name": "stderr",
     "output_type": "stream",
     "text": [
      "100%|█████████████████████████████████████████████████████████████████████████████████████████████████████████████████| 7/7 [00:01<00:00,  3.78it/s]\n"
     ]
    },
    {
     "name": "stdout",
     "output_type": "stream",
     "text": [
      "Starting epoch 9/32\n"
     ]
    },
    {
     "name": "stderr",
     "output_type": "stream",
     "text": [
      "100%|███████████████████████████████████████████████████████████████████████████████████████████████████████████████| 28/28 [00:07<00:00,  3.63it/s]\n"
     ]
    },
    {
     "name": "stdout",
     "output_type": "stream",
     "text": [
      "Starting validation epoch 9/32\n"
     ]
    },
    {
     "name": "stderr",
     "output_type": "stream",
     "text": [
      "100%|█████████████████████████████████████████████████████████████████████████████████████████████████████████████████| 7/7 [00:01<00:00,  3.78it/s]\n"
     ]
    },
    {
     "name": "stdout",
     "output_type": "stream",
     "text": [
      "Starting epoch 10/32\n"
     ]
    },
    {
     "name": "stderr",
     "output_type": "stream",
     "text": [
      "100%|███████████████████████████████████████████████████████████████████████████████████████████████████████████████| 28/28 [00:07<00:00,  3.62it/s]\n"
     ]
    },
    {
     "name": "stdout",
     "output_type": "stream",
     "text": [
      "Starting validation epoch 10/32\n"
     ]
    },
    {
     "name": "stderr",
     "output_type": "stream",
     "text": [
      "100%|█████████████████████████████████████████████████████████████████████████████████████████████████████████████████| 7/7 [00:01<00:00,  3.75it/s]\n"
     ]
    },
    {
     "name": "stdout",
     "output_type": "stream",
     "text": [
      "Starting epoch 11/32\n"
     ]
    },
    {
     "name": "stderr",
     "output_type": "stream",
     "text": [
      "100%|███████████████████████████████████████████████████████████████████████████████████████████████████████████████| 28/28 [00:07<00:00,  3.61it/s]\n"
     ]
    },
    {
     "name": "stdout",
     "output_type": "stream",
     "text": [
      "Starting validation epoch 11/32\n"
     ]
    },
    {
     "name": "stderr",
     "output_type": "stream",
     "text": [
      "100%|█████████████████████████████████████████████████████████████████████████████████████████████████████████████████| 7/7 [00:01<00:00,  3.76it/s]\n"
     ]
    },
    {
     "name": "stdout",
     "output_type": "stream",
     "text": [
      "Starting epoch 12/32\n"
     ]
    },
    {
     "name": "stderr",
     "output_type": "stream",
     "text": [
      "100%|███████████████████████████████████████████████████████████████████████████████████████████████████████████████| 28/28 [00:07<00:00,  3.56it/s]\n"
     ]
    },
    {
     "name": "stdout",
     "output_type": "stream",
     "text": [
      "Starting validation epoch 12/32\n"
     ]
    },
    {
     "name": "stderr",
     "output_type": "stream",
     "text": [
      "100%|█████████████████████████████████████████████████████████████████████████████████████████████████████████████████| 7/7 [00:01<00:00,  3.69it/s]\n"
     ]
    },
    {
     "name": "stdout",
     "output_type": "stream",
     "text": [
      "Starting epoch 13/32\n"
     ]
    },
    {
     "name": "stderr",
     "output_type": "stream",
     "text": [
      "100%|███████████████████████████████████████████████████████████████████████████████████████████████████████████████| 28/28 [00:07<00:00,  3.51it/s]\n"
     ]
    },
    {
     "name": "stdout",
     "output_type": "stream",
     "text": [
      "Starting validation epoch 13/32\n"
     ]
    },
    {
     "name": "stderr",
     "output_type": "stream",
     "text": [
      "100%|█████████████████████████████████████████████████████████████████████████████████████████████████████████████████| 7/7 [00:01<00:00,  3.74it/s]\n"
     ]
    },
    {
     "name": "stdout",
     "output_type": "stream",
     "text": [
      "Starting epoch 14/32\n"
     ]
    },
    {
     "name": "stderr",
     "output_type": "stream",
     "text": [
      "100%|███████████████████████████████████████████████████████████████████████████████████████████████████████████████| 28/28 [00:07<00:00,  3.53it/s]\n"
     ]
    },
    {
     "name": "stdout",
     "output_type": "stream",
     "text": [
      "Starting validation epoch 14/32\n"
     ]
    },
    {
     "name": "stderr",
     "output_type": "stream",
     "text": [
      "100%|█████████████████████████████████████████████████████████████████████████████████████████████████████████████████| 7/7 [00:01<00:00,  3.67it/s]\n"
     ]
    },
    {
     "name": "stdout",
     "output_type": "stream",
     "text": [
      "Starting epoch 15/32\n"
     ]
    },
    {
     "name": "stderr",
     "output_type": "stream",
     "text": [
      "100%|███████████████████████████████████████████████████████████████████████████████████████████████████████████████| 28/28 [00:08<00:00,  3.50it/s]\n"
     ]
    },
    {
     "name": "stdout",
     "output_type": "stream",
     "text": [
      "Starting validation epoch 15/32\n"
     ]
    },
    {
     "name": "stderr",
     "output_type": "stream",
     "text": [
      "100%|█████████████████████████████████████████████████████████████████████████████████████████████████████████████████| 7/7 [00:01<00:00,  3.64it/s]\n"
     ]
    },
    {
     "name": "stdout",
     "output_type": "stream",
     "text": [
      "Starting epoch 16/32\n"
     ]
    },
    {
     "name": "stderr",
     "output_type": "stream",
     "text": [
      "100%|███████████████████████████████████████████████████████████████████████████████████████████████████████████████| 28/28 [00:08<00:00,  3.49it/s]\n"
     ]
    },
    {
     "name": "stdout",
     "output_type": "stream",
     "text": [
      "Starting validation epoch 16/32\n"
     ]
    },
    {
     "name": "stderr",
     "output_type": "stream",
     "text": [
      "100%|█████████████████████████████████████████████████████████████████████████████████████████████████████████████████| 7/7 [00:01<00:00,  3.67it/s]\n"
     ]
    },
    {
     "name": "stdout",
     "output_type": "stream",
     "text": [
      "Starting epoch 17/32\n"
     ]
    },
    {
     "name": "stderr",
     "output_type": "stream",
     "text": [
      "100%|███████████████████████████████████████████████████████████████████████████████████████████████████████████████| 28/28 [00:07<00:00,  3.62it/s]\n"
     ]
    },
    {
     "name": "stdout",
     "output_type": "stream",
     "text": [
      "Starting validation epoch 17/32\n"
     ]
    },
    {
     "name": "stderr",
     "output_type": "stream",
     "text": [
      "100%|█████████████████████████████████████████████████████████████████████████████████████████████████████████████████| 7/7 [00:01<00:00,  3.83it/s]\n"
     ]
    },
    {
     "name": "stdout",
     "output_type": "stream",
     "text": [
      "Starting epoch 18/32\n"
     ]
    },
    {
     "name": "stderr",
     "output_type": "stream",
     "text": [
      "100%|███████████████████████████████████████████████████████████████████████████████████████████████████████████████| 28/28 [00:07<00:00,  3.63it/s]\n"
     ]
    },
    {
     "name": "stdout",
     "output_type": "stream",
     "text": [
      "Starting validation epoch 18/32\n"
     ]
    },
    {
     "name": "stderr",
     "output_type": "stream",
     "text": [
      "100%|█████████████████████████████████████████████████████████████████████████████████████████████████████████████████| 7/7 [00:01<00:00,  3.81it/s]\n"
     ]
    },
    {
     "name": "stdout",
     "output_type": "stream",
     "text": [
      "Starting epoch 19/32\n"
     ]
    },
    {
     "name": "stderr",
     "output_type": "stream",
     "text": [
      "100%|███████████████████████████████████████████████████████████████████████████████████████████████████████████████| 28/28 [00:07<00:00,  3.61it/s]\n"
     ]
    },
    {
     "name": "stdout",
     "output_type": "stream",
     "text": [
      "Starting validation epoch 19/32\n"
     ]
    },
    {
     "name": "stderr",
     "output_type": "stream",
     "text": [
      "100%|█████████████████████████████████████████████████████████████████████████████████████████████████████████████████| 7/7 [00:01<00:00,  3.69it/s]\n"
     ]
    },
    {
     "name": "stdout",
     "output_type": "stream",
     "text": [
      "Starting epoch 20/32\n"
     ]
    },
    {
     "name": "stderr",
     "output_type": "stream",
     "text": [
      "100%|███████████████████████████████████████████████████████████████████████████████████████████████████████████████| 28/28 [00:07<00:00,  3.59it/s]\n"
     ]
    },
    {
     "name": "stdout",
     "output_type": "stream",
     "text": [
      "Starting validation epoch 20/32\n"
     ]
    },
    {
     "name": "stderr",
     "output_type": "stream",
     "text": [
      "100%|█████████████████████████████████████████████████████████████████████████████████████████████████████████████████| 7/7 [00:01<00:00,  3.66it/s]\n"
     ]
    },
    {
     "name": "stdout",
     "output_type": "stream",
     "text": [
      "Starting epoch 21/32\n"
     ]
    },
    {
     "name": "stderr",
     "output_type": "stream",
     "text": [
      "100%|███████████████████████████████████████████████████████████████████████████████████████████████████████████████| 28/28 [00:07<00:00,  3.57it/s]\n"
     ]
    },
    {
     "name": "stdout",
     "output_type": "stream",
     "text": [
      "Starting validation epoch 21/32\n"
     ]
    },
    {
     "name": "stderr",
     "output_type": "stream",
     "text": [
      "100%|█████████████████████████████████████████████████████████████████████████████████████████████████████████████████| 7/7 [00:01<00:00,  3.68it/s]\n"
     ]
    },
    {
     "name": "stdout",
     "output_type": "stream",
     "text": [
      "Starting epoch 22/32\n"
     ]
    },
    {
     "name": "stderr",
     "output_type": "stream",
     "text": [
      "100%|███████████████████████████████████████████████████████████████████████████████████████████████████████████████| 28/28 [00:07<00:00,  3.51it/s]\n"
     ]
    },
    {
     "name": "stdout",
     "output_type": "stream",
     "text": [
      "Starting validation epoch 22/32\n"
     ]
    },
    {
     "name": "stderr",
     "output_type": "stream",
     "text": [
      "100%|█████████████████████████████████████████████████████████████████████████████████████████████████████████████████| 7/7 [00:01<00:00,  3.81it/s]\n"
     ]
    },
    {
     "name": "stdout",
     "output_type": "stream",
     "text": [
      "Starting epoch 23/32\n"
     ]
    },
    {
     "name": "stderr",
     "output_type": "stream",
     "text": [
      "100%|███████████████████████████████████████████████████████████████████████████████████████████████████████████████| 28/28 [00:07<00:00,  3.54it/s]\n"
     ]
    },
    {
     "name": "stdout",
     "output_type": "stream",
     "text": [
      "Starting validation epoch 23/32\n"
     ]
    },
    {
     "name": "stderr",
     "output_type": "stream",
     "text": [
      "100%|█████████████████████████████████████████████████████████████████████████████████████████████████████████████████| 7/7 [00:01<00:00,  3.70it/s]\n"
     ]
    },
    {
     "name": "stdout",
     "output_type": "stream",
     "text": [
      "Starting epoch 24/32\n"
     ]
    },
    {
     "name": "stderr",
     "output_type": "stream",
     "text": [
      "100%|███████████████████████████████████████████████████████████████████████████████████████████████████████████████| 28/28 [00:08<00:00,  3.47it/s]\n"
     ]
    },
    {
     "name": "stdout",
     "output_type": "stream",
     "text": [
      "Starting validation epoch 24/32\n"
     ]
    },
    {
     "name": "stderr",
     "output_type": "stream",
     "text": [
      "100%|█████████████████████████████████████████████████████████████████████████████████████████████████████████████████| 7/7 [00:01<00:00,  3.64it/s]\n"
     ]
    },
    {
     "name": "stdout",
     "output_type": "stream",
     "text": [
      "Starting epoch 25/32\n"
     ]
    },
    {
     "name": "stderr",
     "output_type": "stream",
     "text": [
      "100%|███████████████████████████████████████████████████████████████████████████████████████████████████████████████| 28/28 [00:08<00:00,  3.48it/s]\n"
     ]
    },
    {
     "name": "stdout",
     "output_type": "stream",
     "text": [
      "Starting validation epoch 25/32\n"
     ]
    },
    {
     "name": "stderr",
     "output_type": "stream",
     "text": [
      "100%|█████████████████████████████████████████████████████████████████████████████████████████████████████████████████| 7/7 [00:01<00:00,  3.64it/s]\n"
     ]
    },
    {
     "name": "stdout",
     "output_type": "stream",
     "text": [
      "Starting epoch 26/32\n"
     ]
    },
    {
     "name": "stderr",
     "output_type": "stream",
     "text": [
      "100%|███████████████████████████████████████████████████████████████████████████████████████████████████████████████| 28/28 [00:08<00:00,  3.48it/s]\n"
     ]
    },
    {
     "name": "stdout",
     "output_type": "stream",
     "text": [
      "Starting validation epoch 26/32\n"
     ]
    },
    {
     "name": "stderr",
     "output_type": "stream",
     "text": [
      "100%|█████████████████████████████████████████████████████████████████████████████████████████████████████████████████| 7/7 [00:01<00:00,  3.64it/s]\n"
     ]
    },
    {
     "name": "stdout",
     "output_type": "stream",
     "text": [
      "Starting epoch 27/32\n"
     ]
    },
    {
     "name": "stderr",
     "output_type": "stream",
     "text": [
      "100%|███████████████████████████████████████████████████████████████████████████████████████████████████████████████| 28/28 [00:08<00:00,  3.48it/s]\n"
     ]
    },
    {
     "name": "stdout",
     "output_type": "stream",
     "text": [
      "Starting validation epoch 27/32\n"
     ]
    },
    {
     "name": "stderr",
     "output_type": "stream",
     "text": [
      "100%|█████████████████████████████████████████████████████████████████████████████████████████████████████████████████| 7/7 [00:01<00:00,  3.64it/s]\n"
     ]
    },
    {
     "name": "stdout",
     "output_type": "stream",
     "text": [
      "Starting epoch 28/32\n"
     ]
    },
    {
     "name": "stderr",
     "output_type": "stream",
     "text": [
      "100%|███████████████████████████████████████████████████████████████████████████████████████████████████████████████| 28/28 [00:08<00:00,  3.49it/s]\n"
     ]
    },
    {
     "name": "stdout",
     "output_type": "stream",
     "text": [
      "Starting validation epoch 28/32\n"
     ]
    },
    {
     "name": "stderr",
     "output_type": "stream",
     "text": [
      "100%|█████████████████████████████████████████████████████████████████████████████████████████████████████████████████| 7/7 [00:01<00:00,  3.64it/s]\n"
     ]
    },
    {
     "name": "stdout",
     "output_type": "stream",
     "text": [
      "Starting epoch 29/32\n"
     ]
    },
    {
     "name": "stderr",
     "output_type": "stream",
     "text": [
      "100%|███████████████████████████████████████████████████████████████████████████████████████████████████████████████| 28/28 [00:08<00:00,  3.48it/s]\n"
     ]
    },
    {
     "name": "stdout",
     "output_type": "stream",
     "text": [
      "Starting validation epoch 29/32\n"
     ]
    },
    {
     "name": "stderr",
     "output_type": "stream",
     "text": [
      "100%|█████████████████████████████████████████████████████████████████████████████████████████████████████████████████| 7/7 [00:01<00:00,  3.64it/s]\n"
     ]
    },
    {
     "name": "stdout",
     "output_type": "stream",
     "text": [
      "Starting epoch 30/32\n"
     ]
    },
    {
     "name": "stderr",
     "output_type": "stream",
     "text": [
      "100%|███████████████████████████████████████████████████████████████████████████████████████████████████████████████| 28/28 [00:08<00:00,  3.47it/s]\n"
     ]
    },
    {
     "name": "stdout",
     "output_type": "stream",
     "text": [
      "Starting validation epoch 30/32\n"
     ]
    },
    {
     "name": "stderr",
     "output_type": "stream",
     "text": [
      "100%|█████████████████████████████████████████████████████████████████████████████████████████████████████████████████| 7/7 [00:01<00:00,  3.66it/s]\n"
     ]
    },
    {
     "name": "stdout",
     "output_type": "stream",
     "text": [
      "Starting epoch 31/32\n"
     ]
    },
    {
     "name": "stderr",
     "output_type": "stream",
     "text": [
      "100%|███████████████████████████████████████████████████████████████████████████████████████████████████████████████| 28/28 [00:08<00:00,  3.48it/s]\n"
     ]
    },
    {
     "name": "stdout",
     "output_type": "stream",
     "text": [
      "Starting validation epoch 31/32\n"
     ]
    },
    {
     "name": "stderr",
     "output_type": "stream",
     "text": [
      "100%|█████████████████████████████████████████████████████████████████████████████████████████████████████████████████| 7/7 [00:01<00:00,  3.58it/s]\n"
     ]
    },
    {
     "name": "stdout",
     "output_type": "stream",
     "text": [
      "Starting epoch 32/32\n"
     ]
    },
    {
     "name": "stderr",
     "output_type": "stream",
     "text": [
      "100%|███████████████████████████████████████████████████████████████████████████████████████████████████████████████| 28/28 [00:08<00:00,  3.45it/s]\n"
     ]
    },
    {
     "name": "stdout",
     "output_type": "stream",
     "text": [
      "Starting validation epoch 32/32\n"
     ]
    },
    {
     "name": "stderr",
     "output_type": "stream",
     "text": [
      "100%|█████████████████████████████████████████████████████████████████████████████████████████████████████████████████| 7/7 [00:01<00:00,  3.65it/s]\n"
     ]
    }
   ],
   "source": [
    "path = os.path.join('../experiments/contextual/', f'{model_id}_{corpus}_{task}_{datetime.now()}.ckpt')\n",
    "\n",
    "# Set model in training mode\n",
    "model.train()\n",
    "\n",
    "# Accumulator of loss\n",
    "history = []\n",
    "validation_history = []\n",
    "best_validation_loss = torch.tensor(float('inf'), device=device)\n",
    "\n",
    "# scheduler = torch.optim.lr_scheduler.OneCycleLR(optimizer, lr, steps_per_epoch=len(data_loader['train']), epochs=n_epochs, anneal_strategy='linear', pct_start=0.05)\n",
    "\n",
    "# Iterate over epochs\n",
    "for i in range(n_epochs):\n",
    "    print(f\"Starting epoch {i + 1}/{n_epochs}\")\n",
    "    # Iterate over training batches\n",
    "    for embeds, lbl in tqdm(data_loader['train']):\n",
    "        # Zero your gradients for every batch!\n",
    "        optimizer.zero_grad()\n",
    "        # Move input and output to target device\n",
    "        embeds = embeds.to(device)\n",
    "        lbl = lbl.to(device)\n",
    "        # Compute logits (i.e., softmax values before exponential normalisation)\n",
    "        logits = model(embeds)\n",
    "        # Flatten logits to a shape (batch_size * max_sentence_len, n_classes)\n",
    "        logits = logits.reshape(-1, len(le[task].classes_))\n",
    "        # Flatten targets to a shape (batch_size * max_sentence_len)\n",
    "        lbl = lbl.reshape(-1)\n",
    "        # Compute loss\n",
    "        loss = F.cross_entropy(logits, lbl)\n",
    "        # Compute gradients\n",
    "        loss.backward()\n",
    "        # Update weights\n",
    "        torch.nn.utils.clip_grad_norm_(model.parameters(), 1.0)\n",
    "        optimizer.step()\n",
    "        # scheduler.step()\n",
    "        # Save loss\n",
    "        history.append(loss.detach())\n",
    "    # Disable gradients\n",
    "    with torch.no_grad():\n",
    "        print(f\"Starting validation epoch {i + 1}/{n_epochs}\")\n",
    "        # Set in evaluation mode\n",
    "        model.eval()\n",
    "        # Init validation loss accumulator\n",
    "        loss = []\n",
    "        # Iterate over validation batches\n",
    "        for embeds, lbl in tqdm(data_loader['validation']):\n",
    "            # Move input and output to target device\n",
    "            embeds = embeds.to(device)\n",
    "            lbl = lbl.to(device)\n",
    "            # Compute logits (i.e., softmax values before exponential normalisation)\n",
    "            logits = model(embeds)\n",
    "            # Flatten logits to a shape (batch_size * max_sentence_len, n_classes)\n",
    "            logits = logits.reshape(-1, len(le[task].classes_))\n",
    "            # Flatten targets to a shape (batch_size * max_sentence_len)\n",
    "            lbl = lbl.reshape(-1)\n",
    "            # Compute loss\n",
    "            loss.append(F.cross_entropy(logits, lbl))\n",
    "        # Aggregate validation loss\n",
    "        validation_history.append(torch.tensor(loss, device=device).mean())\n",
    "        # Check if validation loss has improved\n",
    "        if validation_history[-1] <= best_validation_loss:\n",
    "            torch.save(model.state_dict(), path)\n",
    "            best_validation_loss = validation_history[-1]\n",
    "        # Restore training mode\n",
    "        model.train()\n",
    "        \n",
    "# Restore best weights\n",
    "if os.path.exists(path):\n",
    "    model.load_state_dict(torch.load(path))\n",
    "\n",
    "history = [loss.cpu().item() for loss in history]\n",
    "validation_history = [loss.cpu().item() for loss in validation_history]"
   ]
  },
  {
   "cell_type": "code",
   "execution_count": 45,
   "metadata": {
    "collapsed": false,
    "jupyter": {
     "outputs_hidden": false
    }
   },
   "outputs": [
    {
     "data": {
      "image/png": "[encoded data removed]",
      "text/plain": [
       "<Figure size 640x480 with 1 Axes>"
      ]
     },
     "metadata": {},
     "output_type": "display_data"
    }
   ],
   "source": [
    "plt.figure()\n",
    "plt.plot(range(len(history)), history, label='Training loss')\n",
    "plt.plot(range(len(data_loader['train']) - 1, len(history), len(data_loader['train'])), validation_history, label='Validation loss')\n",
    "plt.legend(loc='best')\n",
    "plt.xlabel('Update step')\n",
    "plt.ylabel('Loss')\n",
    "plt.xlim([0.0, len(history)])\n",
    "plt.ylim([0.0, 4.0])\n",
    "plt.grid()"
   ]
  },
  {
   "cell_type": "markdown",
   "metadata": {
    "collapsed": false,
    "jupyter": {
     "outputs_hidden": false
    }
   },
   "source": [
    "##### Evaluation"
   ]
  },
  {
   "cell_type": "code",
   "execution_count": 46,
   "metadata": {
    "collapsed": false,
    "jupyter": {
     "outputs_hidden": false
    }
   },
   "outputs": [
    {
     "data": {
      "text/plain": [
       "TokenClassification(\n",
       "  (norm): LayerNorm((300,), eps=1e-05, elementwise_affine=True)\n",
       "  (conv1d): Conv1d(300, 512, kernel_size=(5,), stride=(1,), padding=same, bias=False)\n",
       "  (dropout): Dropout(p=0.1, inplace=False)\n",
       "  (cls_head): Linear(in_features=512, out_features=20, bias=True)\n",
       ")"
      ]
     },
     "execution_count": 46,
     "metadata": {},
     "output_type": "execute_result"
    }
   ],
   "source": [
    "# Set model in evaluation mode\n",
    "model.eval()"
   ]
  },
  {
   "cell_type": "markdown",
   "metadata": {
    "collapsed": false,
    "jupyter": {
     "outputs_hidden": false
    }
   },
   "source": [
    "Validation set"
   ]
  },
  {
   "cell_type": "code",
   "execution_count": 47,
   "metadata": {
    "collapsed": false,
    "jupyter": {
     "outputs_hidden": false
    }
   },
   "outputs": [
    {
     "name": "stderr",
     "output_type": "stream",
     "text": [
      "100%|█████████████████████████████████████████████████████████████████████████████████████████████████████████████████| 7/7 [00:01<00:00,  3.70it/s]\n"
     ]
    },
    {
     "name": "stdout",
     "output_type": "stream",
     "text": [
      "\n",
      "              precision    recall  f1-score   support\n",
      "\n",
      "      B-ADJP       0.64      0.42      0.51       306\n",
      "      B-ADVP       0.74      0.57      0.64       650\n",
      "     B-CONJP       0.00      0.00      0.00        10\n",
      "      B-INTJ       1.00      0.39      0.56        31\n",
      "       B-LST       0.00      0.00      0.00         3\n",
      "        B-NP       0.93      0.95      0.94     14644\n",
      "        B-PP       0.96      0.97      0.96      4884\n",
      "       B-PRT       0.71      0.76      0.73       147\n",
      "      B-SBAR       0.86      0.70      0.77       366\n",
      "        B-VP       0.92      0.89      0.90      4696\n",
      "      I-ADJP       0.45      0.40      0.42        52\n",
      "      I-ADVP       0.67      0.21      0.31        39\n",
      "     I-CONJP       0.67      0.15      0.25        13\n",
      "        I-NP       0.94      0.94      0.94     16353\n",
      "        I-PP       0.00      0.00      0.00        17\n",
      "      I-SBAR       0.00      0.00      0.00         6\n",
      "        I-VP       0.90      0.91      0.90      2171\n",
      "           O       0.96      0.98      0.97      6972\n",
      "\n",
      "    accuracy                           0.93     51360\n",
      "   macro avg       0.63      0.51      0.55     51360\n",
      "weighted avg       0.93      0.93      0.93     51360\n",
      "\n"
     ]
    }
   ],
   "source": [
    "#\n",
    "split = 'validation'\n",
    "\n",
    "# Accumulators for target labels and predictions\n",
    "y_true = []\n",
    "y_pred = []\n",
    "y_proba = []\n",
    "\n",
    "# Disable gradients\n",
    "with torch.no_grad():\n",
    "    # Iterate over validation batches\n",
    "    for embeds, lbl in tqdm(data_loader[split]):\n",
    "        # Move input and output to target device\n",
    "        embeds = embeds.to(device)\n",
    "        # Compute logits (i.e., softmax values before exponential normalisation)\n",
    "        logits = model(embeds)\n",
    "        # Get predictions as the index corresponding to the highest logit score\n",
    "        pred_lbl = torch.argmax(logits, dim=-1)\n",
    "        # Append predicted proba\n",
    "        y_proba.append(logits.view(-1, len(le[task].classes_)).cpu().numpy())\n",
    "        # Append predicted labels\n",
    "        y_pred.append(pred_lbl.view(-1).cpu().numpy())\n",
    "        # Append target labels\n",
    "        y_true.append(lbl.view(-1).cpu().numpy())\n",
    "\n",
    "# Concatenate all the vectors of target labels and predicted labels\n",
    "y_true = np.concatenate(y_true)\n",
    "y_pred = np.concatenate(y_pred)\n",
    "y_proba = np.concatenate(y_proba, axis=0)\n",
    "# Remove elements to ignore (the -100 labels)\n",
    "mask = y_true == -100\n",
    "y_true = y_true[~mask]\n",
    "y_pred = y_pred[~mask]\n",
    "y_proba = y_proba[~mask]\n",
    "\n",
    "labels = np.unique(y_true)\n",
    "mapping = np.zeros(len(le[task].classes_), dtype=int)\n",
    "mapping[labels] = np.arange(len(labels))\n",
    "\n",
    "y_true = mapping[y_true]\n",
    "y_pred = mapping[y_pred]\n",
    "y_proba = softmax(y_proba[:, labels], axis=1)\n",
    "\n",
    "ids, counts = np.unique(y_true, return_counts=True)\n",
    "weights = counts / np.sum(counts)\n",
    "\n",
    "# \n",
    "accuracy = accuracy_score(y_true, y_pred)\n",
    "precision_m, recall_m, fscore_m, support_m = precision_recall_fscore_support(y_true, y_pred, average='macro')\n",
    "auc_m = roc_auc_score(y_true, y_proba, multi_class='ovr', average='macro')\n",
    "precision_w, recall_w, fscore_w, support_w = precision_recall_fscore_support(y_true, y_pred, average='weighted')\n",
    "auc_w = roc_auc_score(y_true, y_proba, multi_class='ovr', average='weighted')\n",
    "accuracy_sw = accuracy_score(y_true, y_pred, sample_weight=weights[y_true])\n",
    "precision_sw, recall_sw, fscore_sw, support_sw = precision_recall_fscore_support(y_true, y_pred, average='weighted', sample_weight=weights[y_true])\n",
    "auc_sw = roc_auc_score(y_true, y_proba, multi_class='ovr', average='weighted', sample_weight=weights[y_true])\n",
    "results.extend([\n",
    "    {\n",
    "        'corpus': corpus,\n",
    "        'task': task,\n",
    "        'embeddings': model_id,\n",
    "        'split': split,\n",
    "        'timestamp': timestamp,\n",
    "        'metric': metric,\n",
    "        'value': value\n",
    "    }\n",
    "    for metric, value in zip(\n",
    "        CLS_METRICS, [\n",
    "            accuracy, precision_m, recall_m, fscore_m, auc_m, \n",
    "            precision_w, recall_w, fscore_w, auc_w,\n",
    "            accuracy_sw, precision_sw, recall_sw, fscore_sw, auc_sw\n",
    "        ]\n",
    "    )\n",
    "])\n",
    "# Finally compute classification report\n",
    "print()\n",
    "print(classification_report(y_true, y_pred, target_names=le[task].classes_[labels]))"
   ]
  },
  {
   "cell_type": "markdown",
   "metadata": {
    "collapsed": false,
    "jupyter": {
     "outputs_hidden": false
    }
   },
   "source": [
    "Test set"
   ]
  },
  {
   "cell_type": "code",
   "execution_count": 48,
   "metadata": {
    "collapsed": false,
    "jupyter": {
     "outputs_hidden": false
    }
   },
   "outputs": [
    {
     "name": "stderr",
     "output_type": "stream",
     "text": [
      "100%|█████████████████████████████████████████████████████████████████████████████████████████████████████████████████| 7/7 [00:01<00:00,  4.09it/s]\n"
     ]
    },
    {
     "name": "stdout",
     "output_type": "stream",
     "text": [
      "\n",
      "              precision    recall  f1-score   support\n",
      "\n",
      "      B-ADJP       0.70      0.45      0.55       276\n",
      "      B-ADVP       0.72      0.52      0.61       559\n",
      "     B-CONJP       0.00      0.00      0.00         6\n",
      "      B-INTJ       1.00      0.08      0.14        13\n",
      "       B-LST       1.00      0.17      0.29        29\n",
      "        B-NP       0.93      0.94      0.93     12985\n",
      "        B-PP       0.95      0.97      0.96      3979\n",
      "       B-PRT       0.80      0.64      0.71       110\n",
      "      B-SBAR       0.90      0.67      0.77       296\n",
      "        B-VP       0.91      0.88      0.89      3767\n",
      "      I-ADJP       0.63      0.44      0.52        55\n",
      "      I-ADVP       0.46      0.18      0.26        33\n",
      "     I-CONJP       0.00      0.00      0.00         7\n",
      "        I-NP       0.93      0.95      0.94     16177\n",
      "        I-PP       1.00      0.07      0.12        15\n",
      "      I-SBAR       1.00      0.20      0.33         5\n",
      "        I-VP       0.89      0.88      0.88      1913\n",
      "           O       0.97      0.98      0.97      6210\n",
      "\n",
      "    accuracy                           0.93     46435\n",
      "   macro avg       0.77      0.50      0.55     46435\n",
      "weighted avg       0.93      0.93      0.93     46435\n",
      "\n"
     ]
    }
   ],
   "source": [
    "#\n",
    "split = 'test'\n",
    "\n",
    "# Accumulators for target labels and predictions\n",
    "y_true = []\n",
    "y_pred = []\n",
    "y_proba = []\n",
    "\n",
    "# Disable gradients\n",
    "with torch.no_grad():\n",
    "    # Iterate over validation batches\n",
    "    for embeds, lbl in tqdm(data_loader[split]):\n",
    "        # Move input and output to target device\n",
    "        embeds = embeds.to(device)\n",
    "        # Compute logits (i.e., softmax values before exponential normalisation)\n",
    "        logits = model(embeds)\n",
    "        # Get predictions as the index corresponding to the highest logit score\n",
    "        pred_lbl = torch.argmax(logits, dim=-1)\n",
    "        # Append predicted proba\n",
    "        y_proba.append(logits.view(-1, len(le[task].classes_)).cpu().numpy())\n",
    "        # Append predicted labels\n",
    "        y_pred.append(pred_lbl.view(-1).cpu().numpy())\n",
    "        # Append target labels\n",
    "        y_true.append(lbl.view(-1).cpu().numpy())\n",
    "\n",
    "# Concatenate all the vectors of target labels and predicted labels\n",
    "y_true = np.concatenate(y_true)\n",
    "y_pred = np.concatenate(y_pred)\n",
    "y_proba = np.concatenate(y_proba, axis=0)\n",
    "# Remove elements to ignore (the -100 labels)\n",
    "mask = y_true == -100\n",
    "y_true = y_true[~mask]\n",
    "y_pred = y_pred[~mask]\n",
    "y_proba = y_proba[~mask]\n",
    "\n",
    "labels = np.unique(y_true)\n",
    "mapping = np.zeros(len(le[task].classes_), dtype=int)\n",
    "mapping[labels] = np.arange(len(labels))\n",
    "\n",
    "y_true = mapping[y_true]\n",
    "y_pred = mapping[y_pred]\n",
    "y_proba = softmax(y_proba[:, labels], axis=1)\n",
    "\n",
    "ids, counts = np.unique(y_true, return_counts=True)\n",
    "weights = counts / np.sum(counts)\n",
    "\n",
    "# \n",
    "accuracy = accuracy_score(y_true, y_pred)\n",
    "precision_m, recall_m, fscore_m, support_m = precision_recall_fscore_support(y_true, y_pred, average='macro')\n",
    "auc_m = roc_auc_score(y_true, y_proba, multi_class='ovr', average='macro')\n",
    "precision_w, recall_w, fscore_w, support_w = precision_recall_fscore_support(y_true, y_pred, average='weighted')\n",
    "auc_w = roc_auc_score(y_true, y_proba, multi_class='ovr', average='weighted')\n",
    "accuracy_sw = accuracy_score(y_true, y_pred, sample_weight=weights[y_true])\n",
    "precision_sw, recall_sw, fscore_sw, support_sw = precision_recall_fscore_support(y_true, y_pred, average='weighted', sample_weight=weights[y_true])\n",
    "auc_sw = roc_auc_score(y_true, y_proba, multi_class='ovr', average='weighted', sample_weight=weights[y_true])\n",
    "results.extend([\n",
    "    {\n",
    "        'corpus': corpus,\n",
    "        'task': task,\n",
    "        'embeddings': model_id,\n",
    "        'split': split,\n",
    "        'timestamp': timestamp,\n",
    "        'metric': metric,\n",
    "        'value': value\n",
    "    }\n",
    "    for metric, value in zip(\n",
    "        CLS_METRICS, [\n",
    "            accuracy, precision_m, recall_m, fscore_m, auc_m, \n",
    "            precision_w, recall_w, fscore_w, auc_w,\n",
    "            accuracy_sw, precision_sw, recall_sw, fscore_sw, auc_sw\n",
    "        ]\n",
    "    )\n",
    "])\n",
    "# Finally compute classification report\n",
    "print()\n",
    "print(classification_report(y_true, y_pred, target_names=le[task].classes_[labels]))"
   ]
  },
  {
   "cell_type": "markdown",
   "metadata": {
    "collapsed": false,
    "jupyter": {
     "outputs_hidden": false
    }
   },
   "source": [
    "#### NER"
   ]
  },
  {
   "cell_type": "code",
   "execution_count": 49,
   "metadata": {
    "collapsed": false,
    "jupyter": {
     "outputs_hidden": false
    }
   },
   "outputs": [],
   "source": [
    "task = 'ner'"
   ]
  },
  {
   "cell_type": "code",
   "execution_count": 50,
   "metadata": {
    "collapsed": false,
    "jupyter": {
     "outputs_hidden": false
    }
   },
   "outputs": [
    {
     "data": {
      "text/plain": [
       "TokenClassification(\n",
       "  (norm): LayerNorm((300,), eps=1e-05, elementwise_affine=True)\n",
       "  (conv1d): Conv1d(300, 512, kernel_size=(5,), stride=(1,), padding=same, bias=False)\n",
       "  (dropout): Dropout(p=0.1, inplace=False)\n",
       "  (cls_head): Linear(in_features=512, out_features=9, bias=True)\n",
       ")"
      ]
     },
     "execution_count": 50,
     "metadata": {},
     "output_type": "execute_result"
    }
   ],
   "source": [
    "model = TokenClassification(300, len(le[task].classes_))  # 300, 300, *, 3\n",
    "model = model.to(device)\n",
    "model"
   ]
  },
  {
   "cell_type": "code",
   "execution_count": 51,
   "metadata": {
    "collapsed": false,
    "jupyter": {
     "outputs_hidden": false
    }
   },
   "outputs": [],
   "source": [
    "lr = 0.001  # 0.0005\n",
    "batch_size = 512  # 128\n",
    "n_epochs = 32  # 10\n",
    "optimizer = torch.optim.AdamW(params=model.parameters(), lr=lr)\n",
    "# optimizer = torch.optim.RMSprop(params=model.parameters(), lr=lr)"
   ]
  },
  {
   "cell_type": "code",
   "execution_count": 52,
   "metadata": {
    "collapsed": false,
    "jupyter": {
     "outputs_hidden": false
    }
   },
   "outputs": [],
   "source": [
    "def collate(mini_batch):\n",
    "    # Get the length of the longest sentence\n",
    "    max_sequence_len = max(len(sample) for sample in mini_batch)\n",
    "    # Create an input tensor with all zero values\n",
    "    input_embeds = np.zeros((len(mini_batch), max_sequence_len, 300))\n",
    "    #\n",
    "    valid_mask = np.zeros((len(mini_batch), max_sequence_len))\n",
    "    # Create a target output matrix with all -100 (PyTorch ignores this value by default)\n",
    "    output_lbl = np.full((len(mini_batch), max_sequence_len), -100)\n",
    "    # Fill the tensor and the matrix\n",
    "    for i, sample in enumerate(mini_batch):\n",
    "        for j, token in enumerate(sample):\n",
    "            # Manage missing tokens in vocabulary\n",
    "            input_embeds[i, j] = embeddings_model[token['token'].lower()]\n",
    "            output_lbl[i, j] = le[task].transform([token[task]])[0]\n",
    "        valid_mask[i, :len(sample)] = 1.0\n",
    "    # Convert to PyTorch tensor\n",
    "    input_embeds = torch.tensor(input_embeds, dtype=torch.float, device=device)\n",
    "    valid_mask = torch.tensor(valid_mask, dtype=torch.float, device=device)\n",
    "    output_lbl = torch.tensor(output_lbl, device=device)\n",
    "\n",
    "    return input_embeds, output_lbl\n",
    "    # return input_embeds, valid_mask, output_lbl"
   ]
  },
  {
   "cell_type": "code",
   "execution_count": 53,
   "metadata": {
    "collapsed": false,
    "jupyter": {
     "outputs_hidden": false
    }
   },
   "outputs": [],
   "source": [
    "data_loader = {\n",
    "    split: torch.utils.data.DataLoader(\n",
    "        data, batch_size=batch_size, collate_fn=collate, shuffle=split == 'train'\n",
    "    )\n",
    "    for split, data in conll.items()\n",
    "}"
   ]
  },
  {
   "cell_type": "markdown",
   "metadata": {
    "collapsed": false,
    "jupyter": {
     "outputs_hidden": false
    }
   },
   "source": [
    "##### Training"
   ]
  },
  {
   "cell_type": "code",
   "execution_count": 54,
   "metadata": {
    "scrolled": true
   },
   "outputs": [
    {
     "name": "stdout",
     "output_type": "stream",
     "text": [
      "Starting epoch 1/32\n"
     ]
    },
    {
     "name": "stderr",
     "output_type": "stream",
     "text": [
      "100%|███████████████████████████████████████████████████████████████████████████████████████████████████████████████| 28/28 [00:06<00:00,  4.17it/s]\n"
     ]
    },
    {
     "name": "stdout",
     "output_type": "stream",
     "text": [
      "Starting validation epoch 1/32\n"
     ]
    },
    {
     "name": "stderr",
     "output_type": "stream",
     "text": [
      "100%|█████████████████████████████████████████████████████████████████████████████████████████████████████████████████| 7/7 [00:01<00:00,  4.34it/s]\n"
     ]
    },
    {
     "name": "stdout",
     "output_type": "stream",
     "text": [
      "Starting epoch 2/32\n"
     ]
    },
    {
     "name": "stderr",
     "output_type": "stream",
     "text": [
      "100%|███████████████████████████████████████████████████████████████████████████████████████████████████████████████| 28/28 [00:06<00:00,  4.15it/s]\n"
     ]
    },
    {
     "name": "stdout",
     "output_type": "stream",
     "text": [
      "Starting validation epoch 2/32\n"
     ]
    },
    {
     "name": "stderr",
     "output_type": "stream",
     "text": [
      "100%|█████████████████████████████████████████████████████████████████████████████████████████████████████████████████| 7/7 [00:01<00:00,  4.36it/s]\n"
     ]
    },
    {
     "name": "stdout",
     "output_type": "stream",
     "text": [
      "Starting epoch 3/32\n"
     ]
    },
    {
     "name": "stderr",
     "output_type": "stream",
     "text": [
      " 96%|███████████████████████████████████████████████████████████████████████████████████████████████████████████    | 27/28 [00:06<00:00,  3.98it/s]/home/vincenzo/anaconda3/envs/vstk/lib/python3.12/site-packages/torch/nn/modules/conv.py:306: UserWarning: Plan failed with a cudnnException: CUDNN_BACKEND_EXECUTION_PLAN_DESCRIPTOR: cudnnFinalize Descriptor Failed cudnn_status: CUDNN_STATUS_NOT_SUPPORTED (Triggered internally at ../aten/src/ATen/native/cudnn/Conv_v8.cpp:919.)\n",
      "  return F.conv1d(input, weight, bias, self.stride,\n",
      "100%|███████████████████████████████████████████████████████████████████████████████████████████████████████████████| 28/28 [00:06<00:00,  4.15it/s]\n"
     ]
    },
    {
     "name": "stdout",
     "output_type": "stream",
     "text": [
      "Starting validation epoch 3/32\n"
     ]
    },
    {
     "name": "stderr",
     "output_type": "stream",
     "text": [
      "100%|█████████████████████████████████████████████████████████████████████████████████████████████████████████████████| 7/7 [00:01<00:00,  4.31it/s]\n"
     ]
    },
    {
     "name": "stdout",
     "output_type": "stream",
     "text": [
      "Starting epoch 4/32\n"
     ]
    },
    {
     "name": "stderr",
     "output_type": "stream",
     "text": [
      "100%|███████████████████████████████████████████████████████████████████████████████████████████████████████████████| 28/28 [00:06<00:00,  4.14it/s]\n"
     ]
    },
    {
     "name": "stdout",
     "output_type": "stream",
     "text": [
      "Starting validation epoch 4/32\n"
     ]
    },
    {
     "name": "stderr",
     "output_type": "stream",
     "text": [
      "100%|█████████████████████████████████████████████████████████████████████████████████████████████████████████████████| 7/7 [00:01<00:00,  4.32it/s]\n"
     ]
    },
    {
     "name": "stdout",
     "output_type": "stream",
     "text": [
      "Starting epoch 5/32\n"
     ]
    },
    {
     "name": "stderr",
     "output_type": "stream",
     "text": [
      "100%|███████████████████████████████████████████████████████████████████████████████████████████████████████████████| 28/28 [00:06<00:00,  4.13it/s]\n"
     ]
    },
    {
     "name": "stdout",
     "output_type": "stream",
     "text": [
      "Starting validation epoch 5/32\n"
     ]
    },
    {
     "name": "stderr",
     "output_type": "stream",
     "text": [
      "100%|█████████████████████████████████████████████████████████████████████████████████████████████████████████████████| 7/7 [00:01<00:00,  4.30it/s]\n"
     ]
    },
    {
     "name": "stdout",
     "output_type": "stream",
     "text": [
      "Starting epoch 6/32\n"
     ]
    },
    {
     "name": "stderr",
     "output_type": "stream",
     "text": [
      "100%|███████████████████████████████████████████████████████████████████████████████████████████████████████████████| 28/28 [00:06<00:00,  4.10it/s]\n"
     ]
    },
    {
     "name": "stdout",
     "output_type": "stream",
     "text": [
      "Starting validation epoch 6/32\n"
     ]
    },
    {
     "name": "stderr",
     "output_type": "stream",
     "text": [
      "100%|█████████████████████████████████████████████████████████████████████████████████████████████████████████████████| 7/7 [00:01<00:00,  4.38it/s]\n"
     ]
    },
    {
     "name": "stdout",
     "output_type": "stream",
     "text": [
      "Starting epoch 7/32\n"
     ]
    },
    {
     "name": "stderr",
     "output_type": "stream",
     "text": [
      "100%|███████████████████████████████████████████████████████████████████████████████████████████████████████████████| 28/28 [00:06<00:00,  4.12it/s]\n"
     ]
    },
    {
     "name": "stdout",
     "output_type": "stream",
     "text": [
      "Starting validation epoch 7/32\n"
     ]
    },
    {
     "name": "stderr",
     "output_type": "stream",
     "text": [
      "100%|█████████████████████████████████████████████████████████████████████████████████████████████████████████████████| 7/7 [00:01<00:00,  4.26it/s]\n"
     ]
    },
    {
     "name": "stdout",
     "output_type": "stream",
     "text": [
      "Starting epoch 8/32\n"
     ]
    },
    {
     "name": "stderr",
     "output_type": "stream",
     "text": [
      "100%|███████████████████████████████████████████████████████████████████████████████████████████████████████████████| 28/28 [00:06<00:00,  4.16it/s]\n"
     ]
    },
    {
     "name": "stdout",
     "output_type": "stream",
     "text": [
      "Starting validation epoch 8/32\n"
     ]
    },
    {
     "name": "stderr",
     "output_type": "stream",
     "text": [
      "100%|█████████████████████████████████████████████████████████████████████████████████████████████████████████████████| 7/7 [00:01<00:00,  4.40it/s]\n"
     ]
    },
    {
     "name": "stdout",
     "output_type": "stream",
     "text": [
      "Starting epoch 9/32\n"
     ]
    },
    {
     "name": "stderr",
     "output_type": "stream",
     "text": [
      "100%|███████████████████████████████████████████████████████████████████████████████████████████████████████████████| 28/28 [00:06<00:00,  4.18it/s]\n"
     ]
    },
    {
     "name": "stdout",
     "output_type": "stream",
     "text": [
      "Starting validation epoch 9/32\n"
     ]
    },
    {
     "name": "stderr",
     "output_type": "stream",
     "text": [
      "100%|█████████████████████████████████████████████████████████████████████████████████████████████████████████████████| 7/7 [00:01<00:00,  4.39it/s]\n"
     ]
    },
    {
     "name": "stdout",
     "output_type": "stream",
     "text": [
      "Starting epoch 10/32\n"
     ]
    },
    {
     "name": "stderr",
     "output_type": "stream",
     "text": [
      "100%|███████████████████████████████████████████████████████████████████████████████████████████████████████████████| 28/28 [00:06<00:00,  4.20it/s]\n"
     ]
    },
    {
     "name": "stdout",
     "output_type": "stream",
     "text": [
      "Starting validation epoch 10/32\n"
     ]
    },
    {
     "name": "stderr",
     "output_type": "stream",
     "text": [
      "100%|█████████████████████████████████████████████████████████████████████████████████████████████████████████████████| 7/7 [00:01<00:00,  4.39it/s]\n"
     ]
    },
    {
     "name": "stdout",
     "output_type": "stream",
     "text": [
      "Starting epoch 11/32\n"
     ]
    },
    {
     "name": "stderr",
     "output_type": "stream",
     "text": [
      "100%|███████████████████████████████████████████████████████████████████████████████████████████████████████████████| 28/28 [00:06<00:00,  4.20it/s]\n"
     ]
    },
    {
     "name": "stdout",
     "output_type": "stream",
     "text": [
      "Starting validation epoch 11/32\n"
     ]
    },
    {
     "name": "stderr",
     "output_type": "stream",
     "text": [
      "100%|█████████████████████████████████████████████████████████████████████████████████████████████████████████████████| 7/7 [00:01<00:00,  4.39it/s]\n"
     ]
    },
    {
     "name": "stdout",
     "output_type": "stream",
     "text": [
      "Starting epoch 12/32\n"
     ]
    },
    {
     "name": "stderr",
     "output_type": "stream",
     "text": [
      "100%|███████████████████████████████████████████████████████████████████████████████████████████████████████████████| 28/28 [00:06<00:00,  4.19it/s]\n"
     ]
    },
    {
     "name": "stdout",
     "output_type": "stream",
     "text": [
      "Starting validation epoch 12/32\n"
     ]
    },
    {
     "name": "stderr",
     "output_type": "stream",
     "text": [
      "100%|█████████████████████████████████████████████████████████████████████████████████████████████████████████████████| 7/7 [00:01<00:00,  4.37it/s]\n"
     ]
    },
    {
     "name": "stdout",
     "output_type": "stream",
     "text": [
      "Starting epoch 13/32\n"
     ]
    },
    {
     "name": "stderr",
     "output_type": "stream",
     "text": [
      "100%|███████████████████████████████████████████████████████████████████████████████████████████████████████████████| 28/28 [00:06<00:00,  4.20it/s]\n"
     ]
    },
    {
     "name": "stdout",
     "output_type": "stream",
     "text": [
      "Starting validation epoch 13/32\n"
     ]
    },
    {
     "name": "stderr",
     "output_type": "stream",
     "text": [
      "100%|█████████████████████████████████████████████████████████████████████████████████████████████████████████████████| 7/7 [00:01<00:00,  4.37it/s]\n"
     ]
    },
    {
     "name": "stdout",
     "output_type": "stream",
     "text": [
      "Starting epoch 14/32\n"
     ]
    },
    {
     "name": "stderr",
     "output_type": "stream",
     "text": [
      "100%|███████████████████████████████████████████████████████████████████████████████████████████████████████████████| 28/28 [00:06<00:00,  4.27it/s]\n"
     ]
    },
    {
     "name": "stdout",
     "output_type": "stream",
     "text": [
      "Starting validation epoch 14/32\n"
     ]
    },
    {
     "name": "stderr",
     "output_type": "stream",
     "text": [
      "100%|█████████████████████████████████████████████████████████████████████████████████████████████████████████████████| 7/7 [00:01<00:00,  4.58it/s]\n"
     ]
    },
    {
     "name": "stdout",
     "output_type": "stream",
     "text": [
      "Starting epoch 15/32\n"
     ]
    },
    {
     "name": "stderr",
     "output_type": "stream",
     "text": [
      "100%|███████████████████████████████████████████████████████████████████████████████████████████████████████████████| 28/28 [00:06<00:00,  4.37it/s]\n"
     ]
    },
    {
     "name": "stdout",
     "output_type": "stream",
     "text": [
      "Starting validation epoch 15/32\n"
     ]
    },
    {
     "name": "stderr",
     "output_type": "stream",
     "text": [
      "100%|█████████████████████████████████████████████████████████████████████████████████████████████████████████████████| 7/7 [00:01<00:00,  4.56it/s]\n"
     ]
    },
    {
     "name": "stdout",
     "output_type": "stream",
     "text": [
      "Starting epoch 16/32\n"
     ]
    },
    {
     "name": "stderr",
     "output_type": "stream",
     "text": [
      "100%|███████████████████████████████████████████████████████████████████████████████████████████████████████████████| 28/28 [00:06<00:00,  4.36it/s]\n"
     ]
    },
    {
     "name": "stdout",
     "output_type": "stream",
     "text": [
      "Starting validation epoch 16/32\n"
     ]
    },
    {
     "name": "stderr",
     "output_type": "stream",
     "text": [
      "100%|█████████████████████████████████████████████████████████████████████████████████████████████████████████████████| 7/7 [00:01<00:00,  4.41it/s]\n"
     ]
    },
    {
     "name": "stdout",
     "output_type": "stream",
     "text": [
      "Starting epoch 17/32\n"
     ]
    },
    {
     "name": "stderr",
     "output_type": "stream",
     "text": [
      "100%|███████████████████████████████████████████████████████████████████████████████████████████████████████████████| 28/28 [00:06<00:00,  4.18it/s]\n"
     ]
    },
    {
     "name": "stdout",
     "output_type": "stream",
     "text": [
      "Starting validation epoch 17/32\n"
     ]
    },
    {
     "name": "stderr",
     "output_type": "stream",
     "text": [
      "100%|█████████████████████████████████████████████████████████████████████████████████████████████████████████████████| 7/7 [00:01<00:00,  4.38it/s]\n"
     ]
    },
    {
     "name": "stdout",
     "output_type": "stream",
     "text": [
      "Starting epoch 18/32\n"
     ]
    },
    {
     "name": "stderr",
     "output_type": "stream",
     "text": [
      "100%|███████████████████████████████████████████████████████████████████████████████████████████████████████████████| 28/28 [00:06<00:00,  4.18it/s]\n"
     ]
    },
    {
     "name": "stdout",
     "output_type": "stream",
     "text": [
      "Starting validation epoch 18/32\n"
     ]
    },
    {
     "name": "stderr",
     "output_type": "stream",
     "text": [
      "100%|█████████████████████████████████████████████████████████████████████████████████████████████████████████████████| 7/7 [00:01<00:00,  4.39it/s]\n"
     ]
    },
    {
     "name": "stdout",
     "output_type": "stream",
     "text": [
      "Starting epoch 19/32\n"
     ]
    },
    {
     "name": "stderr",
     "output_type": "stream",
     "text": [
      "100%|███████████████████████████████████████████████████████████████████████████████████████████████████████████████| 28/28 [00:06<00:00,  4.18it/s]\n"
     ]
    },
    {
     "name": "stdout",
     "output_type": "stream",
     "text": [
      "Starting validation epoch 19/32\n"
     ]
    },
    {
     "name": "stderr",
     "output_type": "stream",
     "text": [
      "100%|█████████████████████████████████████████████████████████████████████████████████████████████████████████████████| 7/7 [00:01<00:00,  4.39it/s]\n"
     ]
    },
    {
     "name": "stdout",
     "output_type": "stream",
     "text": [
      "Starting epoch 20/32\n"
     ]
    },
    {
     "name": "stderr",
     "output_type": "stream",
     "text": [
      " 96%|███████████████████████████████████████████████████████████████████████████████████████████████████████████    | 27/28 [00:06<00:00,  4.12it/s]/home/vincenzo/anaconda3/envs/vstk/lib/python3.12/site-packages/torch/nn/modules/conv.py:306: UserWarning: Plan failed with a cudnnException: CUDNN_BACKEND_EXECUTION_PLAN_DESCRIPTOR: cudnnFinalize Descriptor Failed cudnn_status: CUDNN_STATUS_NOT_SUPPORTED (Triggered internally at ../aten/src/ATen/native/cudnn/Conv_v8.cpp:919.)\n",
      "  return F.conv1d(input, weight, bias, self.stride,\n",
      "100%|███████████████████████████████████████████████████████████████████████████████████████████████████████████████| 28/28 [00:06<00:00,  4.23it/s]\n"
     ]
    },
    {
     "name": "stdout",
     "output_type": "stream",
     "text": [
      "Starting validation epoch 20/32\n"
     ]
    },
    {
     "name": "stderr",
     "output_type": "stream",
     "text": [
      "100%|█████████████████████████████████████████████████████████████████████████████████████████████████████████████████| 7/7 [00:01<00:00,  4.41it/s]\n"
     ]
    },
    {
     "name": "stdout",
     "output_type": "stream",
     "text": [
      "Starting epoch 21/32\n"
     ]
    },
    {
     "name": "stderr",
     "output_type": "stream",
     "text": [
      "100%|███████████████████████████████████████████████████████████████████████████████████████████████████████████████| 28/28 [00:06<00:00,  4.20it/s]\n"
     ]
    },
    {
     "name": "stdout",
     "output_type": "stream",
     "text": [
      "Starting validation epoch 21/32\n"
     ]
    },
    {
     "name": "stderr",
     "output_type": "stream",
     "text": [
      "100%|█████████████████████████████████████████████████████████████████████████████████████████████████████████████████| 7/7 [00:01<00:00,  4.42it/s]\n"
     ]
    },
    {
     "name": "stdout",
     "output_type": "stream",
     "text": [
      "Starting epoch 22/32\n"
     ]
    },
    {
     "name": "stderr",
     "output_type": "stream",
     "text": [
      "100%|███████████████████████████████████████████████████████████████████████████████████████████████████████████████| 28/28 [00:06<00:00,  4.22it/s]\n"
     ]
    },
    {
     "name": "stdout",
     "output_type": "stream",
     "text": [
      "Starting validation epoch 22/32\n"
     ]
    },
    {
     "name": "stderr",
     "output_type": "stream",
     "text": [
      "100%|█████████████████████████████████████████████████████████████████████████████████████████████████████████████████| 7/7 [00:01<00:00,  4.42it/s]\n"
     ]
    },
    {
     "name": "stdout",
     "output_type": "stream",
     "text": [
      "Starting epoch 23/32\n"
     ]
    },
    {
     "name": "stderr",
     "output_type": "stream",
     "text": [
      "100%|███████████████████████████████████████████████████████████████████████████████████████████████████████████████| 28/28 [00:06<00:00,  4.21it/s]\n"
     ]
    },
    {
     "name": "stdout",
     "output_type": "stream",
     "text": [
      "Starting validation epoch 23/32\n"
     ]
    },
    {
     "name": "stderr",
     "output_type": "stream",
     "text": [
      "100%|█████████████████████████████████████████████████████████████████████████████████████████████████████████████████| 7/7 [00:01<00:00,  4.41it/s]\n"
     ]
    },
    {
     "name": "stdout",
     "output_type": "stream",
     "text": [
      "Starting epoch 24/32\n"
     ]
    },
    {
     "name": "stderr",
     "output_type": "stream",
     "text": [
      "100%|███████████████████████████████████████████████████████████████████████████████████████████████████████████████| 28/28 [00:06<00:00,  4.22it/s]\n"
     ]
    },
    {
     "name": "stdout",
     "output_type": "stream",
     "text": [
      "Starting validation epoch 24/32\n"
     ]
    },
    {
     "name": "stderr",
     "output_type": "stream",
     "text": [
      "100%|█████████████████████████████████████████████████████████████████████████████████████████████████████████████████| 7/7 [00:01<00:00,  4.40it/s]\n"
     ]
    },
    {
     "name": "stdout",
     "output_type": "stream",
     "text": [
      "Starting epoch 25/32\n"
     ]
    },
    {
     "name": "stderr",
     "output_type": "stream",
     "text": [
      "100%|███████████████████████████████████████████████████████████████████████████████████████████████████████████████| 28/28 [00:06<00:00,  4.22it/s]\n"
     ]
    },
    {
     "name": "stdout",
     "output_type": "stream",
     "text": [
      "Starting validation epoch 25/32\n"
     ]
    },
    {
     "name": "stderr",
     "output_type": "stream",
     "text": [
      "100%|█████████████████████████████████████████████████████████████████████████████████████████████████████████████████| 7/7 [00:01<00:00,  4.41it/s]\n"
     ]
    },
    {
     "name": "stdout",
     "output_type": "stream",
     "text": [
      "Starting epoch 26/32\n"
     ]
    },
    {
     "name": "stderr",
     "output_type": "stream",
     "text": [
      "100%|███████████████████████████████████████████████████████████████████████████████████████████████████████████████| 28/28 [00:06<00:00,  4.21it/s]\n"
     ]
    },
    {
     "name": "stdout",
     "output_type": "stream",
     "text": [
      "Starting validation epoch 26/32\n"
     ]
    },
    {
     "name": "stderr",
     "output_type": "stream",
     "text": [
      "100%|█████████████████████████████████████████████████████████████████████████████████████████████████████████████████| 7/7 [00:01<00:00,  4.39it/s]\n"
     ]
    },
    {
     "name": "stdout",
     "output_type": "stream",
     "text": [
      "Starting epoch 27/32\n"
     ]
    },
    {
     "name": "stderr",
     "output_type": "stream",
     "text": [
      "100%|███████████████████████████████████████████████████████████████████████████████████████████████████████████████| 28/28 [00:06<00:00,  4.21it/s]\n"
     ]
    },
    {
     "name": "stdout",
     "output_type": "stream",
     "text": [
      "Starting validation epoch 27/32\n"
     ]
    },
    {
     "name": "stderr",
     "output_type": "stream",
     "text": [
      "100%|█████████████████████████████████████████████████████████████████████████████████████████████████████████████████| 7/7 [00:01<00:00,  4.42it/s]\n"
     ]
    },
    {
     "name": "stdout",
     "output_type": "stream",
     "text": [
      "Starting epoch 28/32\n"
     ]
    },
    {
     "name": "stderr",
     "output_type": "stream",
     "text": [
      "100%|███████████████████████████████████████████████████████████████████████████████████████████████████████████████| 28/28 [00:06<00:00,  4.22it/s]\n"
     ]
    },
    {
     "name": "stdout",
     "output_type": "stream",
     "text": [
      "Starting validation epoch 28/32\n"
     ]
    },
    {
     "name": "stderr",
     "output_type": "stream",
     "text": [
      "100%|█████████████████████████████████████████████████████████████████████████████████████████████████████████████████| 7/7 [00:01<00:00,  4.43it/s]\n"
     ]
    },
    {
     "name": "stdout",
     "output_type": "stream",
     "text": [
      "Starting epoch 29/32\n"
     ]
    },
    {
     "name": "stderr",
     "output_type": "stream",
     "text": [
      "100%|███████████████████████████████████████████████████████████████████████████████████████████████████████████████| 28/28 [00:06<00:00,  4.21it/s]\n"
     ]
    },
    {
     "name": "stdout",
     "output_type": "stream",
     "text": [
      "Starting validation epoch 29/32\n"
     ]
    },
    {
     "name": "stderr",
     "output_type": "stream",
     "text": [
      "100%|█████████████████████████████████████████████████████████████████████████████████████████████████████████████████| 7/7 [00:01<00:00,  4.44it/s]\n"
     ]
    },
    {
     "name": "stdout",
     "output_type": "stream",
     "text": [
      "Starting epoch 30/32\n"
     ]
    },
    {
     "name": "stderr",
     "output_type": "stream",
     "text": [
      "100%|███████████████████████████████████████████████████████████████████████████████████████████████████████████████| 28/28 [00:06<00:00,  4.22it/s]\n"
     ]
    },
    {
     "name": "stdout",
     "output_type": "stream",
     "text": [
      "Starting validation epoch 30/32\n"
     ]
    },
    {
     "name": "stderr",
     "output_type": "stream",
     "text": [
      "100%|█████████████████████████████████████████████████████████████████████████████████████████████████████████████████| 7/7 [00:01<00:00,  4.42it/s]\n"
     ]
    },
    {
     "name": "stdout",
     "output_type": "stream",
     "text": [
      "Starting epoch 31/32\n"
     ]
    },
    {
     "name": "stderr",
     "output_type": "stream",
     "text": [
      "100%|███████████████████████████████████████████████████████████████████████████████████████████████████████████████| 28/28 [00:06<00:00,  4.21it/s]\n"
     ]
    },
    {
     "name": "stdout",
     "output_type": "stream",
     "text": [
      "Starting validation epoch 31/32\n"
     ]
    },
    {
     "name": "stderr",
     "output_type": "stream",
     "text": [
      "100%|█████████████████████████████████████████████████████████████████████████████████████████████████████████████████| 7/7 [00:01<00:00,  4.42it/s]\n"
     ]
    },
    {
     "name": "stdout",
     "output_type": "stream",
     "text": [
      "Starting epoch 32/32\n"
     ]
    },
    {
     "name": "stderr",
     "output_type": "stream",
     "text": [
      "100%|███████████████████████████████████████████████████████████████████████████████████████████████████████████████| 28/28 [00:06<00:00,  4.23it/s]\n"
     ]
    },
    {
     "name": "stdout",
     "output_type": "stream",
     "text": [
      "Starting validation epoch 32/32\n"
     ]
    },
    {
     "name": "stderr",
     "output_type": "stream",
     "text": [
      "100%|█████████████████████████████████████████████████████████████████████████████████████████████████████████████████| 7/7 [00:01<00:00,  4.50it/s]\n"
     ]
    }
   ],
   "source": [
    "path = os.path.join('../experiments/contextual/', f'{model_id}_{corpus}_{task}_{datetime.now()}.ckpt')\n",
    "\n",
    "# Set model in training mode\n",
    "model.train()\n",
    "\n",
    "# Accumulator of loss\n",
    "history = []\n",
    "validation_history = []\n",
    "best_validation_loss = torch.tensor(float('inf'), device=device)\n",
    "\n",
    "# scheduler = torch.optim.lr_scheduler.OneCycleLR(optimizer, lr, steps_per_epoch=len(data_loader['train']), epochs=n_epochs, anneal_strategy='linear', pct_start=0.05)\n",
    "\n",
    "# Iterate over epochs\n",
    "for i in range(n_epochs):\n",
    "    print(f\"Starting epoch {i + 1}/{n_epochs}\")\n",
    "    # Iterate over training batches\n",
    "    for embeds, lbl in tqdm(data_loader['train']):\n",
    "        # Zero your gradients for every batch!\n",
    "        optimizer.zero_grad()\n",
    "        # Move input and output to target device\n",
    "        embeds = embeds.to(device)\n",
    "        lbl = lbl.to(device)\n",
    "        # Compute logits (i.e., softmax values before exponential normalisation)\n",
    "        logits = model(embeds)\n",
    "        # Flatten logits to a shape (batch_size * max_sentence_len, n_classes)\n",
    "        logits = logits.reshape(-1, len(le[task].classes_))\n",
    "        # Flatten targets to a shape (batch_size * max_sentence_len)\n",
    "        lbl = lbl.reshape(-1)\n",
    "        # Compute loss\n",
    "        loss = F.cross_entropy(logits, lbl)\n",
    "        # Compute gradients\n",
    "        loss.backward()\n",
    "        # Update weights\n",
    "        torch.nn.utils.clip_grad_norm_(model.parameters(), 1.0)\n",
    "        optimizer.step()\n",
    "        # scheduler.step()\n",
    "        # Save loss\n",
    "        history.append(loss.detach())\n",
    "    # Disable gradients\n",
    "    with torch.no_grad():\n",
    "        print(f\"Starting validation epoch {i + 1}/{n_epochs}\")\n",
    "        # Set in evaluation mode\n",
    "        model.eval()\n",
    "        # Init validation loss accumulator\n",
    "        loss = []\n",
    "        # Iterate over validation batches\n",
    "        for embeds, lbl in tqdm(data_loader['validation']):\n",
    "            # Move input and output to target device\n",
    "            embeds = embeds.to(device)\n",
    "            lbl = lbl.to(device)\n",
    "            # Compute logits (i.e., softmax values before exponential normalisation)\n",
    "            logits = model(embeds)\n",
    "            # Flatten logits to a shape (batch_size * max_sentence_len, n_classes)\n",
    "            logits = logits.reshape(-1, len(le[task].classes_))\n",
    "            # Flatten targets to a shape (batch_size * max_sentence_len)\n",
    "            lbl = lbl.reshape(-1)\n",
    "            # Compute loss\n",
    "            loss.append(F.cross_entropy(logits, lbl))\n",
    "        # Aggregate validation loss\n",
    "        validation_history.append(torch.tensor(loss, device=device).mean())\n",
    "        # Check if validation loss has improved\n",
    "        if validation_history[-1] <= best_validation_loss:\n",
    "            torch.save(model.state_dict(), path)\n",
    "            best_validation_loss = validation_history[-1]\n",
    "        # Restore training mode\n",
    "        model.train()\n",
    "        \n",
    "# Restore best weights\n",
    "if os.path.exists(path):\n",
    "    model.load_state_dict(torch.load(path))\n",
    "\n",
    "history = [loss.cpu().item() for loss in history]\n",
    "validation_history = [loss.cpu().item() for loss in validation_history]"
   ]
  },
  {
   "cell_type": "code",
   "execution_count": 55,
   "metadata": {
    "collapsed": false,
    "jupyter": {
     "outputs_hidden": false
    }
   },
   "outputs": [
    {
     "data": {
      "image/png": "[encoded data removed]",
      "text/plain": [
       "<Figure size 640x480 with 1 Axes>"
      ]
     },
     "metadata": {},
     "output_type": "display_data"
    }
   ],
   "source": [
    "plt.figure()\n",
    "plt.plot(range(len(history)), history, label='Training loss')\n",
    "plt.plot(range(len(data_loader['train']) - 1, len(history), len(data_loader['train'])), validation_history, label='Validation loss')\n",
    "plt.legend(loc='best')\n",
    "plt.xlabel('Update step')\n",
    "plt.ylabel('Loss')\n",
    "plt.xlim([0.0, len(history)])\n",
    "plt.ylim([0.0, 4.0])\n",
    "plt.grid()"
   ]
  },
  {
   "cell_type": "markdown",
   "metadata": {
    "collapsed": false,
    "jupyter": {
     "outputs_hidden": false
    }
   },
   "source": [
    "##### Evaluation"
   ]
  },
  {
   "cell_type": "code",
   "execution_count": 56,
   "metadata": {
    "collapsed": false,
    "jupyter": {
     "outputs_hidden": false
    }
   },
   "outputs": [
    {
     "data": {
      "text/plain": [
       "TokenClassification(\n",
       "  (norm): LayerNorm((300,), eps=1e-05, elementwise_affine=True)\n",
       "  (conv1d): Conv1d(300, 512, kernel_size=(5,), stride=(1,), padding=same, bias=False)\n",
       "  (dropout): Dropout(p=0.1, inplace=False)\n",
       "  (cls_head): Linear(in_features=512, out_features=9, bias=True)\n",
       ")"
      ]
     },
     "execution_count": 56,
     "metadata": {},
     "output_type": "execute_result"
    }
   ],
   "source": [
    "# Set model in evaluation mode\n",
    "model.eval()"
   ]
  },
  {
   "cell_type": "markdown",
   "metadata": {
    "collapsed": false,
    "jupyter": {
     "outputs_hidden": false
    }
   },
   "source": [
    "Validation set"
   ]
  },
  {
   "cell_type": "code",
   "execution_count": 57,
   "metadata": {
    "collapsed": false,
    "jupyter": {
     "outputs_hidden": false
    }
   },
   "outputs": [
    {
     "name": "stderr",
     "output_type": "stream",
     "text": [
      "100%|█████████████████████████████████████████████████████████████████████████████████████████████████████████████████| 7/7 [00:01<00:00,  4.52it/s]\n"
     ]
    },
    {
     "name": "stdout",
     "output_type": "stream",
     "text": [
      "\n",
      "              precision    recall  f1-score   support\n",
      "\n",
      "       B-LOC       0.90      0.91      0.90      1837\n",
      "      B-MISC       0.88      0.74      0.81       922\n",
      "       B-ORG       0.84      0.71      0.77      1341\n",
      "       B-PER       0.92      0.93      0.92      1842\n",
      "       I-LOC       0.79      0.72      0.75       257\n",
      "      I-MISC       0.85      0.53      0.65       346\n",
      "       I-ORG       0.79      0.51      0.62       751\n",
      "       I-PER       0.96      0.93      0.95      1307\n",
      "           O       0.98      1.00      0.99     42759\n",
      "\n",
      "    accuracy                           0.96     51362\n",
      "   macro avg       0.88      0.78      0.82     51362\n",
      "weighted avg       0.96      0.96      0.96     51362\n",
      "\n"
     ]
    }
   ],
   "source": [
    "#\n",
    "split = 'validation'\n",
    "\n",
    "# Accumulators for target labels and predictions\n",
    "y_true = []\n",
    "y_pred = []\n",
    "y_proba = []\n",
    "\n",
    "# Disable gradients\n",
    "with torch.no_grad():\n",
    "    # Iterate over validation batches\n",
    "    for embeds, lbl in tqdm(data_loader[split]):\n",
    "        # Move input and output to target device\n",
    "        embeds = embeds.to(device)\n",
    "        # Compute logits (i.e., softmax values before exponential normalisation)\n",
    "        logits = model(embeds)\n",
    "        # Get predictions as the index corresponding to the highest logit score\n",
    "        pred_lbl = torch.argmax(logits, dim=-1)\n",
    "        # Append predicted proba\n",
    "        y_proba.append(logits.view(-1, len(le[task].classes_)).cpu().numpy())\n",
    "        # Append predicted labels\n",
    "        y_pred.append(pred_lbl.view(-1).cpu().numpy())\n",
    "        # Append target labels\n",
    "        y_true.append(lbl.view(-1).cpu().numpy())\n",
    "\n",
    "# Concatenate all the vectors of target labels and predicted labels\n",
    "y_true = np.concatenate(y_true)\n",
    "y_pred = np.concatenate(y_pred)\n",
    "y_proba = np.concatenate(y_proba, axis=0)\n",
    "# Remove elements to ignore (the -100 labels)\n",
    "mask = y_true == -100\n",
    "y_true = y_true[~mask]\n",
    "y_pred = y_pred[~mask]\n",
    "y_proba = y_proba[~mask]\n",
    "\n",
    "labels = np.unique(y_true)\n",
    "mapping = np.zeros(len(le[task].classes_), dtype=int)\n",
    "mapping[labels] = np.arange(len(labels))\n",
    "\n",
    "y_true = mapping[y_true]\n",
    "y_pred = mapping[y_pred]\n",
    "y_proba = softmax(y_proba[:, labels], axis=1)\n",
    "\n",
    "ids, counts = np.unique(y_true, return_counts=True)\n",
    "weights = counts / np.sum(counts)\n",
    "\n",
    "# \n",
    "accuracy = accuracy_score(y_true, y_pred)\n",
    "precision_m, recall_m, fscore_m, support_m = precision_recall_fscore_support(y_true, y_pred, average='macro')\n",
    "auc_m = roc_auc_score(y_true, y_proba, multi_class='ovr', average='macro')\n",
    "precision_w, recall_w, fscore_w, support_w = precision_recall_fscore_support(y_true, y_pred, average='weighted')\n",
    "auc_w = roc_auc_score(y_true, y_proba, multi_class='ovr', average='weighted')\n",
    "accuracy_sw = accuracy_score(y_true, y_pred, sample_weight=weights[y_true])\n",
    "precision_sw, recall_sw, fscore_sw, support_sw = precision_recall_fscore_support(y_true, y_pred, average='weighted', sample_weight=weights[y_true])\n",
    "auc_sw = roc_auc_score(y_true, y_proba, multi_class='ovr', average='weighted', sample_weight=weights[y_true])\n",
    "results.extend([\n",
    "    {\n",
    "        'corpus': corpus,\n",
    "        'task': task,\n",
    "        'embeddings': model_id,\n",
    "        'split': split,\n",
    "        'timestamp': timestamp,\n",
    "        'metric': metric,\n",
    "        'value': value\n",
    "    }\n",
    "    for metric, value in zip(\n",
    "        CLS_METRICS, [\n",
    "            accuracy, precision_m, recall_m, fscore_m, auc_m, \n",
    "            precision_w, recall_w, fscore_w, auc_w,\n",
    "            accuracy_sw, precision_sw, recall_sw, fscore_sw, auc_sw\n",
    "        ]\n",
    "    )\n",
    "])\n",
    "# Finally compute classification report\n",
    "print()\n",
    "print(classification_report(y_true, y_pred, target_names=le[task].classes_[labels]))"
   ]
  },
  {
   "cell_type": "markdown",
   "metadata": {
    "collapsed": false,
    "jupyter": {
     "outputs_hidden": false
    }
   },
   "source": [
    "Test set"
   ]
  },
  {
   "cell_type": "code",
   "execution_count": 58,
   "metadata": {
    "collapsed": false,
    "jupyter": {
     "outputs_hidden": false
    }
   },
   "outputs": [
    {
     "name": "stderr",
     "output_type": "stream",
     "text": [
      "100%|█████████████████████████████████████████████████████████████████████████████████████████████████████████████████| 7/7 [00:01<00:00,  4.96it/s]\n"
     ]
    },
    {
     "name": "stdout",
     "output_type": "stream",
     "text": [
      "\n",
      "              precision    recall  f1-score   support\n",
      "\n",
      "       B-LOC       0.86      0.86      0.86      1668\n",
      "      B-MISC       0.80      0.71      0.75       702\n",
      "       B-ORG       0.80      0.71      0.75      1661\n",
      "       B-PER       0.89      0.89      0.89      1617\n",
      "       I-LOC       0.69      0.61      0.65       257\n",
      "      I-MISC       0.57      0.50      0.53       216\n",
      "       I-ORG       0.74      0.52      0.61       835\n",
      "       I-PER       0.95      0.93      0.94      1156\n",
      "           O       0.98      0.99      0.98     38323\n",
      "\n",
      "    accuracy                           0.95     46435\n",
      "   macro avg       0.81      0.75      0.77     46435\n",
      "weighted avg       0.95      0.95      0.95     46435\n",
      "\n"
     ]
    }
   ],
   "source": [
    "#\n",
    "split = 'test'\n",
    "\n",
    "# Accumulators for target labels and predictions\n",
    "y_true = []\n",
    "y_pred = []\n",
    "y_proba = []\n",
    "\n",
    "# Accumulators for target labels and predictions\n",
    "y_true = []\n",
    "y_pred = []\n",
    "y_proba = []\n",
    "\n",
    "# Disable gradients\n",
    "with torch.no_grad():\n",
    "    # Iterate over validation batches\n",
    "    for embeds, lbl in tqdm(data_loader[split]):\n",
    "        # Move input and output to target device\n",
    "        embeds = embeds.to(device)\n",
    "        # Compute logits (i.e., softmax values before exponential normalisation)\n",
    "        logits = model(embeds)\n",
    "        # Get predictions as the index corresponding to the highest logit score\n",
    "        pred_lbl = torch.argmax(logits, dim=-1)\n",
    "        # Append predicted proba\n",
    "        y_proba.append(logits.view(-1, len(le[task].classes_)).cpu().numpy())\n",
    "        # Append predicted labels\n",
    "        y_pred.append(pred_lbl.view(-1).cpu().numpy())\n",
    "        # Append target labels\n",
    "        y_true.append(lbl.view(-1).cpu().numpy())\n",
    "\n",
    "# Concatenate all the vectors of target labels and predicted labels\n",
    "y_true = np.concatenate(y_true)\n",
    "y_pred = np.concatenate(y_pred)\n",
    "y_proba = np.concatenate(y_proba, axis=0)\n",
    "# Remove elements to ignore (the -100 labels)\n",
    "mask = y_true == -100\n",
    "y_true = y_true[~mask]\n",
    "y_pred = y_pred[~mask]\n",
    "y_proba = y_proba[~mask]\n",
    "\n",
    "labels = np.unique(y_true)\n",
    "mapping = np.zeros(len(le[task].classes_), dtype=int)\n",
    "mapping[labels] = np.arange(len(labels))\n",
    "\n",
    "y_true = mapping[y_true]\n",
    "y_pred = mapping[y_pred]\n",
    "y_proba = softmax(y_proba[:, labels], axis=1)\n",
    "\n",
    "ids, counts = np.unique(y_true, return_counts=True)\n",
    "weights = counts / np.sum(counts)\n",
    "\n",
    "# \n",
    "accuracy = accuracy_score(y_true, y_pred)\n",
    "precision_m, recall_m, fscore_m, support_m = precision_recall_fscore_support(y_true, y_pred, average='macro')\n",
    "auc_m = roc_auc_score(y_true, y_proba, multi_class='ovr', average='macro')\n",
    "precision_w, recall_w, fscore_w, support_w = precision_recall_fscore_support(y_true, y_pred, average='weighted')\n",
    "auc_w = roc_auc_score(y_true, y_proba, multi_class='ovr', average='weighted')\n",
    "accuracy_sw = accuracy_score(y_true, y_pred, sample_weight=weights[y_true])\n",
    "precision_sw, recall_sw, fscore_sw, support_sw = precision_recall_fscore_support(y_true, y_pred, average='weighted', sample_weight=weights[y_true])\n",
    "auc_sw = roc_auc_score(y_true, y_proba, multi_class='ovr', average='weighted', sample_weight=weights[y_true])\n",
    "results.extend([\n",
    "    {\n",
    "        'corpus': corpus,\n",
    "        'task': task,\n",
    "        'embeddings': model_id,\n",
    "        'split': split,\n",
    "        'timestamp': timestamp,\n",
    "        'metric': metric,\n",
    "        'value': value\n",
    "    }\n",
    "    for metric, value in zip(\n",
    "        CLS_METRICS, [\n",
    "            accuracy, precision_m, recall_m, fscore_m, auc_m, \n",
    "            precision_w, recall_w, fscore_w, auc_w,\n",
    "            accuracy_sw, precision_sw, recall_sw, fscore_sw, auc_sw\n",
    "        ]\n",
    "    )\n",
    "])\n",
    "# Finally compute classification report\n",
    "print()\n",
    "print(classification_report(y_true, y_pred, target_names=le[task].classes_[labels]))"
   ]
  },
  {
   "cell_type": "markdown",
   "metadata": {
    "collapsed": false,
    "jupyter": {
     "outputs_hidden": false
    }
   },
   "source": [
    "### SST"
   ]
  },
  {
   "cell_type": "code",
   "execution_count": 59,
   "metadata": {
    "collapsed": false,
    "jupyter": {
     "outputs_hidden": false
    }
   },
   "outputs": [],
   "source": [
    "corpus = 'SST'"
   ]
  },
  {
   "cell_type": "code",
   "execution_count": 60,
   "metadata": {
    "collapsed": false,
    "jupyter": {
     "outputs_hidden": false
    }
   },
   "outputs": [
    {
     "data": {
      "text/plain": [
       "[{'sequence': \"The Rock is destined to be the 21st Century 's new `` Conan '' and that he 's going to make a splash even greater than Arnold Schwarzenegger , Jean-Claud Van Damme or Steven Segal .\",\n",
       "  'sentiment': 'positive'},\n",
       " {'sequence': \"The gorgeously elaborate continuation of `` The Lord of the Rings '' trilogy is so huge that a column of words can not adequately describe co-writer\\\\/director Peter Jackson 's expanded vision of J.R.R. Tolkien 's Middle-earth .\",\n",
       "  'sentiment': 'positive'},\n",
       " {'sequence': 'Singer\\\\/composer Bryan Adams contributes a slew of songs -- a few potential hits , a few more simply intrusive to the story -- but the whole package certainly captures the intended , er , spirit of the piece .',\n",
       "  'sentiment': 'positive'}]"
      ]
     },
     "execution_count": 60,
     "metadata": {},
     "output_type": "execute_result"
    }
   ],
   "source": [
    "sst['train']._data[:3]"
   ]
  },
  {
   "cell_type": "code",
   "execution_count": 61,
   "metadata": {
    "collapsed": false,
    "jupyter": {
     "outputs_hidden": false
    }
   },
   "outputs": [],
   "source": [
    "embeddings_model.fit_sif_embedding([sample['sequence'] for sample in sst['train']])"
   ]
  },
  {
   "cell_type": "code",
   "execution_count": 62,
   "metadata": {
    "collapsed": false,
    "jupyter": {
     "outputs_hidden": false
    }
   },
   "outputs": [
    {
     "data": {
      "text/plain": [
       "\"\\nclass SequenceClassification(nn.Module):\\n    def __init__(self, input_size, output_size, hidden_size: int = 512, kernel_size: int = 5):\\n        super().__init__()\\n        self.norm = nn.LayerNorm(input_size)\\n        self.conv1d = nn.Conv1d(input_size, hidden_size, kernel_size, padding='same')\\n        self.dropout = nn.Dropout(0.1)\\n        self.cls_head = nn.Linear(hidden_size, output_size)\\n        \\n    def forward(self, x, w):\\n        # \\n        x = self.dropout(x)\\n        #\\n        h = self.conv1d(self.norm(x).transpose(-1, -2))\\n        # Non-linear activation\\n        h = F.gelu(h)\\n        # Dropout\\n        h = self.dropout(h)\\n        # Weighted sum\\n        h = torch.einsum('btd,bt->bd', h.transpose(-1, -2), w)\\n        # Apply last linear projection\\n        y = self.cls_head(h)\\n\\n        return y\\n\""
      ]
     },
     "execution_count": 62,
     "metadata": {},
     "output_type": "execute_result"
    }
   ],
   "source": [
    "from typing import Tuple, List, Set\n",
    "\n",
    "class Conv1D(nn.Module):\n",
    "    \"\"\"\n",
    "    1D-convolutional layer as defined by Radford et al. for OpenAI GPT (and also used in GPT-2).\n",
    "    Basically works like a linear layer but the weights are transposed.\n",
    "    Args:\n",
    "        nf (:obj:`int`): The number of output features.\n",
    "        nx (:obj:`int`): The number of input features.\n",
    "\n",
    "    Thanks to Hugging Face for the implementation\n",
    "    \"\"\"\n",
    "\n",
    "    def __init__(self, nf, nx):\n",
    "        super().__init__()\n",
    "        self.nf = nf\n",
    "        w = torch.empty(nx, nf)\n",
    "        nn.init.normal_(w, std=0.02)\n",
    "        self.weight = nn.Parameter(w)\n",
    "        self.bias = nn.Parameter(torch.zeros(nf))\n",
    "\n",
    "    def forward(self, x):\n",
    "        size_out = x.size()[:-1] + (self.nf,)\n",
    "        x = torch.addmm(self.bias, x.view(-1, x.size(-1)), self.weight)\n",
    "        x = x.view(*size_out)\n",
    "        return x\n",
    "\n",
    "\n",
    "def find_pruneable_heads_and_indices(heads: List[int],\n",
    "                                     n_heads: int,\n",
    "                                     head_size: int,\n",
    "                                     already_pruned_heads: Set[int]) -> Tuple[Set[int], torch.LongTensor]:\n",
    "    \"\"\"\n",
    "    Finds the heads and their indices taking :obj:`already_pruned_heads` into account.\n",
    "    Args:\n",
    "        heads (:obj:`List[int]`): List of the indices of heads to prune.\n",
    "        n_heads (:obj:`int`): The number of heads in the model.\n",
    "        head_size (:obj:`int`): The size of each head.\n",
    "        already_pruned_heads (:obj:`Set[int]`): A set of already pruned heads.\n",
    "    Returns:\n",
    "        :obj:`Tuple[Set[int], torch.LongTensor]`: A tuple with the remaining heads and their corresponding indices.\n",
    "\n",
    "\n",
    "    Thanks to Hugging Face for the implementation\n",
    "    \"\"\"\n",
    "    mask = torch.ones(n_heads, head_size)\n",
    "    heads = set(heads) - already_pruned_heads  # Convert to set and remove already pruned heads\n",
    "    for head in heads:\n",
    "        # Compute how many pruned heads are before the head and move the index accordingly\n",
    "        head = head - sum(1 if h < head else 0 for h in already_pruned_heads)\n",
    "        mask[head] = 0\n",
    "    mask = mask.view(-1).contiguous().eq(1)\n",
    "    index: torch.LongTensor = torch.arange(len(mask))[mask].long()\n",
    "    return heads, index\n",
    "\n",
    "\n",
    "def prune_conv1d_layer(layer: Conv1D, index: torch.LongTensor, dim: int = 1) -> Conv1D:\n",
    "    \"\"\"\n",
    "    Prune a Conv1D layer to keep only entries in index. A Conv1D work as a Linear layer (see e.g. BERT) but the weights\n",
    "    are transposed.\n",
    "    Used to remove heads.\n",
    "    Args:\n",
    "        layer (:class:`~transformers.modeling_utils.Conv1D`): The layer to prune.\n",
    "        index (:obj:`torch.LongTensor`): The indices to keep in the layer.\n",
    "        dim (:obj:`int`, `optional`, defaults to 1): The dimension on which to keep the indices.\n",
    "    Returns:\n",
    "        :class:`~transformers.modeling_utils.Conv1D`: The pruned layer as a new layer with :obj:`requires_grad=True`.\n",
    "\n",
    "    Thanks to Hugging Face for the implementation\n",
    "    \"\"\"\n",
    "    index = index.to(layer.weight.device)\n",
    "    W = layer.weight.index_select(dim, index).clone().detach()\n",
    "    if dim == 0:\n",
    "        b = layer.bias.clone().detach()\n",
    "    else:\n",
    "        b = layer.bias[index].clone().detach()\n",
    "    new_size = list(layer.weight.size())\n",
    "    new_size[dim] = len(index)\n",
    "    new_layer = Conv1D(new_size[1], new_size[0]).to(layer.weight.device)\n",
    "    new_layer.weight.requires_grad = False\n",
    "    new_layer.weight.copy_(W.contiguous())\n",
    "    new_layer.weight.requires_grad = True\n",
    "    new_layer.bias.requires_grad = False\n",
    "    new_layer.bias.copy_(b.contiguous())\n",
    "    new_layer.bias.requires_grad = True\n",
    "    return new_layer\n",
    "\n",
    "\n",
    "class AttentionAvgPooling(nn.Module):\n",
    "    def __init__(self,\n",
    "                 n_hidden: int = 512,\n",
    "                 n_heads: int = 8,\n",
    "                 max_positions: int = 1024,\n",
    "                 p_dropout: float = 0.1,\n",
    "                 scale_attn_weights: bool = True):\n",
    "        super().__init__()\n",
    "\n",
    "        self.embed_dim = n_hidden\n",
    "        self.num_heads = n_heads\n",
    "        self.head_dim = self.embed_dim // self.num_heads\n",
    "        self.split_size = self.embed_dim\n",
    "        assert self.head_dim * self.num_heads == self.embed_dim, f\"`embed_dim` must be divisible by num_heads \" \\\n",
    "                                                                 f\"(got `embed_dim`: {self.embed_dim} and \" \\\n",
    "                                                                 f\"`num_heads`: {self.num_heads}).\"\n",
    "\n",
    "        self.scale_attn_weights = scale_attn_weights\n",
    "\n",
    "        self.qkv_attn = Conv1D(3 * self.embed_dim, self.embed_dim)\n",
    "\n",
    "        self.dropout = nn.Dropout(p_dropout)\n",
    "\n",
    "        self.pruned_heads = set()\n",
    "\n",
    "    def prune_heads(self, heads):\n",
    "        if len(heads) == 0:\n",
    "            return\n",
    "        heads, index = find_pruneable_heads_and_indices(heads, self.num_heads, self.head_dim, self.pruned_heads)\n",
    "        index_attn = torch.cat([index, index + self.split_size, index + (2 * self.split_size)])\n",
    "\n",
    "        # Prune conv1d layers\n",
    "        self.qkv_attn = prune_conv1d_layer(self.qkv_attn, index_attn, dim=1)\n",
    "\n",
    "        # Update hyper params\n",
    "        self.split_size = (self.split_size // self.num_heads) * (self.num_heads - len(heads))\n",
    "        self.num_heads = self.num_heads - len(heads)\n",
    "        self.pruned_heads = self.pruned_heads.union(heads)\n",
    "\n",
    "    def _attn(self, query, key, value, attention_mask=None):\n",
    "        attn_weights = torch.matmul(query, key.transpose(-1, -2))\n",
    "        attn_weights = attn_weights / (float(value.size(-1)) ** 0.5)\n",
    "\n",
    "        if attention_mask is not None:\n",
    "            # Apply the attention mask\n",
    "            attn_weights = attn_weights + attention_mask\n",
    "\n",
    "        attn_weights = nn.Softmax(dim=-1)(attn_weights)\n",
    "        attn_weights = self.dropout(attn_weights)\n",
    "\n",
    "        attn_output = torch.matmul(attn_weights, value)\n",
    "\n",
    "        return attn_output, attn_weights\n",
    "\n",
    "    @staticmethod\n",
    "    def _split_heads(tensor, num_heads, attn_head_size):\n",
    "        new_shape = tensor.size()[:-1] + (num_heads, attn_head_size)\n",
    "        tensor = tensor.view(*new_shape)\n",
    "        return tensor.permute(0, 2, 1, 3)  # (batch, head, seq_length, head_features)\n",
    "\n",
    "    @staticmethod\n",
    "    def _merge_heads(tensor, num_heads, attn_head_size):\n",
    "        tensor = tensor.permute(0, 2, 1, 3).contiguous()\n",
    "        new_shape = tensor.size()[:-2] + (num_heads * attn_head_size,)\n",
    "        return tensor.view(new_shape)\n",
    "\n",
    "    def forward(self,\n",
    "                hidden_states,\n",
    "                attention_mask=None,\n",
    "                return_attention_weights=False):\n",
    "\n",
    "        query, key, value = self.qkv_attn(hidden_states).split(self.split_size, dim=2)\n",
    "\n",
    "        # Query is averaged to obtain pooling\n",
    "        query = self._split_heads(query, self.num_heads, self.head_dim).mean(-2, keepdims=True)\n",
    "        key = self._split_heads(key, self.num_heads, self.head_dim)\n",
    "        value = self._split_heads(value, self.num_heads, self.head_dim)\n",
    "\n",
    "        if attention_mask is not None:\n",
    "            attention_mask = (1.0 - attention_mask) * -1e+6\n",
    "            attention_mask = attention_mask[:, None, None, :]\n",
    "\n",
    "        attn_output, attn_weights = self._attn(query, key, value, attention_mask)\n",
    "\n",
    "        attn_output = self._merge_heads(attn_output, self.num_heads, self.head_dim)\n",
    "\n",
    "        if not return_attention_weights:\n",
    "            return attn_output  # attention\n",
    "        else:\n",
    "            attn_weights = self._merge_heads(attn_weights, self.num_heads, self.head_dim)\n",
    "            return attn_output, attn_weights\n",
    "\n",
    "\n",
    "# class GPT2Attention(nn.Module):\n",
    "# https://github.com/huggingface/transformers/blob/master/src/transformers/models/gpt2/modeling_gpt2.py\n",
    "\n",
    "\n",
    "class SequenceClassification(nn.Module):\n",
    "    def __init__(self, input_size, output_size, hidden_size: int = 512, kernel_size: int = 5):\n",
    "        super().__init__()\n",
    "        self.norm = nn.LayerNorm(input_size)\n",
    "        self.conv1d = nn.Conv1d(input_size, hidden_size, kernel_size, padding='same')\n",
    "        self.dropout = nn.Dropout(0.1)\n",
    "        self.out_head = nn.Linear(hidden_size, output_size)\n",
    "        ##\n",
    "        self.norm = nn.LayerNorm(hidden_size)\n",
    "        self.out_norm = nn.LayerNorm(hidden_size)\n",
    "        self.pool = AttentionAvgPooling()\n",
    "        \n",
    "    def forward(self, x, w):\n",
    "        # \n",
    "        x = self.dropout(x)\n",
    "        #\n",
    "        h = self.conv1d(x.transpose(-1, -2)).transpose(-1, -2)  # self.norm(x).transpose(-1, -2)\n",
    "        ##\n",
    "        h = self.norm(h)\n",
    "        # Non-linear activation\n",
    "        h = F.gelu(h)\n",
    "        \n",
    "        # Dropout\n",
    "        h = self.dropout(h)\n",
    "        # Weighted sum\n",
    "        # h = torch.einsum('btd,bt->bd', h, w)\n",
    "        # Apply last linear projection\n",
    "        # h = self.out_head(h)\n",
    "        ##\n",
    "        h = self.pool(h, w)\n",
    "        h = self.out_norm(h)\n",
    "        y = self.out_head(h)\n",
    "\n",
    "        return y\n",
    "\n",
    "'''\n",
    "class SequenceClassification(nn.Module):\n",
    "    def __init__(self, input_size, output_size, hidden_size: int = 512, kernel_size: int = 5):\n",
    "        super().__init__()\n",
    "        self.norm = nn.LayerNorm(input_size)\n",
    "        self.conv1d = nn.Conv1d(input_size, hidden_size, kernel_size, padding='same')\n",
    "        self.dropout = nn.Dropout(0.1)\n",
    "        self.cls_head = nn.Linear(hidden_size, output_size)\n",
    "        \n",
    "    def forward(self, x, w):\n",
    "        # \n",
    "        x = self.dropout(x)\n",
    "        #\n",
    "        h = self.conv1d(self.norm(x).transpose(-1, -2))\n",
    "        # Non-linear activation\n",
    "        h = F.gelu(h)\n",
    "        # Dropout\n",
    "        h = self.dropout(h)\n",
    "        # Weighted sum\n",
    "        h = torch.einsum('btd,bt->bd', h.transpose(-1, -2), w)\n",
    "        # Apply last linear projection\n",
    "        y = self.cls_head(h)\n",
    "\n",
    "        return y\n",
    "'''"
   ]
  },
  {
   "cell_type": "code",
   "execution_count": 63,
   "metadata": {
    "collapsed": false,
    "jupyter": {
     "outputs_hidden": false
    }
   },
   "outputs": [
    {
     "name": "stdout",
     "output_type": "stream",
     "text": [
      "sentiment ['negative' 'positive']\n"
     ]
    }
   ],
   "source": [
    "le = sst['train'].get_label_transformer()\n",
    "for label, le_ in le.items():\n",
    "    print(label, le_.classes_)"
   ]
  },
  {
   "cell_type": "code",
   "execution_count": 64,
   "metadata": {},
   "outputs": [
    {
     "name": "stdout",
     "output_type": "stream",
     "text": [
      "sentiment tensor([1.1226, 1.0000], device='cuda:0')\n"
     ]
    }
   ],
   "source": [
    "lw = {label: lw_.to(device) for label, lw_ in sst['train'].get_label_weights().items()}\n",
    "for label, lw_ in lw.items():\n",
    "    print(label, lw_)"
   ]
  },
  {
   "cell_type": "code",
   "execution_count": 65,
   "metadata": {
    "collapsed": false,
    "jupyter": {
     "outputs_hidden": false
    }
   },
   "outputs": [],
   "source": [
    "task = 'sentiment'"
   ]
  },
  {
   "cell_type": "code",
   "execution_count": 66,
   "metadata": {
    "collapsed": false,
    "jupyter": {
     "outputs_hidden": false
    }
   },
   "outputs": [
    {
     "data": {
      "text/plain": [
       "SequenceClassification(\n",
       "  (norm): LayerNorm((512,), eps=1e-05, elementwise_affine=True)\n",
       "  (conv1d): Conv1d(300, 512, kernel_size=(5,), stride=(1,), padding=same)\n",
       "  (dropout): Dropout(p=0.1, inplace=False)\n",
       "  (out_head): Linear(in_features=512, out_features=2, bias=True)\n",
       "  (out_norm): LayerNorm((512,), eps=1e-05, elementwise_affine=True)\n",
       "  (pool): AttentionAvgPooling(\n",
       "    (qkv_attn): Conv1D()\n",
       "    (dropout): Dropout(p=0.1, inplace=False)\n",
       "  )\n",
       ")"
      ]
     },
     "execution_count": 66,
     "metadata": {},
     "output_type": "execute_result"
    }
   ],
   "source": [
    "model = SequenceClassification(300, len(le[task].classes_))    \n",
    "model = model.to(device)\n",
    "model"
   ]
  },
  {
   "cell_type": "code",
   "execution_count": 67,
   "metadata": {
    "collapsed": false,
    "jupyter": {
     "outputs_hidden": false
    }
   },
   "outputs": [],
   "source": [
    "lr = 0.001\n",
    "batch_size = 512\n",
    "n_epochs = 64\n",
    "optimizer = torch.optim.AdamW(params=model.parameters(), lr=lr, weight_decay=0.2)\n",
    "# optimizer = torch.optim.RMSprop(params=model.parameters(), lr=lr)"
   ]
  },
  {
   "cell_type": "code",
   "execution_count": 68,
   "metadata": {
    "collapsed": false,
    "jupyter": {
     "outputs_hidden": false
    }
   },
   "outputs": [],
   "source": [
    "def collate(mini_batch):\n",
    "    # Tokenise sequences \n",
    "    sequences = embeddings_model.tokenise([sample['sequence'] for sample in mini_batch])\n",
    "    # Get the length of the longest sentence\n",
    "    max_sequence_len = max(len(sample) for sample in sequences)\n",
    "    # Create an input tensor with all zero values\n",
    "    input_embeds = np.zeros((len(mini_batch), max_sequence_len, 300))\n",
    "    # Create weights tensor with all zero values\n",
    "    token_weights = np.zeros((len(mini_batch), max_sequence_len))\n",
    "    valid_mask = np.zeros((len(mini_batch), max_sequence_len))\n",
    "    # Create a target output matrix with all -100 (PyTorch ignores this value by default)\n",
    "    output_lbl = np.full((len(mini_batch), 1), -100)\n",
    "    # Fill the tensor and the matrix\n",
    "    for i, sample in enumerate(sequences):\n",
    "        for j, token in enumerate(sample):\n",
    "            # Manage missing tokens in vocabulary\n",
    "            input_embeds[i, j] = embeddings_model[token.lower()]\n",
    "        token_weights[i, :len(sample)] = embeddings_model.sif_embedding_model.word_weights[embeddings_model.encode(sample, backend='numpy')]\n",
    "        valid_mask[i, :len(sample)] = 1.0\n",
    "        output_lbl[i] = le[task].transform([mini_batch[i][task]])[0]\n",
    "    # Convert to PyTorch tensor\n",
    "    input_embeds = torch.tensor(input_embeds, dtype=torch.float, device=device)\n",
    "    token_weights = torch.tensor(token_weights, dtype=torch.float, device=device)\n",
    "    valid_mask = torch.tensor(valid_mask, dtype=torch.float, device=device)\n",
    "    output_lbl = torch.tensor(output_lbl, device=device)\n",
    "\n",
    "    # return input_embeds, token_weights, output_lbl\n",
    "    return input_embeds, valid_mask, output_lbl"
   ]
  },
  {
   "cell_type": "code",
   "execution_count": 69,
   "metadata": {
    "collapsed": false,
    "jupyter": {
     "outputs_hidden": false
    }
   },
   "outputs": [],
   "source": [
    "data_loader = {\n",
    "    split: torch.utils.data.DataLoader(\n",
    "        data, batch_size=batch_size, collate_fn=collate, shuffle=split == 'train'\n",
    "    )\n",
    "    for split, data in sst.items()\n",
    "}"
   ]
  },
  {
   "cell_type": "markdown",
   "metadata": {
    "collapsed": false,
    "jupyter": {
     "outputs_hidden": false
    }
   },
   "source": [
    "##### Training"
   ]
  },
  {
   "cell_type": "code",
   "execution_count": 70,
   "metadata": {
    "collapsed": false,
    "jupyter": {
     "outputs_hidden": false
    },
    "scrolled": true
   },
   "outputs": [
    {
     "name": "stdout",
     "output_type": "stream",
     "text": [
      "Starting epoch 1/64\n"
     ]
    },
    {
     "name": "stderr",
     "output_type": "stream",
     "text": [
      "100%|███████████████████████████████████████████████████████████████████████████████████████████████████████████████| 16/16 [00:02<00:00,  7.46it/s]\n"
     ]
    },
    {
     "name": "stdout",
     "output_type": "stream",
     "text": [
      "Starting validation epoch 1/64\n"
     ]
    },
    {
     "name": "stderr",
     "output_type": "stream",
     "text": [
      "100%|█████████████████████████████████████████████████████████████████████████████████████████████████████████████████| 5/5 [00:00<00:00,  9.10it/s]\n"
     ]
    },
    {
     "name": "stdout",
     "output_type": "stream",
     "text": [
      "Starting epoch 2/64\n"
     ]
    },
    {
     "name": "stderr",
     "output_type": "stream",
     "text": [
      "100%|███████████████████████████████████████████████████████████████████████████████████████████████████████████████| 16/16 [00:02<00:00,  7.47it/s]\n"
     ]
    },
    {
     "name": "stdout",
     "output_type": "stream",
     "text": [
      "Starting validation epoch 2/64\n"
     ]
    },
    {
     "name": "stderr",
     "output_type": "stream",
     "text": [
      "100%|█████████████████████████████████████████████████████████████████████████████████████████████████████████████████| 5/5 [00:00<00:00,  9.17it/s]\n"
     ]
    },
    {
     "name": "stdout",
     "output_type": "stream",
     "text": [
      "Starting epoch 3/64\n"
     ]
    },
    {
     "name": "stderr",
     "output_type": "stream",
     "text": [
      "100%|███████████████████████████████████████████████████████████████████████████████████████████████████████████████| 16/16 [00:02<00:00,  7.48it/s]\n"
     ]
    },
    {
     "name": "stdout",
     "output_type": "stream",
     "text": [
      "Starting validation epoch 3/64\n"
     ]
    },
    {
     "name": "stderr",
     "output_type": "stream",
     "text": [
      "100%|█████████████████████████████████████████████████████████████████████████████████████████████████████████████████| 5/5 [00:00<00:00,  9.20it/s]\n"
     ]
    },
    {
     "name": "stdout",
     "output_type": "stream",
     "text": [
      "Starting epoch 4/64\n"
     ]
    },
    {
     "name": "stderr",
     "output_type": "stream",
     "text": [
      "100%|███████████████████████████████████████████████████████████████████████████████████████████████████████████████| 16/16 [00:02<00:00,  6.89it/s]\n"
     ]
    },
    {
     "name": "stdout",
     "output_type": "stream",
     "text": [
      "Starting validation epoch 4/64\n"
     ]
    },
    {
     "name": "stderr",
     "output_type": "stream",
     "text": [
      "100%|█████████████████████████████████████████████████████████████████████████████████████████████████████████████████| 5/5 [00:00<00:00,  9.23it/s]\n"
     ]
    },
    {
     "name": "stdout",
     "output_type": "stream",
     "text": [
      "Starting epoch 5/64\n"
     ]
    },
    {
     "name": "stderr",
     "output_type": "stream",
     "text": [
      "100%|███████████████████████████████████████████████████████████████████████████████████████████████████████████████| 16/16 [00:02<00:00,  7.50it/s]\n"
     ]
    },
    {
     "name": "stdout",
     "output_type": "stream",
     "text": [
      "Starting validation epoch 5/64\n"
     ]
    },
    {
     "name": "stderr",
     "output_type": "stream",
     "text": [
      "100%|█████████████████████████████████████████████████████████████████████████████████████████████████████████████████| 5/5 [00:00<00:00,  9.23it/s]\n"
     ]
    },
    {
     "name": "stdout",
     "output_type": "stream",
     "text": [
      "Starting epoch 6/64\n"
     ]
    },
    {
     "name": "stderr",
     "output_type": "stream",
     "text": [
      "100%|███████████████████████████████████████████████████████████████████████████████████████████████████████████████| 16/16 [00:02<00:00,  7.48it/s]\n"
     ]
    },
    {
     "name": "stdout",
     "output_type": "stream",
     "text": [
      "Starting validation epoch 6/64\n"
     ]
    },
    {
     "name": "stderr",
     "output_type": "stream",
     "text": [
      "100%|█████████████████████████████████████████████████████████████████████████████████████████████████████████████████| 5/5 [00:00<00:00,  9.19it/s]\n"
     ]
    },
    {
     "name": "stdout",
     "output_type": "stream",
     "text": [
      "Starting epoch 7/64\n"
     ]
    },
    {
     "name": "stderr",
     "output_type": "stream",
     "text": [
      "100%|███████████████████████████████████████████████████████████████████████████████████████████████████████████████| 16/16 [00:02<00:00,  7.28it/s]\n"
     ]
    },
    {
     "name": "stdout",
     "output_type": "stream",
     "text": [
      "Starting validation epoch 7/64\n"
     ]
    },
    {
     "name": "stderr",
     "output_type": "stream",
     "text": [
      "100%|█████████████████████████████████████████████████████████████████████████████████████████████████████████████████| 5/5 [00:00<00:00,  8.86it/s]\n"
     ]
    },
    {
     "name": "stdout",
     "output_type": "stream",
     "text": [
      "Starting epoch 8/64\n"
     ]
    },
    {
     "name": "stderr",
     "output_type": "stream",
     "text": [
      "100%|███████████████████████████████████████████████████████████████████████████████████████████████████████████████| 16/16 [00:02<00:00,  7.30it/s]\n"
     ]
    },
    {
     "name": "stdout",
     "output_type": "stream",
     "text": [
      "Starting validation epoch 8/64\n"
     ]
    },
    {
     "name": "stderr",
     "output_type": "stream",
     "text": [
      "100%|█████████████████████████████████████████████████████████████████████████████████████████████████████████████████| 5/5 [00:00<00:00,  8.95it/s]\n"
     ]
    },
    {
     "name": "stdout",
     "output_type": "stream",
     "text": [
      "Starting epoch 9/64\n"
     ]
    },
    {
     "name": "stderr",
     "output_type": "stream",
     "text": [
      "100%|███████████████████████████████████████████████████████████████████████████████████████████████████████████████| 16/16 [00:02<00:00,  7.38it/s]\n"
     ]
    },
    {
     "name": "stdout",
     "output_type": "stream",
     "text": [
      "Starting validation epoch 9/64\n"
     ]
    },
    {
     "name": "stderr",
     "output_type": "stream",
     "text": [
      "100%|█████████████████████████████████████████████████████████████████████████████████████████████████████████████████| 5/5 [00:00<00:00,  9.18it/s]\n"
     ]
    },
    {
     "name": "stdout",
     "output_type": "stream",
     "text": [
      "Starting epoch 10/64\n"
     ]
    },
    {
     "name": "stderr",
     "output_type": "stream",
     "text": [
      "100%|███████████████████████████████████████████████████████████████████████████████████████████████████████████████| 16/16 [00:02<00:00,  6.76it/s]\n"
     ]
    },
    {
     "name": "stdout",
     "output_type": "stream",
     "text": [
      "Starting validation epoch 10/64\n"
     ]
    },
    {
     "name": "stderr",
     "output_type": "stream",
     "text": [
      "100%|█████████████████████████████████████████████████████████████████████████████████████████████████████████████████| 5/5 [00:00<00:00,  9.14it/s]\n"
     ]
    },
    {
     "name": "stdout",
     "output_type": "stream",
     "text": [
      "Starting epoch 11/64\n"
     ]
    },
    {
     "name": "stderr",
     "output_type": "stream",
     "text": [
      "100%|███████████████████████████████████████████████████████████████████████████████████████████████████████████████| 16/16 [00:02<00:00,  7.46it/s]\n"
     ]
    },
    {
     "name": "stdout",
     "output_type": "stream",
     "text": [
      "Starting validation epoch 11/64\n"
     ]
    },
    {
     "name": "stderr",
     "output_type": "stream",
     "text": [
      "100%|█████████████████████████████████████████████████████████████████████████████████████████████████████████████████| 5/5 [00:00<00:00,  8.89it/s]\n"
     ]
    },
    {
     "name": "stdout",
     "output_type": "stream",
     "text": [
      "Starting epoch 12/64\n"
     ]
    },
    {
     "name": "stderr",
     "output_type": "stream",
     "text": [
      "100%|███████████████████████████████████████████████████████████████████████████████████████████████████████████████| 16/16 [00:02<00:00,  7.32it/s]\n"
     ]
    },
    {
     "name": "stdout",
     "output_type": "stream",
     "text": [
      "Starting validation epoch 12/64\n"
     ]
    },
    {
     "name": "stderr",
     "output_type": "stream",
     "text": [
      "100%|█████████████████████████████████████████████████████████████████████████████████████████████████████████████████| 5/5 [00:00<00:00,  8.93it/s]\n"
     ]
    },
    {
     "name": "stdout",
     "output_type": "stream",
     "text": [
      "Starting epoch 13/64\n"
     ]
    },
    {
     "name": "stderr",
     "output_type": "stream",
     "text": [
      "100%|███████████████████████████████████████████████████████████████████████████████████████████████████████████████| 16/16 [00:02<00:00,  7.30it/s]\n"
     ]
    },
    {
     "name": "stdout",
     "output_type": "stream",
     "text": [
      "Starting validation epoch 13/64\n"
     ]
    },
    {
     "name": "stderr",
     "output_type": "stream",
     "text": [
      "100%|█████████████████████████████████████████████████████████████████████████████████████████████████████████████████| 5/5 [00:00<00:00,  8.96it/s]\n"
     ]
    },
    {
     "name": "stdout",
     "output_type": "stream",
     "text": [
      "Starting epoch 14/64\n"
     ]
    },
    {
     "name": "stderr",
     "output_type": "stream",
     "text": [
      "100%|███████████████████████████████████████████████████████████████████████████████████████████████████████████████| 16/16 [00:02<00:00,  7.30it/s]\n"
     ]
    },
    {
     "name": "stdout",
     "output_type": "stream",
     "text": [
      "Starting validation epoch 14/64\n"
     ]
    },
    {
     "name": "stderr",
     "output_type": "stream",
     "text": [
      "100%|█████████████████████████████████████████████████████████████████████████████████████████████████████████████████| 5/5 [00:00<00:00,  8.99it/s]\n"
     ]
    },
    {
     "name": "stdout",
     "output_type": "stream",
     "text": [
      "Starting epoch 15/64\n"
     ]
    },
    {
     "name": "stderr",
     "output_type": "stream",
     "text": [
      "100%|███████████████████████████████████████████████████████████████████████████████████████████████████████████████| 16/16 [00:02<00:00,  7.28it/s]\n"
     ]
    },
    {
     "name": "stdout",
     "output_type": "stream",
     "text": [
      "Starting validation epoch 15/64\n"
     ]
    },
    {
     "name": "stderr",
     "output_type": "stream",
     "text": [
      "100%|█████████████████████████████████████████████████████████████████████████████████████████████████████████████████| 5/5 [00:00<00:00,  8.95it/s]\n"
     ]
    },
    {
     "name": "stdout",
     "output_type": "stream",
     "text": [
      "Starting epoch 16/64\n"
     ]
    },
    {
     "name": "stderr",
     "output_type": "stream",
     "text": [
      "100%|███████████████████████████████████████████████████████████████████████████████████████████████████████████████| 16/16 [00:02<00:00,  6.70it/s]\n"
     ]
    },
    {
     "name": "stdout",
     "output_type": "stream",
     "text": [
      "Starting validation epoch 16/64\n"
     ]
    },
    {
     "name": "stderr",
     "output_type": "stream",
     "text": [
      "100%|█████████████████████████████████████████████████████████████████████████████████████████████████████████████████| 5/5 [00:00<00:00,  8.94it/s]\n"
     ]
    },
    {
     "name": "stdout",
     "output_type": "stream",
     "text": [
      "Starting epoch 17/64\n"
     ]
    },
    {
     "name": "stderr",
     "output_type": "stream",
     "text": [
      "100%|███████████████████████████████████████████████████████████████████████████████████████████████████████████████| 16/16 [00:02<00:00,  7.28it/s]\n"
     ]
    },
    {
     "name": "stdout",
     "output_type": "stream",
     "text": [
      "Starting validation epoch 17/64\n"
     ]
    },
    {
     "name": "stderr",
     "output_type": "stream",
     "text": [
      "100%|█████████████████████████████████████████████████████████████████████████████████████████████████████████████████| 5/5 [00:00<00:00,  8.96it/s]\n"
     ]
    },
    {
     "name": "stdout",
     "output_type": "stream",
     "text": [
      "Starting epoch 18/64\n"
     ]
    },
    {
     "name": "stderr",
     "output_type": "stream",
     "text": [
      "100%|███████████████████████████████████████████████████████████████████████████████████████████████████████████████| 16/16 [00:02<00:00,  7.25it/s]\n"
     ]
    },
    {
     "name": "stdout",
     "output_type": "stream",
     "text": [
      "Starting validation epoch 18/64\n"
     ]
    },
    {
     "name": "stderr",
     "output_type": "stream",
     "text": [
      "100%|█████████████████████████████████████████████████████████████████████████████████████████████████████████████████| 5/5 [00:00<00:00,  8.71it/s]\n"
     ]
    },
    {
     "name": "stdout",
     "output_type": "stream",
     "text": [
      "Starting epoch 19/64\n"
     ]
    },
    {
     "name": "stderr",
     "output_type": "stream",
     "text": [
      "100%|███████████████████████████████████████████████████████████████████████████████████████████████████████████████| 16/16 [00:02<00:00,  7.09it/s]\n"
     ]
    },
    {
     "name": "stdout",
     "output_type": "stream",
     "text": [
      "Starting validation epoch 19/64\n"
     ]
    },
    {
     "name": "stderr",
     "output_type": "stream",
     "text": [
      "100%|█████████████████████████████████████████████████████████████████████████████████████████████████████████████████| 5/5 [00:00<00:00,  8.71it/s]\n"
     ]
    },
    {
     "name": "stdout",
     "output_type": "stream",
     "text": [
      "Starting epoch 20/64\n"
     ]
    },
    {
     "name": "stderr",
     "output_type": "stream",
     "text": [
      "100%|███████████████████████████████████████████████████████████████████████████████████████████████████████████████| 16/16 [00:02<00:00,  7.08it/s]\n"
     ]
    },
    {
     "name": "stdout",
     "output_type": "stream",
     "text": [
      "Starting validation epoch 20/64\n"
     ]
    },
    {
     "name": "stderr",
     "output_type": "stream",
     "text": [
      "100%|█████████████████████████████████████████████████████████████████████████████████████████████████████████████████| 5/5 [00:00<00:00,  8.69it/s]\n"
     ]
    },
    {
     "name": "stdout",
     "output_type": "stream",
     "text": [
      "Starting epoch 21/64\n"
     ]
    },
    {
     "name": "stderr",
     "output_type": "stream",
     "text": [
      "100%|███████████████████████████████████████████████████████████████████████████████████████████████████████████████| 16/16 [00:02<00:00,  7.14it/s]\n"
     ]
    },
    {
     "name": "stdout",
     "output_type": "stream",
     "text": [
      "Starting validation epoch 21/64\n"
     ]
    },
    {
     "name": "stderr",
     "output_type": "stream",
     "text": [
      "100%|█████████████████████████████████████████████████████████████████████████████████████████████████████████████████| 5/5 [00:00<00:00,  8.80it/s]\n"
     ]
    },
    {
     "name": "stdout",
     "output_type": "stream",
     "text": [
      "Starting epoch 22/64\n"
     ]
    },
    {
     "name": "stderr",
     "output_type": "stream",
     "text": [
      "100%|███████████████████████████████████████████████████████████████████████████████████████████████████████████████| 16/16 [00:02<00:00,  6.58it/s]\n"
     ]
    },
    {
     "name": "stdout",
     "output_type": "stream",
     "text": [
      "Starting validation epoch 22/64\n"
     ]
    },
    {
     "name": "stderr",
     "output_type": "stream",
     "text": [
      "100%|█████████████████████████████████████████████████████████████████████████████████████████████████████████████████| 5/5 [00:00<00:00,  8.64it/s]\n"
     ]
    },
    {
     "name": "stdout",
     "output_type": "stream",
     "text": [
      "Starting epoch 23/64\n"
     ]
    },
    {
     "name": "stderr",
     "output_type": "stream",
     "text": [
      "100%|███████████████████████████████████████████████████████████████████████████████████████████████████████████████| 16/16 [00:02<00:00,  7.09it/s]\n"
     ]
    },
    {
     "name": "stdout",
     "output_type": "stream",
     "text": [
      "Starting validation epoch 23/64\n"
     ]
    },
    {
     "name": "stderr",
     "output_type": "stream",
     "text": [
      "100%|█████████████████████████████████████████████████████████████████████████████████████████████████████████████████| 5/5 [00:00<00:00,  8.61it/s]\n"
     ]
    },
    {
     "name": "stdout",
     "output_type": "stream",
     "text": [
      "Starting epoch 24/64\n"
     ]
    },
    {
     "name": "stderr",
     "output_type": "stream",
     "text": [
      "100%|███████████████████████████████████████████████████████████████████████████████████████████████████████████████| 16/16 [00:02<00:00,  7.13it/s]\n"
     ]
    },
    {
     "name": "stdout",
     "output_type": "stream",
     "text": [
      "Starting validation epoch 24/64\n"
     ]
    },
    {
     "name": "stderr",
     "output_type": "stream",
     "text": [
      "100%|█████████████████████████████████████████████████████████████████████████████████████████████████████████████████| 5/5 [00:00<00:00,  8.95it/s]\n"
     ]
    },
    {
     "name": "stdout",
     "output_type": "stream",
     "text": [
      "Starting epoch 25/64\n"
     ]
    },
    {
     "name": "stderr",
     "output_type": "stream",
     "text": [
      "100%|███████████████████████████████████████████████████████████████████████████████████████████████████████████████| 16/16 [00:02<00:00,  7.28it/s]\n"
     ]
    },
    {
     "name": "stdout",
     "output_type": "stream",
     "text": [
      "Starting validation epoch 25/64\n"
     ]
    },
    {
     "name": "stderr",
     "output_type": "stream",
     "text": [
      "100%|█████████████████████████████████████████████████████████████████████████████████████████████████████████████████| 5/5 [00:00<00:00,  8.89it/s]\n"
     ]
    },
    {
     "name": "stdout",
     "output_type": "stream",
     "text": [
      "Starting epoch 26/64\n"
     ]
    },
    {
     "name": "stderr",
     "output_type": "stream",
     "text": [
      "100%|███████████████████████████████████████████████████████████████████████████████████████████████████████████████| 16/16 [00:02<00:00,  7.25it/s]\n"
     ]
    },
    {
     "name": "stdout",
     "output_type": "stream",
     "text": [
      "Starting validation epoch 26/64\n"
     ]
    },
    {
     "name": "stderr",
     "output_type": "stream",
     "text": [
      "100%|█████████████████████████████████████████████████████████████████████████████████████████████████████████████████| 5/5 [00:00<00:00,  8.85it/s]\n"
     ]
    },
    {
     "name": "stdout",
     "output_type": "stream",
     "text": [
      "Starting epoch 27/64\n"
     ]
    },
    {
     "name": "stderr",
     "output_type": "stream",
     "text": [
      "100%|███████████████████████████████████████████████████████████████████████████████████████████████████████████████| 16/16 [00:02<00:00,  7.27it/s]\n"
     ]
    },
    {
     "name": "stdout",
     "output_type": "stream",
     "text": [
      "Starting validation epoch 27/64\n"
     ]
    },
    {
     "name": "stderr",
     "output_type": "stream",
     "text": [
      "100%|█████████████████████████████████████████████████████████████████████████████████████████████████████████████████| 5/5 [00:00<00:00,  6.69it/s]\n"
     ]
    },
    {
     "name": "stdout",
     "output_type": "stream",
     "text": [
      "Starting epoch 28/64\n"
     ]
    },
    {
     "name": "stderr",
     "output_type": "stream",
     "text": [
      "100%|███████████████████████████████████████████████████████████████████████████████████████████████████████████████| 16/16 [00:02<00:00,  7.31it/s]\n"
     ]
    },
    {
     "name": "stdout",
     "output_type": "stream",
     "text": [
      "Starting validation epoch 28/64\n"
     ]
    },
    {
     "name": "stderr",
     "output_type": "stream",
     "text": [
      "100%|█████████████████████████████████████████████████████████████████████████████████████████████████████████████████| 5/5 [00:00<00:00,  8.89it/s]\n"
     ]
    },
    {
     "name": "stdout",
     "output_type": "stream",
     "text": [
      "Starting epoch 29/64\n"
     ]
    },
    {
     "name": "stderr",
     "output_type": "stream",
     "text": [
      "100%|███████████████████████████████████████████████████████████████████████████████████████████████████████████████| 16/16 [00:02<00:00,  7.29it/s]\n"
     ]
    },
    {
     "name": "stdout",
     "output_type": "stream",
     "text": [
      "Starting validation epoch 29/64\n"
     ]
    },
    {
     "name": "stderr",
     "output_type": "stream",
     "text": [
      "100%|█████████████████████████████████████████████████████████████████████████████████████████████████████████████████| 5/5 [00:00<00:00,  8.78it/s]\n"
     ]
    },
    {
     "name": "stdout",
     "output_type": "stream",
     "text": [
      "Starting epoch 30/64\n"
     ]
    },
    {
     "name": "stderr",
     "output_type": "stream",
     "text": [
      "100%|███████████████████████████████████████████████████████████████████████████████████████████████████████████████| 16/16 [00:02<00:00,  7.28it/s]\n"
     ]
    },
    {
     "name": "stdout",
     "output_type": "stream",
     "text": [
      "Starting validation epoch 30/64\n"
     ]
    },
    {
     "name": "stderr",
     "output_type": "stream",
     "text": [
      "100%|█████████████████████████████████████████████████████████████████████████████████████████████████████████████████| 5/5 [00:00<00:00,  8.90it/s]\n"
     ]
    },
    {
     "name": "stdout",
     "output_type": "stream",
     "text": [
      "Starting epoch 31/64\n"
     ]
    },
    {
     "name": "stderr",
     "output_type": "stream",
     "text": [
      "100%|███████████████████████████████████████████████████████████████████████████████████████████████████████████████| 16/16 [00:02<00:00,  7.28it/s]\n"
     ]
    },
    {
     "name": "stdout",
     "output_type": "stream",
     "text": [
      "Starting validation epoch 31/64\n"
     ]
    },
    {
     "name": "stderr",
     "output_type": "stream",
     "text": [
      "100%|█████████████████████████████████████████████████████████████████████████████████████████████████████████████████| 5/5 [00:00<00:00,  8.83it/s]\n"
     ]
    },
    {
     "name": "stdout",
     "output_type": "stream",
     "text": [
      "Starting epoch 32/64\n"
     ]
    },
    {
     "name": "stderr",
     "output_type": "stream",
     "text": [
      "100%|███████████████████████████████████████████████████████████████████████████████████████████████████████████████| 16/16 [00:02<00:00,  7.23it/s]\n"
     ]
    },
    {
     "name": "stdout",
     "output_type": "stream",
     "text": [
      "Starting validation epoch 32/64\n"
     ]
    },
    {
     "name": "stderr",
     "output_type": "stream",
     "text": [
      "100%|█████████████████████████████████████████████████████████████████████████████████████████████████████████████████| 5/5 [00:00<00:00,  8.84it/s]\n"
     ]
    },
    {
     "name": "stdout",
     "output_type": "stream",
     "text": [
      "Starting epoch 33/64\n"
     ]
    },
    {
     "name": "stderr",
     "output_type": "stream",
     "text": [
      "100%|███████████████████████████████████████████████████████████████████████████████████████████████████████████████| 16/16 [00:02<00:00,  6.69it/s]\n"
     ]
    },
    {
     "name": "stdout",
     "output_type": "stream",
     "text": [
      "Starting validation epoch 33/64\n"
     ]
    },
    {
     "name": "stderr",
     "output_type": "stream",
     "text": [
      "100%|█████████████████████████████████████████████████████████████████████████████████████████████████████████████████| 5/5 [00:00<00:00,  8.89it/s]\n"
     ]
    },
    {
     "name": "stdout",
     "output_type": "stream",
     "text": [
      "Starting epoch 34/64\n"
     ]
    },
    {
     "name": "stderr",
     "output_type": "stream",
     "text": [
      "100%|███████████████████████████████████████████████████████████████████████████████████████████████████████████████| 16/16 [00:02<00:00,  7.24it/s]\n"
     ]
    },
    {
     "name": "stdout",
     "output_type": "stream",
     "text": [
      "Starting validation epoch 34/64\n"
     ]
    },
    {
     "name": "stderr",
     "output_type": "stream",
     "text": [
      "100%|█████████████████████████████████████████████████████████████████████████████████████████████████████████████████| 5/5 [00:00<00:00,  8.83it/s]\n"
     ]
    },
    {
     "name": "stdout",
     "output_type": "stream",
     "text": [
      "Starting epoch 35/64\n"
     ]
    },
    {
     "name": "stderr",
     "output_type": "stream",
     "text": [
      "100%|███████████████████████████████████████████████████████████████████████████████████████████████████████████████| 16/16 [00:02<00:00,  7.21it/s]\n"
     ]
    },
    {
     "name": "stdout",
     "output_type": "stream",
     "text": [
      "Starting validation epoch 35/64\n"
     ]
    },
    {
     "name": "stderr",
     "output_type": "stream",
     "text": [
      "100%|█████████████████████████████████████████████████████████████████████████████████████████████████████████████████| 5/5 [00:00<00:00,  8.82it/s]\n"
     ]
    },
    {
     "name": "stdout",
     "output_type": "stream",
     "text": [
      "Starting epoch 36/64\n"
     ]
    },
    {
     "name": "stderr",
     "output_type": "stream",
     "text": [
      "100%|███████████████████████████████████████████████████████████████████████████████████████████████████████████████| 16/16 [00:02<00:00,  7.20it/s]\n"
     ]
    },
    {
     "name": "stdout",
     "output_type": "stream",
     "text": [
      "Starting validation epoch 36/64\n"
     ]
    },
    {
     "name": "stderr",
     "output_type": "stream",
     "text": [
      "100%|█████████████████████████████████████████████████████████████████████████████████████████████████████████████████| 5/5 [00:00<00:00,  8.84it/s]\n"
     ]
    },
    {
     "name": "stdout",
     "output_type": "stream",
     "text": [
      "Starting epoch 37/64\n"
     ]
    },
    {
     "name": "stderr",
     "output_type": "stream",
     "text": [
      "100%|███████████████████████████████████████████████████████████████████████████████████████████████████████████████| 16/16 [00:02<00:00,  7.46it/s]\n"
     ]
    },
    {
     "name": "stdout",
     "output_type": "stream",
     "text": [
      "Starting validation epoch 37/64\n"
     ]
    },
    {
     "name": "stderr",
     "output_type": "stream",
     "text": [
      "100%|█████████████████████████████████████████████████████████████████████████████████████████████████████████████████| 5/5 [00:00<00:00,  9.13it/s]\n"
     ]
    },
    {
     "name": "stdout",
     "output_type": "stream",
     "text": [
      "Starting epoch 38/64\n"
     ]
    },
    {
     "name": "stderr",
     "output_type": "stream",
     "text": [
      "100%|███████████████████████████████████████████████████████████████████████████████████████████████████████████████| 16/16 [00:02<00:00,  7.48it/s]\n"
     ]
    },
    {
     "name": "stdout",
     "output_type": "stream",
     "text": [
      "Starting validation epoch 38/64\n"
     ]
    },
    {
     "name": "stderr",
     "output_type": "stream",
     "text": [
      "100%|█████████████████████████████████████████████████████████████████████████████████████████████████████████████████| 5/5 [00:00<00:00,  9.11it/s]\n"
     ]
    },
    {
     "name": "stdout",
     "output_type": "stream",
     "text": [
      "Starting epoch 39/64\n"
     ]
    },
    {
     "name": "stderr",
     "output_type": "stream",
     "text": [
      "100%|███████████████████████████████████████████████████████████████████████████████████████████████████████████████| 16/16 [00:02<00:00,  6.89it/s]\n"
     ]
    },
    {
     "name": "stdout",
     "output_type": "stream",
     "text": [
      "Starting validation epoch 39/64\n"
     ]
    },
    {
     "name": "stderr",
     "output_type": "stream",
     "text": [
      "100%|█████████████████████████████████████████████████████████████████████████████████████████████████████████████████| 5/5 [00:00<00:00,  9.21it/s]\n"
     ]
    },
    {
     "name": "stdout",
     "output_type": "stream",
     "text": [
      "Starting epoch 40/64\n"
     ]
    },
    {
     "name": "stderr",
     "output_type": "stream",
     "text": [
      "100%|███████████████████████████████████████████████████████████████████████████████████████████████████████████████| 16/16 [00:02<00:00,  7.49it/s]\n"
     ]
    },
    {
     "name": "stdout",
     "output_type": "stream",
     "text": [
      "Starting validation epoch 40/64\n"
     ]
    },
    {
     "name": "stderr",
     "output_type": "stream",
     "text": [
      "100%|█████████████████████████████████████████████████████████████████████████████████████████████████████████████████| 5/5 [00:00<00:00,  9.16it/s]\n"
     ]
    },
    {
     "name": "stdout",
     "output_type": "stream",
     "text": [
      "Starting epoch 41/64\n"
     ]
    },
    {
     "name": "stderr",
     "output_type": "stream",
     "text": [
      "100%|███████████████████████████████████████████████████████████████████████████████████████████████████████████████| 16/16 [00:02<00:00,  7.49it/s]\n"
     ]
    },
    {
     "name": "stdout",
     "output_type": "stream",
     "text": [
      "Starting validation epoch 41/64\n"
     ]
    },
    {
     "name": "stderr",
     "output_type": "stream",
     "text": [
      "100%|█████████████████████████████████████████████████████████████████████████████████████████████████████████████████| 5/5 [00:00<00:00,  9.14it/s]\n"
     ]
    },
    {
     "name": "stdout",
     "output_type": "stream",
     "text": [
      "Starting epoch 42/64\n"
     ]
    },
    {
     "name": "stderr",
     "output_type": "stream",
     "text": [
      "100%|███████████████████████████████████████████████████████████████████████████████████████████████████████████████| 16/16 [00:02<00:00,  7.50it/s]\n"
     ]
    },
    {
     "name": "stdout",
     "output_type": "stream",
     "text": [
      "Starting validation epoch 42/64\n"
     ]
    },
    {
     "name": "stderr",
     "output_type": "stream",
     "text": [
      "100%|█████████████████████████████████████████████████████████████████████████████████████████████████████████████████| 5/5 [00:00<00:00,  9.27it/s]\n"
     ]
    },
    {
     "name": "stdout",
     "output_type": "stream",
     "text": [
      "Starting epoch 43/64\n"
     ]
    },
    {
     "name": "stderr",
     "output_type": "stream",
     "text": [
      "100%|███████████████████████████████████████████████████████████████████████████████████████████████████████████████| 16/16 [00:02<00:00,  7.48it/s]\n"
     ]
    },
    {
     "name": "stdout",
     "output_type": "stream",
     "text": [
      "Starting validation epoch 43/64\n"
     ]
    },
    {
     "name": "stderr",
     "output_type": "stream",
     "text": [
      "100%|█████████████████████████████████████████████████████████████████████████████████████████████████████████████████| 5/5 [00:00<00:00,  9.21it/s]\n"
     ]
    },
    {
     "name": "stdout",
     "output_type": "stream",
     "text": [
      "Starting epoch 44/64\n"
     ]
    },
    {
     "name": "stderr",
     "output_type": "stream",
     "text": [
      "100%|███████████████████████████████████████████████████████████████████████████████████████████████████████████████| 16/16 [00:02<00:00,  7.48it/s]\n"
     ]
    },
    {
     "name": "stdout",
     "output_type": "stream",
     "text": [
      "Starting validation epoch 44/64\n"
     ]
    },
    {
     "name": "stderr",
     "output_type": "stream",
     "text": [
      "100%|█████████████████████████████████████████████████████████████████████████████████████████████████████████████████| 5/5 [00:00<00:00,  9.25it/s]\n"
     ]
    },
    {
     "name": "stdout",
     "output_type": "stream",
     "text": [
      "Starting epoch 45/64\n"
     ]
    },
    {
     "name": "stderr",
     "output_type": "stream",
     "text": [
      "100%|███████████████████████████████████████████████████████████████████████████████████████████████████████████████| 16/16 [00:02<00:00,  6.80it/s]\n"
     ]
    },
    {
     "name": "stdout",
     "output_type": "stream",
     "text": [
      "Starting validation epoch 45/64\n"
     ]
    },
    {
     "name": "stderr",
     "output_type": "stream",
     "text": [
      "100%|█████████████████████████████████████████████████████████████████████████████████████████████████████████████████| 5/5 [00:00<00:00,  9.13it/s]\n"
     ]
    },
    {
     "name": "stdout",
     "output_type": "stream",
     "text": [
      "Starting epoch 46/64\n"
     ]
    },
    {
     "name": "stderr",
     "output_type": "stream",
     "text": [
      "100%|███████████████████████████████████████████████████████████████████████████████████████████████████████████████| 16/16 [00:02<00:00,  7.47it/s]\n"
     ]
    },
    {
     "name": "stdout",
     "output_type": "stream",
     "text": [
      "Starting validation epoch 46/64\n"
     ]
    },
    {
     "name": "stderr",
     "output_type": "stream",
     "text": [
      "100%|█████████████████████████████████████████████████████████████████████████████████████████████████████████████████| 5/5 [00:00<00:00,  9.21it/s]\n"
     ]
    },
    {
     "name": "stdout",
     "output_type": "stream",
     "text": [
      "Starting epoch 47/64\n"
     ]
    },
    {
     "name": "stderr",
     "output_type": "stream",
     "text": [
      "100%|███████████████████████████████████████████████████████████████████████████████████████████████████████████████| 16/16 [00:02<00:00,  7.40it/s]\n"
     ]
    },
    {
     "name": "stdout",
     "output_type": "stream",
     "text": [
      "Starting validation epoch 47/64\n"
     ]
    },
    {
     "name": "stderr",
     "output_type": "stream",
     "text": [
      "100%|█████████████████████████████████████████████████████████████████████████████████████████████████████████████████| 5/5 [00:00<00:00,  8.86it/s]\n"
     ]
    },
    {
     "name": "stdout",
     "output_type": "stream",
     "text": [
      "Starting epoch 48/64\n"
     ]
    },
    {
     "name": "stderr",
     "output_type": "stream",
     "text": [
      "100%|███████████████████████████████████████████████████████████████████████████████████████████████████████████████| 16/16 [00:02<00:00,  7.33it/s]\n"
     ]
    },
    {
     "name": "stdout",
     "output_type": "stream",
     "text": [
      "Starting validation epoch 48/64\n"
     ]
    },
    {
     "name": "stderr",
     "output_type": "stream",
     "text": [
      "100%|█████████████████████████████████████████████████████████████████████████████████████████████████████████████████| 5/5 [00:00<00:00,  9.16it/s]\n"
     ]
    },
    {
     "name": "stdout",
     "output_type": "stream",
     "text": [
      "Starting epoch 49/64\n"
     ]
    },
    {
     "name": "stderr",
     "output_type": "stream",
     "text": [
      "100%|███████████████████████████████████████████████████████████████████████████████████████████████████████████████| 16/16 [00:02<00:00,  7.47it/s]\n"
     ]
    },
    {
     "name": "stdout",
     "output_type": "stream",
     "text": [
      "Starting validation epoch 49/64\n"
     ]
    },
    {
     "name": "stderr",
     "output_type": "stream",
     "text": [
      "100%|█████████████████████████████████████████████████████████████████████████████████████████████████████████████████| 5/5 [00:00<00:00,  9.14it/s]\n"
     ]
    },
    {
     "name": "stdout",
     "output_type": "stream",
     "text": [
      "Starting epoch 50/64\n"
     ]
    },
    {
     "name": "stderr",
     "output_type": "stream",
     "text": [
      "100%|███████████████████████████████████████████████████████████████████████████████████████████████████████████████| 16/16 [00:02<00:00,  7.39it/s]\n"
     ]
    },
    {
     "name": "stdout",
     "output_type": "stream",
     "text": [
      "Starting validation epoch 50/64\n"
     ]
    },
    {
     "name": "stderr",
     "output_type": "stream",
     "text": [
      "100%|█████████████████████████████████████████████████████████████████████████████████████████████████████████████████| 5/5 [00:00<00:00,  9.15it/s]\n"
     ]
    },
    {
     "name": "stdout",
     "output_type": "stream",
     "text": [
      "Starting epoch 51/64\n"
     ]
    },
    {
     "name": "stderr",
     "output_type": "stream",
     "text": [
      "100%|███████████████████████████████████████████████████████████████████████████████████████████████████████████████| 16/16 [00:02<00:00,  6.90it/s]\n"
     ]
    },
    {
     "name": "stdout",
     "output_type": "stream",
     "text": [
      "Starting validation epoch 51/64\n"
     ]
    },
    {
     "name": "stderr",
     "output_type": "stream",
     "text": [
      "100%|█████████████████████████████████████████████████████████████████████████████████████████████████████████████████| 5/5 [00:00<00:00,  9.22it/s]\n"
     ]
    },
    {
     "name": "stdout",
     "output_type": "stream",
     "text": [
      "Starting epoch 52/64\n"
     ]
    },
    {
     "name": "stderr",
     "output_type": "stream",
     "text": [
      "100%|███████████████████████████████████████████████████████████████████████████████████████████████████████████████| 16/16 [00:02<00:00,  7.48it/s]\n"
     ]
    },
    {
     "name": "stdout",
     "output_type": "stream",
     "text": [
      "Starting validation epoch 52/64\n"
     ]
    },
    {
     "name": "stderr",
     "output_type": "stream",
     "text": [
      "100%|█████████████████████████████████████████████████████████████████████████████████████████████████████████████████| 5/5 [00:00<00:00,  9.18it/s]\n"
     ]
    },
    {
     "name": "stdout",
     "output_type": "stream",
     "text": [
      "Starting epoch 53/64\n"
     ]
    },
    {
     "name": "stderr",
     "output_type": "stream",
     "text": [
      "100%|███████████████████████████████████████████████████████████████████████████████████████████████████████████████| 16/16 [00:02<00:00,  7.47it/s]\n"
     ]
    },
    {
     "name": "stdout",
     "output_type": "stream",
     "text": [
      "Starting validation epoch 53/64\n"
     ]
    },
    {
     "name": "stderr",
     "output_type": "stream",
     "text": [
      "100%|█████████████████████████████████████████████████████████████████████████████████████████████████████████████████| 5/5 [00:00<00:00,  9.16it/s]\n"
     ]
    },
    {
     "name": "stdout",
     "output_type": "stream",
     "text": [
      "Starting epoch 54/64\n"
     ]
    },
    {
     "name": "stderr",
     "output_type": "stream",
     "text": [
      "100%|███████████████████████████████████████████████████████████████████████████████████████████████████████████████| 16/16 [00:02<00:00,  7.33it/s]\n"
     ]
    },
    {
     "name": "stdout",
     "output_type": "stream",
     "text": [
      "Starting validation epoch 54/64\n"
     ]
    },
    {
     "name": "stderr",
     "output_type": "stream",
     "text": [
      "100%|█████████████████████████████████████████████████████████████████████████████████████████████████████████████████| 5/5 [00:00<00:00,  9.02it/s]\n"
     ]
    },
    {
     "name": "stdout",
     "output_type": "stream",
     "text": [
      "Starting epoch 55/64\n"
     ]
    },
    {
     "name": "stderr",
     "output_type": "stream",
     "text": [
      "100%|███████████████████████████████████████████████████████████████████████████████████████████████████████████████| 16/16 [00:02<00:00,  7.25it/s]\n"
     ]
    },
    {
     "name": "stdout",
     "output_type": "stream",
     "text": [
      "Starting validation epoch 55/64\n"
     ]
    },
    {
     "name": "stderr",
     "output_type": "stream",
     "text": [
      "100%|█████████████████████████████████████████████████████████████████████████████████████████████████████████████████| 5/5 [00:00<00:00,  8.86it/s]\n"
     ]
    },
    {
     "name": "stdout",
     "output_type": "stream",
     "text": [
      "Starting epoch 56/64\n"
     ]
    },
    {
     "name": "stderr",
     "output_type": "stream",
     "text": [
      "100%|███████████████████████████████████████████████████████████████████████████████████████████████████████████████| 16/16 [00:02<00:00,  7.32it/s]\n"
     ]
    },
    {
     "name": "stdout",
     "output_type": "stream",
     "text": [
      "Starting validation epoch 56/64\n"
     ]
    },
    {
     "name": "stderr",
     "output_type": "stream",
     "text": [
      "100%|█████████████████████████████████████████████████████████████████████████████████████████████████████████████████| 5/5 [00:00<00:00,  6.69it/s]\n"
     ]
    },
    {
     "name": "stdout",
     "output_type": "stream",
     "text": [
      "Starting epoch 57/64\n"
     ]
    },
    {
     "name": "stderr",
     "output_type": "stream",
     "text": [
      "100%|███████████████████████████████████████████████████████████████████████████████████████████████████████████████| 16/16 [00:02<00:00,  7.24it/s]\n"
     ]
    },
    {
     "name": "stdout",
     "output_type": "stream",
     "text": [
      "Starting validation epoch 57/64\n"
     ]
    },
    {
     "name": "stderr",
     "output_type": "stream",
     "text": [
      "100%|█████████████████████████████████████████████████████████████████████████████████████████████████████████████████| 5/5 [00:00<00:00,  8.84it/s]\n"
     ]
    },
    {
     "name": "stdout",
     "output_type": "stream",
     "text": [
      "Starting epoch 58/64\n"
     ]
    },
    {
     "name": "stderr",
     "output_type": "stream",
     "text": [
      "100%|███████████████████████████████████████████████████████████████████████████████████████████████████████████████| 16/16 [00:02<00:00,  7.37it/s]\n"
     ]
    },
    {
     "name": "stdout",
     "output_type": "stream",
     "text": [
      "Starting validation epoch 58/64\n"
     ]
    },
    {
     "name": "stderr",
     "output_type": "stream",
     "text": [
      "100%|█████████████████████████████████████████████████████████████████████████████████████████████████████████████████| 5/5 [00:00<00:00,  8.88it/s]\n"
     ]
    },
    {
     "name": "stdout",
     "output_type": "stream",
     "text": [
      "Starting epoch 59/64\n"
     ]
    },
    {
     "name": "stderr",
     "output_type": "stream",
     "text": [
      "100%|███████████████████████████████████████████████████████████████████████████████████████████████████████████████| 16/16 [00:02<00:00,  7.36it/s]\n"
     ]
    },
    {
     "name": "stdout",
     "output_type": "stream",
     "text": [
      "Starting validation epoch 59/64\n"
     ]
    },
    {
     "name": "stderr",
     "output_type": "stream",
     "text": [
      "100%|█████████████████████████████████████████████████████████████████████████████████████████████████████████████████| 5/5 [00:00<00:00,  9.16it/s]\n"
     ]
    },
    {
     "name": "stdout",
     "output_type": "stream",
     "text": [
      "Starting epoch 60/64\n"
     ]
    },
    {
     "name": "stderr",
     "output_type": "stream",
     "text": [
      "100%|███████████████████████████████████████████████████████████████████████████████████████████████████████████████| 16/16 [00:02<00:00,  7.48it/s]\n"
     ]
    },
    {
     "name": "stdout",
     "output_type": "stream",
     "text": [
      "Starting validation epoch 60/64\n"
     ]
    },
    {
     "name": "stderr",
     "output_type": "stream",
     "text": [
      "100%|█████████████████████████████████████████████████████████████████████████████████████████████████████████████████| 5/5 [00:00<00:00,  9.18it/s]\n"
     ]
    },
    {
     "name": "stdout",
     "output_type": "stream",
     "text": [
      "Starting epoch 61/64\n"
     ]
    },
    {
     "name": "stderr",
     "output_type": "stream",
     "text": [
      "100%|███████████████████████████████████████████████████████████████████████████████████████████████████████████████| 16/16 [00:02<00:00,  7.23it/s]\n"
     ]
    },
    {
     "name": "stdout",
     "output_type": "stream",
     "text": [
      "Starting validation epoch 61/64\n"
     ]
    },
    {
     "name": "stderr",
     "output_type": "stream",
     "text": [
      "100%|█████████████████████████████████████████████████████████████████████████████████████████████████████████████████| 5/5 [00:00<00:00,  8.84it/s]\n"
     ]
    },
    {
     "name": "stdout",
     "output_type": "stream",
     "text": [
      "Starting epoch 62/64\n"
     ]
    },
    {
     "name": "stderr",
     "output_type": "stream",
     "text": [
      "100%|███████████████████████████████████████████████████████████████████████████████████████████████████████████████| 16/16 [00:02<00:00,  6.73it/s]\n"
     ]
    },
    {
     "name": "stdout",
     "output_type": "stream",
     "text": [
      "Starting validation epoch 62/64\n"
     ]
    },
    {
     "name": "stderr",
     "output_type": "stream",
     "text": [
      "100%|█████████████████████████████████████████████████████████████████████████████████████████████████████████████████| 5/5 [00:00<00:00,  8.86it/s]\n"
     ]
    },
    {
     "name": "stdout",
     "output_type": "stream",
     "text": [
      "Starting epoch 63/64\n"
     ]
    },
    {
     "name": "stderr",
     "output_type": "stream",
     "text": [
      "100%|███████████████████████████████████████████████████████████████████████████████████████████████████████████████| 16/16 [00:02<00:00,  7.21it/s]\n"
     ]
    },
    {
     "name": "stdout",
     "output_type": "stream",
     "text": [
      "Starting validation epoch 63/64\n"
     ]
    },
    {
     "name": "stderr",
     "output_type": "stream",
     "text": [
      "100%|█████████████████████████████████████████████████████████████████████████████████████████████████████████████████| 5/5 [00:00<00:00,  8.84it/s]\n"
     ]
    },
    {
     "name": "stdout",
     "output_type": "stream",
     "text": [
      "Starting epoch 64/64\n"
     ]
    },
    {
     "name": "stderr",
     "output_type": "stream",
     "text": [
      "100%|███████████████████████████████████████████████████████████████████████████████████████████████████████████████| 16/16 [00:02<00:00,  7.23it/s]\n"
     ]
    },
    {
     "name": "stdout",
     "output_type": "stream",
     "text": [
      "Starting validation epoch 64/64\n"
     ]
    },
    {
     "name": "stderr",
     "output_type": "stream",
     "text": [
      "100%|█████████████████████████████████████████████████████████████████████████████████████████████████████████████████| 5/5 [00:00<00:00,  8.84it/s]\n"
     ]
    }
   ],
   "source": [
    "path = os.path.join('../experiments/contextual/', f'{model_id}_{corpus}_{task}_{datetime.now()}.ckpt')\n",
    "\n",
    "# Set model in training mode\n",
    "model.train()\n",
    "\n",
    "# Accumulator of loss\n",
    "history = []\n",
    "validation_history = []\n",
    "best_validation_loss = torch.tensor(float('inf'), device=device)\n",
    "\n",
    "# scheduler = torch.optim.lr_scheduler.OneCycleLR(optimizer, lr, steps_per_epoch=len(data_loader['train']), epochs=n_epochs, anneal_strategy='linear', pct_start=0.05)\n",
    "\n",
    "# Iterate over epochs\n",
    "for i in range(n_epochs):\n",
    "    print(f\"Starting epoch {i + 1}/{n_epochs}\")\n",
    "    # Iterate over training batches\n",
    "    for embeds, weights, lbl in tqdm(data_loader['train']):\n",
    "        # Zero your gradients for every batch!\n",
    "        optimizer.zero_grad()\n",
    "        # Move input and output to target device\n",
    "        embeds = embeds.to(device)\n",
    "        weights = weights.to(device)\n",
    "        lbl = lbl.to(device)\n",
    "        # Compute logits (i.e., softmax values before exponential normalisation)\n",
    "        logits = model(embeds, weights)\n",
    "        # Flatten logits to a shape (batch_size * max_sentence_len, n_classes)\n",
    "        logits = logits.reshape(-1, len(le[task].classes_))\n",
    "        # Flatten targets to a shape (batch_size * max_sentence_len)\n",
    "        lbl = lbl.reshape(-1)\n",
    "        # Compute loss\n",
    "        loss = F.cross_entropy(logits, lbl)\n",
    "        # Compute gradients\n",
    "        loss.backward()\n",
    "        # Update weights\n",
    "        torch.nn.utils.clip_grad_norm_(model.parameters(), 1.0)\n",
    "        optimizer.step()\n",
    "        # scheduler.step()\n",
    "        # Save loss\n",
    "        history.append(loss)\n",
    "    # Disable gradients\n",
    "    with torch.no_grad():\n",
    "        print(f\"Starting validation epoch {i + 1}/{n_epochs}\")\n",
    "        # Set in evaluation mode\n",
    "        model.eval()\n",
    "        # Init validation loss accumulator\n",
    "        loss = []\n",
    "        # Iterate over validation batches\n",
    "        for embeds, weights, lbl in tqdm(data_loader['validation']):\n",
    "            # Move input and output to target device\n",
    "            embeds = embeds.to(device)\n",
    "            weights = weights.to(device)\n",
    "            lbl = lbl.to(device)\n",
    "            # Compute logits (i.e., softmax values before exponential normalisation)\n",
    "            logits = model(embeds, weights)\n",
    "            # Flatten logits to a shape (batch_size * max_sentence_len, n_classes)\n",
    "            logits = logits.reshape(-1, len(le[task].classes_))\n",
    "            # Flatten targets to a shape (batch_size * max_sentence_len)\n",
    "            lbl = lbl.reshape(-1)\n",
    "            # Compute loss\n",
    "            loss.append(F.cross_entropy(logits, lbl))\n",
    "        # Aggregate validation loss\n",
    "        validation_history.append(torch.tensor(loss, device=device).mean())\n",
    "        # Check if validation loss has improved\n",
    "        if validation_history[-1] <= best_validation_loss:\n",
    "            torch.save(model.state_dict(), path)\n",
    "            best_validation_loss = validation_history[-1]\n",
    "        # Restore training mode\n",
    "        model.train()\n",
    "        \n",
    "# Restore best weights\n",
    "if os.path.exists(path):\n",
    "    model.load_state_dict(torch.load(path))\n",
    "\n",
    "history = [loss.cpu().item() for loss in history]\n",
    "validation_history = [loss.cpu().item() for loss in validation_history]"
   ]
  },
  {
   "cell_type": "code",
   "execution_count": 71,
   "metadata": {
    "collapsed": false,
    "jupyter": {
     "outputs_hidden": false
    }
   },
   "outputs": [
    {
     "data": {
      "image/png": "[encoded data removed]",
      "text/plain": [
       "<Figure size 640x480 with 1 Axes>"
      ]
     },
     "metadata": {},
     "output_type": "display_data"
    }
   ],
   "source": [
    "plt.figure()\n",
    "plt.plot(range(len(history)), history, label='Training loss')\n",
    "plt.plot(range(len(data_loader['train']) - 1, len(history), len(data_loader['train'])), validation_history, label='Validation loss')\n",
    "plt.legend(loc='best')\n",
    "plt.xlabel('Update step')\n",
    "plt.ylabel('Loss')\n",
    "plt.xlim([0.0, len(history)])\n",
    "plt.ylim([0.0, 4.0])\n",
    "plt.grid()"
   ]
  },
  {
   "cell_type": "markdown",
   "metadata": {
    "collapsed": false,
    "jupyter": {
     "outputs_hidden": false
    }
   },
   "source": [
    "##### Evaluation"
   ]
  },
  {
   "cell_type": "code",
   "execution_count": 72,
   "metadata": {
    "collapsed": false,
    "jupyter": {
     "outputs_hidden": false
    }
   },
   "outputs": [
    {
     "data": {
      "text/plain": [
       "SequenceClassification(\n",
       "  (norm): LayerNorm((512,), eps=1e-05, elementwise_affine=True)\n",
       "  (conv1d): Conv1d(300, 512, kernel_size=(5,), stride=(1,), padding=same)\n",
       "  (dropout): Dropout(p=0.1, inplace=False)\n",
       "  (out_head): Linear(in_features=512, out_features=2, bias=True)\n",
       "  (out_norm): LayerNorm((512,), eps=1e-05, elementwise_affine=True)\n",
       "  (pool): AttentionAvgPooling(\n",
       "    (qkv_attn): Conv1D()\n",
       "    (dropout): Dropout(p=0.1, inplace=False)\n",
       "  )\n",
       ")"
      ]
     },
     "execution_count": 72,
     "metadata": {},
     "output_type": "execute_result"
    }
   ],
   "source": [
    "# Set model in evaluation mode\n",
    "model.eval()"
   ]
  },
  {
   "cell_type": "markdown",
   "metadata": {
    "collapsed": false,
    "jupyter": {
     "outputs_hidden": false
    }
   },
   "source": [
    "Validation set"
   ]
  },
  {
   "cell_type": "code",
   "execution_count": 73,
   "metadata": {
    "collapsed": false,
    "is_executing": true,
    "jupyter": {
     "outputs_hidden": false
    }
   },
   "outputs": [
    {
     "name": "stderr",
     "output_type": "stream",
     "text": [
      "100%|█████████████████████████████████████████████████████████████████████████████████████████████████████████████████| 5/5 [00:00<00:00,  8.64it/s]"
     ]
    },
    {
     "name": "stdout",
     "output_type": "stream",
     "text": [
      "\n",
      "              precision    recall  f1-score   support\n",
      "\n",
      "    negative       0.67      0.66      0.66      1049\n",
      "    positive       0.67      0.68      0.67      1076\n",
      "\n",
      "    accuracy                           0.67      2125\n",
      "   macro avg       0.67      0.67      0.67      2125\n",
      "weighted avg       0.67      0.67      0.67      2125\n",
      "\n"
     ]
    },
    {
     "name": "stderr",
     "output_type": "stream",
     "text": [
      "\n"
     ]
    }
   ],
   "source": [
    "#\n",
    "split = 'validation'\n",
    "\n",
    "# Accumulators for target labels and predictions\n",
    "y_true = []\n",
    "y_pred = []\n",
    "y_proba = []\n",
    "\n",
    "# Disable gradients\n",
    "with torch.no_grad():\n",
    "    # Iterate over validation batches\n",
    "    for embeds, weights, lbl in tqdm(data_loader[split]):\n",
    "        # Move input and output to target device\n",
    "        embeds = embeds.to(device)\n",
    "        weights = weights.to(device)\n",
    "        # Compute logits (i.e., softmax values before exponential normalisation)\n",
    "        logits = model(embeds, weights)\n",
    "        # Get predictions as the index corresponding to the highest logit score\n",
    "        pred_lbl = torch.argmax(logits, dim=-1)\n",
    "        # Append predicted proba\n",
    "        y_proba.append(logits.view(-1, len(le[task].classes_)).cpu().numpy())\n",
    "        # Append predicted labels\n",
    "        y_pred.append(pred_lbl.view(-1).cpu().numpy())\n",
    "        # Append target labels\n",
    "        y_true.append(lbl.view(-1).cpu().numpy())\n",
    "\n",
    "# Concatenate all the vectors of target labels and predicted labels\n",
    "y_true = np.concatenate(y_true)\n",
    "y_pred = np.concatenate(y_pred)\n",
    "y_proba = np.concatenate(y_proba, axis=0)\n",
    "# Remove elements to ignore (the -100 labels)\n",
    "mask = y_true == -100\n",
    "y_true = y_true[~mask]\n",
    "y_pred = y_pred[~mask]\n",
    "y_proba = y_proba[~mask]\n",
    "\n",
    "labels = np.unique(y_true)\n",
    "mapping = np.zeros(len(le[task].classes_), dtype=int)\n",
    "mapping[labels] = np.arange(len(labels))\n",
    "\n",
    "y_true = mapping[y_true]\n",
    "y_pred = mapping[y_pred]\n",
    "y_proba = softmax(y_proba[:, labels], axis=1)[:, 1]\n",
    "\n",
    "ids, counts = np.unique(y_true, return_counts=True)\n",
    "weights = counts / np.sum(counts)\n",
    "\n",
    "# \n",
    "accuracy = accuracy_score(y_true, y_pred)\n",
    "precision_m, recall_m, fscore_m, support_m = precision_recall_fscore_support(y_true, y_pred, average='macro')\n",
    "auc_m = roc_auc_score(y_true, y_proba, multi_class='ovr', average='macro')\n",
    "precision_w, recall_w, fscore_w, support_w = precision_recall_fscore_support(y_true, y_pred, average='weighted')\n",
    "auc_w = roc_auc_score(y_true, y_proba, multi_class='ovr', average='weighted')\n",
    "accuracy_sw = accuracy_score(y_true, y_pred, sample_weight=weights[y_true])\n",
    "precision_sw, recall_sw, fscore_sw, support_sw = precision_recall_fscore_support(y_true, y_pred, average='weighted', sample_weight=weights[y_true])\n",
    "auc_sw = roc_auc_score(y_true, y_proba, multi_class='ovr', average='weighted', sample_weight=weights[y_true])\n",
    "results.extend([\n",
    "    {\n",
    "        'corpus': corpus,\n",
    "        'task': task,\n",
    "        'embeddings': model_id,\n",
    "        'split': split,\n",
    "        'timestamp': timestamp,\n",
    "        'metric': metric,\n",
    "        'value': value\n",
    "    }\n",
    "    for metric, value in zip(\n",
    "        CLS_METRICS, [\n",
    "            accuracy, precision_m, recall_m, fscore_m, auc_m, \n",
    "            precision_w, recall_w, fscore_w, auc_w,\n",
    "            accuracy_sw, precision_sw, recall_sw, fscore_sw, auc_sw\n",
    "        ]\n",
    "    )\n",
    "])\n",
    "# Finally compute classification report\n",
    "print()\n",
    "print(classification_report(y_true, y_pred, target_names=le[task].classes_[labels]))"
   ]
  },
  {
   "cell_type": "markdown",
   "metadata": {
    "collapsed": false,
    "jupyter": {
     "outputs_hidden": false
    }
   },
   "source": [
    "Test set"
   ]
  },
  {
   "cell_type": "code",
   "execution_count": 74,
   "metadata": {
    "collapsed": false,
    "jupyter": {
     "outputs_hidden": false
    }
   },
   "outputs": [
    {
     "name": "stderr",
     "output_type": "stream",
     "text": [
      "100%|█████████████████████████████████████████████████████████████████████████████████████████████████████████████████| 3/3 [00:00<00:00, 10.46it/s]"
     ]
    },
    {
     "name": "stdout",
     "output_type": "stream",
     "text": [
      "\n",
      "              precision    recall  f1-score   support\n",
      "\n",
      "    negative       0.68      0.67      0.68       512\n",
      "    positive       0.69      0.70      0.69       532\n",
      "\n",
      "    accuracy                           0.68      1044\n",
      "   macro avg       0.68      0.68      0.68      1044\n",
      "weighted avg       0.68      0.68      0.68      1044\n",
      "\n"
     ]
    },
    {
     "name": "stderr",
     "output_type": "stream",
     "text": [
      "\n"
     ]
    }
   ],
   "source": [
    "#\n",
    "split = 'test'\n",
    "\n",
    "# Accumulators for target labels and predictions\n",
    "y_true = []\n",
    "y_pred = []\n",
    "y_proba = []\n",
    "\n",
    "# Disable gradients\n",
    "with torch.no_grad():\n",
    "    # Iterate over validation batches\n",
    "    for embeds, weights, lbl in tqdm(data_loader[split]):\n",
    "        # Move input and output to target device\n",
    "        embeds = embeds.to(device)\n",
    "        weights = weights.to(device)\n",
    "        # Compute logits (i.e., softmax values before exponential normalisation)\n",
    "        logits = model(embeds, weights)\n",
    "        # Get predictions as the index corresponding to the highest logit score\n",
    "        pred_lbl = torch.argmax(logits, dim=-1)\n",
    "        # Append predicted proba\n",
    "        y_proba.append(logits.view(-1, len(le[task].classes_)).cpu().numpy())\n",
    "        # Append predicted labels\n",
    "        y_pred.append(pred_lbl.view(-1).cpu().numpy())\n",
    "        # Append target labels\n",
    "        y_true.append(lbl.view(-1).cpu().numpy())\n",
    "\n",
    "# Concatenate all the vectors of target labels and predicted labels\n",
    "y_true = np.concatenate(y_true)\n",
    "y_pred = np.concatenate(y_pred)\n",
    "y_proba = np.concatenate(y_proba, axis=0)\n",
    "# Remove elements to ignore (the -100 labels)\n",
    "mask = y_true == -100\n",
    "y_true = y_true[~mask]\n",
    "y_pred = y_pred[~mask]\n",
    "y_proba = y_proba[~mask]\n",
    "\n",
    "labels = np.unique(y_true)\n",
    "mapping = np.zeros(len(le[task].classes_), dtype=int)\n",
    "mapping[labels] = np.arange(len(labels))\n",
    "\n",
    "y_true = mapping[y_true]\n",
    "y_pred = mapping[y_pred]\n",
    "y_proba = softmax(y_proba[:, labels], axis=1)[:, 1]\n",
    "\n",
    "ids, counts = np.unique(y_true, return_counts=True)\n",
    "weights = counts / np.sum(counts)\n",
    "\n",
    "# \n",
    "accuracy = accuracy_score(y_true, y_pred)\n",
    "precision_m, recall_m, fscore_m, support_m = precision_recall_fscore_support(y_true, y_pred, average='macro')\n",
    "auc_m = roc_auc_score(y_true, y_proba, multi_class='ovr', average='macro')\n",
    "precision_w, recall_w, fscore_w, support_w = precision_recall_fscore_support(y_true, y_pred, average='weighted')\n",
    "auc_w = roc_auc_score(y_true, y_proba, multi_class='ovr', average='weighted')\n",
    "accuracy_sw = accuracy_score(y_true, y_pred, sample_weight=weights[y_true])\n",
    "precision_sw, recall_sw, fscore_sw, support_sw = precision_recall_fscore_support(y_true, y_pred, average='weighted', sample_weight=weights[y_true])\n",
    "auc_sw = roc_auc_score(y_true, y_proba, multi_class='ovr', average='weighted', sample_weight=weights[y_true])\n",
    "results.extend([\n",
    "    {\n",
    "        'corpus': corpus,\n",
    "        'task': task,\n",
    "        'embeddings': model_id,\n",
    "        'split': split,\n",
    "        'timestamp': timestamp,\n",
    "        'metric': metric,\n",
    "        'value': value\n",
    "    }\n",
    "    for metric, value in zip(\n",
    "        CLS_METRICS, [\n",
    "            accuracy, precision_m, recall_m, fscore_m, auc_m, \n",
    "            precision_w, recall_w, fscore_w, auc_w,\n",
    "            accuracy_sw, precision_sw, recall_sw, fscore_sw, auc_sw\n",
    "        ]\n",
    "    )\n",
    "])\n",
    "# Finally compute classification report\n",
    "print()\n",
    "print(classification_report(y_true, y_pred, target_names=le[task].classes_[labels]))"
   ]
  },
  {
   "cell_type": "markdown",
   "metadata": {
    "collapsed": false,
    "jupyter": {
     "outputs_hidden": false
    }
   },
   "source": [
    "### STS"
   ]
  },
  {
   "cell_type": "code",
   "execution_count": 75,
   "metadata": {
    "collapsed": false,
    "jupyter": {
     "outputs_hidden": false
    }
   },
   "outputs": [],
   "source": [
    "corpus = 'STS'"
   ]
  },
  {
   "cell_type": "code",
   "execution_count": 76,
   "metadata": {
    "collapsed": false,
    "jupyter": {
     "outputs_hidden": false
    }
   },
   "outputs": [
    {
     "data": {
      "text/plain": [
       "[{'similarity_score': 5.0,\n",
       "  'sequence_a': 'A plane is taking off.',\n",
       "  'sequence_b': 'An air plane is taking off.'},\n",
       " {'similarity_score': 3.8,\n",
       "  'sequence_a': 'A man is playing a large flute.',\n",
       "  'sequence_b': 'A man is playing a flute.'},\n",
       " {'similarity_score': 3.8,\n",
       "  'sequence_a': 'A man is spreading shreded cheese on a pizza.',\n",
       "  'sequence_b': 'A man is spreading shredded cheese on an uncooked pizza.'}]"
      ]
     },
     "execution_count": 76,
     "metadata": {},
     "output_type": "execute_result"
    }
   ],
   "source": [
    "sts['train']._data[:3]"
   ]
  },
  {
   "cell_type": "code",
   "execution_count": 77,
   "metadata": {
    "collapsed": false,
    "jupyter": {
     "outputs_hidden": false
    }
   },
   "outputs": [],
   "source": [
    "embeddings_model.fit_sif_embedding([sample[key] for sample in sts['train'] for key in ['sequence_a', 'sequence_b']])"
   ]
  },
  {
   "cell_type": "code",
   "execution_count": 78,
   "metadata": {
    "collapsed": false,
    "jupyter": {
     "outputs_hidden": false
    }
   },
   "outputs": [],
   "source": [
    "from typing import Tuple, List, Set\n",
    "\n",
    "class Conv1D(nn.Module):\n",
    "    \"\"\"\n",
    "    1D-convolutional layer as defined by Radford et al. for OpenAI GPT (and also used in GPT-2).\n",
    "    Basically works like a linear layer but the weights are transposed.\n",
    "    Args:\n",
    "        nf (:obj:`int`): The number of output features.\n",
    "        nx (:obj:`int`): The number of input features.\n",
    "\n",
    "    Thanks to Hugging Face for the implementation\n",
    "    \"\"\"\n",
    "\n",
    "    def __init__(self, nf, nx):\n",
    "        super().__init__()\n",
    "        self.nf = nf\n",
    "        w = torch.empty(nx, nf)\n",
    "        nn.init.normal_(w, std=0.02)\n",
    "        self.weight = nn.Parameter(w)\n",
    "        self.bias = nn.Parameter(torch.zeros(nf))\n",
    "\n",
    "    def forward(self, x):\n",
    "        size_out = x.size()[:-1] + (self.nf,)\n",
    "        x = torch.addmm(self.bias, x.view(-1, x.size(-1)), self.weight)\n",
    "        x = x.view(*size_out)\n",
    "        return x\n",
    "\n",
    "\n",
    "def find_pruneable_heads_and_indices(heads: List[int],\n",
    "                                     n_heads: int,\n",
    "                                     head_size: int,\n",
    "                                     already_pruned_heads: Set[int]) -> Tuple[Set[int], torch.LongTensor]:\n",
    "    \"\"\"\n",
    "    Finds the heads and their indices taking :obj:`already_pruned_heads` into account.\n",
    "    Args:\n",
    "        heads (:obj:`List[int]`): List of the indices of heads to prune.\n",
    "        n_heads (:obj:`int`): The number of heads in the model.\n",
    "        head_size (:obj:`int`): The size of each head.\n",
    "        already_pruned_heads (:obj:`Set[int]`): A set of already pruned heads.\n",
    "    Returns:\n",
    "        :obj:`Tuple[Set[int], torch.LongTensor]`: A tuple with the remaining heads and their corresponding indices.\n",
    "\n",
    "\n",
    "    Thanks to Hugging Face for the implementation\n",
    "    \"\"\"\n",
    "    mask = torch.ones(n_heads, head_size)\n",
    "    heads = set(heads) - already_pruned_heads  # Convert to set and remove already pruned heads\n",
    "    for head in heads:\n",
    "        # Compute how many pruned heads are before the head and move the index accordingly\n",
    "        head = head - sum(1 if h < head else 0 for h in already_pruned_heads)\n",
    "        mask[head] = 0\n",
    "    mask = mask.view(-1).contiguous().eq(1)\n",
    "    index: torch.LongTensor = torch.arange(len(mask))[mask].long()\n",
    "    return heads, index\n",
    "\n",
    "\n",
    "def prune_conv1d_layer(layer: Conv1D, index: torch.LongTensor, dim: int = 1) -> Conv1D:\n",
    "    \"\"\"\n",
    "    Prune a Conv1D layer to keep only entries in index. A Conv1D work as a Linear layer (see e.g. BERT) but the weights\n",
    "    are transposed.\n",
    "    Used to remove heads.\n",
    "    Args:\n",
    "        layer (:class:`~transformers.modeling_utils.Conv1D`): The layer to prune.\n",
    "        index (:obj:`torch.LongTensor`): The indices to keep in the layer.\n",
    "        dim (:obj:`int`, `optional`, defaults to 1): The dimension on which to keep the indices.\n",
    "    Returns:\n",
    "        :class:`~transformers.modeling_utils.Conv1D`: The pruned layer as a new layer with :obj:`requires_grad=True`.\n",
    "\n",
    "    Thanks to Hugging Face for the implementation\n",
    "    \"\"\"\n",
    "    index = index.to(layer.weight.device)\n",
    "    W = layer.weight.index_select(dim, index).clone().detach()\n",
    "    if dim == 0:\n",
    "        b = layer.bias.clone().detach()\n",
    "    else:\n",
    "        b = layer.bias[index].clone().detach()\n",
    "    new_size = list(layer.weight.size())\n",
    "    new_size[dim] = len(index)\n",
    "    new_layer = Conv1D(new_size[1], new_size[0]).to(layer.weight.device)\n",
    "    new_layer.weight.requires_grad = False\n",
    "    new_layer.weight.copy_(W.contiguous())\n",
    "    new_layer.weight.requires_grad = True\n",
    "    new_layer.bias.requires_grad = False\n",
    "    new_layer.bias.copy_(b.contiguous())\n",
    "    new_layer.bias.requires_grad = True\n",
    "    return new_layer\n",
    "\n",
    "\n",
    "class AttentionAvgPooling(nn.Module):\n",
    "    def __init__(self,\n",
    "                 n_hidden: int = 512,\n",
    "                 n_heads: int = 8,\n",
    "                 max_positions: int = 1024,\n",
    "                 p_dropout: float = 0.1,\n",
    "                 scale_attn_weights: bool = True):\n",
    "        super().__init__()\n",
    "\n",
    "        self.embed_dim = n_hidden\n",
    "        self.num_heads = n_heads\n",
    "        self.head_dim = self.embed_dim // self.num_heads\n",
    "        self.split_size = self.embed_dim\n",
    "        assert self.head_dim * self.num_heads == self.embed_dim, f\"`embed_dim` must be divisible by num_heads \" \\\n",
    "                                                                 f\"(got `embed_dim`: {self.embed_dim} and \" \\\n",
    "                                                                 f\"`num_heads`: {self.num_heads}).\"\n",
    "\n",
    "        self.scale_attn_weights = scale_attn_weights\n",
    "\n",
    "        self.qkv_attn = Conv1D(3 * self.embed_dim, self.embed_dim)\n",
    "\n",
    "        self.dropout = nn.Dropout(p_dropout)\n",
    "\n",
    "        self.pruned_heads = set()\n",
    "\n",
    "    def prune_heads(self, heads):\n",
    "        if len(heads) == 0:\n",
    "            return\n",
    "        heads, index = find_pruneable_heads_and_indices(heads, self.num_heads, self.head_dim, self.pruned_heads)\n",
    "        index_attn = torch.cat([index, index + self.split_size, index + (2 * self.split_size)])\n",
    "\n",
    "        # Prune conv1d layers\n",
    "        self.qkv_attn = prune_conv1d_layer(self.qkv_attn, index_attn, dim=1)\n",
    "\n",
    "        # Update hyper params\n",
    "        self.split_size = (self.split_size // self.num_heads) * (self.num_heads - len(heads))\n",
    "        self.num_heads = self.num_heads - len(heads)\n",
    "        self.pruned_heads = self.pruned_heads.union(heads)\n",
    "\n",
    "    def _attn(self, query, key, value, attention_mask=None):\n",
    "        attn_weights = torch.matmul(query, key.transpose(-1, -2))\n",
    "        attn_weights = attn_weights / (float(value.size(-1)) ** 0.5)\n",
    "\n",
    "        if attention_mask is not None:\n",
    "            # Apply the attention mask\n",
    "            attn_weights = attn_weights + attention_mask\n",
    "\n",
    "        attn_weights = nn.Softmax(dim=-1)(attn_weights)\n",
    "        attn_weights = self.dropout(attn_weights)\n",
    "\n",
    "        attn_output = torch.matmul(attn_weights, value)\n",
    "\n",
    "        return attn_output, attn_weights\n",
    "\n",
    "    @staticmethod\n",
    "    def _split_heads(tensor, num_heads, attn_head_size):\n",
    "        new_shape = tensor.size()[:-1] + (num_heads, attn_head_size)\n",
    "        tensor = tensor.view(*new_shape)\n",
    "        return tensor.permute(0, 2, 1, 3)  # (batch, head, seq_length, head_features)\n",
    "\n",
    "    @staticmethod\n",
    "    def _merge_heads(tensor, num_heads, attn_head_size):\n",
    "        tensor = tensor.permute(0, 2, 1, 3).contiguous()\n",
    "        new_shape = tensor.size()[:-2] + (num_heads * attn_head_size,)\n",
    "        return tensor.view(new_shape)\n",
    "\n",
    "    def forward(self,\n",
    "                hidden_states,\n",
    "                attention_mask=None,\n",
    "                return_attention_weights=False):\n",
    "\n",
    "        query, key, value = self.qkv_attn(hidden_states).split(self.split_size, dim=2)\n",
    "\n",
    "        # Query is averaged to obtain pooling\n",
    "        query = self._split_heads(query, self.num_heads, self.head_dim).mean(-2, keepdims=True)\n",
    "        key = self._split_heads(key, self.num_heads, self.head_dim)\n",
    "        value = self._split_heads(value, self.num_heads, self.head_dim)\n",
    "\n",
    "        if attention_mask is not None:\n",
    "            attention_mask = (1.0 - attention_mask) * -1e+6\n",
    "            attention_mask = attention_mask[:, None, None, :]\n",
    "\n",
    "        attn_output, attn_weights = self._attn(query, key, value, attention_mask)\n",
    "\n",
    "        attn_output = self._merge_heads(attn_output, self.num_heads, self.head_dim)\n",
    "\n",
    "        if not return_attention_weights:\n",
    "            return attn_output  # attention\n",
    "        else:\n",
    "            attn_weights = self._merge_heads(attn_weights, self.num_heads, self.head_dim)\n",
    "            return attn_output, attn_weights\n",
    "\n",
    "\n",
    "# class GPT2Attention(nn.Module):\n",
    "# https://github.com/huggingface/transformers/blob/master/src/transformers/models/gpt2/modeling_gpt2.py\n",
    "\n",
    "\n",
    "class SequenceEmbedding(nn.Module):\n",
    "    def __init__(self, input_size, hidden_size: int = 512, kernel_size: int = 5):\n",
    "        super().__init__()\n",
    "        self.norm = nn.LayerNorm(input_size)\n",
    "        self.conv1d = nn.Conv1d(input_size, hidden_size, kernel_size, padding='same')\n",
    "        self.dropout = nn.Dropout(0.1)\n",
    "        self.out_head = nn.Linear(hidden_size, hidden_size)\n",
    "        ##\n",
    "        self.norm = nn.LayerNorm(hidden_size)\n",
    "        self.out_norm = nn.LayerNorm(hidden_size)\n",
    "        self.pool = AttentionAvgPooling()\n",
    "        \n",
    "    def forward(self, x, w):\n",
    "        # \n",
    "        x = self.dropout(x)\n",
    "        #\n",
    "        h = self.conv1d(x.transpose(-1, -2)).transpose(-1, -2)  # self.norm(x).transpose(-1, -2)\n",
    "        ##\n",
    "        h = self.norm(h)\n",
    "        # Non-linear activation\n",
    "        h = F.gelu(h)\n",
    "        \n",
    "        # Dropout\n",
    "        h = self.dropout(h)\n",
    "        # Weighted sum\n",
    "        # h = torch.einsum('btd,bt->bd', h, w)\n",
    "        # Apply last linear projection\n",
    "        # h = self.out_head(h)\n",
    "        ##\n",
    "        h = self.pool(h, w)\n",
    "        h = self.out_norm(h)\n",
    "\n",
    "        return h"
   ]
  },
  {
   "cell_type": "code",
   "execution_count": 79,
   "metadata": {
    "collapsed": false,
    "jupyter": {
     "outputs_hidden": false
    }
   },
   "outputs": [
    {
     "data": {
      "text/plain": [
       "{'similarity_score': MinMaxScaler()}"
      ]
     },
     "execution_count": 79,
     "metadata": {},
     "output_type": "execute_result"
    }
   ],
   "source": [
    "mms = sts['train'].get_label_transformer()\n",
    "mms"
   ]
  },
  {
   "cell_type": "code",
   "execution_count": 80,
   "metadata": {
    "collapsed": false,
    "jupyter": {
     "outputs_hidden": false
    }
   },
   "outputs": [],
   "source": [
    "task = 'similarity_score'"
   ]
  },
  {
   "cell_type": "code",
   "execution_count": 81,
   "metadata": {
    "collapsed": false,
    "jupyter": {
     "outputs_hidden": false
    }
   },
   "outputs": [
    {
     "data": {
      "text/plain": [
       "SequenceEmbedding(\n",
       "  (norm): LayerNorm((512,), eps=1e-05, elementwise_affine=True)\n",
       "  (conv1d): Conv1d(300, 512, kernel_size=(5,), stride=(1,), padding=same)\n",
       "  (dropout): Dropout(p=0.1, inplace=False)\n",
       "  (out_head): Linear(in_features=512, out_features=512, bias=True)\n",
       "  (out_norm): LayerNorm((512,), eps=1e-05, elementwise_affine=True)\n",
       "  (pool): AttentionAvgPooling(\n",
       "    (qkv_attn): Conv1D()\n",
       "    (dropout): Dropout(p=0.1, inplace=False)\n",
       "  )\n",
       ")"
      ]
     },
     "execution_count": 81,
     "metadata": {},
     "output_type": "execute_result"
    }
   ],
   "source": [
    "model = SequenceEmbedding(300)    \n",
    "model = model.to(device)\n",
    "model"
   ]
  },
  {
   "cell_type": "code",
   "execution_count": 82,
   "metadata": {
    "collapsed": false,
    "jupyter": {
     "outputs_hidden": false
    }
   },
   "outputs": [],
   "source": [
    "lr = 0.001\n",
    "batch_size = 512\n",
    "n_epochs = 64\n",
    "optimizer = torch.optim.AdamW(params=model.parameters(), lr=lr, weight_decay=0.2)"
   ]
  },
  {
   "cell_type": "code",
   "execution_count": 83,
   "metadata": {
    "collapsed": false,
    "jupyter": {
     "outputs_hidden": false
    }
   },
   "outputs": [],
   "source": [
    "def collate(mini_batch):\n",
    "    # Tokenise sequences \n",
    "    sequences_a = embeddings_model.tokenise([sample['sequence_a'] for sample in mini_batch])\n",
    "    sequences_b = embeddings_model.tokenise([sample['sequence_b'] for sample in mini_batch])\n",
    "    # Get the length of the longest sentence\n",
    "    max_sequence_len_a = max(len(sample) for sample in sequences_a)\n",
    "    max_sequence_len_b = max(len(sample) for sample in sequences_b)\n",
    "    # Create an input tensor with all zero values\n",
    "    input_embeds_a = np.zeros((len(mini_batch), max_sequence_len_a, 300))\n",
    "    input_embeds_b = np.zeros((len(mini_batch), max_sequence_len_b, 300))\n",
    "    # Create weights tensor with all zero values\n",
    "    token_weights_a = np.zeros((len(mini_batch), max_sequence_len_a))\n",
    "    valid_mask_a = np.zeros((len(mini_batch), max_sequence_len_a))\n",
    "    token_weights_b = np.zeros((len(mini_batch), max_sequence_len_b))\n",
    "    valid_mask_b = np.zeros((len(mini_batch), max_sequence_len_b))\n",
    "    # Create a target output matrix with all -100 (PyTorch ignores this value by default)\n",
    "    output_score = np.zeros((len(mini_batch), 1))\n",
    "    # Fill the tensor and the matrix\n",
    "    for i, _ in enumerate(mini_batch):\n",
    "        for j, token in enumerate(sequences_a[i]):\n",
    "            # Manage missing tokens in vocabulary\n",
    "            input_embeds_a[i, j] = embeddings_model[token.lower()]\n",
    "        token_weights_a[i, :len(sequences_a[i])] = embeddings_model.sif_embedding_model.word_weights[embeddings_model.encode(sequences_a[i], backend='numpy')]\n",
    "        valid_mask_a[i, :len(sequences_a[i])] = 1.0\n",
    "        for j, token in enumerate(sequences_b[i]):\n",
    "            # Manage missing tokens in vocabulary\n",
    "            input_embeds_b[i, j] = embeddings_model[token.lower()]\n",
    "        token_weights_b[i, :len(sequences_b[i])] = embeddings_model.sif_embedding_model.word_weights[embeddings_model.encode(sequences_b[i], backend='numpy')]\n",
    "        valid_mask_b[i, :len(sequences_b[i])] = 1.0\n",
    "        output_score[i] = mms[task].transform([[mini_batch[i][task]]])[0]\n",
    "    # Convert to PyTorch tensor\n",
    "    input_embeds_a = torch.tensor(input_embeds_a, dtype=torch.float, device=device)\n",
    "    token_weights_a = torch.tensor(token_weights_a, dtype=torch.float, device=device)\n",
    "    valid_mask_a = torch.tensor(valid_mask_a, dtype=torch.float, device=device)\n",
    "    input_embeds_b = torch.tensor(input_embeds_b, dtype=torch.float, device=device)\n",
    "    token_weights_b = torch.tensor(token_weights_b, dtype=torch.float, device=device)\n",
    "    valid_mask_b = torch.tensor(valid_mask_b, dtype=torch.float, device=device)\n",
    "    output_score = torch.tensor(output_score, dtype=torch.float, device=device)\n",
    "\n",
    "    # return input_embeds_a, token_weights_a, input_embeds_b, token_weights_b, output_score\n",
    "    return input_embeds_a, valid_mask_a, input_embeds_b, valid_mask_b, output_score"
   ]
  },
  {
   "cell_type": "code",
   "execution_count": 84,
   "metadata": {
    "collapsed": false,
    "jupyter": {
     "outputs_hidden": false
    }
   },
   "outputs": [],
   "source": [
    "data_loader = {\n",
    "    split: torch.utils.data.DataLoader(\n",
    "        data, batch_size=batch_size, collate_fn=collate, shuffle=split == 'train'\n",
    "    )\n",
    "    for split, data in sts.items()\n",
    "}"
   ]
  },
  {
   "cell_type": "markdown",
   "metadata": {
    "collapsed": false,
    "jupyter": {
     "outputs_hidden": false
    }
   },
   "source": [
    "##### Training"
   ]
  },
  {
   "cell_type": "code",
   "execution_count": 85,
   "metadata": {},
   "outputs": [
    {
     "name": "stdout",
     "output_type": "stream",
     "text": [
      "Starting epoch 1/64\n"
     ]
    },
    {
     "name": "stderr",
     "output_type": "stream",
     "text": [
      " 17%|██████████████████▋                                                                                             | 2/12 [00:00<00:02,  3.53it/s]/home/vincenzo/anaconda3/envs/vstk/lib/python3.12/site-packages/torch/nn/modules/conv.py:306: UserWarning: Plan failed with a cudnnException: CUDNN_BACKEND_EXECUTION_PLAN_DESCRIPTOR: cudnnFinalize Descriptor Failed cudnn_status: CUDNN_STATUS_NOT_SUPPORTED (Triggered internally at ../aten/src/ATen/native/cudnn/Conv_v8.cpp:919.)\n",
      "  return F.conv1d(input, weight, bias, self.stride,\n",
      "100%|███████████████████████████████████████████████████████████████████████████████████████████████████████████████| 12/12 [00:02<00:00,  4.80it/s]\n"
     ]
    },
    {
     "name": "stdout",
     "output_type": "stream",
     "text": [
      "Starting validation epoch 1/64\n"
     ]
    },
    {
     "name": "stderr",
     "output_type": "stream",
     "text": [
      " 92%|█████████████████████████████████████████████████████████████████████████████████████████████████████▊         | 11/12 [00:02<00:00,  4.83it/s]/home/vincenzo/anaconda3/envs/vstk/lib/python3.12/site-packages/torch/nn/modules/conv.py:306: UserWarning: Plan failed with a cudnnException: CUDNN_BACKEND_EXECUTION_PLAN_DESCRIPTOR: cudnnFinalize Descriptor Failed cudnn_status: CUDNN_STATUS_NOT_SUPPORTED (Triggered internally at ../aten/src/ATen/native/cudnn/Conv_v8.cpp:919.)\n",
      "  return F.conv1d(input, weight, bias, self.stride,\n",
      "100%|███████████████████████████████████████████████████████████████████████████████████████████████████████████████| 12/12 [00:02<00:00,  5.05it/s]\n"
     ]
    },
    {
     "name": "stdout",
     "output_type": "stream",
     "text": [
      "Starting epoch 2/64\n"
     ]
    },
    {
     "name": "stderr",
     "output_type": "stream",
     "text": [
      " 92%|█████████████████████████████████████████████████████████████████████████████████████████████████████▊         | 11/12 [00:02<00:00,  4.98it/s]/home/vincenzo/anaconda3/envs/vstk/lib/python3.12/site-packages/torch/nn/modules/conv.py:306: UserWarning: Plan failed with a cudnnException: CUDNN_BACKEND_EXECUTION_PLAN_DESCRIPTOR: cudnnFinalize Descriptor Failed cudnn_status: CUDNN_STATUS_NOT_SUPPORTED (Triggered internally at ../aten/src/ATen/native/cudnn/Conv_v8.cpp:919.)\n",
      "  return F.conv1d(input, weight, bias, self.stride,\n",
      "100%|███████████████████████████████████████████████████████████████████████████████████████████████████████████████| 12/12 [00:02<00:00,  5.37it/s]\n"
     ]
    },
    {
     "name": "stdout",
     "output_type": "stream",
     "text": [
      "Starting validation epoch 2/64\n"
     ]
    },
    {
     "name": "stderr",
     "output_type": "stream",
     "text": [
      " 92%|█████████████████████████████████████████████████████████████████████████████████████████████████████▊         | 11/12 [00:02<00:00,  5.02it/s]/home/vincenzo/anaconda3/envs/vstk/lib/python3.12/site-packages/torch/nn/modules/conv.py:306: UserWarning: Plan failed with a cudnnException: CUDNN_BACKEND_EXECUTION_PLAN_DESCRIPTOR: cudnnFinalize Descriptor Failed cudnn_status: CUDNN_STATUS_NOT_SUPPORTED (Triggered internally at ../aten/src/ATen/native/cudnn/Conv_v8.cpp:919.)\n",
      "  return F.conv1d(input, weight, bias, self.stride,\n",
      "100%|███████████████████████████████████████████████████████████████████████████████████████████████████████████████| 12/12 [00:02<00:00,  5.37it/s]\n"
     ]
    },
    {
     "name": "stdout",
     "output_type": "stream",
     "text": [
      "Starting epoch 3/64\n"
     ]
    },
    {
     "name": "stderr",
     "output_type": "stream",
     "text": [
      "100%|███████████████████████████████████████████████████████████████████████████████████████████████████████████████| 12/12 [00:02<00:00,  5.31it/s]\n"
     ]
    },
    {
     "name": "stdout",
     "output_type": "stream",
     "text": [
      "Starting validation epoch 3/64\n"
     ]
    },
    {
     "name": "stderr",
     "output_type": "stream",
     "text": [
      "100%|███████████████████████████████████████████████████████████████████████████████████████████████████████████████| 12/12 [00:02<00:00,  5.36it/s]\n"
     ]
    },
    {
     "name": "stdout",
     "output_type": "stream",
     "text": [
      "Starting epoch 4/64\n"
     ]
    },
    {
     "name": "stderr",
     "output_type": "stream",
     "text": [
      "100%|███████████████████████████████████████████████████████████████████████████████████████████████████████████████| 12/12 [00:02<00:00,  4.90it/s]\n"
     ]
    },
    {
     "name": "stdout",
     "output_type": "stream",
     "text": [
      "Starting validation epoch 4/64\n"
     ]
    },
    {
     "name": "stderr",
     "output_type": "stream",
     "text": [
      " 92%|█████████████████████████████████████████████████████████████████████████████████████████████████████▊         | 11/12 [00:02<00:00,  5.12it/s]/home/vincenzo/anaconda3/envs/vstk/lib/python3.12/site-packages/torch/nn/modules/conv.py:306: UserWarning: Plan failed with a cudnnException: CUDNN_BACKEND_EXECUTION_PLAN_DESCRIPTOR: cudnnFinalize Descriptor Failed cudnn_status: CUDNN_STATUS_NOT_SUPPORTED (Triggered internally at ../aten/src/ATen/native/cudnn/Conv_v8.cpp:919.)\n",
      "  return F.conv1d(input, weight, bias, self.stride,\n",
      "100%|███████████████████████████████████████████████████████████████████████████████████████████████████████████████| 12/12 [00:02<00:00,  5.40it/s]\n"
     ]
    },
    {
     "name": "stdout",
     "output_type": "stream",
     "text": [
      "Starting epoch 5/64\n"
     ]
    },
    {
     "name": "stderr",
     "output_type": "stream",
     "text": [
      "100%|███████████████████████████████████████████████████████████████████████████████████████████████████████████████| 12/12 [00:02<00:00,  5.31it/s]\n"
     ]
    },
    {
     "name": "stdout",
     "output_type": "stream",
     "text": [
      "Starting validation epoch 5/64\n"
     ]
    },
    {
     "name": "stderr",
     "output_type": "stream",
     "text": [
      "100%|███████████████████████████████████████████████████████████████████████████████████████████████████████████████| 12/12 [00:02<00:00,  5.37it/s]\n"
     ]
    },
    {
     "name": "stdout",
     "output_type": "stream",
     "text": [
      "Starting epoch 6/64\n"
     ]
    },
    {
     "name": "stderr",
     "output_type": "stream",
     "text": [
      "100%|███████████████████████████████████████████████████████████████████████████████████████████████████████████████| 12/12 [00:02<00:00,  5.33it/s]\n"
     ]
    },
    {
     "name": "stdout",
     "output_type": "stream",
     "text": [
      "Starting validation epoch 6/64\n"
     ]
    },
    {
     "name": "stderr",
     "output_type": "stream",
     "text": [
      " 92%|█████████████████████████████████████████████████████████████████████████████████████████████████████▊         | 11/12 [00:02<00:00,  5.17it/s]/home/vincenzo/anaconda3/envs/vstk/lib/python3.12/site-packages/torch/nn/modules/conv.py:306: UserWarning: Plan failed with a cudnnException: CUDNN_BACKEND_EXECUTION_PLAN_DESCRIPTOR: cudnnFinalize Descriptor Failed cudnn_status: CUDNN_STATUS_NOT_SUPPORTED (Triggered internally at ../aten/src/ATen/native/cudnn/Conv_v8.cpp:919.)\n",
      "  return F.conv1d(input, weight, bias, self.stride,\n",
      "100%|███████████████████████████████████████████████████████████████████████████████████████████████████████████████| 12/12 [00:02<00:00,  5.52it/s]\n"
     ]
    },
    {
     "name": "stdout",
     "output_type": "stream",
     "text": [
      "Starting epoch 7/64\n"
     ]
    },
    {
     "name": "stderr",
     "output_type": "stream",
     "text": [
      "100%|███████████████████████████████████████████████████████████████████████████████████████████████████████████████| 12/12 [00:02<00:00,  4.99it/s]\n"
     ]
    },
    {
     "name": "stdout",
     "output_type": "stream",
     "text": [
      "Starting validation epoch 7/64\n"
     ]
    },
    {
     "name": "stderr",
     "output_type": "stream",
     "text": [
      "100%|███████████████████████████████████████████████████████████████████████████████████████████████████████████████| 12/12 [00:02<00:00,  5.39it/s]\n"
     ]
    },
    {
     "name": "stdout",
     "output_type": "stream",
     "text": [
      "Starting epoch 8/64\n"
     ]
    },
    {
     "name": "stderr",
     "output_type": "stream",
     "text": [
      "100%|███████████████████████████████████████████████████████████████████████████████████████████████████████████████| 12/12 [00:02<00:00,  5.31it/s]\n"
     ]
    },
    {
     "name": "stdout",
     "output_type": "stream",
     "text": [
      "Starting validation epoch 8/64\n"
     ]
    },
    {
     "name": "stderr",
     "output_type": "stream",
     "text": [
      "100%|███████████████████████████████████████████████████████████████████████████████████████████████████████████████| 12/12 [00:02<00:00,  5.33it/s]\n"
     ]
    },
    {
     "name": "stdout",
     "output_type": "stream",
     "text": [
      "Starting epoch 9/64\n"
     ]
    },
    {
     "name": "stderr",
     "output_type": "stream",
     "text": [
      " 92%|█████████████████████████████████████████████████████████████████████████████████████████████████████▊         | 11/12 [00:02<00:00,  4.95it/s]/home/vincenzo/anaconda3/envs/vstk/lib/python3.12/site-packages/torch/nn/modules/conv.py:306: UserWarning: Plan failed with a cudnnException: CUDNN_BACKEND_EXECUTION_PLAN_DESCRIPTOR: cudnnFinalize Descriptor Failed cudnn_status: CUDNN_STATUS_NOT_SUPPORTED (Triggered internally at ../aten/src/ATen/native/cudnn/Conv_v8.cpp:919.)\n",
      "  return F.conv1d(input, weight, bias, self.stride,\n",
      "100%|███████████████████████████████████████████████████████████████████████████████████████████████████████████████| 12/12 [00:02<00:00,  5.24it/s]\n"
     ]
    },
    {
     "name": "stdout",
     "output_type": "stream",
     "text": [
      "Starting validation epoch 9/64\n"
     ]
    },
    {
     "name": "stderr",
     "output_type": "stream",
     "text": [
      "100%|███████████████████████████████████████████████████████████████████████████████████████████████████████████████| 12/12 [00:02<00:00,  4.91it/s]\n"
     ]
    },
    {
     "name": "stdout",
     "output_type": "stream",
     "text": [
      "Starting epoch 10/64\n"
     ]
    },
    {
     "name": "stderr",
     "output_type": "stream",
     "text": [
      " 92%|█████████████████████████████████████████████████████████████████████████████████████████████████████▊         | 11/12 [00:02<00:00,  4.94it/s]/home/vincenzo/anaconda3/envs/vstk/lib/python3.12/site-packages/torch/nn/modules/conv.py:306: UserWarning: Plan failed with a cudnnException: CUDNN_BACKEND_EXECUTION_PLAN_DESCRIPTOR: cudnnFinalize Descriptor Failed cudnn_status: CUDNN_STATUS_NOT_SUPPORTED (Triggered internally at ../aten/src/ATen/native/cudnn/Conv_v8.cpp:919.)\n",
      "  return F.conv1d(input, weight, bias, self.stride,\n",
      "100%|███████████████████████████████████████████████████████████████████████████████████████████████████████████████| 12/12 [00:02<00:00,  5.30it/s]\n"
     ]
    },
    {
     "name": "stdout",
     "output_type": "stream",
     "text": [
      "Starting validation epoch 10/64\n"
     ]
    },
    {
     "name": "stderr",
     "output_type": "stream",
     "text": [
      "100%|███████████████████████████████████████████████████████████████████████████████████████████████████████████████| 12/12 [00:02<00:00,  5.34it/s]\n"
     ]
    },
    {
     "name": "stdout",
     "output_type": "stream",
     "text": [
      "Starting epoch 11/64\n"
     ]
    },
    {
     "name": "stderr",
     "output_type": "stream",
     "text": [
      "100%|███████████████████████████████████████████████████████████████████████████████████████████████████████████████| 12/12 [00:02<00:00,  5.22it/s]\n"
     ]
    },
    {
     "name": "stdout",
     "output_type": "stream",
     "text": [
      "Starting validation epoch 11/64\n"
     ]
    },
    {
     "name": "stderr",
     "output_type": "stream",
     "text": [
      "100%|███████████████████████████████████████████████████████████████████████████████████████████████████████████████| 12/12 [00:02<00:00,  5.32it/s]\n"
     ]
    },
    {
     "name": "stdout",
     "output_type": "stream",
     "text": [
      "Starting epoch 12/64\n"
     ]
    },
    {
     "name": "stderr",
     "output_type": "stream",
     "text": [
      "100%|███████████████████████████████████████████████████████████████████████████████████████████████████████████████| 12/12 [00:02<00:00,  4.83it/s]\n"
     ]
    },
    {
     "name": "stdout",
     "output_type": "stream",
     "text": [
      "Starting validation epoch 12/64\n"
     ]
    },
    {
     "name": "stderr",
     "output_type": "stream",
     "text": [
      "100%|███████████████████████████████████████████████████████████████████████████████████████████████████████████████| 12/12 [00:02<00:00,  5.22it/s]\n"
     ]
    },
    {
     "name": "stdout",
     "output_type": "stream",
     "text": [
      "Starting epoch 13/64\n"
     ]
    },
    {
     "name": "stderr",
     "output_type": "stream",
     "text": [
      "100%|███████████████████████████████████████████████████████████████████████████████████████████████████████████████| 12/12 [00:02<00:00,  5.15it/s]\n"
     ]
    },
    {
     "name": "stdout",
     "output_type": "stream",
     "text": [
      "Starting validation epoch 13/64\n"
     ]
    },
    {
     "name": "stderr",
     "output_type": "stream",
     "text": [
      " 92%|█████████████████████████████████████████████████████████████████████████████████████████████████████▊         | 11/12 [00:02<00:00,  4.98it/s]/home/vincenzo/anaconda3/envs/vstk/lib/python3.12/site-packages/torch/nn/modules/conv.py:306: UserWarning: Plan failed with a cudnnException: CUDNN_BACKEND_EXECUTION_PLAN_DESCRIPTOR: cudnnFinalize Descriptor Failed cudnn_status: CUDNN_STATUS_NOT_SUPPORTED (Triggered internally at ../aten/src/ATen/native/cudnn/Conv_v8.cpp:919.)\n",
      "  return F.conv1d(input, weight, bias, self.stride,\n",
      "100%|███████████████████████████████████████████████████████████████████████████████████████████████████████████████| 12/12 [00:02<00:00,  5.26it/s]\n"
     ]
    },
    {
     "name": "stdout",
     "output_type": "stream",
     "text": [
      "Starting epoch 14/64\n"
     ]
    },
    {
     "name": "stderr",
     "output_type": "stream",
     "text": [
      "100%|███████████████████████████████████████████████████████████████████████████████████████████████████████████████| 12/12 [00:02<00:00,  5.17it/s]\n"
     ]
    },
    {
     "name": "stdout",
     "output_type": "stream",
     "text": [
      "Starting validation epoch 14/64\n"
     ]
    },
    {
     "name": "stderr",
     "output_type": "stream",
     "text": [
      " 92%|█████████████████████████████████████████████████████████████████████████████████████████████████████▊         | 11/12 [00:02<00:00,  4.40it/s]/home/vincenzo/anaconda3/envs/vstk/lib/python3.12/site-packages/torch/nn/modules/conv.py:306: UserWarning: Plan failed with a cudnnException: CUDNN_BACKEND_EXECUTION_PLAN_DESCRIPTOR: cudnnFinalize Descriptor Failed cudnn_status: CUDNN_STATUS_NOT_SUPPORTED (Triggered internally at ../aten/src/ATen/native/cudnn/Conv_v8.cpp:919.)\n",
      "  return F.conv1d(input, weight, bias, self.stride,\n",
      "100%|███████████████████████████████████████████████████████████████████████████████████████████████████████████████| 12/12 [00:02<00:00,  4.87it/s]\n"
     ]
    },
    {
     "name": "stdout",
     "output_type": "stream",
     "text": [
      "Starting epoch 15/64\n"
     ]
    },
    {
     "name": "stderr",
     "output_type": "stream",
     "text": [
      "100%|███████████████████████████████████████████████████████████████████████████████████████████████████████████████| 12/12 [00:02<00:00,  5.19it/s]\n"
     ]
    },
    {
     "name": "stdout",
     "output_type": "stream",
     "text": [
      "Starting validation epoch 15/64\n"
     ]
    },
    {
     "name": "stderr",
     "output_type": "stream",
     "text": [
      "100%|███████████████████████████████████████████████████████████████████████████████████████████████████████████████| 12/12 [00:02<00:00,  5.27it/s]\n"
     ]
    },
    {
     "name": "stdout",
     "output_type": "stream",
     "text": [
      "Starting epoch 16/64\n"
     ]
    },
    {
     "name": "stderr",
     "output_type": "stream",
     "text": [
      "100%|███████████████████████████████████████████████████████████████████████████████████████████████████████████████| 12/12 [00:02<00:00,  5.14it/s]\n"
     ]
    },
    {
     "name": "stdout",
     "output_type": "stream",
     "text": [
      "Starting validation epoch 16/64\n"
     ]
    },
    {
     "name": "stderr",
     "output_type": "stream",
     "text": [
      "100%|███████████████████████████████████████████████████████████████████████████████████████████████████████████████| 12/12 [00:02<00:00,  5.20it/s]\n"
     ]
    },
    {
     "name": "stdout",
     "output_type": "stream",
     "text": [
      "Starting epoch 17/64\n"
     ]
    },
    {
     "name": "stderr",
     "output_type": "stream",
     "text": [
      "100%|███████████████████████████████████████████████████████████████████████████████████████████████████████████████| 12/12 [00:02<00:00,  4.80it/s]\n"
     ]
    },
    {
     "name": "stdout",
     "output_type": "stream",
     "text": [
      "Starting validation epoch 17/64\n"
     ]
    },
    {
     "name": "stderr",
     "output_type": "stream",
     "text": [
      "100%|███████████████████████████████████████████████████████████████████████████████████████████████████████████████| 12/12 [00:02<00:00,  5.28it/s]\n"
     ]
    },
    {
     "name": "stdout",
     "output_type": "stream",
     "text": [
      "Starting epoch 18/64\n"
     ]
    },
    {
     "name": "stderr",
     "output_type": "stream",
     "text": [
      "100%|███████████████████████████████████████████████████████████████████████████████████████████████████████████████| 12/12 [00:02<00:00,  5.24it/s]\n"
     ]
    },
    {
     "name": "stdout",
     "output_type": "stream",
     "text": [
      "Starting validation epoch 18/64\n"
     ]
    },
    {
     "name": "stderr",
     "output_type": "stream",
     "text": [
      "100%|███████████████████████████████████████████████████████████████████████████████████████████████████████████████| 12/12 [00:02<00:00,  5.30it/s]\n"
     ]
    },
    {
     "name": "stdout",
     "output_type": "stream",
     "text": [
      "Starting epoch 19/64\n"
     ]
    },
    {
     "name": "stderr",
     "output_type": "stream",
     "text": [
      "100%|███████████████████████████████████████████████████████████████████████████████████████████████████████████████| 12/12 [00:02<00:00,  5.15it/s]\n"
     ]
    },
    {
     "name": "stdout",
     "output_type": "stream",
     "text": [
      "Starting validation epoch 19/64\n"
     ]
    },
    {
     "name": "stderr",
     "output_type": "stream",
     "text": [
      "100%|███████████████████████████████████████████████████████████████████████████████████████████████████████████████| 12/12 [00:02<00:00,  5.23it/s]\n"
     ]
    },
    {
     "name": "stdout",
     "output_type": "stream",
     "text": [
      "Starting epoch 20/64\n"
     ]
    },
    {
     "name": "stderr",
     "output_type": "stream",
     "text": [
      "100%|███████████████████████████████████████████████████████████████████████████████████████████████████████████████| 12/12 [00:02<00:00,  4.83it/s]\n"
     ]
    },
    {
     "name": "stdout",
     "output_type": "stream",
     "text": [
      "Starting validation epoch 20/64\n"
     ]
    },
    {
     "name": "stderr",
     "output_type": "stream",
     "text": [
      "100%|███████████████████████████████████████████████████████████████████████████████████████████████████████████████| 12/12 [00:02<00:00,  5.30it/s]\n"
     ]
    },
    {
     "name": "stdout",
     "output_type": "stream",
     "text": [
      "Starting epoch 21/64\n"
     ]
    },
    {
     "name": "stderr",
     "output_type": "stream",
     "text": [
      "100%|███████████████████████████████████████████████████████████████████████████████████████████████████████████████| 12/12 [00:02<00:00,  5.22it/s]\n"
     ]
    },
    {
     "name": "stdout",
     "output_type": "stream",
     "text": [
      "Starting validation epoch 21/64\n"
     ]
    },
    {
     "name": "stderr",
     "output_type": "stream",
     "text": [
      "100%|███████████████████████████████████████████████████████████████████████████████████████████████████████████████| 12/12 [00:02<00:00,  5.22it/s]\n"
     ]
    },
    {
     "name": "stdout",
     "output_type": "stream",
     "text": [
      "Starting epoch 22/64\n"
     ]
    },
    {
     "name": "stderr",
     "output_type": "stream",
     "text": [
      "100%|███████████████████████████████████████████████████████████████████████████████████████████████████████████████| 12/12 [00:02<00:00,  5.16it/s]\n"
     ]
    },
    {
     "name": "stdout",
     "output_type": "stream",
     "text": [
      "Starting validation epoch 22/64\n"
     ]
    },
    {
     "name": "stderr",
     "output_type": "stream",
     "text": [
      "100%|███████████████████████████████████████████████████████████████████████████████████████████████████████████████| 12/12 [00:02<00:00,  4.81it/s]\n"
     ]
    },
    {
     "name": "stdout",
     "output_type": "stream",
     "text": [
      "Starting epoch 23/64\n"
     ]
    },
    {
     "name": "stderr",
     "output_type": "stream",
     "text": [
      "100%|███████████████████████████████████████████████████████████████████████████████████████████████████████████████| 12/12 [00:02<00:00,  5.17it/s]\n"
     ]
    },
    {
     "name": "stdout",
     "output_type": "stream",
     "text": [
      "Starting validation epoch 23/64\n"
     ]
    },
    {
     "name": "stderr",
     "output_type": "stream",
     "text": [
      "100%|███████████████████████████████████████████████████████████████████████████████████████████████████████████████| 12/12 [00:02<00:00,  5.33it/s]\n"
     ]
    },
    {
     "name": "stdout",
     "output_type": "stream",
     "text": [
      "Starting epoch 24/64\n"
     ]
    },
    {
     "name": "stderr",
     "output_type": "stream",
     "text": [
      "100%|███████████████████████████████████████████████████████████████████████████████████████████████████████████████| 12/12 [00:02<00:00,  5.17it/s]\n"
     ]
    },
    {
     "name": "stdout",
     "output_type": "stream",
     "text": [
      "Starting validation epoch 24/64\n"
     ]
    },
    {
     "name": "stderr",
     "output_type": "stream",
     "text": [
      "100%|███████████████████████████████████████████████████████████████████████████████████████████████████████████████| 12/12 [00:02<00:00,  5.28it/s]\n"
     ]
    },
    {
     "name": "stdout",
     "output_type": "stream",
     "text": [
      "Starting epoch 25/64\n"
     ]
    },
    {
     "name": "stderr",
     "output_type": "stream",
     "text": [
      "100%|███████████████████████████████████████████████████████████████████████████████████████████████████████████████| 12/12 [00:02<00:00,  4.83it/s]\n"
     ]
    },
    {
     "name": "stdout",
     "output_type": "stream",
     "text": [
      "Starting validation epoch 25/64\n"
     ]
    },
    {
     "name": "stderr",
     "output_type": "stream",
     "text": [
      "100%|███████████████████████████████████████████████████████████████████████████████████████████████████████████████| 12/12 [00:02<00:00,  5.28it/s]\n"
     ]
    },
    {
     "name": "stdout",
     "output_type": "stream",
     "text": [
      "Starting epoch 26/64\n"
     ]
    },
    {
     "name": "stderr",
     "output_type": "stream",
     "text": [
      "100%|███████████████████████████████████████████████████████████████████████████████████████████████████████████████| 12/12 [00:02<00:00,  5.21it/s]\n"
     ]
    },
    {
     "name": "stdout",
     "output_type": "stream",
     "text": [
      "Starting validation epoch 26/64\n"
     ]
    },
    {
     "name": "stderr",
     "output_type": "stream",
     "text": [
      "100%|███████████████████████████████████████████████████████████████████████████████████████████████████████████████| 12/12 [00:02<00:00,  5.26it/s]\n"
     ]
    },
    {
     "name": "stdout",
     "output_type": "stream",
     "text": [
      "Starting epoch 27/64\n"
     ]
    },
    {
     "name": "stderr",
     "output_type": "stream",
     "text": [
      "100%|███████████████████████████████████████████████████████████████████████████████████████████████████████████████| 12/12 [00:02<00:00,  5.21it/s]\n"
     ]
    },
    {
     "name": "stdout",
     "output_type": "stream",
     "text": [
      "Starting validation epoch 27/64\n"
     ]
    },
    {
     "name": "stderr",
     "output_type": "stream",
     "text": [
      "100%|███████████████████████████████████████████████████████████████████████████████████████████████████████████████| 12/12 [00:02<00:00,  4.87it/s]\n"
     ]
    },
    {
     "name": "stdout",
     "output_type": "stream",
     "text": [
      "Starting epoch 28/64\n"
     ]
    },
    {
     "name": "stderr",
     "output_type": "stream",
     "text": [
      "100%|███████████████████████████████████████████████████████████████████████████████████████████████████████████████| 12/12 [00:02<00:00,  5.19it/s]\n"
     ]
    },
    {
     "name": "stdout",
     "output_type": "stream",
     "text": [
      "Starting validation epoch 28/64\n"
     ]
    },
    {
     "name": "stderr",
     "output_type": "stream",
     "text": [
      "100%|███████████████████████████████████████████████████████████████████████████████████████████████████████████████| 12/12 [00:02<00:00,  5.27it/s]\n"
     ]
    },
    {
     "name": "stdout",
     "output_type": "stream",
     "text": [
      "Starting epoch 29/64\n"
     ]
    },
    {
     "name": "stderr",
     "output_type": "stream",
     "text": [
      "100%|███████████████████████████████████████████████████████████████████████████████████████████████████████████████| 12/12 [00:02<00:00,  5.18it/s]\n"
     ]
    },
    {
     "name": "stdout",
     "output_type": "stream",
     "text": [
      "Starting validation epoch 29/64\n"
     ]
    },
    {
     "name": "stderr",
     "output_type": "stream",
     "text": [
      "100%|███████████████████████████████████████████████████████████████████████████████████████████████████████████████| 12/12 [00:02<00:00,  5.24it/s]\n"
     ]
    },
    {
     "name": "stdout",
     "output_type": "stream",
     "text": [
      "Starting epoch 30/64\n"
     ]
    },
    {
     "name": "stderr",
     "output_type": "stream",
     "text": [
      "100%|███████████████████████████████████████████████████████████████████████████████████████████████████████████████| 12/12 [00:02<00:00,  5.15it/s]\n"
     ]
    },
    {
     "name": "stdout",
     "output_type": "stream",
     "text": [
      "Starting validation epoch 30/64\n"
     ]
    },
    {
     "name": "stderr",
     "output_type": "stream",
     "text": [
      " 92%|█████████████████████████████████████████████████████████████████████████████████████████████████████▊         | 11/12 [00:02<00:00,  4.83it/s]/home/vincenzo/anaconda3/envs/vstk/lib/python3.12/site-packages/torch/nn/modules/conv.py:306: UserWarning: Plan failed with a cudnnException: CUDNN_BACKEND_EXECUTION_PLAN_DESCRIPTOR: cudnnFinalize Descriptor Failed cudnn_status: CUDNN_STATUS_NOT_SUPPORTED (Triggered internally at ../aten/src/ATen/native/cudnn/Conv_v8.cpp:919.)\n",
      "  return F.conv1d(input, weight, bias, self.stride,\n",
      "100%|███████████████████████████████████████████████████████████████████████████████████████████████████████████████| 12/12 [00:02<00:00,  4.85it/s]\n"
     ]
    },
    {
     "name": "stdout",
     "output_type": "stream",
     "text": [
      "Starting epoch 31/64\n"
     ]
    },
    {
     "name": "stderr",
     "output_type": "stream",
     "text": [
      "100%|███████████████████████████████████████████████████████████████████████████████████████████████████████████████| 12/12 [00:02<00:00,  5.22it/s]\n"
     ]
    },
    {
     "name": "stdout",
     "output_type": "stream",
     "text": [
      "Starting validation epoch 31/64\n"
     ]
    },
    {
     "name": "stderr",
     "output_type": "stream",
     "text": [
      "100%|███████████████████████████████████████████████████████████████████████████████████████████████████████████████| 12/12 [00:02<00:00,  5.25it/s]\n"
     ]
    },
    {
     "name": "stdout",
     "output_type": "stream",
     "text": [
      "Starting epoch 32/64\n"
     ]
    },
    {
     "name": "stderr",
     "output_type": "stream",
     "text": [
      "100%|███████████████████████████████████████████████████████████████████████████████████████████████████████████████| 12/12 [00:02<00:00,  5.19it/s]\n"
     ]
    },
    {
     "name": "stdout",
     "output_type": "stream",
     "text": [
      "Starting validation epoch 32/64\n"
     ]
    },
    {
     "name": "stderr",
     "output_type": "stream",
     "text": [
      "100%|███████████████████████████████████████████████████████████████████████████████████████████████████████████████| 12/12 [00:02<00:00,  5.23it/s]\n"
     ]
    },
    {
     "name": "stdout",
     "output_type": "stream",
     "text": [
      "Starting epoch 33/64\n"
     ]
    },
    {
     "name": "stderr",
     "output_type": "stream",
     "text": [
      " 92%|█████████████████████████████████████████████████████████████████████████████████████████████████████▊         | 11/12 [00:02<00:00,  4.70it/s]/home/vincenzo/anaconda3/envs/vstk/lib/python3.12/site-packages/torch/nn/modules/conv.py:306: UserWarning: Plan failed with a cudnnException: CUDNN_BACKEND_EXECUTION_PLAN_DESCRIPTOR: cudnnFinalize Descriptor Failed cudnn_status: CUDNN_STATUS_NOT_SUPPORTED (Triggered internally at ../aten/src/ATen/native/cudnn/Conv_v8.cpp:919.)\n",
      "  return F.conv1d(input, weight, bias, self.stride,\n",
      "100%|███████████████████████████████████████████████████████████████████████████████████████████████████████████████| 12/12 [00:02<00:00,  4.76it/s]\n"
     ]
    },
    {
     "name": "stdout",
     "output_type": "stream",
     "text": [
      "Starting validation epoch 33/64\n"
     ]
    },
    {
     "name": "stderr",
     "output_type": "stream",
     "text": [
      "100%|███████████████████████████████████████████████████████████████████████████████████████████████████████████████| 12/12 [00:02<00:00,  5.23it/s]\n"
     ]
    },
    {
     "name": "stdout",
     "output_type": "stream",
     "text": [
      "Starting epoch 34/64\n"
     ]
    },
    {
     "name": "stderr",
     "output_type": "stream",
     "text": [
      "100%|███████████████████████████████████████████████████████████████████████████████████████████████████████████████| 12/12 [00:02<00:00,  5.16it/s]\n"
     ]
    },
    {
     "name": "stdout",
     "output_type": "stream",
     "text": [
      "Starting validation epoch 34/64\n"
     ]
    },
    {
     "name": "stderr",
     "output_type": "stream",
     "text": [
      "100%|███████████████████████████████████████████████████████████████████████████████████████████████████████████████| 12/12 [00:02<00:00,  5.24it/s]\n"
     ]
    },
    {
     "name": "stdout",
     "output_type": "stream",
     "text": [
      "Starting epoch 35/64\n"
     ]
    },
    {
     "name": "stderr",
     "output_type": "stream",
     "text": [
      "100%|███████████████████████████████████████████████████████████████████████████████████████████████████████████████| 12/12 [00:02<00:00,  5.20it/s]\n"
     ]
    },
    {
     "name": "stdout",
     "output_type": "stream",
     "text": [
      "Starting validation epoch 35/64\n"
     ]
    },
    {
     "name": "stderr",
     "output_type": "stream",
     "text": [
      "100%|███████████████████████████████████████████████████████████████████████████████████████████████████████████████| 12/12 [00:02<00:00,  4.85it/s]\n"
     ]
    },
    {
     "name": "stdout",
     "output_type": "stream",
     "text": [
      "Starting epoch 36/64\n"
     ]
    },
    {
     "name": "stderr",
     "output_type": "stream",
     "text": [
      "100%|███████████████████████████████████████████████████████████████████████████████████████████████████████████████| 12/12 [00:02<00:00,  5.25it/s]\n"
     ]
    },
    {
     "name": "stdout",
     "output_type": "stream",
     "text": [
      "Starting validation epoch 36/64\n"
     ]
    },
    {
     "name": "stderr",
     "output_type": "stream",
     "text": [
      "100%|███████████████████████████████████████████████████████████████████████████████████████████████████████████████| 12/12 [00:02<00:00,  5.32it/s]\n"
     ]
    },
    {
     "name": "stdout",
     "output_type": "stream",
     "text": [
      "Starting epoch 37/64\n"
     ]
    },
    {
     "name": "stderr",
     "output_type": "stream",
     "text": [
      "100%|███████████████████████████████████████████████████████████████████████████████████████████████████████████████| 12/12 [00:02<00:00,  5.22it/s]\n"
     ]
    },
    {
     "name": "stdout",
     "output_type": "stream",
     "text": [
      "Starting validation epoch 37/64\n"
     ]
    },
    {
     "name": "stderr",
     "output_type": "stream",
     "text": [
      "100%|███████████████████████████████████████████████████████████████████████████████████████████████████████████████| 12/12 [00:02<00:00,  5.29it/s]\n"
     ]
    },
    {
     "name": "stdout",
     "output_type": "stream",
     "text": [
      "Starting epoch 38/64\n"
     ]
    },
    {
     "name": "stderr",
     "output_type": "stream",
     "text": [
      "100%|███████████████████████████████████████████████████████████████████████████████████████████████████████████████| 12/12 [00:02<00:00,  4.84it/s]\n"
     ]
    },
    {
     "name": "stdout",
     "output_type": "stream",
     "text": [
      "Starting validation epoch 38/64\n"
     ]
    },
    {
     "name": "stderr",
     "output_type": "stream",
     "text": [
      "100%|███████████████████████████████████████████████████████████████████████████████████████████████████████████████| 12/12 [00:02<00:00,  5.32it/s]\n"
     ]
    },
    {
     "name": "stdout",
     "output_type": "stream",
     "text": [
      "Starting epoch 39/64\n"
     ]
    },
    {
     "name": "stderr",
     "output_type": "stream",
     "text": [
      "100%|███████████████████████████████████████████████████████████████████████████████████████████████████████████████| 12/12 [00:02<00:00,  5.24it/s]\n"
     ]
    },
    {
     "name": "stdout",
     "output_type": "stream",
     "text": [
      "Starting validation epoch 39/64\n"
     ]
    },
    {
     "name": "stderr",
     "output_type": "stream",
     "text": [
      "100%|███████████████████████████████████████████████████████████████████████████████████████████████████████████████| 12/12 [00:02<00:00,  5.30it/s]\n"
     ]
    },
    {
     "name": "stdout",
     "output_type": "stream",
     "text": [
      "Starting epoch 40/64\n"
     ]
    },
    {
     "name": "stderr",
     "output_type": "stream",
     "text": [
      "100%|███████████████████████████████████████████████████████████████████████████████████████████████████████████████| 12/12 [00:02<00:00,  5.15it/s]\n"
     ]
    },
    {
     "name": "stdout",
     "output_type": "stream",
     "text": [
      "Starting validation epoch 40/64\n"
     ]
    },
    {
     "name": "stderr",
     "output_type": "stream",
     "text": [
      "100%|███████████████████████████████████████████████████████████████████████████████████████████████████████████████| 12/12 [00:02<00:00,  5.23it/s]\n"
     ]
    },
    {
     "name": "stdout",
     "output_type": "stream",
     "text": [
      "Starting epoch 41/64\n"
     ]
    },
    {
     "name": "stderr",
     "output_type": "stream",
     "text": [
      "100%|███████████████████████████████████████████████████████████████████████████████████████████████████████████████| 12/12 [00:02<00:00,  4.79it/s]\n"
     ]
    },
    {
     "name": "stdout",
     "output_type": "stream",
     "text": [
      "Starting validation epoch 41/64\n"
     ]
    },
    {
     "name": "stderr",
     "output_type": "stream",
     "text": [
      "100%|███████████████████████████████████████████████████████████████████████████████████████████████████████████████| 12/12 [00:02<00:00,  5.29it/s]\n"
     ]
    },
    {
     "name": "stdout",
     "output_type": "stream",
     "text": [
      "Starting epoch 42/64\n"
     ]
    },
    {
     "name": "stderr",
     "output_type": "stream",
     "text": [
      " 92%|█████████████████████████████████████████████████████████████████████████████████████████████████████▊         | 11/12 [00:02<00:00,  4.87it/s]/home/vincenzo/anaconda3/envs/vstk/lib/python3.12/site-packages/torch/nn/modules/conv.py:306: UserWarning: Plan failed with a cudnnException: CUDNN_BACKEND_EXECUTION_PLAN_DESCRIPTOR: cudnnFinalize Descriptor Failed cudnn_status: CUDNN_STATUS_NOT_SUPPORTED (Triggered internally at ../aten/src/ATen/native/cudnn/Conv_v8.cpp:919.)\n",
      "  return F.conv1d(input, weight, bias, self.stride,\n",
      "100%|███████████████████████████████████████████████████████████████████████████████████████████████████████████████| 12/12 [00:02<00:00,  5.16it/s]\n"
     ]
    },
    {
     "name": "stdout",
     "output_type": "stream",
     "text": [
      "Starting validation epoch 42/64\n"
     ]
    },
    {
     "name": "stderr",
     "output_type": "stream",
     "text": [
      "100%|███████████████████████████████████████████████████████████████████████████████████████████████████████████████| 12/12 [00:02<00:00,  5.27it/s]\n"
     ]
    },
    {
     "name": "stdout",
     "output_type": "stream",
     "text": [
      "Starting epoch 43/64\n"
     ]
    },
    {
     "name": "stderr",
     "output_type": "stream",
     "text": [
      "100%|███████████████████████████████████████████████████████████████████████████████████████████████████████████████| 12/12 [00:02<00:00,  5.16it/s]\n"
     ]
    },
    {
     "name": "stdout",
     "output_type": "stream",
     "text": [
      "Starting validation epoch 43/64\n"
     ]
    },
    {
     "name": "stderr",
     "output_type": "stream",
     "text": [
      "100%|███████████████████████████████████████████████████████████████████████████████████████████████████████████████| 12/12 [00:02<00:00,  4.83it/s]\n"
     ]
    },
    {
     "name": "stdout",
     "output_type": "stream",
     "text": [
      "Starting epoch 44/64\n"
     ]
    },
    {
     "name": "stderr",
     "output_type": "stream",
     "text": [
      "100%|███████████████████████████████████████████████████████████████████████████████████████████████████████████████| 12/12 [00:02<00:00,  5.15it/s]\n"
     ]
    },
    {
     "name": "stdout",
     "output_type": "stream",
     "text": [
      "Starting validation epoch 44/64\n"
     ]
    },
    {
     "name": "stderr",
     "output_type": "stream",
     "text": [
      "100%|███████████████████████████████████████████████████████████████████████████████████████████████████████████████| 12/12 [00:02<00:00,  5.21it/s]\n"
     ]
    },
    {
     "name": "stdout",
     "output_type": "stream",
     "text": [
      "Starting epoch 45/64\n"
     ]
    },
    {
     "name": "stderr",
     "output_type": "stream",
     "text": [
      "100%|███████████████████████████████████████████████████████████████████████████████████████████████████████████████| 12/12 [00:02<00:00,  5.22it/s]\n"
     ]
    },
    {
     "name": "stdout",
     "output_type": "stream",
     "text": [
      "Starting validation epoch 45/64\n"
     ]
    },
    {
     "name": "stderr",
     "output_type": "stream",
     "text": [
      "100%|███████████████████████████████████████████████████████████████████████████████████████████████████████████████| 12/12 [00:02<00:00,  5.25it/s]\n"
     ]
    },
    {
     "name": "stdout",
     "output_type": "stream",
     "text": [
      "Starting epoch 46/64\n"
     ]
    },
    {
     "name": "stderr",
     "output_type": "stream",
     "text": [
      "100%|███████████████████████████████████████████████████████████████████████████████████████████████████████████████| 12/12 [00:02<00:00,  4.81it/s]\n"
     ]
    },
    {
     "name": "stdout",
     "output_type": "stream",
     "text": [
      "Starting validation epoch 46/64\n"
     ]
    },
    {
     "name": "stderr",
     "output_type": "stream",
     "text": [
      "100%|███████████████████████████████████████████████████████████████████████████████████████████████████████████████| 12/12 [00:02<00:00,  5.26it/s]\n"
     ]
    },
    {
     "name": "stdout",
     "output_type": "stream",
     "text": [
      "Starting epoch 47/64\n"
     ]
    },
    {
     "name": "stderr",
     "output_type": "stream",
     "text": [
      "100%|███████████████████████████████████████████████████████████████████████████████████████████████████████████████| 12/12 [00:02<00:00,  5.22it/s]\n"
     ]
    },
    {
     "name": "stdout",
     "output_type": "stream",
     "text": [
      "Starting validation epoch 47/64\n"
     ]
    },
    {
     "name": "stderr",
     "output_type": "stream",
     "text": [
      "100%|███████████████████████████████████████████████████████████████████████████████████████████████████████████████| 12/12 [00:02<00:00,  5.20it/s]\n"
     ]
    },
    {
     "name": "stdout",
     "output_type": "stream",
     "text": [
      "Starting epoch 48/64\n"
     ]
    },
    {
     "name": "stderr",
     "output_type": "stream",
     "text": [
      "100%|███████████████████████████████████████████████████████████████████████████████████████████████████████████████| 12/12 [00:02<00:00,  5.15it/s]\n"
     ]
    },
    {
     "name": "stdout",
     "output_type": "stream",
     "text": [
      "Starting validation epoch 48/64\n"
     ]
    },
    {
     "name": "stderr",
     "output_type": "stream",
     "text": [
      "100%|███████████████████████████████████████████████████████████████████████████████████████████████████████████████| 12/12 [00:02<00:00,  4.78it/s]\n"
     ]
    },
    {
     "name": "stdout",
     "output_type": "stream",
     "text": [
      "Starting epoch 49/64\n"
     ]
    },
    {
     "name": "stderr",
     "output_type": "stream",
     "text": [
      "100%|███████████████████████████████████████████████████████████████████████████████████████████████████████████████| 12/12 [00:02<00:00,  5.15it/s]\n"
     ]
    },
    {
     "name": "stdout",
     "output_type": "stream",
     "text": [
      "Starting validation epoch 49/64\n"
     ]
    },
    {
     "name": "stderr",
     "output_type": "stream",
     "text": [
      "100%|███████████████████████████████████████████████████████████████████████████████████████████████████████████████| 12/12 [00:02<00:00,  5.23it/s]\n"
     ]
    },
    {
     "name": "stdout",
     "output_type": "stream",
     "text": [
      "Starting epoch 50/64\n"
     ]
    },
    {
     "name": "stderr",
     "output_type": "stream",
     "text": [
      "100%|███████████████████████████████████████████████████████████████████████████████████████████████████████████████| 12/12 [00:02<00:00,  5.14it/s]\n"
     ]
    },
    {
     "name": "stdout",
     "output_type": "stream",
     "text": [
      "Starting validation epoch 50/64\n"
     ]
    },
    {
     "name": "stderr",
     "output_type": "stream",
     "text": [
      "100%|███████████████████████████████████████████████████████████████████████████████████████████████████████████████| 12/12 [00:02<00:00,  5.32it/s]\n"
     ]
    },
    {
     "name": "stdout",
     "output_type": "stream",
     "text": [
      "Starting epoch 51/64\n"
     ]
    },
    {
     "name": "stderr",
     "output_type": "stream",
     "text": [
      "100%|███████████████████████████████████████████████████████████████████████████████████████████████████████████████| 12/12 [00:02<00:00,  5.27it/s]\n"
     ]
    },
    {
     "name": "stdout",
     "output_type": "stream",
     "text": [
      "Starting validation epoch 51/64\n"
     ]
    },
    {
     "name": "stderr",
     "output_type": "stream",
     "text": [
      "100%|███████████████████████████████████████████████████████████████████████████████████████████████████████████████| 12/12 [00:02<00:00,  4.89it/s]\n"
     ]
    },
    {
     "name": "stdout",
     "output_type": "stream",
     "text": [
      "Starting epoch 52/64\n"
     ]
    },
    {
     "name": "stderr",
     "output_type": "stream",
     "text": [
      "100%|███████████████████████████████████████████████████████████████████████████████████████████████████████████████| 12/12 [00:02<00:00,  5.23it/s]\n"
     ]
    },
    {
     "name": "stdout",
     "output_type": "stream",
     "text": [
      "Starting validation epoch 52/64\n"
     ]
    },
    {
     "name": "stderr",
     "output_type": "stream",
     "text": [
      "100%|███████████████████████████████████████████████████████████████████████████████████████████████████████████████| 12/12 [00:02<00:00,  5.28it/s]\n"
     ]
    },
    {
     "name": "stdout",
     "output_type": "stream",
     "text": [
      "Starting epoch 53/64\n"
     ]
    },
    {
     "name": "stderr",
     "output_type": "stream",
     "text": [
      "100%|███████████████████████████████████████████████████████████████████████████████████████████████████████████████| 12/12 [00:02<00:00,  5.22it/s]\n"
     ]
    },
    {
     "name": "stdout",
     "output_type": "stream",
     "text": [
      "Starting validation epoch 53/64\n"
     ]
    },
    {
     "name": "stderr",
     "output_type": "stream",
     "text": [
      "100%|███████████████████████████████████████████████████████████████████████████████████████████████████████████████| 12/12 [00:02<00:00,  5.28it/s]\n"
     ]
    },
    {
     "name": "stdout",
     "output_type": "stream",
     "text": [
      "Starting epoch 54/64\n"
     ]
    },
    {
     "name": "stderr",
     "output_type": "stream",
     "text": [
      "100%|███████████████████████████████████████████████████████████████████████████████████████████████████████████████| 12/12 [00:02<00:00,  4.83it/s]\n"
     ]
    },
    {
     "name": "stdout",
     "output_type": "stream",
     "text": [
      "Starting validation epoch 54/64\n"
     ]
    },
    {
     "name": "stderr",
     "output_type": "stream",
     "text": [
      "100%|███████████████████████████████████████████████████████████████████████████████████████████████████████████████| 12/12 [00:02<00:00,  5.47it/s]\n"
     ]
    },
    {
     "name": "stdout",
     "output_type": "stream",
     "text": [
      "Starting epoch 55/64\n"
     ]
    },
    {
     "name": "stderr",
     "output_type": "stream",
     "text": [
      "100%|███████████████████████████████████████████████████████████████████████████████████████████████████████████████| 12/12 [00:02<00:00,  5.34it/s]\n"
     ]
    },
    {
     "name": "stdout",
     "output_type": "stream",
     "text": [
      "Starting validation epoch 55/64\n"
     ]
    },
    {
     "name": "stderr",
     "output_type": "stream",
     "text": [
      "100%|███████████████████████████████████████████████████████████████████████████████████████████████████████████████| 12/12 [00:02<00:00,  5.27it/s]\n"
     ]
    },
    {
     "name": "stdout",
     "output_type": "stream",
     "text": [
      "Starting epoch 56/64\n"
     ]
    },
    {
     "name": "stderr",
     "output_type": "stream",
     "text": [
      "100%|███████████████████████████████████████████████████████████████████████████████████████████████████████████████| 12/12 [00:02<00:00,  5.20it/s]\n"
     ]
    },
    {
     "name": "stdout",
     "output_type": "stream",
     "text": [
      "Starting validation epoch 56/64\n"
     ]
    },
    {
     "name": "stderr",
     "output_type": "stream",
     "text": [
      "100%|███████████████████████████████████████████████████████████████████████████████████████████████████████████████| 12/12 [00:02<00:00,  4.87it/s]\n"
     ]
    },
    {
     "name": "stdout",
     "output_type": "stream",
     "text": [
      "Starting epoch 57/64\n"
     ]
    },
    {
     "name": "stderr",
     "output_type": "stream",
     "text": [
      "100%|███████████████████████████████████████████████████████████████████████████████████████████████████████████████| 12/12 [00:02<00:00,  5.23it/s]\n"
     ]
    },
    {
     "name": "stdout",
     "output_type": "stream",
     "text": [
      "Starting validation epoch 57/64\n"
     ]
    },
    {
     "name": "stderr",
     "output_type": "stream",
     "text": [
      "100%|███████████████████████████████████████████████████████████████████████████████████████████████████████████████| 12/12 [00:02<00:00,  5.29it/s]\n"
     ]
    },
    {
     "name": "stdout",
     "output_type": "stream",
     "text": [
      "Starting epoch 58/64\n"
     ]
    },
    {
     "name": "stderr",
     "output_type": "stream",
     "text": [
      "100%|███████████████████████████████████████████████████████████████████████████████████████████████████████████████| 12/12 [00:02<00:00,  5.20it/s]\n"
     ]
    },
    {
     "name": "stdout",
     "output_type": "stream",
     "text": [
      "Starting validation epoch 58/64\n"
     ]
    },
    {
     "name": "stderr",
     "output_type": "stream",
     "text": [
      "100%|███████████████████████████████████████████████████████████████████████████████████████████████████████████████| 12/12 [00:02<00:00,  5.27it/s]\n"
     ]
    },
    {
     "name": "stdout",
     "output_type": "stream",
     "text": [
      "Starting epoch 59/64\n"
     ]
    },
    {
     "name": "stderr",
     "output_type": "stream",
     "text": [
      "100%|███████████████████████████████████████████████████████████████████████████████████████████████████████████████| 12/12 [00:02<00:00,  4.83it/s]\n"
     ]
    },
    {
     "name": "stdout",
     "output_type": "stream",
     "text": [
      "Starting validation epoch 59/64\n"
     ]
    },
    {
     "name": "stderr",
     "output_type": "stream",
     "text": [
      "100%|███████████████████████████████████████████████████████████████████████████████████████████████████████████████| 12/12 [00:02<00:00,  5.29it/s]\n"
     ]
    },
    {
     "name": "stdout",
     "output_type": "stream",
     "text": [
      "Starting epoch 60/64\n"
     ]
    },
    {
     "name": "stderr",
     "output_type": "stream",
     "text": [
      "100%|███████████████████████████████████████████████████████████████████████████████████████████████████████████████| 12/12 [00:02<00:00,  5.23it/s]\n"
     ]
    },
    {
     "name": "stdout",
     "output_type": "stream",
     "text": [
      "Starting validation epoch 60/64\n"
     ]
    },
    {
     "name": "stderr",
     "output_type": "stream",
     "text": [
      "100%|███████████████████████████████████████████████████████████████████████████████████████████████████████████████| 12/12 [00:02<00:00,  5.30it/s]\n"
     ]
    },
    {
     "name": "stdout",
     "output_type": "stream",
     "text": [
      "Starting epoch 61/64\n"
     ]
    },
    {
     "name": "stderr",
     "output_type": "stream",
     "text": [
      "100%|███████████████████████████████████████████████████████████████████████████████████████████████████████████████| 12/12 [00:02<00:00,  5.22it/s]\n"
     ]
    },
    {
     "name": "stdout",
     "output_type": "stream",
     "text": [
      "Starting validation epoch 61/64\n"
     ]
    },
    {
     "name": "stderr",
     "output_type": "stream",
     "text": [
      "100%|███████████████████████████████████████████████████████████████████████████████████████████████████████████████| 12/12 [00:02<00:00,  5.29it/s]\n"
     ]
    },
    {
     "name": "stdout",
     "output_type": "stream",
     "text": [
      "Starting epoch 62/64\n"
     ]
    },
    {
     "name": "stderr",
     "output_type": "stream",
     "text": [
      "100%|███████████████████████████████████████████████████████████████████████████████████████████████████████████████| 12/12 [00:02<00:00,  4.84it/s]\n"
     ]
    },
    {
     "name": "stdout",
     "output_type": "stream",
     "text": [
      "Starting validation epoch 62/64\n"
     ]
    },
    {
     "name": "stderr",
     "output_type": "stream",
     "text": [
      "100%|███████████████████████████████████████████████████████████████████████████████████████████████████████████████| 12/12 [00:02<00:00,  5.30it/s]\n"
     ]
    },
    {
     "name": "stdout",
     "output_type": "stream",
     "text": [
      "Starting epoch 63/64\n"
     ]
    },
    {
     "name": "stderr",
     "output_type": "stream",
     "text": [
      "100%|███████████████████████████████████████████████████████████████████████████████████████████████████████████████| 12/12 [00:02<00:00,  5.22it/s]\n"
     ]
    },
    {
     "name": "stdout",
     "output_type": "stream",
     "text": [
      "Starting validation epoch 63/64\n"
     ]
    },
    {
     "name": "stderr",
     "output_type": "stream",
     "text": [
      "100%|███████████████████████████████████████████████████████████████████████████████████████████████████████████████| 12/12 [00:02<00:00,  5.28it/s]\n"
     ]
    },
    {
     "name": "stdout",
     "output_type": "stream",
     "text": [
      "Starting epoch 64/64\n"
     ]
    },
    {
     "name": "stderr",
     "output_type": "stream",
     "text": [
      "100%|███████████████████████████████████████████████████████████████████████████████████████████████████████████████| 12/12 [00:02<00:00,  5.20it/s]\n"
     ]
    },
    {
     "name": "stdout",
     "output_type": "stream",
     "text": [
      "Starting validation epoch 64/64\n"
     ]
    },
    {
     "name": "stderr",
     "output_type": "stream",
     "text": [
      "100%|███████████████████████████████████████████████████████████████████████████████████████████████████████████████| 12/12 [00:02<00:00,  4.87it/s]\n"
     ]
    }
   ],
   "source": [
    "path = os.path.join('../experiments/contextual/', f'{model_id}_{corpus}_{task}_{datetime.now()}.ckpt')\n",
    "\n",
    "# Set model in training mode\n",
    "model.train()\n",
    "\n",
    "# Accumulator of loss\n",
    "history = []\n",
    "validation_history = []\n",
    "best_validation_loss = torch.tensor(float('inf'), device=device)\n",
    "\n",
    "# scheduler = torch.optim.lr_scheduler.OneCycleLR(optimizer, lr, steps_per_epoch=len(data_loader['train']), epochs=n_epochs, anneal_strategy='linear', pct_start=0.05)\n",
    "\n",
    "# Iterate over epochs\n",
    "for i in range(n_epochs):\n",
    "    print(f\"Starting epoch {i + 1}/{n_epochs}\")\n",
    "    # Iterate over training batches\n",
    "    for embeds_a, weights_a, embeds_b, weights_b, score in tqdm(data_loader['train']):\n",
    "        # Zero your gradients for every batch!\n",
    "        optimizer.zero_grad()\n",
    "        # Move input and output to target device\n",
    "        embeds_a = embeds_a.to(device)\n",
    "        weights_a = weights_a.to(device)\n",
    "        embeds_b = embeds_b.to(device)\n",
    "        weights_b = weights_b.to(device)\n",
    "        score = score.to(device)\n",
    "        # Compute logits \n",
    "        embeds_a = model(embeds_a, weights_a)\n",
    "        embeds_b = model(embeds_b, weights_b)\n",
    "        logits = torch.sum(embeds_a.squeeze() * embeds_b.squeeze(), dim=1, keepdims=True)\n",
    "        # Compute loss\n",
    "        ## loss = F.binary_cross_entropy_with_logits(logits, score)\n",
    "        loss = F.mse_loss(F.cosine_similarity(embeds_a, embeds_b, dim=-1), score)\n",
    "        # Compute gradients\n",
    "        loss.backward()\n",
    "        # Update weights\n",
    "        torch.nn.utils.clip_grad_norm_(model.parameters(), 1.0)\n",
    "        optimizer.step()\n",
    "        # scheduler.step()\n",
    "        # Save loss\n",
    "        history.append(loss.detach())\n",
    "    # Disable gradients\n",
    "    with torch.no_grad():\n",
    "        print(f\"Starting validation epoch {i + 1}/{n_epochs}\")\n",
    "        # Set in evaluation mode\n",
    "        model.eval()\n",
    "        # Init validation loss accumulator\n",
    "        loss = []\n",
    "        # Iterate over validation batches\n",
    "        for embeds_a, weights_a, embeds_b, weights_b, score in tqdm(data_loader['train']):\n",
    "            # Zero your gradients for every batch!\n",
    "            optimizer.zero_grad()\n",
    "            # Move input and output to target device\n",
    "            embeds_a = embeds_a.to(device)\n",
    "            weights_a = weights_a.to(device)\n",
    "            embeds_b = embeds_b.to(device)\n",
    "            weights_b = weights_b.to(device)\n",
    "            score = score.to(device)\n",
    "            # Compute logits \n",
    "            embeds_a = model(embeds_a, weights_a)\n",
    "            embeds_b = model(embeds_b, weights_b)\n",
    "            logits = torch.sum(embeds_a.squeeze() * embeds_b.squeeze(), dim=1, keepdims=True)\n",
    "            # Compute loss\n",
    "            ## loss.append(F.binary_cross_entropy_with_logits(logits, score))\n",
    "            loss.append(F.mse_loss(F.cosine_similarity(embeds_a, embeds_b, dim=-1), score))\n",
    "        # Aggregate validation loss\n",
    "        validation_history.append(torch.tensor(loss, device=device).mean())\n",
    "        # Check if validation loss has improved\n",
    "        if validation_history[-1] <= best_validation_loss:\n",
    "            torch.save(model.state_dict(), path)\n",
    "            best_validation_loss = validation_history[-1]\n",
    "        # Restore training mode\n",
    "        model.train()\n",
    "        \n",
    "# Restore best weights\n",
    "if os.path.exists(path):\n",
    "    model.load_state_dict(torch.load(path))\n",
    "\n",
    "history = [loss.cpu().item() for loss in history]\n",
    "validation_history = [loss.cpu().item() for loss in validation_history]"
   ]
  },
  {
   "cell_type": "code",
   "execution_count": 86,
   "metadata": {
    "collapsed": false,
    "jupyter": {
     "outputs_hidden": false
    }
   },
   "outputs": [
    {
     "data": {
      "image/png": "[encoded data removed]",
      "text/plain": [
       "<Figure size 640x480 with 1 Axes>"
      ]
     },
     "metadata": {},
     "output_type": "display_data"
    }
   ],
   "source": [
    "plt.figure()\n",
    "plt.plot(range(len(history)), history, label='Training loss')\n",
    "plt.plot(range(len(data_loader['train']) - 1, len(history), len(data_loader['train'])), validation_history, label='Validation loss')\n",
    "plt.legend(loc='best')\n",
    "plt.xlabel('Update step')\n",
    "plt.ylabel('Loss')\n",
    "plt.xlim([0.0, len(history)])\n",
    "plt.ylim([0.0, 1.0])\n",
    "plt.grid()"
   ]
  },
  {
   "cell_type": "markdown",
   "metadata": {
    "collapsed": false,
    "jupyter": {
     "outputs_hidden": false
    }
   },
   "source": [
    "##### Evaluation"
   ]
  },
  {
   "cell_type": "code",
   "execution_count": 87,
   "metadata": {
    "collapsed": false,
    "jupyter": {
     "outputs_hidden": false
    }
   },
   "outputs": [
    {
     "data": {
      "text/plain": [
       "SequenceEmbedding(\n",
       "  (norm): LayerNorm((512,), eps=1e-05, elementwise_affine=True)\n",
       "  (conv1d): Conv1d(300, 512, kernel_size=(5,), stride=(1,), padding=same)\n",
       "  (dropout): Dropout(p=0.1, inplace=False)\n",
       "  (out_head): Linear(in_features=512, out_features=512, bias=True)\n",
       "  (out_norm): LayerNorm((512,), eps=1e-05, elementwise_affine=True)\n",
       "  (pool): AttentionAvgPooling(\n",
       "    (qkv_attn): Conv1D()\n",
       "    (dropout): Dropout(p=0.1, inplace=False)\n",
       "  )\n",
       ")"
      ]
     },
     "execution_count": 87,
     "metadata": {},
     "output_type": "execute_result"
    }
   ],
   "source": [
    "# Set model in evaluation mode\n",
    "model.eval()"
   ]
  },
  {
   "cell_type": "markdown",
   "metadata": {
    "collapsed": false,
    "jupyter": {
     "outputs_hidden": false
    }
   },
   "source": [
    "Validation set"
   ]
  },
  {
   "cell_type": "code",
   "execution_count": 88,
   "metadata": {
    "collapsed": false,
    "jupyter": {
     "outputs_hidden": false
    }
   },
   "outputs": [
    {
     "name": "stderr",
     "output_type": "stream",
     "text": [
      "100%|█████████████████████████████████████████████████████████████████████████████████████████████████████████████████| 3/3 [00:00<00:00,  4.83it/s]"
     ]
    },
    {
     "name": "stdout",
     "output_type": "stream",
     "text": [
      "PearsonRResult(statistic=0.6929713664148289, pvalue=4.252306458165953e-215)\n",
      "SignificanceResult(statistic=0.7009003164390025, pvalue=4.293118901460029e-222)\n"
     ]
    },
    {
     "name": "stderr",
     "output_type": "stream",
     "text": [
      "\n"
     ]
    }
   ],
   "source": [
    "#\n",
    "split = 'validation'\n",
    "\n",
    "# Accumulators for target labels and predictions\n",
    "y_true = []\n",
    "y_pred = []\n",
    "\n",
    "# Disable gradients\n",
    "with torch.no_grad():\n",
    "    # Iterate over validation batches\n",
    "    for embeds_a, weights_a, embeds_b, weights_b, score in tqdm(data_loader[split]):\n",
    "        # Move input and output to target device\n",
    "        embeds_a = embeds_a.to(device)\n",
    "        weights_a = weights_a.to(device)\n",
    "        embeds_b = embeds_b.to(device)\n",
    "        weights_b = weights_b.to(device)\n",
    "        score = score.to(device)\n",
    "        # Compute logits \n",
    "        embeds_a = model(embeds_a, weights_a)\n",
    "        embeds_b = model(embeds_b, weights_b)\n",
    "        logits = torch.sum(embeds_a.squeeze() * embeds_b.squeeze(), dim=1, keepdims=True)\n",
    "        # Append predicted labels\n",
    "        ## y_pred.append(F.sigmoid(logits).view(-1).cpu().numpy())\n",
    "        y_pred.append(F.cosine_similarity(embeds_a, embeds_b, dim=-1).view(-1).cpu().numpy())\n",
    "        # Append target labels\n",
    "        y_true.append(score.view(-1).cpu().numpy())\n",
    "\n",
    "# Concatenate all the vectors of target labels and predicted labels\n",
    "y_true = np.concatenate(y_true)\n",
    "y_pred = np.concatenate(y_pred)\n",
    "\n",
    "# \n",
    "spearman_corr = spearmanr(y_true, y_pred)\n",
    "pearson_corr = pearsonr(y_true, y_pred)\n",
    "\n",
    "results.extend([\n",
    "    {\n",
    "        'corpus': corpus,\n",
    "        'task': task,\n",
    "        'embeddings': model_id,\n",
    "        'split': split,\n",
    "        'timestamp': timestamp,\n",
    "        'metric': metric,\n",
    "        'value': value\n",
    "    }\n",
    "    for metric, value in zip(\n",
    "        REG_METRICS, [pearson_corr.correlation, pearson_corr.pvalue, spearman_corr.correlation, spearman_corr.pvalue]\n",
    "    )\n",
    "])\n",
    "\n",
    "print(pearson_corr)\n",
    "print(spearman_corr)"
   ]
  },
  {
   "cell_type": "markdown",
   "metadata": {
    "collapsed": false,
    "jupyter": {
     "outputs_hidden": false
    }
   },
   "source": [
    "Test set"
   ]
  },
  {
   "cell_type": "code",
   "execution_count": 89,
   "metadata": {
    "collapsed": false,
    "jupyter": {
     "outputs_hidden": false
    }
   },
   "outputs": [
    {
     "name": "stderr",
     "output_type": "stream",
     "text": [
      "100%|█████████████████████████████████████████████████████████████████████████████████████████████████████████████████| 3/3 [00:00<00:00,  5.75it/s]"
     ]
    },
    {
     "name": "stdout",
     "output_type": "stream",
     "text": [
      "PearsonRResult(statistic=0.6336247941747083, pvalue=1.1183210883640635e-155)\n",
      "SignificanceResult(statistic=0.6190004467226042, pvalue=1.1836703811370369e-146)\n"
     ]
    },
    {
     "name": "stderr",
     "output_type": "stream",
     "text": [
      "\n"
     ]
    }
   ],
   "source": [
    "#\n",
    "split = 'test'\n",
    "\n",
    "# Accumulators for target labels and predictions\n",
    "y_true = []\n",
    "y_pred = []\n",
    "\n",
    "# Disable gradients\n",
    "with torch.no_grad():\n",
    "    # Iterate over validation batches\n",
    "    for embeds_a, weights_a, embeds_b, weights_b, score in tqdm(data_loader[split]):\n",
    "        # Move input and output to target device\n",
    "        embeds_a = embeds_a.to(device)\n",
    "        weights_a = weights_a.to(device)\n",
    "        embeds_b = embeds_b.to(device)\n",
    "        weights_b = weights_b.to(device)\n",
    "        score = score.to(device)\n",
    "        # Compute logits \n",
    "        embeds_a = model(embeds_a, weights_a)\n",
    "        embeds_b = model(embeds_b, weights_b)\n",
    "        logits = torch.sum(embeds_a.squeeze() * embeds_b.squeeze(), dim=1, keepdims=True)\n",
    "        # Append predicted labels\n",
    "        ## y_pred.append(F.sigmoid(logits).view(-1).cpu().numpy())\n",
    "        y_pred.append(F.cosine_similarity(embeds_a, embeds_b, dim=-1).view(-1).cpu().numpy())\n",
    "        # Append target labels\n",
    "        y_true.append(score.view(-1).cpu().numpy())\n",
    "\n",
    "# Concatenate all the vectors of target labels and predicted labels\n",
    "y_true = np.concatenate(y_true)\n",
    "y_pred = np.concatenate(y_pred)\n",
    "\n",
    "# \n",
    "spearman_corr = spearmanr(y_true, y_pred)\n",
    "pearson_corr = pearsonr(y_true, y_pred)\n",
    "\n",
    "results.extend([\n",
    "    {\n",
    "        'corpus': corpus,\n",
    "        'task': task,\n",
    "        'embeddings': model_id,\n",
    "        'split': split,\n",
    "        'timestamp': timestamp,\n",
    "        'metric': metric,\n",
    "        'value': value\n",
    "    }\n",
    "    for metric, value in zip(\n",
    "        REG_METRICS, [pearson_corr.correlation, pearson_corr.pvalue, spearman_corr.correlation, spearman_corr.pvalue]\n",
    "    )\n",
    "])\n",
    "\n",
    "print(pearson_corr)\n",
    "print(spearman_corr)"
   ]
  },
  {
   "cell_type": "markdown",
   "metadata": {
    "collapsed": false,
    "jupyter": {
     "outputs_hidden": false
    }
   },
   "source": [
    "## Results"
   ]
  },
  {
   "cell_type": "code",
   "execution_count": 90,
   "metadata": {
    "collapsed": false,
    "jupyter": {
     "outputs_hidden": false
    }
   },
   "outputs": [
    {
     "data": {
      "text/html": [
       "<div>\n",
       "<style scoped>\n",
       "    .dataframe tbody tr th:only-of-type {\n",
       "        vertical-align: middle;\n",
       "    }\n",
       "\n",
       "    .dataframe tbody tr th {\n",
       "        vertical-align: top;\n",
       "    }\n",
       "\n",
       "    .dataframe thead th {\n",
       "        text-align: right;\n",
       "    }\n",
       "</style>\n",
       "<table border=\"1\" class=\"dataframe\">\n",
       "  <thead>\n",
       "    <tr style=\"text-align: right;\">\n",
       "      <th></th>\n",
       "      <th>corpus</th>\n",
       "      <th>task</th>\n",
       "      <th>embeddings</th>\n",
       "      <th>split</th>\n",
       "      <th>timestamp</th>\n",
       "      <th>metric</th>\n",
       "      <th>value</th>\n",
       "    </tr>\n",
       "  </thead>\n",
       "  <tbody>\n",
       "    <tr>\n",
       "      <th>0</th>\n",
       "      <td>CoNLL-2003</td>\n",
       "      <td>pos</td>\n",
       "      <td>fast_text</td>\n",
       "      <td>validation</td>\n",
       "      <td>2024_05_18_11_37_25</td>\n",
       "      <td>accuracy</td>\n",
       "      <td>9.197656e-01</td>\n",
       "    </tr>\n",
       "    <tr>\n",
       "      <th>1</th>\n",
       "      <td>CoNLL-2003</td>\n",
       "      <td>pos</td>\n",
       "      <td>fast_text</td>\n",
       "      <td>validation</td>\n",
       "      <td>2024_05_18_11_37_25</td>\n",
       "      <td>precision (macro)</td>\n",
       "      <td>8.395864e-01</td>\n",
       "    </tr>\n",
       "    <tr>\n",
       "      <th>2</th>\n",
       "      <td>CoNLL-2003</td>\n",
       "      <td>pos</td>\n",
       "      <td>fast_text</td>\n",
       "      <td>validation</td>\n",
       "      <td>2024_05_18_11_37_25</td>\n",
       "      <td>recall (macro)</td>\n",
       "      <td>7.896298e-01</td>\n",
       "    </tr>\n",
       "    <tr>\n",
       "      <th>3</th>\n",
       "      <td>CoNLL-2003</td>\n",
       "      <td>pos</td>\n",
       "      <td>fast_text</td>\n",
       "      <td>validation</td>\n",
       "      <td>2024_05_18_11_37_25</td>\n",
       "      <td>fscore (macro)</td>\n",
       "      <td>8.078996e-01</td>\n",
       "    </tr>\n",
       "    <tr>\n",
       "      <th>4</th>\n",
       "      <td>CoNLL-2003</td>\n",
       "      <td>pos</td>\n",
       "      <td>fast_text</td>\n",
       "      <td>validation</td>\n",
       "      <td>2024_05_18_11_37_25</td>\n",
       "      <td>auc (macro)</td>\n",
       "      <td>9.917716e-01</td>\n",
       "    </tr>\n",
       "    <tr>\n",
       "      <th>...</th>\n",
       "      <td>...</td>\n",
       "      <td>...</td>\n",
       "      <td>...</td>\n",
       "      <td>...</td>\n",
       "      <td>...</td>\n",
       "      <td>...</td>\n",
       "      <td>...</td>\n",
       "    </tr>\n",
       "    <tr>\n",
       "      <th>115</th>\n",
       "      <td>STS</td>\n",
       "      <td>similarity_score</td>\n",
       "      <td>fast_text</td>\n",
       "      <td>validation</td>\n",
       "      <td>2024_05_18_11_37_25</td>\n",
       "      <td>spearman corr. p</td>\n",
       "      <td>4.293119e-222</td>\n",
       "    </tr>\n",
       "    <tr>\n",
       "      <th>116</th>\n",
       "      <td>STS</td>\n",
       "      <td>similarity_score</td>\n",
       "      <td>fast_text</td>\n",
       "      <td>test</td>\n",
       "      <td>2024_05_18_11_37_25</td>\n",
       "      <td>pearson corr.</td>\n",
       "      <td>6.336248e-01</td>\n",
       "    </tr>\n",
       "    <tr>\n",
       "      <th>117</th>\n",
       "      <td>STS</td>\n",
       "      <td>similarity_score</td>\n",
       "      <td>fast_text</td>\n",
       "      <td>test</td>\n",
       "      <td>2024_05_18_11_37_25</td>\n",
       "      <td>pearson corr. p</td>\n",
       "      <td>1.118321e-155</td>\n",
       "    </tr>\n",
       "    <tr>\n",
       "      <th>118</th>\n",
       "      <td>STS</td>\n",
       "      <td>similarity_score</td>\n",
       "      <td>fast_text</td>\n",
       "      <td>test</td>\n",
       "      <td>2024_05_18_11_37_25</td>\n",
       "      <td>spearman corr.</td>\n",
       "      <td>6.190004e-01</td>\n",
       "    </tr>\n",
       "    <tr>\n",
       "      <th>119</th>\n",
       "      <td>STS</td>\n",
       "      <td>similarity_score</td>\n",
       "      <td>fast_text</td>\n",
       "      <td>test</td>\n",
       "      <td>2024_05_18_11_37_25</td>\n",
       "      <td>spearman corr. p</td>\n",
       "      <td>1.183670e-146</td>\n",
       "    </tr>\n",
       "  </tbody>\n",
       "</table>\n",
       "<p>120 rows × 7 columns</p>\n",
       "</div>"
      ],
      "text/plain": [
       "         corpus              task embeddings       split            timestamp  \\\n",
       "0    CoNLL-2003               pos  fast_text  validation  2024_05_18_11_37_25   \n",
       "1    CoNLL-2003               pos  fast_text  validation  2024_05_18_11_37_25   \n",
       "2    CoNLL-2003               pos  fast_text  validation  2024_05_18_11_37_25   \n",
       "3    CoNLL-2003               pos  fast_text  validation  2024_05_18_11_37_25   \n",
       "4    CoNLL-2003               pos  fast_text  validation  2024_05_18_11_37_25   \n",
       "..          ...               ...        ...         ...                  ...   \n",
       "115         STS  similarity_score  fast_text  validation  2024_05_18_11_37_25   \n",
       "116         STS  similarity_score  fast_text        test  2024_05_18_11_37_25   \n",
       "117         STS  similarity_score  fast_text        test  2024_05_18_11_37_25   \n",
       "118         STS  similarity_score  fast_text        test  2024_05_18_11_37_25   \n",
       "119         STS  similarity_score  fast_text        test  2024_05_18_11_37_25   \n",
       "\n",
       "                metric          value  \n",
       "0             accuracy   9.197656e-01  \n",
       "1    precision (macro)   8.395864e-01  \n",
       "2       recall (macro)   7.896298e-01  \n",
       "3       fscore (macro)   8.078996e-01  \n",
       "4          auc (macro)   9.917716e-01  \n",
       "..                 ...            ...  \n",
       "115   spearman corr. p  4.293119e-222  \n",
       "116      pearson corr.   6.336248e-01  \n",
       "117    pearson corr. p  1.118321e-155  \n",
       "118     spearman corr.   6.190004e-01  \n",
       "119   spearman corr. p  1.183670e-146  \n",
       "\n",
       "[120 rows x 7 columns]"
      ]
     },
     "execution_count": 90,
     "metadata": {},
     "output_type": "execute_result"
    }
   ],
   "source": [
    "results_df = pd.DataFrame.from_dict(results)\n",
    "results_df"
   ]
  },
  {
   "cell_type": "code",
   "execution_count": 91,
   "metadata": {
    "collapsed": false,
    "jupyter": {
     "outputs_hidden": false
    }
   },
   "outputs": [],
   "source": [
    "if os.path.exists(RESULTS_FILE_PATH):\n",
    "    results_df.to_csv(RESULTS_FILE_PATH, mode='a', index=False, header=False)\n",
    "else:\n",
    "    results_df.to_csv(RESULTS_FILE_PATH, index=False)"
   ]
  },
  {
   "cell_type": "code",
   "execution_count": null,
   "metadata": {},
   "outputs": [],
   "source": []
  },
  {
   "cell_type": "code",
   "execution_count": 92,
   "metadata": {},
   "outputs": [
    {
     "data": {
      "text/html": [
       "<div>\n",
       "<style scoped>\n",
       "    .dataframe tbody tr th:only-of-type {\n",
       "        vertical-align: middle;\n",
       "    }\n",
       "\n",
       "    .dataframe tbody tr th {\n",
       "        vertical-align: top;\n",
       "    }\n",
       "\n",
       "    .dataframe thead th {\n",
       "        text-align: right;\n",
       "    }\n",
       "</style>\n",
       "<table border=\"1\" class=\"dataframe\">\n",
       "  <thead>\n",
       "    <tr style=\"text-align: right;\">\n",
       "      <th></th>\n",
       "      <th>corpus</th>\n",
       "      <th>task</th>\n",
       "      <th>embeddings</th>\n",
       "      <th>split</th>\n",
       "      <th>timestamp</th>\n",
       "      <th>metric</th>\n",
       "      <th>value</th>\n",
       "    </tr>\n",
       "  </thead>\n",
       "  <tbody>\n",
       "    <tr>\n",
       "      <th>9</th>\n",
       "      <td>CoNLL-2003</td>\n",
       "      <td>pos</td>\n",
       "      <td>fast_text</td>\n",
       "      <td>validation</td>\n",
       "      <td>2024_05_18_11_37_25</td>\n",
       "      <td>accuracy (sample weight)</td>\n",
       "      <td>9.118071e-01</td>\n",
       "    </tr>\n",
       "    <tr>\n",
       "      <th>10</th>\n",
       "      <td>CoNLL-2003</td>\n",
       "      <td>pos</td>\n",
       "      <td>fast_text</td>\n",
       "      <td>validation</td>\n",
       "      <td>2024_05_18_11_37_25</td>\n",
       "      <td>precision (sample weight)</td>\n",
       "      <td>9.180423e-01</td>\n",
       "    </tr>\n",
       "    <tr>\n",
       "      <th>11</th>\n",
       "      <td>CoNLL-2003</td>\n",
       "      <td>pos</td>\n",
       "      <td>fast_text</td>\n",
       "      <td>validation</td>\n",
       "      <td>2024_05_18_11_37_25</td>\n",
       "      <td>recall (sample weight)</td>\n",
       "      <td>9.118071e-01</td>\n",
       "    </tr>\n",
       "    <tr>\n",
       "      <th>12</th>\n",
       "      <td>CoNLL-2003</td>\n",
       "      <td>pos</td>\n",
       "      <td>fast_text</td>\n",
       "      <td>validation</td>\n",
       "      <td>2024_05_18_11_37_25</td>\n",
       "      <td>fscore (sample weight)</td>\n",
       "      <td>9.137532e-01</td>\n",
       "    </tr>\n",
       "    <tr>\n",
       "      <th>13</th>\n",
       "      <td>CoNLL-2003</td>\n",
       "      <td>pos</td>\n",
       "      <td>fast_text</td>\n",
       "      <td>validation</td>\n",
       "      <td>2024_05_18_11_37_25</td>\n",
       "      <td>auc (sample weight)</td>\n",
       "      <td>9.876824e-01</td>\n",
       "    </tr>\n",
       "    <tr>\n",
       "      <th>23</th>\n",
       "      <td>CoNLL-2003</td>\n",
       "      <td>pos</td>\n",
       "      <td>fast_text</td>\n",
       "      <td>test</td>\n",
       "      <td>2024_05_18_11_37_25</td>\n",
       "      <td>accuracy (sample weight)</td>\n",
       "      <td>9.067781e-01</td>\n",
       "    </tr>\n",
       "    <tr>\n",
       "      <th>24</th>\n",
       "      <td>CoNLL-2003</td>\n",
       "      <td>pos</td>\n",
       "      <td>fast_text</td>\n",
       "      <td>test</td>\n",
       "      <td>2024_05_18_11_37_25</td>\n",
       "      <td>precision (sample weight)</td>\n",
       "      <td>9.169476e-01</td>\n",
       "    </tr>\n",
       "    <tr>\n",
       "      <th>25</th>\n",
       "      <td>CoNLL-2003</td>\n",
       "      <td>pos</td>\n",
       "      <td>fast_text</td>\n",
       "      <td>test</td>\n",
       "      <td>2024_05_18_11_37_25</td>\n",
       "      <td>recall (sample weight)</td>\n",
       "      <td>9.067781e-01</td>\n",
       "    </tr>\n",
       "    <tr>\n",
       "      <th>26</th>\n",
       "      <td>CoNLL-2003</td>\n",
       "      <td>pos</td>\n",
       "      <td>fast_text</td>\n",
       "      <td>test</td>\n",
       "      <td>2024_05_18_11_37_25</td>\n",
       "      <td>fscore (sample weight)</td>\n",
       "      <td>9.101486e-01</td>\n",
       "    </tr>\n",
       "    <tr>\n",
       "      <th>27</th>\n",
       "      <td>CoNLL-2003</td>\n",
       "      <td>pos</td>\n",
       "      <td>fast_text</td>\n",
       "      <td>test</td>\n",
       "      <td>2024_05_18_11_37_25</td>\n",
       "      <td>auc (sample weight)</td>\n",
       "      <td>9.872414e-01</td>\n",
       "    </tr>\n",
       "    <tr>\n",
       "      <th>37</th>\n",
       "      <td>CoNLL-2003</td>\n",
       "      <td>chunk</td>\n",
       "      <td>fast_text</td>\n",
       "      <td>validation</td>\n",
       "      <td>2024_05_18_11_37_25</td>\n",
       "      <td>accuracy (sample weight)</td>\n",
       "      <td>9.469765e-01</td>\n",
       "    </tr>\n",
       "    <tr>\n",
       "      <th>38</th>\n",
       "      <td>CoNLL-2003</td>\n",
       "      <td>chunk</td>\n",
       "      <td>fast_text</td>\n",
       "      <td>validation</td>\n",
       "      <td>2024_05_18_11_37_25</td>\n",
       "      <td>precision (sample weight)</td>\n",
       "      <td>9.500905e-01</td>\n",
       "    </tr>\n",
       "    <tr>\n",
       "      <th>39</th>\n",
       "      <td>CoNLL-2003</td>\n",
       "      <td>chunk</td>\n",
       "      <td>fast_text</td>\n",
       "      <td>validation</td>\n",
       "      <td>2024_05_18_11_37_25</td>\n",
       "      <td>recall (sample weight)</td>\n",
       "      <td>9.469765e-01</td>\n",
       "    </tr>\n",
       "    <tr>\n",
       "      <th>40</th>\n",
       "      <td>CoNLL-2003</td>\n",
       "      <td>chunk</td>\n",
       "      <td>fast_text</td>\n",
       "      <td>validation</td>\n",
       "      <td>2024_05_18_11_37_25</td>\n",
       "      <td>fscore (sample weight)</td>\n",
       "      <td>9.482422e-01</td>\n",
       "    </tr>\n",
       "    <tr>\n",
       "      <th>41</th>\n",
       "      <td>CoNLL-2003</td>\n",
       "      <td>chunk</td>\n",
       "      <td>fast_text</td>\n",
       "      <td>validation</td>\n",
       "      <td>2024_05_18_11_37_25</td>\n",
       "      <td>auc (sample weight)</td>\n",
       "      <td>9.912117e-01</td>\n",
       "    </tr>\n",
       "    <tr>\n",
       "      <th>51</th>\n",
       "      <td>CoNLL-2003</td>\n",
       "      <td>chunk</td>\n",
       "      <td>fast_text</td>\n",
       "      <td>test</td>\n",
       "      <td>2024_05_18_11_37_25</td>\n",
       "      <td>accuracy (sample weight)</td>\n",
       "      <td>9.454244e-01</td>\n",
       "    </tr>\n",
       "    <tr>\n",
       "      <th>52</th>\n",
       "      <td>CoNLL-2003</td>\n",
       "      <td>chunk</td>\n",
       "      <td>fast_text</td>\n",
       "      <td>test</td>\n",
       "      <td>2024_05_18_11_37_25</td>\n",
       "      <td>precision (sample weight)</td>\n",
       "      <td>9.483149e-01</td>\n",
       "    </tr>\n",
       "    <tr>\n",
       "      <th>53</th>\n",
       "      <td>CoNLL-2003</td>\n",
       "      <td>chunk</td>\n",
       "      <td>fast_text</td>\n",
       "      <td>test</td>\n",
       "      <td>2024_05_18_11_37_25</td>\n",
       "      <td>recall (sample weight)</td>\n",
       "      <td>9.454244e-01</td>\n",
       "    </tr>\n",
       "    <tr>\n",
       "      <th>54</th>\n",
       "      <td>CoNLL-2003</td>\n",
       "      <td>chunk</td>\n",
       "      <td>fast_text</td>\n",
       "      <td>test</td>\n",
       "      <td>2024_05_18_11_37_25</td>\n",
       "      <td>fscore (sample weight)</td>\n",
       "      <td>9.466299e-01</td>\n",
       "    </tr>\n",
       "    <tr>\n",
       "      <th>55</th>\n",
       "      <td>CoNLL-2003</td>\n",
       "      <td>chunk</td>\n",
       "      <td>fast_text</td>\n",
       "      <td>test</td>\n",
       "      <td>2024_05_18_11_37_25</td>\n",
       "      <td>auc (sample weight)</td>\n",
       "      <td>9.887538e-01</td>\n",
       "    </tr>\n",
       "    <tr>\n",
       "      <th>65</th>\n",
       "      <td>CoNLL-2003</td>\n",
       "      <td>ner</td>\n",
       "      <td>fast_text</td>\n",
       "      <td>validation</td>\n",
       "      <td>2024_05_18_11_37_25</td>\n",
       "      <td>accuracy (sample weight)</td>\n",
       "      <td>9.945115e-01</td>\n",
       "    </tr>\n",
       "    <tr>\n",
       "      <th>66</th>\n",
       "      <td>CoNLL-2003</td>\n",
       "      <td>ner</td>\n",
       "      <td>fast_text</td>\n",
       "      <td>validation</td>\n",
       "      <td>2024_05_18_11_37_25</td>\n",
       "      <td>precision (sample weight)</td>\n",
       "      <td>9.970247e-01</td>\n",
       "    </tr>\n",
       "    <tr>\n",
       "      <th>67</th>\n",
       "      <td>CoNLL-2003</td>\n",
       "      <td>ner</td>\n",
       "      <td>fast_text</td>\n",
       "      <td>validation</td>\n",
       "      <td>2024_05_18_11_37_25</td>\n",
       "      <td>recall (sample weight)</td>\n",
       "      <td>9.945115e-01</td>\n",
       "    </tr>\n",
       "    <tr>\n",
       "      <th>68</th>\n",
       "      <td>CoNLL-2003</td>\n",
       "      <td>ner</td>\n",
       "      <td>fast_text</td>\n",
       "      <td>validation</td>\n",
       "      <td>2024_05_18_11_37_25</td>\n",
       "      <td>fscore (sample weight)</td>\n",
       "      <td>9.955877e-01</td>\n",
       "    </tr>\n",
       "    <tr>\n",
       "      <th>69</th>\n",
       "      <td>CoNLL-2003</td>\n",
       "      <td>ner</td>\n",
       "      <td>fast_text</td>\n",
       "      <td>validation</td>\n",
       "      <td>2024_05_18_11_37_25</td>\n",
       "      <td>auc (sample weight)</td>\n",
       "      <td>9.940023e-01</td>\n",
       "    </tr>\n",
       "    <tr>\n",
       "      <th>79</th>\n",
       "      <td>CoNLL-2003</td>\n",
       "      <td>ner</td>\n",
       "      <td>fast_text</td>\n",
       "      <td>test</td>\n",
       "      <td>2024_05_18_11_37_25</td>\n",
       "      <td>accuracy (sample weight)</td>\n",
       "      <td>9.904884e-01</td>\n",
       "    </tr>\n",
       "    <tr>\n",
       "      <th>80</th>\n",
       "      <td>CoNLL-2003</td>\n",
       "      <td>ner</td>\n",
       "      <td>fast_text</td>\n",
       "      <td>test</td>\n",
       "      <td>2024_05_18_11_37_25</td>\n",
       "      <td>precision (sample weight)</td>\n",
       "      <td>9.959415e-01</td>\n",
       "    </tr>\n",
       "    <tr>\n",
       "      <th>81</th>\n",
       "      <td>CoNLL-2003</td>\n",
       "      <td>ner</td>\n",
       "      <td>fast_text</td>\n",
       "      <td>test</td>\n",
       "      <td>2024_05_18_11_37_25</td>\n",
       "      <td>recall (sample weight)</td>\n",
       "      <td>9.904884e-01</td>\n",
       "    </tr>\n",
       "    <tr>\n",
       "      <th>82</th>\n",
       "      <td>CoNLL-2003</td>\n",
       "      <td>ner</td>\n",
       "      <td>fast_text</td>\n",
       "      <td>test</td>\n",
       "      <td>2024_05_18_11_37_25</td>\n",
       "      <td>fscore (sample weight)</td>\n",
       "      <td>9.929194e-01</td>\n",
       "    </tr>\n",
       "    <tr>\n",
       "      <th>83</th>\n",
       "      <td>CoNLL-2003</td>\n",
       "      <td>ner</td>\n",
       "      <td>fast_text</td>\n",
       "      <td>test</td>\n",
       "      <td>2024_05_18_11_37_25</td>\n",
       "      <td>auc (sample weight)</td>\n",
       "      <td>9.942484e-01</td>\n",
       "    </tr>\n",
       "    <tr>\n",
       "      <th>93</th>\n",
       "      <td>SST</td>\n",
       "      <td>sentiment</td>\n",
       "      <td>fast_text</td>\n",
       "      <td>validation</td>\n",
       "      <td>2024_05_18_11_37_25</td>\n",
       "      <td>accuracy (sample weight)</td>\n",
       "      <td>6.688072e-01</td>\n",
       "    </tr>\n",
       "    <tr>\n",
       "      <th>94</th>\n",
       "      <td>SST</td>\n",
       "      <td>sentiment</td>\n",
       "      <td>fast_text</td>\n",
       "      <td>validation</td>\n",
       "      <td>2024_05_18_11_37_25</td>\n",
       "      <td>precision (sample weight)</td>\n",
       "      <td>6.688148e-01</td>\n",
       "    </tr>\n",
       "    <tr>\n",
       "      <th>95</th>\n",
       "      <td>SST</td>\n",
       "      <td>sentiment</td>\n",
       "      <td>fast_text</td>\n",
       "      <td>validation</td>\n",
       "      <td>2024_05_18_11_37_25</td>\n",
       "      <td>recall (sample weight)</td>\n",
       "      <td>6.688072e-01</td>\n",
       "    </tr>\n",
       "    <tr>\n",
       "      <th>96</th>\n",
       "      <td>SST</td>\n",
       "      <td>sentiment</td>\n",
       "      <td>fast_text</td>\n",
       "      <td>validation</td>\n",
       "      <td>2024_05_18_11_37_25</td>\n",
       "      <td>fscore (sample weight)</td>\n",
       "      <td>6.688109e-01</td>\n",
       "    </tr>\n",
       "    <tr>\n",
       "      <th>97</th>\n",
       "      <td>SST</td>\n",
       "      <td>sentiment</td>\n",
       "      <td>fast_text</td>\n",
       "      <td>validation</td>\n",
       "      <td>2024_05_18_11_37_25</td>\n",
       "      <td>auc (sample weight)</td>\n",
       "      <td>7.191749e-01</td>\n",
       "    </tr>\n",
       "    <tr>\n",
       "      <th>107</th>\n",
       "      <td>SST</td>\n",
       "      <td>sentiment</td>\n",
       "      <td>fast_text</td>\n",
       "      <td>test</td>\n",
       "      <td>2024_05_18_11_37_25</td>\n",
       "      <td>accuracy (sample weight)</td>\n",
       "      <td>6.841341e-01</td>\n",
       "    </tr>\n",
       "    <tr>\n",
       "      <th>108</th>\n",
       "      <td>SST</td>\n",
       "      <td>sentiment</td>\n",
       "      <td>fast_text</td>\n",
       "      <td>test</td>\n",
       "      <td>2024_05_18_11_37_25</td>\n",
       "      <td>precision (sample weight)</td>\n",
       "      <td>6.841416e-01</td>\n",
       "    </tr>\n",
       "    <tr>\n",
       "      <th>109</th>\n",
       "      <td>SST</td>\n",
       "      <td>sentiment</td>\n",
       "      <td>fast_text</td>\n",
       "      <td>test</td>\n",
       "      <td>2024_05_18_11_37_25</td>\n",
       "      <td>recall (sample weight)</td>\n",
       "      <td>6.841341e-01</td>\n",
       "    </tr>\n",
       "    <tr>\n",
       "      <th>110</th>\n",
       "      <td>SST</td>\n",
       "      <td>sentiment</td>\n",
       "      <td>fast_text</td>\n",
       "      <td>test</td>\n",
       "      <td>2024_05_18_11_37_25</td>\n",
       "      <td>fscore (sample weight)</td>\n",
       "      <td>6.841378e-01</td>\n",
       "    </tr>\n",
       "    <tr>\n",
       "      <th>111</th>\n",
       "      <td>SST</td>\n",
       "      <td>sentiment</td>\n",
       "      <td>fast_text</td>\n",
       "      <td>test</td>\n",
       "      <td>2024_05_18_11_37_25</td>\n",
       "      <td>auc (sample weight)</td>\n",
       "      <td>7.253381e-01</td>\n",
       "    </tr>\n",
       "    <tr>\n",
       "      <th>112</th>\n",
       "      <td>STS</td>\n",
       "      <td>similarity_score</td>\n",
       "      <td>fast_text</td>\n",
       "      <td>validation</td>\n",
       "      <td>2024_05_18_11_37_25</td>\n",
       "      <td>pearson corr.</td>\n",
       "      <td>6.929714e-01</td>\n",
       "    </tr>\n",
       "    <tr>\n",
       "      <th>113</th>\n",
       "      <td>STS</td>\n",
       "      <td>similarity_score</td>\n",
       "      <td>fast_text</td>\n",
       "      <td>validation</td>\n",
       "      <td>2024_05_18_11_37_25</td>\n",
       "      <td>pearson corr. p</td>\n",
       "      <td>4.252306e-215</td>\n",
       "    </tr>\n",
       "    <tr>\n",
       "      <th>114</th>\n",
       "      <td>STS</td>\n",
       "      <td>similarity_score</td>\n",
       "      <td>fast_text</td>\n",
       "      <td>validation</td>\n",
       "      <td>2024_05_18_11_37_25</td>\n",
       "      <td>spearman corr.</td>\n",
       "      <td>7.009003e-01</td>\n",
       "    </tr>\n",
       "    <tr>\n",
       "      <th>115</th>\n",
       "      <td>STS</td>\n",
       "      <td>similarity_score</td>\n",
       "      <td>fast_text</td>\n",
       "      <td>validation</td>\n",
       "      <td>2024_05_18_11_37_25</td>\n",
       "      <td>spearman corr. p</td>\n",
       "      <td>4.293119e-222</td>\n",
       "    </tr>\n",
       "    <tr>\n",
       "      <th>116</th>\n",
       "      <td>STS</td>\n",
       "      <td>similarity_score</td>\n",
       "      <td>fast_text</td>\n",
       "      <td>test</td>\n",
       "      <td>2024_05_18_11_37_25</td>\n",
       "      <td>pearson corr.</td>\n",
       "      <td>6.336248e-01</td>\n",
       "    </tr>\n",
       "    <tr>\n",
       "      <th>117</th>\n",
       "      <td>STS</td>\n",
       "      <td>similarity_score</td>\n",
       "      <td>fast_text</td>\n",
       "      <td>test</td>\n",
       "      <td>2024_05_18_11_37_25</td>\n",
       "      <td>pearson corr. p</td>\n",
       "      <td>1.118321e-155</td>\n",
       "    </tr>\n",
       "    <tr>\n",
       "      <th>118</th>\n",
       "      <td>STS</td>\n",
       "      <td>similarity_score</td>\n",
       "      <td>fast_text</td>\n",
       "      <td>test</td>\n",
       "      <td>2024_05_18_11_37_25</td>\n",
       "      <td>spearman corr.</td>\n",
       "      <td>6.190004e-01</td>\n",
       "    </tr>\n",
       "    <tr>\n",
       "      <th>119</th>\n",
       "      <td>STS</td>\n",
       "      <td>similarity_score</td>\n",
       "      <td>fast_text</td>\n",
       "      <td>test</td>\n",
       "      <td>2024_05_18_11_37_25</td>\n",
       "      <td>spearman corr. p</td>\n",
       "      <td>1.183670e-146</td>\n",
       "    </tr>\n",
       "  </tbody>\n",
       "</table>\n",
       "</div>"
      ],
      "text/plain": [
       "         corpus              task embeddings       split            timestamp  \\\n",
       "9    CoNLL-2003               pos  fast_text  validation  2024_05_18_11_37_25   \n",
       "10   CoNLL-2003               pos  fast_text  validation  2024_05_18_11_37_25   \n",
       "11   CoNLL-2003               pos  fast_text  validation  2024_05_18_11_37_25   \n",
       "12   CoNLL-2003               pos  fast_text  validation  2024_05_18_11_37_25   \n",
       "13   CoNLL-2003               pos  fast_text  validation  2024_05_18_11_37_25   \n",
       "23   CoNLL-2003               pos  fast_text        test  2024_05_18_11_37_25   \n",
       "24   CoNLL-2003               pos  fast_text        test  2024_05_18_11_37_25   \n",
       "25   CoNLL-2003               pos  fast_text        test  2024_05_18_11_37_25   \n",
       "26   CoNLL-2003               pos  fast_text        test  2024_05_18_11_37_25   \n",
       "27   CoNLL-2003               pos  fast_text        test  2024_05_18_11_37_25   \n",
       "37   CoNLL-2003             chunk  fast_text  validation  2024_05_18_11_37_25   \n",
       "38   CoNLL-2003             chunk  fast_text  validation  2024_05_18_11_37_25   \n",
       "39   CoNLL-2003             chunk  fast_text  validation  2024_05_18_11_37_25   \n",
       "40   CoNLL-2003             chunk  fast_text  validation  2024_05_18_11_37_25   \n",
       "41   CoNLL-2003             chunk  fast_text  validation  2024_05_18_11_37_25   \n",
       "51   CoNLL-2003             chunk  fast_text        test  2024_05_18_11_37_25   \n",
       "52   CoNLL-2003             chunk  fast_text        test  2024_05_18_11_37_25   \n",
       "53   CoNLL-2003             chunk  fast_text        test  2024_05_18_11_37_25   \n",
       "54   CoNLL-2003             chunk  fast_text        test  2024_05_18_11_37_25   \n",
       "55   CoNLL-2003             chunk  fast_text        test  2024_05_18_11_37_25   \n",
       "65   CoNLL-2003               ner  fast_text  validation  2024_05_18_11_37_25   \n",
       "66   CoNLL-2003               ner  fast_text  validation  2024_05_18_11_37_25   \n",
       "67   CoNLL-2003               ner  fast_text  validation  2024_05_18_11_37_25   \n",
       "68   CoNLL-2003               ner  fast_text  validation  2024_05_18_11_37_25   \n",
       "69   CoNLL-2003               ner  fast_text  validation  2024_05_18_11_37_25   \n",
       "79   CoNLL-2003               ner  fast_text        test  2024_05_18_11_37_25   \n",
       "80   CoNLL-2003               ner  fast_text        test  2024_05_18_11_37_25   \n",
       "81   CoNLL-2003               ner  fast_text        test  2024_05_18_11_37_25   \n",
       "82   CoNLL-2003               ner  fast_text        test  2024_05_18_11_37_25   \n",
       "83   CoNLL-2003               ner  fast_text        test  2024_05_18_11_37_25   \n",
       "93          SST         sentiment  fast_text  validation  2024_05_18_11_37_25   \n",
       "94          SST         sentiment  fast_text  validation  2024_05_18_11_37_25   \n",
       "95          SST         sentiment  fast_text  validation  2024_05_18_11_37_25   \n",
       "96          SST         sentiment  fast_text  validation  2024_05_18_11_37_25   \n",
       "97          SST         sentiment  fast_text  validation  2024_05_18_11_37_25   \n",
       "107         SST         sentiment  fast_text        test  2024_05_18_11_37_25   \n",
       "108         SST         sentiment  fast_text        test  2024_05_18_11_37_25   \n",
       "109         SST         sentiment  fast_text        test  2024_05_18_11_37_25   \n",
       "110         SST         sentiment  fast_text        test  2024_05_18_11_37_25   \n",
       "111         SST         sentiment  fast_text        test  2024_05_18_11_37_25   \n",
       "112         STS  similarity_score  fast_text  validation  2024_05_18_11_37_25   \n",
       "113         STS  similarity_score  fast_text  validation  2024_05_18_11_37_25   \n",
       "114         STS  similarity_score  fast_text  validation  2024_05_18_11_37_25   \n",
       "115         STS  similarity_score  fast_text  validation  2024_05_18_11_37_25   \n",
       "116         STS  similarity_score  fast_text        test  2024_05_18_11_37_25   \n",
       "117         STS  similarity_score  fast_text        test  2024_05_18_11_37_25   \n",
       "118         STS  similarity_score  fast_text        test  2024_05_18_11_37_25   \n",
       "119         STS  similarity_score  fast_text        test  2024_05_18_11_37_25   \n",
       "\n",
       "                        metric          value  \n",
       "9     accuracy (sample weight)   9.118071e-01  \n",
       "10   precision (sample weight)   9.180423e-01  \n",
       "11      recall (sample weight)   9.118071e-01  \n",
       "12      fscore (sample weight)   9.137532e-01  \n",
       "13         auc (sample weight)   9.876824e-01  \n",
       "23    accuracy (sample weight)   9.067781e-01  \n",
       "24   precision (sample weight)   9.169476e-01  \n",
       "25      recall (sample weight)   9.067781e-01  \n",
       "26      fscore (sample weight)   9.101486e-01  \n",
       "27         auc (sample weight)   9.872414e-01  \n",
       "37    accuracy (sample weight)   9.469765e-01  \n",
       "38   precision (sample weight)   9.500905e-01  \n",
       "39      recall (sample weight)   9.469765e-01  \n",
       "40      fscore (sample weight)   9.482422e-01  \n",
       "41         auc (sample weight)   9.912117e-01  \n",
       "51    accuracy (sample weight)   9.454244e-01  \n",
       "52   precision (sample weight)   9.483149e-01  \n",
       "53      recall (sample weight)   9.454244e-01  \n",
       "54      fscore (sample weight)   9.466299e-01  \n",
       "55         auc (sample weight)   9.887538e-01  \n",
       "65    accuracy (sample weight)   9.945115e-01  \n",
       "66   precision (sample weight)   9.970247e-01  \n",
       "67      recall (sample weight)   9.945115e-01  \n",
       "68      fscore (sample weight)   9.955877e-01  \n",
       "69         auc (sample weight)   9.940023e-01  \n",
       "79    accuracy (sample weight)   9.904884e-01  \n",
       "80   precision (sample weight)   9.959415e-01  \n",
       "81      recall (sample weight)   9.904884e-01  \n",
       "82      fscore (sample weight)   9.929194e-01  \n",
       "83         auc (sample weight)   9.942484e-01  \n",
       "93    accuracy (sample weight)   6.688072e-01  \n",
       "94   precision (sample weight)   6.688148e-01  \n",
       "95      recall (sample weight)   6.688072e-01  \n",
       "96      fscore (sample weight)   6.688109e-01  \n",
       "97         auc (sample weight)   7.191749e-01  \n",
       "107   accuracy (sample weight)   6.841341e-01  \n",
       "108  precision (sample weight)   6.841416e-01  \n",
       "109     recall (sample weight)   6.841341e-01  \n",
       "110     fscore (sample weight)   6.841378e-01  \n",
       "111        auc (sample weight)   7.253381e-01  \n",
       "112              pearson corr.   6.929714e-01  \n",
       "113            pearson corr. p  4.252306e-215  \n",
       "114             spearman corr.   7.009003e-01  \n",
       "115           spearman corr. p  4.293119e-222  \n",
       "116              pearson corr.   6.336248e-01  \n",
       "117            pearson corr. p  1.118321e-155  \n",
       "118             spearman corr.   6.190004e-01  \n",
       "119           spearman corr. p  1.183670e-146  "
      ]
     },
     "execution_count": 92,
     "metadata": {},
     "output_type": "execute_result"
    }
   ],
   "source": [
    "df = results_df[results_df['metric'].apply(lambda x: '(sample weight)' in x or 'corr.' in x)]\n",
    "df"
   ]
  },
  {
   "cell_type": "code",
   "execution_count": 93,
   "metadata": {},
   "outputs": [
    {
     "data": {
      "text/html": [
       "<div>\n",
       "<style scoped>\n",
       "    .dataframe tbody tr th:only-of-type {\n",
       "        vertical-align: middle;\n",
       "    }\n",
       "\n",
       "    .dataframe tbody tr th {\n",
       "        vertical-align: top;\n",
       "    }\n",
       "\n",
       "    .dataframe thead tr th {\n",
       "        text-align: left;\n",
       "    }\n",
       "\n",
       "    .dataframe thead tr:last-of-type th {\n",
       "        text-align: right;\n",
       "    }\n",
       "</style>\n",
       "<table border=\"1\" class=\"dataframe\">\n",
       "  <thead>\n",
       "    <tr>\n",
       "      <th></th>\n",
       "      <th></th>\n",
       "      <th></th>\n",
       "      <th colspan=\"8\" halign=\"left\">value</th>\n",
       "    </tr>\n",
       "    <tr>\n",
       "      <th></th>\n",
       "      <th></th>\n",
       "      <th></th>\n",
       "      <th>count</th>\n",
       "      <th>mean</th>\n",
       "      <th>std</th>\n",
       "      <th>min</th>\n",
       "      <th>25%</th>\n",
       "      <th>50%</th>\n",
       "      <th>75%</th>\n",
       "      <th>max</th>\n",
       "    </tr>\n",
       "    <tr>\n",
       "      <th>task</th>\n",
       "      <th>metric</th>\n",
       "      <th>split</th>\n",
       "      <th></th>\n",
       "      <th></th>\n",
       "      <th></th>\n",
       "      <th></th>\n",
       "      <th></th>\n",
       "      <th></th>\n",
       "      <th></th>\n",
       "      <th></th>\n",
       "    </tr>\n",
       "  </thead>\n",
       "  <tbody>\n",
       "    <tr>\n",
       "      <th rowspan=\"10\" valign=\"top\">chunk</th>\n",
       "      <th rowspan=\"2\" valign=\"top\">accuracy (sample weight)</th>\n",
       "      <th>test</th>\n",
       "      <td>1.0</td>\n",
       "      <td>9.454244e-01</td>\n",
       "      <td>NaN</td>\n",
       "      <td>9.454244e-01</td>\n",
       "      <td>9.454244e-01</td>\n",
       "      <td>9.454244e-01</td>\n",
       "      <td>9.454244e-01</td>\n",
       "      <td>9.454244e-01</td>\n",
       "    </tr>\n",
       "    <tr>\n",
       "      <th>validation</th>\n",
       "      <td>1.0</td>\n",
       "      <td>9.469765e-01</td>\n",
       "      <td>NaN</td>\n",
       "      <td>9.469765e-01</td>\n",
       "      <td>9.469765e-01</td>\n",
       "      <td>9.469765e-01</td>\n",
       "      <td>9.469765e-01</td>\n",
       "      <td>9.469765e-01</td>\n",
       "    </tr>\n",
       "    <tr>\n",
       "      <th rowspan=\"2\" valign=\"top\">auc (sample weight)</th>\n",
       "      <th>test</th>\n",
       "      <td>1.0</td>\n",
       "      <td>9.887538e-01</td>\n",
       "      <td>NaN</td>\n",
       "      <td>9.887538e-01</td>\n",
       "      <td>9.887538e-01</td>\n",
       "      <td>9.887538e-01</td>\n",
       "      <td>9.887538e-01</td>\n",
       "      <td>9.887538e-01</td>\n",
       "    </tr>\n",
       "    <tr>\n",
       "      <th>validation</th>\n",
       "      <td>1.0</td>\n",
       "      <td>9.912117e-01</td>\n",
       "      <td>NaN</td>\n",
       "      <td>9.912117e-01</td>\n",
       "      <td>9.912117e-01</td>\n",
       "      <td>9.912117e-01</td>\n",
       "      <td>9.912117e-01</td>\n",
       "      <td>9.912117e-01</td>\n",
       "    </tr>\n",
       "    <tr>\n",
       "      <th rowspan=\"2\" valign=\"top\">fscore (sample weight)</th>\n",
       "      <th>test</th>\n",
       "      <td>1.0</td>\n",
       "      <td>9.466299e-01</td>\n",
       "      <td>NaN</td>\n",
       "      <td>9.466299e-01</td>\n",
       "      <td>9.466299e-01</td>\n",
       "      <td>9.466299e-01</td>\n",
       "      <td>9.466299e-01</td>\n",
       "      <td>9.466299e-01</td>\n",
       "    </tr>\n",
       "    <tr>\n",
       "      <th>validation</th>\n",
       "      <td>1.0</td>\n",
       "      <td>9.482422e-01</td>\n",
       "      <td>NaN</td>\n",
       "      <td>9.482422e-01</td>\n",
       "      <td>9.482422e-01</td>\n",
       "      <td>9.482422e-01</td>\n",
       "      <td>9.482422e-01</td>\n",
       "      <td>9.482422e-01</td>\n",
       "    </tr>\n",
       "    <tr>\n",
       "      <th rowspan=\"2\" valign=\"top\">precision (sample weight)</th>\n",
       "      <th>test</th>\n",
       "      <td>1.0</td>\n",
       "      <td>9.483149e-01</td>\n",
       "      <td>NaN</td>\n",
       "      <td>9.483149e-01</td>\n",
       "      <td>9.483149e-01</td>\n",
       "      <td>9.483149e-01</td>\n",
       "      <td>9.483149e-01</td>\n",
       "      <td>9.483149e-01</td>\n",
       "    </tr>\n",
       "    <tr>\n",
       "      <th>validation</th>\n",
       "      <td>1.0</td>\n",
       "      <td>9.500905e-01</td>\n",
       "      <td>NaN</td>\n",
       "      <td>9.500905e-01</td>\n",
       "      <td>9.500905e-01</td>\n",
       "      <td>9.500905e-01</td>\n",
       "      <td>9.500905e-01</td>\n",
       "      <td>9.500905e-01</td>\n",
       "    </tr>\n",
       "    <tr>\n",
       "      <th rowspan=\"2\" valign=\"top\">recall (sample weight)</th>\n",
       "      <th>test</th>\n",
       "      <td>1.0</td>\n",
       "      <td>9.454244e-01</td>\n",
       "      <td>NaN</td>\n",
       "      <td>9.454244e-01</td>\n",
       "      <td>9.454244e-01</td>\n",
       "      <td>9.454244e-01</td>\n",
       "      <td>9.454244e-01</td>\n",
       "      <td>9.454244e-01</td>\n",
       "    </tr>\n",
       "    <tr>\n",
       "      <th>validation</th>\n",
       "      <td>1.0</td>\n",
       "      <td>9.469765e-01</td>\n",
       "      <td>NaN</td>\n",
       "      <td>9.469765e-01</td>\n",
       "      <td>9.469765e-01</td>\n",
       "      <td>9.469765e-01</td>\n",
       "      <td>9.469765e-01</td>\n",
       "      <td>9.469765e-01</td>\n",
       "    </tr>\n",
       "    <tr>\n",
       "      <th rowspan=\"10\" valign=\"top\">ner</th>\n",
       "      <th rowspan=\"2\" valign=\"top\">accuracy (sample weight)</th>\n",
       "      <th>test</th>\n",
       "      <td>1.0</td>\n",
       "      <td>9.904884e-01</td>\n",
       "      <td>NaN</td>\n",
       "      <td>9.904884e-01</td>\n",
       "      <td>9.904884e-01</td>\n",
       "      <td>9.904884e-01</td>\n",
       "      <td>9.904884e-01</td>\n",
       "      <td>9.904884e-01</td>\n",
       "    </tr>\n",
       "    <tr>\n",
       "      <th>validation</th>\n",
       "      <td>1.0</td>\n",
       "      <td>9.945115e-01</td>\n",
       "      <td>NaN</td>\n",
       "      <td>9.945115e-01</td>\n",
       "      <td>9.945115e-01</td>\n",
       "      <td>9.945115e-01</td>\n",
       "      <td>9.945115e-01</td>\n",
       "      <td>9.945115e-01</td>\n",
       "    </tr>\n",
       "    <tr>\n",
       "      <th rowspan=\"2\" valign=\"top\">auc (sample weight)</th>\n",
       "      <th>test</th>\n",
       "      <td>1.0</td>\n",
       "      <td>9.942484e-01</td>\n",
       "      <td>NaN</td>\n",
       "      <td>9.942484e-01</td>\n",
       "      <td>9.942484e-01</td>\n",
       "      <td>9.942484e-01</td>\n",
       "      <td>9.942484e-01</td>\n",
       "      <td>9.942484e-01</td>\n",
       "    </tr>\n",
       "    <tr>\n",
       "      <th>validation</th>\n",
       "      <td>1.0</td>\n",
       "      <td>9.940023e-01</td>\n",
       "      <td>NaN</td>\n",
       "      <td>9.940023e-01</td>\n",
       "      <td>9.940023e-01</td>\n",
       "      <td>9.940023e-01</td>\n",
       "      <td>9.940023e-01</td>\n",
       "      <td>9.940023e-01</td>\n",
       "    </tr>\n",
       "    <tr>\n",
       "      <th rowspan=\"2\" valign=\"top\">fscore (sample weight)</th>\n",
       "      <th>test</th>\n",
       "      <td>1.0</td>\n",
       "      <td>9.929194e-01</td>\n",
       "      <td>NaN</td>\n",
       "      <td>9.929194e-01</td>\n",
       "      <td>9.929194e-01</td>\n",
       "      <td>9.929194e-01</td>\n",
       "      <td>9.929194e-01</td>\n",
       "      <td>9.929194e-01</td>\n",
       "    </tr>\n",
       "    <tr>\n",
       "      <th>validation</th>\n",
       "      <td>1.0</td>\n",
       "      <td>9.955877e-01</td>\n",
       "      <td>NaN</td>\n",
       "      <td>9.955877e-01</td>\n",
       "      <td>9.955877e-01</td>\n",
       "      <td>9.955877e-01</td>\n",
       "      <td>9.955877e-01</td>\n",
       "      <td>9.955877e-01</td>\n",
       "    </tr>\n",
       "    <tr>\n",
       "      <th rowspan=\"2\" valign=\"top\">precision (sample weight)</th>\n",
       "      <th>test</th>\n",
       "      <td>1.0</td>\n",
       "      <td>9.959415e-01</td>\n",
       "      <td>NaN</td>\n",
       "      <td>9.959415e-01</td>\n",
       "      <td>9.959415e-01</td>\n",
       "      <td>9.959415e-01</td>\n",
       "      <td>9.959415e-01</td>\n",
       "      <td>9.959415e-01</td>\n",
       "    </tr>\n",
       "    <tr>\n",
       "      <th>validation</th>\n",
       "      <td>1.0</td>\n",
       "      <td>9.970247e-01</td>\n",
       "      <td>NaN</td>\n",
       "      <td>9.970247e-01</td>\n",
       "      <td>9.970247e-01</td>\n",
       "      <td>9.970247e-01</td>\n",
       "      <td>9.970247e-01</td>\n",
       "      <td>9.970247e-01</td>\n",
       "    </tr>\n",
       "    <tr>\n",
       "      <th rowspan=\"2\" valign=\"top\">recall (sample weight)</th>\n",
       "      <th>test</th>\n",
       "      <td>1.0</td>\n",
       "      <td>9.904884e-01</td>\n",
       "      <td>NaN</td>\n",
       "      <td>9.904884e-01</td>\n",
       "      <td>9.904884e-01</td>\n",
       "      <td>9.904884e-01</td>\n",
       "      <td>9.904884e-01</td>\n",
       "      <td>9.904884e-01</td>\n",
       "    </tr>\n",
       "    <tr>\n",
       "      <th>validation</th>\n",
       "      <td>1.0</td>\n",
       "      <td>9.945115e-01</td>\n",
       "      <td>NaN</td>\n",
       "      <td>9.945115e-01</td>\n",
       "      <td>9.945115e-01</td>\n",
       "      <td>9.945115e-01</td>\n",
       "      <td>9.945115e-01</td>\n",
       "      <td>9.945115e-01</td>\n",
       "    </tr>\n",
       "    <tr>\n",
       "      <th rowspan=\"10\" valign=\"top\">pos</th>\n",
       "      <th rowspan=\"2\" valign=\"top\">accuracy (sample weight)</th>\n",
       "      <th>test</th>\n",
       "      <td>1.0</td>\n",
       "      <td>9.067781e-01</td>\n",
       "      <td>NaN</td>\n",
       "      <td>9.067781e-01</td>\n",
       "      <td>9.067781e-01</td>\n",
       "      <td>9.067781e-01</td>\n",
       "      <td>9.067781e-01</td>\n",
       "      <td>9.067781e-01</td>\n",
       "    </tr>\n",
       "    <tr>\n",
       "      <th>validation</th>\n",
       "      <td>1.0</td>\n",
       "      <td>9.118071e-01</td>\n",
       "      <td>NaN</td>\n",
       "      <td>9.118071e-01</td>\n",
       "      <td>9.118071e-01</td>\n",
       "      <td>9.118071e-01</td>\n",
       "      <td>9.118071e-01</td>\n",
       "      <td>9.118071e-01</td>\n",
       "    </tr>\n",
       "    <tr>\n",
       "      <th rowspan=\"2\" valign=\"top\">auc (sample weight)</th>\n",
       "      <th>test</th>\n",
       "      <td>1.0</td>\n",
       "      <td>9.872414e-01</td>\n",
       "      <td>NaN</td>\n",
       "      <td>9.872414e-01</td>\n",
       "      <td>9.872414e-01</td>\n",
       "      <td>9.872414e-01</td>\n",
       "      <td>9.872414e-01</td>\n",
       "      <td>9.872414e-01</td>\n",
       "    </tr>\n",
       "    <tr>\n",
       "      <th>validation</th>\n",
       "      <td>1.0</td>\n",
       "      <td>9.876824e-01</td>\n",
       "      <td>NaN</td>\n",
       "      <td>9.876824e-01</td>\n",
       "      <td>9.876824e-01</td>\n",
       "      <td>9.876824e-01</td>\n",
       "      <td>9.876824e-01</td>\n",
       "      <td>9.876824e-01</td>\n",
       "    </tr>\n",
       "    <tr>\n",
       "      <th rowspan=\"2\" valign=\"top\">fscore (sample weight)</th>\n",
       "      <th>test</th>\n",
       "      <td>1.0</td>\n",
       "      <td>9.101486e-01</td>\n",
       "      <td>NaN</td>\n",
       "      <td>9.101486e-01</td>\n",
       "      <td>9.101486e-01</td>\n",
       "      <td>9.101486e-01</td>\n",
       "      <td>9.101486e-01</td>\n",
       "      <td>9.101486e-01</td>\n",
       "    </tr>\n",
       "    <tr>\n",
       "      <th>validation</th>\n",
       "      <td>1.0</td>\n",
       "      <td>9.137532e-01</td>\n",
       "      <td>NaN</td>\n",
       "      <td>9.137532e-01</td>\n",
       "      <td>9.137532e-01</td>\n",
       "      <td>9.137532e-01</td>\n",
       "      <td>9.137532e-01</td>\n",
       "      <td>9.137532e-01</td>\n",
       "    </tr>\n",
       "    <tr>\n",
       "      <th rowspan=\"2\" valign=\"top\">precision (sample weight)</th>\n",
       "      <th>test</th>\n",
       "      <td>1.0</td>\n",
       "      <td>9.169476e-01</td>\n",
       "      <td>NaN</td>\n",
       "      <td>9.169476e-01</td>\n",
       "      <td>9.169476e-01</td>\n",
       "      <td>9.169476e-01</td>\n",
       "      <td>9.169476e-01</td>\n",
       "      <td>9.169476e-01</td>\n",
       "    </tr>\n",
       "    <tr>\n",
       "      <th>validation</th>\n",
       "      <td>1.0</td>\n",
       "      <td>9.180423e-01</td>\n",
       "      <td>NaN</td>\n",
       "      <td>9.180423e-01</td>\n",
       "      <td>9.180423e-01</td>\n",
       "      <td>9.180423e-01</td>\n",
       "      <td>9.180423e-01</td>\n",
       "      <td>9.180423e-01</td>\n",
       "    </tr>\n",
       "    <tr>\n",
       "      <th rowspan=\"2\" valign=\"top\">recall (sample weight)</th>\n",
       "      <th>test</th>\n",
       "      <td>1.0</td>\n",
       "      <td>9.067781e-01</td>\n",
       "      <td>NaN</td>\n",
       "      <td>9.067781e-01</td>\n",
       "      <td>9.067781e-01</td>\n",
       "      <td>9.067781e-01</td>\n",
       "      <td>9.067781e-01</td>\n",
       "      <td>9.067781e-01</td>\n",
       "    </tr>\n",
       "    <tr>\n",
       "      <th>validation</th>\n",
       "      <td>1.0</td>\n",
       "      <td>9.118071e-01</td>\n",
       "      <td>NaN</td>\n",
       "      <td>9.118071e-01</td>\n",
       "      <td>9.118071e-01</td>\n",
       "      <td>9.118071e-01</td>\n",
       "      <td>9.118071e-01</td>\n",
       "      <td>9.118071e-01</td>\n",
       "    </tr>\n",
       "    <tr>\n",
       "      <th rowspan=\"10\" valign=\"top\">sentiment</th>\n",
       "      <th rowspan=\"2\" valign=\"top\">accuracy (sample weight)</th>\n",
       "      <th>test</th>\n",
       "      <td>1.0</td>\n",
       "      <td>6.841341e-01</td>\n",
       "      <td>NaN</td>\n",
       "      <td>6.841341e-01</td>\n",
       "      <td>6.841341e-01</td>\n",
       "      <td>6.841341e-01</td>\n",
       "      <td>6.841341e-01</td>\n",
       "      <td>6.841341e-01</td>\n",
       "    </tr>\n",
       "    <tr>\n",
       "      <th>validation</th>\n",
       "      <td>1.0</td>\n",
       "      <td>6.688072e-01</td>\n",
       "      <td>NaN</td>\n",
       "      <td>6.688072e-01</td>\n",
       "      <td>6.688072e-01</td>\n",
       "      <td>6.688072e-01</td>\n",
       "      <td>6.688072e-01</td>\n",
       "      <td>6.688072e-01</td>\n",
       "    </tr>\n",
       "    <tr>\n",
       "      <th rowspan=\"2\" valign=\"top\">auc (sample weight)</th>\n",
       "      <th>test</th>\n",
       "      <td>1.0</td>\n",
       "      <td>7.253381e-01</td>\n",
       "      <td>NaN</td>\n",
       "      <td>7.253381e-01</td>\n",
       "      <td>7.253381e-01</td>\n",
       "      <td>7.253381e-01</td>\n",
       "      <td>7.253381e-01</td>\n",
       "      <td>7.253381e-01</td>\n",
       "    </tr>\n",
       "    <tr>\n",
       "      <th>validation</th>\n",
       "      <td>1.0</td>\n",
       "      <td>7.191749e-01</td>\n",
       "      <td>NaN</td>\n",
       "      <td>7.191749e-01</td>\n",
       "      <td>7.191749e-01</td>\n",
       "      <td>7.191749e-01</td>\n",
       "      <td>7.191749e-01</td>\n",
       "      <td>7.191749e-01</td>\n",
       "    </tr>\n",
       "    <tr>\n",
       "      <th rowspan=\"2\" valign=\"top\">fscore (sample weight)</th>\n",
       "      <th>test</th>\n",
       "      <td>1.0</td>\n",
       "      <td>6.841378e-01</td>\n",
       "      <td>NaN</td>\n",
       "      <td>6.841378e-01</td>\n",
       "      <td>6.841378e-01</td>\n",
       "      <td>6.841378e-01</td>\n",
       "      <td>6.841378e-01</td>\n",
       "      <td>6.841378e-01</td>\n",
       "    </tr>\n",
       "    <tr>\n",
       "      <th>validation</th>\n",
       "      <td>1.0</td>\n",
       "      <td>6.688109e-01</td>\n",
       "      <td>NaN</td>\n",
       "      <td>6.688109e-01</td>\n",
       "      <td>6.688109e-01</td>\n",
       "      <td>6.688109e-01</td>\n",
       "      <td>6.688109e-01</td>\n",
       "      <td>6.688109e-01</td>\n",
       "    </tr>\n",
       "    <tr>\n",
       "      <th rowspan=\"2\" valign=\"top\">precision (sample weight)</th>\n",
       "      <th>test</th>\n",
       "      <td>1.0</td>\n",
       "      <td>6.841416e-01</td>\n",
       "      <td>NaN</td>\n",
       "      <td>6.841416e-01</td>\n",
       "      <td>6.841416e-01</td>\n",
       "      <td>6.841416e-01</td>\n",
       "      <td>6.841416e-01</td>\n",
       "      <td>6.841416e-01</td>\n",
       "    </tr>\n",
       "    <tr>\n",
       "      <th>validation</th>\n",
       "      <td>1.0</td>\n",
       "      <td>6.688148e-01</td>\n",
       "      <td>NaN</td>\n",
       "      <td>6.688148e-01</td>\n",
       "      <td>6.688148e-01</td>\n",
       "      <td>6.688148e-01</td>\n",
       "      <td>6.688148e-01</td>\n",
       "      <td>6.688148e-01</td>\n",
       "    </tr>\n",
       "    <tr>\n",
       "      <th rowspan=\"2\" valign=\"top\">recall (sample weight)</th>\n",
       "      <th>test</th>\n",
       "      <td>1.0</td>\n",
       "      <td>6.841341e-01</td>\n",
       "      <td>NaN</td>\n",
       "      <td>6.841341e-01</td>\n",
       "      <td>6.841341e-01</td>\n",
       "      <td>6.841341e-01</td>\n",
       "      <td>6.841341e-01</td>\n",
       "      <td>6.841341e-01</td>\n",
       "    </tr>\n",
       "    <tr>\n",
       "      <th>validation</th>\n",
       "      <td>1.0</td>\n",
       "      <td>6.688072e-01</td>\n",
       "      <td>NaN</td>\n",
       "      <td>6.688072e-01</td>\n",
       "      <td>6.688072e-01</td>\n",
       "      <td>6.688072e-01</td>\n",
       "      <td>6.688072e-01</td>\n",
       "      <td>6.688072e-01</td>\n",
       "    </tr>\n",
       "    <tr>\n",
       "      <th rowspan=\"8\" valign=\"top\">similarity_score</th>\n",
       "      <th rowspan=\"2\" valign=\"top\">pearson corr.</th>\n",
       "      <th>test</th>\n",
       "      <td>1.0</td>\n",
       "      <td>6.336248e-01</td>\n",
       "      <td>NaN</td>\n",
       "      <td>6.336248e-01</td>\n",
       "      <td>6.336248e-01</td>\n",
       "      <td>6.336248e-01</td>\n",
       "      <td>6.336248e-01</td>\n",
       "      <td>6.336248e-01</td>\n",
       "    </tr>\n",
       "    <tr>\n",
       "      <th>validation</th>\n",
       "      <td>1.0</td>\n",
       "      <td>6.929714e-01</td>\n",
       "      <td>NaN</td>\n",
       "      <td>6.929714e-01</td>\n",
       "      <td>6.929714e-01</td>\n",
       "      <td>6.929714e-01</td>\n",
       "      <td>6.929714e-01</td>\n",
       "      <td>6.929714e-01</td>\n",
       "    </tr>\n",
       "    <tr>\n",
       "      <th rowspan=\"2\" valign=\"top\">pearson corr. p</th>\n",
       "      <th>test</th>\n",
       "      <td>1.0</td>\n",
       "      <td>1.118321e-155</td>\n",
       "      <td>NaN</td>\n",
       "      <td>1.118321e-155</td>\n",
       "      <td>1.118321e-155</td>\n",
       "      <td>1.118321e-155</td>\n",
       "      <td>1.118321e-155</td>\n",
       "      <td>1.118321e-155</td>\n",
       "    </tr>\n",
       "    <tr>\n",
       "      <th>validation</th>\n",
       "      <td>1.0</td>\n",
       "      <td>4.252306e-215</td>\n",
       "      <td>NaN</td>\n",
       "      <td>4.252306e-215</td>\n",
       "      <td>4.252306e-215</td>\n",
       "      <td>4.252306e-215</td>\n",
       "      <td>4.252306e-215</td>\n",
       "      <td>4.252306e-215</td>\n",
       "    </tr>\n",
       "    <tr>\n",
       "      <th rowspan=\"2\" valign=\"top\">spearman corr.</th>\n",
       "      <th>test</th>\n",
       "      <td>1.0</td>\n",
       "      <td>6.190004e-01</td>\n",
       "      <td>NaN</td>\n",
       "      <td>6.190004e-01</td>\n",
       "      <td>6.190004e-01</td>\n",
       "      <td>6.190004e-01</td>\n",
       "      <td>6.190004e-01</td>\n",
       "      <td>6.190004e-01</td>\n",
       "    </tr>\n",
       "    <tr>\n",
       "      <th>validation</th>\n",
       "      <td>1.0</td>\n",
       "      <td>7.009003e-01</td>\n",
       "      <td>NaN</td>\n",
       "      <td>7.009003e-01</td>\n",
       "      <td>7.009003e-01</td>\n",
       "      <td>7.009003e-01</td>\n",
       "      <td>7.009003e-01</td>\n",
       "      <td>7.009003e-01</td>\n",
       "    </tr>\n",
       "    <tr>\n",
       "      <th rowspan=\"2\" valign=\"top\">spearman corr. p</th>\n",
       "      <th>test</th>\n",
       "      <td>1.0</td>\n",
       "      <td>1.183670e-146</td>\n",
       "      <td>NaN</td>\n",
       "      <td>1.183670e-146</td>\n",
       "      <td>1.183670e-146</td>\n",
       "      <td>1.183670e-146</td>\n",
       "      <td>1.183670e-146</td>\n",
       "      <td>1.183670e-146</td>\n",
       "    </tr>\n",
       "    <tr>\n",
       "      <th>validation</th>\n",
       "      <td>1.0</td>\n",
       "      <td>4.293119e-222</td>\n",
       "      <td>NaN</td>\n",
       "      <td>4.293119e-222</td>\n",
       "      <td>4.293119e-222</td>\n",
       "      <td>4.293119e-222</td>\n",
       "      <td>4.293119e-222</td>\n",
       "      <td>4.293119e-222</td>\n",
       "    </tr>\n",
       "  </tbody>\n",
       "</table>\n",
       "</div>"
      ],
      "text/plain": [
       "                                                      value                 \\\n",
       "                                                      count           mean   \n",
       "task             metric                    split                             \n",
       "chunk            accuracy (sample weight)  test         1.0   9.454244e-01   \n",
       "                                           validation   1.0   9.469765e-01   \n",
       "                 auc (sample weight)       test         1.0   9.887538e-01   \n",
       "                                           validation   1.0   9.912117e-01   \n",
       "                 fscore (sample weight)    test         1.0   9.466299e-01   \n",
       "                                           validation   1.0   9.482422e-01   \n",
       "                 precision (sample weight) test         1.0   9.483149e-01   \n",
       "                                           validation   1.0   9.500905e-01   \n",
       "                 recall (sample weight)    test         1.0   9.454244e-01   \n",
       "                                           validation   1.0   9.469765e-01   \n",
       "ner              accuracy (sample weight)  test         1.0   9.904884e-01   \n",
       "                                           validation   1.0   9.945115e-01   \n",
       "                 auc (sample weight)       test         1.0   9.942484e-01   \n",
       "                                           validation   1.0   9.940023e-01   \n",
       "                 fscore (sample weight)    test         1.0   9.929194e-01   \n",
       "                                           validation   1.0   9.955877e-01   \n",
       "                 precision (sample weight) test         1.0   9.959415e-01   \n",
       "                                           validation   1.0   9.970247e-01   \n",
       "                 recall (sample weight)    test         1.0   9.904884e-01   \n",
       "                                           validation   1.0   9.945115e-01   \n",
       "pos              accuracy (sample weight)  test         1.0   9.067781e-01   \n",
       "                                           validation   1.0   9.118071e-01   \n",
       "                 auc (sample weight)       test         1.0   9.872414e-01   \n",
       "                                           validation   1.0   9.876824e-01   \n",
       "                 fscore (sample weight)    test         1.0   9.101486e-01   \n",
       "                                           validation   1.0   9.137532e-01   \n",
       "                 precision (sample weight) test         1.0   9.169476e-01   \n",
       "                                           validation   1.0   9.180423e-01   \n",
       "                 recall (sample weight)    test         1.0   9.067781e-01   \n",
       "                                           validation   1.0   9.118071e-01   \n",
       "sentiment        accuracy (sample weight)  test         1.0   6.841341e-01   \n",
       "                                           validation   1.0   6.688072e-01   \n",
       "                 auc (sample weight)       test         1.0   7.253381e-01   \n",
       "                                           validation   1.0   7.191749e-01   \n",
       "                 fscore (sample weight)    test         1.0   6.841378e-01   \n",
       "                                           validation   1.0   6.688109e-01   \n",
       "                 precision (sample weight) test         1.0   6.841416e-01   \n",
       "                                           validation   1.0   6.688148e-01   \n",
       "                 recall (sample weight)    test         1.0   6.841341e-01   \n",
       "                                           validation   1.0   6.688072e-01   \n",
       "similarity_score pearson corr.             test         1.0   6.336248e-01   \n",
       "                                           validation   1.0   6.929714e-01   \n",
       "                 pearson corr. p           test         1.0  1.118321e-155   \n",
       "                                           validation   1.0  4.252306e-215   \n",
       "                 spearman corr.            test         1.0   6.190004e-01   \n",
       "                                           validation   1.0   7.009003e-01   \n",
       "                 spearman corr. p          test         1.0  1.183670e-146   \n",
       "                                           validation   1.0  4.293119e-222   \n",
       "\n",
       "                                                                          \\\n",
       "                                                      std            min   \n",
       "task             metric                    split                           \n",
       "chunk            accuracy (sample weight)  test       NaN   9.454244e-01   \n",
       "                                           validation NaN   9.469765e-01   \n",
       "                 auc (sample weight)       test       NaN   9.887538e-01   \n",
       "                                           validation NaN   9.912117e-01   \n",
       "                 fscore (sample weight)    test       NaN   9.466299e-01   \n",
       "                                           validation NaN   9.482422e-01   \n",
       "                 precision (sample weight) test       NaN   9.483149e-01   \n",
       "                                           validation NaN   9.500905e-01   \n",
       "                 recall (sample weight)    test       NaN   9.454244e-01   \n",
       "                                           validation NaN   9.469765e-01   \n",
       "ner              accuracy (sample weight)  test       NaN   9.904884e-01   \n",
       "                                           validation NaN   9.945115e-01   \n",
       "                 auc (sample weight)       test       NaN   9.942484e-01   \n",
       "                                           validation NaN   9.940023e-01   \n",
       "                 fscore (sample weight)    test       NaN   9.929194e-01   \n",
       "                                           validation NaN   9.955877e-01   \n",
       "                 precision (sample weight) test       NaN   9.959415e-01   \n",
       "                                           validation NaN   9.970247e-01   \n",
       "                 recall (sample weight)    test       NaN   9.904884e-01   \n",
       "                                           validation NaN   9.945115e-01   \n",
       "pos              accuracy (sample weight)  test       NaN   9.067781e-01   \n",
       "                                           validation NaN   9.118071e-01   \n",
       "                 auc (sample weight)       test       NaN   9.872414e-01   \n",
       "                                           validation NaN   9.876824e-01   \n",
       "                 fscore (sample weight)    test       NaN   9.101486e-01   \n",
       "                                           validation NaN   9.137532e-01   \n",
       "                 precision (sample weight) test       NaN   9.169476e-01   \n",
       "                                           validation NaN   9.180423e-01   \n",
       "                 recall (sample weight)    test       NaN   9.067781e-01   \n",
       "                                           validation NaN   9.118071e-01   \n",
       "sentiment        accuracy (sample weight)  test       NaN   6.841341e-01   \n",
       "                                           validation NaN   6.688072e-01   \n",
       "                 auc (sample weight)       test       NaN   7.253381e-01   \n",
       "                                           validation NaN   7.191749e-01   \n",
       "                 fscore (sample weight)    test       NaN   6.841378e-01   \n",
       "                                           validation NaN   6.688109e-01   \n",
       "                 precision (sample weight) test       NaN   6.841416e-01   \n",
       "                                           validation NaN   6.688148e-01   \n",
       "                 recall (sample weight)    test       NaN   6.841341e-01   \n",
       "                                           validation NaN   6.688072e-01   \n",
       "similarity_score pearson corr.             test       NaN   6.336248e-01   \n",
       "                                           validation NaN   6.929714e-01   \n",
       "                 pearson corr. p           test       NaN  1.118321e-155   \n",
       "                                           validation NaN  4.252306e-215   \n",
       "                 spearman corr.            test       NaN   6.190004e-01   \n",
       "                                           validation NaN   7.009003e-01   \n",
       "                 spearman corr. p          test       NaN  1.183670e-146   \n",
       "                                           validation NaN  4.293119e-222   \n",
       "\n",
       "                                                                      \\\n",
       "                                                                 25%   \n",
       "task             metric                    split                       \n",
       "chunk            accuracy (sample weight)  test         9.454244e-01   \n",
       "                                           validation   9.469765e-01   \n",
       "                 auc (sample weight)       test         9.887538e-01   \n",
       "                                           validation   9.912117e-01   \n",
       "                 fscore (sample weight)    test         9.466299e-01   \n",
       "                                           validation   9.482422e-01   \n",
       "                 precision (sample weight) test         9.483149e-01   \n",
       "                                           validation   9.500905e-01   \n",
       "                 recall (sample weight)    test         9.454244e-01   \n",
       "                                           validation   9.469765e-01   \n",
       "ner              accuracy (sample weight)  test         9.904884e-01   \n",
       "                                           validation   9.945115e-01   \n",
       "                 auc (sample weight)       test         9.942484e-01   \n",
       "                                           validation   9.940023e-01   \n",
       "                 fscore (sample weight)    test         9.929194e-01   \n",
       "                                           validation   9.955877e-01   \n",
       "                 precision (sample weight) test         9.959415e-01   \n",
       "                                           validation   9.970247e-01   \n",
       "                 recall (sample weight)    test         9.904884e-01   \n",
       "                                           validation   9.945115e-01   \n",
       "pos              accuracy (sample weight)  test         9.067781e-01   \n",
       "                                           validation   9.118071e-01   \n",
       "                 auc (sample weight)       test         9.872414e-01   \n",
       "                                           validation   9.876824e-01   \n",
       "                 fscore (sample weight)    test         9.101486e-01   \n",
       "                                           validation   9.137532e-01   \n",
       "                 precision (sample weight) test         9.169476e-01   \n",
       "                                           validation   9.180423e-01   \n",
       "                 recall (sample weight)    test         9.067781e-01   \n",
       "                                           validation   9.118071e-01   \n",
       "sentiment        accuracy (sample weight)  test         6.841341e-01   \n",
       "                                           validation   6.688072e-01   \n",
       "                 auc (sample weight)       test         7.253381e-01   \n",
       "                                           validation   7.191749e-01   \n",
       "                 fscore (sample weight)    test         6.841378e-01   \n",
       "                                           validation   6.688109e-01   \n",
       "                 precision (sample weight) test         6.841416e-01   \n",
       "                                           validation   6.688148e-01   \n",
       "                 recall (sample weight)    test         6.841341e-01   \n",
       "                                           validation   6.688072e-01   \n",
       "similarity_score pearson corr.             test         6.336248e-01   \n",
       "                                           validation   6.929714e-01   \n",
       "                 pearson corr. p           test        1.118321e-155   \n",
       "                                           validation  4.252306e-215   \n",
       "                 spearman corr.            test         6.190004e-01   \n",
       "                                           validation   7.009003e-01   \n",
       "                 spearman corr. p          test        1.183670e-146   \n",
       "                                           validation  4.293119e-222   \n",
       "\n",
       "                                                                      \\\n",
       "                                                                 50%   \n",
       "task             metric                    split                       \n",
       "chunk            accuracy (sample weight)  test         9.454244e-01   \n",
       "                                           validation   9.469765e-01   \n",
       "                 auc (sample weight)       test         9.887538e-01   \n",
       "                                           validation   9.912117e-01   \n",
       "                 fscore (sample weight)    test         9.466299e-01   \n",
       "                                           validation   9.482422e-01   \n",
       "                 precision (sample weight) test         9.483149e-01   \n",
       "                                           validation   9.500905e-01   \n",
       "                 recall (sample weight)    test         9.454244e-01   \n",
       "                                           validation   9.469765e-01   \n",
       "ner              accuracy (sample weight)  test         9.904884e-01   \n",
       "                                           validation   9.945115e-01   \n",
       "                 auc (sample weight)       test         9.942484e-01   \n",
       "                                           validation   9.940023e-01   \n",
       "                 fscore (sample weight)    test         9.929194e-01   \n",
       "                                           validation   9.955877e-01   \n",
       "                 precision (sample weight) test         9.959415e-01   \n",
       "                                           validation   9.970247e-01   \n",
       "                 recall (sample weight)    test         9.904884e-01   \n",
       "                                           validation   9.945115e-01   \n",
       "pos              accuracy (sample weight)  test         9.067781e-01   \n",
       "                                           validation   9.118071e-01   \n",
       "                 auc (sample weight)       test         9.872414e-01   \n",
       "                                           validation   9.876824e-01   \n",
       "                 fscore (sample weight)    test         9.101486e-01   \n",
       "                                           validation   9.137532e-01   \n",
       "                 precision (sample weight) test         9.169476e-01   \n",
       "                                           validation   9.180423e-01   \n",
       "                 recall (sample weight)    test         9.067781e-01   \n",
       "                                           validation   9.118071e-01   \n",
       "sentiment        accuracy (sample weight)  test         6.841341e-01   \n",
       "                                           validation   6.688072e-01   \n",
       "                 auc (sample weight)       test         7.253381e-01   \n",
       "                                           validation   7.191749e-01   \n",
       "                 fscore (sample weight)    test         6.841378e-01   \n",
       "                                           validation   6.688109e-01   \n",
       "                 precision (sample weight) test         6.841416e-01   \n",
       "                                           validation   6.688148e-01   \n",
       "                 recall (sample weight)    test         6.841341e-01   \n",
       "                                           validation   6.688072e-01   \n",
       "similarity_score pearson corr.             test         6.336248e-01   \n",
       "                                           validation   6.929714e-01   \n",
       "                 pearson corr. p           test        1.118321e-155   \n",
       "                                           validation  4.252306e-215   \n",
       "                 spearman corr.            test         6.190004e-01   \n",
       "                                           validation   7.009003e-01   \n",
       "                 spearman corr. p          test        1.183670e-146   \n",
       "                                           validation  4.293119e-222   \n",
       "\n",
       "                                                                      \\\n",
       "                                                                 75%   \n",
       "task             metric                    split                       \n",
       "chunk            accuracy (sample weight)  test         9.454244e-01   \n",
       "                                           validation   9.469765e-01   \n",
       "                 auc (sample weight)       test         9.887538e-01   \n",
       "                                           validation   9.912117e-01   \n",
       "                 fscore (sample weight)    test         9.466299e-01   \n",
       "                                           validation   9.482422e-01   \n",
       "                 precision (sample weight) test         9.483149e-01   \n",
       "                                           validation   9.500905e-01   \n",
       "                 recall (sample weight)    test         9.454244e-01   \n",
       "                                           validation   9.469765e-01   \n",
       "ner              accuracy (sample weight)  test         9.904884e-01   \n",
       "                                           validation   9.945115e-01   \n",
       "                 auc (sample weight)       test         9.942484e-01   \n",
       "                                           validation   9.940023e-01   \n",
       "                 fscore (sample weight)    test         9.929194e-01   \n",
       "                                           validation   9.955877e-01   \n",
       "                 precision (sample weight) test         9.959415e-01   \n",
       "                                           validation   9.970247e-01   \n",
       "                 recall (sample weight)    test         9.904884e-01   \n",
       "                                           validation   9.945115e-01   \n",
       "pos              accuracy (sample weight)  test         9.067781e-01   \n",
       "                                           validation   9.118071e-01   \n",
       "                 auc (sample weight)       test         9.872414e-01   \n",
       "                                           validation   9.876824e-01   \n",
       "                 fscore (sample weight)    test         9.101486e-01   \n",
       "                                           validation   9.137532e-01   \n",
       "                 precision (sample weight) test         9.169476e-01   \n",
       "                                           validation   9.180423e-01   \n",
       "                 recall (sample weight)    test         9.067781e-01   \n",
       "                                           validation   9.118071e-01   \n",
       "sentiment        accuracy (sample weight)  test         6.841341e-01   \n",
       "                                           validation   6.688072e-01   \n",
       "                 auc (sample weight)       test         7.253381e-01   \n",
       "                                           validation   7.191749e-01   \n",
       "                 fscore (sample weight)    test         6.841378e-01   \n",
       "                                           validation   6.688109e-01   \n",
       "                 precision (sample weight) test         6.841416e-01   \n",
       "                                           validation   6.688148e-01   \n",
       "                 recall (sample weight)    test         6.841341e-01   \n",
       "                                           validation   6.688072e-01   \n",
       "similarity_score pearson corr.             test         6.336248e-01   \n",
       "                                           validation   6.929714e-01   \n",
       "                 pearson corr. p           test        1.118321e-155   \n",
       "                                           validation  4.252306e-215   \n",
       "                 spearman corr.            test         6.190004e-01   \n",
       "                                           validation   7.009003e-01   \n",
       "                 spearman corr. p          test        1.183670e-146   \n",
       "                                           validation  4.293119e-222   \n",
       "\n",
       "                                                                      \n",
       "                                                                 max  \n",
       "task             metric                    split                      \n",
       "chunk            accuracy (sample weight)  test         9.454244e-01  \n",
       "                                           validation   9.469765e-01  \n",
       "                 auc (sample weight)       test         9.887538e-01  \n",
       "                                           validation   9.912117e-01  \n",
       "                 fscore (sample weight)    test         9.466299e-01  \n",
       "                                           validation   9.482422e-01  \n",
       "                 precision (sample weight) test         9.483149e-01  \n",
       "                                           validation   9.500905e-01  \n",
       "                 recall (sample weight)    test         9.454244e-01  \n",
       "                                           validation   9.469765e-01  \n",
       "ner              accuracy (sample weight)  test         9.904884e-01  \n",
       "                                           validation   9.945115e-01  \n",
       "                 auc (sample weight)       test         9.942484e-01  \n",
       "                                           validation   9.940023e-01  \n",
       "                 fscore (sample weight)    test         9.929194e-01  \n",
       "                                           validation   9.955877e-01  \n",
       "                 precision (sample weight) test         9.959415e-01  \n",
       "                                           validation   9.970247e-01  \n",
       "                 recall (sample weight)    test         9.904884e-01  \n",
       "                                           validation   9.945115e-01  \n",
       "pos              accuracy (sample weight)  test         9.067781e-01  \n",
       "                                           validation   9.118071e-01  \n",
       "                 auc (sample weight)       test         9.872414e-01  \n",
       "                                           validation   9.876824e-01  \n",
       "                 fscore (sample weight)    test         9.101486e-01  \n",
       "                                           validation   9.137532e-01  \n",
       "                 precision (sample weight) test         9.169476e-01  \n",
       "                                           validation   9.180423e-01  \n",
       "                 recall (sample weight)    test         9.067781e-01  \n",
       "                                           validation   9.118071e-01  \n",
       "sentiment        accuracy (sample weight)  test         6.841341e-01  \n",
       "                                           validation   6.688072e-01  \n",
       "                 auc (sample weight)       test         7.253381e-01  \n",
       "                                           validation   7.191749e-01  \n",
       "                 fscore (sample weight)    test         6.841378e-01  \n",
       "                                           validation   6.688109e-01  \n",
       "                 precision (sample weight) test         6.841416e-01  \n",
       "                                           validation   6.688148e-01  \n",
       "                 recall (sample weight)    test         6.841341e-01  \n",
       "                                           validation   6.688072e-01  \n",
       "similarity_score pearson corr.             test         6.336248e-01  \n",
       "                                           validation   6.929714e-01  \n",
       "                 pearson corr. p           test        1.118321e-155  \n",
       "                                           validation  4.252306e-215  \n",
       "                 spearman corr.            test         6.190004e-01  \n",
       "                                           validation   7.009003e-01  \n",
       "                 spearman corr. p          test        1.183670e-146  \n",
       "                                           validation  4.293119e-222  "
      ]
     },
     "execution_count": 93,
     "metadata": {},
     "output_type": "execute_result"
    }
   ],
   "source": [
    "df.groupby(['task', 'metric', 'split']).describe()"
   ]
  },
  {
   "cell_type": "code",
   "execution_count": null,
   "metadata": {},
   "outputs": [],
   "source": []
  }
 ],
 "metadata": {
  "accelerator": "GPU",
  "colab": {
   "provenance": []
  },
  "gpuClass": "standard",
  "kernelspec": {
   "display_name": "Python 3 (ipykernel)",
   "language": "python",
   "name": "python3"
  },
  "language_info": {
   "codemirror_mode": {
    "name": "ipython",
    "version": 3
   },
   "file_extension": ".py",
   "mimetype": "text/x-python",
   "name": "python",
   "nbconvert_exporter": "python",
   "pygments_lexer": "ipython3",
   "version": "3.12.3"
  }
 },
 "nbformat": 4,
 "nbformat_minor": 4
}
